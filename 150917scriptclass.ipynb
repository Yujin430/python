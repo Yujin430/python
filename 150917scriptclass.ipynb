{
 "cells": [
  {
   "cell_type": "code",
   "execution_count": 2,
   "metadata": {
    "collapsed": false
   },
   "outputs": [
    {
     "name": "stdout",
     "output_type": "stream",
     "text": [
      "ac\n",
      "dcba\n",
      "a\n",
      "cb\n"
     ]
    }
   ],
   "source": [
    "\"\"\"\n",
    "1. python에는 double없음\n",
    "\n",
    "2. java에서는 큰 수를 사용하기 위해서 \n",
    "Integer a= new Integer();\n",
    "Integer b=a.multiply(a);\n",
    "처럼 사용함.\n",
    "\n",
    "3. 괄호 안에 나오는건 튜플. divmod는 튜플을 반환함\n",
    "\n",
    "4. 'abcd' 슬라이싱에서\n",
    "s[::-1] 이면 adcb?? dcba?\n",
    "\"\"\"\n",
    "s=\"abcd\"\n",
    "print s[::2]\n",
    "print s[::-1]\n",
    "print s[0::-1]\n",
    "print s[-2:0:-1]\n",
    "\"\"\"\n",
    "5. 문자열을 변경하는건 사실 대치의 의미가 더 맞음\n",
    "t : 파이썬은 비효율적인..\n",
    "\n",
    "\"\"\""
   ]
  },
  {
   "cell_type": "code",
   "execution_count": 8,
   "metadata": {
    "collapsed": false
   },
   "outputs": [
    {
     "name": "stdout",
     "output_type": "stream",
     "text": [
      "[1, 2, 3, 4, 5, 1, 2, 3, 4, 5]\n",
      "[1, 2, 3, 4, 5]\n",
      "[1, 2, 3, 4, 5, 1, 2, 3, 4, 5]\n",
      "[2, 3]\n",
      "[1, 2, 3, 4, 5]\n",
      "[2, 3]\n"
     ]
    }
   ],
   "source": [
    "L=[1,2,3,4,5]\n",
    "print L+L\n",
    "print L\n",
    "Z=L+L\n",
    "print Z\n",
    "print L[1:3]\n",
    "print L\n",
    "X=L[1:3]\n",
    "print X\n",
    "\"\"\"\n",
    "6. print L[1]의 L[1]은 인덱싱 연산이다.\n",
    "L[0]=10 이건 연산이 아니다. 이건 그냥 쳐다보고 있는거야!\n",
    "그 인덱스에 가서 =뒤에 있는걸 대입해서 바꾸는거얌\n",
    "\"\"\""
   ]
  },
  {
   "cell_type": "code",
   "execution_count": 25,
   "metadata": {
    "collapsed": false
   },
   "outputs": [
    {
     "name": "stdout",
     "output_type": "stream",
     "text": [
      "3\n",
      "['three', 'two', 'one']\n",
      "['set', 'dul', 'hana']\n",
      "[('three', 'set'), ('two', 'dul'), ('one', 'hana')]\n",
      "3\n",
      "<type 'tuple'>\n",
      "three\n",
      "set\n",
      "<type 'str'>\n",
      "False\n",
      "True\n",
      "True\n"
     ]
    }
   ],
   "source": [
    "\"\"\"\n",
    "7. range가 리턴해주는 것은 list이다\n",
    "\n",
    "8. 튜플은 그 내용을 변경할 수 없다. \n",
    "t=(1,2,3)\n",
    "t[0]=100 <-이런건 오류 뜸!!!!!!\n",
    "근데 리스트는 변경 가능함!!!!!!\n",
    "\n",
    "9. 사전\n",
    "\"\"\"\n",
    "d={'one' : 'hana', 'two':'dul','three':'set'}\n",
    "print len(d) #원소의 갯수\n",
    "print d.keys()#리턴형은 리스트\n",
    "print d.values()#리턴형은 리스트\n",
    "print d.items()#전체 리턴형은 리스트, 각 원소들은 \"튜플\"임\n",
    "\n",
    "o=d.items()\n",
    "print len(o)\n",
    "print type(o[0])\n",
    "print o[0][0]\n",
    "print o[0][1]\n",
    "print type(o[0][0])#이건 튜플의 인덱싱 연산임. o[0]가 가리키는건 튜플, 그것의 인덱싱\n",
    "\n",
    "\"\"\"\n",
    "9-1. 사전은 키 값으로 인덱싱 연산을 할 수 있음.\n",
    "사전은 순서가 중요하지 않음. 사전에는 순서 개념이 없다고 생각. 랜덤하게.\n",
    "해시함수......해시 값에 따라 저장...?!\n",
    "\"\"\"\n",
    "\n",
    "print 'set' in d#사전에 대한 멤버쉽 테스트\n",
    "print 'set' in d.values()#리스트에 대한 멤버쉽 테스트\n",
    "print 'one' in d\n"
   ]
  },
  {
   "cell_type": "code",
   "execution_count": 30,
   "metadata": {
    "collapsed": false
   },
   "outputs": [
    {
     "name": "stdout",
     "output_type": "stream",
     "text": [
      "<type 'NoneType'>\n"
     ]
    }
   ],
   "source": [
    "\"\"\"\n",
    "10. 자료형은 변경 가능성이 가장 중요.\n",
    "사전이 변경 가능하다고 하는거는\n",
    "d['four']=net\n",
    "d['one']=1 <-이거처럼 변경이 가능하기 때문에......\n",
    "\n",
    "11. 사전은 순서라는 개념이 없다.!!! 키와 밸류의 매핑임\n",
    "\n",
    "\"\"\""
   ]
  },
  {
   "cell_type": "code",
   "execution_count": 52,
   "metadata": {
    "collapsed": false
   },
   "outputs": [
    {
     "name": "stdout",
     "output_type": "stream",
     "text": [
      "<type 'NoneType'>\n",
      "61555008\n",
      "61555008\n",
      "\n",
      "29255656\n",
      "29255656\n",
      "29255680 29255680\n",
      "61554456 61554744\n"
     ]
    }
   ],
   "source": [
    "#12. NONE\n",
    "\n",
    "a=None\n",
    "a\n",
    "#b #<-얘는 주석처리 안하면 오류남!\n",
    "print type(a)\n",
    "\n",
    "#13. id() : 객체의 식별자 확인\n",
    "\n",
    "a = 500\n",
    "b = a\n",
    "print id(a)\n",
    "print id(b)\n",
    "print\n",
    "x = 1\n",
    "y = 1 # 원래는 다르게 나와야 하는데 얘네는 같게 나오네?!!?!?\n",
    "print id(x)\n",
    "print id(y)\n",
    "\"\"\"\n",
    "x=[1]\n",
    "y=[1]\n",
    "print id(x) id(y) 하면 이거는 리스트 객체가 \n",
    "각각 따로 만들어지는거라 주소가 다르게 나옴\n",
    "근데 수치형 자료 1은 걍 만들어두자 해서 하나를 가리켜서 주소가 같게 나옴 \n",
    "수치형 자료라고 해도 숫자 키우면 주소 결국에는 다르게 나온다...\n",
    "\n",
    "천은 다르게 나오고 백은 같음. 오백도 다르게 나온다.\n",
    "256까지 같고 255부터 다르게 나온다. (2^8까지 같음)\n",
    "\"\"\"\n",
    "x=0\n",
    "y=0\n",
    "print id(x), id(y)\n",
    "x=-6#5까지는 같아쓰\n",
    "y=-6\n",
    "print id(x), id(y)\n",
    "\n"
   ]
  },
  {
   "cell_type": "code",
   "execution_count": 54,
   "metadata": {
    "collapsed": false
   },
   "outputs": [
    {
     "name": "stdout",
     "output_type": "stream",
     "text": [
      "True\n",
      "True\n",
      "False\n"
     ]
    }
   ],
   "source": [
    "a = 500\n",
    "b = a\n",
    "print a is b\n",
    "\n",
    "x = 1\n",
    "y = 1\n",
    "print x is y\n",
    "\n",
    "\n",
    "#이게 무지무지 중요한 거얌!!!!!!!!!!!!>< 256까지는 갠춘.\n",
    "x=257\n",
    "y=257\n",
    "print x is y\n",
    "\n",
    "\n",
    "\"\"\"\n",
    "python의 is와 같은게 java의 ==  :  객체의 신원\n",
    "python의 ==와 같은게 java의 _.equals()  :  객체의 값\n",
    "\"\"\""
   ]
  },
  {
   "cell_type": "code",
   "execution_count": 59,
   "metadata": {
    "collapsed": false
   },
   "outputs": [
    {
     "name": "stdout",
     "output_type": "stream",
     "text": [
      "['BooleanType', 'BufferType', 'BuiltinFunctionType', 'BuiltinMethodType', 'ClassType', 'CodeType', 'ComplexType', 'DictProxyType', 'DictType', 'DictionaryType', 'EllipsisType', 'FileType', 'FloatType', 'FrameType', 'FunctionType', 'GeneratorType', 'GetSetDescriptorType', 'InstanceType', 'IntType', 'LambdaType', 'ListType', 'LongType', 'MemberDescriptorType', 'MethodType', 'ModuleType', 'NoneType', 'NotImplementedType', 'ObjectType', 'SliceType', 'StringType', 'StringTypes', 'TracebackType', 'TupleType', 'TypeType', 'UnboundMethodType', 'UnicodeType', 'XRangeType', '__builtins__', '__doc__', '__file__', '__name__', '__package__']\n",
      "<type 'bool'>\n",
      "True\n",
      "True\n",
      "True\n",
      "True\n",
      "True\n",
      "True\n",
      "<type 'type'>\n"
     ]
    }
   ],
   "source": [
    "#보충\n",
    "import types\n",
    "print dir(types)\n",
    "\n",
    "a=1#1은 리터럴\n",
    "a=True#True도 리터럴\n",
    "a=False#False도 리터럴\n",
    "print type(a)\n",
    "\n",
    "print type(123) is types.IntType\n",
    "print type(123.0) is types.FloatType\n",
    "print type('abc') is types.StringType\n",
    "print type([]) is types.ListType\n",
    "print type(()) is types.TupleType\n",
    "print type({}) is types.DictionaryType\n",
    "\n",
    "\n",
    "print type(type(1))\n",
    "#이거는 \"타입\"이라는 타입임...\n",
    "#type이 리턴해주는 타입은 : \"타입\""
   ]
  },
  {
   "cell_type": "code",
   "execution_count": 60,
   "metadata": {
    "collapsed": false
   },
   "outputs": [
    {
     "name": "stdout",
     "output_type": "stream",
     "text": [
      "True\n"
     ]
    }
   ],
   "source": [
    "\"\"\"\n",
    " print type(123) is types.IntType -> 이렇게만 쓰면 오류\n",
    " types가 정의 안되어 있으니까 import types를 해주어야함\n",
    "\"\"\"\n",
    "import types\n",
    "print type(123) is types.IntType"
   ]
  },
  {
   "cell_type": "code",
   "execution_count": 61,
   "metadata": {
    "collapsed": true
   },
   "outputs": [],
   "source": [
    "x = y = z = 100\n",
    "del x #이렇게 하면 x만 사라지고 100은 남아 있어야함, Reference Count 3->2\n",
    "\n",
    "x=y=z=10000\n",
    "del x\n",
    "del y\n",
    "del z #이러면 만은 쓰레기 값이 되어서(레퍼런스 카운트 0)사라지게 될 것임\n",
    "\n",
    "#  %cls : cmd 화면을 깨끗이 지워줌"
   ]
  },
  {
   "cell_type": "code",
   "execution_count": 65,
   "metadata": {
    "collapsed": false
   },
   "outputs": [
    {
     "data": {
      "text/plain": [
       "3"
      ]
     },
     "execution_count": 65,
     "metadata": {},
     "output_type": "execute_result"
    }
   ],
   "source": [
    "import sys\n",
    "a1=980324\n",
    "# sys.get 까지 쓰고 탭을 누르면 그거로 시작하는 모든것들을 보여줌!! TAB\n",
    "sys.getrefcount(a1)\n",
    "\"\"\"\n",
    "원래 개념적으로는 1이 나와야 하는데 지금 숨어서 가리키고 있는 인터프리터가\n",
    "무언가가 있는 것이다.\n",
    "\"\"\""
   ]
  },
  {
   "cell_type": "code",
   "execution_count": null,
   "metadata": {
    "collapsed": true
   },
   "outputs": [],
   "source": []
  }
 ],
 "metadata": {
  "kernelspec": {
   "display_name": "Python 2",
   "language": "python",
   "name": "python2"
  },
  "language_info": {
   "codemirror_mode": {
    "name": "ipython",
    "version": 2
   },
   "file_extension": ".py",
   "mimetype": "text/x-python",
   "name": "python",
   "nbconvert_exporter": "python",
   "pygments_lexer": "ipython2",
   "version": "2.7.9"
  }
 },
 "nbformat": 4,
 "nbformat_minor": 0
}
