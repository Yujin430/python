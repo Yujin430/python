{
 "cells": [
  {
   "cell_type": "markdown",
   "metadata": {},
   "source": [
    "###수업 보충 <비트 연산자>"
   ]
  },
  {
   "cell_type": "code",
   "execution_count": 8,
   "metadata": {
    "collapsed": false
   },
   "outputs": [
    {
     "name": "stdout",
     "output_type": "stream",
     "text": [
      "2\n",
      "0b11\n",
      "12\n",
      "4\n",
      "0b1100\n"
     ]
    }
   ],
   "source": [
    "a=3\n",
    "print a.bit_length()\n",
    "#3이 이진법으로 표현될 때 몇개의 비트가 필요한가(몇자리의 이진법 수인가......?)\n",
    "print bin(a)\n",
    "#해당 수치를 2진수로 변환, 출력의 0b는 이진수임을 말해주는 것임\n",
    "\"\"\"\n",
    "a=3이라는 문장을...\n",
    "자바는 무조건 인트에 32비트가 잡힘.\n",
    "C언어는 인트에 32비트 컴이면 32비트, 64비트 컴이면 64비트가 잡힘.(운영체제 따라 다름)\n",
    "파이썬은 2비트밖에 안잡힘. -> 파이썬은 들어오는 값에 따라서 잡히는 메모리 값도 달라짐\n",
    "\"\"\"\n",
    "print\n",
    "b=a<<2 #비트 2개를 왼쪽으로 옮겨라(두번 옮겨라) 그럼 1100이 되겠구나 이게 b에 들어가게 됨\n",
    "print b\n",
    "print b.bit_length()\n",
    "print bin(b)"
   ]
  },
  {
   "cell_type": "code",
   "execution_count": 11,
   "metadata": {
    "collapsed": false
   },
   "outputs": [
    {
     "name": "stdout",
     "output_type": "stream",
     "text": [
      "340282366920938463463374607431768211456\n",
      "340282366920938463463374607431768211456\n",
      "\n",
      "680564733841876926926749214863536422912\n",
      "680564733841876926926749214863536422912\n"
     ]
    }
   ],
   "source": [
    "print 1<<128 #2의 128승임...\n",
    "print 2**128\n",
    "print\n",
    "print 2<<128\n",
    "print 2*2**128"
   ]
  },
  {
   "cell_type": "code",
   "execution_count": 12,
   "metadata": {
    "collapsed": false
   },
   "outputs": [
    {
     "name": "stdout",
     "output_type": "stream",
     "text": [
      "2\n",
      "2\n"
     ]
    }
   ],
   "source": [
    "c = 4            #\"0000 0100\"\n",
    "print c >> 1     #\"0000 0010\", 왼쪽에도 0으로 채워짐, 4 / 2 ** 1과 동일\n",
    "d = 16\n",
    "print d >> 3     #16 / 2 ** 3과 동일 \n",
    "#<<는 곱하기 >>는 나누기의 느낌임"
   ]
  },
  {
   "cell_type": "code",
   "execution_count": 14,
   "metadata": {
    "collapsed": false
   },
   "outputs": [
    {
     "name": "stdout",
     "output_type": "stream",
     "text": [
      "-2\n"
     ]
    }
   ],
   "source": [
    "e=-4\n",
    "print e>>1 #-를 표현하는 방식인 2의 보수........이거 한번 참고삼아 공부하기......"
   ]
  },
  {
   "cell_type": "markdown",
   "metadata": {},
   "source": [
    "& : 비트 단위 AND\n",
    "\n",
    "| : 비트 단위 OR\n",
    "\n",
    "^ : 비트 단위 XOR"
   ]
  },
  {
   "cell_type": "code",
   "execution_count": 16,
   "metadata": {
    "collapsed": false
   },
   "outputs": [
    {
     "name": "stdout",
     "output_type": "stream",
     "text": [
      "2\n",
      "11\n",
      "9\n"
     ]
    }
   ],
   "source": [
    "f=3\n",
    "print f & 2         #0000 0011 bit_and 0000 0010 = 0000 0010\n",
    "print f | 8         #0000 0011 bit_or 0000 1000 = 0000 1011\n",
    "print 0x0f ^ 0x06   #0000 1111 exclusive_or 0000 0110 = 0000 1001"
   ]
  },
  {
   "cell_type": "code",
   "execution_count": 24,
   "metadata": {
    "collapsed": false
   },
   "outputs": [
    {
     "name": "stdout",
     "output_type": "stream",
     "text": [
      "['In', 'Out', '_', '_17', '_19', '_20', '_22', '_23', '__', '___', '__builtin__', '__builtins__', '__doc__', '__name__', '_dh', '_i', '_i1', '_i10', '_i11', '_i12', '_i13', '_i14', '_i15', '_i16', '_i17', '_i18', '_i19', '_i2', '_i20', '_i21', '_i22', '_i23', '_i24', '_i3', '_i4', '_i5', '_i6', '_i7', '_i8', '_i9', '_ih', '_ii', '_iii', '_oh', '_sh', 'a', 'add', 'b', 'c', 'd', 'e', 'exit', 'f', 'get_ipython', 'quit']\n",
      "\n",
      "<type 'function'>\n"
     ]
    },
    {
     "data": {
      "text/plain": [
       "<function __main__.add>"
      ]
     },
     "execution_count": 24,
     "metadata": {},
     "output_type": "execute_result"
    }
   ],
   "source": [
    "def add(a,b):\n",
    "    return a+b\n",
    "print dir() # add가 들어가있음을확인가능\n",
    "print \n",
    "print type(add)\n",
    "add#add가 뭔지 알려줌..."
   ]
  },
  {
   "cell_type": "code",
   "execution_count": 25,
   "metadata": {
    "collapsed": false
   },
   "outputs": [
    {
     "name": "stdout",
     "output_type": "stream",
     "text": [
      "(1, 2)\n",
      "<type 'tuple'>\n"
     ]
    }
   ],
   "source": [
    "a=1,2 #이게 되다니!!!!!! 튜플로 들어감~~~~~~\n",
    "print a\n",
    "print type(a)"
   ]
  },
  {
   "cell_type": "code",
   "execution_count": 26,
   "metadata": {
    "collapsed": true
   },
   "outputs": [],
   "source": [
    "#콘솔창에서는 붙여넣기 할 때 %paste사용\n",
    "\n",
    "import turtle\n",
    "\n",
    "t = turtle.Turtle() #대문자 터틀은 클래스의 생성자임!!!!!!!\n",
    "t.pensize(3)             # 펜 사이즈를 3으로 설정한다.\n",
    "t.penup()                # 펜을 종이로 부터 들어올린다.(더이상 그림이 그려지지 않음)\n",
    "t.goto(-200, -50)        # 해당 좌표로 이동한다.(좌표는 가운데가 0,0임 좌표평면처럼)\n",
    "t.pendown()              # 펜을 종이에 놓는다.\n",
    "t.circle(40, steps=3)    # 반지름이 40인 원을 3 step으로만 그린다. ==> 삼각형이 그려짐\n",
    "#점을 세개만 찍어서 그려라! 니까 정삼각형이 그려지게 됨.\n",
    "\n",
    "t.penup()\n",
    "t.goto(-100, -50)\n",
    "t.pendown()\n",
    "t.circle(40, steps=4)\n",
    "\n",
    "t.penup()\n",
    "t.goto(0, -50)\n",
    "t.pendown()\n",
    "t.circle(40, steps=5)\n",
    "\n",
    "t.penup()\n",
    "t.goto(100, -50)\n",
    "t.pendown()\n",
    "t.circle(40, steps=6)\n",
    "\n",
    "t.penup()\n",
    "t.goto(200, -50)\n",
    "t.pendown()\n",
    "t.circle(40, steps=40)\n",
    "#원처럼 보이지만 정확히는 정사십각형임!\n",
    "#이거 아이파이썬에서 실행하면 됨!!!!!! 여기선 안돼는거같넹.."
   ]
  },
  {
   "cell_type": "code",
   "execution_count": 27,
   "metadata": {
    "collapsed": false
   },
   "outputs": [
    {
     "name": "stdout",
     "output_type": "stream",
     "text": [
      "Hello! What is your name?\n",
      "Yujin\n",
      "Well, Yujin, I am thinking of a number between 1 and 20.\n",
      "Take a guess.\n",
      "6\n",
      "Your guess is too low.\n",
      "Take a guess.\n",
      "15\n",
      "Your guess is too low.\n",
      "Take a guess.\n",
      "18\n",
      "Good job, Yujin! You guessed my number in 3 guesses!\n"
     ]
    }
   ],
   "source": [
    "# This is a guess the number game.\n",
    "import random\n",
    "\n",
    "guessesTaken = 0\n",
    "\n",
    "print('Hello! What is your name?')\n",
    "myName = raw_input()#이름을 가져온다.\n",
    "\n",
    "number = random.randint(1, 20) #1과 20을 포함한 수 중에서 랜덤으로 하나의 정수를 가져온당\n",
    "# return random integer in range [a, b], including both end points.\n",
    "print('Well, ' + myName + ', I am thinking of a number between 1 and 20.')\n",
    "\n",
    "while guessesTaken < 6: #이 게임은 여섯번 이상은 시도하지 못하게 함\n",
    "    print('Take a guess.') \n",
    "    guess = int(input())\n",
    "\n",
    "    guessesTaken = guessesTaken + 1\n",
    "\n",
    "    if guess < number:\n",
    "        print('Your guess is too low.')\n",
    "\n",
    "    if guess > number:\n",
    "        print('Your guess is too high.')\n",
    "\n",
    "    if guess == number:\n",
    "        break\n",
    "\n",
    "if guess == number:\n",
    "    guessesTaken = str(guessesTaken) #guessesTaken을 문자열로 바꾼 다음에 같이 출력해줌.\n",
    "    print('Good job, ' + myName + '! You guessed my number in ' + guessesTaken + ' guesses!')\n",
    "\n",
    "if guess != number:\n",
    "    number = str(number)\n",
    "    print('Nope. The number I was thinking of was ' + number)"
   ]
  },
  {
   "cell_type": "code",
   "execution_count": 31,
   "metadata": {
    "collapsed": false
   },
   "outputs": [
    {
     "name": "stdout",
     "output_type": "stream",
     "text": [
      "1443065315.74\n",
      "totalSeconds - 1443065315\n",
      "totalMinutes - 24051088\n",
      "totalHours - 400851\n",
      "현재 시각은 3 : 28 : 35 GMT 입니다.\n"
     ]
    }
   ],
   "source": [
    "import time\n",
    "\n",
    "currentTime = time.time()           # Unix Epoch 부터 현재까지 경과된 시각을 GMT/UST 기준 및 ms 단위로 얻어온다.\n",
    "print currentTime\n",
    "\n",
    "totalSeconds = int(currentTime)     # 1970년 1월 1일 0시 이후부터 현재시각까지의 전체 초 값을 얻어온다.\n",
    "print \"totalSeconds -\", totalSeconds\n",
    "currentSecond = totalSeconds % 60   # 현재 시각의 초 값을 얻어온다.\n",
    "\n",
    "totalMinutes = totalSeconds // 60   # 전체 분 값을 계산한다. \n",
    "print \"totalMinutes -\", totalMinutes\n",
    "currentMinute = totalMinutes % 60   # 현재 시각의 분 값을 얻어온다.\n",
    "\n",
    "totalHours = totalMinutes // 60      # 전체 시 값을 계산한다.\n",
    "print \"totalHours -\", totalHours\n",
    "currentHours = totalHours % 24      # 현재 시각의 시 값을 얻어온다.\n",
    "\n",
    "print \"현재 시각은\", currentHours, \":\", currentMinute, \":\", currentSecond, \"GMT 입니다.\"\n",
    "\n",
    "\n",
    "\n"
   ]
  },
  {
   "cell_type": "code",
   "execution_count": 50,
   "metadata": {
    "collapsed": false
   },
   "outputs": [
    {
     "name": "stdout",
     "output_type": "stream",
     "text": [
      "1443066234.22\n",
      "1443066234\n",
      "54\n",
      "24051103\n",
      "43\n",
      "400851\n",
      "3\n",
      "('\\xb4\\xeb\\xc7\\xd1\\xb9\\xce\\xb1\\xb9 \\xc7\\xa5\\xc1\\xd8\\xbd\\xc3', '\\xb4\\xeb\\xc7\\xd1\\xb9\\xce\\xb1\\xb9 \\xc0\\xcf\\xb1\\xa4 \\xc0\\xfd\\xbe\\xe0 \\xbd\\xc3\\xb0\\xa3')\n",
      "\n",
      "time.struct_time(tm_year=2015, tm_mon=9, tm_mday=24, tm_hour=12, tm_min=43, tm_sec=54, tm_wday=3, tm_yday=267, tm_isdst=0)\n",
      "\n",
      "12\n",
      "9\n"
     ]
    }
   ],
   "source": [
    "import time\n",
    "currentTime=time.time()#이거 콘솔에서 다시부르고 다시 출력하고 그러면 출력되는 시간이 바뀔거얌...ㅎㅎㅎㅎ\n",
    "#모든 언어가 어느 일정 시간을 기준으로 계산함..... 유닉스 에포크 (1970년 1월 1일 0시)\n",
    "print currentTime #출력의 . 전은 걍 초, 뒤는 밀리세크.\n",
    "\n",
    "totalSeconds = int(currentTime)\n",
    "print totalSeconds # 이렇게 하면 초만 가져오게 됨...!!!\n",
    "\n",
    "currentSecond=totalSeconds%60#현시각의 초만 뽑아내는 것임\n",
    "#print cu이거 콘솔에서는 줄인것도 출력되는데, 여기서는 안돼넹....\n",
    "print currentSecond \n",
    "\n",
    "totalMinutes=totalSeconds//60\n",
    "#print tot이거두 콘솔에서만 됨\n",
    "print totalMinutes #현재까지의 분....\n",
    "currentMinute=totalMinutes%60\n",
    "print currentMinute #현시각의 분만 뽑아내는 것임\n",
    "\n",
    "totalHours=totalMinutes//60\n",
    "print totalHours #현재까지 몇 시간이나 흘렀는가....\n",
    "currentHours = totalHours%24 #현재 시각....\n",
    "print currentHours #그리니치 평균시로 나오게 됨......\n",
    "\"\"\"\n",
    "GMT시간 기준. 그리니치 천문대 평균시. 그 시간을 0시를 기준으로 삼아서 결정.\n",
    "\"\"\"\n",
    "\n",
    "print time.tzname #이게 ipython에서는 출력이 요상하게 찍히네ㅠㅠㅠㅠㅠ\n",
    "print\n",
    "localtime = time.localtime()\n",
    "print localtime\n",
    "\"\"\"\n",
    "print time.tzname\n",
    "print\n",
    "localtime = time.localtime()\n",
    "print localtime\n",
    "---------------------\n",
    "('KST', 'KST')\n",
    "\n",
    "time.struct_time(tm_year=2015, tm_mon=9, tm_mday=22, tm_hour=21, tm_min=53, tm_sec=59, tm_wday=1, tm_yday=265, tm_isdst=0)\n",
    "\n",
    "\"\"\"\n",
    "print\n",
    "print localtime.tm_hour#우리나라기준 현재시간~~~~~~\n",
    "print localtime.tm_hour-currentHours #그리니치시랑 우리시간 차이 알려주는거~~~\n",
    "#우리나라의 타임존 이름은 KST"
   ]
  },
  {
   "cell_type": "code",
   "execution_count": null,
   "metadata": {
    "collapsed": true
   },
   "outputs": [],
   "source": []
  }
 ],
 "metadata": {
  "kernelspec": {
   "display_name": "Python 2",
   "language": "python",
   "name": "python2"
  },
  "language_info": {
   "codemirror_mode": {
    "name": "ipython",
    "version": 2
   },
   "file_extension": ".py",
   "mimetype": "text/x-python",
   "name": "python",
   "nbconvert_exporter": "python",
   "pygments_lexer": "ipython2",
   "version": "2.7.9"
  }
 },
 "nbformat": 4,
 "nbformat_minor": 0
}
