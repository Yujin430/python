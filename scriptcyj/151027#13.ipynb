{
 "cells": [
  {
   "cell_type": "markdown",
   "metadata": {},
   "source": [
    "- 파일을 열어서 읽고, 쓰고, 덧붙이는 방법\n",
    "\n",
    "  - open(filename, mode) 내장 함수로 filename 이름을 지닌 file 객체를 얻는다.\n",
    "  - 얻어진 파일 객체에서 자료를 읽거나, 쓰거나, 덧붙이는 작업 수행\n",
    "  - 모드 생략시에는 읽기전용으로 읽어짐\n",
    "  - 모든 작업이 끝나면 close()를 호출하여 작업 프로세스의 자원 점유 해제\n",
    "  - open함수를 쓰면 항상 close함수를 같이 써야됨\n",
    " \n",
    "- 읽기모드는 파일이 존재하지 않으면 에러뜸!\n",
    "- read라는 메소드를 사용 시 파일 포인터 위치를 읽게 됨.\n",
    "- a는 affend의 약자로 이미 존재하는 내용 뒤에 수정하여 추가함\n",
    "- rb wb ab는 이진파일 형태임\n",
    "- 이진파일이 일반 파일보다 크기가 작음\n"
   ]
  },
  {
   "cell_type": "code",
   "execution_count": 1,
   "metadata": {
    "collapsed": false
   },
   "outputs": [
    {
     "name": "stdout",
     "output_type": "stream",
     "text": [
      "C:\\Users\\Yujin\\Documents\\git\\python\\scriptcyj\n"
     ]
    }
   ],
   "source": [
    "import os\n",
    "\n",
    "print os.getcwd()\n",
    "#cwd - current working directory\n",
    "#현재 작업중인 폴더를 알아보는 함수"
   ]
  },
  {
   "cell_type": "code",
   "execution_count": 2,
   "metadata": {
    "collapsed": false
   },
   "outputs": [
    {
     "name": "stdout",
     "output_type": "stream",
     "text": [
      "<type 'file'>\n"
     ]
    }
   ],
   "source": [
    "s = \"\"\"Its power: Python developers typically report \n",
    "they are able to develop applications in a half\n",
    "to a tenth the amount of time it takes them to do\n",
    "the same work in such languages as C.\"\"\"\n",
    "f = open('t.txt', 'w')#mode가 w니까 파일이 쓰기전용으로 읽음.\n",
    "#open 내장함수가 반환하고 있는 객체가 파일 객체임\n",
    "print type(f)\n",
    "f.write(s) #문자열을 파일에 기록\n",
    "#f에게 write라는 메세지를 보내는 것임\n",
    "f.close()"
   ]
  },
  {
   "cell_type": "code",
   "execution_count": 3,
   "metadata": {
    "collapsed": false
   },
   "outputs": [
    {
     "name": "stdout",
     "output_type": "stream",
     "text": [
      "Its power: Python developers typically report \n",
      "they are able to develop applications in a half\n",
      "to a tenth the amount of time it takes them to do\n",
      "the same work in such languages as C.\n"
     ]
    }
   ],
   "source": [
    "f = open('t.txt')#모드가 안쓰여있기때문에 읽기모\n",
    "#file은 file객체를 직접 만드는 건데 내장함수 open을 이용하는게 더 좋음\n",
    "# f = open('t.txt', 'r')과 f=file('t.txt')동일\n",
    "s = f.read()#f라는 변수 내에 파일내용 전체를 가져와 문자열 할당\n",
    "print s\n",
    "f.close()#파일이 자원을 점유하고 있는것을 해제\n",
    "#물론 프로그램이 종료되면 자동으로 close가 불려지지만\n",
    "#명시적으로 적어두는게 더 좋음"
   ]
  },
  {
   "cell_type": "code",
   "execution_count": 4,
   "metadata": {
    "collapsed": false
   },
   "outputs": [
    {
     "name": "stdout",
     "output_type": "stream",
     "text": [
      "1 : Its power: Python developers typically report \n",
      "2 : they are able to develop applications in a half\n",
      "3 : to a tenth the amount of time it takes them to do\n",
      "4 : the same work in such languages as C.\n"
     ]
    }
   ],
   "source": [
    "#1. 파일 객체의 반복자 사용\n",
    "f = open('t.txt')\n",
    "i = 1\n",
    "for line in f:#파일 객체는 라인별로 들어가게 됨...\n",
    "    print i, \":\", line,#파일의 줄별로...!!!\n",
    "    i += 1\n",
    "f.close()"
   ]
  },
  {
   "cell_type": "code",
   "execution_count": 5,
   "metadata": {
    "collapsed": false
   },
   "outputs": [
    {
     "name": "stdout",
     "output_type": "stream",
     "text": [
      "1 : Its power: Python developers typically report \n",
      "2 : they are able to develop applications in a half\n",
      "3 : to a tenth the amount of time it takes them to do\n",
      "4 : the same work in such languages as C.\n"
     ]
    }
   ],
   "source": [
    "#2. readline()\n",
    "# 현재의 파일포인터에서 개행문자까지 읽는 함수\n",
    "f = open('t.txt')\n",
    "line = f.readline()\n",
    "i = 1\n",
    "while line:#line에 내용이 존재하면 True라 계속 돌 것임\n",
    "    print i, \":\", line,\n",
    "    line = f.readline()\n",
    "    i += 1\n",
    "f.close()\n",
    "#이거보다는 for in 구문을 사용하는게 더 나음"
   ]
  },
  {
   "cell_type": "code",
   "execution_count": 7,
   "metadata": {
    "collapsed": false
   },
   "outputs": [
    {
     "name": "stdout",
     "output_type": "stream",
     "text": [
      "['Its power: Python developers typically report \\n', 'they are able to develop applications in a half\\n', 'to a tenth the amount of time it takes them to do\\n', 'the same work in such languages as C.']\n",
      "\n",
      "1 : Its power: Python developers typically report \n",
      "2 : they are able to develop applications in a half\n",
      "3 : to a tenth the amount of time it takes them to do\n",
      "4 : the same work in such languages as C.\n"
     ]
    }
   ],
   "source": [
    "#3. readlinse()사용\n",
    "f = open('t.txt')\n",
    "print f.readlines()#리스트를 반환함\n",
    "#리스트 안의 원소는 개행문자까지 포함하고 있는 한 라인임.\n",
    "#메모리를 비효율적으로 사용함\n",
    "print\n",
    "\n",
    "f.seek(0)#파일 포인터를 처음으로 되돌려줌\n",
    "#f.readlinse()하면 파일포인터가 젤 마지막에 위치함, 그래서 되돌려줌\n",
    "i = 1\n",
    "for line in f.readlines():\n",
    "    print i, \":\", line,\n",
    "    i += 1\n",
    "f.close()"
   ]
  },
  {
   "cell_type": "markdown",
   "metadata": {},
   "source": [
    "xreadlines(): readlines()과 유사하지만 파일 전체를 한꺼번에 읽지 않고, 상황별로 필요한 라인만 읽는다. 대용량의 파일을 for 문 등으로 라인 단위로 읽을 때 효율적이다.\n",
    "->상황은 코딩을 통해 노하우를 알아두어야함"
   ]
  },
  {
   "cell_type": "code",
   "execution_count": 9,
   "metadata": {
    "collapsed": false
   },
   "outputs": [
    {
     "name": "stdout",
     "output_type": "stream",
     "text": [
      "<open file 't.txt', mode 'r' at 0x00000000038248A0>\n",
      "\n",
      "1 : Its power: Python developers typically report \n",
      "2 : they are able to develop applications in a half\n",
      "3 : to a tenth the amount of time it takes them to do\n",
      "4 : the same work in such languages as C.\n"
     ]
    }
   ],
   "source": [
    "#4. xreadlinse()\n",
    "#메모리의 비효율적 사용을 개선할 수 있는 함수\n",
    "f = open('t.txt')\n",
    "print f.xreadlines()#리스트가 반환되지 않고 파일객체 내용이 찍힘\n",
    "print\n",
    "\n",
    "f.seek(0)\n",
    "i = 1\n",
    "for line in f.xreadlines():#첫번째 상황, for~in 구문\n",
    "    #xreadlines() 전체 X, 라인별 O ->효과적인 메모리 사용\n",
    "    print i, \":\", line,\n",
    "    i += 1\n",
    "f.close()\n",
    "#첫번째 방법 아니면 마지막 방법을 사용하자!!!"
   ]
  },
  {
   "cell_type": "code",
   "execution_count": 11,
   "metadata": {
    "collapsed": false
   },
   "outputs": [
    {
     "name": "stdout",
     "output_type": "stream",
     "text": [
      "first line\n",
      "second line\n",
      "third line\n",
      "\n"
     ]
    }
   ],
   "source": [
    "lines = ['first line\\n', 'second line\\n', 'third line\\n']\n",
    "#각각의 라인을 입력할 때, \\n은 필수임!(자동개행안됨)\n",
    "f = open('t1.txt', 'w')\n",
    "f.writelines(lines)#각각의 문자열을 라인 단위로 출력\n",
    "f.close()\n",
    "\n",
    "f = open('t1.txt')\n",
    "#f.seek(0)의미 x\n",
    "print f.read()#전체내용을 다 읽음\n",
    "f.close()"
   ]
  },
  {
   "cell_type": "code",
   "execution_count": 12,
   "metadata": {
    "collapsed": false
   },
   "outputs": [
    {
     "name": "stdout",
     "output_type": "stream",
     "text": [
      "first line\n",
      "second line\n",
      "third line\n"
     ]
    }
   ],
   "source": [
    "lines = ['first line', 'second line', 'third line']\n",
    "f = open('t1.txt', 'w')\n",
    "f.write('\\n'.join(lines))\n",
    "#라인에 존재하는 원소를 \\n로 이어주는것\n",
    "f.close()\n",
    "\n",
    "f = open('t1.txt')\n",
    "print f.read()\n",
    "f.close()"
   ]
  },
  {
   "cell_type": "code",
   "execution_count": 13,
   "metadata": {
    "collapsed": false
   },
   "outputs": [
    {
     "name": "stdout",
     "output_type": "stream",
     "text": [
      "35\n"
     ]
    }
   ],
   "source": [
    "f = open('t.txt')\n",
    "s = f.read()#전체 내용을 다 들고온것\n",
    "n = len(s.split())#공백문자를 기준으로 문자를 잘라 리스트로 만듦\n",
    "#리스트 안에 존재하는 원소의 갯수\n",
    "print n\n",
    "f.close()"
   ]
  },
  {
   "cell_type": "code",
   "execution_count": 14,
   "metadata": {
    "collapsed": true
   },
   "outputs": [],
   "source": [
    "f = open('removeme.txt', 'w')#파일의 생성\n",
    "f.write('first line\\n')\n",
    "f.write('second line\\n')\n",
    "f.close()"
   ]
  },
  {
   "cell_type": "code",
   "execution_count": 16,
   "metadata": {
    "collapsed": false
   },
   "outputs": [
    {
     "name": "stdout",
     "output_type": "stream",
     "text": [
      "first line\n",
      "second line\n",
      "third line\n",
      "\n"
     ]
    }
   ],
   "source": [
    "f = open('removeme.txt', 'a')#파일 추가 모드로 오픈\n",
    "#새로운 파일 추가시 'a'모드를 사용\n",
    "f.write('third line\\n')\n",
    "#현재 존재하는 파일 내용의 맨 뒤에 내용이 삽입됨.\n",
    "f.close()\n",
    "\n",
    "f = open('removeme.txt')#파일 읽기\n",
    "print f.read()"
   ]
  },
  {
   "cell_type": "markdown",
   "metadata": {},
   "source": [
    "- 파일 포인터 (pointer)\n",
    "  - 파일 내에서 현재 위치를 가리키고 있음\n",
    "  - r, w는 첫번째 위치를 가리키고 a는 맨 마지막 위치를 가리킴\n",
    "- 파일 접근 방법\n",
    "  - 순차 접근 (기본 방식): 파일을 앞에서 부터 순차적으로 읽고 쓰는 방식\n",
    "  - 임의 접근: 파일 내 임의 위치에서 읽고 쓰는 방식\n",
    "  - 임의 접근을 위한 file 객체 포인터 (pointer) 관련 메소드\n",
    "    - seek(n): 파일의 가장 첫번째 위치에서 n번째 바이트로 포인터 이동\n",
    "    - tell(): 파일 내 현재 포인터 위치를 반환"
   ]
  },
  {
   "cell_type": "code",
   "execution_count": 19,
   "metadata": {
    "collapsed": false
   },
   "outputs": [
    {
     "name": "stdout",
     "output_type": "stream",
     "text": [
      "5\n",
      "f\n",
      "6\n",
      "\n"
     ]
    }
   ],
   "source": [
    "name = 't.txt' \n",
    "f = open(name, 'w+') \n",
    "#파일을 쓰는데, 읽기도 가능함\n",
    "#단, 파일이 이미 존재한다면 기존 파일은 없어지고 다시 생성된다.\n",
    "s = 'abcdefghijklmnopqrstuvwxyz'\n",
    "f.write(s)\n",
    "\n",
    "f.seek(5)#시작부터 5바이트 포인터 이동\n",
    "#문자열의 5번째 인덱스까지 파일포인터 이동\n",
    "#현재는 마지막에 위치한 것인데...\n",
    "print f.tell()#현재 위치(인덱스) 돌려줌\n",
    "print f.read(1)#현재 위치에 있는 문자 하나를 읽기\n",
    "print f.tell()\n",
    "print"
   ]
  },
  {
   "cell_type": "markdown",
   "metadata": {},
   "source": [
    "##표준 출력 방향 전환"
   ]
  },
  {
   "cell_type": "markdown",
   "metadata": {},
   "source": [
    "- sys 모듈의 표준 입출력 관련 객체\n",
    "  - sys.stdout: 표준 출력\n",
    "  - sys.stderr: 표준 에러 출력\n",
    "  - sys.stdin: 표준 입력\n",
    "- 예를 들어, sys.stdout을 파일 객체로 변환하면 모든 표준 출력(print 출력)은 해당 파일로 저장된다."
   ]
  },
  {
   "cell_type": "code",
   "execution_count": 21,
   "metadata": {
    "collapsed": false
   },
   "outputs": [
    {
     "name": "stdout",
     "output_type": "stream",
     "text": [
      "Sample output\n",
      "Good\n",
      "Good\n",
      "\n"
     ]
    }
   ],
   "source": [
    "#stdout 변수는 모니터(표준 출력)화면에 해당하는 레퍼런스 값을 가짐\n",
    "#print는 표준출력(stdout쪽으로 출력)\n",
    "import sys\n",
    "\n",
    "f = open('t.txt', 'w')#쓰기모드\n",
    "stdout = sys.stdout#표준 출력 저장해 두기\n",
    "#sys.stdout은 sys모듈 안의 변수고 stdout은 작업하고 있는 공간에서의 stoud\n",
    "#이제 두개가 동일한 객체를 가리키게됨.\n",
    "sys.stdout = f#파일 객체로 표준 출력 변경\n",
    "#sys.stdout이 화면이 아닌 파일쪽 출력이 되어버림\n",
    "print 'Sample output'\n",
    "#print라는 함수는 sys.stdout으로 내용을 보내서 출력\n",
    "print 'Good'\n",
    "print 'Good'\n",
    "f.close()\n",
    "sys.stdout = stdout#필요하면 표준 출력 원상 복구\n",
    "#파일쪽으로 출력이 되었던 부분을 다시 모니터로 복원\n",
    "f = open('t.txt')\n",
    "print f.read()"
   ]
  },
  {
   "cell_type": "code",
   "execution_count": 22,
   "metadata": {
    "collapsed": false
   },
   "outputs": [
    {
     "name": "stderr",
     "output_type": "stream",
     "text": [
      "SHINHWA is the best idol group\n"
     ]
    }
   ],
   "source": [
    "print >> sys.stderr, \"SHINHWA is the best idol group\"\n",
    "# >> 을 이용해서 출력을 다른 방향으로 바꿔줄 수 있음\n",
    "#stderr은 표준 에러\n",
    "#stdout하고 stderr둘다 이클립스에서는 콘솔창에 출력해줌"
   ]
  },
  {
   "cell_type": "code",
   "execution_count": 25,
   "metadata": {
    "collapsed": false
   },
   "outputs": [
    {
     "name": "stdout",
     "output_type": "stream",
     "text": [
      "spam string\n",
      "\n"
     ]
    }
   ],
   "source": [
    "f = open('t.txt', 'w')#내용이 지워질 수 있는 상황\n",
    "print >> f, 'spam string'\n",
    "#>>리다이렉트 기호 \n",
    "f.close()\n",
    "\n",
    "f = open('t.txt')\n",
    "print f.read()\n",
    "f.close()\n",
    "\n",
    "#이 방법이 처음 방법보다 더 나음!"
   ]
  },
  {
   "cell_type": "markdown",
   "metadata": {},
   "source": [
    "- StringIO 모듈의 StringIO 클래스 객체\n",
    "  - 파일 객체처럼 입출력 가능한 문자열 객체\n",
    "    - 문자열을 자기가 받고 내보낼 수 있는 파일객체와 비슷한 객체\n",
    "  - StringIO에 지원되는 메소드는 파일 객체가 지원하는 메소드와 거의 동일하다.\n",
    "- getvalue() 메소드\n",
    "  - 현재까지 담아 놓은 전체 내용을 반환한다."
   ]
  },
  {
   "cell_type": "code",
   "execution_count": 26,
   "metadata": {
    "collapsed": false
   },
   "outputs": [
    {
     "name": "stdout",
     "output_type": "stream",
     "text": [
      "abc\n",
      "\n",
      "abc\n"
     ]
    }
   ],
   "source": [
    "import StringIO\n",
    "\n",
    "f = StringIO.StringIO()\n",
    "#StringIO모듈에 있는 StringIO 객체를 생성\n",
    "#하드디스크에 존재하는 특정 파일이 아니라 메모리에 존재하는 특정 영역\n",
    "f.write(\"abc\")\n",
    "#abc를 썼으니까 파일포인터의 위치는 맨 뒤\n",
    "f.seek(0)\n",
    "#파일 포인터의 위치를 앞으로 당겨옴\n",
    "s = f.read()\n",
    "print s\n",
    "print\n",
    "\n",
    "s2 = f.getvalue()\n",
    "#현재 지니고 있는 전체 내용 반환\n",
    "print s2"
   ]
  },
  {
   "cell_type": "code",
   "execution_count": 28,
   "metadata": {
    "collapsed": false
   },
   "outputs": [
    {
     "name": "stdout",
     "output_type": "stream",
     "text": [
      "<type 'instance'>\n",
      "Sample output\n",
      "Good\n",
      "Good\n",
      "\n"
     ]
    }
   ],
   "source": [
    "#표준출력과 StringIO를 동시에 사용\n",
    "import sys\n",
    "import StringIO\n",
    "\n",
    "stdout = sys.stdout#표준 출력 저장해 두기\n",
    "sys.stdout = f = StringIO.StringIO()\n",
    "#기존의 표준출력은 사라지고 표준출력 자리에 f가 들어가게됨\n",
    "\n",
    "print type(f)\n",
    "print 'Sample output'\n",
    "print 'Good'\n",
    "print 'Good'\n",
    "\n",
    "sys.stdout = stdout\n",
    "\n",
    "s = f.getvalue()\n",
    "#f는 StringIO객체, getvalue()는 현재 지니고 있는 전체 내용 반환\n",
    "print s"
   ]
  },
  {
   "cell_type": "markdown",
   "metadata": {},
   "source": [
    "##파일로의 지속모듈"
   ]
  },
  {
   "cell_type": "markdown",
   "metadata": {},
   "source": [
    "- 지속성(Persistence)\n",
    "  - 프로그램 내에 생성된 각종 객체들을 해당 프로그램 종료 이후에도 존재하게 만들고, 그것들을 동일한 또는 다른 프로그램에서 사용하는 기능\n",
    "- 지속성 기능을 지원하는 모듈\n",
    "  - DBM 관련 모듈\n",
    "    - anydbm, dbm, gdbm, dbhash, dumbdbm\n",
    "    - anydbm: 시스템에서 사용가능한 모듈 중 가장 최적의 모듈을 반환함\n",
    "      - 기본적으로 dumbdbm을 반환한다\n",
    "      - 사전 자료형을 사용하는 것과 동일한 방법으로 사용\n",
    "      - t : 파이썬이 제공하는 내장 자료형(리스트 튜플 이런거...) 저장에 최적화\n",
    "  - pickle 모듈 ( t : 파이썬 내장 자료형 + 사용자가 정의한 객체 저장)\n",
    "    - 파이썬의 객체를 저장하는 일반화된 지속성 모듈\n",
    "    - 파이썬의 기본 객체뿐만 아니라 사용자 정의의 복잡한 객체도 저장 가능\n",
    "    - 기본적으로 텍스트 모드로 저장하지만 이진 모드로도 저장 가능\n",
    "    - 이게 DBM모듈보다 더 일반적"
   ]
  },
  {
   "cell_type": "code",
   "execution_count": 29,
   "metadata": {
    "collapsed": true
   },
   "outputs": [],
   "source": [
    "#파이썬에서는 모든것이 객체인데 메모리에 존재함.\n",
    "#메모리에 존재하기 때문에 프로그램 종료시 함께 사라짐\n",
    "#지속성 관련 모듈 활용 시 객체를 파일로 저장 가능\n",
    "#얼음과 같이 객체를 얼려 언제든지 사용 가능 = '지속성'\n",
    "import pickle\n",
    "\n",
    "phone = {'tom':4358382, 'jack':9465215, 'jim':6851325, 'Joseph':6584321}\n",
    "List = ['string', 1234, 0.2345]\n",
    "Tuple = (phone, List) \n",
    "#리스트, 튜플, 사전의 복합 객체\n",
    "\n",
    "f = open('pickle.txt', 'w') \n",
    "#파일 객체를 얻는다.\n",
    "\n",
    "pickle.dump(Tuple, f) \n",
    "#파일로 출력(pickling), 복합 객체 출력 \n",
    "#저장하고자 하는 튜플을 f에 넣어 얼림.\n",
    "f.close() \n",
    "\n"
   ]
  },
  {
   "cell_type": "code",
   "execution_count": 30,
   "metadata": {
    "collapsed": false
   },
   "outputs": [
    {
     "name": "stdout",
     "output_type": "stream",
     "text": [
      "{'jim': 6851325, 'Joseph': 6584321, 'jack': 9465215, 'tom': 4358382}\n",
      "['string', 1234, 0.2345]\n"
     ]
    }
   ],
   "source": [
    "import pickle\n",
    "\n",
    "f = open('pickle.txt')     \n",
    "                      \n",
    "x,y = pickle.load(f) \n",
    "#파일에서 읽어오기. 튜플의 내용을 x, y에 받는다.\n",
    "#dump함수의 정 반대\n",
    "print x #사전\n",
    "print y #리스트"
   ]
  },
  {
   "cell_type": "code",
   "execution_count": 32,
   "metadata": {
    "collapsed": false
   },
   "outputs": [
    {
     "name": "stdout",
     "output_type": "stream",
     "text": [
      "10\n",
      "__main__.Simple\n"
     ]
    }
   ],
   "source": [
    "import pickle\n",
    "\n",
    "class Simple: #가장 단순한 클래스를 정의\n",
    "    #class정의 : class 키워드를 사용\n",
    "    pass#몸체 적지 않고 끝내겠다는 의미\n",
    "\n",
    "s = Simple() #인스턴스 객체 생성(디폴트 생성자가 호출됨)\n",
    "s.count = 10 #인스턴스 이름 공간에 변수 생성\n",
    "\n",
    "f = open('pickle2.txt', 'w')\n",
    "pickle.dump(s, f) #인스턴스 저장\n",
    "#pickle.dump(저장하고자하는객체,저장하는위치)\n",
    "f.close()\n",
    "\n",
    "f = open('pickle2.txt')\n",
    "t = pickle.load(f) #인스턴스 가져오기\n",
    "print t.count\n",
    "print t.__class__#인스턴스 t가 어떤 클래스로 만들어졌는가\n",
    "#__main__은 현재 모듈의 이름"
   ]
  },
  {
   "cell_type": "code",
   "execution_count": 37,
   "metadata": {
    "collapsed": false
   },
   "outputs": [
    {
     "name": "stdout",
     "output_type": "stream",
     "text": [
      "1 : 2\n",
      "2 : 2\n",
      "3 : 2\n"
     ]
    }
   ],
   "source": [
    "#라인을 읽고 각 라인에 존재하는 단어의 갯수를 출력하는 프로그램\n",
    "f = open('removeme.txt')\n",
    "i = 1\n",
    "for line in f.readlines():\n",
    "    words = line.split()\n",
    "    print i, \":\", len(words)\n",
    "    i+=1#이걸 추가해줬음!\n",
    "f.close()"
   ]
  },
  {
   "cell_type": "code",
   "execution_count": null,
   "metadata": {
    "collapsed": true
   },
   "outputs": [],
   "source": []
  }
 ],
 "metadata": {
  "kernelspec": {
   "display_name": "Python 2",
   "language": "python",
   "name": "python2"
  },
  "language_info": {
   "codemirror_mode": {
    "name": "ipython",
    "version": 2
   },
   "file_extension": ".py",
   "mimetype": "text/x-python",
   "name": "python",
   "nbconvert_exporter": "python",
   "pygments_lexer": "ipython2",
   "version": "2.7.9"
  }
 },
 "nbformat": 4,
 "nbformat_minor": 0
}
