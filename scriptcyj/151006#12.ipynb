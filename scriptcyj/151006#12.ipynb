{
 "cells": [
  {
   "cell_type": "markdown",
   "metadata": {},
   "source": [
    "- 사전 객체의 특징\n",
    "  - 집합적 자료형\n",
    "  - 자료의 순서를 정하지 않는 매핑형\n",
    "    - 키를 이용하여 값에 접근\n",
    "    - 시퀀스 자료형은 아님\n",
    "  - 키와 값의 매핑 1개를 아이템이라고 부름\n",
    "  - 자료의 순서를 정하지 않는 매핑형!!!!!!"
   ]
  },
  {
   "cell_type": "code",
   "execution_count": 4,
   "metadata": {
    "collapsed": false
   },
   "outputs": [
    {
     "name": "stdout",
     "output_type": "stream",
     "text": [
      "9\n"
     ]
    }
   ],
   "source": [
    "member = {'basketball':5, 'soccer':11, 'baseball':9}\n",
    "#콤마 단위가 원소의 갯수, 아이템->'키:값'으로 구성\n",
    "print member['baseball'] \n",
    "#인덱싱 아님!!!! 사전의 검색연산!!! 이건 시퀀스형 아니라 인덱싱 아냐!\n",
    "#baseball 키를 해쉬함수로 돌려서 해쉬 값을 가지고 value를 찾는 것 \n",
    "#그러면 집합은..?! 집합도 자료형 아닌가? 빌트인 되어있지 않으면\n",
    "#자료형이 아닌건가?"
   ]
  },
  {
   "cell_type": "code",
   "execution_count": 5,
   "metadata": {
    "collapsed": false
   },
   "outputs": [
    {
     "name": "stdout",
     "output_type": "stream",
     "text": [
      "{'soccer': 11, 'basketball': 5, 'baseball': 9, 'volleyball': 7}\n",
      "\n",
      "{'soccer': 11, 'basketball': 5, 'baseball': 9, 'volleyball': 6}\n",
      "4\n"
     ]
    }
   ],
   "source": [
    "member = {'basketball':5, 'soccer':11, 'baseball':9}\n",
    "member['volleyball'] = 7#새로운 아이템 설정\n",
    "#새로운 아이템을 설정할 때는 member['새로운키']='새로운 value'\n",
    "print member\n",
    "print\n",
    "member['volleyball'] = 6\n",
    "#키가 존재하면 변경, 존재 안하면 새로운 아이템 설정이 되겠지...\n",
    "print member\n",
    "print len(member)\n",
    "#멤버 안에 존재하는 아이템의 개수 반환 \n",
    "\n",
    "#사전 내에는 아이템 순서가 존재하지 않음.\n",
    "#내부적으로 멤버를 파이썬에 구현할 때는 해쉬기법 사용\n",
    "#해쉬기법 -> 각각의 키에 내부적으로 존재하는 인덱스를 붙임(확인은 불가능)\n",
    "#해쉬값 = 인덱스값\n",
    "#내부적으로 자료를 저장하는 방법이 있음 -> 그 순서대로 내용 출력\n",
    "#이건 시퀀스형 아니라서 순서대로 출력되는 거 아님\n",
    "#임의의 순서대로 저장되어 있는 값을 확인하는거"
   ]
  },
  {
   "cell_type": "code",
   "execution_count": 6,
   "metadata": {
    "collapsed": false
   },
   "outputs": [
    {
     "name": "stdout",
     "output_type": "stream",
     "text": [
      "{'soccer': 11, 'baseball': 9}\n"
     ]
    }
   ],
   "source": [
    "member = {'basketball':5, 'soccer':11, 'baseball':9}\n",
    "del member['basketball']\n",
    "#항목 삭제\n",
    "print member"
   ]
  },
  {
   "cell_type": "code",
   "execution_count": 13,
   "metadata": {
    "collapsed": false
   },
   "outputs": [
    {
     "name": "stdout",
     "output_type": "stream",
     "text": [
      "{'str': 'abc'}\n",
      "{1: 4, 'str': 'abc'}\n",
      "{1: 4, 'str': 'abc', (1, 2, 3): 'tuple'}\n"
     ]
    },
    {
     "ename": "TypeError",
     "evalue": "unhashable type: 'list'",
     "output_type": "error",
     "traceback": [
      "\u001b[1;31m---------------------------------------------------------------------------\u001b[0m",
      "\u001b[1;31mTypeError\u001b[0m                                 Traceback (most recent call last)",
      "\u001b[1;32m<ipython-input-13-3e78126e7655>\u001b[0m in \u001b[0;36m<module>\u001b[1;34m()\u001b[0m\n\u001b[0;32m      9\u001b[0m \u001b[0md\u001b[0m\u001b[1;33m[\u001b[0m\u001b[1;33m(\u001b[0m\u001b[1;36m1\u001b[0m\u001b[1;33m,\u001b[0m\u001b[1;36m2\u001b[0m\u001b[1;33m,\u001b[0m\u001b[1;36m3\u001b[0m\u001b[1;33m)\u001b[0m\u001b[1;33m]\u001b[0m \u001b[1;33m=\u001b[0m \u001b[1;34m'tuple'\u001b[0m\u001b[1;33m\u001b[0m\u001b[0m\n\u001b[0;32m     10\u001b[0m \u001b[1;32mprint\u001b[0m \u001b[0md\u001b[0m\u001b[1;33m\u001b[0m\u001b[0m\n\u001b[1;32m---> 11\u001b[1;33m \u001b[0md\u001b[0m\u001b[1;33m[\u001b[0m\u001b[1;33m[\u001b[0m\u001b[1;36m1\u001b[0m\u001b[1;33m,\u001b[0m\u001b[1;36m2\u001b[0m\u001b[1;33m,\u001b[0m\u001b[1;36m3\u001b[0m\u001b[1;33m]\u001b[0m\u001b[1;33m]\u001b[0m \u001b[1;33m=\u001b[0m \u001b[1;34m'list'\u001b[0m\u001b[1;33m\u001b[0m\u001b[0m\n\u001b[0m\u001b[0;32m     12\u001b[0m \u001b[1;32mprint\u001b[0m \u001b[0md\u001b[0m\u001b[1;33m\u001b[0m\u001b[0m\n\u001b[0;32m     13\u001b[0m \u001b[0md\u001b[0m\u001b[1;33m[\u001b[0m\u001b[1;33m{\u001b[0m\u001b[1;36m1\u001b[0m\u001b[1;33m,\u001b[0m\u001b[1;36m2\u001b[0m\u001b[1;33m,\u001b[0m\u001b[1;36m3\u001b[0m\u001b[1;33m}\u001b[0m\u001b[1;33m]\u001b[0m \u001b[1;33m=\u001b[0m \u001b[1;34m'list'\u001b[0m\u001b[1;33m\u001b[0m\u001b[0m\n",
      "\u001b[1;31mTypeError\u001b[0m: unhashable type: 'list'"
     ]
    }
   ],
   "source": [
    "#키에는 변경 불가능한 자료만 넣을 수 있음\n",
    "#문자열 숫자 튜플은 가능함 // 리스트 사전은 불가능함\n",
    "d = {}\n",
    "d['str'] = 'abc'\n",
    "print d\n",
    "#새로운 아이템을 넣음, str은 key, abc는 value\n",
    "d[1] = 4\n",
    "print d\n",
    "d[(1,2,3)] = 'tuple'\n",
    "print d\n",
    "d[[1,2,3]] = 'list' \n",
    "print d\n",
    "d[{1,2,3}] = 'list' \n",
    "print d\n",
    "#리스트와 사전은 키가 될 수 없다!!!!!!\n",
    "#변경이 가능한 자료형은 해쉬함수로 돌릴 수 없기 때문"
   ]
  },
  {
   "cell_type": "code",
   "execution_count": 15,
   "metadata": {
    "collapsed": false
   },
   "outputs": [
    {
     "name": "stdout",
     "output_type": "stream",
     "text": [
      "9\n",
      "-1\n",
      "\n",
      "1\n"
     ]
    }
   ],
   "source": [
    "#함수이름은 사전의 키로 쓰일 수 있음\n",
    "def add(a, b):\n",
    "    return a + b\n",
    "\n",
    "def sub(a, b):\n",
    "    return a - b\n",
    "\n",
    "action = {0: add, 1: sub}   \n",
    "#함수 이름을 사전의 값으로 사용\n",
    "#add->함수가 객체로 인식됨 -> 객체의 레퍼런스 값을 add로 가짐\n",
    "print action[0](4, 5)\n",
    "#add가 반환됨 add는 함수를 가리킴(4,5)는 함수의 인자로 가져가게 됨\n",
    "print action[1](4, 5)\n",
    "#sub이 반환됨, sub은 함수를 가리킴, (4,5)는 함수의 인자로 가져가게 됨\n",
    "print\n",
    "action2 = {add: 1, sub: 2}  \n",
    "#함수 이름을 사전의 키로 사용\n",
    "print action2[add]\n",
    "#검색을 add로 하여 add의 value값 1 출력"
   ]
  },
  {
   "cell_type": "code",
   "execution_count": 16,
   "metadata": {
    "collapsed": false
   },
   "outputs": [
    {
     "name": "stdout",
     "output_type": "stream",
     "text": [
      "<type 'dict'>\n",
      "\n",
      "{'two': 2, 'one': 1}\n",
      "{'two': 2, 'one': 1}\n",
      "{'two': 2, 'one': 1}\n"
     ]
    }
   ],
   "source": [
    "#사전을 생성하는 또다른 방법\n",
    "d = dict()\n",
    "#비어있는 공백 사전 함수가 나옴\n",
    "print type(d)\n",
    "print \n",
    "\n",
    "print dict(one=1, two=2)\n",
    "#one은 문자열로 key에, 1은 value로 들어감...\n",
    "#안에 있는 아이템끼리는 순서가 없고 임의의 순서로 저장됨\n",
    "print dict([('one', 1), ('two', 2)])\n",
    "#리스트 안의 각각의 원소는 튜플. \n",
    "#튜플 첫번째 원소는 key, 두번째 원소는 value\n",
    "print dict({'one':1, 'two':2})\n",
    "#이건 사전을 만들어서 사전 내장함수에 또 넣은거라...이렇게쓸필욘..없어..."
   ]
  },
  {
   "cell_type": "code",
   "execution_count": 18,
   "metadata": {
    "collapsed": false
   },
   "outputs": [
    {
     "name": "stdout",
     "output_type": "stream",
     "text": [
      "[('one', 1), ('two', 2), ('three', 3)]\n",
      "<type 'list'>\n",
      "{'three': 3, 'two': 2, 'one': 1}\n"
     ]
    }
   ],
   "source": [
    "keys = ['one', 'two', 'three']\n",
    "values = (1, 2, 3)\n",
    "print zip(keys, values)\n",
    "print type(zip(keys,values))\n",
    "#zip의 원소로 시퀀스 자료형 2개 사용\n",
    "#내장함수 zip():\n",
    "#두 개의 자료를 순서대로 쌍으로 묶은 튜플들의 리스트 반환\n",
    "print dict(zip(keys, values))\n",
    "#zip함수를 dict의 원소로 사용가능"
   ]
  },
  {
   "cell_type": "markdown",
   "metadata": {},
   "source": [
    "- 사전이 지원하는 중요 메소드 \n",
    "  - D.keys():사전 D에서 키들을 리스트로 반환\n",
    "  - D.values():사전 D에서 값들을 리스트로 반환\n",
    "  - D.items(): 사전 D에서 각 아이템을 튜플 형태로 가져와 리스트로 반환\n",
    "- key in D:사전 D안에 key를 키값을 가진 아이템이 있는지 확인"
   ]
  },
  {
   "cell_type": "code",
   "execution_count": 20,
   "metadata": {
    "collapsed": false
   },
   "outputs": [
    {
     "name": "stdout",
     "output_type": "stream",
     "text": [
      "['jin', 'Joseph', 'jack']\n",
      "[1111, 6584321, 9465215]\n",
      "[('jin', 1111), ('Joseph', 6584321), ('jack', 9465215)]\n",
      "\n",
      "True\n",
      "False\n",
      "False\n",
      "True\n"
     ]
    }
   ],
   "source": [
    "phone = {'jack':9465215, 'jin':1111, 'Joseph':6584321}\n",
    "\n",
    "print phone.keys() \n",
    "#리스트 안에서 각각의 사전 키들만 반환해줌\n",
    "#순서대로 반환X 내부에서 정한대로 반환\n",
    "#사전은 순서가 없기 때문에 임의의 순서대로\n",
    "print phone.values() \n",
    "#리스트 안에서 각각의 사전의 값들만 반환해줌\n",
    "print phone.items()\n",
    "#(키, 값)으로 튜플이 원소가 되어 리스트 반환\n",
    "print\n",
    "print 'jack' in phone \n",
    "#'jack'이 phone의 키에 포함되어 있는가?\n",
    "#in 앞에는 반드시 key값이 와야함\n",
    "print 'lee' in phone\n",
    "print 1111 in phone\n",
    "#이 값은 false가 나옴 왜냐면 키값이 아니고 \n",
    "#in이라는 키워드는 key에 대한 검사만 가능\n",
    "print 1111 in phone.values()\n",
    "#phone.values()가 사전의 value을 의미하므로 in으로 value를 검사가능"
   ]
  },
  {
   "cell_type": "code",
   "execution_count": 21,
   "metadata": {
    "collapsed": false
   },
   "outputs": [
    {
     "name": "stdout",
     "output_type": "stream",
     "text": [
      "{'jin': 1111, 'Joseph': 6584321, 'jack': 1234}\n",
      "{'jin': 1111, 'Joseph': 6584321, 'jack': 1234}\n",
      "\n",
      "{'jin': 1111, 'Joseph': 6584321, 'jack': 1111}\n",
      "{'jin': 1111, 'Joseph': 6584321, 'jack': 1234}\n"
     ]
    }
   ],
   "source": [
    "phone = {'jack':9465215, 'jin':1111, 'Joseph':6584321}\n",
    "p = phone \n",
    "#사전 레퍼런스 복사. 사전 객체는 공유된다.\n",
    "#phone 자체가 가지고 있는 참조값을 p에 할당하는 것이 됨\n",
    "#p와 phone이 가리키는 객체가 동일한 객체임!!!!!!\n",
    "phone['jack'] = 1234 \n",
    "#phone을 변경하면\n",
    "print phone\n",
    "print p \n",
    "#p도 함께 변경된다.\n",
    "print\n",
    "\n",
    "ph = phone.copy() \n",
    "#사전복사. 별도의 사전 객체가 마련된다.\n",
    "#기존의 phone을 그대로 복사해서 새로운 객체가 생성되게 됨.\n",
    "phone['jack'] = 1111 \n",
    "#phone을 바꿔도\n",
    "print phone\n",
    "print ph \n",
    "#ph는 바뀌지 않는다."
   ]
  },
  {
   "cell_type": "code",
   "execution_count": 6,
   "metadata": {
    "collapsed": false
   },
   "outputs": [
    {
     "name": "stdout",
     "output_type": "stream",
     "text": [
      "{'a': [1, 2, 3], 'b': 4}\n",
      "{'a': [1, 2, 3], 'b': 4}\n",
      "\n",
      "{'a': [1, 2, 3], 'b': 100}\n",
      "{'a': [1, 2, 3], 'b': 4}\n",
      "\n",
      "{'a': [100, 2, 3], 'b': 100}\n",
      "{'a': [100, 2, 3], 'b': 4}\n",
      "\n",
      "{'a': [100, 2, 3], 'b': [1000, 2000]}\n",
      "{'a': [100, 2, 3], 'b': 4}\n",
      "\n"
     ]
    }
   ],
   "source": [
    "#D.copy()는 Shallow Copy를 수행한다.(반대개념은 Deep Copy)\n",
    "phone = {'a': [1,2,3], 'b': 4}\n",
    "#a key->list, b key->4\n",
    "phone2 = phone.copy()\n",
    "#이게 shallow copy\n",
    "#정수 값은 복사가 되면서 똑같지만 다른 새로운 객체 생성\n",
    "#리스트 안에 존재하는 1,2,3 원소는 공유됨\n",
    "#1,2,3자체가 완전히 카피되어 별도의 객체가 존재하지는 않음\n",
    "#Shallow copy는 복사하려는 리스트 안 원소까지는 복사하지 않음\n",
    "#반면 Deep copy는 복사하려는 리스트 안의 원소까지 복사해버림\n",
    "print phone\n",
    "print phone2\n",
    "print\n",
    "\n",
    "phone['b'] = 100\n",
    "#이거는 phone2에는 영향을 안줌(객체자체가 따로 생성된 부분이라)\n",
    "print phone\n",
    "print phone2\n",
    "print\n",
    "\n",
    "phone['a'][0] = 100\n",
    "#이거는 리스트라는 밸류를 공통으로 가지고 있는 거......\n",
    "print phone\n",
    "print phone2\n",
    "#copy는 보통 얕은복사...\n",
    "\n",
    "#과제 진행하면서 더 해본 부분.\n",
    "print\n",
    "phone['b'] = [1000,2000]\n",
    "print phone\n",
    "print phone2\n",
    "print"
   ]
  },
  {
   "cell_type": "code",
   "execution_count": 24,
   "metadata": {
    "collapsed": false
   },
   "outputs": [
    {
     "name": "stdout",
     "output_type": "stream",
     "text": [
      "9465215\n",
      "9465215\n",
      "None\n"
     ]
    },
    {
     "ename": "KeyError",
     "evalue": "'gslee'",
     "output_type": "error",
     "traceback": [
      "\u001b[1;31m---------------------------------------------------------------------------\u001b[0m",
      "\u001b[1;31mKeyError\u001b[0m                                  Traceback (most recent call last)",
      "\u001b[1;32m<ipython-input-24-7ef3c4e9839d>\u001b[0m in \u001b[0;36m<module>\u001b[1;34m()\u001b[0m\n\u001b[0;32m      8\u001b[0m \u001b[1;32mprint\u001b[0m \u001b[0mph\u001b[0m\u001b[1;33m.\u001b[0m\u001b[0mget\u001b[0m\u001b[1;33m(\u001b[0m\u001b[1;34m'gslee'\u001b[0m\u001b[1;33m)\u001b[0m\u001b[1;33m\u001b[0m\u001b[0m\n\u001b[0;32m      9\u001b[0m \u001b[1;31m#'gslee'에 대한 값을 얻는다. 값이 없는 경우 None반환\u001b[0m\u001b[1;33m\u001b[0m\u001b[1;33m\u001b[0m\u001b[0m\n\u001b[1;32m---> 10\u001b[1;33m \u001b[1;32mprint\u001b[0m \u001b[0mph\u001b[0m\u001b[1;33m[\u001b[0m\u001b[1;34m'gslee'\u001b[0m\u001b[1;33m]\u001b[0m\u001b[1;33m\u001b[0m\u001b[0m\n\u001b[0m",
      "\u001b[1;31mKeyError\u001b[0m: 'gslee'"
     ]
    }
   ],
   "source": [
    "ph = {'jack':9465215, 'jin':1111, 'Joseph':6584321}\n",
    "\n",
    "#get()은 key를 주면서 value를 검색하는 함수.\n",
    "print ph.get('jack')  \n",
    "#jack키에 있는 밸류를 가져오려 함\n",
    "#'jack'에 대한 값을 얻는다. ph['jack']과 같다.\n",
    "print ph['jack']\n",
    "print ph.get('gslee') \n",
    "#'gslee'에 대한 값을 얻는다. 값이 없는 경우 None반환\n",
    "print ph['gslee']\n",
    "#get은 키가 없는 것에서도 None을 반환해주는 반면에\n",
    "#그냥 꺽쇠 괄호는 키가 없으면 에러가 발생됨"
   ]
  },
  {
   "cell_type": "code",
   "execution_count": 25,
   "metadata": {
    "collapsed": false
   },
   "outputs": [
    {
     "name": "stdout",
     "output_type": "stream",
     "text": [
      "5284\n",
      "{'jin': 1111, 'Joseph': 6584321, 'jack': 9465215}\n",
      "\n",
      "('jin', 1111)\n",
      "{'Joseph': 6584321, 'jack': 9465215}\n",
      "\n",
      "('Joseph', 6584321)\n",
      "{'jack': 9465215}\n",
      "\n",
      "9465215\n",
      "{}\n"
     ]
    }
   ],
   "source": [
    "ph = {'jack':9465215, 'jin':1111, 'Joseph':6584321}\n",
    "print ph.get('gslee', 5284) \n",
    "#인수를 하나 더 제공하면 'gslee'가 없는 경우에 5284 리턴\n",
    "#약간 디폴트값과 비슷한 느낌임...존재하면그거반환하고 없으면5284주고...\n",
    "print ph \n",
    "#사전에는 변화가 없다\n",
    "#get은 본래 사전에 변화를 주는 메소드는 아님\n",
    "print \n",
    "\n",
    "print ph.popitem()                 \n",
    "#임의의 아이템을 꺼내는 메소드\n",
    "#꺼낸건 사전에서 사라짐\n",
    "print ph\n",
    "print\n",
    "\n",
    "print ph.popitem()                 \n",
    "#임의의 아이템을 꺼내는 메소드\n",
    "#꺼낸건 사전에서 사라짐\n",
    "print ph \n",
    "print\n",
    "\n",
    "print ph.pop('jack')               \n",
    "#키 값을 통해 해당 아이템을 지정하여 꺼낸다.\n",
    "#벨류만 가져오는게 아니라 키와 밸류를 한 쌍으로 가져오게됨(아이템!!!!!!)\n",
    "#pop이 돌려주는 것은 value값이지만 실제는 item 반환\n",
    "##이게 먼소리야......ㅠㅠㅠㅠㅠㅠ\n",
    "\n",
    "print ph"
   ]
  },
  {
   "cell_type": "code",
   "execution_count": 26,
   "metadata": {
    "collapsed": false
   },
   "outputs": [
    {
     "name": "stdout",
     "output_type": "stream",
     "text": [
      "{'jin': 1111, 'Joseph': 6584321, 'jack': 9465215, 'kim': 12312, 'lee': 9090}\n",
      "\n",
      "{}\n"
     ]
    }
   ],
   "source": [
    "phone = {'jack':9465215, 'jin':1111, 'Joseph':6584321}\n",
    "ph = {'kim':12312, 'lee': 9090}\n",
    "phone.update(ph) \n",
    "#사전 phone의 내용을 ph으로 추가 갱신\n",
    "#phone이 달라지게 됨......\n",
    "print phone\n",
    "print\n",
    "phone.clear() \n",
    "#사전의 모든 입력을 없앤다.\n",
    "print phone"
   ]
  },
  {
   "cell_type": "code",
   "execution_count": 27,
   "metadata": {
    "collapsed": false
   },
   "outputs": [
    {
     "name": "stdout",
     "output_type": "stream",
     "text": [
      "a 1\n",
      "c 3\n",
      "b 2\n"
     ]
    }
   ],
   "source": [
    "#for~in구문 학습\n",
    "D = {'a':1, 'b':2, 'c':3}\n",
    "for key in D.keys():\n",
    "#D.keys()라 해 주어서 key값만 리스트 안에 담겨 리턴\n",
    "    print key, D[key]\n",
    "    #D[key]는 키에 해당하는 밸류값 반환(검색)\n",
    "#순서는 임의니까 중요하지 않아용"
   ]
  },
  {
   "cell_type": "code",
   "execution_count": 28,
   "metadata": {
    "collapsed": false
   },
   "outputs": [
    {
     "name": "stdout",
     "output_type": "stream",
     "text": [
      "a 1\n",
      "c 3\n",
      "b 2\n"
     ]
    }
   ],
   "source": [
    "D = {'a':1, 'b':2, 'c':3}\n",
    "for key in D:#for~in구문의 뒤에 사전을 넣으면 key가 반환됨\n",
    "    #뒤에 D.keys()를 하던 D를 하던 같은 경우가 되어 버림\n",
    "    print key, D[key]"
   ]
  },
  {
   "cell_type": "code",
   "execution_count": 34,
   "metadata": {
    "collapsed": false
   },
   "outputs": [
    {
     "name": "stdout",
     "output_type": "stream",
     "text": [
      "a 1\n",
      "c 3\n",
      "b 2\n",
      "\n",
      "1\n",
      "3\n",
      "2\n"
     ]
    }
   ],
   "source": [
    "for key, value in D.items():\n",
    "    #키와 값이 튜플형태로 반환되어 다시 언패킹\n",
    "    print key, value\n",
    "print\n",
    "for value in D.values():\n",
    "    #value값만 반환됨\n",
    "    print value"
   ]
  },
  {
   "cell_type": "code",
   "execution_count": 36,
   "metadata": {
    "collapsed": false
   },
   "outputs": [
    {
     "name": "stdout",
     "output_type": "stream",
     "text": [
      "[('a', 1), ('c', 3), ('b', 2)]\n",
      "\n",
      "[('a', 1), ('b', 2), ('c', 3)]\n",
      "\n",
      "a 1\n",
      "b 2\n",
      "c 3\n"
     ]
    }
   ],
   "source": [
    "#순서 좀 있게 출력하고 싶은 경우!!!!!!\n",
    "D = {'a':1, 'b':2, 'c':3}\n",
    "items = D.items()#각각의 튜플 쌍으로 items에 들어가게 됨\n",
    "print items#items는 리스트\n",
    "print\n",
    "\n",
    "items.sort()\n",
    "#리스트 items의 원소인 튜플들의 첫번째 값을 기준으로 정렬하게됨\n",
    "print items\n",
    "print \n",
    "\n",
    "for k,v in items:\n",
    "    print k, v"
   ]
  },
  {
   "cell_type": "code",
   "execution_count": 15,
   "metadata": {
    "collapsed": false
   },
   "outputs": [
    {
     "name": "stdout",
     "output_type": "stream",
     "text": [
      "[('eee', 1), ('ddd', 2), ('ccc', 3), ('bbb', 4), ('aaa', 5)]\n"
     ]
    }
   ],
   "source": [
    "d = {'aaa':5, 'eee':1, 'bbb':4, 'ddd':2, 'ccc':3}\n",
    "def f(item):#f를 이거로 주었기 때문에 가능한거....\n",
    "    return item[1]\n",
    "items = d.items()\n",
    "items.sort(key=f)\n",
    "print items"
   ]
  },
  {
   "cell_type": "code",
   "execution_count": 16,
   "metadata": {
    "collapsed": false
   },
   "outputs": [
    {
     "name": "stdout",
     "output_type": "stream",
     "text": [
      "[('five', 5), ('four', 4), ('one', 1), ('three', 3), ('two', 2)]\n"
     ]
    }
   ],
   "source": [
    "def f(item):#f를 이거로 주었기 때문에 가능한거....\n",
    "    return item[1]\n",
    "d = {'one':1, 'two':2, 'three':3, 'four':4, 'five':5}\n",
    "items = d.items()\n",
    "items.sort()\n",
    "print items"
   ]
  },
  {
   "cell_type": "code",
   "execution_count": null,
   "metadata": {
    "collapsed": true
   },
   "outputs": [],
   "source": []
  }
 ],
 "metadata": {
  "kernelspec": {
   "display_name": "Python 2",
   "language": "python",
   "name": "python2"
  },
  "language_info": {
   "codemirror_mode": {
    "name": "ipython",
    "version": 2
   },
   "file_extension": ".py",
   "mimetype": "text/x-python",
   "name": "python",
   "nbconvert_exporter": "python",
   "pygments_lexer": "ipython2",
   "version": "2.7.9"
  }
 },
 "nbformat": 4,
 "nbformat_minor": 0
}
