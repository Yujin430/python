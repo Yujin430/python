{
 "cells": [
  {
   "cell_type": "markdown",
   "metadata": {},
   "source": [
    "튜플은 리스트와 비교하면서 학습><\n",
    "\n",
    "시퀀스형 : 리스트와 튜플이 공통으로 가져가는 특징\n",
    "  - 인덱싱, 슬라이싱, 연결, 반복, 멤버쉽테스트 다 가능!!!!!!\n",
    "  \n",
    "리스트와의 가장 큰 차이점!!!!!! <<<튜플은 변경이 불가능>>> Immutable\n"
   ]
  },
  {
   "cell_type": "code",
   "execution_count": 1,
   "metadata": {
    "collapsed": false
   },
   "outputs": [
    {
     "name": "stdout",
     "output_type": "stream",
     "text": [
      "<type 'tuple'> <type 'tuple'> <type 'tuple'>\n"
     ]
    }
   ],
   "source": [
    "t1 = ()#비어있는 튜플\n",
    "t2 = (1,2,3)#괄호 사용\n",
    "\n",
    "t3 = 1,2,3#괄호가 없어도 튜플이 됨\n",
    "#()없이 연속적인 객체를 콤마(,)를 이용하여 나열하면 튜플 가능\n",
    "print type(t1), type(t2), type(t3)"
   ]
  },
  {
   "cell_type": "code",
   "execution_count": 4,
   "metadata": {
    "collapsed": false
   },
   "outputs": [
    {
     "name": "stdout",
     "output_type": "stream",
     "text": [
      "1\n",
      "<type 'int'>\n",
      "\n",
      "(1,)\n",
      "(1,)\n",
      "<type 'tuple'>\n",
      "<type 'tuple'>\n"
     ]
    }
   ],
   "source": [
    "#원소가 하나인 경우\n",
    "r1=(1)#튜플 안 원소가 하나면 튜플로 안봄!!! 꼭 콤마를 해줘야함\n",
    "print r1\n",
    "print type(r1)\n",
    "print\n",
    "r1 = (1,)#자료가 한 개일 때는 반드시 콤마가 있어야 한다.\n",
    "r2 = 1, #괄호는 없어도 콤마는 있어야 한다.\n",
    "print r1\n",
    "print r2#콤마 뒤에 아무것도 없으면 원소가 하나인 튜플인거야.\n",
    "print type(r1)\n",
    "print type(r2)"
   ]
  },
  {
   "cell_type": "code",
   "execution_count": 5,
   "metadata": {
    "collapsed": false
   },
   "outputs": [
    {
     "name": "stdout",
     "output_type": "stream",
     "text": [
      "(1, 2, 3, 1, 2, 3)\n",
      "(1, 2, 3, 'PyKUG', 'users')\n",
      "(1, 2, 3)\n",
      "\n",
      "1 (2, 3)\n",
      "3\n",
      "True\n"
     ]
    }
   ],
   "source": [
    "t=(1,2,3)\n",
    "print t*2\n",
    "print t+('PyKUG','users')\n",
    "print t#기존의 튜플은 변경되지 않음\n",
    "print\n",
    "print t[0],t[1:3]#인덱싱, 슬라이싱 연산\n",
    "print len(t)#t안의 원소의 갯수\n",
    "print 1 in t#1이라는 객체가 t안에 존재하는지 확인"
   ]
  },
  {
   "cell_type": "code",
   "execution_count": 8,
   "metadata": {
    "collapsed": false
   },
   "outputs": [
    {
     "ename": "TypeError",
     "evalue": "'tuple' object does not support item assignment",
     "output_type": "error",
     "traceback": [
      "\u001b[1;31m---------------------------------------------------------------------------\u001b[0m",
      "\u001b[1;31mTypeError\u001b[0m                                 Traceback (most recent call last)",
      "\u001b[1;32m<ipython-input-8-9adec8bf83fe>\u001b[0m in \u001b[0;36m<module>\u001b[1;34m()\u001b[0m\n\u001b[0;32m      1\u001b[0m \u001b[0mt\u001b[0m\u001b[1;33m=\u001b[0m\u001b[1;33m(\u001b[0m\u001b[1;36m1\u001b[0m\u001b[1;33m,\u001b[0m\u001b[1;36m2\u001b[0m\u001b[1;33m,\u001b[0m\u001b[1;36m3\u001b[0m\u001b[1;33m)\u001b[0m\u001b[1;33m\u001b[0m\u001b[0m\n\u001b[1;32m----> 2\u001b[1;33m \u001b[0mt\u001b[0m\u001b[1;33m[\u001b[0m\u001b[1;36m0\u001b[0m\u001b[1;33m]\u001b[0m \u001b[1;33m=\u001b[0m \u001b[1;36m100\u001b[0m \u001b[1;31m# 튜플은 변경 불가능, 에러발생\u001b[0m\u001b[1;33m\u001b[0m\u001b[0m\n\u001b[0m",
      "\u001b[1;31mTypeError\u001b[0m: 'tuple' object does not support item assignment"
     ]
    }
   ],
   "source": [
    "t=(1,2,3)\n",
    "t[0] = 100 # 튜플은 변경 불가능, 에러발생"
   ]
  },
  {
   "cell_type": "code",
   "execution_count": 9,
   "metadata": {
    "collapsed": false
   },
   "outputs": [
    {
     "name": "stdout",
     "output_type": "stream",
     "text": [
      "((12345, 54321, 'hello!'), (1, 2, 3, 4, 5))\n",
      "([1, 2, 3], (1, 2, 4))\n",
      "({1: 'abc', 2: 'def'}, (1, 2, 3))\n"
     ]
    }
   ],
   "source": [
    "t = (12345, 54321, 'hello!')#(정수, 정수, 문자열)\n",
    "u = t, (1, 2, 3, 4, 5)#튜플 내부 원소로 다른 튜플을 가질 수 있음\n",
    "#겉을 감싸고있는 '('t,(1,2,3,4,5)')' 큰 괄호가 생략된 형태임\n",
    "#첫번째 원소인 튜플 안에는 원소가 3개 두번째 원소인 튜플 안에는 원소5개\n",
    "#즉 u는 2개의 원소를 가진 튜플, 원소로 튜플을 가짐\n",
    "print u\n",
    "\n",
    "t2 = [1, 2, 3]#튜플 내부 원소로 리스트 가질 수 있음 \n",
    "u2 = t2, (1, 2, 4)#얘도 생략된 형태임......\n",
    "print u2\n",
    "\n",
    "t3 = {1:\"abc\", 2:\"def\"}#튜플 내부 원소로 사전 가질 수 있음 \n",
    "u3 = t3, (1, 2, 3)\n",
    "print u3"
   ]
  },
  {
   "cell_type": "code",
   "execution_count": 10,
   "metadata": {
    "collapsed": false
   },
   "outputs": [
    {
     "name": "stdout",
     "output_type": "stream",
     "text": [
      "<type 'int'> <type 'int'> <type 'int'>\n",
      "1\n",
      "2\n",
      "3\n"
     ]
    }
   ],
   "source": [
    "#튜플을 이용한 복수 개의 자료 할당\n",
    "x, y, z = 1, 2, 3 #x에 1 y에 2 z에 3이 들어감\n",
    "#뒤에 있는 1,2,3이 튜플인 (1,2,3)임!!\n",
    "print type(x), type(y), type(z)\n",
    "print x\n",
    "print y\n",
    "print z"
   ]
  },
  {
   "cell_type": "code",
   "execution_count": 11,
   "metadata": {
    "collapsed": false
   },
   "outputs": [
    {
     "name": "stdout",
     "output_type": "stream",
     "text": [
      "2 1\n"
     ]
    }
   ],
   "source": [
    "#튜플을 이용하서 원소의 변수 값 치환 가능\n",
    "x = 1\n",
    "y = 2\n",
    "x, y = y, x#x값과 y값 서로 교환\n",
    "print x, y"
   ]
  },
  {
   "cell_type": "code",
   "execution_count": 12,
   "metadata": {
    "collapsed": false
   },
   "outputs": [
    {
     "name": "stdout",
     "output_type": "stream",
     "text": [
      "1 2 hello (1, 2, 'hello')\n"
     ]
    }
   ],
   "source": [
    "#패킹!!!!!!\n",
    "t=1,2,'hello'\n",
    "#튜플 기호인 괄호가 생략되어 있는 것임\n",
    "#t=(1,2,'hello')패킹 = 3개의 객체를 하나의 변수에 묶는 것\n",
    "\n",
    "#언패킹\n",
    "x,y,z=t#x,y,z에 1,2,'hello'를 각각 대입\n",
    "#묶여있는 객체를 푸는 것"
   ]
  },
  {
   "cell_type": "code",
   "execution_count": 14,
   "metadata": {
    "collapsed": true
   },
   "outputs": [],
   "source": [
    "#패킹과 언패킹은 리스트에도 그대로 적용됨\n",
    "a=['fpp','bar',4,5]\n",
    "[x,y,z,w]=a\n",
    "#단순 패킹/언패킹 작업을 목적으로 할 때는 리스트보다 튜플을 사용"
   ]
  },
  {
   "cell_type": "markdown",
   "metadata": {},
   "source": [
    "- 튜플과 리스트와의 공통점\n",
    "  - 원소로서 임의의 객체를 저장\n",
    "  - 시퀀스 자료형\n",
    "    - 인덱싱, 슬라이싱, 연결, 반복, 멤버쉽테스트 연산 지원\n",
    "- 리스트와 다른 튜플만의 특징\n",
    "  - 변경 불가능(Immutable)\n",
    "  - 메소드를 가지지 않는다.\n",
    "    - 리스트는 append(),extend(),pop()등의 메소드를 가지는 반면 튜플은 X\n",
    "- list()와 tuple()내장 함수를 사용하여 리스트와 튜플을 상호 변환할 수 있음"
   ]
  },
  {
   "cell_type": "code",
   "execution_count": 15,
   "metadata": {
    "collapsed": false
   },
   "outputs": [
    {
     "name": "stdout",
     "output_type": "stream",
     "text": [
      "[100, 2, 3, 4, 5]\n",
      "(100, 2, 3, 4, 5)\n"
     ]
    }
   ],
   "source": [
    "T=(1,2,3,4,5)\n",
    "L=list(T)\n",
    "L[0]=100\n",
    "print L\n",
    "T=tuple(L)#L이라는 리스트가 튜플로 변환됨\n",
    "print T"
   ]
  },
  {
   "cell_type": "code",
   "execution_count": 17,
   "metadata": {
    "collapsed": false
   },
   "outputs": [
    {
     "name": "stdout",
     "output_type": "stream",
     "text": [
      "23 102\n"
     ]
    }
   ],
   "source": [
    "\"\"\"\n",
    "\n",
    "<<<함수가 하나 이상의 값을 리턴하는 것은 매우매우매우 중요!!!!!!>>>\n",
    "\n",
    "\"\"\"\n",
    "# <1> 함수가 하나 이상의 값을 리턴하는 경우\n",
    "def calc(a,b):\n",
    "    return a+b, a*b\n",
    "    #튜플에 해당하는 괄호가 숨어있는 것임\n",
    "x,y=calc(6,17)\n",
    "#리턴한 결과가 튜플임. 언패킹을 진행해줌!\n",
    "print x, y\n",
    "#튜플은 동시에 여러 개의 값 리턴 가능"
   ]
  },
  {
   "cell_type": "code",
   "execution_count": 19,
   "metadata": {
    "collapsed": false
   },
   "outputs": [
    {
     "name": "stdout",
     "output_type": "stream",
     "text": [
      "id : gslee, name : GangSeong\n"
     ]
    }
   ],
   "source": [
    "#<2>문자열 포매팅 시 %뒤에 튜플 사용\n",
    "print'id : %s, name : %s' % ('gslee','GangSeong')\n",
    "#포매팅 문자 %s가 2개니 %뒤에도 원소 2개!"
   ]
  },
  {
   "cell_type": "code",
   "execution_count": 20,
   "metadata": {
    "collapsed": false
   },
   "outputs": [
    {
     "name": "stdout",
     "output_type": "stream",
     "text": [
      "[('two', 2), ('one', 1)]\n"
     ]
    }
   ],
   "source": [
    "#<3>고정된 값을 쌍으로 표현하는 경우\n",
    "d={'one':1,'two':2}\n",
    "#사전의 원소 기준은 콤마임\n",
    "print d.items()\n",
    "#원소=item\n",
    "#결과는 리스트인데 원소는 튜플\n",
    "#고정된 쌍의 값. 쌍의 표현을 할때에는 튜플"
   ]
  },
  {
   "cell_type": "markdown",
   "metadata": {},
   "source": [
    "#집합자료형!"
   ]
  },
  {
   "cell_type": "markdown",
   "metadata": {},
   "source": [
    "- set은 builtin 된 자료형이 아님!\n",
    "- set 내장 함수를 사용한 집합 자료 생성\n",
    "  - 변경 가능(Mutable)한 객체임 \n",
    "  - 각 원소간에 순서는 없다 = - [note]시퀀스 자료형이 아니다.\n",
    "  - 각 원소는 중복될 수 없다\n",
    "  \n",
    " \n",
    " \n",
    " - 순서가 없음=시퀀스 자료형이 아님->인덱싱도 슬라이싱도 할 수 없음"
   ]
  },
  {
   "cell_type": "code",
   "execution_count": 1,
   "metadata": {
    "collapsed": false
   },
   "outputs": [
    {
     "name": "stdout",
     "output_type": "stream",
     "text": [
      "<type 'set'>\n",
      "set([1, 2, 3])\n",
      "\n",
      "set([1, 2, 3])\n"
     ]
    }
   ],
   "source": [
    "a= set([1,2,3])#set 내장함수 인자로는 리스트, 튜플, 사전 가능\n",
    "#리스트 튜플 사전은 빌트인되어있는거임\n",
    "print type(a)\n",
    "print a#set이라는 객체의 타입도 같이 나옴...\n",
    "print\n",
    "a= set([1,2,2,3])\n",
    "print a#중복된거는 제거됨.\n",
    "a= set((1,2,2,3))#바깥괄호는 함수부를때 쓰는거고 안에 괄호는 튜플\n",
    "#set안에 튜플이 들어가도 출력은 리스트로 됨!!!!!!"
   ]
  },
  {
   "cell_type": "code",
   "execution_count": 3,
   "metadata": {
    "collapsed": false
   },
   "outputs": [
    {
     "name": "stdout",
     "output_type": "stream",
     "text": [
      "<type 'set'>\n",
      "set(['a', 'c', 'b'])\n",
      "\n",
      "<type 'set'>\n",
      "set([1, 2, 3])\n"
     ]
    }
   ],
   "source": [
    "c = set({'a':1, 'b':2, 'c':3})\n",
    "print type(c)\n",
    "print c\n",
    "#사전의 경우 value는 무시하고 key값만 가져와서 집합이 만들어짐\n",
    "#사전에서는 key값이 value보다 중요한 역할\n",
    "#출력은 리스트 형태로 됨\n",
    "print\n",
    "\n",
    "d = set({'a':1, 'b':2, 'c':3}.values())\n",
    "#key가 아니라 value를 넣어주고 싶을 경우\n",
    "print type(d)\n",
    "print d"
   ]
  },
  {
   "cell_type": "code",
   "execution_count": 6,
   "metadata": {
    "collapsed": false
   },
   "outputs": [
    {
     "name": "stdout",
     "output_type": "stream",
     "text": [
      "set([])\n",
      "set([1, 2, 3, 4, 5])\n",
      "set([1, 2, 3, 4])\n",
      "set(['a', 'c', 'b'])\n",
      "set([(4, 5, 6), (1, 2, 3)])\n"
     ]
    },
    {
     "ename": "TypeError",
     "evalue": "unhashable type: 'list'",
     "output_type": "error",
     "traceback": [
      "\u001b[1;31m---------------------------------------------------------------------------\u001b[0m",
      "\u001b[1;31mTypeError\u001b[0m                                 Traceback (most recent call last)",
      "\u001b[1;32m<ipython-input-6-202dec6a5a1e>\u001b[0m in \u001b[0;36m<module>\u001b[1;34m()\u001b[0m\n\u001b[0;32m      9\u001b[0m \u001b[1;32mprint\u001b[0m \u001b[0mset\u001b[0m\u001b[1;33m(\u001b[0m\u001b[1;33m[\u001b[0m\u001b[1;33m(\u001b[0m\u001b[1;36m1\u001b[0m\u001b[1;33m,\u001b[0m\u001b[1;36m2\u001b[0m\u001b[1;33m,\u001b[0m\u001b[1;36m3\u001b[0m\u001b[1;33m)\u001b[0m\u001b[1;33m,\u001b[0m\u001b[1;33m(\u001b[0m\u001b[1;36m4\u001b[0m\u001b[1;33m,\u001b[0m\u001b[1;36m5\u001b[0m\u001b[1;33m,\u001b[0m\u001b[1;36m6\u001b[0m\u001b[1;33m)\u001b[0m\u001b[1;33m]\u001b[0m\u001b[1;33m)\u001b[0m\u001b[1;33m\u001b[0m\u001b[0m\n\u001b[0;32m     10\u001b[0m \u001b[1;31m#각 튜플은 원소로 가질 수 있음\u001b[0m\u001b[1;33m\u001b[0m\u001b[1;33m\u001b[0m\u001b[0m\n\u001b[1;32m---> 11\u001b[1;33m \u001b[1;32mprint\u001b[0m \u001b[0mset\u001b[0m\u001b[1;33m(\u001b[0m\u001b[1;33m[\u001b[0m\u001b[1;33m[\u001b[0m\u001b[1;36m1\u001b[0m\u001b[1;33m,\u001b[0m\u001b[1;36m2\u001b[0m\u001b[1;33m,\u001b[0m\u001b[1;36m3\u001b[0m\u001b[1;33m]\u001b[0m\u001b[1;33m,\u001b[0m\u001b[1;33m[\u001b[0m\u001b[1;36m4\u001b[0m\u001b[1;33m,\u001b[0m\u001b[1;36m5\u001b[0m\u001b[1;33m,\u001b[0m\u001b[1;36m6\u001b[0m\u001b[1;33m]\u001b[0m\u001b[1;33m]\u001b[0m\u001b[1;33m)\u001b[0m\u001b[1;33m\u001b[0m\u001b[0m\n\u001b[0m\u001b[0;32m     12\u001b[0m \u001b[1;31m#변경 가능 자료인 리스트는 집합의 원소가 될 수 없다.\u001b[0m\u001b[1;33m\u001b[0m\u001b[1;33m\u001b[0m\u001b[0m\n",
      "\u001b[1;31mTypeError\u001b[0m: unhashable type: 'list'"
     ]
    }
   ],
   "source": [
    "print set() \n",
    "#빈 set 객체 생성\n",
    "print set([1,2,3,4,5]) \n",
    "#초기 값은 일반적으로 시퀀스 자료형인 리스트를 넣어준다.\n",
    "print set([1,2,3,2,3,4]) \n",
    "#중복된 원소는 한 번만 표현\n",
    "print set('abc') \n",
    "#set내장함수 인자로 문자열도 가능함\n",
    "#문자열은 각 문자를 집합 원소로 지닌다.  \n",
    "print set([(1,2,3),(4,5,6),(1,2,3)]) \n",
    "#각 튜플은 원소로 가질 수 있음 \n",
    "print set([[1,2,3],[4,5,6]]) \n",
    "#변경 가능 자료인 리스트는 집합의 원소가 될 수 없다."
   ]
  },
  {
   "cell_type": "code",
   "execution_count": 8,
   "metadata": {
    "collapsed": false
   },
   "outputs": [
    {
     "name": "stdout",
     "output_type": "stream",
     "text": [
      "9\n",
      "True\n",
      "True\n"
     ]
    }
   ],
   "source": [
    "# set 기본 연산에는 len, x in s, x not in s 뿐임\n",
    "A = set([1,2,3,4,5,6,7,8,9])\n",
    "\n",
    "print len(A)      #집합의 원소의 수\n",
    "print 5 in A      #멤버십 테스트\n",
    "print 10 not in A #멤버십 테스트"
   ]
  },
  {
   "cell_type": "code",
   "execution_count": 9,
   "metadata": {
    "collapsed": false
   },
   "outputs": [
    {
     "name": "stdout",
     "output_type": "stream",
     "text": [
      "True\n",
      "True\n",
      "True\n",
      "True\n",
      "\n"
     ]
    }
   ],
   "source": [
    "#set에는 메소드들이 되게 많음!!!\n",
    "#subset과 superset 알아보기!\n",
    "B = set([4,5,6,10,20,30])\n",
    "C = set([10,20,30])\n",
    "#C의 원소들이 B의 원소에 모두 포함됨(B가 C를 포함)\n",
    "print C.issubset(B)#C가 B의 부분집합?\n",
    "print C <= B#issubset과 동일한 효과\n",
    "print B.issuperset(C)#B가 C를 포함하는 집합?\n",
    "print B >= C#issuperset과 동일한 효과\n",
    "print"
   ]
  },
  {
   "cell_type": "code",
   "execution_count": 10,
   "metadata": {
    "collapsed": false
   },
   "outputs": [
    {
     "name": "stdout",
     "output_type": "stream",
     "text": [
      "set([1, 2, 3, 4, 5, 6, 7, 8, 9, 10, 20, 30])\n",
      "set([1, 2, 3, 4, 5, 6, 7, 8, 9])\n",
      "\n",
      "set([4, 5, 6])\n",
      "set([1, 2, 3, 4, 5, 6, 7, 8, 9])\n",
      "\n",
      "set([1, 2, 3, 7, 8, 9])\n",
      "set([1, 2, 3, 4, 5, 6, 7, 8, 9])\n",
      "\n",
      "set([1, 2, 3, 7, 8, 9, 10, 20, 30])\n",
      "set([1, 2, 3, 4, 5, 6, 7, 8, 9])\n"
     ]
    }
   ],
   "source": [
    "A = set([1,2,3,4,5,6,7,8,9])\n",
    "B = set([4,5,6,10,20,30])\n",
    "#여기서 모두 함수가 수행되는 결과가 반환되는거지 집합 A 자체가 변하진않음\n",
    "print A.union(B) \n",
    "#A와 B의 합집합이 반환되는 것이지 집합 A가 변경되는 것은 아님\n",
    "print A\n",
    "print\n",
    "\n",
    "print A.intersection(B) \n",
    "#A와 B의 교집합\n",
    "print A\n",
    "print\n",
    "\n",
    "print A.difference(B) \n",
    "#A - B (차집합)\n",
    "print A\n",
    "print\n",
    "\n",
    "print A.symmetric_difference(B) \n",
    "#베타집합. A와 B의 합집합에서 교집합의 원소를 제외한 집합\n",
    "print A"
   ]
  },
  {
   "cell_type": "code",
   "execution_count": 11,
   "metadata": {
    "collapsed": false
   },
   "outputs": [
    {
     "name": "stdout",
     "output_type": "stream",
     "text": [
      "set([1, 2, 3, 4, 5, 6, 7, 8, 9, 10, 20, 30])\n",
      "set([1, 2, 3, 4, 5, 6, 7, 8, 9])\n",
      "\n",
      "set([4, 5, 6])\n",
      "set([1, 2, 3, 4, 5, 6, 7, 8, 9])\n",
      "\n",
      "set([1, 2, 3, 7, 8, 9])\n",
      "set([1, 2, 3, 4, 5, 6, 7, 8, 9])\n",
      "\n",
      "set([1, 2, 3, 7, 8, 9, 10, 20, 30])\n",
      "set([1, 2, 3, 7, 8, 9, 10, 20, 30])\n",
      "set([1, 2, 3, 4, 5, 6, 7, 8, 9])\n"
     ]
    }
   ],
   "source": [
    "A = set([1,2,3,4,5,6,7,8,9])\n",
    "B = set([4,5,6,10,20,30])\n",
    "#A에는 변함이 없다아아아아ㅏ아ㅏㅏㅏㅏㅏㅏㅏㅏㅏ\n",
    "print A | B \n",
    "#A와 B의 합집합 \n",
    "print A\n",
    "print\n",
    "\n",
    "print A & B \n",
    "#A와 B의 교집합 \n",
    "print A\n",
    "print\n",
    "\n",
    "print A - B \n",
    "#A - B (차집합)\n",
    "print A\n",
    "print\n",
    "\n",
    "print A.symmetric_difference(B) \n",
    "#베타집합. A와 B의 합집합에서 교집합의 원소를 제외한 집합\n",
    "print A ^ B\n",
    "print A"
   ]
  },
  {
   "cell_type": "code",
   "execution_count": 12,
   "metadata": {
    "collapsed": false
   },
   "outputs": [
    {
     "name": "stdout",
     "output_type": "stream",
     "text": [
      "set([1, 2, 3, 4, 5, 6, 7, 8, 9])\n",
      "\n",
      "True\n",
      "False\n"
     ]
    }
   ],
   "source": [
    "A = set([1,2,3,4,5,6,7,8,9])\n",
    "D = A.copy()\n",
    "#A내용은 그대로 가져오나 D라는 새로운 집합 생성\n",
    "print D\n",
    "print\n",
    "\n",
    "print A == D#자료값 비교\n",
    "print A is D#객체 동등성 비교\n",
    "#copy는 객체가 새로 생기는 것이므로 객체의 자료값은 같지만 객체는다름"
   ]
  },
  {
   "cell_type": "code",
   "execution_count": 17,
   "metadata": {
    "collapsed": false
   },
   "outputs": [
    {
     "ename": "TypeError",
     "evalue": "'set' object does not support indexing",
     "output_type": "error",
     "traceback": [
      "\u001b[1;31m---------------------------------------------------------------------------\u001b[0m",
      "\u001b[1;31mTypeError\u001b[0m                                 Traceback (most recent call last)",
      "\u001b[1;32m<ipython-input-17-b3ce851106c6>\u001b[0m in \u001b[0;36m<module>\u001b[1;34m()\u001b[0m\n\u001b[0;32m      1\u001b[0m \u001b[0mA\u001b[0m \u001b[1;33m=\u001b[0m \u001b[0mset\u001b[0m\u001b[1;33m(\u001b[0m\u001b[1;33m[\u001b[0m\u001b[1;36m1\u001b[0m\u001b[1;33m,\u001b[0m\u001b[1;36m2\u001b[0m\u001b[1;33m,\u001b[0m\u001b[1;36m3\u001b[0m\u001b[1;33m,\u001b[0m\u001b[1;36m4\u001b[0m\u001b[1;33m,\u001b[0m\u001b[1;36m5\u001b[0m\u001b[1;33m,\u001b[0m\u001b[1;36m6\u001b[0m\u001b[1;33m,\u001b[0m\u001b[1;36m7\u001b[0m\u001b[1;33m,\u001b[0m\u001b[1;36m8\u001b[0m\u001b[1;33m,\u001b[0m\u001b[1;36m9\u001b[0m\u001b[1;33m]\u001b[0m\u001b[1;33m)\u001b[0m\u001b[1;33m\u001b[0m\u001b[0m\n\u001b[1;32m----> 2\u001b[1;33m \u001b[1;32mprint\u001b[0m \u001b[0mA\u001b[0m\u001b[1;33m[\u001b[0m\u001b[1;36m0\u001b[0m\u001b[1;33m]\u001b[0m\u001b[1;33m\u001b[0m\u001b[0m\n\u001b[0m\u001b[0;32m      3\u001b[0m \u001b[1;31m#set은 시퀀스 자료형이 아니므로 인덱싱, 슬라이싱, 정렬 등을 지원하지 않음\u001b[0m\u001b[1;33m\u001b[0m\u001b[1;33m\u001b[0m\u001b[0m\n",
      "\u001b[1;31mTypeError\u001b[0m: 'set' object does not support indexing"
     ]
    }
   ],
   "source": [
    "A = set([1,2,3,4,5,6,7,8,9])\n",
    "print A[0]\n",
    "#set은 시퀀스 자료형이 아니므로 인덱싱, 슬라이싱, 정렬 등을 지원하지 않음"
   ]
  },
  {
   "cell_type": "code",
   "execution_count": 19,
   "metadata": {
    "collapsed": false
   },
   "outputs": [
    {
     "ename": "AttributeError",
     "evalue": "'set' object has no attribute 'sort'",
     "output_type": "error",
     "traceback": [
      "\u001b[1;31m---------------------------------------------------------------------------\u001b[0m",
      "\u001b[1;31mAttributeError\u001b[0m                            Traceback (most recent call last)",
      "\u001b[1;32m<ipython-input-19-71dfc7c8bf8d>\u001b[0m in \u001b[0;36m<module>\u001b[1;34m()\u001b[0m\n\u001b[0;32m      1\u001b[0m \u001b[0mA\u001b[0m \u001b[1;33m=\u001b[0m \u001b[0mset\u001b[0m\u001b[1;33m(\u001b[0m\u001b[1;33m[\u001b[0m\u001b[1;36m1\u001b[0m\u001b[1;33m,\u001b[0m\u001b[1;36m2\u001b[0m\u001b[1;33m,\u001b[0m\u001b[1;36m3\u001b[0m\u001b[1;33m,\u001b[0m\u001b[1;36m4\u001b[0m\u001b[1;33m,\u001b[0m\u001b[1;36m5\u001b[0m\u001b[1;33m,\u001b[0m\u001b[1;36m6\u001b[0m\u001b[1;33m,\u001b[0m\u001b[1;36m7\u001b[0m\u001b[1;33m,\u001b[0m\u001b[1;36m8\u001b[0m\u001b[1;33m,\u001b[0m\u001b[1;36m9\u001b[0m\u001b[1;33m]\u001b[0m\u001b[1;33m)\u001b[0m\u001b[1;33m\u001b[0m\u001b[0m\n\u001b[1;32m----> 2\u001b[1;33m \u001b[1;32mprint\u001b[0m \u001b[0mA\u001b[0m\u001b[1;33m.\u001b[0m\u001b[0msort\u001b[0m\u001b[1;33m(\u001b[0m\u001b[1;33m)\u001b[0m\u001b[1;31m#얘도 순서가 있어야 정렬되는건데....없으니까 안됨\u001b[0m\u001b[1;33m\u001b[0m\u001b[0m\n\u001b[0m",
      "\u001b[1;31mAttributeError\u001b[0m: 'set' object has no attribute 'sort'"
     ]
    }
   ],
   "source": [
    "A = set([1,2,3,4,5,6,7,8,9])\n",
    "print A.sort()#얘도 순서가 있어야 정렬되는건데....없으니까 안됨"
   ]
  },
  {
   "cell_type": "code",
   "execution_count": 20,
   "metadata": {
    "collapsed": false
   },
   "outputs": [
    {
     "ename": "TypeError",
     "evalue": "'set' object has no attribute '__getitem__'",
     "output_type": "error",
     "traceback": [
      "\u001b[1;31m---------------------------------------------------------------------------\u001b[0m",
      "\u001b[1;31mTypeError\u001b[0m                                 Traceback (most recent call last)",
      "\u001b[1;32m<ipython-input-20-38f4eb9c3ad0>\u001b[0m in \u001b[0;36m<module>\u001b[1;34m()\u001b[0m\n\u001b[0;32m      1\u001b[0m \u001b[0mA\u001b[0m \u001b[1;33m=\u001b[0m \u001b[0mset\u001b[0m\u001b[1;33m(\u001b[0m\u001b[1;33m[\u001b[0m\u001b[1;36m1\u001b[0m\u001b[1;33m,\u001b[0m\u001b[1;36m2\u001b[0m\u001b[1;33m,\u001b[0m\u001b[1;36m3\u001b[0m\u001b[1;33m,\u001b[0m\u001b[1;36m4\u001b[0m\u001b[1;33m,\u001b[0m\u001b[1;36m5\u001b[0m\u001b[1;33m,\u001b[0m\u001b[1;36m6\u001b[0m\u001b[1;33m,\u001b[0m\u001b[1;36m7\u001b[0m\u001b[1;33m,\u001b[0m\u001b[1;36m8\u001b[0m\u001b[1;33m,\u001b[0m\u001b[1;36m9\u001b[0m\u001b[1;33m]\u001b[0m\u001b[1;33m)\u001b[0m\u001b[1;33m\u001b[0m\u001b[0m\n\u001b[1;32m----> 2\u001b[1;33m \u001b[1;32mprint\u001b[0m \u001b[0mA\u001b[0m\u001b[1;33m[\u001b[0m\u001b[1;36m1\u001b[0m\u001b[1;33m:\u001b[0m\u001b[1;36m4\u001b[0m\u001b[1;33m]\u001b[0m\u001b[1;33m\u001b[0m\u001b[0m\n\u001b[0m",
      "\u001b[1;31mTypeError\u001b[0m: 'set' object has no attribute '__getitem__'"
     ]
    }
   ],
   "source": [
    "A = set([1,2,3,4,5,6,7,8,9])\n",
    "print A[1:4]"
   ]
  },
  {
   "cell_type": "code",
   "execution_count": 21,
   "metadata": {
    "collapsed": false
   },
   "outputs": [
    {
     "name": "stdout",
     "output_type": "stream",
     "text": [
      "[1, 2, 3, 4, 5, 6, 7, 8, 9]\n",
      "(1, 2, 3, 4, 5, 6, 7, 8, 9)\n"
     ]
    }
   ],
   "source": [
    "A = set([1,2,3,4,5,6,7,8,9])\n",
    "#list, tuple함수는 지원함\n",
    "print list(A)\n",
    "print tuple(A)"
   ]
  },
  {
   "cell_type": "code",
   "execution_count": 23,
   "metadata": {
    "collapsed": false
   },
   "outputs": [
    {
     "name": "stdout",
     "output_type": "stream",
     "text": [
      "set([1, 2, 3, 4, 5, 6, 7, 8, 9])\n",
      "1 2 3 4 5 6 7 8 9\n"
     ]
    }
   ],
   "source": [
    "#집합에 for~in 연산은 적용할 수 있다!!!!!!\n",
    "A = set([1,2,3,4,5,6,7,8,9])\n",
    "print A\n",
    "for ele in A:\n",
    "    print ele,"
   ]
  },
  {
   "cell_type": "code",
   "execution_count": 24,
   "metadata": {
    "collapsed": false
   },
   "outputs": [
    {
     "name": "stdout",
     "output_type": "stream",
     "text": [
      "set([1, 2, 3, 4, 5, 6])\n",
      "set([4, 5, 6])\n",
      "set([4, 5])\n",
      "set([4, 6, 7])\n",
      "set([8, 4, 6, 7])\n",
      "set([4, 6, 7])\n"
     ]
    }
   ],
   "source": [
    "#update -> .앞에 있는 집합 객체의 내용을 변경\n",
    "A = set([1,2,3,4])\n",
    "B = set([3,4,5,6])\n",
    "\n",
    "A.update(B)\n",
    "#A에 B 집합의 원소를 추가 시킴\n",
    "#중복 추가는 아님. 합집합의 느낌 근데 union과는 다르게 A가 바뀜\n",
    "#|= 와 동일한 결과\n",
    "print A\n",
    "\n",
    "A.intersection_update([4,5,6,7,8])\n",
    "#교집합 한 결과가 A에 반영되어 바뀜(_update때문에)\n",
    "#&= 와 동일한 결과\n",
    "print A\n",
    "\n",
    "A.difference_update([6,7,8]) \n",
    "#-= 와 동일한 결과\n",
    "print A\n",
    "\n",
    "A.symmetric_difference_update([5,6,7])\n",
    "#합집합에서 교집합 내용 빼기\n",
    "#^= 와 동일한 결과\n",
    "print A\n",
    "\n",
    "A.add(8)    \n",
    "#단순히 원소를 더하기\n",
    "print A\n",
    "\n",
    "A.remove(8) \n",
    "#단순히 원소를 없애기\n",
    "print A"
   ]
  },
  {
   "cell_type": "code",
   "execution_count": 25,
   "metadata": {
    "collapsed": false
   },
   "outputs": [
    {
     "ename": "KeyError",
     "evalue": "10",
     "output_type": "error",
     "traceback": [
      "\u001b[1;31m---------------------------------------------------------------------------\u001b[0m",
      "\u001b[1;31mKeyError\u001b[0m                                  Traceback (most recent call last)",
      "\u001b[1;32m<ipython-input-25-aba8bda9f541>\u001b[0m in \u001b[0;36m<module>\u001b[1;34m()\u001b[0m\n\u001b[0;32m      1\u001b[0m \u001b[0mA\u001b[0m\u001b[1;33m=\u001b[0m\u001b[0mset\u001b[0m\u001b[1;33m(\u001b[0m\u001b[1;33m[\u001b[0m\u001b[1;36m1\u001b[0m\u001b[1;33m,\u001b[0m\u001b[1;36m2\u001b[0m\u001b[1;33m,\u001b[0m\u001b[1;36m3\u001b[0m\u001b[1;33m,\u001b[0m\u001b[1;36m4\u001b[0m\u001b[1;33m,\u001b[0m\u001b[1;36m5\u001b[0m\u001b[1;33m,\u001b[0m\u001b[1;36m6\u001b[0m\u001b[1;33m]\u001b[0m\u001b[1;33m)\u001b[0m\u001b[1;33m\u001b[0m\u001b[0m\n\u001b[1;32m----> 2\u001b[1;33m \u001b[0mA\u001b[0m\u001b[1;33m.\u001b[0m\u001b[0mremove\u001b[0m\u001b[1;33m(\u001b[0m\u001b[1;36m10\u001b[0m\u001b[1;33m)\u001b[0m \u001b[1;31m# 없는 원소를 제거하면 KeyError 발생\u001b[0m\u001b[1;33m\u001b[0m\u001b[0m\n\u001b[0m",
      "\u001b[1;31mKeyError\u001b[0m: 10"
     ]
    }
   ],
   "source": [
    "A=set([1,2,3,4,5,6])\n",
    "A.remove(10) \n",
    "#없는 원소를 제거하면 KeyError 발생"
   ]
  },
  {
   "cell_type": "code",
   "execution_count": 26,
   "metadata": {
    "collapsed": false
   },
   "outputs": [
    {
     "name": "stdout",
     "output_type": "stream",
     "text": [
      "set([1, 2, 3, 4, 5])\n",
      "set([2, 3, 4, 5])\n",
      "set([])\n"
     ]
    }
   ],
   "source": [
    "A=set([1,2,3,4,5,6])\n",
    "A.discard(10) \n",
    "#remove와 같으나 예외가 발생하지 않음\n",
    "A.discard(6)  \n",
    "#원소 6제거\n",
    "print A\n",
    "\n",
    "A.pop() \n",
    "#임의의 원소 하나 꺼내기\n",
    "print A \n",
    "\n",
    "A = set([1,2,3,4])\n",
    "A.clear() \n",
    "#원소를 모두 없애기\n",
    "print A"
   ]
  },
  {
   "cell_type": "markdown",
   "metadata": {
    "collapsed": true
   },
   "source": [
    "파이썬의 장점\n",
    "- 생산성이 높다(productivity) : 코딩후 결과를 내기까지의 과정에 걸리는 시간이 짧다. \n",
    "- ex)유튜브 하나를 구축하기까지 걸리는 전체 시간이 다른 언어를 사용할 때 보다 짧음\n",
    "\n",
    "파이썬의 단점\n",
    "- 느리다, C가 천배 만배 더 빠름\n",
    "\n",
    "거대한 시스템을 만들면 유지보수도 필요하고...\n",
    "만들어질 시스템이 복잡해지다보니 장점이 단점을 상쇄시킴\n",
    "반면 임베디드 시스템에 들어가는 언어로는 C언어가 더 적절함"
   ]
  },
  {
   "cell_type": "code",
   "execution_count": 1,
   "metadata": {
    "collapsed": false
   },
   "outputs": [
    {
     "name": "stdout",
     "output_type": "stream",
     "text": [
      "{'soccer': 11, 'basketball': 5, 'baseball': 9, 'volleyball': 6}\n",
      "4\n"
     ]
    }
   ],
   "source": [
    "member = {'basketball':5, 'soccer':11, 'baseball':9}\n",
    "member['volleyball'] = 7 # 새로운 아이템 설정\n",
    "member['volleyball'] = 6 # 변경\n",
    "print member\n",
    "print len(member)        # 아이템의 개수 반환 "
   ]
  },
  {
   "cell_type": "code",
   "execution_count": 3,
   "metadata": {
    "collapsed": false
   },
   "outputs": [
    {
     "name": "stdout",
     "output_type": "stream",
     "text": [
      "{0: 0, 1: 1, 2: 4, 3: 9, 4: 16, 5: 25, 6: 36, 7: 49, 8: 64, 9: 81}\n"
     ]
    }
   ],
   "source": [
    "m={}\n",
    "for x in range(10):\n",
    "    m[x]=x**2 #인덱싱과 유사한 코드를 줘버림... \n",
    "    #이게 키값은 x, value는 x^2으로 들어감\n",
    "print m"
   ]
  },
  {
   "cell_type": "code",
   "execution_count": 4,
   "metadata": {
    "collapsed": false
   },
   "outputs": [
    {
     "name": "stdout",
     "output_type": "stream",
     "text": [
      "{'soccer': 11, 'baseball': 9}\n"
     ]
    }
   ],
   "source": [
    "member = {'basketball':5, 'soccer':11, 'baseball':9}\n",
    "del member['basketball'] # 항목 삭제\n",
    "print member"
   ]
  },
  {
   "cell_type": "code",
   "execution_count": 5,
   "metadata": {
    "collapsed": false
   },
   "outputs": [
    {
     "name": "stdout",
     "output_type": "stream",
     "text": [
      "9\n",
      "-1\n",
      "\n",
      "1\n"
     ]
    }
   ],
   "source": [
    "#리스트나 사전은 변경가능하므로 키의 위치에 올 수 없음\n",
    "#그렇지만 함수 이름은 사전의 키로 활용할 수 있음 ->함수도 객체얌\n",
    "\"\"\"\n",
    "add                 #그러니까 변수 이름이라 해도 상관 ㄴㄴ\n",
    "ㅁ  ->  (실제함수)\n",
    "\"\"\"\n",
    "def add(a, b):\n",
    "    return a + b\n",
    "\n",
    "def sub(a, b):\n",
    "    return a - b\n",
    "\n",
    "action = {0: add, 1: sub}   # 함수 이름을 사전의 값으로 사용\n",
    "print action[0](4, 5)#action[0]가 add를 반환, 인수(4,5)로 함수를 호출함\n",
    "#파이썬에서 변수이름뒤에 ()와 같은 괄호가 있다면 function call로 받아들임.\n",
    "print action[1](4, 5)\n",
    "print\n",
    "\n",
    "\n",
    "#이건 거의 사용되지 않는 경우임...시험때만 공부하고 잊어버리기!\n",
    "action2 = {add: 1, sub: 2}  # 함수 이름을 사전의 키로 사용가능 \n",
    "print action2[add]"
   ]
  },
  {
   "cell_type": "code",
   "execution_count": 7,
   "metadata": {
    "collapsed": false
   },
   "outputs": [
    {
     "name": "stdout",
     "output_type": "stream",
     "text": [
      "False\n"
     ]
    }
   ],
   "source": [
    "a=1\n",
    "print callable(a) #이게 의미하는게 함수의 콜이 가능하냐 마냐를 물어보는 것임"
   ]
  },
  {
   "cell_type": "code",
   "execution_count": 8,
   "metadata": {
    "collapsed": false
   },
   "outputs": [
    {
     "name": "stdout",
     "output_type": "stream",
     "text": [
      "True\n"
     ]
    }
   ],
   "source": [
    "def b():\n",
    "    return 10+20\n",
    "print callable(b)\n"
   ]
  },
  {
   "cell_type": "code",
   "execution_count": 16,
   "metadata": {
    "collapsed": false
   },
   "outputs": [
    {
     "name": "stdout",
     "output_type": "stream",
     "text": [
      "{} {}\n"
     ]
    }
   ],
   "source": [
    "a={}\n",
    "b=dict() #둘다 빈 사전이 만들어지게 됨\n",
    "print a, b"
   ]
  },
  {
   "cell_type": "code",
   "execution_count": 11,
   "metadata": {
    "collapsed": false
   },
   "outputs": [
    {
     "name": "stdout",
     "output_type": "stream",
     "text": [
      "[('one', 1), ('two', 2), ('three', 3)]\n",
      "{'three': 3, 'two': 2, 'one': 1}\n"
     ]
    }
   ],
   "source": [
    "keys = ['one', 'two', 'three']\n",
    "values = (1, 2, 3 ,4)#원소 길이가 다르면 걍 무시됨\n",
    "print zip(keys, values) \n",
    "# zip(): 두 개의 자료를 순서대로 쌍으로 묶은 튜플들의 리스트 반환\n",
    "print dict(zip(keys, values))\n",
    "#사전은 순서가 없어서......\n",
    "#검색속도가 빠름"
   ]
  },
  {
   "cell_type": "code",
   "execution_count": 17,
   "metadata": {
    "collapsed": false
   },
   "outputs": [
    {
     "name": "stdout",
     "output_type": "stream",
     "text": [
      "{'a': [1, 2, 3], 'b': 4}\n",
      "{'a': [1, 2, 3], 'b': 4}\n",
      "\n",
      "{'a': [1, 2, 3], 'b': 100}\n",
      "{'a': [1, 2, 3], 'b': 4}\n",
      "\n",
      "{'a': [100, 2, 3], 'b': 100}\n",
      "{'a': [100, 2, 3], 'b': 4}\n"
     ]
    }
   ],
   "source": [
    "#사전의 카피 -> 기본적으로 얕은 카피임\n",
    "#얕은복사인지 깊은복사인지 확인을 해봐야 함.\n",
    "#얕은복사는 딱 한단계만 복사를 한거얌......\n",
    "#깊은 복사는 끝까지 전부 카피를 해줌\n",
    "phone = {'a': [1,2,3], 'b': 4}\n",
    "phone2 = phone.copy()\n",
    "print phone\n",
    "print phone2\n",
    "print\n",
    "\n",
    "phone['b'] = 100\n",
    "print phone\n",
    "print phone2\n",
    "print\n",
    "\n",
    "phone['a'][0] = 100#\n",
    "print phone\n",
    "print phone2"
   ]
  },
  {
   "cell_type": "code",
   "execution_count": 18,
   "metadata": {
    "collapsed": false
   },
   "outputs": [
    {
     "name": "stdout",
     "output_type": "stream",
     "text": [
      "9465215\n",
      "None\n"
     ]
    },
    {
     "ename": "KeyError",
     "evalue": "'gslee'",
     "output_type": "error",
     "traceback": [
      "\u001b[1;31m---------------------------------------------------------------------------\u001b[0m",
      "\u001b[1;31mKeyError\u001b[0m                                  Traceback (most recent call last)",
      "\u001b[1;32m<ipython-input-18-0d48e7d9ad00>\u001b[0m in \u001b[0;36m<module>\u001b[1;34m()\u001b[0m\n\u001b[0;32m      5\u001b[0m \u001b[1;33m\u001b[0m\u001b[0m\n\u001b[0;32m      6\u001b[0m \u001b[0mph\u001b[0m \u001b[1;33m=\u001b[0m \u001b[1;33m{\u001b[0m\u001b[1;34m'jack'\u001b[0m\u001b[1;33m:\u001b[0m\u001b[1;36m9465215\u001b[0m\u001b[1;33m,\u001b[0m \u001b[1;34m'jin'\u001b[0m\u001b[1;33m:\u001b[0m\u001b[1;36m1111\u001b[0m\u001b[1;33m,\u001b[0m \u001b[1;34m'Joseph'\u001b[0m\u001b[1;33m:\u001b[0m\u001b[1;36m6584321\u001b[0m\u001b[1;33m}\u001b[0m\u001b[1;33m\u001b[0m\u001b[0m\n\u001b[1;32m----> 7\u001b[1;33m \u001b[1;32mprint\u001b[0m \u001b[0mph\u001b[0m\u001b[1;33m[\u001b[0m\u001b[1;34m'gslee'\u001b[0m\u001b[1;33m]\u001b[0m \u001b[1;31m# ph['gslee']는 키가 없는 경우 예외발생\u001b[0m\u001b[1;33m\u001b[0m\u001b[0m\n\u001b[0m",
      "\u001b[1;31mKeyError\u001b[0m: 'gslee'"
     ]
    }
   ],
   "source": [
    "ph = {'jack':9465215, 'jin':1111, 'Joseph':6584321}\n",
    "\n",
    "print ph.get('jack')  # 'jack'에 대한 값을 얻는다. ph['jack']과 같다.\n",
    "print ph.get('gslee') # 'gslee'에 대한 값을 얻는다. 값이 없는 경우 None반환\n",
    "\n",
    "ph = {'jack':9465215, 'jin':1111, 'Joseph':6584321}\n",
    "print ph['gslee'] # ph['gslee']는 키가 없는 경우 예외발생"
   ]
  },
  {
   "cell_type": "code",
   "execution_count": 19,
   "metadata": {
    "collapsed": false
   },
   "outputs": [
    {
     "name": "stdout",
     "output_type": "stream",
     "text": [
      "[('a', 1), ('c', 3), ('b', 2)]\n",
      "\n",
      "[('a', 1), ('b', 2), ('c', 3)]\n",
      "\n",
      "a 1\n",
      "b 2\n",
      "c 3\n"
     ]
    }
   ],
   "source": [
    "D = {'a':1, 'b':2, 'c':3}\n",
    "items = D.items()#튜플들을 가진 리스트\n",
    "print items#리스트\n",
    "print\n",
    "\n",
    "items.sort()#리스트는 키값(튜플의 첫번째 원소)을 기준으로 소트 진행\n",
    "print items#소트완료\n",
    "print \n",
    "\n",
    "for k,v in items:\n",
    "    print k, v\n",
    "\n",
    "#튜플 두번째 원소를 바탕으로 소트하는법 해보기"
   ]
  },
  {
   "cell_type": "code",
   "execution_count": 21,
   "metadata": {
    "collapsed": false
   },
   "outputs": [
    {
     "ename": "NameError",
     "evalue": "name 'dicWords' is not defined",
     "output_type": "error",
     "traceback": [
      "\u001b[1;31m---------------------------------------------------------------------------\u001b[0m",
      "\u001b[1;31mNameError\u001b[0m                                 Traceback (most recent call last)",
      "\u001b[1;32m<ipython-input-21-609bf3dc8ee2>\u001b[0m in \u001b[0;36m<module>\u001b[1;34m()\u001b[0m\n\u001b[0;32m     13\u001b[0m \u001b[1;31m#단어 쪼개놓은 리스트에서 각각 단어의 개수 세기\u001b[0m\u001b[1;33m\u001b[0m\u001b[1;33m\u001b[0m\u001b[0m\n\u001b[0;32m     14\u001b[0m \u001b[1;32mfor\u001b[0m \u001b[0mi\u001b[0m \u001b[1;32min\u001b[0m \u001b[0mlistSplited\u001b[0m\u001b[1;33m:\u001b[0m\u001b[1;33m\u001b[0m\u001b[0m\n\u001b[1;32m---> 15\u001b[1;33m     \u001b[1;32mif\u001b[0m \u001b[1;32mnot\u001b[0m \u001b[0mi\u001b[0m \u001b[1;32min\u001b[0m \u001b[0mdicWords\u001b[0m\u001b[1;33m.\u001b[0m\u001b[0mkeys\u001b[0m\u001b[1;33m(\u001b[0m\u001b[1;33m)\u001b[0m\u001b[1;33m:\u001b[0m\u001b[1;33m\u001b[0m\u001b[0m\n\u001b[0m\u001b[0;32m     16\u001b[0m         \u001b[0mwords\u001b[0m\u001b[1;33m[\u001b[0m\u001b[0mi\u001b[0m\u001b[1;33m]\u001b[0m\u001b[1;33m=\u001b[0m\u001b[1;36m1\u001b[0m\u001b[1;33m\u001b[0m\u001b[0m\n\u001b[0;32m     17\u001b[0m     \u001b[1;32melse\u001b[0m\u001b[1;33m:\u001b[0m\u001b[1;33m\u001b[0m\u001b[0m\n",
      "\u001b[1;31mNameError\u001b[0m: name 'dicWords' is not defined"
     ]
    }
   ],
   "source": [
    "# -*-coding:utf-8 -*-\n",
    "s = \"We propose to start by making it possible to teach progra\\\n",
    "mming in python, an existing scripting language, and to focus \\\n",
    "on creating a new development enviroment and teaching \\\n",
    "materials for it.\"\n",
    " \n",
    "# 대치 과정\n",
    "s=s.replace(',','')\n",
    "s=s.replace('.','')\n",
    "s=s.lower()\n",
    " \n",
    "#공백 단위로 단어 쪼개고 단어 넣을 딕셔너리 선언\n",
    "listSplited = s.split()\n",
    "words = {}\n",
    " \n",
    "#단어 쪼개놓은 리스트에서 각각 단어의 개수 세기\n",
    "for i in listSplited:\n",
    "    if not i in dicWords.keys():\n",
    "        words[i]=1\n",
    "    else:\n",
    "        words[i]=dicWords[i]+1\n",
    "         \n",
    "#포맷을 이용한 출력\n",
    "format = \"%s : %d\"\n",
    "  \n",
    "for i in dicWords:\n",
    "    print format % (i, words[i])"
   ]
  },
  {
   "cell_type": "code",
   "execution_count": null,
   "metadata": {
    "collapsed": true
   },
   "outputs": [],
   "source": []
  }
 ],
 "metadata": {
  "kernelspec": {
   "display_name": "Python 2",
   "language": "python",
   "name": "python2"
  },
  "language_info": {
   "codemirror_mode": {
    "name": "ipython",
    "version": 2
   },
   "file_extension": ".py",
   "mimetype": "text/x-python",
   "name": "python",
   "nbconvert_exporter": "python",
   "pygments_lexer": "ipython2",
   "version": "2.7.9"
  }
 },
 "nbformat": 4,
 "nbformat_minor": 0
}
