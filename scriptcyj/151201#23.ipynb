{
 "cells": [
  {
   "cell_type": "markdown",
   "metadata": {},
   "source": [
    "##파이썬 예외의 종류\n",
    "- 구문 에러 (Syntax Error)\n",
    "\n",
    "  - 문법적 에러\n",
    "  - 이클립스 등의 통합개발환경 도구에서는 자동으로 실행 전에 구문 에러를 체크 해 줌\n",
    "  - 파이썬은 상대적으로 언어적 문법이 간단하기 때문에 구문 자체의 에러 발생 비율이 낮거나 다른 도구를 사용하여 완벽하게 제거할 수 있음\n",
    "- 예외 (Exception)\n",
    "\n",
    " - 구문 에러는 없으나 프로그램 실행 중 더 이상 진행 할 수 없는 상황"
   ]
  },
  {
   "cell_type": "code",
   "execution_count": 10,
   "metadata": {
    "collapsed": false
   },
   "outputs": [
    {
     "ename": "NameError",
     "evalue": "name 'spam' is not defined",
     "output_type": "error",
     "traceback": [
      "\u001b[1;31m---------------------------------------------------------------------------\u001b[0m",
      "\u001b[1;31mNameError\u001b[0m                                 Traceback (most recent call last)",
      "\u001b[1;32m<ipython-input-10-9cf0dc567804>\u001b[0m in \u001b[0;36m<module>\u001b[1;34m()\u001b[0m\n\u001b[0;32m      1\u001b[0m \u001b[1;31m#예외발생 예제1 - 정의되지 않은 변수 사용\u001b[0m\u001b[1;33m\u001b[0m\u001b[1;33m\u001b[0m\u001b[0m\n\u001b[0;32m      2\u001b[0m \u001b[1;31m#NameError\u001b[0m\u001b[1;33m\u001b[0m\u001b[1;33m\u001b[0m\u001b[0m\n\u001b[1;32m----> 3\u001b[1;33m \u001b[1;36m4\u001b[0m \u001b[1;33m+\u001b[0m \u001b[0mspam\u001b[0m\u001b[1;33m*\u001b[0m\u001b[1;36m3\u001b[0m\u001b[1;33m\u001b[0m\u001b[0m\n\u001b[0m\u001b[0;32m      4\u001b[0m \u001b[1;31m#error이므로 예외보다는 강한 예외\u001b[0m\u001b[1;33m\u001b[0m\u001b[1;33m\u001b[0m\u001b[0m\n",
      "\u001b[1;31mNameError\u001b[0m: name 'spam' is not defined"
     ]
    }
   ],
   "source": [
    "#예외발생 예제1 - 정의되지 않은 변수 사용\n",
    "#NameError\n",
    "4 + spam*3\n",
    "#error이므로 예외보다는 강한 예외"
   ]
  },
  {
   "cell_type": "code",
   "execution_count": 3,
   "metadata": {
    "collapsed": false
   },
   "outputs": [
    {
     "ename": "ZeroDivisionError",
     "evalue": "integer division or modulo by zero",
     "output_type": "error",
     "traceback": [
      "\u001b[1;31m---------------------------------------------------------------------------\u001b[0m",
      "\u001b[1;31mZeroDivisionError\u001b[0m                         Traceback (most recent call last)",
      "\u001b[1;32m<ipython-input-3-24f920309657>\u001b[0m in \u001b[0;36m<module>\u001b[1;34m()\u001b[0m\n\u001b[0;32m      2\u001b[0m \u001b[0ma\u001b[0m \u001b[1;33m=\u001b[0m \u001b[1;36m10\u001b[0m\u001b[1;33m\u001b[0m\u001b[0m\n\u001b[0;32m      3\u001b[0m \u001b[0mb\u001b[0m \u001b[1;33m=\u001b[0m \u001b[1;36m0\u001b[0m\u001b[1;33m\u001b[0m\u001b[0m\n\u001b[1;32m----> 4\u001b[1;33m \u001b[0mc\u001b[0m \u001b[1;33m=\u001b[0m \u001b[0ma\u001b[0m \u001b[1;33m/\u001b[0m \u001b[0mb\u001b[0m\u001b[1;33m\u001b[0m\u001b[0m\n\u001b[0m",
      "\u001b[1;31mZeroDivisionError\u001b[0m: integer division or modulo by zero"
     ]
    }
   ],
   "source": [
    "#예외발생예제2 - 숫자 0으로 나누기\n",
    "#ZeroDivisionError\n",
    "a = 10\n",
    "b = 0 \n",
    "c = a / b"
   ]
  },
  {
   "cell_type": "code",
   "execution_count": 4,
   "metadata": {
    "collapsed": false
   },
   "outputs": [
    {
     "ename": "ZeroDivisionError",
     "evalue": "float division by zero",
     "output_type": "error",
     "traceback": [
      "\u001b[1;31m---------------------------------------------------------------------------\u001b[0m",
      "\u001b[1;31mZeroDivisionError\u001b[0m                         Traceback (most recent call last)",
      "\u001b[1;32m<ipython-input-4-340dcfbf17b9>\u001b[0m in \u001b[0;36m<module>\u001b[1;34m()\u001b[0m\n\u001b[0;32m      4\u001b[0m         \u001b[1;32mprint\u001b[0m \u001b[1;36m10.0\u001b[0m \u001b[1;33m/\u001b[0m \u001b[0mn\u001b[0m\u001b[1;33m\u001b[0m\u001b[0m\n\u001b[0;32m      5\u001b[0m \u001b[1;33m\u001b[0m\u001b[0m\n\u001b[1;32m----> 6\u001b[1;33m \u001b[0mdivision\u001b[0m\u001b[1;33m(\u001b[0m\u001b[1;33m)\u001b[0m\u001b[1;33m\u001b[0m\u001b[0m\n\u001b[0m",
      "\u001b[1;32m<ipython-input-4-340dcfbf17b9>\u001b[0m in \u001b[0;36mdivision\u001b[1;34m()\u001b[0m\n\u001b[0;32m      2\u001b[0m \u001b[1;32mdef\u001b[0m \u001b[0mdivision\u001b[0m\u001b[1;33m(\u001b[0m\u001b[1;33m)\u001b[0m\u001b[1;33m:\u001b[0m\u001b[1;33m\u001b[0m\u001b[0m\n\u001b[0;32m      3\u001b[0m     \u001b[1;32mfor\u001b[0m \u001b[0mn\u001b[0m \u001b[1;32min\u001b[0m \u001b[0mrange\u001b[0m\u001b[1;33m(\u001b[0m\u001b[1;36m0\u001b[0m\u001b[1;33m,\u001b[0m \u001b[1;36m5\u001b[0m\u001b[1;33m)\u001b[0m\u001b[1;33m:\u001b[0m\u001b[1;33m\u001b[0m\u001b[0m\n\u001b[1;32m----> 4\u001b[1;33m         \u001b[1;32mprint\u001b[0m \u001b[1;36m10.0\u001b[0m \u001b[1;33m/\u001b[0m \u001b[0mn\u001b[0m\u001b[1;33m\u001b[0m\u001b[0m\n\u001b[0m\u001b[0;32m      5\u001b[0m \u001b[1;33m\u001b[0m\u001b[0m\n\u001b[0;32m      6\u001b[0m \u001b[0mdivision\u001b[0m\u001b[1;33m(\u001b[0m\u001b[1;33m)\u001b[0m\u001b[1;33m\u001b[0m\u001b[0m\n",
      "\u001b[1;31mZeroDivisionError\u001b[0m: float division by zero"
     ]
    }
   ],
   "source": [
    "#[note] 예외가 발생하면 프로그램은 바로 종료된다.\n",
    "def division():\n",
    "    for n in range(0, 5):\n",
    "        print 10.0 / n\n",
    "\n",
    "division()   "
   ]
  },
  {
   "cell_type": "code",
   "execution_count": 5,
   "metadata": {
    "collapsed": false
   },
   "outputs": [
    {
     "ename": "TypeError",
     "evalue": "cannot concatenate 'str' and 'int' objects",
     "output_type": "error",
     "traceback": [
      "\u001b[1;31m---------------------------------------------------------------------------\u001b[0m",
      "\u001b[1;31mTypeError\u001b[0m                                 Traceback (most recent call last)",
      "\u001b[1;32m<ipython-input-5-ca9918456dc5>\u001b[0m in \u001b[0;36m<module>\u001b[1;34m()\u001b[0m\n\u001b[0;32m      1\u001b[0m \u001b[1;31m#예외 발생 예제 3 -문자열과 숫자 더하기\u001b[0m\u001b[1;33m\u001b[0m\u001b[1;33m\u001b[0m\u001b[0m\n\u001b[1;32m----> 2\u001b[1;33m \u001b[1;34m'2'\u001b[0m \u001b[1;33m+\u001b[0m \u001b[1;36m2\u001b[0m\u001b[1;33m\u001b[0m\u001b[0m\n\u001b[0m",
      "\u001b[1;31mTypeError\u001b[0m: cannot concatenate 'str' and 'int' objects"
     ]
    }
   ],
   "source": [
    "#예외 발생 예제 3 -문자열과 숫자 더하기\n",
    "#TypeError \n",
    "'2' + 2\n",
    "#문자열 + 수치형 자료 <-두개의 타입이 달라서 연결 안됨"
   ]
  },
  {
   "cell_type": "code",
   "execution_count": 6,
   "metadata": {
    "collapsed": false
   },
   "outputs": [
    {
     "ename": "IndexError",
     "evalue": "list index out of range",
     "output_type": "error",
     "traceback": [
      "\u001b[1;31m---------------------------------------------------------------------------\u001b[0m",
      "\u001b[1;31mIndexError\u001b[0m                                Traceback (most recent call last)",
      "\u001b[1;32m<ipython-input-6-ea70779206bb>\u001b[0m in \u001b[0;36m<module>\u001b[1;34m()\u001b[0m\n\u001b[0;32m      1\u001b[0m \u001b[1;31m#예외 발생 예제 4 - 참조 범위를 넘어선 index사용\u001b[0m\u001b[1;33m\u001b[0m\u001b[1;33m\u001b[0m\u001b[0m\n\u001b[0;32m      2\u001b[0m \u001b[0ml\u001b[0m \u001b[1;33m=\u001b[0m \u001b[1;33m[\u001b[0m\u001b[1;36m1\u001b[0m\u001b[1;33m,\u001b[0m \u001b[1;36m2\u001b[0m\u001b[1;33m]\u001b[0m\u001b[1;33m\u001b[0m\u001b[0m\n\u001b[1;32m----> 3\u001b[1;33m \u001b[1;32mprint\u001b[0m \u001b[0ml\u001b[0m\u001b[1;33m[\u001b[0m\u001b[1;36m2\u001b[0m\u001b[1;33m]\u001b[0m\u001b[1;33m\u001b[0m\u001b[0m\n\u001b[0m",
      "\u001b[1;31mIndexError\u001b[0m: list index out of range"
     ]
    }
   ],
   "source": [
    "#예외 발생 예제 4 - 참조 범위를 넘어선 index사용\n",
    "#IndexError \n",
    "l = [1, 2]\n",
    "print l[2]"
   ]
  },
  {
   "cell_type": "code",
   "execution_count": 7,
   "metadata": {
    "collapsed": false
   },
   "outputs": [
    {
     "ename": "KeyError",
     "evalue": "'c'",
     "output_type": "error",
     "traceback": [
      "\u001b[1;31m---------------------------------------------------------------------------\u001b[0m",
      "\u001b[1;31mKeyError\u001b[0m                                  Traceback (most recent call last)",
      "\u001b[1;32m<ipython-input-7-d28c601f140d>\u001b[0m in \u001b[0;36m<module>\u001b[1;34m()\u001b[0m\n\u001b[0;32m      1\u001b[0m \u001b[1;31m#예외 발생 예제 5 - 등록되지 않은 키로 사전 검색\u001b[0m\u001b[1;33m\u001b[0m\u001b[1;33m\u001b[0m\u001b[0m\n\u001b[0;32m      2\u001b[0m \u001b[0md\u001b[0m \u001b[1;33m=\u001b[0m \u001b[1;33m{\u001b[0m\u001b[1;34m\"a\"\u001b[0m\u001b[1;33m:\u001b[0m \u001b[1;36m1\u001b[0m\u001b[1;33m,\u001b[0m \u001b[1;34m\"b\"\u001b[0m\u001b[1;33m:\u001b[0m \u001b[1;36m2\u001b[0m\u001b[1;33m}\u001b[0m\u001b[1;33m\u001b[0m\u001b[0m\n\u001b[1;32m----> 3\u001b[1;33m \u001b[1;32mprint\u001b[0m \u001b[0md\u001b[0m\u001b[1;33m[\u001b[0m\u001b[1;34m'c'\u001b[0m\u001b[1;33m]\u001b[0m\u001b[1;33m\u001b[0m\u001b[0m\n\u001b[0m",
      "\u001b[1;31mKeyError\u001b[0m: 'c'"
     ]
    }
   ],
   "source": [
    "#예외 발생 예제 5 - 등록되지 않은 키로 사전 검색\n",
    "#KeyError- 사전에서 발생할 수 있는예외       \n",
    "d = {\"a\": 1, \"b\": 2}\n",
    "print d['c']"
   ]
  },
  {
   "cell_type": "code",
   "execution_count": 9,
   "metadata": {
    "collapsed": false
   },
   "outputs": [
    {
     "ename": "IOError",
     "evalue": "[Errno 2] No such file or directory: 'aaa.txt'",
     "output_type": "error",
     "traceback": [
      "\u001b[1;31m---------------------------------------------------------------------------\u001b[0m",
      "\u001b[1;31mIOError\u001b[0m                                   Traceback (most recent call last)",
      "\u001b[1;32m<ipython-input-9-69376c1a2cf4>\u001b[0m in \u001b[0;36m<module>\u001b[1;34m()\u001b[0m\n\u001b[0;32m      1\u001b[0m \u001b[1;31m#예외 발생 예제 6 - 있지도 않은 파일을 열려고 할 때\u001b[0m\u001b[1;33m\u001b[0m\u001b[1;33m\u001b[0m\u001b[0m\n\u001b[0;32m      2\u001b[0m \u001b[1;31m#IOError\u001b[0m\u001b[1;33m\u001b[0m\u001b[1;33m\u001b[0m\u001b[0m\n\u001b[1;32m----> 3\u001b[1;33m \u001b[0ma\u001b[0m \u001b[1;33m=\u001b[0m \u001b[0mopen\u001b[0m\u001b[1;33m(\u001b[0m\u001b[1;34m'aaa.txt'\u001b[0m\u001b[1;33m)\u001b[0m\u001b[1;33m\u001b[0m\u001b[0m\n\u001b[0m",
      "\u001b[1;31mIOError\u001b[0m: [Errno 2] No such file or directory: 'aaa.txt'"
     ]
    }
   ],
   "source": [
    "#예외 발생 예제 6 - 있지도 않은 파일을 열려고 할 때\n",
    "#IOError  \n",
    "a = open('aaa.txt')#모드 관련 내용 x->읽기모드로~_~\n",
    "#근데 파일이 없엉^_ㅠ"
   ]
  },
  {
   "cell_type": "markdown",
   "metadata": {},
   "source": [
    "BaseException->Baseclass=Superclass  \n",
    "상위에 있는 BaseException을 상속받으면서 SystemExit,KeyboardInterrupt......  \n",
    "Exception도 BaseException상속받음  \n",
    "ZeroDivisonError->ArithmeticError->StandardError->Exception->BaseException"
   ]
  },
  {
   "cell_type": "markdown",
   "metadata": {
    "collapsed": true
   },
   "source": [
    "###예외처리 방법"
   ]
  },
  {
   "cell_type": "markdown",
   "metadata": {
    "collapsed": true
   },
   "source": [
    "####1-1 try/except/else/finally 절 사용하기\n",
    "- 예외가 발생할 수 있는 상황을 예상하여 예외 발생 상황을 전체 코드 흐름을 함께 제어할 수 있다.\n",
    "- try/except/else/finally 절\n",
    "  - 구문\n",
    "  \n",
    "  \n",
    ">try:  \n",
    ">　 (예외 발생 가능한) 일반적인 수행문들  \n",
    ">except Exception:(Exception은 예외 이름(클래스이름)적으면 됨) \n",
    ">　    예외가 발생하였을 때 수행되는 문들  \n",
    ">else:(선택)  \n",
    "> 　   예외가 발생하지 않았을 때 수행되는 문들  \n",
    ">finally:(선택)  \n",
    ">  　  예외 발생 유무와 관계없이 무조건 수행되는 문들  "
   ]
  },
  {
   "cell_type": "code",
   "execution_count": 1,
   "metadata": {
    "collapsed": false
   },
   "outputs": [
    {
     "name": "stdout",
     "output_type": "stream",
     "text": [
      "zero division error!!!\n"
     ]
    }
   ],
   "source": [
    "try:\n",
    "    print 1.0 / 0.0\n",
    "except ZeroDivisionError:\n",
    "    print 'zero division error!!!'\n",
    "    \n",
    "#만약 try, except절을 사용하면 비정상적으로 종료되는 에러임.\n",
    "#try절을 수행하면 프로그림이 정상적으로 수행된 후에 종료"
   ]
  },
  {
   "cell_type": "code",
   "execution_count": 2,
   "metadata": {
    "collapsed": false
   },
   "outputs": [
    {
     "name": "stdout",
     "output_type": "stream",
     "text": [
      "float division by zero\n",
      "10.0\n",
      "5.0\n",
      "3.33333333333\n",
      "2.5\n"
     ]
    }
   ],
   "source": [
    "#예외 처리를 하면 예외 발생 시 프로그램 종료가 되지 않음\n",
    "def division():\n",
    "    for n in range(0, 5):\n",
    "        try:\n",
    "            print 10.0 / n\n",
    "        except ZeroDivisionError, msg:\n",
    "            print msg\n",
    "#msg는 zerodivisionerror를 정의한 사람이 만든, 예외발생시 메세지\n",
    "#try안쓰면 0들어간 후에 더 실행 안돼고 루프 종료\n",
    "division()"
   ]
  },
  {
   "cell_type": "code",
   "execution_count": 3,
   "metadata": {
    "collapsed": false
   },
   "outputs": [
    {
     "ename": "SyntaxError",
     "evalue": "invalid syntax (<ipython-input-3-53ba6442c765>, line 6)",
     "output_type": "error",
     "traceback": [
      "\u001b[1;36m  File \u001b[1;32m\"<ipython-input-3-53ba6442c765>\"\u001b[1;36m, line \u001b[1;32m6\u001b[0m\n\u001b[1;33m    else:\u001b[0m\n\u001b[1;37m       ^\u001b[0m\n\u001b[1;31mSyntaxError\u001b[0m\u001b[1;31m:\u001b[0m invalid syntax\n"
     ]
    }
   ],
   "source": [
    "#else구문은 except구문 없이 사용 불가\n",
    "def division():\n",
    "    for n in range(0, 5):\n",
    "        try:\n",
    "            print 10.0 / n\n",
    "        else:\n",
    "            print \"Success\"\n",
    "\n",
    "division() \n",
    "#else가 있는데 except가 없는 것은 구문적 error!\n",
    "#but, finally는 except와 상관 없이 적을 수 있음."
   ]
  },
  {
   "cell_type": "code",
   "execution_count": 4,
   "metadata": {
    "collapsed": false
   },
   "outputs": [
    {
     "name": "stdout",
     "output_type": "stream",
     "text": [
      "Error - name 'spam' is not defined\n"
     ]
    }
   ],
   "source": [
    "#상황에 따라서는 에러와 함께 따라오는 정보를 함께 받을 수도 있다.\n",
    "try:\n",
    "    spam()\n",
    "except NameError, msg:#NameError내의 메세지가 출력됨.\n",
    "    #여기서 콤마 대신 as를 써도 괜찮음.\n",
    "    print 'Error -', msg"
   ]
  },
  {
   "cell_type": "code",
   "execution_count": 5,
   "metadata": {
    "collapsed": false
   },
   "outputs": [
    {
     "name": "stdout",
     "output_type": "stream",
     "text": [
      "zero division error!!! - integer division or modulo by zero\n"
     ]
    }
   ],
   "source": [
    "#try 절 안에서 간접적으로 호출한 함수의 내부 예외도 처리할 수 있다.\n",
    "\n",
    "def zero_division():\n",
    "    x = 1 / 0\n",
    "\n",
    "try:\n",
    "    zero_division()\n",
    "    #함수에는 예외발생상황이 안보이지만 함수 수행시 예외 발생 가능\n",
    "except ZeroDivisionError, msg:\n",
    "    print 'zero division error!!! -', msg"
   ]
  },
  {
   "cell_type": "code",
   "execution_count": 6,
   "metadata": {
    "collapsed": false
   },
   "outputs": [
    {
     "name": "stdout",
     "output_type": "stream",
     "text": [
      "Error\n"
     ]
    }
   ],
   "source": [
    "#except 뒤에 아무런 예외도 기술하지 않으면 모든 예외에 대해 처리된다\n",
    "try:\n",
    "    spam()#네임에러,제로디비전에러 두개 발생 \n",
    "    print 1.0 / 0.0\n",
    "except:#except뒤에 아무 예외 이름 안적으면 모든 에러 다 잡겠다는 의미\n",
    "    #근데 뭐가 발생했는지는 알수 없음\n",
    "    print 'Error'"
   ]
  },
  {
   "cell_type": "code",
   "execution_count": 7,
   "metadata": {
    "collapsed": false
   },
   "outputs": [
    {
     "name": "stdout",
     "output_type": "stream",
     "text": [
      "ZeroDivisionError !!!\n",
      "Exit !!!\n"
     ]
    }
   ],
   "source": [
    "#여러 예외들 각각에 대해 except 절을 다중으로 삽입할 수 있다.\n",
    "b = 0.0\n",
    "name = 'aaa.txt'\n",
    "try:\n",
    "    print 1.0 / b#제로디비전에러\n",
    "    spam()#네임에러\n",
    "    f = open(name, 'r')#IO에러 \n",
    "    '2' + 2#타입에러\n",
    "except NameError:\n",
    "    print 'NameError !!!'\n",
    "except ZeroDivisionError:\n",
    "    print 'ZeroDivisionError !!!'\n",
    "except (TypeError, IOError):#튜플형태로 묶어서 정의 가능\n",
    "    #튜플은 괄호가 없어도 사용가능\n",
    "    print 'TypeError or IOError !!!'\n",
    "else:\n",
    "    print 'No Exception !!!'\n",
    "finally:\n",
    "    print 'Exit !!!'\n",
    "    \n",
    "#각각의 경우에 따라서 제어를 해주고 싶으면 except를 여러번 사용해 처리"
   ]
  },
  {
   "cell_type": "code",
   "execution_count": 1,
   "metadata": {
    "collapsed": false
   },
   "outputs": [
    {
     "name": "stdout",
     "output_type": "stream",
     "text": [
      "C:\\Users\\Yujin\\Documents\\git\\python\\scriptcyj\n",
      "[Errno 2] No such file or directory: 't.txt'\n"
     ]
    }
   ],
   "source": [
    "#파일에서 숫자를 읽어와서 읽은 숫자로 나누기를 하는 예제\n",
    "#꼼꼼한 예외 처리 예제\n",
    "\n",
    "import os\n",
    "print os.getcwd()#현재디렉토리를알려줌\n",
    "filename = 't.txt'\n",
    "\n",
    "try:\n",
    "    f = open(filename, 'r')#try, except사이에 항상 들어와야 함\n",
    "    #파일 이름을 잘못 적거나 파일이 없을수도 있으므로 미리 방지 가능\n",
    "except IOError, msg:\n",
    "    print msg\n",
    "else:\n",
    "    a = float(f.readline())\n",
    "    try:\n",
    "        answer = 1.0 / a\n",
    "    except ZeroDivisionError, msg:\n",
    "#보통 파일 안에 어떤것이 있는지 모르므로 방지를 위해 try~except사용\n",
    "        print msg\n",
    "    else:\n",
    "        print answer\n",
    "    finally:\n",
    "        print \"Finally!!!\"\n",
    "        f.close()\n",
    "        \n",
    "#t.txt내용을 0(제로디비전에러), 1로 각각 만들어보기"
   ]
  },
  {
   "cell_type": "markdown",
   "metadata": {},
   "source": [
    " ####같은 부류의 예외 다 잡아내기\n",
    "- 예외 클래스들은 상속에 의한 계층 관계를 지니고 있기 때문에 이를 이용하면 여러 예외들을 한꺼번에 잡을 수 있다.\n",
    "- 예를 들어, ArithmeticError의 하위 클래스로서 FloatingPointError, OverflowError, ZeroDivisionError가 존재하기 때문에 이들 하위 클래스 예외가 발생하였을 경우 ArithmeticError로서 잡아낼 수 있다."
   ]
  },
  {
   "cell_type": "code",
   "execution_count": 9,
   "metadata": {
    "collapsed": false
   },
   "outputs": [
    {
     "name": "stdout",
     "output_type": "stream",
     "text": [
      "ArithmeticException occured\n"
     ]
    }
   ],
   "source": [
    "def dosomething():\n",
    "    a = 1/0\n",
    "\n",
    "try:\n",
    "    dosomething()\n",
    "except ArithmeticError:\n",
    "    print \"ArithmeticException occured\""
   ]
  },
  {
   "cell_type": "code",
   "execution_count": 10,
   "metadata": {
    "collapsed": false
   },
   "outputs": [
    {
     "name": "stdout",
     "output_type": "stream",
     "text": [
      "ZeroDivisionError occured\n"
     ]
    }
   ],
   "source": [
    "#예외가 임의의 except에 의해 잡히면 \n",
    "#다른 except에 의해서는 잡히지 않는다.\n",
    "\n",
    "def dosomething():\n",
    "    a = 1/0\n",
    "\n",
    "try:\n",
    "    dosomething()\n",
    "except ZeroDivisionError:  \n",
    "    #ZeroDivisionError는 이곳에서 잡힌다.\n",
    "    print \"ZeroDivisionError occured\"\n",
    "except ArithmeticError:    \n",
    "    #FloatingPointError, OverflowError는 이곳에서 잡힌다.\n",
    "    print \"ArithmeticException occured\""
   ]
  },
  {
   "cell_type": "code",
   "execution_count": 2,
   "metadata": {
    "collapsed": false
   },
   "outputs": [
    {
     "name": "stdout",
     "output_type": "stream",
     "text": [
      "ArithmeticException occured\n"
     ]
    }
   ],
   "source": [
    "def dosomething():\n",
    "    a = 1/0\n",
    "\n",
    "try:\n",
    "    dosomething()\n",
    "except ArithmeticError:\n",
    "    print \"ArithmeticException occured\"\n",
    "except ZeroDivisionError:  \n",
    "    #이곳에서 ZeroDivisionError는 잡히지 않는다. ==> 잘못된 코드\n",
    "    print \"ZeroDivisionError occured\"  \n",
    "\n",
    "#하위 클래스가 상위 클래스 안에 있는 것으로 상위 클래스만 수행됨\n",
    "#아래 따로 정의한 하위 클래스 내용은 절대 수행되지 않음."
   ]
  },
  {
   "cell_type": "markdown",
   "metadata": {},
   "source": [
    "###예외 발생\n",
    "- (1)raise로 예외 발생하기\n",
    "  - 예외를 특정 상황 조건에서 raise 키워드를 통해 발생시킬 수 있다.\n",
    "  - 아래 예는 시퀀스 형 클래스를 설계할 때 인덱싱을 구현하는 \\_\\_getitem\\_\\_ 메소드에서 인덱스가 범위를 넘을 때 IndexError를 발생시킨다."
   ]
  },
  {
   "cell_type": "code",
   "execution_count": 7,
   "metadata": {
    "collapsed": false
   },
   "outputs": [
    {
     "name": "stdout",
     "output_type": "stream",
     "text": [
      "4 16\n",
      "0 1 4 9 16 25 36 49 64 81"
     ]
    },
    {
     "ename": "IndexError",
     "evalue": "",
     "output_type": "error",
     "traceback": [
      "\u001b[1;31m---------------------------------------------------------------------------\u001b[0m",
      "\u001b[1;31mIndexError\u001b[0m                                Traceback (most recent call last)",
      "\u001b[1;32m<ipython-input-7-de113e93422f>\u001b[0m in \u001b[0;36m<module>\u001b[1;34m()\u001b[0m\n\u001b[0;32m     19\u001b[0m \u001b[1;31m#인덱스에러를잡고싶으면 try,except절사용\u001b[0m\u001b[1;33m\u001b[0m\u001b[1;33m\u001b[0m\u001b[0m\n\u001b[0;32m     20\u001b[0m \u001b[1;31m#try:\u001b[0m\u001b[1;33m\u001b[0m\u001b[1;33m\u001b[0m\u001b[0m\n\u001b[1;32m---> 21\u001b[1;33m \u001b[1;32mprint\u001b[0m \u001b[0ms\u001b[0m\u001b[1;33m[\u001b[0m\u001b[1;36m20\u001b[0m\u001b[1;33m]\u001b[0m\u001b[1;31m#첨자 범위가 넘었다\u001b[0m\u001b[1;33m\u001b[0m\u001b[0m\n\u001b[0m\u001b[0;32m     22\u001b[0m \u001b[1;31m#except IndexError:\u001b[0m\u001b[1;33m\u001b[0m\u001b[1;33m\u001b[0m\u001b[0m\n\u001b[0;32m     23\u001b[0m     \u001b[1;31m#print\"....\"\u001b[0m\u001b[1;33m\u001b[0m\u001b[1;33m\u001b[0m\u001b[0m\n",
      "\u001b[1;32m<ipython-input-7-de113e93422f>\u001b[0m in \u001b[0;36m__getitem__\u001b[1;34m(self, k)\u001b[0m\n\u001b[0;32m      6\u001b[0m     \u001b[1;32mdef\u001b[0m \u001b[0m__getitem__\u001b[0m\u001b[1;33m(\u001b[0m\u001b[0mself\u001b[0m\u001b[1;33m,\u001b[0m \u001b[0mk\u001b[0m\u001b[1;33m)\u001b[0m\u001b[1;33m:\u001b[0m\u001b[1;31m#인덱싱 연산에 대응되는 연산\u001b[0m\u001b[1;33m\u001b[0m\u001b[0m\n\u001b[0;32m      7\u001b[0m         \u001b[1;32mif\u001b[0m \u001b[0mk\u001b[0m \u001b[1;33m>=\u001b[0m \u001b[0mself\u001b[0m\u001b[1;33m.\u001b[0m\u001b[0mn\u001b[0m \u001b[1;32mor\u001b[0m \u001b[0mk\u001b[0m \u001b[1;33m<\u001b[0m \u001b[1;36m0\u001b[0m \u001b[1;33m:\u001b[0m\u001b[1;33m\u001b[0m\u001b[0m\n\u001b[1;32m----> 8\u001b[1;33m             \u001b[1;32mraise\u001b[0m \u001b[0mIndexError\u001b[0m\u001b[1;33m\u001b[0m\u001b[0m\n\u001b[0m\u001b[0;32m      9\u001b[0m             \u001b[1;31m#첨자 범위를 벗어나면 IndexError 예외를 발생시킴\u001b[0m\u001b[1;33m\u001b[0m\u001b[1;33m\u001b[0m\u001b[0m\n\u001b[0;32m     10\u001b[0m             \u001b[1;31m#10이되는 순간 if절 조건을 만족함->indexerror\u001b[0m\u001b[1;33m\u001b[0m\u001b[1;33m\u001b[0m\u001b[0m\n",
      "\u001b[1;31mIndexError\u001b[0m: "
     ]
    }
   ],
   "source": [
    "#raise키워드->예외를 임의로 발생시킬 수 있는 키워드\n",
    "\n",
    "class SquareSeq:\n",
    "    def __init__(self, n):\n",
    "        self.n = n#인스턴스 객체가 내부적으로 n값을 지님\n",
    "    def __getitem__(self, k):#인덱싱 연산에 대응되는 연산\n",
    "        if k >= self.n or k < 0 :\n",
    "            raise IndexError\n",
    "            #첨자 범위를 벗어나면 IndexError 예외를 발생시킴\n",
    "            #10이되는 순간 if절 조건을 만족함->indexerror\n",
    "        return k * k\n",
    "    def __len__(self):\n",
    "        return self.n\n",
    "    \n",
    "s = SquareSeq(10)\n",
    "print s[2], s[4]\n",
    "for x in s:#IndexError가 발생하는 시점까지 반복한다\n",
    "    print x,\n",
    "#인덱스에러를잡고싶으면 try,except절사용\n",
    "#try:\n",
    "print s[20]#첨자 범위가 넘었다\n",
    "#except IndexError:\n",
    "    #print\"....\"\n",
    "\n",
    "#이거 트라이 익셉트 썼을때 공백 차이는 왜 나는건지 질문"
   ]
  },
  {
   "cell_type": "markdown",
   "metadata": {},
   "source": [
    "- (2)사용자 클래스 예외 정의\n",
    "  - 사용자 정의 예외 클래스를 구현하는 일반적인 방법은 Exception 클래스를 상속 받아 구현한다.\n",
    "    - Exception 클래스의 서브 클래스 중 하나를 상속 받아도 된다.\n",
    "  - 사용자 정의 예외 발생 방법\n",
    "    - 내장 예외 발생 방법과 동일하게 raise [클래스의 인스턴스] 와 같이 해당 예외 클래스의 인스턴스를 던진다.\n",
    "  - 사용자 정의 예외를 잡는 방법\n",
    "    - except [클래스 이름] 과 같이 해당 예외 클래스 이름을 사용한다.\n",
    "  - 아래 예에서 except Big이 잡는 예외는 Big과 Small 이다.\n",
    "    - 이유: Small은 Big의 하위 클래스이기 때문\n",
    "  \n",
    "사용자 정의 예외 클래스 -> 파이썬이 내장하고 있는 것 이외의 클래스\n",
    "예외 발생 = 예외 생성법?\n",
    "내장예외발생방법=내장예외처리방법?"
   ]
  },
  {
   "cell_type": "code",
   "execution_count": 8,
   "metadata": {
    "collapsed": false
   },
   "outputs": [
    {
     "name": "stdout",
     "output_type": "stream",
     "text": [
      " Exception occurs!\n",
      "Exception occurs!\n"
     ]
    }
   ],
   "source": [
    "class Big(Exception):#수퍼클래스가 익셉션으로 예외클래스 정의한 것임.\n",
    "    pass\n",
    "\n",
    "class Small(Big):\n",
    "    pass\n",
    "\n",
    "def dosomething1():\n",
    "    x = Big()#예외객체\n",
    "    raise x\n",
    "    \n",
    "def dosomething2():\n",
    "    raise Small()\n",
    "    \n",
    "for f in (dosomething1, dosomething2):#튜플안에꺼는함수\n",
    "    #여기쪼끔다시읽어보기......\n",
    "    try:\n",
    "        f()\n",
    "#함수 호출 후 보니, 함수 안에 raise......->예외발생->예외캐치\n",
    "    except Big:#,as msg 뭔가 기본적이 메세지가 있나 확인해볼라공..\n",
    "        print \"Exception occurs!\""
   ]
  },
  {
   "cell_type": "markdown",
   "metadata": {},
   "source": [
    "- (3)예외값 전달하기\n",
    "  - raise 키워드 뒤에 예외와 함께, 추가 메시지를 함께 던질 수 있다."
   ]
  },
  {
   "cell_type": "code",
   "execution_count": null,
   "metadata": {
    "collapsed": true
   },
   "outputs": [],
   "source": [
    "def f():\n",
    "    raise Exception, 'message!!!'\n",
    "    #raise-> 예외클래스, 메세지, 자바의 throw!!!!!!\n",
    "    \n",
    "try:\n",
    "    f()\n",
    "except Exception, a:\n",
    "    print a"
   ]
  },
  {
   "cell_type": "markdown",
   "metadata": {},
   "source": [
    "생성자 안에 넣어준 에러 메시지는 except 키워드 사용시에 두 번째 인자로 해당 메시지를 받을 수 있다."
   ]
  },
  {
   "cell_type": "code",
   "execution_count": 9,
   "metadata": {
    "collapsed": false
   },
   "outputs": [
    {
     "name": "stdout",
     "output_type": "stream",
     "text": [
      "0으로 나누고 있습니다.\n"
     ]
    }
   ],
   "source": [
    "a = 10\n",
    "b = 0\n",
    "try:\n",
    "    if b == 0:\n",
    "        raise ArithmeticError('0으로 나누고 있습니다.')\n",
    "#생성자를 부르면서 문자열로 넣어주는 인자는(메세지를)뒤로 받아낼 수 있음\n",
    "    a / b\n",
    "except ArithmeticError, v:\n",
    "    print v"
   ]
  },
  {
   "cell_type": "code",
   "execution_count": 10,
   "metadata": {
    "collapsed": false
   },
   "outputs": [
    {
     "ename": "IndentationError",
     "evalue": "expected an indented block (<ipython-input-10-12f50c718fbe>, line 3)",
     "output_type": "error",
     "traceback": [
      "\u001b[1;36m  File \u001b[1;32m\"<ipython-input-10-12f50c718fbe>\"\u001b[1;36m, line \u001b[1;32m3\u001b[0m\n\u001b[1;33m    f = open(filename, 'r')\u001b[0m\n\u001b[1;37m    ^\u001b[0m\n\u001b[1;31mIndentationError\u001b[0m\u001b[1;31m:\u001b[0m expected an indented block\n"
     ]
    }
   ],
   "source": [
    "filename = 't.txt'\n",
    "try:\n",
    "f = open(filename, 'r')\n",
    "except IOError, msg:\n",
    "print msg\n",
    "else:\n",
    "a = float(f.readline())\n",
    "try:\n",
    "answer = 1.0 / a\n",
    "except ZeroDivisionError, msg:\n",
    "print msg\n",
    "else:\n",
    "print answer\n",
    "finally:\n",
    "print \"- end -\"\n",
    "f.close()"
   ]
  },
  {
   "cell_type": "code",
   "execution_count": null,
   "metadata": {
    "collapsed": true
   },
   "outputs": [],
   "source": []
  }
 ],
 "metadata": {
  "kernelspec": {
   "display_name": "Python 2",
   "language": "python",
   "name": "python2"
  },
  "language_info": {
   "codemirror_mode": {
    "name": "ipython",
    "version": 2
   },
   "file_extension": ".py",
   "mimetype": "text/x-python",
   "name": "python",
   "nbconvert_exporter": "python",
   "pygments_lexer": "ipython2",
   "version": "2.7.9"
  }
 },
 "nbformat": 4,
 "nbformat_minor": 0
}
