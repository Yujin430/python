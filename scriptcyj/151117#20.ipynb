{
 "cells": [
  {
   "cell_type": "code",
   "execution_count": 1,
   "metadata": {
    "collapsed": true
   },
   "outputs": [],
   "source": [
    "#클래스를 직접 정의, 클래스에서 객체를 인스턴스화 해서 활용\n",
    "#이런 객체에 연산 적용을 어떻게 할 지에 대한 문제\n",
    "\n",
    "#인스턴스 메소드에는 첫번째 인자로 self가 들어감\n",
    "#우리가 직접 메소드를 호출하게 될 일은 없고, \n",
    "#+연산자 사용하면 자동으로 add 메소드가 불리게 됨\n",
    "\n",
    "#+=, -=처럼 확장 연산자 사용 가능\n",
    "#암기라기보다는 예제를 살피기(여기 없는 예제들도!)"
   ]
  },
  {
   "cell_type": "code",
   "execution_count": 3,
   "metadata": {
    "collapsed": false
   },
   "outputs": [
    {
     "name": "stdout",
     "output_type": "stream",
     "text": [
      "10\n",
      "10\n",
      "\n",
      "20\n",
      "\n",
      "30\n"
     ]
    }
   ],
   "source": [
    "class Integer:\n",
    "    def __init__(self, i):\n",
    "        self.i = i\n",
    "    def __str__(self):#객체를 프린트 할 때 호출되는 것\n",
    "        return str(self.i)#self.i의 i는 식별자값\n",
    "    def __add__(self, other):#이 메드가 존재하기 때문에 덧셈 가능\n",
    "        return self.i + other\n",
    "    #self.i, other둘다 정수라 정수가 반환 됨.\n",
    "\n",
    "i = Integer(10)\n",
    "print i#i가 가진 str메소드가 호출됨\n",
    "print str(i)#str(i)의 i는 객체\n",
    "\n",
    "print\n",
    "i = i + 10#__add__에 해당하는 메소드가 호출됨, 10은 other에 들어감\n",
    "print i#객체 i가 아니라 정수 i를 출력하는거...숫자 20임\n",
    "\n",
    "print\n",
    "i += 10\n",
    "#print i+=10에서 +=는 add를 호출하지 않음\n",
    "print i"
   ]
  },
  {
   "cell_type": "code",
   "execution_count": 4,
   "metadata": {
    "collapsed": false
   },
   "outputs": [
    {
     "name": "stdout",
     "output_type": "stream",
     "text": [
      "10\n",
      "10\n",
      "\n",
      "20\n",
      "\n",
      "30\n"
     ]
    }
   ],
   "source": [
    "class Integer:\n",
    "    def __init__(self, i):\n",
    "        self.i = i\n",
    "    def __str__(self):#객체를 프린트 할 때 호출되는 것\n",
    "        return str(self.i)#self.i의 i는 식별자값\n",
    "    def __add__(self, other):#이 메소드가 존재하기 때문에 덧셈 가능\n",
    "        self.i = self.i + other\n",
    "        return self\n",
    "#위 블록에서 add를 고친 것, 위 블록의 경우 정수가 반환되는 반면,\n",
    "#지금과 같이 해준 블록에서는 객체 자기 자신이 반환될 수 있음.\n",
    "\n",
    "i = Integer(10)\n",
    "print i#i가 가진 str메소드가 호출됨\n",
    "print str(i)#str(i)의 i는 객체\n",
    "\n",
    "print\n",
    "i = i + 10#__add__에 해당하는 메소드가 호출됨, 10은 other에 들어감\n",
    "print i#여기서 i는 객체!!!!!!\n",
    "#print self만 하게 되면 정수  i 가 아닌 객체  i ???\n",
    "\n",
    "print\n",
    "i += 10\n",
    "#print i+=10에서 +=는 add를 호출!\n",
    "print i\n",
    "#객체를 프린트 하니까 str이 호출되어 문자화가 된 self.i값 출력"
   ]
  },
  {
   "cell_type": "code",
   "execution_count": 5,
   "metadata": {
    "collapsed": false
   },
   "outputs": [
    {
     "name": "stdout",
     "output_type": "stream",
     "text": [
      "['abcd', 'abcd', 'abcd']\n",
      "['abcd', 'bcd', 'bcd']\n",
      "\n",
      "['abcd', 'abcd', 'abcd']\n"
     ]
    }
   ],
   "source": [
    "class MyString:\n",
    "    def __init__(self, str):\n",
    "        self.str = str\n",
    "    def __div__(self, sep): \n",
    "        #나누기 연산자 /가 사용되었을 때 호출되는 함수 \n",
    "        return self.str.split(sep) \n",
    "    #문자열 self.str을 sep를 기준으로 분리\n",
    "    #self객체가 가지고 있는 str을 sep을 기준으로 분리\n",
    "\n",
    "m = MyString(\"abcd_abcd_abcd\")#m.str안에 들어가게 됨.\n",
    "print m / \"_\"#객체 m에 있는 div를 찾음\n",
    "#'_'를 가지고 있는 문자열을 찾아 sep에 집어넣음\n",
    "print m / \"_a\"\n",
    "\n",
    "print\n",
    "print m.__div__(\"_\")\n",
    "#특수 메소드는 기호 또는 직접 이름을 넣어 호출 가능\n",
    "#인스턴스 메소드의 규칙대로 self에는 m 객체가 들어가고\n",
    "#sep에는 _가 들어가게 됨."
   ]
  },
  {
   "cell_type": "code",
   "execution_count": 6,
   "metadata": {
    "collapsed": false
   },
   "outputs": [
    {
     "name": "stdout",
     "output_type": "stream",
     "text": [
      "['abcd', 'abcd', 'abcd']\n",
      "['abcd', 'bcd', 'bcd']\n",
      "\n",
      "['abcd', 'abcd', 'abcd']\n",
      "['abcd', 'bcd', 'bcd']\n"
     ]
    }
   ],
   "source": [
    "class MyString:\n",
    "    def __init__(self, str):\n",
    "        self.str = str\n",
    "    def __div__(self, sep):\n",
    "        return str.split(self.str, sep)\n",
    "    __rdiv__ = __div__#약속된 메소드\n",
    "    #rdiv 는 div랑 같으나 객체가 오른쪽에 위치\n",
    "    \n",
    "m = MyString(\"abcd_abcd_abcd\")\n",
    "print m / \"_\" ###\n",
    "print m / \"_a\"######\n",
    "print\n",
    "print \"_\" / m #연산자는 div 이지만 객체가 오른쪽에 있는 경우 ###\n",
    "print \"_a\" / m######\n",
    "#같은 주석 달아놓은 애들 끼리 같은 결과\n",
    "\n",
    "#__ridv__\n",
    "\"\"\"\n",
    "o+B 대신 B+o를 하고싶다면 radd.\n",
    "메소드 이름앞에 r이 붙으면 연산자 오른쪽에 객체가 호출\n",
    "\"\"\""
   ]
  },
  {
   "cell_type": "code",
   "execution_count": 7,
   "metadata": {
    "collapsed": false
   },
   "outputs": [
    {
     "name": "stdout",
     "output_type": "stream",
     "text": [
      "fedcba\n",
      "fedcba\n"
     ]
    }
   ],
   "source": [
    "class MyString:\n",
    "    def __init__(self, str):\n",
    "        self.str = str\n",
    "    def __div__(self, sep):\n",
    "        return str.split(self.str, sep)\n",
    "    __rdiv__ = __div__\n",
    "    def __neg__(self):#negation\n",
    "        t = list(self.str)#str에는 문자열이 들어간 상태\n",
    "        t.reverse()#t는 신화가 가기고 있다는 건데......\n",
    "        return ''.join(t)#분리자 X\n",
    "    __invert__ = __neg__#invert와 neg동일하게 보게 됨.\n",
    "    \n",
    "m = MyString(\"abcdef\")\n",
    "print -m\n",
    "print ~m#파이썬에서 0을 1로 1을 0으로 바꾸어주는 그런 역할\n",
    "#~표시는 invert연산임!!!!!!!"
   ]
  },
  {
   "cell_type": "code",
   "execution_count": 10,
   "metadata": {
    "collapsed": false
   },
   "outputs": [
    {
     "name": "stdout",
     "output_type": "stream",
     "text": [
      "\n"
     ]
    }
   ],
   "source": [
    "#비교 연산자 \n",
    "#lt(self, othehr)엑서 \n",
    "#객체, 연산자(<), other쓰면 lt 실행 됨.(less than의 약자)\n",
    "#연산자 옆의 other값이 self뒤 두번째 인자로 들어가게 됨.\n",
    "#메소드 리턴값이 꼭 true,false일 필요는 없음\n",
    "#le는 lessthan or Equal\n",
    "#== 동등연산 eq\n",
    "#...\n",
    "\n",
    "\"\"\"\n",
    "아무런 메소드도 정의 안돼어 있으면 cmp가 정의되어 있음. \n",
    "__cmp__는 아래 메소드가 부재한 상황에서 호출되는 메소드임.\n",
    "\n",
    "\"\"\"\n",
    "print\n"
   ]
  },
  {
   "cell_type": "markdown",
   "metadata": {},
   "source": [
    "- 객체 c에 대한 c > 1연산의 행동 방식\n",
    "  - c.\\__gt\\__()가 있다면 호출 결과을 그대로 반환\n",
    "  - 정의된 c.\\__gt\\__()가 없고, __cmp__() 함수가 있을 경우\n",
    "    - c.\\__cmp\\__() 호출 결과가 양수이면 True 반환, 아니면 False 반환"
   ]
  },
  {
   "cell_type": "code",
   "execution_count": 11,
   "metadata": {
    "collapsed": false
   },
   "outputs": [
    {
     "name": "stdout",
     "output_type": "stream",
     "text": [
      "False\n",
      "False\n",
      "True\n"
     ]
    }
   ],
   "source": [
    "class MyCmp:\n",
    "    def __cmp__(self, y):\n",
    "        return 1 - y\n",
    "    \n",
    "c = MyCmp() \n",
    "print c > 1 #c.__cmp__(1)을 호출, 반환값이 양수이어야 True\n",
    "#숫자 1은 y에 들어감\n",
    "#c>1 ->cmp가 돌려주는 값이 양수여야 true가 됨\n",
    "print c < 1 #c.__cmp__(1)을 호출, 반환값이 음수이어야 True\n",
    "print c == 1 #c.__cmp__(1)을 호출, 반환값이 0이어야 True"
   ]
  },
  {
   "cell_type": "code",
   "execution_count": 12,
   "metadata": {
    "collapsed": false
   },
   "outputs": [
    {
     "name": "stdout",
     "output_type": "stream",
     "text": [
      "True\n",
      "True\n",
      "False\n"
     ]
    }
   ],
   "source": [
    "class MyCmp2:\n",
    "    def __lt__(self, y):\n",
    "        return 1 < y\n",
    "\n",
    "m = MyCmp2()\n",
    "print m < 10#m.__lt__(10)을 호출\n",
    "#y에 10이 들어가서 옳으니까 true가 반환되서...\n",
    "print m < 2\n",
    "print m < 1"
   ]
  },
  {
   "cell_type": "code",
   "execution_count": 13,
   "metadata": {
    "collapsed": false
   },
   "outputs": [
    {
     "name": "stdout",
     "output_type": "stream",
     "text": [
      "False\n",
      "True\n",
      "True\n"
     ]
    }
   ],
   "source": [
    "class MyCmp3:\n",
    "    def __eq__(self, y):\n",
    "        return 1 == y\n",
    "\n",
    "m = MyCmp3()\n",
    "print m == 10#m.__eq__(10)을 호출\n",
    "#y자리에 10이 들어감\n",
    "m1 = MyCmp3()\n",
    "print m == 1\n",
    "\n",
    "class MyCmp4:\n",
    "    def __init__(self, value):\n",
    "        self.value = value\n",
    "    def __cmp__(self, other):\n",
    "        if self.value == other:\n",
    "            return 0\n",
    "m2 = MyCmp4(10)\n",
    "#m2의 value에 10이 들어가게 됨.\n",
    "print m2 == 10\n",
    "#mycmp4에는 정의가 안되어 있어서 cmp를 보게 됨. 그래서 cmp가 실행되서\n",
    "#True값이 반환됨!!!!!!"
   ]
  },
  {
   "cell_type": "code",
   "execution_count": 15,
   "metadata": {
    "collapsed": false
   },
   "outputs": [
    {
     "name": "stdout",
     "output_type": "stream",
     "text": [
      "\n"
     ]
    }
   ],
   "source": [
    "#len(s1)-->s1.__len__()메소드 호출...\n",
    "\"\"\"\n",
    "__contains__(self,item)의 경우 연산자가 item in self 인데, \n",
    "이 item이라는 인자가 contains의 두번째 item인자로 들어옴\n",
    "item이 self안에 존재하는지 알아보는 멤버쉽 테스트 연산자와 매핑\n",
    "\n",
    "__getItem__은 인덱싱 연산(시퀀스)..... 매핑자료형이면 검색 연산...\n",
    "\n",
    "튜플 문자열 같은 변경 불가능한 것들의 경우에는 setitem 구현하지말기.\n",
    "\"\"\"\n",
    "print"
   ]
  },
  {
   "cell_type": "code",
   "execution_count": 16,
   "metadata": {
    "collapsed": false
   },
   "outputs": [
    {
     "name": "stdout",
     "output_type": "stream",
     "text": [
      "10\n",
      "1\n",
      "16\n"
     ]
    },
    {
     "ename": "IndexError",
     "evalue": "20",
     "output_type": "error",
     "traceback": [
      "\u001b[1;31m---------------------------------------------------------------------------\u001b[0m",
      "\u001b[1;31mIndexError\u001b[0m                                Traceback (most recent call last)",
      "\u001b[1;32m<ipython-input-16-78c6c0117c4f>\u001b[0m in \u001b[0;36m<module>\u001b[1;34m()\u001b[0m\n\u001b[0;32m     13\u001b[0m \u001b[1;32mprint\u001b[0m \u001b[0ms1\u001b[0m\u001b[1;33m[\u001b[0m\u001b[1;36m1\u001b[0m\u001b[1;33m]\u001b[0m \u001b[1;31m#s1.__getitem__(1)\u001b[0m\u001b[1;33m\u001b[0m\u001b[0m\n\u001b[0;32m     14\u001b[0m \u001b[1;32mprint\u001b[0m \u001b[0ms1\u001b[0m\u001b[1;33m[\u001b[0m\u001b[1;36m4\u001b[0m\u001b[1;33m]\u001b[0m\u001b[1;33m\u001b[0m\u001b[0m\n\u001b[1;32m---> 15\u001b[1;33m \u001b[1;32mprint\u001b[0m \u001b[0ms1\u001b[0m\u001b[1;33m[\u001b[0m\u001b[1;36m20\u001b[0m\u001b[1;33m]\u001b[0m\u001b[1;33m\u001b[0m\u001b[0m\n\u001b[0m",
      "\u001b[1;32m<ipython-input-16-78c6c0117c4f>\u001b[0m in \u001b[0;36m__getitem__\u001b[1;34m(self, k)\u001b[0m\n\u001b[0;32m      6\u001b[0m     \u001b[1;32mdef\u001b[0m \u001b[0m__getitem__\u001b[0m\u001b[1;33m(\u001b[0m\u001b[0mself\u001b[0m\u001b[1;33m,\u001b[0m \u001b[0mk\u001b[0m\u001b[1;33m)\u001b[0m\u001b[1;33m:\u001b[0m\u001b[1;33m\u001b[0m\u001b[0m\n\u001b[0;32m      7\u001b[0m         \u001b[1;32mif\u001b[0m \u001b[0mk\u001b[0m \u001b[1;33m<\u001b[0m \u001b[1;36m0\u001b[0m \u001b[1;32mor\u001b[0m \u001b[0mself\u001b[0m\u001b[1;33m.\u001b[0m\u001b[0mend\u001b[0m \u001b[1;33m<=\u001b[0m \u001b[0mk\u001b[0m\u001b[1;33m:\u001b[0m\u001b[1;33m\u001b[0m\u001b[0m\n\u001b[1;32m----> 8\u001b[1;33m             \u001b[1;32mraise\u001b[0m \u001b[0mIndexError\u001b[0m\u001b[1;33m,\u001b[0m \u001b[0mk\u001b[0m\u001b[1;33m\u001b[0m\u001b[0m\n\u001b[0m\u001b[0;32m      9\u001b[0m         \u001b[1;32mreturn\u001b[0m \u001b[0mk\u001b[0m \u001b[1;33m*\u001b[0m \u001b[0mk\u001b[0m\u001b[1;33m\u001b[0m\u001b[0m\n\u001b[0;32m     10\u001b[0m \u001b[1;33m\u001b[0m\u001b[0m\n",
      "\u001b[1;31mIndexError\u001b[0m: 20"
     ]
    }
   ],
   "source": [
    "#어떤 숫자의 제곱을 반환해주는 것\n",
    "class Square:\n",
    "    def __init__(self, end):\n",
    "        self.end = end\n",
    "    def __len__(self):\n",
    "        return self.end\n",
    "    def __getitem__(self, k):\n",
    "        if k < 0 or self.end <= k: \n",
    "            raise IndexError, k\n",
    "        return k * k\n",
    "    \n",
    "s1 = Square(10)#10은 end에, s1은 10이 할당되어 있음.\n",
    "print len(s1)#s1.__len__()\n",
    "print s1[1]#s1.__getitem__(1)(인덱싱이니까....)\n",
    "print s1[4]\n",
    "print s1[20]#이거는 self.end가 20보다 작아서 IndexError가 발생.\n",
    "\"\"\"len()-> __len__, __getitem__ -> 인덱싱\"\"\"\n"
   ]
  },
  {
   "cell_type": "code",
   "execution_count": 19,
   "metadata": {
    "collapsed": false
   },
   "outputs": [
    {
     "name": "stdout",
     "output_type": "stream",
     "text": [
      "0 1 4 9 16 25 36 49 64 81\n",
      "[0, 1, 4, 9, 16, 25, 36, 49, 64, 81]\n",
      "(0, 1, 4, 9, 16, 25, 36, 49, 64, 81)\n"
     ]
    }
   ],
   "source": [
    "class Square:\n",
    "    def __init__(self, end):\n",
    "        self.end = end\n",
    "    def __len__(self):\n",
    "        return self.end\n",
    "    def __getitem__(self, k):\n",
    "        if k < 0 or self.end <= k:#0~9동안은 if구문 만족 X\n",
    "            raise IndexError, k#k가 10일때는 if절 만족->인덱스에러\n",
    "        return k * k\n",
    "s1=Square(10)\n",
    "\n",
    "\n",
    "\n",
    "\n",
    "for x in s1:#s1안에서 객체 x를 꺼내는 것.\n",
    "    print x,\n",
    "#s1[0],s1[1],s1[2]... 가 하나하나 들어간다고 가정\n",
    "# ->즉 위의 for x in s1은 __gettiem__의 호출하여 나온 결과값을 \n",
    "#x에 넣어준다는 뜻임\n",
    "#인덱스 error가 발생하면 for~in 구문 멈춤\n",
    "\n",
    "\"\"\"\n",
    "getitem에 반드시 error를 발생시켜서 for~in 구문을 마침\n",
    "\"\"\"\n",
    "print\n",
    "#이거 할때도 getitem호출됨\n",
    "print list(s1)#두번째 원소인 k에 0부터 하나하나씩 값을 넣어줌.\n",
    "#10에서 멈춰주게 됨......\n",
    "print tuple(s1)"
   ]
  },
  {
   "cell_type": "markdown",
   "metadata": {},
   "source": [
    "- 파이썬은 내장 자료형과 개발자가 정의한 자료형에 대해 일관된 연산 적용이 가능\n",
    "  - 파이썬 언어의 장점 : 일관된 코딩 스타일 유지\n"
   ]
  },
  {
   "cell_type": "code",
   "execution_count": 1,
   "metadata": {
    "collapsed": false
   },
   "outputs": [
    {
     "name": "stdout",
     "output_type": "stream",
     "text": [
      "<__main__.MyDict instance at 0x00000000039D8188>\n",
      "light\n",
      "darkness\n",
      "2\n",
      "['three', 'two', 'one']\n",
      "[3, 2, 1]\n",
      "[('three', 3), ('two', 2), ('one', 1)]\n"
     ]
    }
   ],
   "source": [
    "class MyDict:\n",
    "    def __init__(self, d = None):#디폴트 인수 none\n",
    "        if d == None: d = {}#d에 공백 문자열....\n",
    "        self.d = d\n",
    "        #d에 값이 존재하면 self.d에 들어감. 만드려는 인스턴스에 식별자 생성\n",
    "    def __getitem__(self, k): #key\n",
    "        return self.d[k]\n",
    "    def __setitem__(self, k, v):\n",
    "        #두번째 인자 k는 key값 세번째 인자 v는 value\n",
    "        self.d[k] = v\n",
    "    def __len__(self):\n",
    "        return len(self.d)#self가 들고있는 d의 길이\n",
    "    def keys(self):\n",
    "        return self.d.keys()\n",
    "    def values(self):\n",
    "        return self.d.values()\n",
    "    def items(self):\n",
    "        return self.d.items()\n",
    "    \n",
    "m = MyDict()#__init__호출 -> 인자가 없으니까 빈 문자열이 ....\n",
    "m['day'] = 'light'#m이 가지고 있는 d에 __setitem__호출\n",
    "m['night'] = 'darkness'#__setitem__호출 \n",
    "#여기까지 하면 사전 안에 item이 2개 존재하게 됨.\n",
    "print m\n",
    "print m['day']#__getitem__호출\n",
    "print m['night']#__getitem__호출\n",
    "print len(m)#m이 가지고 있는 __len__호출 ->가지고 있는 사전의 길이\n",
    "\n",
    "m = MyDict({'one':1, 'two':2, 'three':3})\n",
    "#생성자 호출 시에 사전을 곧바로 넣어줌 \n",
    "#d에는 사전 위치가 할당됨\n",
    "print m.keys()\n",
    "print m.values()\n",
    "print m.items()"
   ]
  },
  {
   "cell_type": "markdown",
   "metadata": {},
   "source": [
    "- 1) \\__repr\\__( <->역함수 eval)\n",
    "\n",
    "  - 객체를 대표하여 유일하게 표현할 수 있는 공식적인 문자열\n",
    "  - eval() 함수에 의하여 같은 객체로 재생성 될 수 있는 문자열 표현\n",
    "- 2) \\__str\\__\n",
    "\n",
    "  - 객체의 비공식적인 문자열 표현\n",
    "  - 사용자가 보기 편한 형태로 자유롭게 표현될 수 있음"
   ]
  },
  {
   "cell_type": "code",
   "execution_count": 3,
   "metadata": {
    "collapsed": false
   },
   "outputs": [
    {
     "name": "stdout",
     "output_type": "stream",
     "text": [
      "str called\n",
      "str called\n",
      "repr called\n",
      "repr called\n"
     ]
    }
   ],
   "source": [
    "class StringRepr:\n",
    "    def __repr__(self):\n",
    "        return 'repr called'\n",
    "    def __str__(self):\n",
    "        return 'str called'\n",
    "    \n",
    "s = StringRepr()\n",
    "print s#단순한 출력\n",
    "print str(s)\n",
    "print repr(s)#__repr__\n",
    "print `s`#'s'로 프린트 하면 __repr__호출\n",
    "\n",
    "#일반적으로 __str__이 가장 많이 사용됨"
   ]
  },
  {
   "cell_type": "code",
   "execution_count": 4,
   "metadata": {
    "collapsed": false
   },
   "outputs": [
    {
     "name": "stdout",
     "output_type": "stream",
     "text": [
      "repr called\n",
      "repr called\n",
      "repr called\n",
      "repr called\n"
     ]
    }
   ],
   "source": [
    "class StringRepr:\n",
    "    def __repr__(self):\n",
    "        return 'repr called'\n",
    "    \n",
    "s = StringRepr()\n",
    "print s\n",
    "print repr(s)\n",
    "print str(s)\n",
    "print `s`\n",
    "#s와 str함수를 프린트 할 때, __str__정의가 없으면 __repr__을 활용\n",
    "print s"
   ]
  },
  {
   "cell_type": "code",
   "execution_count": 6,
   "metadata": {
    "collapsed": false
   },
   "outputs": [
    {
     "name": "stdout",
     "output_type": "stream",
     "text": [
      "str called\n",
      "<__main__.StringRepr instance at 0x00000000039D8148>\n",
      "str called\n",
      "<__main__.StringRepr instance at 0x00000000039D8148>\n"
     ]
    }
   ],
   "source": [
    "class StringRepr:\n",
    "    def __str__(self):\n",
    "        return 'str called'\n",
    "\n",
    "s = StringRepr()\n",
    "print s\n",
    "print repr(s)\n",
    "#여기까지는 잘 수행 됨\n",
    "\n",
    "\n",
    "print str(s)\n",
    "#__repr__없으면 그대로 디폴트 객체 표현 양식이 출력됨\n",
    "print `s`"
   ]
  },
  {
   "cell_type": "markdown",
   "metadata": {},
   "source": [
    "- 클래스 인스턴스에 __call__ 메소드가 구현되어 있다면 해당 인스턴스는 함수와 같이 호출될 수 있다.\n",
    "  - 인슽너스 x에 대해 x(a1, a2, a3)와 같이 호출된다면 x.__call(a1, a2, a3)__ 가 호출된다.\n",
    "  - rt : 함수는 호출 가능한 객체"
   ]
  },
  {
   "cell_type": "code",
   "execution_count": 13,
   "metadata": {
    "collapsed": false
   },
   "outputs": [
    {
     "name": "stdout",
     "output_type": "stream",
     "text": [
      "15\n",
      "21\n",
      "45\n",
      "45\n",
      "callable\n",
      "not callable\n",
      "\n",
      "True\n",
      "False\n"
     ]
    }
   ],
   "source": [
    "class Accumulator:\n",
    "    def __init__(self):\n",
    "        self.sum = 0#생성자\n",
    "    def __call__(self, *args):\n",
    "        #args는 가변인수, tmpu\n",
    "        self.sum += sum(args)\n",
    "        return self.sum\n",
    "    \n",
    "acc = Accumulator()\n",
    "print acc(1,2,3,4,5)#호출 관련 신텍스\n",
    "print acc(6)#self.sum이 누적이 되어있는 상태니 15+6이 됨.\n",
    "print acc(7,8,9)\n",
    "#acc라는 객체에 가로를 사용하여 호출이 가능하다고 명명함\n",
    "print acc.sum\n",
    "\n",
    "\n",
    "def check(func):\n",
    "    if callable(func):#내장함수 callable\n",
    "        print 'callable'\n",
    "    else:\n",
    "        print 'not callable'\n",
    "\n",
    "class B:\n",
    "    def func(self, v):\n",
    "        return v\n",
    "class A:#__call__존재, a()사용하면 __call__이 호출 됨\n",
    "    def __call__(self, v):\n",
    "        return v\n",
    "    \n",
    "a = A()#생성자 없지만 디폴트 생성자 호출됨\n",
    "#b = B()#__call__이 없어서 b()이런식으로 만들 수 없음\n",
    "#a() -> 이건 왜 오류뜨지\n",
    "check(a)\n",
    "check(b)\n",
    "print\n",
    "print callable(a)#check함수 안만들어오 callable\n",
    "print callable(b)\n",
    "#callable함수의 인자로 크래스 이름을 사용 가능"
   ]
  },
  {
   "cell_type": "code",
   "execution_count": null,
   "metadata": {
    "collapsed": true
   },
   "outputs": [],
   "source": []
  }
 ],
 "metadata": {
  "kernelspec": {
   "display_name": "Python 2",
   "language": "python",
   "name": "python2"
  },
  "language_info": {
   "codemirror_mode": {
    "name": "ipython",
    "version": 2
   },
   "file_extension": ".py",
   "mimetype": "text/x-python",
   "name": "python",
   "nbconvert_exporter": "python",
   "pygments_lexer": "ipython2",
   "version": "2.7.9"
  }
 },
 "nbformat": 4,
 "nbformat_minor": 0
}
