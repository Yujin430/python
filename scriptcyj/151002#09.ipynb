{
 "cells": [
  {
   "cell_type": "code",
   "execution_count": 15,
   "metadata": {
    "collapsed": false
   },
   "outputs": [
    {
     "name": "stdout",
     "output_type": "stream",
     "text": [
      "1 Great\n",
      "[2, 'Great'] [1, 2, 'Great']\n",
      "\n",
      "[0, 2, 4, 6, 8]\n",
      "\n",
      "[1, 2, 'Great', 1, 2, 'Great']\n",
      "[1, 2, 'Great', 3, 4, 5]\n",
      "3\n",
      "\n",
      "True\n",
      "False\n"
     ]
    }
   ],
   "source": [
    "l = []#공백리스트\n",
    "l= [1,2,\"Great\"]#세개의 원소가 존재\n",
    "#질문을 하자면 공백리스트와 다른 세개의 원소를 가지는 객체가 새롭게\n",
    "#생기는 건지 아니면 기존의 객체에 그걸 가지는 거가 추가되는건지..\n",
    "print l[0], l[-1]\n",
    "print l[1:3], l[:]#두번째건 전체를 다.\n",
    "print\n",
    "\n",
    "L=range(10)\n",
    "print L[::2]#확장슬라이드\n",
    "print\n",
    "\n",
    "print l*2\n",
    "print l+[3,4,5]\n",
    "print len(l)#리스트 L안의 원소의 갯수 반환\n",
    "print\n",
    "print 6 in L #L은 0~9의 수\n",
    "print 6 in l #l은 지금[1,2,\"Great\"]의 상태임"
   ]
  },
  {
   "cell_type": "code",
   "execution_count": 16,
   "metadata": {
    "collapsed": false
   },
   "outputs": [
    {
     "name": "stdout",
     "output_type": "stream",
     "text": [
      "['spam', 'eggs', 123, 1234]\n"
     ]
    }
   ],
   "source": [
    "a=['spam','eggs',100,1234]\n",
    "a[2]=a[2]+23\n",
    "print a\n",
    "#리스트는 Mutable한 특성을 지녔는데, *,+ 형태로 바뀌는 것이 아니라\n",
    "#치환(할당)연산에 의해 변경됨"
   ]
  },
  {
   "cell_type": "code",
   "execution_count": 18,
   "metadata": {
    "collapsed": false
   },
   "outputs": [
    {
     "name": "stdout",
     "output_type": "stream",
     "text": [
      "[1, 12, 123, 1234]\n",
      "[1, 123, 1234]\n",
      "[1, 2, 3, 123, 1234]\n"
     ]
    }
   ],
   "source": [
    "a=['spam','eggs',123,1234]\n",
    "a[0:2]=[1,12] #['spam','eggs']대신에 [1,12]가 들어가게됨\n",
    "print a\n",
    "\n",
    "a[0:2]=[1] #[1,12] 가 없어지면서 [1]이 들어가게 됨...\n",
    "print a\n",
    "\n",
    "a[0:1]=[1,2,3] #[1] 대신에 [1,2,3]이 들어가게 됨\n",
    "print a"
   ]
  },
  {
   "cell_type": "code",
   "execution_count": 19,
   "metadata": {
    "collapsed": false
   },
   "outputs": [
    {
     "name": "stdout",
     "output_type": "stream",
     "text": [
      "[123, 1234]\n"
     ]
    }
   ],
   "source": [
    "a=[1,12,123,1234]\n",
    "a[0:2]=[] #1,2의 자리를 아무것도 없는것으로 바꿈->삭제!\n",
    "\n",
    "print a\n",
    "#슬라이스 연산을 이용해서 원소를 삭제해줬음!!!!><"
   ]
  },
  {
   "cell_type": "code",
   "execution_count": 20,
   "metadata": {
    "collapsed": false
   },
   "outputs": [
    {
     "name": "stdout",
     "output_type": "stream",
     "text": [
      "[123, 'spam', 'ham', 1234]\n",
      "[123, 'spam', 'ham']\n",
      "[123, 'spam', 'ham', 1234, 123, 'spam', 'ham', 1234]\n"
     ]
    }
   ],
   "source": [
    "a=[123,1234]\n",
    "a[1:1]=['spam','ham']\n",
    "#시작과 끝이 1이므로 1 자리의 바로 앞을 의미\n",
    "print a\n",
    "#1번째 인덱스에 삽입이 됨!!!\n",
    "\n",
    "b=[123,1234]\n",
    "b[1:2]=['spam','ham']\n",
    "print b\n",
    "#1번째 원소가 치환이 됨!\n",
    "\"\"\"\n",
    "[1:1] 하고 [1:2]가 자리를 잡는 방법이 다름!!!!!!\n",
    "\"\"\"\n",
    "a[:0]=a#->이것도 [:0]이 [0:0]하고 같은것임\n",
    "print a\n",
    "#리스트 맨 앞에 자기 자신을 삽입하게 되는거~~"
   ]
  },
  {
   "cell_type": "code",
   "execution_count": 27,
   "metadata": {
    "collapsed": false
   },
   "outputs": [
    {
     "name": "stdout",
     "output_type": "stream",
     "text": [
      "[2, 3, 4]\n",
      "[2]\n",
      "[1, 2, 3, 4]\n"
     ]
    }
   ],
   "source": [
    "a=[1,2,3,4]\n",
    "del a[0]#인덱싱도 가능\n",
    "print a\n",
    "del a[1:]#슬라이싱도 가능\n",
    "print a\n",
    "#여기서 2가 출력되는 거는 지금 첫번째(인덱싱[0])지워져서 [2,3,4]라서임\n",
    "a=[1,2,3,4]\n",
    "del a[1:1]#->한공간을 가리키는거라 그대로인가봄...\n",
    "print a"
   ]
  },
  {
   "cell_type": "code",
   "execution_count": 28,
   "metadata": {
    "collapsed": false
   },
   "outputs": [
    {
     "name": "stdout",
     "output_type": "stream",
     "text": [
      "[0, 1, 2, 3]\n",
      "[0, 2]\n",
      "[1, 3]\n"
     ]
    }
   ],
   "source": [
    "a=range(4)#처음에는 0~3까지 들어가있고\n",
    "print a\n",
    "print a[::2]#2step씩이고\n",
    "\n",
    "del a[::2]#2setp씩을 지웠더니\n",
    "print a#1,3이 남는구만><"
   ]
  },
  {
   "cell_type": "code",
   "execution_count": 29,
   "metadata": {
    "collapsed": false
   },
   "outputs": [
    {
     "ename": "NameError",
     "evalue": "name 'a' is not defined",
     "output_type": "error",
     "traceback": [
      "\u001b[1;31m---------------------------------------------------------------------------\u001b[0m",
      "\u001b[1;31mNameError\u001b[0m                                 Traceback (most recent call last)",
      "\u001b[1;32m<ipython-input-29-08a0a7cc0973>\u001b[0m in \u001b[0;36m<module>\u001b[1;34m()\u001b[0m\n\u001b[0;32m      1\u001b[0m \u001b[0ma\u001b[0m\u001b[1;33m=\u001b[0m\u001b[0mrange\u001b[0m\u001b[1;33m(\u001b[0m\u001b[1;36m5\u001b[0m\u001b[1;33m)\u001b[0m\u001b[1;33m\u001b[0m\u001b[0m\n\u001b[0;32m      2\u001b[0m \u001b[1;32mdel\u001b[0m \u001b[0ma\u001b[0m\u001b[1;33m\u001b[0m\u001b[0m\n\u001b[1;32m----> 3\u001b[1;33m \u001b[1;32mprint\u001b[0m \u001b[0ma\u001b[0m\u001b[1;33m\u001b[0m\u001b[0m\n\u001b[0m\u001b[0;32m      4\u001b[0m \u001b[1;31m#리스트 자체에 대한 삭제\u001b[0m\u001b[1;33m\u001b[0m\u001b[1;33m\u001b[0m\u001b[0m\n",
      "\u001b[1;31mNameError\u001b[0m: name 'a' is not defined"
     ]
    }
   ],
   "source": [
    "a=range(5)\n",
    "del a\n",
    "print a\n",
    "#리스트 자체에 대한 삭제 ->삭제되었으니 프린트가 안돼서 오류가 생기지\n",
    "#근데 정확하게는... del a는.....\n",
    "#리스트가 삭제되는 것이 아니라 레퍼런스 a가 삭제되는 것임\n",
    "#리스트 자체는 어딘가에는 있으... 언젠가 가비지 콜렉터가 가져갈거얌"
   ]
  },
  {
   "cell_type": "code",
   "execution_count": 33,
   "metadata": {
    "collapsed": false
   },
   "outputs": [
    {
     "name": "stdout",
     "output_type": "stream",
     "text": [
      "['begin', [1, 2, 3], 'end']\n",
      "2\n",
      "['begin', [1, 100, 3], 'end']\n",
      "[1, 200, 3]\n"
     ]
    }
   ],
   "source": [
    "s=[1,2,3]\n",
    "t=['begin',s,'end']#중첩리스트\n",
    "print t\n",
    "\n",
    "print t[1][1]#리스트 연산을 여러개 붙일 수 있음\n",
    "#앞에서부터 차근차근 보면 됨....\n",
    "#t[1]->s, t[1][1]->s[1]->2\n",
    "s[1]=100\n",
    "print t\n",
    "\n",
    "t[1][1]=200\n",
    "print s"
   ]
  },
  {
   "cell_type": "code",
   "execution_count": 34,
   "metadata": {
    "collapsed": false
   },
   "outputs": [
    {
     "name": "stdout",
     "output_type": "stream",
     "text": [
      "1\n",
      "['a', ['x', 'y'], 'b']\n",
      "['x', 'y']\n",
      "y\n"
     ]
    }
   ],
   "source": [
    "L = [1, ['a', ['x', 'y'], 'b'], 3]\n",
    "print L[0]\n",
    "print L[1]\n",
    "print L[1][1]\n",
    "print L[1][1][1]\n",
    "#L[1] = ['a',['x','y'],'b']\n",
    "#L[1][1]=['x','y']\n",
    "#L[1][1][1]=y"
   ]
  },
  {
   "cell_type": "code",
   "execution_count": 36,
   "metadata": {
    "collapsed": false
   },
   "outputs": [
    {
     "name": "stdout",
     "output_type": "stream",
     "text": [
      "[0, 1, 2, 3, 4, 5, 6, 7, 8, 9]\n",
      "[5, 6, 7, 8, 9, 10, 11, 12, 13, 14]\n",
      "[5, 7, 9, 11, 13]\n"
     ]
    }
   ],
   "source": [
    "#ragne의 반환값은 리스트~~~~~~\n",
    "print range(10) \n",
    "# 0(Included)부터 10(Excluded)까지\n",
    "print range(5, 15) \n",
    "# 5(Included)부터 15(Excluded)까지\n",
    "print range(5, 15, 2) \n",
    "# 0(Included)부터 10(Excluded)까지, Step: 2"
   ]
  },
  {
   "cell_type": "code",
   "execution_count": 37,
   "metadata": {
    "collapsed": false
   },
   "outputs": [
    {
     "name": "stdout",
     "output_type": "stream",
     "text": [
      "0 inch= 0.0 centi\n",
      "1 inch= 2.54 centi\n",
      "2 inch= 5.08 centi\n",
      "3 inch= 7.62 centi\n",
      "4 inch= 10.16 centi\n",
      "5 inch= 12.7 centi\n",
      "6 inch= 15.24 centi\n",
      "7 inch= 17.78 centi\n",
      "8 inch= 20.32 centi\n",
      "9 inch= 22.86 centi\n"
     ]
    }
   ],
   "source": [
    "for el in range(10):\n",
    "    print el, 'inch=', el * 2.54, 'centi'"
   ]
  },
  {
   "cell_type": "code",
   "execution_count": 38,
   "metadata": {
    "collapsed": false
   },
   "outputs": [
    {
     "name": "stdout",
     "output_type": "stream",
     "text": [
      "0 1 2 3 4 5 6\n"
     ]
    }
   ],
   "source": [
    "sun, mon, tue, wed, thu, fri, sat = range(7)\n",
    "print sun, mon, tue, wed, thu, fri, sat\n",
    "#변수에 값을 바로 하나씩 할당하는게 가능함!!!!!올..."
   ]
  },
  {
   "cell_type": "code",
   "execution_count": 41,
   "metadata": {
    "collapsed": false
   },
   "outputs": [
    {
     "name": "stdout",
     "output_type": "stream",
     "text": [
      "name = one , num = 1\n",
      "name = two , num = 2\n",
      "name = three , num = 3\n",
      "\n",
      "name = one, num = 1\n",
      "name = two, num = 2\n",
      "name = three, num = 3\n",
      "\n",
      "one 1\n",
      "two 2\n",
      "three 3\n"
     ]
    }
   ],
   "source": [
    "#리스트 안의 각 자료가 튜플일떄!!!!!!\n",
    "lt = [('one', 1), ('two', 2), ('three', 3)]\n",
    "for t in lt:#t에 들어가는 것은 각각의 튜플임!\n",
    "    print 'name =', t[0] ,', num =', t[1]\n",
    "    #t[0]에는 one, t[1]에는 1 이런식으로 들어오게 되겠구만!ㅎ\n",
    "print\n",
    "    #근데 얘가 더 효율적\n",
    "lt = [('one', 1), ('two', 2), ('three', 3)]\n",
    "for t in lt:\n",
    "    print 'name = %s, num = %s' % t #문자열 포멧팅을 활용!\n",
    "    #one은 첫번쨰 %s에, 숫자는 두번째 %s에 들어가~\n",
    "print\n",
    "for name, num in lt:#아예 포문에 엘리먼트 변수가 2개 쓰임\n",
    "    print name, num \n",
    "    "
   ]
  },
  {
   "cell_type": "code",
   "execution_count": 43,
   "metadata": {
    "collapsed": false
   },
   "outputs": [
    {
     "name": "stdout",
     "output_type": "stream",
     "text": [
      "one 1\n",
      "two 2\n",
      "three 3\n"
     ]
    }
   ],
   "source": [
    "#이건 리스트 안에 리스트가 존재하는 경우!\n",
    "LL = [['one', 1], ['two', 2], ['three', 3]]\n",
    "for name, num in LL:\n",
    "    print name, num #그래도 그대로 똑같이 값 출력 가능햐~\n",
    "#for문 뒤는 튜플이건 리스트건 상관 X"
   ]
  },
  {
   "cell_type": "code",
   "execution_count": 49,
   "metadata": {
    "collapsed": false
   },
   "outputs": [
    {
     "name": "stdout",
     "output_type": "stream",
     "text": [
      "[1, 2, 3, 5]\n",
      "[1, 2, 3, 5, 'abc', (1, 2), {'a': 100}, [1, 2]]\n",
      "[1, 2, 3, 4, 5, 'abc', (1, 2), {'a': 100}, [1, 2]]\n",
      "['abcd', 1, 2, 3, 4, 5, 'abc', (1, 2), {'a': 100}, [1, 2]]\n"
     ]
    }
   ],
   "source": [
    "#리스트가 지원하는 매소드\n",
    "s=[1,2,3]\n",
    "s.append(5) #리스트에 5라는 정수를 추가\n",
    "print s\n",
    "s.append(\"abc\")\n",
    "s.append((1,2))\n",
    "s.append({'a':100})\n",
    "s.append([1,2])\n",
    "#append에 다양한 것을 넣을 수 있음(문자열 튜플 사전 숫자 리스트)\n",
    "print s\n",
    "s.insert(3,4)#인덱스 3에 해당하는 5의 자리가 밀리고 4가 들어감\n",
    "print s\n",
    "s.insert(0,\"abcd\")\n",
    "print s"
   ]
  },
  {
   "cell_type": "code",
   "execution_count": 55,
   "metadata": {
    "collapsed": false
   },
   "outputs": [
    {
     "name": "stdout",
     "output_type": "stream",
     "text": [
      "2\n",
      "[1, 2, 3, 4, 5, 'abc']\n",
      "5\n",
      "1\n",
      "6\n"
     ]
    }
   ],
   "source": [
    "s=[1,2,3,4,5]\n",
    "print s.index(3)#원소 3의 인덱스를 반환\n",
    "s.append(\"abc\")\n",
    "print s \n",
    "print s.index(\"abc\")#원소 'abc'의 인덱스를 반환\n",
    "print s.count(2)\n",
    "s=[1,2,2,2,2,2,2,3,4,5]\n",
    "print s.count(2)"
   ]
  },
  {
   "cell_type": "code",
   "execution_count": 56,
   "metadata": {
    "collapsed": false
   },
   "outputs": [
    {
     "name": "stdout",
     "output_type": "stream",
     "text": [
      "[100, -7, -10, 2, 1]\n",
      "[-10, -7, 1, 2, 100]\n"
     ]
    }
   ],
   "source": [
    "s = [1, 2, -10, -7, 100]\n",
    "s.reverse() #자료의 순서를 뒤집기 (반환값 없음)   \n",
    "print s\n",
    "\n",
    "s.sort() # 정렬 (반환값 없음)\n",
    "#정수의 경우에는 작은 순서대로 정렬함\n",
    "\n",
    "#reverse랑 sort는 둘다 원래 리스트를 바꾸는거얌...!!!!!!\n",
    "print s\n",
    "\n",
    "#팀소트 알고리즘을 사용함!"
   ]
  },
  {
   "cell_type": "code",
   "execution_count": 3,
   "metadata": {
    "collapsed": false
   },
   "outputs": [
    {
     "name": "stdout",
     "output_type": "stream",
     "text": [
      "[20, 30, 40, 50]\n",
      "[10, 30, 20, 40, 50]\n",
      "[10, 30, 20, 40, 50, 60, 70]\n",
      "[10, 30, 20, 40, 50, 60, 70, [60, 70]]\n",
      "[10, 30, 20, 40, 50, 60, 70, [60, 70], 60, 70]\n"
     ]
    }
   ],
   "source": [
    "s = [10, 20, 30, 40, 50]\n",
    "s.remove(10) # 자료 값 10 삭제,s안에 있는 원소 10을 삭제하는거\n",
    "print s\n",
    "\n",
    "s = [10, 20, 30, 20, 40, 50] \n",
    "# 자료 값이 여러개 존재하면 첫번째 것만 삭제\n",
    "s.remove(20)\n",
    "print s\n",
    "\n",
    "s.extend([60, 70])#원소로는 튜플을 써도 결과가 마찬가지로 나옴.\n",
    "# 새로운 리스트([60, 70]를 기존 리스트 s 뒤에 병합\n",
    "#리스트를 확장하는 거니까 주로 리스트가 쓰임\n",
    "#extend뒤에 리스트가 오면 값을 뽑아다가 넣어 리스트를 확장\n",
    "print s\n",
    "\n",
    "s.append([60, 70]) \n",
    "# 주의: append로 새로운 리스트를 추가하면 하나의 자료 요소로서 추가\n",
    "#append는 뒤의 인자를 element로 인식->중첩된 리스트가 되어 버림\n",
    "print s\n",
    "\n",
    "s.append(60)\n",
    "s.append(70)\n",
    "#질문. 이렇게 하는 경우엔 그럼 extend랑 같은 경우라 할 수 있나?\n",
    "print s"
   ]
  },
  {
   "cell_type": "code",
   "execution_count": 61,
   "metadata": {
    "collapsed": false
   },
   "outputs": [
    {
     "name": "stdout",
     "output_type": "stream",
     "text": [
      "[10, 20, 30, 40, 50, 60]\n",
      "60\n",
      "[10, 20, 30, 40, 50]\n"
     ]
    }
   ],
   "source": [
    "#리스트를 스택으로 활용하는 예 FILO\n",
    "s = [10, 20, 30, 40, 50]\n",
    "s.append(60)#마지막에 원소가 추가되는 형태임\n",
    "print s\n",
    "print s.pop()\n",
    "#s 리스트의 마지막 원소를 뺌. 리스트가 제공하는 메소드\n",
    "print s"
   ]
  },
  {
   "cell_type": "code",
   "execution_count": 62,
   "metadata": {
    "collapsed": false
   },
   "outputs": [
    {
     "name": "stdout",
     "output_type": "stream",
     "text": [
      "10\n",
      "[20, 30, 40, 50]\n",
      "30\n",
      "[20, 40, 50]\n"
     ]
    }
   ],
   "source": [
    "#이건 pop에 대한 설명인지 스택에 대한 설명인지ㅜ.ㅜ?\n",
    "s = [10, 20, 30, 40, 50]\n",
    "print s.pop(0)   #0 번째 인덱스 값을 꺼낸다.\n",
    "#pop은 인자를 안주면 마지막 원소를 끄집어냄\n",
    "print s\n",
    "print s.pop(1)   #1 번째 인덱스 값을 꺼낸다.\n",
    "print s"
   ]
  },
  {
   "cell_type": "code",
   "execution_count": 63,
   "metadata": {
    "collapsed": false
   },
   "outputs": [
    {
     "name": "stdout",
     "output_type": "stream",
     "text": [
      "10\n",
      "[20, 30, 40, 50, 60]\n"
     ]
    }
   ],
   "source": [
    "#리스트를 큐로 사용하기\n",
    "q = [10, 20, 30, 40, 50]\n",
    "q.append(60)\n",
    "print q.pop(0)\n",
    "print q\n",
    "#큐는 먼저 들어오는 것은 먼저 마지막에 들어온 것은 마지막에 나감FIFP"
   ]
  },
  {
   "cell_type": "code",
   "execution_count": 69,
   "metadata": {
    "collapsed": false
   },
   "outputs": [
    {
     "name": "stdout",
     "output_type": "stream",
     "text": [
      "10\n",
      "9\n",
      "8\n",
      "7\n"
     ]
    }
   ],
   "source": [
    "L=[]\n",
    "L.extend(range(1,11))\n",
    "print L.pop()\n",
    "print L.pop()\n",
    "print L.pop()\n",
    "print L.pop()"
   ]
  },
  {
   "cell_type": "code",
   "execution_count": 70,
   "metadata": {
    "collapsed": false
   },
   "outputs": [
    {
     "name": "stdout",
     "output_type": "stream",
     "text": [
      "10\n",
      "9\n",
      "8\n",
      "7\n"
     ]
    }
   ],
   "source": [
    "L=[]\n",
    "for i in range(1,11):\n",
    "    L.append(i)\n",
    "for i in range(0,4):\n",
    "    print L.pop()"
   ]
  },
  {
   "cell_type": "code",
   "execution_count": null,
   "metadata": {
    "collapsed": true
   },
   "outputs": [],
   "source": []
  }
 ],
 "metadata": {
  "kernelspec": {
   "display_name": "Python 2",
   "language": "python",
   "name": "python2"
  },
  "language_info": {
   "codemirror_mode": {
    "name": "ipython",
    "version": 2
   },
   "file_extension": ".py",
   "mimetype": "text/x-python",
   "name": "python",
   "nbconvert_exporter": "python",
   "pygments_lexer": "ipython2",
   "version": "2.7.9"
  }
 },
 "nbformat": 4,
 "nbformat_minor": 0
}
