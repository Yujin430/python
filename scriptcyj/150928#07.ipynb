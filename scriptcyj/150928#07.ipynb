{
 "cells": [
  {
   "cell_type": "code",
   "execution_count": 1,
   "metadata": {
    "collapsed": true
   },
   "outputs": [],
   "source": [
    "s = 'abcdef'\n",
    "L = [100,200,300]\n",
    "t = ('tuple', 'object', 1, 2)"
   ]
  },
  {
   "cell_type": "code",
   "execution_count": 2,
   "metadata": {
    "collapsed": false
   },
   "outputs": [
    {
     "name": "stdout",
     "output_type": "stream",
     "text": [
      "a\n",
      "b\n",
      "f\n",
      "\n",
      "200\n",
      "900\n"
     ]
    }
   ],
   "source": [
    "s = 'abcdef'\n",
    "l = [100, 200, 300]\n",
    "print s[0]\n",
    "print s[1]\n",
    "print s[-1]\n",
    "print\n",
    "print l[1]\n",
    "l[1] = 900\n",
    "print l[1]"
   ]
  },
  {
   "cell_type": "code",
   "execution_count": 3,
   "metadata": {
    "collapsed": false
   },
   "outputs": [
    {
     "ename": "IndexError",
     "evalue": "list index out of range",
     "output_type": "error",
     "traceback": [
      "\u001b[1;31m---------------------------------------------------------------------------\u001b[0m",
      "\u001b[1;31mIndexError\u001b[0m                                Traceback (most recent call last)",
      "\u001b[1;32m<ipython-input-3-dd85adc9a089>\u001b[0m in \u001b[0;36m<module>\u001b[1;34m()\u001b[0m\n\u001b[1;32m----> 1\u001b[1;33m \u001b[1;32mprint\u001b[0m \u001b[0ml\u001b[0m\u001b[1;33m[\u001b[0m\u001b[1;36m100\u001b[0m\u001b[1;33m]\u001b[0m\u001b[1;33m\u001b[0m\u001b[0m\n\u001b[0m",
      "\u001b[1;31mIndexError\u001b[0m: list index out of range"
     ]
    }
   ],
   "source": [
    "print l[100]"
   ]
  },
  {
   "cell_type": "code",
   "execution_count": 4,
   "metadata": {
    "collapsed": false
   },
   "outputs": [
    {
     "name": "stdout",
     "output_type": "stream",
     "text": [
      "bc\n",
      "bcdef\n",
      "abcdef\n",
      "abcdef\n",
      "\n",
      "[100, 200]\n",
      "[100, 200]\n"
     ]
    }
   ],
   "source": [
    "s = 'abcdef'\n",
    "L = [100, 200, 300]\n",
    "\n",
    "print s[1:3]\n",
    "print s[1:]\n",
    "print s[:]\n",
    "print s[-100:100]\n",
    "print\n",
    "print L[:-1]     # L[:2] 와 동일\n",
    "print L[:2]"
   ]
  },
  {
   "cell_type": "code",
   "execution_count": 5,
   "metadata": {
    "collapsed": false
   },
   "outputs": [
    {
     "name": "stdout",
     "output_type": "stream",
     "text": [
      "ac\n",
      "dcba\n"
     ]
    }
   ],
   "source": [
    "s = 'abcd'\n",
    "print s[::2]   #step:2 - 각 원소들 사이의 거리가 인덱스 기준으로 2가 됨\n",
    "print s[::-1]  #step:-1 - 왼쪽 방향으로 1칸씩"
   ]
  },
  {
   "cell_type": "code",
   "execution_count": 6,
   "metadata": {
    "collapsed": false
   },
   "outputs": [
    {
     "name": "stdout",
     "output_type": "stream",
     "text": [
      "abcdef\n",
      "[1, 2, 3, 4, 5, 6]\n"
     ]
    }
   ],
   "source": [
    "s = 'abc' + 'def'\n",
    "print s\n",
    "\n",
    "L = [1,2,3] + [4,5,6]\n",
    "print L"
   ]
  },
  {
   "cell_type": "code",
   "execution_count": 7,
   "metadata": {
    "collapsed": false
   },
   "outputs": [
    {
     "name": "stdout",
     "output_type": "stream",
     "text": [
      "abcabcabcabc\n",
      "[1, 2, 3, 1, 2, 3]\n"
     ]
    }
   ],
   "source": [
    "s = 'abc'\n",
    "print s * 4\n",
    "\n",
    "L = [1,2,3]\n",
    "print L * 2"
   ]
  },
  {
   "cell_type": "code",
   "execution_count": 8,
   "metadata": {
    "collapsed": false
   },
   "outputs": [
    {
     "name": "stdout",
     "output_type": "stream",
     "text": [
      "True\n",
      "True\n",
      "False\n",
      "True\n"
     ]
    }
   ],
   "source": [
    "s = 'abcde'\n",
    "print 'c' in s\n",
    "\n",
    "t = (1,2,3,4,5)\n",
    "print 2 in t\n",
    "print 10 in t\n",
    "print 10 not in t"
   ]
  },
  {
   "cell_type": "code",
   "execution_count": 9,
   "metadata": {
    "collapsed": false
   },
   "outputs": [
    {
     "name": "stdout",
     "output_type": "stream",
     "text": [
      "True\n",
      "False\n",
      "False\n",
      "True\n"
     ]
    }
   ],
   "source": [
    "print 'ab' in 'abcd'\n",
    "print 'ad' in 'abcd'\n",
    "print ' ' in 'abcd'\n",
    "print ' ' in 'abcd '"
   ]
  },
  {
   "cell_type": "code",
   "execution_count": 10,
   "metadata": {
    "collapsed": false
   },
   "outputs": [
    {
     "name": "stdout",
     "output_type": "stream",
     "text": [
      "5\n",
      "3\n",
      "4\n"
     ]
    }
   ],
   "source": [
    "s = 'abcde'\n",
    "l = [1,2,3]\n",
    "t = (1, 2, 3, 4)\n",
    "print len(s)\n",
    "print len(l)\n",
    "print len(t) #내장함수..?!."
   ]
  },
  {
   "cell_type": "code",
   "execution_count": 11,
   "metadata": {
    "collapsed": false
   },
   "outputs": [
    {
     "name": "stdout",
     "output_type": "stream",
     "text": [
      "a b c d\n"
     ]
    }
   ],
   "source": [
    "for c in 'abcd':\n",
    "    print c,"
   ]
  },
  {
   "cell_type": "code",
   "execution_count": 13,
   "metadata": {
    "collapsed": false
   },
   "outputs": [
    {
     "name": "stdout",
     "output_type": "stream",
     "text": [
      "Don't walk. \"Run\"\n"
     ]
    }
   ],
   "source": [
    "s = ''\n",
    "str1 = 'Python is great!'\n",
    "str2 = \"Yes, it is.\"\n",
    "str3 = \"It's not like any other languages\"\n",
    "#안에 단일따옴표 쓰려면 어쩔 수 없이 이중따옴표 써야됨\n",
    "str4 = 'Don\\'t walk. \"Run\"'#이스케이프문자...\n",
    "print str4"
   ]
  },
  {
   "cell_type": "code",
   "execution_count": 14,
   "metadata": {
    "collapsed": false
   },
   "outputs": [
    {
     "name": "stdout",
     "output_type": "stream",
     "text": [
      "This is a rather long string containing back slash and new line.\n",
      "Good!\n"
     ]
    }
   ],
   "source": [
    "long_str = \"This is a rather long string \\\n",
    "containing back slash and new line.\\nGood!\"\n",
    "print long_str"
   ]
  },
  {
   "cell_type": "code",
   "execution_count": 15,
   "metadata": {
    "collapsed": false
   },
   "outputs": [
    {
     "name": "stdout",
     "output_type": "stream",
     "text": [
      " While the rest of the world has been catching on to\n",
      "the Perl scripting language, the Linux commnunity,\n",
      "long since past the pleasing shock of Perl's power,\n",
      "has been catching on to a different scripting animal -- Python.\n",
      "\n",
      " While the rest of the world has been catching on to\n",
      "the Perl scripting language, the Linux commnunity,\n",
      "long since past the pleasing shock of Perl's power,\n",
      "has been catching on to a different scripting animal -- Python.\n"
     ]
    }
   ],
   "source": [
    "multiline = \"\"\" While the rest of the world has been catching on to\n",
    "the Perl scripting language, the Linux commnunity,\n",
    "long since past the pleasing shock of Perl's power,\n",
    "has been catching on to a different scripting animal -- Python.\"\"\"\n",
    "print multiline\n",
    "print\n",
    "ml = ''' While the rest of the world has been catching on to\n",
    "the Perl scripting language, the Linux commnunity,\n",
    "long since past the pleasing shock of Perl's power,\n",
    "has been catching on to a different scripting animal -- Python.'''\n",
    "print ml"
   ]
  },
  {
   "cell_type": "code",
   "execution_count": 16,
   "metadata": {
    "collapsed": false
   },
   "outputs": [
    {
     "name": "stdout",
     "output_type": "stream",
     "text": [
      "\\abc\\\n",
      "\n",
      "abc\tdef\tghi\n",
      "\n",
      "a\n",
      "b\n",
      "c\n"
     ]
    }
   ],
   "source": [
    "print '\\\\abc\\\\'\n",
    "print\n",
    "print 'abc\\tdef\\tghi'\n",
    "print\n",
    "print 'a\\nb\\nc'"
   ]
  },
  {
   "cell_type": "code",
   "execution_count": 17,
   "metadata": {
    "collapsed": false
   },
   "outputs": [
    {
     "name": "stdout",
     "output_type": "stream",
     "text": [
      "First String Second String\n",
      "First StringFirst StringFirst String\n",
      "\n",
      "r\n",
      "irst Strin\n",
      "12\n",
      "\n",
      "First String\n"
     ]
    }
   ],
   "source": [
    "str1 = 'First String'\n",
    "str2 = 'Second String'\n",
    "str3 = str1 + ' ' + str2\n",
    "print str3\n",
    "print str1 * 3\n",
    "print\n",
    "print str1[2]\n",
    "print str1[1:-1]\n",
    "print len(str1)\n",
    "print\n",
    "print str1[0:len(str1)]"
   ]
  },
  {
   "cell_type": "code",
   "execution_count": 18,
   "metadata": {
    "collapsed": false
   },
   "outputs": [
    {
     "ename": "TypeError",
     "evalue": "'str' object does not support item assignment",
     "output_type": "error",
     "traceback": [
      "\u001b[1;31m---------------------------------------------------------------------------\u001b[0m",
      "\u001b[1;31mTypeError\u001b[0m                                 Traceback (most recent call last)",
      "\u001b[1;32m<ipython-input-18-7213ba3e679f>\u001b[0m in \u001b[0;36m<module>\u001b[1;34m()\u001b[0m\n\u001b[1;32m----> 1\u001b[1;33m \u001b[0mstr1\u001b[0m\u001b[1;33m[\u001b[0m\u001b[1;36m0\u001b[0m\u001b[1;33m]\u001b[0m \u001b[1;33m=\u001b[0m \u001b[1;34m'f'\u001b[0m\u001b[1;33m\u001b[0m\u001b[0m\n\u001b[0m",
      "\u001b[1;31mTypeError\u001b[0m: 'str' object does not support item assignment"
     ]
    }
   ],
   "source": [
    "str1[0] = 'f'"
   ]
  },
  {
   "cell_type": "code",
   "execution_count": 19,
   "metadata": {
    "collapsed": false
   },
   "outputs": [
    {
     "ename": "TypeError",
     "evalue": "'str' object does not support item assignment",
     "output_type": "error",
     "traceback": [
      "\u001b[1;31m---------------------------------------------------------------------------\u001b[0m",
      "\u001b[1;31mTypeError\u001b[0m                                 Traceback (most recent call last)",
      "\u001b[1;32m<ipython-input-19-08d42bad7f22>\u001b[0m in \u001b[0;36m<module>\u001b[1;34m()\u001b[0m\n\u001b[1;32m----> 1\u001b[1;33m \u001b[0mstr1\u001b[0m\u001b[1;33m[\u001b[0m\u001b[1;36m0\u001b[0m\u001b[1;33m:\u001b[0m\u001b[1;36m3\u001b[0m\u001b[1;33m]\u001b[0m \u001b[1;33m=\u001b[0m \u001b[1;34m'abc'\u001b[0m\u001b[1;33m\u001b[0m\u001b[0m\n\u001b[0m",
      "\u001b[1;31mTypeError\u001b[0m: 'str' object does not support item assignment"
     ]
    }
   ],
   "source": [
    "str1[0:3] = 'abc'"
   ]
  },
  {
   "cell_type": "code",
   "execution_count": 20,
   "metadata": {
    "collapsed": false
   },
   "outputs": [
    {
     "name": "stdout",
     "output_type": "stream",
     "text": [
      "spam, cheese, and egg\n"
     ]
    }
   ],
   "source": [
    "s = 'spam and egg'\n",
    "s = s[:4] + ', cheese, ' + s[5:]\n",
    "print s"
   ]
  },
  {
   "cell_type": "code",
   "execution_count": 21,
   "metadata": {
    "collapsed": false
   },
   "outputs": [
    {
     "name": "stdout",
     "output_type": "stream",
     "text": [
      "Spam and Egg\n",
      "\n",
      "<type 'str'>\n",
      "a\n",
      "<type 'unicode'>\n",
      "bc\n",
      "\n",
      "<type 'unicode'>\n",
      "abc\n"
     ]
    }
   ],
   "source": [
    "print u'Spam and Egg'\n",
    "#u는 새로운 리터럴 표기..유니코드 형태\n",
    "print \n",
    "a = 'a'\n",
    "b = u'bc'#유니코드타입...\n",
    "print type(a)\n",
    "print a\n",
    "print type(b)\n",
    "print b\n",
    "print\n",
    "c = a + b          \n",
    "# 일반 문자열과 유니코드를 합치면 유니코드로 변환\n",
    "print type(c)\n",
    "print c"
   ]
  },
  {
   "cell_type": "code",
   "execution_count": 22,
   "metadata": {
    "collapsed": false
   },
   "outputs": [
    {
     "name": "stdout",
     "output_type": "stream",
     "text": [
      "Spam 또 Egg\n"
     ]
    }
   ],
   "source": [
    "print u'Spam \\uB610 Egg'    \n",
    "#구글에서 \\uB610 검색하면 또 라는 문자가 나옴...\n",
    "# 문자열 내에 유티코드 이스케이프 문자인 \\uHHHH 사용가능, \n",
    "# HHHH는 4자리 16진수 (unicode 포맷)"
   ]
  },
  {
   "cell_type": "code",
   "execution_count": 29,
   "metadata": {
    "collapsed": false
   },
   "outputs": [
    {
     "name": "stdout",
     "output_type": "stream",
     "text": [
      "<type 'unicode'>\n",
      "한글\n",
      "True\n",
      "False\n"
     ]
    }
   ],
   "source": [
    "a = unicode('한글', 'utf-8')     \n",
    "b=u'한글'#처럼 먹지 않아도 괜찮음!!\n",
    "# '한글' 문자열의 인코딩 방식을 'utf-8'형태로 인식시키면서 \n",
    "# 해당 문자열을 unicode로 변환\n",
    "print type(a)\n",
    "print a\n",
    "print a==b #객체 내용 비교\n",
    "print a is b#객체 식별자 비교"
   ]
  },
  {
   "cell_type": "code",
   "execution_count": 24,
   "metadata": {
    "collapsed": false
   },
   "outputs": [
    {
     "name": "stdout",
     "output_type": "stream",
     "text": [
      "22\n",
      "8\n",
      "8\n"
     ]
    }
   ],
   "source": [
    "print len('한글과 세종대왕')\n",
    "print len(unicode('한글과 세종대왕', 'utf-8'))   \n",
    "#유니코드 타입의 문자열은 한글 문자열 길이를 올바르게 반환함\n",
    "print len(u'한글과 세종대왕')"
   ]
  },
  {
   "cell_type": "code",
   "execution_count": 26,
   "metadata": {
    "collapsed": false
   },
   "outputs": [
    {
     "name": "stdout",
     "output_type": "stream",
     "text": [
      "한\n",
      "글\n",
      "한글과\n",
      "세종대왕\n",
      "왕대종세 과글한\n",
      "\n",
      "한\n",
      "글\n",
      "한글과\n",
      "세종대왕\n",
      "왕대종세 과글한\n",
      "\n",
      "�\n",
      "�\n",
      "한\n",
      "��과 세종대왕\n",
      "��쀌녢츄� ��ꀸ꜕�\n",
      "\n"
     ]
    }
   ],
   "source": [
    "u = unicode('한글과 세종대왕', 'utf-8')    \n",
    "#유니코드 타입의 한글 문자열에 대해서는 인덱싱 및 슬라이싱이 \n",
    "# 올바르게 수행됨 \n",
    "print u[0]\n",
    "print u[1]\n",
    "print u[:3]\n",
    "print u[4:]\n",
    "print u[::-1]\n",
    "print\n",
    "u2 = u'한글과 세종대왕' \n",
    "print u2[0]\n",
    "print u2[1]\n",
    "print u2[:3]\n",
    "print u2[4:]\n",
    "print u2[::-1]\n",
    "print \n",
    "u3 = '한글과 세종대왕'\n",
    "print u3[0]\n",
    "print u3[1]\n",
    "print u3[:3]\n",
    "print u3[4:]\n",
    "print u3[::-1]\n",
    "print"
   ]
  },
  {
   "cell_type": "code",
   "execution_count": null,
   "metadata": {
    "collapsed": true
   },
   "outputs": [],
   "source": []
  }
 ],
 "metadata": {
  "kernelspec": {
   "display_name": "Python 2",
   "language": "python",
   "name": "python2"
  },
  "language_info": {
   "codemirror_mode": {
    "name": "ipython",
    "version": 2
   },
   "file_extension": ".py",
   "mimetype": "text/x-python",
   "name": "python",
   "nbconvert_exporter": "python",
   "pygments_lexer": "ipython2",
   "version": "2.7.9"
  }
 },
 "nbformat": 4,
 "nbformat_minor": 0
}
