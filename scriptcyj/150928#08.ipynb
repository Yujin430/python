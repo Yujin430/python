{
 "cells": [
  {
   "cell_type": "markdown",
   "metadata": {},
   "source": [
    "#여기 매소드들 잘 외워두기!"
   ]
  },
  {
   "cell_type": "code",
   "execution_count": 3,
   "metadata": {
    "collapsed": false
   },
   "outputs": [
    {
     "name": "stdout",
     "output_type": "stream",
     "text": [
      "I LIKE PROGRAMMING.\n",
      "i like programming.\n",
      "i lIKE pROGRAMMING\n",
      "I like programming.\n",
      "I Like Programming.\n"
     ]
    }
   ],
   "source": [
    "s='i like programming.'\n",
    "print s.upper()\n",
    "print s.upper().lower()\n",
    "print 'I Like Programming'.swapcase()\n",
    "#대문자는 소문자로 소문자는 대문자로\n",
    "print s.capitalize()#첫 문자를 대문자로 변환\n",
    "print s.title()#각 단어의 첫 문자를 대문자로\n",
    "#s안에 있는건 직접 대입해서 바꿔주기 전에는 바뀌지 않아요~~\n",
    "#질문 이거는 왜 마침표가 생기고 안생기고...? 클리어!"
   ]
  },
  {
   "cell_type": "code",
   "execution_count": 4,
   "metadata": {
    "collapsed": false
   },
   "outputs": [
    {
     "name": "stdout",
     "output_type": "stream",
     "text": [
      "2\n",
      "\n",
      "2\n",
      "7\n",
      "7\n",
      "-1\n",
      "\n",
      "22\n",
      "-1\n"
     ]
    }
   ],
   "source": [
    "s='i like programming, i like swimming.'\n",
    "print s.count('like')#문자열의 출현 횟수\n",
    "print\n",
    "print s.find('like')#s안의 like문자의 인덱스 반환(오프셋 반환)\n",
    "print s.find('programming')#progrmming의 첫글자 위치를 반환\n",
    "print s.find('programmin')#programmin의 첫글자 위치를 반환\n",
    "print s.find('programii')#이건 없으니까 -1 반환됨\n",
    "print\n",
    "print s.find('like',3)#offset=3부터 like검색해서 첫글자의 위치를 반환\n",
    "print s.find('my')#이 단어도 없으니까 -1 반환"
   ]
  },
  {
   "cell_type": "code",
   "execution_count": 6,
   "metadata": {
    "collapsed": false
   },
   "outputs": [
    {
     "name": "stdout",
     "output_type": "stream",
     "text": [
      "True\n",
      "False\n",
      "\n",
      "True\n",
      "False\n",
      "True\n"
     ]
    }
   ],
   "source": [
    "s='i like programming, i like swimming.'\n",
    "print s.startswith('i like')\n",
    "#'i like'로 시작하는 문자열인지 판단, 대소문자 구별..\n",
    "print s.startswith('I like')\n",
    "print\n",
    "print s.endswith('swimming.')\n",
    "print s.endswith('swimming')\n",
    "print s.startswith('progr',7)\n",
    "#7번째 문자열이 'progr'로 시작하는 지 판단."
   ]
  },
  {
   "cell_type": "code",
   "execution_count": 1,
   "metadata": {
    "collapsed": false
   },
   "outputs": [
    {
     "name": "stdout",
     "output_type": "stream",
     "text": [
      "spam and ham\n",
      " spam and ham          \n",
      "spam and ham\n",
      "\n",
      " spam and ham\n",
      "spam and ham          \n",
      "abc\n",
      "abc\n",
      "   ><><abc\n",
      "abc<><><>   \n",
      " < > <abc\n",
      "n>b<f><abc\n"
     ]
    }
   ],
   "source": [
    "u = ' spam and ham          '\n",
    "print u.strip() # 좌우 공백을 제거하여 새로운 스트링 생성\n",
    "print u # 스트링은 변경불가능 \n",
    "#u=u.strip()\n",
    "#print u 변경 불가능 하다는게 정확히 무슨 의민지....?????\n",
    "y = u.strip() # strip()는 새로운 스트링을 생성함\n",
    "print y\n",
    "print\n",
    "\n",
    "print u.rstrip() # 오른쪽 공백 제거\n",
    "print u.lstrip() # 왼쪽 공백 제거   \n",
    "print '     abc '.strip()                            \n",
    "print '><><abc<><><>'.strip('<>') \n",
    "# 인자로 주어진 스트링 안에 지정된 모든 문자를 좌우에서 제거\n",
    "#요기서는 공백이 제거가 안됨...근데 앞에 공백 넣으면 왜 나머지 안없..?\n",
    "print '   ><><abc<><><>'.strip('<>') \n",
    "print '><><abc<><><>   '.strip('<>') \n",
    "print '> < > <abc<><><>'.strip('<>') \n",
    "print 'n>b<f><abc<><><>'.strip('<>') "
   ]
  },
  {
   "cell_type": "code",
   "execution_count": 8,
   "metadata": {
    "collapsed": false
   },
   "outputs": [
    {
     "name": "stdout",
     "output_type": "stream",
     "text": [
      " \t abc \t \n",
      "abc\n"
     ]
    }
   ],
   "source": [
    "p = ' \\t abc \\t '\n",
    "print p\n",
    "print p.strip() # \\t도 공백문자이므로 제거됨"
   ]
  },
  {
   "cell_type": "code",
   "execution_count": 9,
   "metadata": {
    "collapsed": false
   },
   "outputs": [
    {
     "name": "stdout",
     "output_type": "stream",
     "text": [
      "spam, egg and ham\n",
      "spam and ham\n"
     ]
    }
   ],
   "source": [
    "u = 'spam and ham'\n",
    "print u.replace('spam', 'spam, egg') \n",
    "# replace()는 새로운 스트링을 생성함\n",
    "print u"
   ]
  },
  {
   "cell_type": "markdown",
   "metadata": {},
   "source": [
    "#공백을 기준으로 단어를 얻어옴! - 숙제 2 할때"
   ]
  },
  {
   "cell_type": "code",
   "execution_count": 10,
   "metadata": {
    "collapsed": false
   },
   "outputs": [
    {
     "name": "stdout",
     "output_type": "stream",
     "text": [
      "['spam', 'and', 'ham']\n",
      "[' spam ', ' ham     ']\n",
      "\n",
      "['spam', 'and', 'ham', 'egg', 'cheese']\n"
     ]
    }
   ],
   "source": [
    "u = ' spam and ham     '\n",
    "print u.split() \n",
    "# 공백으로 분리 (모든 공백 제거 및 문자열 내의 단어 리스트를 얻을 수 있음)\n",
    "print u.split('and') # 'and'로 분리\n",
    "print\n",
    "\n",
    "u2 = 'spam and ham\\tegg\\ncheese'\n",
    "print u2.split()"
   ]
  },
  {
   "cell_type": "code",
   "execution_count": 11,
   "metadata": {
    "collapsed": false
   },
   "outputs": [
    {
     "name": "stdout",
     "output_type": "stream",
     "text": [
      "['spam', 'ham', 'egg', 'cheese']\n",
      "\n",
      "<type 'str'>\n",
      "spam:ham:egg:cheese\n",
      "\n",
      "spam,ham,egg,cheese\n",
      "\n",
      "spam\n",
      "ham\n",
      "egg\n",
      "cheese\n",
      "\n"
     ]
    }
   ],
   "source": [
    "u = 'spam ham\\tegg\\ncheese'\n",
    "t = u.split() \n",
    "# 문자열 내의 단어 리스트    \n",
    "print t\n",
    "print\n",
    "t2 = ':'.join(t)\n",
    "# 리스트 t 내부의 각 원소들을 ':'로 연결한 문자열 반환\n",
    "print type(t2)\n",
    "print t2\n",
    "print\n",
    "t3 = \",\".join(t) \n",
    "# 리스트 t 내부의 각 원소들을 ','으로 연결한 문자열 반환\n",
    "print t3\n",
    "print\n",
    "t4 = '\\n'.join(t) \n",
    "# 리스트 t 내부의 각 원소들을 '\\n'으로 연결한 문자열 반환\n",
    "print t4\n",
    "print"
   ]
  },
  {
   "cell_type": "code",
   "execution_count": 12,
   "metadata": {
    "collapsed": false
   },
   "outputs": [
    {
     "name": "stdout",
     "output_type": "stream",
     "text": [
      "[u'\\uc2a4\\ud338', u'\\ud584', u'\\uacc4\\ub780', u'\\uce58\\uc988']\n",
      "스팸 햄 계란 치즈\n"
     ]
    }
   ],
   "source": [
    "u2 = u\"스팸 햄 계란 치즈\"\n",
    "#한글은 유니코드\n",
    "t2 = u2.split()\n",
    "print t2#이땐 유니코드가 출력됨\n",
    "print t2[0], t2[1], t2[2], t2[3]#유니코드해석해서한글로"
   ]
  },
  {
   "cell_type": "code",
   "execution_count": 18,
   "metadata": {
    "collapsed": false
   },
   "outputs": [
    {
     "name": "stdout",
     "output_type": "stream",
     "text": [
      "<type 'str'>\n",
      "<type 'list'>\n",
      "['first line', 'second line', 'third line']\n",
      "<type 'list'>\n",
      "['first line', 'second line', 'third line']\n"
     ]
    }
   ],
   "source": [
    "lines = '''first line\n",
    "second line\n",
    "third line'''#엔터 하나 더하면 그것도 따로 원소로 분류됨....\n",
    "print type(lines)\n",
    "lines2 = lines.splitlines() #얘는 무조건 기준이 \\n인 느낌\n",
    "#얘는 써도 되고 안써도 됨....\n",
    "lines3 = lines.split('\\n')\n",
    "# 문자열을 라인 단위로 분리한 각 원소들을 지닌 리스트 반환\n",
    "print type(lines2)\n",
    "print lines2\n",
    "print type(lines3)\n",
    "print lines3"
   ]
  },
  {
   "cell_type": "code",
   "execution_count": 19,
   "metadata": {
    "collapsed": false
   },
   "outputs": [
    {
     "name": "stdout",
     "output_type": "stream",
     "text": [
      "<type 'str'>\n",
      "                        spam and egg                        \n",
      "spam and egg                                                \n",
      "                                                spam and egg\n"
     ]
    }
   ],
   "source": [
    "u = 'spam and egg'\n",
    "c = u.center(60)\n",
    "# 60자리를 확보하되 기존 문자열을 가운데 정렬한 새로운 문자열 반환\n",
    "print type(c)\n",
    "print c\n",
    "print u.ljust(60) \n",
    "# 60자리를 확보하되 기존 문자열을 왼쪽 정렬한 새로운 문자열 반환\n",
    "print u.rjust(60) \n",
    "# 60자리를 확보하되 기존 문자열을 오른쪽 정렬한 새로운 문자열 반환"
   ]
  },
  {
   "cell_type": "code",
   "execution_count": 24,
   "metadata": {
    "collapsed": false
   },
   "outputs": [
    {
     "name": "stdout",
     "output_type": "stream",
     "text": [
      "------------------------spam and egg------------------------\n",
      "spam and egg------------------------------------------------\n",
      "------------------------------------------------spam and egg\n"
     ]
    }
   ],
   "source": [
    "u = 'spam and egg'#이게 홀수면 뒤에 공백이 1 더 큼.\n",
    "print u.center(60, '-') # 공백에 채워질 문자를 선택할 수 있음\n",
    "print u.ljust(60, '-')\n",
    "print u.rjust(60, '-')"
   ]
  },
  {
   "cell_type": "code",
   "execution_count": 35,
   "metadata": {
    "collapsed": false,
    "scrolled": false
   },
   "outputs": [
    {
     "name": "stdout",
     "output_type": "stream",
     "text": [
      "True\n",
      "True\n",
      "True\n",
      "True\n",
      "True\n",
      "True\n",
      "\r",
      "ab\r",
      "\r",
      "ab\n",
      "True\n"
     ]
    }
   ],
   "source": [
    "print '1234'.isdigit() \n",
    "# 문자열 내의 Character들이 모두 숫자인가?\n",
    "#is로 시작하는건 True아니면 False를 반환\n",
    "print 'abcd'.isalpha() \n",
    "# 문자열 내의 Character들이 모두 영문자인가?\n",
    "print '1abc234'.isalnum() \n",
    "# 문자열 내의 Character들이 모두 영문자 또는 숫자인가? \n",
    "print 'abc'.islower() \n",
    "# 문자열 내의 Character들이 모두 소문자인가?\n",
    "print 'ABC'.isupper() \n",
    "# 문자열 내의 Character들이 모두 대문자인가?\n",
    "print '\\t\\r\\n'.isspace() \n",
    "# 문자열 내의 Character들이 모두 공백 문자인가?\n",
    "#\\r이 무슨 공백문자인지 확인하기\n",
    "print 'This Is A Title'.istitle() \n",
    "# 문자열이 Title 형식 (각 단어의 첫글자가 대문자)인가?"
   ]
  },
  {
   "cell_type": "code",
   "execution_count": 37,
   "metadata": {
    "collapsed": false
   },
   "outputs": [
    {
     "name": "stdout",
     "output_type": "stream",
     "text": [
      "00123\n",
      "0goofy\n"
     ]
    }
   ],
   "source": [
    "s= '123'\n",
    "print s.zfill(5) #zerofill\n",
    "# 5글자 자리 확보뒤 문자열을 쓰되 남는 공백에는 zero (0)를 채움 \n",
    "print 'goofy'.zfill(6) \n",
    "# 6글자 자리 확보뒤 ..."
   ]
  },
  {
   "cell_type": "code",
   "execution_count": 38,
   "metadata": {
    "collapsed": false
   },
   "outputs": [
    {
     "name": "stdout",
     "output_type": "stream",
     "text": [
      "name = gslee, age = 24\n"
     ]
    }
   ],
   "source": [
    "print 'name = %s, age = %s' % ('gslee', '24')"
   ]
  },
  {
   "cell_type": "code",
   "execution_count": 39,
   "metadata": {
    "collapsed": false
   },
   "outputs": [
    {
     "name": "stdout",
     "output_type": "stream",
     "text": [
      "\n",
      "안녕하세요 홍길동님,\n",
      "\n",
      "오늘 밤 파티에 참석해 주실 수 있나요?\n",
      "\n",
      "그럼..\n",
      "\n",
      "이강성 드림\n",
      "\n",
      "\n",
      "안녕하세요 한학신님,\n",
      "\n",
      "오늘 밤 파티에 참석해 주실 수 있나요?\n",
      "\n",
      "그럼..\n",
      "\n",
      "이강성 드림\n",
      "----------------------------------------\n",
      "\n",
      "\n",
      "안녕하세요 정인숙님,\n",
      "\n",
      "오늘 밤 파티에 참석해 주실 수 있나요?\n",
      "\n",
      "그럼..\n",
      "\n",
      "이강성 드림\n",
      "----------------------------------------\n",
      "\n",
      "\n",
      "안녕하세요 박미경님,\n",
      "\n",
      "오늘 밤 파티에 참석해 주실 수 있나요?\n",
      "\n",
      "그럼..\n",
      "\n",
      "이강성 드림\n",
      "----------------------------------------\n",
      "\n"
     ]
    }
   ],
   "source": [
    "letter = '''\n",
    "안녕하세요 %s님,\n",
    "\n",
    "오늘 밤 파티에 참석해 주실 수 있나요?\n",
    "\n",
    "그럼..\n",
    "\n",
    "이강성 드림'''\n",
    "name = '홍길동'\n",
    "print letter % name\n",
    "#print letter % (name)\n",
    "#원래 튜플로 포맷팅하니까 위처럼 써도 되는데 원소 하나라 굳이...안해...\n",
    "print \n",
    "names = ['한학신', '정인숙', '박미경']\n",
    "for name in names:\n",
    "    print letter % name\n",
    "    print '-' * 40\n",
    "    print"
   ]
  },
  {
   "cell_type": "code",
   "execution_count": 4,
   "metadata": {
    "collapsed": false
   },
   "outputs": [
    {
     "name": "stdout",
     "output_type": "stream",
     "text": [
      "\n",
      "안녕하세요 6님,\n",
      "\n",
      "오늘 밤 파티에 참석해 주실 수 있나요?\n",
      "\n",
      "그럼..\n",
      "\n",
      "이강성 드림\n",
      "\n",
      "\n",
      "안녕하세요 6님,\n",
      "\n",
      "오늘 밤 파티에 참석해 주실 수 있나요?\n",
      "\n",
      "그럼..\n",
      "\n",
      "이강성 드림\n",
      "\n",
      "\n",
      "안녕하세요 '6'님,\n",
      "\n",
      "오늘 밤 파티에 참석해 주실 수 있나요?\n",
      "\n",
      "그럼..\n",
      "\n",
      "이강성 드림\n",
      "\n"
     ]
    }
   ],
   "source": [
    "letter = '''\n",
    "안녕하세요 %s님,\n",
    "\n",
    "오늘 밤 파티에 참석해 주실 수 있나요?\n",
    "\n",
    "그럼..\n",
    "\n",
    "이강성 드림'''\n",
    "name = '홍길동'\n",
    "print letter % 6\n",
    "#print letter % str(6) 내장함수 str이 호출 되는것같은느낌\n",
    "#str은 임의객체를 문자열로반환 \n",
    "#%r은 repr\n",
    "print \n",
    "letter = '''\n",
    "안녕하세요 %r님,\n",
    "\n",
    "오늘 밤 파티에 참석해 주실 수 있나요?\n",
    "\n",
    "그럼..\n",
    "\n",
    "이강성 드림'''\n",
    "name = '홍길동'\n",
    "print letter % 6\n",
    "#위아래 두개의 출력이 왜 다름?\n",
    "print \n",
    "letter = '''\n",
    "안녕하세요 %r님,\n",
    "\n",
    "오늘 밤 파티에 참석해 주실 수 있나요?\n",
    "\n",
    "그럼..\n",
    "\n",
    "이강성 드림'''\n",
    "name = '홍길동'\n",
    "print letter % repr(6)\n",
    "print "
   ]
  },
  {
   "cell_type": "code",
   "execution_count": 48,
   "metadata": {
    "collapsed": false
   },
   "outputs": [
    {
     "name": "stdout",
     "output_type": "stream",
     "text": [
      "(1, 2) -- [3, 4, 5] -- 5 -- 5.300000 -- 1.013000e+02\n"
     ]
    }
   ],
   "source": [
    "print \"%s -- %s -- %d -- %f -- %e\" % ((1, 2), [3,4,5], 5, 5.3, 101.3)\n",
    "#(1,2)를 str로 문자열화...[3,4,5]도..."
   ]
  },
  {
   "cell_type": "code",
   "execution_count": 49,
   "metadata": {
    "collapsed": false
   },
   "outputs": [
    {
     "name": "stdout",
     "output_type": "stream",
     "text": [
      "  5-- 5.36--1.01e+02\n"
     ]
    }
   ],
   "source": [
    "print \"%3d--%5.2f--%.2e\" % (5, 5.356, 101.3)"
   ]
  },
  {
   "cell_type": "code",
   "execution_count": 42,
   "metadata": {
    "collapsed": false
   },
   "outputs": [
    {
     "name": "stdout",
     "output_type": "stream",
     "text": [
      "456 -- 710 -- 1c8 -- 1C8\n"
     ]
    }
   ],
   "source": [
    "a = 456\n",
    "print '%d -- %o -- %x -- %X' % (a, a, a, a)\n",
    "#10진수,8진수,16진수(소문자,대문자)"
   ]
  },
  {
   "cell_type": "code",
   "execution_count": 43,
   "metadata": {
    "collapsed": false
   },
   "outputs": [
    {
     "name": "stdout",
     "output_type": "stream",
     "text": [
      "홍길동 -- 5284\n",
      "홍길동 -- 5284\n",
      "홍길동 -- 5284\n"
     ]
    }
   ],
   "source": [
    "print '%(이름)s -- %(전화번호)s' %{'이름':'홍길동', '전화번호':5284}\n",
    "print '%(이름)s -- %(전화번호)s' %{'전화번호':5284, '이름':'홍길동'}\n",
    "print '%(이름)s -- %(전화번호)s' %{'전화번호':5284, '이름':'홍길동', '주소':'Seoul'}"
   ]
  },
  {
   "cell_type": "code",
   "execution_count": 2,
   "metadata": {
    "collapsed": false
   },
   "outputs": [
    {
     "name": "stdout",
     "output_type": "stream",
     "text": [
      "['1', '2', '3', '4', '5']\n"
     ]
    }
   ],
   "source": [
    "s = \"1, 2   , 3,   4,  5  \"\n",
    "parts = s.split(\",\")\n",
    "l = []\n",
    "for i in range(len(parts)):\n",
    "    parts[i] = parts[i].strip()\n",
    "    l.append(parts[i])\n",
    "print l"
   ]
  },
  {
   "cell_type": "code",
   "execution_count": 63,
   "metadata": {
    "collapsed": false
   },
   "outputs": [
    {
     "name": "stdout",
     "output_type": "stream",
     "text": [
      "['1', ' 2   ', ' 3', '   4', '  5  ']\n"
     ]
    },
    {
     "ename": "AttributeError",
     "evalue": "'list' object has no attribute 'strip'",
     "output_type": "error",
     "traceback": [
      "\u001b[1;31m---------------------------------------------------------------------------\u001b[0m",
      "\u001b[1;31mAttributeError\u001b[0m                            Traceback (most recent call last)",
      "\u001b[1;32m<ipython-input-63-dd8562d53924>\u001b[0m in \u001b[0;36m<module>\u001b[1;34m()\u001b[0m\n\u001b[0;32m      2\u001b[0m \u001b[0ma\u001b[0m\u001b[1;33m=\u001b[0m\u001b[0ms\u001b[0m\u001b[1;33m.\u001b[0m\u001b[0msplit\u001b[0m\u001b[1;33m(\u001b[0m\u001b[1;34m','\u001b[0m\u001b[1;33m)\u001b[0m\u001b[1;33m\u001b[0m\u001b[0m\n\u001b[0;32m      3\u001b[0m \u001b[1;32mprint\u001b[0m \u001b[0ma\u001b[0m\u001b[1;33m\u001b[0m\u001b[0m\n\u001b[1;32m----> 4\u001b[1;33m \u001b[0ml\u001b[0m\u001b[1;33m=\u001b[0m\u001b[0ma\u001b[0m\u001b[1;33m.\u001b[0m\u001b[0mstrip\u001b[0m\u001b[1;33m(\u001b[0m\u001b[1;33m)\u001b[0m\u001b[1;33m\u001b[0m\u001b[0m\n\u001b[0m\u001b[0;32m      5\u001b[0m \u001b[1;32mprint\u001b[0m \u001b[0ml\u001b[0m\u001b[1;33m\u001b[0m\u001b[0m\n",
      "\u001b[1;31mAttributeError\u001b[0m: 'list' object has no attribute 'strip'"
     ]
    }
   ],
   "source": [
    "s = '1, 2   , 3,   4,  5  '\n",
    "a=s.split(',')\n",
    "print a\n",
    "l=a.strip()\n",
    "print l"
   ]
  },
  {
   "cell_type": "code",
   "execution_count": null,
   "metadata": {
    "collapsed": true
   },
   "outputs": [],
   "source": []
  }
 ],
 "metadata": {
  "kernelspec": {
   "display_name": "Python 2",
   "language": "python",
   "name": "python2"
  },
  "language_info": {
   "codemirror_mode": {
    "name": "ipython",
    "version": 2
   },
   "file_extension": ".py",
   "mimetype": "text/x-python",
   "name": "python",
   "nbconvert_exporter": "python",
   "pygments_lexer": "ipython2",
   "version": "2.7.9"
  }
 },
 "nbformat": 4,
 "nbformat_minor": 0
}
