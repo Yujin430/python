{
 "cells": [
  {
   "cell_type": "code",
   "execution_count": 3,
   "metadata": {
    "collapsed": false
   },
   "outputs": [
    {
     "name": "stdout",
     "output_type": "stream",
     "text": [
      "8\n",
      "256\n",
      "256\n",
      "64\n"
     ]
    }
   ],
   "source": [
    "print 2**3\n",
    "print 2**2**3\n",
    "print 2**(2**3)\n",
    "print (2**2)**3"
   ]
  },
  {
   "cell_type": "code",
   "execution_count": 5,
   "metadata": {
    "collapsed": false
   },
   "outputs": [
    {
     "name": "stdout",
     "output_type": "stream",
     "text": [
      "1\n",
      "1\n",
      "-3\n"
     ]
    }
   ],
   "source": [
    "print 5%2\n",
    "print -5%2#-5를 2로 나누면 몫은 -3이고 나머지는 1\n",
    "#나머지는 나누는 수보다 작아야함 여기서는 0,1둘 중 하나\n",
    "print -5//2"
   ]
  },
  {
   "cell_type": "code",
   "execution_count": 9,
   "metadata": {
    "collapsed": false
   },
   "outputs": [
    {
     "name": "stdout",
     "output_type": "stream",
     "text": [
      "4\n",
      "4\n"
     ]
    }
   ],
   "source": [
    "print 5%2+3\n",
    "print 3+5%2"
   ]
  },
  {
   "cell_type": "code",
   "execution_count": 10,
   "metadata": {
    "collapsed": false
   },
   "outputs": [
    {
     "name": "stdout",
     "output_type": "stream",
     "text": [
      "8\n",
      "6.0\n",
      "2.5\n",
      "2\n"
     ]
    }
   ],
   "source": [
    "print 3+5\n",
    "print 3+3.0\n",
    "print 5/2.0\n",
    "print 5/2\n",
    "#파이썬에서 정수/정수 는 몫을 출력해준다 보면 됨"
   ]
  },
  {
   "cell_type": "code",
   "execution_count": 11,
   "metadata": {
    "collapsed": false
   },
   "outputs": [
    {
     "name": "stdout",
     "output_type": "stream",
     "text": [
      "1 2\n",
      "(1, 2)\n"
     ]
    }
   ],
   "source": [
    "a=5/3\n",
    "b=5%3\n",
    "print a,b\n",
    "print divmod(5,3)\n",
    "#python의 내장함수 중 하나, 몫과 나머지를 tuple형태로"
   ]
  },
  {
   "cell_type": "code",
   "execution_count": 12,
   "metadata": {
    "collapsed": false
   },
   "outputs": [
    {
     "name": "stdout",
     "output_type": "stream",
     "text": [
      "1\n",
      "1\n",
      "1.66666666667\n",
      "1.0\n"
     ]
    }
   ],
   "source": [
    "print 5/3 #정수정수 연산의 경우 소수점 이하를 버리는 것\n",
    "print 5//3 # 반면에 이것은 몫을 구해서 출력, %의 정반대 연산\n",
    "print 5/3.0\n",
    "print 5//3.0"
   ]
  },
  {
   "cell_type": "code",
   "execution_count": 14,
   "metadata": {
    "collapsed": false
   },
   "outputs": [
    {
     "name": "stdout",
     "output_type": "stream",
     "text": [
      "1\n",
      "-2\n",
      "-1\n"
     ]
    }
   ],
   "source": [
    "print 7/4\n",
    "# 정확히는 소수점 이하를 버린다기 보다는 작은 정수를 찾는거임\n",
    "print -7/4 #-는 단항연산자\n",
    "#-의 경우에는 -1.6666666보다 더 작은 정수를 찾음 = -2\n",
    "print -(7/4)"
   ]
  },
  {
   "cell_type": "code",
   "execution_count": 15,
   "metadata": {
    "collapsed": false
   },
   "outputs": [
    {
     "name": "stdout",
     "output_type": "stream",
     "text": [
      "14\n",
      "20\n"
     ]
    }
   ],
   "source": [
    "print 2+3*4\n",
    "print (2+3)*4"
   ]
  },
  {
   "cell_type": "code",
   "execution_count": 16,
   "metadata": {
    "collapsed": false
   },
   "outputs": [
    {
     "name": "stdout",
     "output_type": "stream",
     "text": [
      "4\n"
     ]
    }
   ],
   "source": [
    "print 4/2*2"
   ]
  },
  {
   "cell_type": "code",
   "execution_count": 19,
   "metadata": {
    "collapsed": false
   },
   "outputs": [
    {
     "name": "stdout",
     "output_type": "stream",
     "text": [
      "False\n",
      "True\n",
      "False\n",
      "True\n",
      "True\n"
     ]
    }
   ],
   "source": [
    "print 6==9\n",
    "print 6!=9\n",
    "print 1>3\n",
    "print 4<=5\n",
    "\n",
    "a=6\n",
    "b=18\n",
    "print a<b"
   ]
  },
  {
   "cell_type": "code",
   "execution_count": 3,
   "metadata": {
    "collapsed": false
   },
   "outputs": [
    {
     "name": "stdout",
     "output_type": "stream",
     "text": [
      "True\n",
      "True\n",
      "\n",
      "True\n",
      "<type 'bool'>\n",
      "<type 'int'>\n",
      "True\n"
     ]
    }
   ],
   "source": [
    "a=5\n",
    "b=10\n",
    "print 0<a<b\n",
    "#파이썬은 두개의 관계연산자를 동시에 사용 가능\n",
    "print 0<a and a<b\n",
    "#return 되는 True도 숫자처럼 리터럴임. 일종의 예약어\n",
    "\n",
    "print\n",
    "print 0<a\n",
    "#0하고 에이랑 비교했을 때 트루니까 트루를 비와 비교\n",
    "print type(True)\n",
    "print type(b)\n",
    "#타입이 다르면 파이썬에서 총일시켜서 비교함\n",
    "int(True)#True를 인트타입으로 바꿔라 ->이거를 안해줘도 되는건지?\n",
    "\n",
    "print True<b #결국 True는 1로 인식됨\n"
   ]
  },
  {
   "cell_type": "code",
   "execution_count": 23,
   "metadata": {
    "collapsed": false
   },
   "outputs": [
    {
     "name": "stdout",
     "output_type": "stream",
     "text": [
      "False\n",
      "True\n",
      "False\n",
      "True\n"
     ]
    }
   ],
   "source": [
    "print 'abcd'>'abd' \n",
    "#사전순서가 앞에있으면 크기가 작은거...\n",
    "print (1,2,4)<(2,1,0)\n",
    "print[1,3,2]==[1,2,3]\n",
    "print(1,2,4)==(1,2,4)#내용이 동일하므로 true"
   ]
  },
  {
   "cell_type": "code",
   "execution_count": 24,
   "metadata": {
    "collapsed": false
   },
   "outputs": [
    {
     "name": "stdout",
     "output_type": "stream",
     "text": [
      "True\n",
      "True\n"
     ]
    }
   ],
   "source": [
    "#서로 다른 자료형간의 크기 관계\n",
    "#숫자<사전<리스트<문자열<튜플\n",
    "print 999999999999999999999999999999L<'abc'\n",
    "print {3:2}<[1,2,3]<(1,2,3)"
   ]
  },
  {
   "cell_type": "code",
   "execution_count": 25,
   "metadata": {
    "collapsed": false
   },
   "outputs": [
    {
     "name": "stdout",
     "output_type": "stream",
     "text": [
      "[1, 2, 3, {1: 2}, [1, 2, 3], ['abc'], 'a', 'abc', 'z', (1, 2, 3)]\n"
     ]
    }
   ],
   "source": [
    "L=[1,2,3, 'abc','a','z',(1,2,3),[1,2,3],{1:2},['abc']]\n",
    "L.sort()\n",
    "print L"
   ]
  },
  {
   "cell_type": "code",
   "execution_count": 26,
   "metadata": {
    "collapsed": false
   },
   "outputs": [
    {
     "name": "stdout",
     "output_type": "stream",
     "text": [
      "True\n",
      "True\n",
      "False\n",
      "False\n",
      "True\n"
     ]
    }
   ],
   "source": [
    "x=[1,2,3]\n",
    "y=[1,2,3]\n",
    "z=y\n",
    "\n",
    "print x==y\n",
    "print x==z\n",
    "print x is y\n",
    "print x is z\n",
    "print y is z\n",
    "#==은 객체안의 내용을 비교, is는 식별자를 비교(같은객체인지를 비교)\n",
    "#식별자를 반환해주는 내장함수 id를 사용하면 id(y)값과 id(z)값은 같게 됨"
   ]
  },
  {
   "cell_type": "code",
   "execution_count": 5,
   "metadata": {
    "collapsed": false
   },
   "outputs": [
    {
     "name": "stdout",
     "output_type": "stream",
     "text": [
      "True\n",
      "True\n",
      "2\n"
     ]
    }
   ],
   "source": [
    "\"\"\"\n",
    "피연산자의 값으로 진리값인 True 또는 False을 취하여\n",
    "논리적인 계산을 수행하는 연산자\n",
    "\n",
    "논리 연산자 자체가 값을 반환하지는 않는다.(파이썬의 독창적인 부분)\n",
    "논리 연산을 따라 최종적으로 평가되어진 값이 반환된다.\n",
    "\"\"\"\n",
    "a=20\n",
    "b=30\n",
    "print a>10 and b<50\n",
    "\"\"\"\n",
    "위 계산의 출력으로 나오는 True는 and가 반환한게 아니고\n",
    "앞에 관계연산자에 의한 반환값이 True니까 뒤에것에 대한 평가 들어가서\n",
    "뒤에도 True 나와가지구 True리턴된거 \n",
    "즉, b<50이 리턴한 게 True로써 출력된것임\n",
    "\"\"\"\n",
    "a=20\n",
    "b=30\n",
    "print a>10 or b<50\n",
    "\n",
    "\"\"\"\n",
    "이 or 연산자는 evaluate를 하지도 않음. 앞에 리턴값이 출력되고 걍 끝남\n",
    "\"\"\"\n",
    "\n",
    "\n",
    "#교수님 예\n",
    "print 1 and 2 #2가 나온다!!!!!!\n",
    "\n",
    "#if 뒤에는 조건 문이아니라 조건 식!!!!!!이 와야함... 1 and 2 같은거 "
   ]
  },
  {
   "cell_type": "code",
   "execution_count": 32,
   "metadata": {
    "collapsed": false
   },
   "outputs": [
    {
     "name": "stdout",
     "output_type": "stream",
     "text": [
      "2\n",
      "1\n",
      "12\n",
      "0\n"
     ]
    }
   ],
   "source": [
    "\"\"\"\n",
    "!!!!!!시험에 나올 수 있다!!!!!!\n",
    "\"\"\"\n",
    "\n",
    "\n",
    "#진리값에 해당하는 True와 False는 다른 사칙연산자를 만나면 True:1 False:0\n",
    "print True+1\n",
    "print False+1\n",
    "print True *12\n",
    "print False *12"
   ]
  },
  {
   "cell_type": "code",
   "execution_count": 33,
   "metadata": {
    "collapsed": false
   },
   "outputs": [
    {
     "name": "stdout",
     "output_type": "stream",
     "text": [
      "False\n",
      "True\n",
      "True\n",
      "True\n",
      "False\n",
      "True\n"
     ]
    }
   ],
   "source": [
    "#bool()내장함수는 하나 받는 객체를 판단하여 true또는 false로 반환\n",
    "print bool(0)#정수0은 거짓\n",
    "print bool(1)\n",
    "print bool(100)\n",
    "print bool(-100)\n",
    "print bool(0.0)#실수0.0은 거짓\n",
    "print bool(0.1)\n",
    "#대부분 True인데 False로 반환되는 객체가 존재함..."
   ]
  },
  {
   "cell_type": "code",
   "execution_count": 34,
   "metadata": {
    "collapsed": false
   },
   "outputs": [
    {
     "name": "stdout",
     "output_type": "stream",
     "text": [
      "True\n",
      "False\n",
      "False\n",
      "True\n",
      "False\n",
      "True\n",
      "False\n",
      "True\n",
      "False\n"
     ]
    }
   ],
   "source": [
    "#값이 없는 빈 객체나 None 객체는 False로 평가됨\n",
    "print bool('abc')\n",
    "print bool('')#비어있는 문자열은 거짓(공백조차 없는 문자열)\n",
    "print bool([])#공 리스트는 거짓\n",
    "print bool([1,2,3])\n",
    "print bool(())#공 튜플은 거짓 \n",
    "print bool((1,2,3))\n",
    "print bool({})#공 사전은 거짓\n",
    "print bool({1:2})\n",
    "print bool(None)#None 객체도 거짓"
   ]
  },
  {
   "cell_type": "code",
   "execution_count": 40,
   "metadata": {
    "collapsed": false
   },
   "outputs": [
    {
     "name": "stdout",
     "output_type": "stream",
     "text": [
      "1\n",
      "0\n",
      "0\n",
      "2\n",
      "1\n",
      "\n",
      "1\n",
      "()\n",
      "6\n",
      "6\n",
      "6\n",
      "[]\n"
     ]
    }
   ],
   "source": [
    "print 1 and 1\n",
    "print 1 and 0\n",
    "print 0 or 0 #앞에가 false면 뒤를 봐서 뒤도 false면 false...\n",
    "#이게 만약에 다른 수면 True로 인식돼었을 것임!!!!아래처럼!\n",
    "print 0 or 2\n",
    "print 1 or 0\n",
    "print\n",
    "print [] or 1 #[]거짓\n",
    "print [] or () #[],() 거짓\n",
    "print 6 or 3\n",
    "print 6 or []\n",
    "print 3 and 6\n",
    "print [] and 1 #[] 거짓이므로 1은 참조할 필요 없음"
   ]
  },
  {
   "cell_type": "code",
   "execution_count": 41,
   "metadata": {
    "collapsed": false
   },
   "outputs": [
    {
     "name": "stdout",
     "output_type": "stream",
     "text": [
      "2\n",
      "1\n",
      "\n",
      "[[]]\n",
      "[{}]\n",
      "1\n"
     ]
    }
   ],
   "source": [
    "print 1 and 2\n",
    "print 1 or 2\n",
    "print\n",
    "print [[]] or 1 #[[]] 참으로 간주\n",
    "#공리스트를 가진 공리스트. 바깥 리스트는 공리스트가 아님 그래서 True\n",
    "print [{}] or 1 #[{}] 참으로 간주\n",
    "print '' or 1 # 빈 문자열 ''은 거짓"
   ]
  },
  {
   "cell_type": "code",
   "execution_count": 42,
   "metadata": {
    "collapsed": false
   },
   "outputs": [
    {
     "name": "stdout",
     "output_type": "stream",
     "text": [
      "False\n",
      "False\n",
      "False\n"
     ]
    }
   ],
   "source": [
    "#뒤가 False면 True, True면 False로 바꾸어서 출력해줌\n",
    "print not(True)\n",
    "print not(1 and 2)\n",
    "#and앞이 true니까 뒤를 봐서 true네 그래서 true(값으로는2)가 리턴.\n",
    "#2는 true니까 not붙여서 False\n",
    "print not('' or 1)\n",
    "# 앞이 거짓이니까 or는 뒤를 봐야해 근데 true네 그래서 true반환(값으로는 1)\n",
    "#1은 true니까 not붙여서 False\n",
    "\n",
    "\"\"\"\n",
    "연산자 우선순위에 의존보다 적절한 괄호 활용이 필요\n",
    "\"\"\""
   ]
  },
  {
   "cell_type": "code",
   "execution_count": null,
   "metadata": {
    "collapsed": true
   },
   "outputs": [],
   "source": []
  }
 ],
 "metadata": {
  "kernelspec": {
   "display_name": "Python 2",
   "language": "python",
   "name": "python2"
  },
  "language_info": {
   "codemirror_mode": {
    "name": "ipython",
    "version": 2
   },
   "file_extension": ".py",
   "mimetype": "text/x-python",
   "name": "python",
   "nbconvert_exporter": "python",
   "pygments_lexer": "ipython2",
   "version": "2.7.9"
  }
 },
 "nbformat": 4,
 "nbformat_minor": 0
}
