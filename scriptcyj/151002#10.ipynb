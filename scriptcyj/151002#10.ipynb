{
 "cells": [
  {
   "cell_type": "code",
   "execution_count": 3,
   "metadata": {
    "collapsed": false
   },
   "outputs": [
    {
     "name": "stdout",
     "output_type": "stream",
     "text": [
      "None\n",
      "[1, 2, 3, 4, 5, 8, 9]\n"
     ]
    }
   ],
   "source": [
    "L=[1,5,3,9,8,4,2]\n",
    "print L.sort()\n",
    "#sort()자체는 반환 값이 없다!!!!!!리턴값을 반환하지 않고 L자체를 변경\n",
    "L.sort()#그냥 이렇게 씀~~~~~~\n",
    "#오름차순 정렬\n",
    "print L"
   ]
  },
  {
   "cell_type": "markdown",
   "metadata": {},
   "source": [
    "- 파이썬은 디폴트로 cmp(a,b)내장 함수를 이용하여 정렬 방식을 결정한다.\n",
    "- cmp(a,b)\n",
    "  - if a<b: return -1\n",
    "  - if a>b: return 1\n",
    "  - if a==b: return 0"
   ]
  },
  {
   "cell_type": "code",
   "execution_count": 4,
   "metadata": {
    "collapsed": false
   },
   "outputs": [
    {
     "name": "stdout",
     "output_type": "stream",
     "text": [
      "-1\n",
      "1\n",
      "0\n"
     ]
    }
   ],
   "source": [
    "print cmp(1,2)\n",
    "print cmp(5,2)\n",
    "print cmp('abc','abc')"
   ]
  },
  {
   "cell_type": "code",
   "execution_count": 5,
   "metadata": {
    "collapsed": false
   },
   "outputs": [
    {
     "name": "stdout",
     "output_type": "stream",
     "text": [
      "[6, 5, 4, 3, 2, 1]\n"
     ]
    }
   ],
   "source": [
    "def mycmp(a1, a2): # 대소관계에 따른 순서를 반대로 바꾸었음\n",
    "    return cmp(a2, a1)\n",
    "#이렇게 되면 a1>a2일때 -1이 리턴되고 a1<a2일때 1이 리턴됨.\n",
    "\n",
    "L = [1, 5, 3, 2, 4, 6]\n",
    "L.sort(mycmp) # 역순으로 정렬\n",
    "print L\n",
    "#sort의 인자로서 mycmp함수를 넣어주어 비교하는 함수로 활용"
   ]
  },
  {
   "cell_type": "code",
   "execution_count": 6,
   "metadata": {
    "collapsed": false
   },
   "outputs": [
    {
     "name": "stdout",
     "output_type": "stream",
     "text": [
      "sorted by name: [('jung', 10, 36), ('kim', 3, 28), ('lee', 5, 38)]\n",
      "sorted by experience: [('kim', 3, 28), ('lee', 5, 38), ('jung', 10, 36)]\n",
      "sorted by age: [('kim', 3, 28), ('jung', 10, 36), ('lee', 5, 38)]\n"
     ]
    }
   ],
   "source": [
    "def cmp_1(a1, a2):\n",
    "    return cmp(a1[1], a2[1])\n",
    "#cmp1은 a1과 a2의 두번째 원소\n",
    "def cmp_2(a1, a2):\n",
    "    return cmp(a1[2], a2[2])\n",
    "#cmp2은 a1과 a2의 세번째 원소\n",
    "#위 함수 두개는 특수한 상황들...리스트의 원소가 튜플인 경우!!!\n",
    "L = [ ('lee', 5, 38), ('kim', 3, 28), ('jung', 10, 36)]\n",
    "\n",
    "L.sort()#sort하면 각 튜플의 첫번째 원소를 바탕으로 비교\n",
    "print 'sorted by name:', L\n",
    "#문자열은 알파벳 순서로 정렬됨\n",
    "\n",
    "L.sort(cmp_1)#이거는 내가 정의한거에 따라서!! 두번째 원소로 비교\n",
    "print 'sorted by experience:', L\n",
    "\n",
    "L.sort(cmp_2)#이거는 내가 정의한거에 따라서!! 세번째 원소로 비교\n",
    "#세번째 원소를 cmp의 내장함수로 넣어줌\n",
    "print 'sorted by age:', L"
   ]
  },
  {
   "cell_type": "code",
   "execution_count": 11,
   "metadata": {
    "collapsed": false
   },
   "outputs": [
    {
     "name": "stdout",
     "output_type": "stream",
     "text": [
      "[9, 8, 6, 6, 3, 2, 1]\n",
      "[1, 2, 3, 6, 6, 8, 9]\n",
      "[1, 2, 3, 6, 6, 8, 9]\n",
      "[9, 8, 6, 6, 3, 2, 1]\n"
     ]
    }
   ],
   "source": [
    "L=[1,6,3,8,6,2,9]#임의로 정수가 들어간 리스트 L\n",
    "L.sort(reverse=True)\n",
    "#reverse 인자의 기본적 디폴트가 false -> 오름차순으로 정렬\n",
    "print L\n",
    "L.sort(reverse=False)\n",
    "print L\n",
    "L.sort()\n",
    "print L\n",
    "L.sort(reverse=True)\n",
    "print L"
   ]
  },
  {
   "cell_type": "code",
   "execution_count": 12,
   "metadata": {
    "collapsed": false
   },
   "outputs": [
    {
     "name": "stdout",
     "output_type": "stream",
     "text": [
      "['123', '2345', '34', '56']\n",
      "['34', '56', '123', '2345']\n"
     ]
    }
   ],
   "source": [
    "L=['123','34','56','2345']\n",
    "L.sort()#문자열을 가지고 정렬함...\n",
    "#문자로 생각하면 1이 가장 작은 문자(아스키 코드값이 가장 작으니까)\n",
    "print L\n",
    "L.sort(key=int)#이거두 함수임...int라는 내장함수를 key에 넣어줌\n",
    "#sort가 cmp함수 넣을 때, 각 인자마다 int한 결과를 cmp함수 인자로 넣음\n",
    "#이제 문자열이 아니라 각 숫자 형태로 비교가 들어가게 됨.\n",
    "#근데 비교하는 순간에만 정수로 바꿔서 비교하고 다시 문자열로 반환함!\n",
    "print L"
   ]
  },
  {
   "cell_type": "code",
   "execution_count": 13,
   "metadata": {
    "collapsed": false
   },
   "outputs": [
    {
     "name": "stdout",
     "output_type": "stream",
     "text": [
      "123\n",
      "<type 'int'>\n"
     ]
    }
   ],
   "source": [
    "a=int('123')\n",
    "#문자열을 정수로 바꿔주는 내장함수\n",
    "print a\n",
    "print type(a)"
   ]
  },
  {
   "cell_type": "code",
   "execution_count": 14,
   "metadata": {
    "collapsed": false
   },
   "outputs": [
    {
     "name": "stdout",
     "output_type": "stream",
     "text": [
      "[1, 2, 3, 6, 6, 8, 9]\n",
      "[1, 6, 3, 8, 6, 2, 9]\n"
     ]
    }
   ],
   "source": [
    "#sorted()내장함수.\n",
    "#L자체에는 내용 변경 없이 정렬이 되어진 새로운 리스트를 반환함\n",
    "L=[1,6,3,8,6,2,9]\n",
    "newList=sorted(L)\n",
    "#sorted함수의 인자에 L을 넣음->정렬된 리스트가 리턴됨\n",
    "print newList\n",
    "print L\n",
    "#그러나 실제L은 변화가 없음 원본이 유지됨!!!"
   ]
  },
  {
   "cell_type": "code",
   "execution_count": 16,
   "metadata": {
    "collapsed": false
   },
   "outputs": [
    {
     "name": "stdout",
     "output_type": "stream",
     "text": [
      "1 2 3 6 6 8 9\n"
     ]
    }
   ],
   "source": [
    "L=[1,6,3,8,6,2,9]\n",
    "for ele in sorted(L): #ele로 값이 나올때 정렬이 되어서 나옴!\n",
    "    print ele,"
   ]
  },
  {
   "cell_type": "code",
   "execution_count": 18,
   "metadata": {
    "collapsed": false
   },
   "outputs": [
    {
     "name": "stdout",
     "output_type": "stream",
     "text": [
      "[1, 5, 3, 2, 4, 6]\n",
      "[6, 5, 4, 3, 2, 1]\n",
      "[1, 5, 3, 2, 4, 6]\n"
     ]
    }
   ],
   "source": [
    "#sorted함수도 인자로 cmp함수를 줄 수 있음.\n",
    "def mycmp(a1, a2):      # 대소관계에 따른 순서를 반대로 바꾸었음\n",
    "    return cmp(a2, a1)\n",
    "\n",
    "L = [1, 5, 3, 2, 4, 6]\n",
    "print L\n",
    "print sorted(L, mycmp)  # 역순으로 정렬\n",
    "#첫번째 인자에는 정렬하고 싶은 리스트, 두번째 인자에는 함수를!\n",
    "print L #역시 기존의 L에는 변화가 없다!!"
   ]
  },
  {
   "cell_type": "code",
   "execution_count": 20,
   "metadata": {
    "collapsed": false
   },
   "outputs": [
    {
     "name": "stdout",
     "output_type": "stream",
     "text": [
      "[1, 2, 3, 6, 6, 8, 9]\n",
      "[1, 2, 3, 6, 6, 8, 9]\n",
      "[9, 8, 6, 6, 3, 2, 1]\n",
      "['34', '56', '123', '2345']\n"
     ]
    }
   ],
   "source": [
    "#sorted도 reverse와 key함수를 인자로 사용 가능\n",
    "L=[1,6,3,8,6,2,9]\n",
    "print sorted(L)\n",
    "print sorted(L,reverse=False)\n",
    "print sorted(L,reverse=True)#역순 정렬\n",
    "L=['123','34','56','2345']\n",
    "print sorted(L,key=int)#문자열을 정수로 바꿔 정렬\n",
    "#기존의 L은 변화가 없당!!"
   ]
  },
  {
   "cell_type": "code",
   "execution_count": 22,
   "metadata": {
    "collapsed": false
   },
   "outputs": [
    {
     "name": "stdout",
     "output_type": "stream",
     "text": [
      "None\n",
      "[1, 6, 3, 8, 6, 2, 9]\n"
     ]
    }
   ],
   "source": [
    "L=[1,6,3,8,6,2,9]\n",
    "print L.reverse()#그대로 뒤집혀서 거꾸로 바꿔줌, 반환되는것X, 정렬X\n",
    "L.reverse()#<-사실은 요런식으로 써줘야지..어차피 반환 X니까!\n",
    "print L"
   ]
  },
  {
   "cell_type": "code",
   "execution_count": 26,
   "metadata": {
    "collapsed": false
   },
   "outputs": [
    {
     "name": "stdout",
     "output_type": "stream",
     "text": [
      "11 4 8 10 5 8 3\n",
      "[1, 6, 3, 8, 6, 2, 9]\n"
     ]
    }
   ],
   "source": [
    "L = [1, 6, 3, 8, 6, 2, 9]\n",
    "L.reverse()       # 역순으로 뒤집는다.\n",
    "for ele in L:\n",
    "    print ele + 2,\n",
    "#1,6,3,8,6,2,9 를 뒤집은 각 값에 2를 더한 값 출력\n",
    "print\n",
    "L.reverse()\n",
    "#reverse 후에 다시 reverse를 해줘서 원상태로 복귀시킨다.\n",
    "print L"
   ]
  },
  {
   "cell_type": "code",
   "execution_count": 28,
   "metadata": {
    "collapsed": false
   },
   "outputs": [
    {
     "name": "stdout",
     "output_type": "stream",
     "text": [
      "[1, 6, 3, 8, 6, 2, 9]\n",
      "11 4 8 10 5 8 3\n",
      "[1, 6, 3, 8, 6, 2, 9]\n"
     ]
    }
   ],
   "source": [
    "#reversed는 내장함수!!! 원래 내용에는 변화 없음(마치 sorted처럼)\n",
    "L = [1, 6, 3, 8, 6, 2, 9]\n",
    "print L#원래 리스트 출력\n",
    "for ele in reversed(L):#L을 뒤집은 새로운 리스트를 반환함!\n",
    "    print ele + 2, \n",
    "    #새롭게 반환된 뒤집은 리스트에서 각 원소에 2를 더한 값을 출력\n",
    "print\n",
    "print L #기존의 L에는 변화 X"
   ]
  },
  {
   "cell_type": "markdown",
   "metadata": {},
   "source": [
    "#리스트 내포(List Comprehension)"
   ]
  },
  {
   "cell_type": "code",
   "execution_count": 29,
   "metadata": {
    "collapsed": false
   },
   "outputs": [
    {
     "name": "stdout",
     "output_type": "stream",
     "text": [
      "[0, 1, 4, 9, 16, 25, 36, 49, 64, 81]\n"
     ]
    }
   ],
   "source": [
    "#일반적인 리스트 생성법\n",
    "L=[]#내용이 하나도 없는 리스트\n",
    "for k in range(10):#range(10) = [0,1,2,3,4,5,6,7,8,9]\n",
    "    L.append(k*k)#0*0,1*1,2*2......\n",
    "print L"
   ]
  },
  {
   "cell_type": "code",
   "execution_count": 30,
   "metadata": {
    "collapsed": false
   },
   "outputs": [
    {
     "name": "stdout",
     "output_type": "stream",
     "text": [
      "[0, 1, 4, 9, 16, 25, 36, 49, 64, 81]\n"
     ]
    }
   ],
   "source": [
    "L=[]\n",
    "L=[k*k for k in range(10)]#이게 리스트 내포\n",
    "#리스트 내포 = 리스트 안에 실제 포함되어야 할 원소가 식으로 들어감\n",
    "#for의 변수가 식으로 들어간 변수와 동일해야함..\n",
    "#0,1,2,3...이 k에 할당될 때마다 식을 진행하여 리스트의 원소로 할당\n",
    "print L"
   ]
  },
  {
   "cell_type": "code",
   "execution_count": 32,
   "metadata": {
    "collapsed": false
   },
   "outputs": [
    {
     "name": "stdout",
     "output_type": "stream",
     "text": [
      "\n"
     ]
    }
   ],
   "source": [
    "\"\"\" 리스트 내포 리터럴\n",
    "\n",
    "[expression for expr1 in sequence1\n",
    "            for expr2 in sequence2             \n",
    "            ...            \n",
    "            for exprN in sequenceN            \n",
    "            if condition]\"\"\"\n",
    "\n",
    "#expression 은 k*k 또는 k%10 등등 -> 식\n",
    "#for문이 여러개 올 수 있음\n",
    "# expr1, expr2의 값들이 expression 안에 쓰임\n",
    "#if condition ->if 뒤에 있는 조건 충족 할때만 expression 변수 적용\n",
    "\"\"\"          \n",
    "- expression의 평가 결과 반드시 한 개의 원소가 나와야 한다.\n",
    "  - 틀린 예: [ x, y for x in seq1 for u in seq2 ]\n",
    "- 만약 두 개의 이상의 평가 결과가 나오면 '튜플' 등으로 감싸 주어야 한다.\n",
    "  - 올바른 예: [ (x, y) for x in seq1 for u in seq2 ]\n",
    "- 위 리터럴은 다음의 일반적인 for 문의 리털러과 동일\n",
    "\n",
    "l = []\n",
    "for expr1 in sequence1:\n",
    "  for expr2 in sequence2:\n",
    "    ...\n",
    "       for exprtN in sequenceN:\n",
    "          if condition:\n",
    "             l.append(expression) \"\"\"\n",
    "print"
   ]
  },
  {
   "cell_type": "code",
   "execution_count": 34,
   "metadata": {
    "collapsed": false
   },
   "outputs": [
    {
     "name": "stdout",
     "output_type": "stream",
     "text": [
      "[1, 9, 25, 49, 81]\n",
      "[1, 9, 25, 49, 81]\n"
     ]
    }
   ],
   "source": [
    "L=[k*k for k in range(10) if k%2]\n",
    "#조건이 지금 if(k%2)니까 \n",
    "# 짝수면 나머지 0 이니까 false되고 홀수면 나머지 1이니까 true\n",
    "print L\n",
    "\n",
    "#위의 코드와 아래의 코드는 같음!!!!!!\n",
    "\n",
    "L=[]\n",
    "for k in range(10):\n",
    "    if k%2:\n",
    "        L.append(k*k)\n",
    "print L"
   ]
  },
  {
   "cell_type": "code",
   "execution_count": 35,
   "metadata": {
    "collapsed": false
   },
   "outputs": [
    {
     "name": "stdout",
     "output_type": "stream",
     "text": [
      "[(2, 12, 24), (4, 3, 12), (6, 15, 90), (8, 6, 48), (10, 18, 180), (12, 9, 108), (16, 12, 192), (18, 3, 54)]\n"
     ]
    }
   ],
   "source": [
    "#20보다 작은 2의 배수와 3의 배수에 대해 그 두 수의 합이 7의 배수인 \n",
    "# 것들에 대해 그 두 수의 곱을 출력하는 코드\n",
    "L=[(i,j,i*j) for i in range(2,20,2) for j in range(3,20,3) \\\n",
    "  if (i+j)%7 == 0]\n",
    "#i는 20보다 작은 2의 배수, j는 20보다 작은 3의 배수가 들어가게 됨\n",
    "print L"
   ]
  },
  {
   "cell_type": "code",
   "execution_count": 36,
   "metadata": {
    "collapsed": false
   },
   "outputs": [
    {
     "name": "stdout",
     "output_type": "stream",
     "text": [
      "[('a', 1), ('a', 2), ('a', 3), ('b', 1), ('b', 2), ('b', 3), ('c', 1), ('c', 2), ('c', 3)]\n"
     ]
    }
   ],
   "source": [
    "#두개의 시퀀스 자료형에 대해 각각의 원소에 대한 쌍을 튜플 형태로 만들면서\n",
    "#리스트에 저장하는 코드\n",
    "seq1='abc'#문자열\n",
    "seq2=(1,2,3)#튜플\n",
    "print [(x,y)for x in seq1 for y in seq2]\n",
    "#첫번째 for문 seq1에서 x, 두번째 for문 seq2에서 y\n",
    "#x가 a인 경우, b인 경우, c인 경우 y는 1,2,3 반복 -> 9쌍"
   ]
  },
  {
   "cell_type": "code",
   "execution_count": 42,
   "metadata": {
    "collapsed": false
   },
   "outputs": [
    {
     "name": "stdout",
     "output_type": "stream",
     "text": [
      "['The', 'quick', 'brown', 'fox', 'jumps', 'over', 'the', 'lazy', 'dog']\n",
      "\n",
      "[['THE', 'the', 3], ['QUICK', 'quick', 5], ['BROWN', 'brown', 5], ['FOX', 'fox', 3], ['JUMPS', 'jumps', 5], ['OVER', 'over', 4], ['THE', 'the', 3], ['LAZY', 'lazy', 4], ['DOG', 'dog', 3]]\n",
      "\n",
      "['THE', 'the', 3]\n",
      "['QUICK', 'quick', 5]\n",
      "['BROWN', 'brown', 5]\n",
      "['FOX', 'fox', 3]\n",
      "['JUMPS', 'jumps', 5]\n",
      "['OVER', 'over', 4]\n",
      "['THE', 'the', 3]\n",
      "['LAZY', 'lazy', 4]\n",
      "['DOG', 'dog', 3]\n"
     ]
    }
   ],
   "source": [
    "words = 'The quick brown fox jumps over the lazy dog'.split()\n",
    "#split은 공백을 기준으로 문자열을 잘라서 리스트를 만드는거~\n",
    "print words\n",
    "stuff = [[w.upper(), w.lower(), len(w)] for w in words]\n",
    "#stuff는 리스트 내포 문법 형태\n",
    "#리스트 내포 안의 원소는 3개의 원소를 가진 리스트 형태로 하나임!\n",
    "print\n",
    "print stuff #중첩된 리스트 형태로 리스트가 만들어짐\n",
    "print\n",
    "for i in stuff:# i 자체가 리스트\n",
    "    print i"
   ]
  },
  {
   "cell_type": "code",
   "execution_count": 52,
   "metadata": {
    "collapsed": false
   },
   "outputs": [
    {
     "name": "stdout",
     "output_type": "stream",
     "text": [
      "[('a', 1, 4), ('a', 1, 5), ('a', 1, 6), ('a', 2, 4), ('a', 2, 5), ('a', 2, 6), ('a', 3, 4), ('a', 3, 5), ('a', 3, 6), ('b', 1, 4), ('b', 1, 5), ('b', 1, 6), ('b', 2, 4), ('b', 2, 5), ('b', 2, 6), ('b', 3, 4), ('b', 3, 5), ('b', 3, 6), ('c', 1, 4), ('c', 1, 5), ('c', 1, 6), ('c', 2, 4), ('c', 2, 5), ('c', 2, 6), ('c', 3, 4), ('c', 3, 5), ('c', 3, 6)]\n"
     ]
    }
   ],
   "source": [
    "seq1='abc'\n",
    "seq2=(1,2,3)\n",
    "seq3=[4,5,6]\n",
    "L=[(a,b,c) for a in seq1 for b in seq2 for c in seq3]\n",
    "print L\n",
    "\"\"\"\n",
    "모범답안\n",
    "seq1 = 'abc'\n",
    "seq2 = (1, 2, 3)\n",
    "seq3 = [4, 5, 6]\n",
    "l = [(x, y, z) for x in seq1 for y in seq2 for z in seq3]\n",
    "print l\n",
    "\"\"\""
   ]
  },
  {
   "cell_type": "code",
   "execution_count": 48,
   "metadata": {
    "collapsed": false
   },
   "outputs": [
    {
     "ename": "SyntaxError",
     "evalue": "invalid syntax (<ipython-input-48-bf18ac30c97a>, line 2)",
     "output_type": "error",
     "traceback": [
      "\u001b[1;36m  File \u001b[1;32m\"<ipython-input-48-bf18ac30c97a>\"\u001b[1;36m, line \u001b[1;32m2\u001b[0m\n\u001b[1;33m    L[a for a in seq1]\u001b[0m\n\u001b[1;37m          ^\u001b[0m\n\u001b[1;31mSyntaxError\u001b[0m\u001b[1;31m:\u001b[0m invalid syntax\n"
     ]
    }
   ],
   "source": [
    "seq1='abc'\n",
    "L[a for a in seq1]#이렇게 쓰면 안돼!!!ㅋㅋㅋㅋㅋㅋ\n",
    "print L"
   ]
  }
 ],
 "metadata": {
  "kernelspec": {
   "display_name": "Python 2",
   "language": "python",
   "name": "python2"
  },
  "language_info": {
   "codemirror_mode": {
    "name": "ipython",
    "version": 2
   },
   "file_extension": ".py",
   "mimetype": "text/x-python",
   "name": "python",
   "nbconvert_exporter": "python",
   "pygments_lexer": "ipython2",
   "version": "2.7.9"
  }
 },
 "nbformat": 4,
 "nbformat_minor": 0
}
