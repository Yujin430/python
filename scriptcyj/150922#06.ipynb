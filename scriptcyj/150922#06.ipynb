{
 "cells": [
  {
   "cell_type": "code",
   "execution_count": 1,
   "metadata": {
    "collapsed": true
   },
   "outputs": [],
   "source": [
    "a=1\n",
    "b=2\n",
    "if a<10:\n",
    "    c=1\n",
    "    d=10\n",
    "    e=20\n",
    "    if b>10:\n",
    "        f=10\n",
    "    g=10\n",
    "    t=200\n",
    "x=10\n",
    "\n",
    "#statement 총 4개 있는것과 같음 a=1, b=2, if문, x=10\n",
    "#큰 if문 안에는 문장이 6개와 같음\n",
    "#들여쓰기 강제화"
   ]
  },
  {
   "cell_type": "code",
   "execution_count": 2,
   "metadata": {
    "collapsed": false
   },
   "outputs": [
    {
     "name": "stdout",
     "output_type": "stream",
     "text": [
      "SHINHWA\n"
     ]
    }
   ],
   "source": [
    "score = 90;\n",
    "if score>=90:\n",
    "    print\"SHINHWA\""
   ]
  },
  {
   "cell_type": "code",
   "execution_count": 4,
   "metadata": {
    "collapsed": false
   },
   "outputs": [
    {
     "name": "stdout",
     "output_type": "stream",
     "text": [
      "Small\n"
     ]
    }
   ],
   "source": [
    "a=2\n",
    "if a>5:\n",
    "    print 'Big'\n",
    "else:\n",
    "    print 'Small'"
   ]
  },
  {
   "cell_type": "code",
   "execution_count": 5,
   "metadata": {
    "collapsed": false
   },
   "outputs": [
    {
     "name": "stdout",
     "output_type": "stream",
     "text": [
      "Negative\n"
     ]
    }
   ],
   "source": [
    "n=-2\n",
    "if n>0:\n",
    "    print'Positive'\n",
    "elif n<0:\n",
    "    print'Negative'\n",
    "else:\n",
    "    print 'Zero'\n",
    "    #한줄ㅇ 적어도 되는데 굳이 조건식하고 한줄에 적지는 말기..."
   ]
  },
  {
   "cell_type": "code",
   "execution_count": 8,
   "metadata": {
    "collapsed": false
   },
   "outputs": [
    {
     "name": "stdout",
     "output_type": "stream",
     "text": [
      "900\n"
     ]
    }
   ],
   "source": [
    "order='spagetti'\n",
    "if order=='spam':\n",
    "    price=500\n",
    "elif order=='ham':\n",
    "    price=700\n",
    "elif order=='egg':\n",
    "    price=300\n",
    "elif order=='spagetti':\n",
    "    price=900\n",
    "print price"
   ]
  },
  {
   "cell_type": "code",
   "execution_count": 9,
   "metadata": {
    "collapsed": false
   },
   "outputs": [
    {
     "name": "stdout",
     "output_type": "stream",
     "text": [
      "900\n"
     ]
    }
   ],
   "source": [
    "order='spagetti'\n",
    "menu={'spam':500,'ham':700,'egg':300,'spagetti':900}\n",
    "price=menu[order]\n",
    "print price"
   ]
  },
  {
   "cell_type": "code",
   "execution_count": 26,
   "metadata": {
    "collapsed": false
   },
   "outputs": [
    {
     "name": "stdout",
     "output_type": "stream",
     "text": [
      "3 cat\n",
      "3 cow\n",
      "5 tiger\n",
      "1\n",
      "2\n",
      "3\n",
      "[0, 1, 2, 3, 4, 5, 6, 7, 8, 9]\n",
      "0 1 2 3 4 5 6 7 8 9\n"
     ]
    }
   ],
   "source": [
    "\"\"\"\n",
    "for <타겟> in <컨테이너객체>\n",
    "\"\"\"\n",
    "a=['cat','cow','tiger']\n",
    "for x in a:\n",
    "    print len(x),x\n",
    "for x in [1,2,3]:\n",
    "    print x\n",
    "print range(10)\n",
    "for x in range(10):#range가 반환하는 것도 리스트니까 컨테이너객체임\n",
    "    print x,"
   ]
  },
  {
   "cell_type": "code",
   "execution_count": 14,
   "metadata": {
    "collapsed": false
   },
   "outputs": [
    {
     "name": "stdout",
     "output_type": "stream",
     "text": [
      "55\n"
     ]
    }
   ],
   "source": [
    "sum=0\n",
    "for x in range (1,11):\n",
    "    sum+=x\n",
    "    \n",
    "print sum"
   ]
  },
  {
   "cell_type": "code",
   "execution_count": 15,
   "metadata": {
    "collapsed": false
   },
   "outputs": [
    {
     "name": "stdout",
     "output_type": "stream",
     "text": [
      "3628800\n"
     ]
    }
   ],
   "source": [
    "prod=1\n",
    "for x in range(1,11):\n",
    "    prod*=x\n",
    "print prod"
   ]
  },
  {
   "cell_type": "code",
   "execution_count": 11,
   "metadata": {
    "collapsed": false
   },
   "outputs": [
    {
     "name": "stdout",
     "output_type": "stream",
     "text": [
      "0 cat\n",
      "1 dog\n",
      "2 bird\n",
      "3 pig\n",
      "<type 'enumerate'>\n",
      "(0, 'cat')\n",
      "(1, 'dog')\n",
      "(2, 'bird')\n",
      "(3, 'pig')\n"
     ]
    }
   ],
   "source": [
    "#enumerate()내장함수 \n",
    "# : 컨테이너 객체가 지닌 각 요소값뿐만아니라 인덱스값(key)도 함께반환\n",
    "\n",
    "l=['cat','dog','bird','pig']\n",
    "for k, animal in enumerate(l):\n",
    "    print k, animal\n",
    "\n",
    "#k는 현재 enumerate하고 있는 컨테이너 객체의 인덱스,\n",
    "#animal에는 실제 값이 들어감\n",
    "\n",
    "\"\"\"수업시간~~~~~~\"\"\"\n",
    "a=enumerate(l)\n",
    "print type(a)\n",
    "print a.next()\n",
    "print a.next()\n",
    "print a.next()\n",
    "print a.next()#위의 반복문에서는 계속 이렇게 넥스트가 호출되는 것임..."
   ]
  },
  {
   "cell_type": "code",
   "execution_count": 22,
   "metadata": {
    "collapsed": false
   },
   "outputs": [
    {
     "name": "stdout",
     "output_type": "stream",
     "text": [
      "0 p pig\n",
      "1 c cat\n",
      "2 b bird\n",
      "3 d dog\n"
     ]
    }
   ],
   "source": [
    "d={'c':'cat','d':'dog','b':'bird','p':'pig'}\n",
    "#사전 자체가 인덱스를 관리하지 않아 인덱스가 바로 나오지는 않는다\n",
    "for k, key in enumerate(d):#이 함수로는 키값만 나오고 밸류는 안나옴...\n",
    "    print k, key, d[key]\n",
    "# 0부터 시작하는 인덱스가 들어감.\n",
    "# key에는 하나의 문자로 이루어진 문자열이 들어감\n",
    "# d[key]에서 키워드 인덱싱이 들어가게 됨."
   ]
  },
  {
   "cell_type": "code",
   "execution_count": 23,
   "metadata": {
    "collapsed": false
   },
   "outputs": [
    {
     "name": "stdout",
     "output_type": "stream",
     "text": [
      "0\n",
      "1\n",
      "2\n",
      "3\n",
      "done\n"
     ]
    }
   ],
   "source": [
    "for x in range(10):\n",
    "    if x > 3: #x가 4가 되는 수간 반복 중지\n",
    "        break #현재 수행중인 for문 또는 while문의 반복을 허용하지 않음\n",
    "    print x\n",
    "    \n",
    "print 'done'"
   ]
  },
  {
   "cell_type": "code",
   "execution_count": 24,
   "metadata": {
    "collapsed": false
   },
   "outputs": [
    {
     "name": "stdout",
     "output_type": "stream",
     "text": [
      "8\n",
      "9\n",
      "done\n"
     ]
    }
   ],
   "source": [
    "for x in range(10):\n",
    "    if x < 8:\n",
    "        continue\n",
    "        #특정 조건이 만족되었을 때 continue하면서 하위코드를 무시.\n",
    "    print x\n",
    "    \n",
    "print 'done'"
   ]
  },
  {
   "cell_type": "code",
   "execution_count": 25,
   "metadata": {
    "collapsed": false
   },
   "outputs": [
    {
     "name": "stdout",
     "output_type": "stream",
     "text": [
      "0 1 2 3 4 5 6 7 8 9 else block\n",
      "done\n"
     ]
    }
   ],
   "source": [
    "#else: 루프가 break에 의한 중단 없이 \n",
    "#정상적으로 모두 수행되면 else 블록이 수행된다.\n",
    "\n",
    "for x in range(10):\n",
    "    print x,          \n",
    "    # 콤마(,) 때문에 줄이 바뀌지 않는다.(바로 옆에 프린트됨)\n",
    "else:\n",
    "    print 'else block'\n",
    "    #여기에는 콤마가 없어서 done은 아래블록에 프린트됨\n",
    "\n",
    "print 'done'"
   ]
  },
  {
   "cell_type": "code",
   "execution_count": 27,
   "metadata": {
    "collapsed": false
   },
   "outputs": [
    {
     "name": "stdout",
     "output_type": "stream",
     "text": [
      "done\n"
     ]
    }
   ],
   "source": [
    "for x in range(10):\n",
    "    break\n",
    "    print x,\n",
    "else:\n",
    "    print 'else block'\n",
    "    \n",
    "print 'done'\n",
    "#아무 조건 없는 break ->0부터 break걸려 프린트도 안돼고 else문도 무시..."
   ]
  },
  {
   "cell_type": "code",
   "execution_count": 28,
   "metadata": {
    "collapsed": false
   },
   "outputs": [
    {
     "name": "stdout",
     "output_type": "stream",
     "text": [
      "2 * 2 = 4\n",
      "2 * 3 = 6\n",
      "2 * 4 = 8\n",
      "2 * 5 = 10\n",
      "2 * 6 = 12\n",
      "2 * 7 = 14\n",
      "2 * 8 = 16\n",
      "2 * 9 = 18\n",
      "\n",
      "3 * 2 = 6\n",
      "3 * 3 = 9\n",
      "3 * 4 = 12\n",
      "3 * 5 = 15\n",
      "3 * 6 = 18\n",
      "3 * 7 = 21\n",
      "3 * 8 = 24\n",
      "3 * 9 = 27\n",
      "\n"
     ]
    }
   ],
   "source": [
    "for x in range(2, 4):\n",
    "    for y in range(2, 10):\n",
    "        print x, '*', y, '=', x*y\n",
    "    print"
   ]
  },
  {
   "cell_type": "code",
   "execution_count": 29,
   "metadata": {
    "collapsed": false
   },
   "outputs": [
    {
     "name": "stdout",
     "output_type": "stream",
     "text": [
      "1\n",
      "2\n",
      "3\n",
      "4\n",
      "5\n",
      "6\n",
      "7\n",
      "8\n",
      "9\n",
      "10\n"
     ]
    }
   ],
   "source": [
    "count = 1\n",
    "while count < 11:\n",
    "    print count\n",
    "    count = count + 1"
   ]
  },
  {
   "cell_type": "code",
   "execution_count": 30,
   "metadata": {
    "collapsed": false
   },
   "outputs": [
    {
     "name": "stdout",
     "output_type": "stream",
     "text": [
      "55\n"
     ]
    }
   ],
   "source": [
    "sum = 0\n",
    "a = 0\n",
    "while a < 10:\n",
    "    a = a + 1\n",
    "    sum = sum + a\n",
    "print sum"
   ]
  },
  {
   "cell_type": "code",
   "execution_count": 33,
   "metadata": {
    "collapsed": false
   },
   "outputs": [
    {
     "name": "stdout",
     "output_type": "stream",
     "text": [
      "0 1 2 3 4 5 6 7 8 9 else block\n",
      "done\n"
     ]
    }
   ],
   "source": [
    "x = 0\n",
    "while x < 10:\n",
    "    print x,          \n",
    "    # 콤마(,) 때문에 줄이 바뀌지 않는다.\n",
    "    x = x + 1\n",
    "    #if(x>10):\n",
    "    #    break 이게 있어도 어차피 break는 안됐으니까 else블록 실행됨\n",
    "else:\n",
    "    print 'else block'\n",
    "\n",
    "print 'done'"
   ]
  },
  {
   "cell_type": "code",
   "execution_count": 2,
   "metadata": {
    "collapsed": false
   },
   "outputs": [
    {
     "name": "stdout",
     "output_type": "stream",
     "text": [
      "7\n",
      "[1, 2, 3, 4, 5, 6]\n",
      "40\n"
     ]
    }
   ],
   "source": [
    "def add(a, b):\n",
    "    return a + b#파이썬은 동적으로 타입을 결정하니까 반환형을 안써!!!!!!\n",
    "\n",
    "print add(3, 4)\n",
    "#인자의 타입은 호출을 할 때 결정됨.\n",
    "print add([1,2,3], [4,5,6])\n",
    "c = add(10, 30) #c=40과 같은 코딩임\n",
    "print c"
   ]
  },
  {
   "cell_type": "code",
   "execution_count": 12,
   "metadata": {
    "collapsed": false
   },
   "outputs": [
    {
     "name": "stdout",
     "output_type": "stream",
     "text": [
      "9\n",
      "<function add at 0x000000000362E748>\n",
      "True\n",
      "56813384\n"
     ]
    }
   ],
   "source": [
    "def add(a, b):\n",
    "    return a + b\n",
    "\n",
    "f = add #add는 함수의 식별자(지금의 경우 함수식별자)\n",
    "#이 때,함수도 하나의 객체로 생각\n",
    "#결국 f와 add는 동일한 함수를 가리키는 식별자임\n",
    "print f(4, 5)\n",
    "\n",
    "print f\n",
    "#<식별자의 형, 실제 식별자 이름, 객체가 놓여져 있는 주소>\n",
    "\n",
    "print f is add\n",
    "#같은 객체(내용)와 같은 식별자인가?!\n",
    "\n",
    "\"\"\"\"\"\"\n",
    "print id(add) #add가 식별자가 되니.... 당연히 이것도 됨"
   ]
  },
  {
   "cell_type": "code",
   "execution_count": 4,
   "metadata": {
    "collapsed": false
   },
   "outputs": [
    {
     "name": "stdout",
     "output_type": "stream",
     "text": [
      "None\n"
     ]
    }
   ],
   "source": [
    "#함수의 몸체에는 적어도 한줄의 statement가 반드시 있어야 함\n",
    "def simple():\n",
    "    pass\n",
    "#아무 내용이 없는 몸체를 지닌 함수를 만들 때에는 pass를 몸체에 적어주어야함\n",
    "\n",
    "print simple()"
   ]
  },
  {
   "cell_type": "code",
   "execution_count": 5,
   "metadata": {
    "collapsed": false
   },
   "outputs": [
    {
     "name": "stdout",
     "output_type": "stream",
     "text": [
      "12\n"
     ]
    }
   ],
   "source": [
    "#함수에서 다른 함수를 호출할 수 있음\n",
    "def add(a, b):\n",
    "    return a + b\n",
    "\n",
    "def myabs(x):\n",
    "    if x < 0: \n",
    "        x = -x\n",
    "    return x\n",
    "\n",
    "def addabs(a, b):\n",
    "    c = add(a, b)\n",
    "    return myabs(c)\n",
    "\n",
    "print addabs(-5, -7)"
   ]
  },
  {
   "cell_type": "code",
   "execution_count": 6,
   "metadata": {
    "collapsed": false
   },
   "outputs": [
    {
     "name": "stdout",
     "output_type": "stream",
     "text": [
      "-8\n",
      "-8\n"
     ]
    }
   ],
   "source": [
    "#def 함수이름(=식별자) 인자\n",
    "def minus(a, b):\n",
    "    return a - b;\n",
    "print minus(12,20)\n",
    "print minus(a=12, b=20)\n",
    "#인자의 이름을 적어주면 반드시 a값 먼저 안적어줘도 괜찮음\n",
    "print minus(b=20, a=12)"
   ]
  },
  {
   "cell_type": "code",
   "execution_count": 7,
   "metadata": {
    "collapsed": false
   },
   "outputs": [
    {
     "name": "stdout",
     "output_type": "stream",
     "text": [
      "6\n",
      "15\n"
     ]
    }
   ],
   "source": [
    "def incr(x, y=1):#디폴트값의지정\n",
    "    return x + y\n",
    "\n",
    "print incr(5)\n",
    "#y에는 1이 자동으로......!\n",
    "print incr(5, 10)"
   ]
  },
  {
   "cell_type": "code",
   "execution_count": 8,
   "metadata": {
    "collapsed": false
   },
   "outputs": [
    {
     "name": "stdout",
     "output_type": "stream",
     "text": [
      "(12, 8, 20, 5)\n"
     ]
    }
   ],
   "source": [
    "def calc(x, y):\n",
    "    return x + y, x - y, x * y, x / y\n",
    "#인자는 2개인데 총 4개를 반환(4가지 값을 한꺼번에 반환)\n",
    "#여러개의 값이 콤마와 괄호로 묶인거 => 튜플\n",
    "#사실 이거는 여러 값을 가진 튜플 하나를 반환하는 것과 같음......\n",
    "print calc(10, 2)"
   ]
  },
  {
   "cell_type": "code",
   "execution_count": 9,
   "metadata": {
    "collapsed": false
   },
   "outputs": [
    {
     "name": "stdout",
     "output_type": "stream",
     "text": [
      "4.4\n",
      "dynamictyping\n",
      "['list', 'and', 'list']\n"
     ]
    }
   ],
   "source": [
    "\"\"\"\n",
    "파이썬에서는 모든 객체가 동적으로 그 타입이 결정됨\n",
    "함수 인자는 함수가 호출되는 순간 해당 인자에 전달되는 객체에 따라 그 타입결정\n",
    "함수 몸체 내에서 사용되는 여러 연산자들은 함수 호출시에 결정된\n",
    "객체 타입에 맞게 실행됨\n",
    "\"\"\"\n",
    "\n",
    "def add(a, b):\n",
    "    return a + b\n",
    "\n",
    "c = add(1, 3.4)#정수 + 실수 = 실수\n",
    "d = add('dynamic', 'typing')#문자열 + 문자열 = 문자열\n",
    "e = add(['list'], ['and', 'list'])#리스트 + 리스트 = 리스트\n",
    "print c\n",
    "print d\n",
    "print e"
   ]
  },
  {
   "cell_type": "code",
   "execution_count": 10,
   "metadata": {
    "collapsed": false
   },
   "outputs": [
    {
     "name": "stdout",
     "output_type": "stream",
     "text": [
      "55\n"
     ]
    }
   ],
   "source": [
    "# 함수 몸체에서 자기 자신을 호출하는 함수\n",
    "# 수학에서 점화식과 유사한 코드\n",
    "# 반드시 종결 조건 및 종결 조건이 만족할 때의 반환값이 있어야 함\n",
    "def sum(N):\n",
    "    if N == 1: # 종결 조건\n",
    "        return 1 # 종결 조건이 만족할 때의 반환 값\n",
    "    return N + sum(N-1)# 재귀 호출\n",
    "\n",
    "print sum(10)"
   ]
  },
  {
   "cell_type": "code",
   "execution_count": null,
   "metadata": {
    "collapsed": true
   },
   "outputs": [],
   "source": []
  }
 ],
 "metadata": {
  "kernelspec": {
   "display_name": "Python 2",
   "language": "python",
   "name": "python2"
  },
  "language_info": {
   "codemirror_mode": {
    "name": "ipython",
    "version": 2
   },
   "file_extension": ".py",
   "mimetype": "text/x-python",
   "name": "python",
   "nbconvert_exporter": "python",
   "pygments_lexer": "ipython2",
   "version": "2.7.9"
  }
 },
 "nbformat": 4,
 "nbformat_minor": 0
}
