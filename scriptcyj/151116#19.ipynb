{
 "cells": [
  {
   "cell_type": "markdown",
   "metadata": {},
   "source": [
    "- 파이썬 클래스는 새로운 이름 공간을 지원하는 또 다른 단위\n",
    "- 클래스 정의 구문\n",
    "  - class 클래스 이름: #헤더(Header)\n",
    "    - pass #몸체(Body)\n",
    "- 인스턴스: 클래스로 부터 만들어낸 객체\n",
    "- 모듈 vs. 클래스 vs. 인스턴스\n",
    "  - 모듈: 파일 단위로 이름 공간을 구성\n",
    "  - 클래스: 클래스 영역 내에 이름 공간을 구성\n",
    "  - 인스턴스: 인스턴스 영역 내에 이름 공간을 구성\n",
    "  \n",
    "- 각각의 클래스는 자료형 제공\n",
    "- 헤더는 앞부분에 대한 해설\n",
    "- pass는 정의한 클래스에 아무 내용도 없을 때 사용\n",
    "- 클래스 내용에 멤버, 메소드 정의\n",
    "- 위에 콜론이 있으니 들여쓰기 해야 함.\n",
    "- 클래스가 공장, 붕어빵 틀이면 인스턴트는 공장물품, 붕어붕어빵\n",
    "- 모듈은 .py로 끝나는 단위"
   ]
  },
  {
   "cell_type": "code",
   "execution_count": 5,
   "metadata": {
    "collapsed": false
   },
   "outputs": [
    {
     "name": "stdout",
     "output_type": "stream",
     "text": [
      "1\n",
      "\n",
      "2\n",
      "\n",
      "['__doc__', '__module__', 'a', 'b']\n",
      "['__doc__', '__module__', 'a']\n",
      "__main__\n"
     ]
    }
   ],
   "source": [
    "class S1:\n",
    "    \"Class S1\"#이렇게 해주면 __doc__에 이게 할당됨\n",
    "    a = 1\n",
    "#a변수는 s1이름공간에 존재하는 변수\n",
    "print S1.a\n",
    "print\n",
    "\n",
    "S1.b = 2 \n",
    "#클래스 이름 공간에 새로운 이름의 생성\n",
    "print S1.b\n",
    "print\n",
    "\n",
    "print dir(S1) \n",
    "#S1에 포함된 이름들을 리스트로 반환\n",
    "#식별자가 가지고 오는 이름공간 안의 것들을 반환\n",
    "del S1.b \n",
    "#이름 공간 S1에서 b삭제\n",
    "print dir(S1)\n",
    "#__doc__ 문서문자열, __module__은 클래스가 정의되고 있는 모듈의 이름\n",
    "#위 두개는 클래스 정의하면 항상 생기는 거\n",
    "\n",
    "print S1.__module__\n",
    "#이걸 다른곳에서 import한다면 그 파일 명으로 뜨게 될 것(ex: test.py)"
   ]
  },
  {
   "cell_type": "code",
   "execution_count": 6,
   "metadata": {
    "collapsed": false
   },
   "outputs": [
    {
     "name": "stdout",
     "output_type": "stream",
     "text": [
      "1\n",
      "10\n",
      "1\n"
     ]
    }
   ],
   "source": [
    "#인스턴스도 하나의 독립적인 공간!\n",
    "class S1:\n",
    "    a = 1\n",
    "\n",
    "x = S1()\n",
    "#생성자가 호출되면서 클래스의 인스턴스 생성, x는 S1의 클래스 인스턴스\n",
    "#클래스 뒤 함수 호출식 사용->클래스가 내부적 생성자 호출\n",
    "print x.a#붕어빵이 가지고 있는 a\n",
    "#실제로는 x가 a를 가지고 있는 것이 아니라 x안에 있는 클래스의 a를 호출\n",
    "#객체를 통해 클래스에 접근해서 a를 호출하게 된 것.\n",
    "\n",
    "x.a = 10#클래스 인스턴스 x의 이름 공간에 이름 생성\n",
    "#x가 독립적인 이름공간에 존재하기 때문에 그 이름공간에 a 삽입\n",
    "#S1클래스가 가지고 있는 a와 인스턴스 a는 다름\n",
    "print x.a\n",
    "\n",
    "print S1.a#클래스 이름 공간과 클래스 인스턴스의 이름공간은 다름."
   ]
  },
  {
   "cell_type": "code",
   "execution_count": 8,
   "metadata": {
    "collapsed": false
   },
   "outputs": [
    {
     "name": "stdout",
     "output_type": "stream",
     "text": [
      "1\n",
      "10\n",
      "1\n",
      "\n",
      "\n",
      "300\n",
      "10\n",
      "1\n"
     ]
    }
   ],
   "source": [
    "class S1:\n",
    "    a=1\n",
    "    \n",
    "x = S1() # x는 S1의 클래스 인스턴스\n",
    "print x.a\n",
    "\n",
    "x.a = 10 # 클래스 인스턴스 x의 이름 공간에 이름 생성\n",
    "print x.a\n",
    "\n",
    "print S1.a # 클래스 이름 공간과 클래스 인스턴스의 이름공간은 다르다\n",
    "print\n",
    "print\n",
    "y = S1()#S1 클래스의 또 다른 인스턴스 생성\n",
    "#생성자 호출\n",
    "\n",
    "y.a = 300#클래스 인스턴스 y의 이름 공간에 이름 생성\n",
    "#y이름공간에 a삽입\n",
    "\n",
    "print y.a \n",
    "print x.a#x 인스턴스 공간의 이름 a 확인\n",
    "print S1.a#클래스 이름 공간의 a 확인\n",
    "\n",
    "#클래스 s1의 이름공간 인스턴스 소문자 x,y는 전부 별개의 공간"
   ]
  },
  {
   "cell_type": "code",
   "execution_count": 12,
   "metadata": {
    "collapsed": false
   },
   "outputs": [
    {
     "name": "stdout",
     "output_type": "stream",
     "text": [
      "[1, 2, 3]\n",
      "3\n",
      "2\n",
      "\n",
      "[1]\n"
     ]
    },
    {
     "ename": "AttributeError",
     "evalue": "Simple instance has no attribute 'stack'",
     "output_type": "error",
     "traceback": [
      "\u001b[1;31m---------------------------------------------------------------------------\u001b[0m",
      "\u001b[1;31mAttributeError\u001b[0m                            Traceback (most recent call last)",
      "\u001b[1;32m<ipython-input-12-5dfb115c2952>\u001b[0m in \u001b[0;36m<module>\u001b[1;34m()\u001b[0m\n\u001b[0;32m     17\u001b[0m \u001b[1;32mprint\u001b[0m\u001b[1;33m\u001b[0m\u001b[0m\n\u001b[0;32m     18\u001b[0m \u001b[1;32mprint\u001b[0m \u001b[0ms1\u001b[0m\u001b[1;33m.\u001b[0m\u001b[0mstack\u001b[0m\u001b[1;31m#최종 s1.stack값\u001b[0m\u001b[1;33m\u001b[0m\u001b[0m\n\u001b[1;32m---> 19\u001b[1;33m \u001b[1;32mprint\u001b[0m \u001b[0ms2\u001b[0m\u001b[1;33m.\u001b[0m\u001b[0mstack\u001b[0m\u001b[1;31m#s2에는 stack을 정의한 적이 없어서 에러\u001b[0m\u001b[1;33m\u001b[0m\u001b[0m\n\u001b[0m\u001b[0;32m     20\u001b[0m \u001b[1;32mdel\u001b[0m \u001b[0ms1\u001b[0m\u001b[1;33m.\u001b[0m\u001b[0mstack\u001b[0m  \u001b[1;31m# s1에서 stack삭제\u001b[0m\u001b[1;33m\u001b[0m\u001b[0m\n",
      "\u001b[1;31mAttributeError\u001b[0m: Simple instance has no attribute 'stack'"
     ]
    }
   ],
   "source": [
    "class Simple:\n",
    "    pass#바디쪽 내용이 없음\n",
    "\n",
    "s1 = Simple()\n",
    "s2 = Simple()\n",
    "\n",
    "s1.stack = []#리스트\n",
    "#동적으로 클래스 인스턴스 이름 공간 안에 새로운 변수(이름) stack 생성\n",
    "s1.stack.append(1)#값 추가\n",
    "#s1이 스택을 가지고있고 스택이 가지고 있는 메소드 append호출\n",
    "s1.stack.append(2)\n",
    "s1.stack.append(3)\n",
    "\n",
    "print s1.stack \n",
    "print s1.stack.pop()#현재 존재하는 리스트에서 마지막에 있는 값을 꺼냄\n",
    "print s1.stack.pop()\n",
    "print\n",
    "print s1.stack#최종 s1.stack값\n",
    "print s2.stack#s2에는 stack을 정의한 적이 없어서 에러\n",
    "del s1.stack  # s1에서 stack삭제"
   ]
  },
  {
   "cell_type": "markdown",
   "metadata": {},
   "source": [
    "##메소드의 정의와 호출\n",
    "\n",
    "- 클래스 내부에 메소드 선언 - def 키워드 사용\n",
    "  - 일반 함수와 다른 점은 첫번째 인수로 self 사용 (self라는 이름은 관례적)\n",
    "    - self: 인스턴스 객체 자신의 레퍼런스를 지니고 있음\n",
    "    - 각 인스턴스들은 self를 이용하여 자신의 이름 공간에 접근"
   ]
  },
  {
   "cell_type": "code",
   "execution_count": 16,
   "metadata": {
    "collapsed": false
   },
   "outputs": [
    {
     "name": "stdout",
     "output_type": "stream",
     "text": [
      "egg\n",
      "egg\n",
      "egg\n",
      "egg\n"
     ]
    }
   ],
   "source": [
    "class MyClass:#클래스 안에 존재하는 함수들 -> 클래스의 메소드\n",
    "    def set(self, v):\n",
    "        #클래스의 메소드는 첫번째 인자에 self넣음->인스턴스에 불려짐\n",
    "        #첫번째 인자에 self가 들어간것은 '인스턴스 메소드'\n",
    "        self.value = v\n",
    "    def get(self):\n",
    "        return self.value\n",
    "    \n",
    "c = MyClass()#인스턴스 생성 \n",
    "c.set('egg')#인스턴스 c의 메소드 set 호출(set은 인스턴스 메소드)\n",
    "#C객체의 레퍼런스는 self로 카피됨(c가 self가 됨), egg는 v에 들어감\n",
    "#c인스턴스가 value를 가지게 됨\n",
    "print c.get()#메소드 get 호출\n",
    "#c가 self에 할당됨 \n",
    "print c.value#인스턴스 변수에 직접 접근\n",
    "#c인스턴스의 이름공간에 생성된 value를 c이름공간에서 직접 호출\n",
    "\n",
    "\n",
    "#위의 코드와 같은 내용의 코드임\n",
    "c = MyClass()#인스턴스 생성 \n",
    "MyClass.set(c, 'egg')#self자리에는 인스턴스가 들어가야함\n",
    "print MyClass.get(c)\n",
    "#클래스 이름을 통해서 메소드 접근->직접 인스턴스의 이름을 삽입\n",
    "print c.value"
   ]
  },
  {
   "cell_type": "code",
   "execution_count": 17,
   "metadata": {
    "collapsed": false
   },
   "outputs": [
    {
     "ename": "TypeError",
     "evalue": "unbound method set() must be called with MyClass instance as first argument (got Simple instance instead)",
     "output_type": "error",
     "traceback": [
      "\u001b[1;31m---------------------------------------------------------------------------\u001b[0m",
      "\u001b[1;31mTypeError\u001b[0m                                 Traceback (most recent call last)",
      "\u001b[1;32m<ipython-input-17-955fd04cd0b4>\u001b[0m in \u001b[0;36m<module>\u001b[1;34m()\u001b[0m\n\u001b[0;32m     10\u001b[0m \u001b[0mc\u001b[0m \u001b[1;33m=\u001b[0m \u001b[0mMyClass\u001b[0m\u001b[1;33m(\u001b[0m\u001b[1;33m)\u001b[0m\u001b[1;33m\u001b[0m\u001b[0m\n\u001b[0;32m     11\u001b[0m \u001b[0ms\u001b[0m \u001b[1;33m=\u001b[0m \u001b[0mSimple\u001b[0m\u001b[1;33m(\u001b[0m\u001b[1;33m)\u001b[0m\u001b[1;33m\u001b[0m\u001b[0m\n\u001b[1;32m---> 12\u001b[1;33m \u001b[0mMyClass\u001b[0m\u001b[1;33m.\u001b[0m\u001b[0mset\u001b[0m\u001b[1;33m(\u001b[0m\u001b[0ms\u001b[0m\u001b[1;33m,\u001b[0m \u001b[1;34m'egg'\u001b[0m\u001b[1;33m)\u001b[0m\u001b[1;33m\u001b[0m\u001b[0m\n\u001b[0m\u001b[0;32m     13\u001b[0m \u001b[1;31m#다른 클래스의 인스턴스를 넣어주면 에러 발생\u001b[0m\u001b[1;33m\u001b[0m\u001b[1;33m\u001b[0m\u001b[0m\n",
      "\u001b[1;31mTypeError\u001b[0m: unbound method set() must be called with MyClass instance as first argument (got Simple instance instead)"
     ]
    }
   ],
   "source": [
    "class MyClass:\n",
    "    def set(self, v):\n",
    "        self.value = v\n",
    "    def get(self):\n",
    "        return self.value\n",
    "    \n",
    "class Simple:\n",
    "    pass\n",
    "\n",
    "c = MyClass()\n",
    "s = Simple()\n",
    "MyClass.set(s, 'egg')\n",
    "#다른 클래스의 인스턴스를 넣어주면 에러 발생\n",
    "#s는 simple클래스의 인스턴스라 에러가 발생하게 되었음......\n",
    "\n",
    "#c.set()에서 이순간의 set은 bound 메소드(특정 개체에 묶여있음)\n",
    "#MyClass.set()->클래스 이름 통한것은 unbound메소드"
   ]
  },
  {
   "cell_type": "markdown",
   "metadata": {},
   "source": [
    "\n",
    "- 메소드 호출 종류\n",
    "  - Unbound method call: 클래스 객체를 이용한 메소드 호출\n",
    "    - 예: MyClass.set(c, 'egg')\n",
    "  - Bound method call: 인스턴스 객체를 통한 메소드 호출 (self 인자는 호출받은 객체가 자동으로 할당)\n",
    "    - 예: c.set('egg')"
   ]
  },
  {
   "cell_type": "code",
   "execution_count": 18,
   "metadata": {
    "collapsed": false
   },
   "outputs": [
    {
     "name": "stdout",
     "output_type": "stream",
     "text": [
      "1\n",
      "\n",
      "2\n"
     ]
    }
   ],
   "source": [
    "class MyClass:\n",
    "    def set(self, v):\n",
    "        self.value = v\n",
    "    def incr(self):\n",
    "        self.set(self.value + 1)#내부 메소드 호출\n",
    "        #incr메소드 내에서 다른메소드를 호출\n",
    "        #self가 가지고 있는 value값에 1을 더한것을 v에 넣음\n",
    "    def get(self):\n",
    "        return self.value\n",
    "    \n",
    "c = MyClass()\n",
    "c.set(1)\n",
    "print c.get()\n",
    "\n",
    "print\n",
    "\n",
    "c.incr()#increment의 약자\n",
    "#c 인스턴스가 self에 들어가서 self자리에는 c가 존재\n",
    "print c.get()"
   ]
  },
  {
   "cell_type": "code",
   "execution_count": 19,
   "metadata": {
    "collapsed": false
   },
   "outputs": [
    {
     "name": "stdout",
     "output_type": "stream",
     "text": [
      "1\n",
      "\n",
      "set function outside function -  2\n",
      "1\n"
     ]
    }
   ],
   "source": [
    "def set(i):\n",
    "    print \"set function outside function - \", i\n",
    "    \n",
    "class MyClass:\n",
    "    def set(self, v):\n",
    "        self.value = v\n",
    "    def incr(self):\n",
    "        set(self.value + 1)\n",
    "        #set앞에 self가 없으면 set함수를 class바깥에서 찾음\n",
    "        #정적 영역에 존재하는 set 메소드 호출\n",
    "    def get(self):\n",
    "        return self.value\n",
    "#메소드 내 다른 메소드, 인스턴스 호출시 반드시 self 사용!!!!!!\n",
    "c = MyClass()\n",
    "c.set(1)\n",
    "print c.get()\n",
    "\n",
    "print\n",
    "\n",
    "c.incr()\n",
    "print c.get()"
   ]
  },
  {
   "cell_type": "markdown",
   "metadata": {},
   "source": [
    "- 정적 메소드: 인스턴스 객체와 무관!!!!!!하게 클래스 이름 공간에 존재하는 메소드로서 클래스 이름을 이용하여 직접 호출할 수 있는 메소드\n",
    "  - [주의] 해당 클래스의 인스턴스를 통해서도 호출 가능\n",
    "- 장식자(Decorator) @staticmethod 활용\n",
    "\n",
    "\n",
    "- 첫번째 인자에 self 안씀!!!!!!\n",
    "- 인스턴스를 통해 호출은 가능하지만 인스턴스 이름공간에 작업하지 않고 클래스 이름공간의 변수를 조작"
   ]
  },
  {
   "cell_type": "code",
   "execution_count": 20,
   "metadata": {
    "collapsed": false
   },
   "outputs": [
    {
     "name": "stdout",
     "output_type": "stream",
     "text": [
      "static method 1 2\n",
      "\n",
      "static method 1 2\n"
     ]
    }
   ],
   "source": [
    "class D:\n",
    "    @staticmethod#staitc메소드\n",
    "    def spam(x, y):#self가 없음 인스턴스를 통해서 호출할게 아니니까!\n",
    "        print 'static method', x, y\n",
    "        \n",
    "D.spam(1,2)#인스턴스 객체 없이 클래스에서 직접 호출\n",
    "\n",
    "print\n",
    "d = D()\n",
    "d.spam(1,2)#인스턴스 객체를 통해서도 호출 가능\n",
    "#요거는 의미상으로 좋은 코딩은 아닌 부분ㅇㅇ"
   ]
  },
  {
   "cell_type": "markdown",
   "metadata": {},
   "source": [
    "- 클래스 메소드: 인스턴스 객체와 무관하게 클래스 이름 공간에 존재하는 메소드로서 클래스 이름을 이용하여 호출하며 첫 인수로 클래스 객체를 자동으로 받는 메소드\n",
    "  - [주의] 해당 클래스의 인스턴스를 통해서도 호출 가능\n",
    "- 장식자(Decorator) @classmethod 활용\n",
    "\n",
    "- 공통점 = 인스턴스 객체와 무관하게 클래스 이름공간에 존재\n",
    "- 공통점 2 = 클래스 이름을 통해서 호출\n",
    "- 클래스를 첫번째 인수로...."
   ]
  },
  {
   "cell_type": "code",
   "execution_count": 21,
   "metadata": {
    "collapsed": false
   },
   "outputs": [
    {
     "name": "stdout",
     "output_type": "stream",
     "text": [
      "__main__.C\n",
      "\n",
      "__main__.C -> 5\n",
      "\n",
      "__main__.C -> 5\n"
     ]
    }
   ],
   "source": [
    "class C:\n",
    "    @classmethod\n",
    "    def spam(cls, y):#cls는 자동으로 C클래스 삽입\n",
    "        print cls, '->', y\n",
    "    \n",
    "print C#C가 정의된 모듈명도 같이 출력됨\n",
    "\n",
    "print\n",
    "C.spam(5)#첫번째 인수로 C가 잠재적으로 전달된다.\n",
    "\n",
    "print\n",
    "c = C()\n",
    "c.spam(5)#인스턴스 객체를 통해서도 호출 가능."
   ]
  },
  {
   "cell_type": "code",
   "execution_count": 23,
   "metadata": {
    "collapsed": false
   },
   "outputs": [
    {
     "name": "stdout",
     "output_type": "stream",
     "text": [
      "__main__.D -> 3\n",
      "None\n",
      "__main__.D -> 3\n",
      "None\n"
     ]
    }
   ],
   "source": [
    "class C:\n",
    "    @classmethod\n",
    "    def spam(cls, y):#cls는 자동으로 C클래스 삽입\n",
    "        print cls, '->', y\n",
    "        \n",
    "        \n",
    "class D(C): #클래스 D가 괄호안에 담긴 C를 상속받음\n",
    "    #상속받으면 클래스 C가 가지고 있는 메소드 모두 활용 가능\n",
    "    pass\n",
    "\n",
    "print D.spam(3)#spam의 반환값이 없으니 이렇게 쓰면 None도 출력됨.\n",
    "#원래는 D.spam(3)처럼만 써주는게 맞징\n",
    "d = D()#인스턴스 통해서도 호출 가능\n",
    "print d.spam(3)"
   ]
  },
  {
   "cell_type": "markdown",
   "metadata": {},
   "source": [
    "- 클래스 멤버 vs. 인스턴스 멤버\n",
    "  - 클래스 멤버\n",
    "    - 클래스 이름 공간에 생성됨\n",
    "    - 모든 인스턴스들에 의해 공유됨\n",
    "  - 인스턴스 멤버\n",
    "    - 인스턴스 이름 공간에 생성됨\n",
    "    - 각각의 인스턴스 마다 독립성이 보장됨"
   ]
  },
  {
   "cell_type": "code",
   "execution_count": 24,
   "metadata": {
    "collapsed": false
   },
   "outputs": [
    {
     "name": "stdout",
     "output_type": "stream",
     "text": [
      "100\n",
      "100\n",
      "200\n",
      "\n"
     ]
    },
    {
     "ename": "AttributeError",
     "evalue": "Var instance has no attribute 'i_mem'",
     "output_type": "error",
     "traceback": [
      "\u001b[1;31m---------------------------------------------------------------------------\u001b[0m",
      "\u001b[1;31mAttributeError\u001b[0m                            Traceback (most recent call last)",
      "\u001b[1;32m<ipython-input-24-a25680686c03>\u001b[0m in \u001b[0;36m<module>\u001b[1;34m()\u001b[0m\n\u001b[0;32m     16\u001b[0m \u001b[1;32mprint\u001b[0m\u001b[1;33m\u001b[0m\u001b[0m\n\u001b[0;32m     17\u001b[0m \u001b[0mv2\u001b[0m \u001b[1;33m=\u001b[0m \u001b[0mVar\u001b[0m\u001b[1;33m(\u001b[0m\u001b[1;33m)\u001b[0m\u001b[1;31m#인스턴스 v2 생성\u001b[0m\u001b[1;33m\u001b[0m\u001b[0m\n\u001b[1;32m---> 18\u001b[1;33m \u001b[1;32mprint\u001b[0m \u001b[0mv2\u001b[0m\u001b[1;33m.\u001b[0m\u001b[0mi_mem\u001b[0m\u001b[1;33m\u001b[0m\u001b[0m\n\u001b[0m\u001b[0;32m     19\u001b[0m \u001b[1;31m#인스턴스 v2에는 아직 f() 호출이 안되어서 i_mem 멤버 없음\u001b[0m\u001b[1;33m\u001b[0m\u001b[1;33m\u001b[0m\u001b[0m\n\u001b[0;32m     20\u001b[0m \u001b[1;31m# ==> 생성자의 필요성\u001b[0m\u001b[1;33m\u001b[0m\u001b[1;33m\u001b[0m\u001b[0m\n",
      "\u001b[1;31mAttributeError\u001b[0m: Var instance has no attribute 'i_mem'"
     ]
    }
   ],
   "source": [
    "class Var:\n",
    "    c_mem = 100#클래스 멤버 정의\n",
    "    def f(self): \n",
    "        self.i_mem = 200#인스턴스 멤버 정의\n",
    "    def g(self):\n",
    "        print self.i_mem\n",
    "        print self.c_mem#요건클래스멤버.\n",
    "\n",
    "print Var.c_mem#클래스 객체를 통하여 클래스 멤버 접근\n",
    "\n",
    "v1 = Var()#인스턴스 v1 생성\n",
    "print v1.c_mem#인스턴스를 통하여 클래스 멤버 접근\n",
    "v1.f()#인스턴스 멤버 i_mem이 생성됨\n",
    "print v1.i_mem#인스턴스 v1을 통하여 인스턴스 멤버 접근\n",
    "\n",
    "print\n",
    "v2 = Var()#인스턴스 v2 생성\n",
    "print v2.i_mem\n",
    "#인스턴스 v2에는 아직 f()호출이 안되어서 i_mem 멤버 없음\n",
    "# ==> 생성자의 필요성"
   ]
  },
  {
   "cell_type": "markdown",
   "metadata": {},
   "source": [
    "- \"인스턴스 이름.멤버 이름\"으로 멤버를 참조할 때 멤버의 검색 순서\n",
    "  - 1) 인스턴스 멤버\n",
    "  - 2) 인스턴스가 없다면 클래스 멤버"
   ]
  },
  {
   "cell_type": "code",
   "execution_count": 26,
   "metadata": {
    "collapsed": false
   },
   "outputs": [
    {
     "name": "stdout",
     "output_type": "stream",
     "text": [
      "100\n",
      "100\n",
      "\n",
      "50\n",
      "100\n",
      "100\n"
     ]
    }
   ],
   "source": [
    "class Var:\n",
    "    c_mem = 100#클래스 멤버 정의\n",
    "    def f(self): \n",
    "        self.i_mem = 200#인스턴스 멤버 정의\n",
    "    def g(self):\n",
    "        print self.i_mem\n",
    "        print self.c_mem#요건클래스멤버.\n",
    "\n",
    "v1 = Var()\n",
    "v2 = Var()\n",
    "\n",
    "print v1.c_mem#인스턴스 v1을 통해 클래스 멤버 참조\n",
    "#근데 없어서 클래스로 올라감\n",
    "print v2.c_mem#인스턴스 v2를 통해 클래스 멤버 참조\n",
    "\n",
    "print\n",
    "v1.c_mem = 50#인스턴스 이름 공간에 c_mem생성\n",
    "print v1.c_mem#인스턴스 v1을 통해 인스턴스 멤버 참조\n",
    "#클래스 까지 올라가지 않음.\n",
    "print v2.c_mem#인스턴스 v2을 통해 클래스 멤버참조 (인스턴스 멤버가 없으므로, 클래스 멤버 참조)\n",
    "print Var.c_mem#클래스 멤버참조"
   ]
  },
  {
   "cell_type": "markdown",
   "metadata": {},
   "source": [
    "- \\__init__: 생성자 메소드(많이 정의되는 편)\n",
    "  - 객체가 생성될 때 자동으로 불리어지는 메소드\n",
    "  - self 인자가 정의되어야 함\n",
    "- \\__del__: 소멸자 메소드\n",
    "  - 객체가 소멸 (메모리에서 해제)될 때 자동으로 불리어지는 메소드\n",
    "  - self 인자가 정의되어야 함\n",
    "  - 개발자가 특별히 작성하지 않아도 될 메소드\n",
    "    - 이유: 파이썬에서는 메모리나 기타 자원들의 해제가 자동으로 되기 때문에\n",
    "- [참고] \\__ (연속된 두 개의 언더라인)의 의미: 예약된 이름\n",
    "\n",
    "\n",
    "- 다음 코드에 대한 설명\n",
    "  - mylife = Life() 로서 인스턴스 mylife가 생성되는 순간 \\__init__ 생성자 메소드 호출\n",
    "  - sleep(3)에 의해 3초간 sleep 상태\n",
    "  - 3초 이후 함수가 리턴됨 --> 로컬 변수가 메모리에서 해제됨 --> \\__del__ 소멸자 메소드 호출"
   ]
  },
  {
   "cell_type": "code",
   "execution_count": 31,
   "metadata": {
    "collapsed": false
   },
   "outputs": [
    {
     "name": "stdout",
     "output_type": "stream",
     "text": [
      "Birthday Mon Nov 16 07:51:09 2015\n",
      "Sleeping for 3 sec\n",
      "Deathday Mon Nov 16 07:51:12 2015\n"
     ]
    }
   ],
   "source": [
    "# _*_ coding:utf-8 _*_\n",
    "from time import ctime, sleep\n",
    "\n",
    "class Life:\n",
    "    def __init__(self):#생성자\n",
    "        #지금 만들고 있는 객체가 self에 들어감\n",
    "        self.birth = ctime()#현재시간에 대한 문자열을 얻는다.\n",
    "        #current time.\n",
    "        print 'Birthday', self.birth#현재 시간 출력\n",
    "    def __del__(self):#소멸자가 불려지는 코드가 명시적으로 존재 X\n",
    "        print 'Deathday', ctime()#소멸 시간 출력 \n",
    "        \n",
    "def test():\n",
    "    mylife = Life()#지금 만들고 있는 객체가 self에 들어감\n",
    "    #생성자에서 return self 필요 없음.\n",
    "    print 'Sleeping for 3 sec'\n",
    "    sleep(3)#3초간 sleep(block)상태에 있음 (CPU 점유 못함)\n",
    "    #여기서 함수가 끝나면 함수 안에 정의된 객체는 자동으로 없어짐.\n",
    "    #소멸되기 직전에 del이라는 함수가 수행되게 됨.\n",
    "\n",
    "test()\n",
    "\n",
    "#이걸 test함수가 아니라 main에서 실행되면, ctime을 찍을 환경이\n",
    "#구성되지 않아서 에러가 나게 됨.(이미 프로그램이 종료된 상태가 되어서.)\n",
    "#프로그램이 끝난것을 확인하기 전까지 계속 수행됨.\n",
    "\n",
    "#이거 질문!!!!!!"
   ]
  },
  {
   "cell_type": "markdown",
   "metadata": {},
   "source": [
    "- 인자를 받는 생성자 호출 가능\n",
    "- [참고] __str__: print 예약어나 str() 내장함수 호출에 대응되는 메소드"
   ]
  },
  {
   "cell_type": "code",
   "execution_count": 28,
   "metadata": {
    "collapsed": false
   },
   "outputs": [
    {
     "name": "stdout",
     "output_type": "stream",
     "text": [
      "10\n",
      "10\n"
     ]
    }
   ],
   "source": [
    "class Integer:\n",
    "    def __init__(self, i):#생성자 정의 시 인자를 self외에 하나 더.\n",
    "        self.i = i\n",
    "    def __str__(self):\n",
    "        return str(self.i)\n",
    "    #print i, 내장함수 str사용 시 str메소드 자동 호출\n",
    "\n",
    "i = Integer(10)\n",
    "print i#내부적으로는 str(i)인 것임.\n",
    "print str(i)"
   ]
  },
  {
   "cell_type": "code",
   "execution_count": 34,
   "metadata": {
    "collapsed": false
   },
   "outputs": [
    {
     "name": "stdout",
     "output_type": "stream",
     "text": [
      "10\n",
      "15\n",
      "5\n"
     ]
    }
   ],
   "source": [
    "class MyInteger:\n",
    "    def __init__(self, i):\n",
    "        self.i=10\n",
    "    def __str__(self):\n",
    "        return str(self.i)\n",
    "    def increment(self, x):\n",
    "        self.i = self.i + x\n",
    "        return self\n",
    "    def sub(self, x):\n",
    "        self.i = self.i - x\n",
    "        return self\n",
    "\n",
    "k=MyInteger(10)\n",
    "print k\n",
    "k=k.increment(5)\n",
    "print k\n",
    "k=k.sub(10)\n",
    "print k"
   ]
  },
  {
   "cell_type": "code",
   "execution_count": null,
   "metadata": {
    "collapsed": true
   },
   "outputs": [],
   "source": []
  }
 ],
 "metadata": {
  "kernelspec": {
   "display_name": "Python 2",
   "language": "python",
   "name": "python2"
  },
  "language_info": {
   "codemirror_mode": {
    "name": "ipython",
    "version": 2
   },
   "file_extension": ".py",
   "mimetype": "text/x-python",
   "name": "python",
   "nbconvert_exporter": "python",
   "pygments_lexer": "ipython2",
   "version": "2.7.9"
  }
 },
 "nbformat": 4,
 "nbformat_minor": 0
}
