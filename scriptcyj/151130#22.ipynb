{
 "cells": [
  {
   "cell_type": "markdown",
   "metadata": {},
   "source": [
    "약한 참조 - 레퍼런스 카운트로 고려되지 않는 참조\n",
    "객체는 식별자를 통해 객체를 reference하면 reference 카운트가 존재\n",
    "레퍼런스 카운터는 객체를 만들면 항상 증가\n",
    "but,약한 참조 사용 시 객체의 레퍼런스 카운트를 증가시키지 않음\n",
    "- 순환 참조가 방지됨(서로다른 객체들 사이에 참조 방식이 순환형태로 연결되는 방식, 독립적으로 존재하지만 순환 참조 되는 서로 다른 객체 그룹은 쓰레기 수집이 안됨)\n",
    "  - 순환참조 쓰레기 수집 기능이 있지만 CPU자원 낭비 심함, 쓰레기 수집 빈도가 낮으면 순환참조되는 많은 객체들이 메모리를 쓸 데 없이 점유함\n",
    "- 다양한 인스턴스들 사이에서 공유되는 객체에 대한 일종의 케시(Cache)를 만드는 데 활용됨"
   ]
  },
  {
   "cell_type": "markdown",
   "metadata": {},
   "source": [
    "####weakref.ref(o)\n",
    "- weakref 모듈의 ref(o) 함수\n",
    "\n",
    "  - 객체 o에 대한 약한 참조를 생성한다.\n",
    "  - 해당 객체가 메모리에 정상적으로 남아 있는지 조사한다.\n",
    "    - 객체가 메모리에 남아 있지 않으면 None을 반환한다.\n",
    "- 약한 참조로 부터 실제 객체를 참조하는 방법\n",
    "\n",
    "  - 약한 참조 객체에 함수형태 호출"
   ]
  },
  {
   "cell_type": "code",
   "execution_count": 5,
   "metadata": {
    "collapsed": false
   },
   "outputs": [
    {
     "name": "stdout",
     "output_type": "stream",
     "text": [
      "refcount - 2\n",
      "\n",
      "refcount - 3\n",
      "\n",
      "refcount - 3\n",
      "\n"
     ]
    }
   ],
   "source": [
    "import sys\n",
    "import weakref#weakref 모듈 임포트\n",
    "class C:\n",
    "    pass\n",
    "c = C()#클래스 C의 인스턴스 생성 \n",
    "c.a = 1#인스턴스 c에 테스트용 값 설정 \n",
    "print \"refcount -\", sys.getrefcount(c)\n",
    "#객체 c의 레퍼런스 카운트 조회\n",
    "#c라는 식별자가 실제 객체를 가리키는 레퍼런스의 카운트가 1\n",
    "#but 파이썬 내부적으로 보이지 않는 레퍼런스 존재\n",
    "# -> 레퍼런스 카운트가 1이 되면 c 객체는 사라짐\n",
    "#getrefcount()객체의 레퍼런스 카운트가 몇인지 알아보는 메소드\n",
    "#sys는 getrefcount를 위해 import\n",
    "#weakref 약한 참조를 만들 수 있는 모듈\n",
    "print\n",
    "\n",
    "d = c#일반적인 레퍼런스 카운트 증가 방법\n",
    "#c의 레퍼런스 값을 d에 카피해줌 -> d의 레퍼런스 카운트 증가\n",
    "print \"refcount -\", sys.getrefcount(c) \n",
    "#객체 c의 레퍼런스 카운트 조회\n",
    "print \n",
    "\n",
    "r = weakref.ref(c)#약한 참조 객체 r 생성\n",
    "print \"refcount -\", sys.getrefcount(c) \n",
    "#객체 c의 레퍼런스 카운트 조회 --> 카운트 불변\n",
    "print"
   ]
  },
  {
   "cell_type": "code",
   "execution_count": 6,
   "metadata": {
    "collapsed": false
   },
   "outputs": [
    {
     "name": "stdout",
     "output_type": "stream",
     "text": [
      "<weakref at 00000000039A4EA8; to 'instance' at 00000000039A7A88>\n",
      "<__main__.C instance at 0x00000000039A7A88>\n",
      "<__main__.C instance at 0x00000000039A7A88>\n",
      "1\n",
      "\n",
      "None\n"
     ]
    },
    {
     "ename": "AttributeError",
     "evalue": "'NoneType' object has no attribute 'a'",
     "output_type": "error",
     "traceback": [
      "\u001b[1;31m---------------------------------------------------------------------------\u001b[0m",
      "\u001b[1;31mAttributeError\u001b[0m                            Traceback (most recent call last)",
      "\u001b[1;32m<ipython-input-6-a09c14554bd7>\u001b[0m in \u001b[0;36m<module>\u001b[1;34m()\u001b[0m\n\u001b[0;32m     11\u001b[0m \u001b[1;32mdel\u001b[0m \u001b[0md\u001b[0m\u001b[1;33m\u001b[0m\u001b[0m\n\u001b[0;32m     12\u001b[0m \u001b[1;32mprint\u001b[0m \u001b[0mr\u001b[0m\u001b[1;33m(\u001b[0m\u001b[1;33m)\u001b[0m\u001b[1;31m#None을 리턴한다\u001b[0m\u001b[1;33m\u001b[0m\u001b[0m\n\u001b[1;32m---> 13\u001b[1;33m \u001b[1;32mprint\u001b[0m \u001b[0mr\u001b[0m\u001b[1;33m(\u001b[0m\u001b[1;33m)\u001b[0m\u001b[1;33m.\u001b[0m\u001b[0ma\u001b[0m\u001b[1;31m#속성도 참조할 수 없다\u001b[0m\u001b[1;33m\u001b[0m\u001b[0m\n\u001b[0m",
      "\u001b[1;31mAttributeError\u001b[0m: 'NoneType' object has no attribute 'a'"
     ]
    }
   ],
   "source": [
    "#만든 약한 참조의 활용\n",
    "print r#약한 참조(weakref) 객체\n",
    "print r()#실제 약한 참조가 참조하고 있는 객체를 반환\n",
    "#약한 참조로 부터 실제 객체를 참조하는 방법: \n",
    "# - >약한 참조 객체에 함수형태로 호출\n",
    "print c \n",
    "print r().a#약한 참조를 이용한 실제 객체 멤버 참조\n",
    "print \n",
    "\n",
    "del c#객체 제거\n",
    "del d\n",
    "#c와 d는 일반적인 레퍼런스 변수로 삭제하면 레퍼런스 카운트 감소\n",
    "print r()#None을 리턴한다\n",
    "#실제 약한 참조가 참조하고 있는 객체를 반환하는 건데 없어서 None\n",
    "print r().a#속성도 참조할 수 없다"
   ]
  },
  {
   "cell_type": "code",
   "execution_count": 9,
   "metadata": {
    "collapsed": false
   },
   "outputs": [
    {
     "ename": "TypeError",
     "evalue": "cannot create weak reference to 'dict' object",
     "output_type": "error",
     "traceback": [
      "\u001b[1;31m---------------------------------------------------------------------------\u001b[0m",
      "\u001b[1;31mTypeError\u001b[0m                                 Traceback (most recent call last)",
      "\u001b[1;32m<ipython-input-9-42581c0c8437>\u001b[0m in \u001b[0;36m<module>\u001b[1;34m()\u001b[0m\n\u001b[0;32m      2\u001b[0m \u001b[1;31m#약한 참조는 파이썬이 기본적으로 제공하는 내장자료형 객체에는 사용 불가\u001b[0m\u001b[1;33m\u001b[0m\u001b[1;33m\u001b[0m\u001b[0m\n\u001b[0;32m      3\u001b[0m \u001b[0md\u001b[0m \u001b[1;33m=\u001b[0m \u001b[1;33m{\u001b[0m\u001b[1;34m'one'\u001b[0m\u001b[1;33m:\u001b[0m \u001b[1;36m1\u001b[0m\u001b[1;33m,\u001b[0m \u001b[1;34m'two'\u001b[0m\u001b[1;33m:\u001b[0m \u001b[1;36m2\u001b[0m\u001b[1;33m}\u001b[0m\u001b[1;33m\u001b[0m\u001b[0m\n\u001b[1;32m----> 4\u001b[1;33m \u001b[0mwd\u001b[0m \u001b[1;33m=\u001b[0m \u001b[0mweakref\u001b[0m\u001b[1;33m.\u001b[0m\u001b[0mref\u001b[0m\u001b[1;33m(\u001b[0m\u001b[0md\u001b[0m\u001b[1;33m)\u001b[0m\u001b[1;33m\u001b[0m\u001b[0m\n\u001b[0m",
      "\u001b[1;31mTypeError\u001b[0m: cannot create weak reference to 'dict' object"
     ]
    }
   ],
   "source": [
    "import weakref\n",
    "#약한 참조는 파이썬이 기본적으로 제공하는 내장자료형 객체에는 사용 불가\n",
    "d = {'one': 1, 'two': 2}\n",
    "wd = weakref.ref(d)\n",
    "#사용자가 정의한 클래스의 인스턴스에만 약한 참조 사용 가능"
   ]
  },
  {
   "cell_type": "markdown",
   "metadata": {},
   "source": [
    "weakref.proxy(o) -> 활용도가 좀 더 높음\n",
    "- weakref의 proxy(o)는 객체 o에 대한 약한 참조 프록시를 생성한다.\n",
    "  - 프록시를 이용하면 함수 형식을 사용하지 않아도 실제 객체를 바로 참조할 수 있다.\n",
    "  - ref(o) 함수보다 더 선호되는 함수"
   ]
  },
  {
   "cell_type": "code",
   "execution_count": 10,
   "metadata": {
    "collapsed": false
   },
   "outputs": [
    {
     "name": "stdout",
     "output_type": "stream",
     "text": [
      "refcount - 2\n",
      "refcount - 2\n",
      "\n",
      "<__main__.C instance at 0x00000000039A7A88>\n",
      "<__main__.C instance at 0x00000000039A7A88>\n",
      "2\n"
     ]
    }
   ],
   "source": [
    "import sys\n",
    "import weakref\n",
    "class C:\n",
    "    pass\n",
    "\n",
    "c = C()\n",
    "c.a = 2\n",
    "print \"refcount -\", sys.getrefcount(c) \n",
    "#객체 c의 레퍼런스 카운트 조회\n",
    "p = weakref.proxy(c)#프록시 객체를 만든다->코딩량 줄이기 가능\n",
    "print \"refcount -\", sys.getrefcount(c)\n",
    "#객체 c의 레퍼런스 카운트 조회 --> 카운트 불변\n",
    "print \n",
    "print p#실제로 p가 가리키는 실제 객체 호출\n",
    "#근데 이게 왜 필요한지...\n",
    "print c\n",
    "print p.a\n",
    "#객체 c,p는 동일한 객체지만 p는 weakref->???어차피 차이 딱히 없지 않나..?"
   ]
  },
  {
   "cell_type": "code",
   "execution_count": 12,
   "metadata": {
    "collapsed": false
   },
   "outputs": [
    {
     "name": "stdout",
     "output_type": "stream",
     "text": [
      "2\n",
      "[<weakref at 0000000003A24868; to 'instance' at 0000000003A30C48>, <weakproxy at 0000000003A249F8 to instance at 0000000003A30C48>]\n"
     ]
    }
   ],
   "source": [
    "import weakref\n",
    "class C:\n",
    "    pass\n",
    "\n",
    "c = C() # 참조할 객체 생성\n",
    "r = weakref.ref(c) # weakref 생성\n",
    "p = weakref.proxy(c) # weakref 프록시 생성\n",
    "print weakref.getweakrefcount(c) # weakref 개수 조회 => 2\n",
    "#getweakrefcount() -> 약한 참조가 몇개 존재하는지 세는 함수\n",
    "print weakref.getweakrefs(c) # weakref 목록 조회\n",
    "#getweakrefs() -> 반환되는 리스트 안 원소가 약한 참조"
   ]
  },
  {
   "cell_type": "markdown",
   "metadata": {},
   "source": [
    "- 약한 사전 (Weak Dictionary)\n",
    "  - 사전의 키(key)나 값(value)으로 다른 객체들에 대한 약한 참조를 지니는 사전\n",
    "  - 주로 다른 객체들에 대한 캐시(Cache)로 활용\n",
    "  - 일반적인 사전과의 차이점\n",
    "    - 키(key)나 값(value)으로 사용되는 객체는 약한 참조를 지닌다.\n",
    "    - 실제 객체가 삭제되면 자동적으로 약한 사전에 있는 (키, 값)의 쌍도 삭제된다.!!!!!!(중요!!!!!!)\n",
    "    - 즉, 실제 객체가 사라지면 캐시역할을 하는 약한 사전에서도 해당 아이템이 제거되므로 효율적인 객체 소멸 관리가 가능하다.(효율적인 메모리 관리 가능)\n",
    "- weakref 모듈의 WeakValueDictionary 클래스\n",
    "  - weakref 모듈의 WeakValueDictionary 클래스의 생성자는 약한 사전을 생성한다."
   ]
  },
  {
   "cell_type": "code",
   "execution_count": 13,
   "metadata": {
    "collapsed": false
   },
   "outputs": [
    {
     "name": "stdout",
     "output_type": "stream",
     "text": [
      "<WeakValueDictionary at 61017160>\n",
      "[(1, <__main__.C instance at 0x0000000003A30CC8>)]\n",
      "4\n",
      "[]\n"
     ]
    }
   ],
   "source": [
    "import weakref\n",
    "class C:\n",
    "    pass\n",
    "\n",
    "c = C()\n",
    "c.a = 4\n",
    "d = weakref.WeakValueDictionary()\n",
    "#클래스로 클래스의 생성자를 호출하는 것.WeakValueDictionary는 클래스임\n",
    "#WeakValueDictionary라는 새로운 자료형의 객체를 d에 할당\n",
    "#WeakValueDictionary 객체 생성\n",
    "print d\n",
    "\n",
    "d[1] = c#실제 객체에 대한 약한 참조 아이템 생성\n",
    "#1이라는 key값의 value로 c를 넣을 수 있음\n",
    "print d.items()#사전 내용 확인\n",
    "#1이라는 키 값과 value...\n",
    "print d[1].a#실제 객체의 속성 참조\n",
    "#d[1]->사전의 검색 = c\n",
    "\n",
    "del c#실제 객체 삭제, 레버런스 카운트가 1로 줄음\n",
    "print d.items()#약한 사전에 해당 객체 아이템도 제거되어 있음\n",
    "\n",
    "#일반적인 사전의 경우 del c를 하더라도 객체가 삭제되지 않음\n",
    "#이유 : 사전 자체가 객체를 레퍼런스로 가지고 있음\n",
    "#but 약한 사전은 레퍼런스를 약한 참조로 가지고 있어서 삭제 가능!"
   ]
  },
  {
   "cell_type": "code",
   "execution_count": 14,
   "metadata": {
    "collapsed": false
   },
   "outputs": [
    {
     "name": "stdout",
     "output_type": "stream",
     "text": [
      "{}\n",
      "[(1, <__main__.C instance at 0x00000000039A7A88>)]\n",
      "4\n",
      "[(1, <__main__.C instance at 0x00000000039A7A88>)]\n"
     ]
    }
   ],
   "source": [
    "#위 내용을 일반 사전으로!\n",
    "class C:\n",
    "    pass\n",
    "\n",
    "c = C()\n",
    "c.a = 4\n",
    "d = {}#일반 사전 객체 생성\n",
    "print d\n",
    "\n",
    "d[1] = c#실제 객체에 대한 일반 참조 아이템 생성\n",
    "print d.items()#사전 내용 확인\n",
    "print d[1].a#실제 객체의 속성 참조\n",
    "\n",
    "del c#객체 삭제. 사전에 해당 객체의 레퍼런스가 있으므로,\n",
    "#객체는 실제로 메모리 해제되지 않음\n",
    "print d.items()#일반 사전에 해당 객체 아이템이 여전히 남아 있음\n",
    "\n",
    "#화살표를 안지우는 것으로 이해해도 되려나......"
   ]
  },
  {
   "cell_type": "markdown",
   "metadata": {
    "collapsed": true
   },
   "source": [
    "###반복자(Iterator)\n",
    "- 반복자 객체\n",
    "  - next()메소드를 지니고 있는 객체\n",
    "  - next()메소드로 더 이상 자료를 넘겨줄 수 없을 때 StopIteration 예외가 발생한다.\n",
    "- 반복자 객체 생성 방법\n",
    "  - iter(o) 내장함수\n",
    "    - 객체 o의 반복자 객체를 반환한다\n",
    "- 반복자 객체의 효율성\n",
    "  - 반복자가 원 객체의 원소들을 복사하여 지니고 있지 않다."
   ]
  },
  {
   "cell_type": "code",
   "execution_count": 1,
   "metadata": {
    "collapsed": false
   },
   "outputs": [
    {
     "name": "stdout",
     "output_type": "stream",
     "text": [
      "<listiterator object at 0x000000000376F7F0>\n",
      "1\n",
      "2\n",
      "3\n"
     ]
    },
    {
     "ename": "StopIteration",
     "evalue": "",
     "output_type": "error",
     "traceback": [
      "\u001b[1;31m---------------------------------------------------------------------------\u001b[0m",
      "\u001b[1;31mStopIteration\u001b[0m                             Traceback (most recent call last)",
      "\u001b[1;32m<ipython-input-1-98af67aeb8bc>\u001b[0m in \u001b[0;36m<module>\u001b[1;34m()\u001b[0m\n\u001b[0;32m      5\u001b[0m \u001b[1;32mprint\u001b[0m \u001b[0mI\u001b[0m\u001b[1;33m.\u001b[0m\u001b[0mnext\u001b[0m\u001b[1;33m(\u001b[0m\u001b[1;33m)\u001b[0m\u001b[1;33m\u001b[0m\u001b[0m\n\u001b[0;32m      6\u001b[0m \u001b[1;32mprint\u001b[0m \u001b[0mI\u001b[0m\u001b[1;33m.\u001b[0m\u001b[0mnext\u001b[0m\u001b[1;33m(\u001b[0m\u001b[1;33m)\u001b[0m\u001b[1;33m\u001b[0m\u001b[0m\n\u001b[1;32m----> 7\u001b[1;33m \u001b[1;32mprint\u001b[0m \u001b[0mI\u001b[0m\u001b[1;33m.\u001b[0m\u001b[0mnext\u001b[0m\u001b[1;33m(\u001b[0m\u001b[1;33m)\u001b[0m\u001b[1;33m\u001b[0m\u001b[0m\n\u001b[0m",
      "\u001b[1;31mStopIteration\u001b[0m: "
     ]
    }
   ],
   "source": [
    "I = iter([1,2,3])\n",
    "#iter()함수에서 반환되어지는 I가 반복자 객체\n",
    "print I\n",
    "#listiterartor객체 호출 첫번째 next()->1, 두번째 ->2, 세번째 ->3\n",
    "print I.next()\n",
    "print I.next()\n",
    "print I.next()\n",
    "print I.next()\n",
    "#마지막 I.next()는 가져올 수 있는 원소가 없어서 StopIteration 호출\n",
    "#I는 각 리스트의 원소를 뽑아낼 수 있는 기능만 있고 카피한 것은 아님\n",
    "#I자체가 1,2,3내용 자체를 카피해서 가지고 있는 것이 아님."
   ]
  },
  {
   "cell_type": "code",
   "execution_count": 3,
   "metadata": {
    "collapsed": false
   },
   "outputs": [
    {
     "name": "stdout",
     "output_type": "stream",
     "text": [
      "2\n",
      "3\n",
      "4\n"
     ]
    }
   ],
   "source": [
    "#리스트 객체에 대해 일반적인 for~in 반복문 사용 예\n",
    "def f(x):\n",
    "    print x+1\n",
    "for x in [1,2,3]:\n",
    "    f(x)"
   ]
  },
  {
   "cell_type": "code",
   "execution_count": 4,
   "metadata": {
    "collapsed": false
   },
   "outputs": [
    {
     "name": "stdout",
     "output_type": "stream",
     "text": [
      "2\n",
      "3\n",
      "4\n"
     ]
    }
   ],
   "source": [
    "#리스트 객체 반복자를 활용한 예\n",
    "def f(x):\n",
    "    print x + 1\n",
    "\n",
    "t = iter([1,2,3])#반복자 객체는 next()라는 메소드를 가짐\n",
    "while 1:\n",
    "    try:\n",
    "        x = t.next()#더이상 갈 수 없을 때에는 StopIteration발생\n",
    "    except StopIteration:\n",
    "        break\n",
    "    #예외가 발생하지 않으면 try, except내부 내용은 무시됨.\n",
    "    f(x)"
   ]
  },
  {
   "cell_type": "code",
   "execution_count": 7,
   "metadata": {
    "collapsed": false
   },
   "outputs": [
    {
     "name": "stdout",
     "output_type": "stream",
     "text": [
      "2\n",
      "3\n",
      "4\n",
      "\n",
      "2\n",
      "3\n",
      "4\n"
     ]
    }
   ],
   "source": [
    "def f(x):\n",
    "    print x + 1\n",
    "\n",
    "#반복자 객체를 for~in구문의 in 뒤에 바로 사용 가능\n",
    "t = iter([1,2,3])\n",
    "for x in t:#t가 가지고 있는 next()메소드도 자동으로 호출\n",
    "    f(x)\n",
    "    #for문이 돌 때 마다 반복자 객체의 next()함수가 자동으로 호출되어 \n",
    "    #순차적으로 각 객체에 접근 가능하다\n",
    "    #StopIteration이 발생하면 for~in구문이 멈춘다.\n",
    "print\n",
    "\n",
    "#반복자 객체를 정의하지 않고 바로 iter를 이용하여 직접 사용도 가능\n",
    "for x in iter([1,2,3]):\n",
    "    f(x)\n",
    "for x in iter((1,2,3)):#iter의 객체로 리스트가 아닌 튜플도 가능\n",
    "    f(x)\n",
    "\n",
    "#반복자는 이후에 발생자를 배우기 위해 배우는 것임"
   ]
  },
  {
   "cell_type": "markdown",
   "metadata": {},
   "source": [
    "##클래스에 반복자 구현하기\n",
    "- 내장 함수 iter(o)에 대응되는 \\_\\_iter\\_\\_(self)의 구현\n",
    "- 객체 o에 iter(o)를 호출하면 자동으로 \\_\\_iter\\_\\_(self) 함수 호출\n",
    "- \\_\\_iter\\_\\_(self) 함수는 next() 함수를 지닌 반복자 객체를 반환해야 한다."
   ]
  },
  {
   "cell_type": "code",
   "execution_count": 8,
   "metadata": {
    "collapsed": false
   },
   "outputs": [
    {
     "name": "stdout",
     "output_type": "stream",
     "text": [
      "abc\n",
      "def\n",
      "ghi\n",
      "<__main__.Seq instance at 0x0000000003ADEB88>\n",
      "['abc\\n', 'def\\n', 'ghi']\n",
      "('abc\\n', 'def\\n', 'ghi')\n"
     ]
    }
   ],
   "source": [
    "class Seq:\n",
    "    def __init__(self, fname):\n",
    "        self.file = open(fname)\n",
    "    #def __getitem__(self, n):\n",
    "    #    if n == 10:\n",
    "    #        raise StopIteration\n",
    "    #    return n\n",
    "    def __iter__(self):#iter 내장함수와 매칭\n",
    "        return self#iter 내장함수는 반복자 객체(자기자신)를 리턴\n",
    "    def next(self):#self가 바로 이 next를 가지고 있기 때문에\n",
    "        #자기 자신을 반환할 수 있는 것ㅇ\n",
    "        line = self.file.readline()#한 라인을 읽는다.\n",
    "        if not line: \n",
    "            raise StopIteration#읽을 수 없으면 예외 발생\n",
    "        return line#읽은 라인을 리턴한다.\n",
    "    \n",
    "s = Seq('readme.txt')#s 인스턴스가 next() 메소드를 지니고 있으므로,\n",
    "# s 인스턴스 자체가 반복자임 \n",
    "\n",
    "for line in s:#s객체는 사용자가 생성한 클래스의 객체\n",
    "    #so, s에는 반드시 __iter__이 존재해야 함->없으면 에러 발생\n",
    "    #for~in 구문에 s가 들어가면 iter 내장함수 호출 됨\n",
    "    #우선 __iter__() 메소드를 호출하여 반복자를 얻고, \n",
    "    #반복자에 대해서 for ~ in 구문에 의하여 next() 메소드가 호출됨\n",
    "    #(self의 next가......)\n",
    "    print line,\n",
    "\n",
    "#abc, 그 다음에 for in을 돌면서 readlines를 읽으면서 줄을 읽어오고,\n",
    "#반환된것이 line에 들어가서 실행 됨.\n",
    "print \n",
    "\n",
    "print Seq('readme.txt')\n",
    "\n",
    "print list(Seq('readme.txt')#객체를 만드는 곳\n",
    "#내장함수임과 동시에 리스트 클래스의생성자\n",
    "#list()내장 함수가 객체를 인수로 받으면 해당 객체의 반복자를 얻어와 \n",
    "#next()를 매번 호출하여 각 원소를 얻어온다. \n",
    "print tuple(Seq('readme.txt'))\n",
    "#tuple()내장 함수가 객체를 인수로 받으면 해당 객체의 반복자를 얻어와 \n",
    "#next()를 매번 호출하여 각 원소를 얻어온다. \n",
    "#tuple도 리스트와 마찬가지. iter라는 함수 호출하고 self를 받으니까\n",
    "#self의 next가 호출되면서......\n",
    "\n",
    "\n",
    "#일단은 iter를 불러준 뒤 반복자를 가져옴 -> next 메소드 호출\n",
    "#for x in (): 구문의 경우 반복자 객체 self로 리스트 내의 \n",
    "#내용을 받아와서 x에 담아감 "
   ]
  },
  {
   "cell_type": "code",
   "execution_count": 10,
   "metadata": {
    "collapsed": false
   },
   "outputs": [
    {
     "name": "stdout",
     "output_type": "stream",
     "text": [
      "four 4\n",
      "three 3\n",
      "five 5\n",
      "two 2\n",
      "one 1\n"
     ]
    }
   ],
   "source": [
    "d = {'one':1, 'two':2, 'three':3, 'four':4, 'five':5}\n",
    "for key in d#d에 대해서 먼저 iter 함수가 불림\n",
    "    print key, d[key]"
   ]
  },
  {
   "cell_type": "code",
   "execution_count": 12,
   "metadata": {
    "collapsed": false
   },
   "outputs": [
    {
     "name": "stdout",
     "output_type": "stream",
     "text": [
      "four 4\n",
      "three 3\n",
      "five 5\n",
      "two 2\n",
      "one 1\n"
     ]
    }
   ],
   "source": [
    "d = {'one':1, 'two':2, 'three':3, 'four':4, 'five':5}\n",
    "for key in iter(d):#실제로는 이것과 같이 iter가 불려지고 있는 것임\n",
    "    #iter가 불려져서 반복자를 가짐, 반복자는 next를 가짐\n",
    "    #next()->각각의 아이템의 key값만 돌려줌\n",
    "    print key, d[key]\n",
    "\n",
    "#for~in에 쓰여지는 객체는 반드시 반복자 객체를 가짐"
   ]
  },
  {
   "cell_type": "code",
   "execution_count": 16,
   "metadata": {
    "collapsed": false
   },
   "outputs": [
    {
     "name": "stdout",
     "output_type": "stream",
     "text": [
      "four three five two one\n"
     ]
    }
   ],
   "source": [
    "#iterkeys()는 key값만 가져옴\n",
    "for key in d.iterkeys():\n",
    "    #키에 대한 반복자, d.iterkeys() 가 반환한 반복자에 대해 next() 함수가 순차적으로 불리워짐\n",
    "    print key,\n",
    "    "
   ]
  },
  {
   "cell_type": "code",
   "execution_count": 15,
   "metadata": {
    "collapsed": false
   },
   "outputs": [
    {
     "name": "stdout",
     "output_type": "stream",
     "text": [
      "4 3 5 2 1\n",
      "four 4\n",
      "three 3\n",
      "five 5\n",
      "two 2\n",
      "one 1\n"
     ]
    }
   ],
   "source": [
    "#itervalues()->value값만 가져옴\n",
    "for value in d.itervalues():#값에 대한 반복자\n",
    "    print value, \n",
    "print\n",
    "for key, value in d.iteritems():#(키,값)에 대한 반복자\n",
    "    print key, value"
   ]
  },
  {
   "cell_type": "code",
   "execution_count": 17,
   "metadata": {
    "collapsed": false
   },
   "outputs": [
    {
     "name": "stdout",
     "output_type": "stream",
     "text": [
      "four\n",
      "three five two one\n"
     ]
    }
   ],
   "source": [
    "#T's\n",
    "d = {'one':1, 'two':2, 'three':3, 'four':4, 'five':5}\n",
    "keyset = d.iterkeys()#iterkeys()->key값만 가져와서 반복하는 반복자\n",
    "print keyset.next()#일단 next를 한번 부름\n",
    "#반복자 객체는 항상 next() 메소드를 지니고 있음\n",
    "for key in keyset:\n",
    "    #keyset 반복자에 대해 next() 메소드가 순차적으로 호출됨\n",
    "    print key,\n",
    "\n",
    "#처음의 four은 네번째의 next에서 찍히는 것\n",
    "#그 밑에 것들은 for문에서 찍히는 것임\n",
    "\n",
    "#next가 한 번 호출되면 반복자는 그 다음 next는 다음 원소 활용"
   ]
  },
  {
   "cell_type": "code",
   "execution_count": 18,
   "metadata": {
    "collapsed": false
   },
   "outputs": [
    {
     "name": "stdout",
     "output_type": "stream",
     "text": [
      "f.next() abc\n",
      "\n",
      "def\n",
      "ghi\n"
     ]
    }
   ],
   "source": [
    "#파일 객체는 그 자체가 반복자임\n",
    "#next()함수에 의해 각 라인이 순차적으로 읽혀짐\n",
    "f = open('readme.txt')\n",
    "print \"f.next()\", f.next()#readme의 abc가 찍힘\n",
    "#파일 객체 자체가 반복자 -> next를 가지고 있기 때문\n",
    "for line in f:#f.next() 가 순차적으로 호출됨\n",
    "    print line,\n",
    "    #콤마가 있어도 옆에 같이 출력되지 않는 이유는 개행문자 때문임"
   ]
  },
  {
   "cell_type": "markdown",
   "metadata": {},
   "source": [
    "- 발생자(Generator)\n",
    "\n",
    "  - (중단됨 시점부터) 재실행 가능한 함수\n",
    "- 아래 함수 f()는 자신의 인수 및 내부 변수로서 a, b, c, d를 지니고 있다.\n",
    "\n",
    "  - 이러한 a, b, c, d 변수들은 함수가 종료되고 반환될 때 모두 사라진다.\n",
    "- 발생자는 f()와 같이 함수가 종료될 때 메모리에서 해제되는 것을 막고 다시 함수가 호출 될 때 이전에 수행이 종료되었던 지점 부터 계속 수행이 가능하도록 구현된 함수이다."
   ]
  },
  {
   "cell_type": "code",
   "execution_count": 1,
   "metadata": {
    "collapsed": true
   },
   "outputs": [],
   "source": [
    "def f(a,b):\n",
    "    c = a * b\n",
    "    d = a + b\n",
    "    return c, d\n",
    "#f함수는 리턴이 되면 a,b,c,d모두 사라짐"
   ]
  },
  {
   "cell_type": "markdown",
   "metadata": {},
   "source": [
    "- yield 키워드\n",
    "  - return 대신에 yield에 의해 값을 반환하는 함수는 발생자이다.\n",
    "  - yield는 return과 유사하게 임의의 값을 반환하지만 함수의 실행 상태를 보존하면서 함수를 호출한 쪽으로 복귀시켜준다.\n",
    "- 발생자는 곧 반복자이다.\n",
    "  - 즉, 발생자에게 next() 호출이 가능하다.\n",
    "\n",
    "###발생자를 만드려면 return 대신 yield!"
   ]
  },
  {
   "cell_type": "code",
   "execution_count": 2,
   "metadata": {
    "collapsed": true
   },
   "outputs": [],
   "source": [
    "def generate_ints(N):#발생자 함수\n",
    "    for i in range(N):\n",
    "        yield i"
   ]
  },
  {
   "cell_type": "code",
   "execution_count": 8,
   "metadata": {
    "collapsed": false
   },
   "outputs": [
    {
     "name": "stdout",
     "output_type": "stream",
     "text": [
      "<generator object generate_ints at 0x0000000003AD1990>\n",
      "0\n",
      "1\n",
      "2\n"
     ]
    },
    {
     "ename": "StopIteration",
     "evalue": "",
     "output_type": "error",
     "traceback": [
      "\u001b[1;31m---------------------------------------------------------------------------\u001b[0m",
      "\u001b[1;31mStopIteration\u001b[0m                             Traceback (most recent call last)",
      "\u001b[1;32m<ipython-input-8-459f83812722>\u001b[0m in \u001b[0;36m<module>\u001b[1;34m()\u001b[0m\n\u001b[0;32m      9\u001b[0m \u001b[1;32mprint\u001b[0m \u001b[0mgen\u001b[0m\u001b[1;33m.\u001b[0m\u001b[0mnext\u001b[0m\u001b[1;33m(\u001b[0m\u001b[1;33m)\u001b[0m\u001b[1;33m\u001b[0m\u001b[0m\n\u001b[0;32m     10\u001b[0m \u001b[1;31m#발생자 실행 재개. yield에 의해 값 반환 후 다시 중단\u001b[0m\u001b[1;33m\u001b[0m\u001b[1;33m\u001b[0m\u001b[0m\n\u001b[1;32m---> 11\u001b[1;33m \u001b[1;32mprint\u001b[0m \u001b[0mgen\u001b[0m\u001b[1;33m.\u001b[0m\u001b[0mnext\u001b[0m\u001b[1;33m(\u001b[0m\u001b[1;33m)\u001b[0m\u001b[1;33m\u001b[0m\u001b[0m\n\u001b[0m\u001b[0;32m     12\u001b[0m \u001b[1;31m#발생자 실행 재개.\u001b[0m\u001b[1;33m\u001b[0m\u001b[1;33m\u001b[0m\u001b[0m\n\u001b[0;32m     13\u001b[0m \u001b[1;31m#yield에 의해 더 이상 반환할 값이 없다면 StopIteration 예외를 던짐\u001b[0m\u001b[1;33m\u001b[0m\u001b[1;33m\u001b[0m\u001b[0m\n",
      "\u001b[1;31mStopIteration\u001b[0m: "
     ]
    }
   ],
   "source": [
    "gen = generate_ints(3)#gen에는 yield가 반환해주는 값인 i가 들어옴\n",
    "#발생자 객체를 얻는다. generate_ints() 함수에 대한 초기 스택 프레임이 만들어지나 실행은 중단되어 있는 상태임\n",
    "print gen#발생자 객체 자체!\n",
    "#기본적으로는 gen에는 generate_ints 자체의 객체가 들어감\n",
    "print gen.next()#발생자가 곧 반복자\n",
    "#발생자 객체는 반복자 인터페이스를 가진다. 발생자의 실행이 재개됨. yield에 의해 값 반환 후 다시 실행이 중단됨\n",
    "print gen.next() \n",
    "#발생자 실행 재개. yield에 의해 값 반환 후 다시 중단\n",
    "print gen.next() \n",
    "#발생자 실행 재개. yield에 의해 값 반환 후 다시 중단\n",
    "print gen.next() \n",
    "#발생자 실행 재개. \n",
    "#yield에 의해 더 이상 반환할 값이 없다면 StopIteration 예외를 던짐"
   ]
  },
  {
   "cell_type": "code",
   "execution_count": 4,
   "metadata": {
    "collapsed": false
   },
   "outputs": [
    {
     "name": "stdout",
     "output_type": "stream",
     "text": [
      "0 1 2 3 4\n"
     ]
    }
   ],
   "source": [
    "for i in generate_ints(5):\n",
    "    #stopiteration예외 발생시 for~in구문 빠져나감\n",
    "    print i,\n",
    "#for~in구문에 발생자 바로 사용 가능 \n",
    "#why?발생자는 곧 반복자(next를 가짐!)"
   ]
  },
  {
   "cell_type": "markdown",
   "metadata": {},
   "source": [
    "- 발생자 함수와 일반 함수의 차이점\n",
    "  - 일반 함수는 함수가 호출되면 그 함수 내부에 정의된 모든 일을 마치고 결과를 반환함\n",
    "  - 발생자 함수는 함수 내에서 수행 중에 중간 결과 값을 반환할 수 있음\n",
    "- 발생자가 유용하게 사용되는 경우\n",
    "  - 함수 처리의 중간 결과를 다른 코드에서 참조할 경우\n",
    "  - 모든 결과를 한꺼번에 처리하는 것이 아니라 함수 처리 중에 나온 중간 결과를 사용해야 할 경우"
   ]
  },
  {
   "cell_type": "markdown",
   "metadata": {},
   "source": [
    "###발생자 구문\n",
    "- 리스트 내포(List Comprehension)\n",
    "  - 리스트 객체의 새로운 생성\n",
    "  - 메모리를 실제로 점유하면서 생성됨"
   ]
  },
  {
   "cell_type": "code",
   "execution_count": 5,
   "metadata": {
    "collapsed": false
   },
   "outputs": [
    {
     "name": "stdout",
     "output_type": "stream",
     "text": [
      "[0, 5, 10, 15, 20, 25, 30, 35, 40, 45, 50, 55, 60, 65, 70, 75, 80, 85, 90, 95]\n"
     ]
    }
   ],
   "source": [
    "print [k for k in range(100) if k % 5 == 0]#k는 리스트의 원소"
   ]
  },
  {
   "cell_type": "markdown",
   "metadata": {},
   "source": [
    "- 리스트 내포 구문에 []가 아니라 () 사용\n",
    "  - 리스트 대신에 발생자 생성\n",
    "  - 처음부터 모든 원소가 생성되지 않고 필요한 시점에 각 원소가 만들어짐\n",
    "  - 메모리를 보다 효율적으로 사용함"
   ]
  },
  {
   "cell_type": "code",
   "execution_count": 6,
   "metadata": {
    "collapsed": false
   },
   "outputs": [
    {
     "name": "stdout",
     "output_type": "stream",
     "text": [
      "<generator object <genexpr> at 0x0000000003AD1828>\n",
      "0\n",
      "5\n",
      "10\n",
      "15 20 25 30 35 40 45 50 55 60 65 70 75 80 85 90 95\n"
     ]
    }
   ],
   "source": [
    "#발생자를 만드는 구문(함수가 아닌 한줄짜리 구문으로......)\n",
    "a = (k for k in range(100) if k % 5 == 0)\n",
    "print a\n",
    "print a.next()\n",
    "print a.next()\n",
    "print a.next()\n",
    "for i in a:\n",
    "    print i,\n",
    "    \n",
    "    \n",
    "    \n",
    "#리스트 내포는 리스트 전반적인 내용을 모두 생성(처음부터 모든 원소 생성)\n",
    "#발생자는 next가 호출될 때마다 리스트 내용을 발생시킴(필요할때 원소 생성)"
   ]
  },
  {
   "cell_type": "markdown",
   "metadata": {},
   "source": [
    "- 아래 예는 sum 내장 함수에 발생자를 넣어줌\n",
    "  - sum을 호출하는 시점에는 발생자가 아직 호출되기 직전이므로 각 원소들은 아직 존재하지 않는다.\n",
    "  - sum 내부에서 발생자가 지니고 있는 next() 함수를 호출하여 각 원소들을 직접 만들어 활용한다.\n",
    "  - 메모시 사용 효율이 높다."
   ]
  },
  {
   "cell_type": "code",
   "execution_count": 7,
   "metadata": {
    "collapsed": false
   },
   "outputs": [
    {
     "name": "stdout",
     "output_type": "stream",
     "text": [
      "950\n"
     ]
    }
   ],
   "source": [
    "print sum((k for k in range(100) if k % 5 == 0))\n",
    "#sum을 호출하는데 안쪽 인자가 발생자=>k를 generate\n",
    "#리스트 내포의 경우 전체 내용이 메모리에 존재하는 상황에서 sum......\n",
    "#but 발생자는 그때그때 만들어가면서......!"
   ]
  },
  {
   "cell_type": "code",
   "execution_count": 9,
   "metadata": {
    "collapsed": false
   },
   "outputs": [
    {
     "name": "stdout",
     "output_type": "stream",
     "text": [
      "1 1 2 3 5 8 13 21 34 55 89\n"
     ]
    }
   ],
   "source": [
    "#발생자 활용 예 1 - 피보나치 수열\n",
    "def fibonacci(a = 1, b = 1):\n",
    "    while 1:\n",
    "        yield a#yield가 있으니까 피보나치는 발생자~\n",
    "        a, b = b, a + b\n",
    "        \n",
    "for k in fibonacci():#발생자를 직접 for ~ in 구문에 활용\n",
    "    if k > 100: \n",
    "        break\n",
    "    print k,"
   ]
  },
  {
   "cell_type": "code",
   "execution_count": 10,
   "metadata": {
    "collapsed": false
   },
   "outputs": [
    {
     "name": "stdout",
     "output_type": "stream",
     "text": [
      "1 3 5 7 9 11 13 15 17 19\n",
      "[1, 3, 5, 7, 9, 11, 13, 15, 17, 19]\n"
     ]
    }
   ],
   "source": [
    "#발생자의 활용 예 2 - 홀수 집합 만들기\n",
    "\n",
    "#반복자를 활용한 예\n",
    "class Odds:\n",
    "    def __init__(self, limit = None):#생성자 정의\n",
    "        self.data = -1#초기 값\n",
    "        self.limit = limit#한계 값\n",
    "    def __iter__(self):#Odds 객체의 반복자를 반환하는 특수 함수\n",
    "        return self\n",
    "    def next(self):#반복자의 필수 함수\n",
    "        self.data += 2\n",
    "        if self.limit and self.limit <= self.data:\n",
    "            raise StopIteration\n",
    "        return self.data\n",
    "\n",
    "for k in Odds(20):#odds라는 클래스에는 인스턴스 메소드로 iter를 가짐\n",
    "    #반복자를 next를 가지고 있는 self로 가져옴\n",
    "    print k,\n",
    "print\n",
    "print list(Odds(20))\n",
    "#list() 내장 함수가 객체를 인수로 받으면 해당 객체의 \n",
    "#반복자를 얻어와 next()를 매번 호출하여 각 원소를 얻어온다. "
   ]
  },
  {
   "cell_type": "code",
   "execution_count": 11,
   "metadata": {
    "collapsed": false
   },
   "outputs": [
    {
     "name": "stdout",
     "output_type": "stream",
     "text": [
      "1 3 5 7 9 11 13 15 17 19\n",
      "[1, 3, 5, 7, 9, 11, 13, 15, 17, 19]\n"
     ]
    }
   ],
   "source": [
    "\n",
    "#발생자를 활용한 예\n",
    "def odds(limit=None):\n",
    "    k = 1#초기값\n",
    "    while not limit or limit >= k:\n",
    "        yield k\n",
    "        k += 2\n",
    "        \n",
    "for k in odds(20):\n",
    "    #for~in구문에 odds(20)사용 가능->odds라는 반복자는 곧 발생자\n",
    "    print k,\n",
    "print\n",
    "print list(odds(20))\n",
    "#list() 내장 함수가 발생자를 인수로 받으면 해당 발생자의 \n",
    "#next()를 매번 호출하여 각 원소를 얻어온다. "
   ]
  },
  {
   "cell_type": "code",
   "execution_count": 15,
   "metadata": {
    "collapsed": true
   },
   "outputs": [],
   "source": [
    "def getOddSquare(limit):\n",
    "    a = 1\n",
    "    while a <= limit:\n",
    "        yield a * a\n",
    "        a += 2\n",
    "def getOddSquare2(N):\n",
    "    for i in range(N):\n",
    "        if(i%2!=0):\n",
    "            yield i*i"
   ]
  },
  {
   "cell_type": "code",
   "execution_count": 17,
   "metadata": {
    "collapsed": false
   },
   "outputs": [
    {
     "name": "stdout",
     "output_type": "stream",
     "text": [
      "1 9 25 49 81\n",
      "1 9 25 49 81\n"
     ]
    }
   ],
   "source": [
    "for k in getOddSquare(10):\n",
    "    print k,\n",
    "print\n",
    "for k in getOddSquare2(10):#...이거도 맞잖ㅇ...\n",
    "    print k,\n"
   ]
  },
  {
   "cell_type": "code",
   "execution_count": 1,
   "metadata": {
    "collapsed": false
   },
   "outputs": [
    {
     "name": "stdout",
     "output_type": "stream",
     "text": [
      "abc\n",
      "def\n",
      "ghi\n",
      "<__main__.Seq instance at 0x00000000038E7748>\n",
      "['abc\\n', 'def\\n', 'ghi']\n",
      "('abc\\n', 'def\\n', 'ghi')\n"
     ]
    }
   ],
   "source": [
    "class Seq:\n",
    "    def __init__(self, fname):#우선순위 종류!\n",
    "        self.file = open(fname)\n",
    "    #def __getitem__(self, n):->우선순위가 별로 높지 않음\n",
    "    #    if n == 10:\n",
    "    #        raise StopIteration\n",
    "    #    return n\n",
    "    #ㅁa\n",
    "    def __iter__(self):\n",
    "        return self\n",
    "    def next(self):\n",
    "        line = self.file.readline() # 한 라인을 읽는다.\n",
    "        if not line: \n",
    "            raise StopIteration     # 읽을 수 없으면 예외 발생\n",
    "        return line                 # 읽은 라인을 리턴한다.\n",
    "    \n",
    "s = Seq('readme.txt')     # s 인스턴스가 next() 메소드를 지니고 있으므로 s 인스턴스 자체가 반복자임 \n",
    "for line in s: # 우선 __iter__() 메소드를 호출하여 반복자를 얻고, 반복자에 대해서 for ~ in 구문에 의하여 next() 메소드가 호출됨\n",
    "    print line,\n",
    "\n",
    "print \n",
    "\n",
    "print Seq('readme.txt')\n",
    "\n",
    "print list(Seq('readme.txt'))  # list() 내장 함수가 객체를 인수로 받으면 해당 객체의 반복자를 얻어와 next()를 매번 호출하여 각 원소를 얻어온다. \n",
    "print tuple(Seq('readme.txt')) # tuple() 내장 함수가 객체를 인수로 받으면 해당 객체의 반복자를 얻어와 next()를 매번 호출하여 각 원소를 얻어온다. \n",
    "\n",
    "\n",
    "\n",
    "#readlines는 파일의 포인터가 이;ㅇ"
   ]
  },
  {
   "cell_type": "markdown",
   "metadata": {},
   "source": [
    "반복자의 경우 반드시 iter와 next를 만들어 주어야 함"
   ]
  },
  {
   "cell_type": "code",
   "execution_count": 4,
   "metadata": {
    "collapsed": false
   },
   "outputs": [
    {
     "name": "stdout",
     "output_type": "stream",
     "text": [
      "n\n"
     ]
    }
   ],
   "source": [
    "#keys values items\n",
    "#iter를 불러서 가져오는 것은 반복자를 ......?\"pme.w\"eJ\n",
    "d={'one':'n'}\n",
    "for value in d.itervalues():    # 값에 대한 반복자\n",
    "    print value, \n",
    "    #메모리 효율 면에서 그냥 value보다 더 나음"
   ]
  },
  {
   "cell_type": "code",
   "execution_count": 5,
   "metadata": {
    "collapsed": false
   },
   "outputs": [
    {
     "name": "stdout",
     "output_type": "stream",
     "text": [
      "f.next() abc\n",
      "\n",
      "def\n",
      "ghi\n"
     ]
    }
   ],
   "source": [
    "#파일객체 f는 반복자라 할 수 있음 next가 있으니까.\n",
    "\n",
    "f = open('readme.txt')\n",
    "print \"f.next()\", f.next()\n",
    "for line in f:# f.next() 가 순차적으로 호출됨\n",
    "    print line,    "
   ]
  },
  {
   "cell_type": "code",
   "execution_count": 6,
   "metadata": {
    "collapsed": false
   },
   "outputs": [
    {
     "name": "stdout",
     "output_type": "stream",
     "text": [
      "f.next() abc\n",
      "\n",
      "def\n",
      "ghi\n"
     ]
    }
   ],
   "source": [
    "f = open('readme.txt')\n",
    "print \"f.next()\", f.next()#이거때매 첫ㅂ번째 원소는 이미 떨어져 나감\n",
    "for line in f:   # f.next() 가 순차적으로 호출됨\n",
    "    print line,    #for문에서는 두번째 원소부터....."
   ]
  },
  {
   "cell_type": "markdown",
   "metadata": {},
   "source": [
    "#generator 객체\n",
    "1) 함수 객체  \n",
    "2) yield 키워드로 값을 리턴해주어야 함.  \n",
    "\n",
    "\n",
    "  =>모든 발생자 객체는 반복자임!!!!!!   \n",
    "  =>발생자 객체에게 next 호출이 가능함."
   ]
  },
  {
   "cell_type": "code",
   "execution_count": 8,
   "metadata": {
    "collapsed": false
   },
   "outputs": [
    {
     "name": "stdout",
     "output_type": "stream",
     "text": [
      "None None None None None 4\n"
     ]
    }
   ],
   "source": [
    "def generate_ints(N):\n",
    "    for i in range(N):\n",
    "        yield \n",
    "     \n",
    "    #제너레이트 객체는 수행 후에도 없어지지 않음......\n",
    "    #어느 부분까지 수행했는지를 기억함\n",
    "    #자바에는 없고 파이썬에만 존재하는 것.or i in generate_ints(5):\n",
    "    print i"
   ]
  },
  {
   "cell_type": "code",
   "execution_count": 9,
   "metadata": {
    "collapsed": false
   },
   "outputs": [
    {
     "name": "stdout",
     "output_type": "stream",
     "text": [
      "None None None None None 4\n"
     ]
    }
   ],
   "source": [
    "\n",
    "for i in generate_ints(5):\n",
    "    print i,"
   ]
  },
  {
   "cell_type": "markdown",
   "metadata": {},
   "source": [
    "###아래는 외우고 있어야 하는 부분"
   ]
  },
  {
   "cell_type": "code",
   "execution_count": 10,
   "metadata": {
    "collapsed": false
   },
   "outputs": [
    {
     "name": "stdout",
     "output_type": "stream",
     "text": [
      "<generator object <genexpr> at 0x0000000003961870>\n",
      "0\n",
      "5\n",
      "10\n",
      "15 20 25 30 35 40 45 50 55 60 65 70 75 80 85 90 95 [0, 5, 10, 15, 20, 25, 30, 35, 40, 45, 50, 55, 60, 65, 70, 75, 80, 85, 90, 95]\n",
      "950\n",
      "950\n"
     ]
    }
   ],
   "source": [
    "a = (k for k in range(100) if k % 5 == 0)\n",
    "print a\n",
    "print a.next()\n",
    "print a.next()\n",
    "print a.next()\n",
    "for i in a:\n",
    "    print i,\n",
    "print [k for k in range(100) if k % 5 == 0]#리스트 넣어준거\n",
    "print sum([k for k in range(100) if k % 5 == 0])#리스트 있는거면 넣어준거\n",
    "print sum((k for k in range(100) if k % 5 == 0))#발생자 넣어준거\n",
    "#이건 함수가 어떤 갑을 하나하나 읽고 이\n",
    "#but메모리 효율에서 밑에것이 훨씬 좋음."
   ]
  },
  {
   "cell_type": "code",
   "execution_count": null,
   "metadata": {
    "collapsed": true
   },
   "outputs": [],
   "source": [
    "def fibonacci(a = 1, b = 1):\n",
    "    while 1:\n",
    "        yield a \n",
    "        a, b = b, a + b\n",
    "        \n",
    "for k in fibonacci():  # 발생자를 직접 for ~ in 구문에 활용\n",
    "    if k > 100: #이 숫자가 매우 커도 실행이 제대로 되네\n",
    "        break\n",
    "    print k,\n",
    "    \n",
    "    #코드어디에도 메모리 1부터 89사이 숫자들이 저장되지는 않음.\n",
    "    #숫자 자체를 언제든 가져다 쓰려면 이렇게 만들면 안돼겠지(사라지니)"
   ]
  }
 ],
 "metadata": {
  "kernelspec": {
   "display_name": "Python 2",
   "language": "python",
   "name": "python2"
  },
  "language_info": {
   "codemirror_mode": {
    "name": "ipython",
    "version": 2
   },
   "file_extension": ".py",
   "mimetype": "text/x-python",
   "name": "python",
   "nbconvert_exporter": "python",
   "pygments_lexer": "ipython2",
   "version": "2.7.9"
  }
 },
 "nbformat": 4,
 "nbformat_minor": 0
}
