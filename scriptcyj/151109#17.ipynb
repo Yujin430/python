{
 "cells": [
  {
   "cell_type": "markdown",
   "metadata": {},
   "source": [
    "##이름공간"
   ]
  },
  {
   "cell_type": "markdown",
   "metadata": {},
   "source": [
    "- 이름 공간 또는 스코프 (Naming Space or Scope): 이름이 존재하는 장소. 파이썬은 실행 시간에 각 이름들을 적절한 이름 공간에 넣어 관리한다.\n",
    "- 이름 공간(스코프)의 종류\n",
    "  - 지역(Local): 각 함수 내부\n",
    "    - t : 일반적으로 각 함수 내부, 클래스 메소드 안, 객체내부. 즉 일정한 공간 내부\n",
    "  - 전역(Global): 모듈 (파일) 내부\n",
    "    - t: 모듈의 물리적인 단위 - 파일\n",
    "  - 내장(Built-in): 파이썬 언어 자체에서 정의한 영역\n",
    "- 변수가 정의되는 위치에 의해 변수의 스코프가 정해짐\n",
    "  - 파이썬에서 변수의 정의\n",
    "    - 변수가 l-value로 사용될 때\n",
    "- 변수가 r-value로 사용될 때 해당 변수의 값을 찾는 순서 규칙\n",
    "  - L --> G --> B"
   ]
  },
  {
   "cell_type": "code",
   "execution_count": 1,
   "metadata": {
    "collapsed": true
   },
   "outputs": [],
   "source": [
    "a=1 #에서 a는 l-value (left)\n",
    "b=a #에서 a는 r-value (right : 새롭게 정의 X 기존에 존재하는거 사용)\n",
    "#a,b는 동일한 파일 내에 존재하는 전역 변수(만약 test라는 파일 내에 있다면)\n",
    "#바로 글로벌에서 찾게 됨(로컬이 없어서.)"
   ]
  },
  {
   "cell_type": "code",
   "execution_count": 3,
   "metadata": {
    "collapsed": false
   },
   "outputs": [
    {
     "name": "stdout",
     "output_type": "stream",
     "text": [
      "10\n",
      "10\n",
      "None\n"
     ]
    }
   ],
   "source": [
    "a=1\n",
    "b=100#전역\n",
    "def f():\n",
    "    b=10#로컬\n",
    "    c=b\n",
    "    print c\n",
    "f()\n",
    "print f()#반환 값 X\n",
    "#이렇게 하면 b는 local에서 정의되었기 때문에 local영역 정의 사용"
   ]
  },
  {
   "cell_type": "code",
   "execution_count": 4,
   "metadata": {
    "collapsed": false
   },
   "outputs": [
    {
     "name": "stdout",
     "output_type": "stream",
     "text": [
      "30\n",
      "5\n"
     ]
    }
   ],
   "source": [
    "# g, h는 전역 변수\n",
    "g = 10\n",
    "h = 5\n",
    "\n",
    "def f(a): #a는 지역 변수\n",
    "    h = a + 10 #a는 r-value, 인자 바로 활용\n",
    "    #h는 지역, 새로 l-value로 정의했음\n",
    "    b = h + a + g \n",
    "    #b도 지역, g는 r-value이므로 기존 값을 참조-전역 변수\n",
    "    return b\n",
    "\n",
    "print f(h) \n",
    "#함수 호출시에 사용되는 변수는 해당 위치의 스코프에서 값을 찾음-전역변수\n",
    "print h #전역 변수 h는 변함 없음"
   ]
  },
  {
   "cell_type": "code",
   "execution_count": 5,
   "metadata": {
    "collapsed": false
   },
   "outputs": [
    {
     "name": "stdout",
     "output_type": "stream",
     "text": [
      "20\n",
      "20\n"
     ]
    }
   ],
   "source": [
    "#함수 내부에서 전역 변수를 직접 사용하고자 할 때\n",
    "\n",
    "h = 5#전역변수\n",
    "def f(a):#a는 지역\n",
    "    global h#h 변수를 전역이라고 미리 선언함\n",
    "    h = a + 10#이 h는 global이 없으면 새로운 지역변수로 선언되게 됨\n",
    "    #h는 l-velue로 정의되더라도 미리 선언된 내용 때문에 전역 변수\n",
    "    #h=5가 사라지고 20이 새롭게 들어가게 됨\n",
    "    #전역변수 자체의 값이 변경됨.\n",
    "    return h\n",
    "\n",
    "print f(10)\n",
    "print h #전역 변수 h 값이 함수 내에서 변경되었음"
   ]
  },
  {
   "cell_type": "markdown",
   "metadata": {},
   "source": [
    "- [주의] 동일 함수 내에서 동일한 변수가 지역변수와 전역변수로 동시에 활용될 수 없음\n",
    "  - 함수 내에서 정의되는 변수는 지역 변수로 간주\n",
    "  - 지역 변수로 선언되기 이전에 해당 변수를 사용할 수 없음"
   ]
  },
  {
   "cell_type": "code",
   "execution_count": 6,
   "metadata": {
    "collapsed": false
   },
   "outputs": [
    {
     "ename": "UnboundLocalError",
     "evalue": "local variable 'g' referenced before assignment",
     "output_type": "error",
     "traceback": [
      "\u001b[1;31m---------------------------------------------------------------------------\u001b[0m",
      "\u001b[1;31mUnboundLocalError\u001b[0m                         Traceback (most recent call last)",
      "\u001b[1;32m<ipython-input-6-7678ce459a35>\u001b[0m in \u001b[0;36m<module>\u001b[1;34m()\u001b[0m\n\u001b[0;32m      9\u001b[0m     \u001b[1;32mreturn\u001b[0m \u001b[0ma\u001b[0m\u001b[1;33m\u001b[0m\u001b[0m\n\u001b[0;32m     10\u001b[0m \u001b[1;33m\u001b[0m\u001b[0m\n\u001b[1;32m---> 11\u001b[1;33m \u001b[1;32mprint\u001b[0m \u001b[0mf\u001b[0m\u001b[1;33m(\u001b[0m\u001b[1;33m)\u001b[0m\u001b[1;33m\u001b[0m\u001b[0m\n\u001b[0m",
      "\u001b[1;32m<ipython-input-6-7678ce459a35>\u001b[0m in \u001b[0;36mf\u001b[1;34m()\u001b[0m\n\u001b[0;32m      3\u001b[0m \u001b[1;32mdef\u001b[0m \u001b[0mf\u001b[0m\u001b[1;33m(\u001b[0m\u001b[1;33m)\u001b[0m\u001b[1;33m:\u001b[0m\u001b[1;33m\u001b[0m\u001b[0m\n\u001b[0;32m      4\u001b[0m     \u001b[1;31m#global g\u001b[0m\u001b[1;33m\u001b[0m\u001b[1;33m\u001b[0m\u001b[0m\n\u001b[1;32m----> 5\u001b[1;33m     \u001b[0ma\u001b[0m \u001b[1;33m=\u001b[0m \u001b[0mg\u001b[0m\u001b[1;31m#l-value로 사용되는 g는 전역 변수\u001b[0m\u001b[1;33m\u001b[0m\u001b[0m\n\u001b[0m\u001b[0;32m      6\u001b[0m     \u001b[0mg\u001b[0m \u001b[1;33m=\u001b[0m \u001b[1;36m20\u001b[0m\u001b[1;31m#r-value로 정의되는 g는 지역 변수\u001b[0m\u001b[1;33m\u001b[0m\u001b[0m\n\u001b[0;32m      7\u001b[0m     \u001b[1;31m#global g가 없으니까 윗줄의 g는 지역변수로 새롭게 선언됨\u001b[0m\u001b[1;33m\u001b[0m\u001b[1;33m\u001b[0m\u001b[0m\n",
      "\u001b[1;31mUnboundLocalError\u001b[0m: local variable 'g' referenced before assignment"
     ]
    }
   ],
   "source": [
    "g = 10\n",
    "\n",
    "def f():\n",
    "    #global g(해결1)\n",
    "    a = g#l-value로 사용되는 g는 전역 변수\n",
    "    g = 20#r-value로 정의되는 g는 지역 변수\n",
    "    #global g가 없으니까 윗줄의 g는 지역변수로 새롭게 선언됨\n",
    "    #g가 지역변수이면서 전역변수이기 때문에 에러가 발생함.(스코프 충돌)\n",
    "    #두 문장의 순서가 바뀌는 경우도 에러가 발생하지 않을 수 있음(해결2)\n",
    "    return a\n",
    "\n",
    "print f()"
   ]
  },
  {
   "cell_type": "markdown",
   "metadata": {},
   "source": [
    "- 이름\n",
    "  - 변수 (객체) 이름\n",
    "  - 함수 이름\n",
    "  - 클래스 이름\n",
    "  - 모듈 이름\n",
    "- dir() : 특정 개체, 모듈 내 존재하는 이름들을 리스트로 반환\n",
    "- dir(object) : 파이썬 내 대부분이 object.\n",
    "  - 함수, 특정개체, 클래스, 인스턴스, 모듈의 이름 등"
   ]
  },
  {
   "cell_type": "code",
   "execution_count": 7,
   "metadata": {
    "collapsed": false
   },
   "outputs": [
    {
     "name": "stdout",
     "output_type": "stream",
     "text": [
      "['__add__', '__class__', '__contains__', '__delattr__', '__delitem__', '__delslice__', '__doc__', '__eq__', '__format__', '__ge__', '__getattribute__', '__getitem__', '__getslice__', '__gt__', '__hash__', '__iadd__', '__imul__', '__init__', '__iter__', '__le__', '__len__', '__lt__', '__mul__', '__ne__', '__new__', '__reduce__', '__reduce_ex__', '__repr__', '__reversed__', '__rmul__', '__setattr__', '__setitem__', '__setslice__', '__sizeof__', '__str__', '__subclasshook__', 'append', 'count', 'extend', 'index', 'insert', 'pop', 'remove', 'reverse', 'sort']\n"
     ]
    }
   ],
   "source": [
    "l = []\n",
    "print dir(l)\n",
    "#__ 로 시작되는건 특수한 변수 or 특수한 메소드\n",
    "#__안붙은것들은 리스트에 존재하는 각각의 식별자"
   ]
  },
  {
   "cell_type": "code",
   "execution_count": 9,
   "metadata": {
    "collapsed": false
   },
   "outputs": [
    {
     "name": "stdout",
     "output_type": "stream",
     "text": [
      "1\n"
     ]
    }
   ],
   "source": [
    "#함수의 중첩 영역 지원\n",
    "x = 2\n",
    "def F():\n",
    "    x = 1#로컬변수(지역변수)\n",
    "    def G():#중첩영역을 지원하는 함수\n",
    "        print x#가까운 x를 먼저 찾음\n",
    "    G()\n",
    "\n",
    "F()"
   ]
  },
  {
   "cell_type": "markdown",
   "metadata": {},
   "source": [
    "##모듈의 정의"
   ]
  },
  {
   "cell_type": "markdown",
   "metadata": {},
   "source": [
    "- 모듈: 파이썬 프로그램 파일로서 파이썬 데이터와 함수등을 정의하고 있는 단위\n",
    "  - 서로 연관된 작업을 하는 코드들을 묶어서 독립성을 유지하되 재사용 가능하게 만드는 단위\n",
    "  - 모듈을 사용하는 측에서는 모듈에 정의된 함수나 변수 이름을 사용\n",
    "\n",
    "- 모듈의 종류\n",
    "  - 표준 모듈\n",
    "    - 파이썬 언어 패키지 안에 기본적으로 포함된 모듈\n",
    "    - 대표적인 표준 모듈 예\n",
    "       - math, string\n",
    "  - 사용자 생성 모듈\n",
    "    - 개발자가 직접 정의한 모듈\n",
    "  - 써드 파티 모듈\n",
    "    - 다른 업체나 개인이 만들어서 제공하는 모듈"
   ]
  },
  {
   "cell_type": "markdown",
   "metadata": {},
   "source": [
    "- 모듈이 정의되고 저장되는 곳은 파일\n",
    "  - 파일\n",
    "    - 모듈 코드를 저장하는 물리적인 단위\n",
    "    - t: test.py가 기본적으로 test라는 모듈을 만듦. but, 실행 코드들만 존재하면 다른 모듈이나 프로그램에서 활용 X, 변수나 함수 클래스 등을 선언해서 모듈을 임폴트 해서 식별자를 사용......\n",
    "  - 모듈\n",
    "    - 논리적으로 하나의 단위로 조직된 코드의 모임\n",
    "- 파이썬 모듈이 정의되는 파일의 확장자: .py \n",
    "  - t:.py가 모듈의 단위로 매핑\n",
    "- 다른 곳에서 모듈을 사용하게 되면 해당 모듈의 .py는 바이트 코드로 컴파일 되어 .pyc로 존재한다.\n",
    "  - t:pyc는 자바의 바이트코드와 유사. 일부는 컴파일 랭기지가 취하는 특성을 가짐...... pyc가 만들어지면 py가 없더라도 이거 임포트해서 사용 가능"
   ]
  },
  {
   "cell_type": "code",
   "execution_count": 10,
   "metadata": {
    "collapsed": true
   },
   "outputs": [],
   "source": [
    "#File: mymath.py\n",
    "mypi = 3.14\n",
    "\n",
    "def add(a, b):\n",
    "    return a + b\n",
    "\n",
    "def area(r):\n",
    "    return mypi * r * r\n",
    "#이 내용을 가진 파일을 같은 디렉토리에 지금 내가 따로 만들어준 상태임!"
   ]
  },
  {
   "cell_type": "code",
   "execution_count": 13,
   "metadata": {
    "collapsed": false
   },
   "outputs": [
    {
     "name": "stdout",
     "output_type": "stream",
     "text": [
      "['__builtins__', '__doc__', '__file__', '__name__', '__package__', 'add', 'area', 'mypi']\n",
      "3.14\n",
      "11\n",
      "78.5\n"
     ]
    }
   ],
   "source": [
    "import mymath\n",
    "\n",
    "print dir(mymath)    #mymath에 정의된 이름들 확인하기\n",
    "print mymath.mypi    #mymath 안에 정의된 mypi를 사용한다\n",
    "print mymath.add(1,10)\n",
    "print mymath.area(5) #mymath 안에 정의된 area를 사용한다"
   ]
  },
  {
   "cell_type": "markdown",
   "metadata": {},
   "source": [
    "- 함수와 모듈\n",
    "  - 함수: 파일 내에서 일부 코드를 묶는 것\n",
    "    - t : 동일한 레벨에서 여러개의 함수가 한 모듈 내에 존재 가능\n",
    "  - 모듈: 파일 단위로 코드들을 묶는 것\n",
    "    - 비슷하거나 관련된 일을 하는 함수나 상수값들을 모아서 하나의 파일에 저장하고 추후에 재사용하는 단위 (t : 파일 하나가 모듈 하나)\n",
    "  - t:함수 모듈 모두 관련된 코드를 한 데 모으는 것임\n",
    "- 모듈 사용의 이점\n",
    "  - 코드의 재사용\n",
    "  - 프로그램 개발시에 전체 코드들을 여러 모듈 단위로 분리하여 설계함으로써 작업의 효율을 높일 수 있음\n",
    "    - 여러개의 모듈을 기능, 역할단위로 나누어 관련 내용을 채워 넣을 수 있음\n",
    "  - 별도의 이름 공간(스코프)를 제공함으로써 동일한 이름의 여러 함수나 변수들이 각 모듈마다 독립적으로 정의될 수 있다.\n",
    "    - t : a모듈에 aaa, b모듈에 aaa가 저장될 수 있는 식\n",
    "- 별도 파일 내에 파이썬 코드를 저장할 때 (즉, 모듈을 코딩할 때) 한글 처리\n",
    "  - 파일의 맨 위에 다음 코드를 넣어 준다.\n",
    "    - \\# -*- coding:utf-8 -*-\n",
    "    -t:코딩이 utf-8식으로 저장된다 라는 것. 주석에 한글 맘대로 작성 가능\n",
    "- 모듈은 하나의 독립된 이름 공간을 확보하면서 정의된다."
   ]
  },
  {
   "cell_type": "code",
   "execution_count": 14,
   "metadata": {
    "collapsed": false
   },
   "outputs": [
    {
     "name": "stdout",
     "output_type": "stream",
     "text": [
      "['Formatter', 'Template', '_TemplateMetaclass', '__builtins__', '__doc__', '__file__', '__name__', '__package__', '_float', '_idmap', '_idmapL', '_int', '_long', '_multimap', '_re', 'ascii_letters', 'ascii_lowercase', 'ascii_uppercase', 'atof', 'atof_error', 'atoi', 'atoi_error', 'atol', 'atol_error', 'capitalize', 'capwords', 'center', 'count', 'digits', 'expandtabs', 'find', 'hexdigits', 'index', 'index_error', 'join', 'joinfields', 'letters', 'ljust', 'lower', 'lowercase', 'lstrip', 'maketrans', 'octdigits', 'printable', 'punctuation', 'replace', 'rfind', 'rindex', 'rjust', 'rsplit', 'rstrip', 'split', 'splitfields', 'strip', 'swapcase', 'translate', 'upper', 'uppercase', 'whitespace', 'zfill']\n"
     ]
    }
   ],
   "source": [
    "import string #파이썬에 같이 설치되는 표준 모듈\n",
    "print dir(string)"
   ]
  },
  {
   "cell_type": "markdown",
   "metadata": {},
   "source": [
    "- 독립된 이름 공간(스코프)을 제공하는 것들\n",
    "  - 모듈\n",
    "  - 클래스\n",
    "  - 객체\n",
    "  - 함수\n",
    "- string 모듈 이름 공간에 변수 a를 생성한다.\n",
    "  - 표준 모듈에 사용자가 정의하는 이름을 생성하는 것은 비추천\n",
    "  - 단치 모듈 자체가 독립적인 이름 공간을 제공한다는 것을 알려줌"
   ]
  },
  {
   "cell_type": "code",
   "execution_count": 17,
   "metadata": {
    "collapsed": false
   },
   "outputs": [
    {
     "name": "stdout",
     "output_type": "stream",
     "text": [
      "1\n",
      "['Formatter', 'Template', '_TemplateMetaclass', '__builtins__', '__doc__', '__file__', '__name__', '__package__', '_float', '_idmap', '_idmapL', '_int', '_long', '_multimap', '_re', 'a', 'ascii_letters', 'ascii_lowercase', 'ascii_uppercase', 'atof', 'atof_error', 'atoi', 'atoi_error', 'atol', 'atol_error', 'capitalize', 'capwords', 'center', 'count', 'digits', 'expandtabs', 'find', 'hexdigits', 'index', 'index_error', 'join', 'joinfields', 'letters', 'ljust', 'lower', 'lowercase', 'lstrip', 'maketrans', 'octdigits', 'printable', 'punctuation', 'replace', 'rfind', 'rindex', 'rjust', 'rsplit', 'rstrip', 'split', 'splitfields', 'strip', 'swapcase', 'translate', 'upper', 'uppercase', 'whitespace', 'zfill']\n",
      "10\n",
      "['__builtins__', '__doc__', '__file__', '__name__', '__package__', 'a', 'add', 'area', 'mypi']\n"
     ]
    }
   ],
   "source": [
    "import string\n",
    "string.a=1#a라는 이름은 존재하지 않음\n",
    "#모듈 바깥에서 새로운 변수를 정의하여 삽입 가능\n",
    "print string.a\n",
    "print dir(string)#이름 a가 삽입된 것을 확인 가능\n",
    "#표준모듈에 새로운 변수를 정의하여 넣는것은 추천사항이 아님.\n",
    "#사용자정의 모듈에 추가하는것은 괜찮.\n",
    "import mymath\n",
    "mymath.a = 10\n",
    "print mymath.a\n",
    "print dir(mymath)"
   ]
  },
  {
   "cell_type": "code",
   "execution_count": 18,
   "metadata": {
    "collapsed": false
   },
   "outputs": [
    {
     "name": "stdout",
     "output_type": "stream",
     "text": [
      "1\n",
      "2\n",
      "2\n"
     ]
    }
   ],
   "source": [
    "#클래스 정의 방식 : class 키워드 + class 이름 + 콜론+ 아래 내용\n",
    "\n",
    "class C:#클래스도 독립적인 이름 공간\n",
    "    a = 2#클래스 이름 공간 내에 변수 선언\n",
    "    pass#클래스 정의\n",
    "\n",
    "c = C()#클래스 인스턴스 객체 생성(생성자 호출)\n",
    "#생성자 호출되면 해당 클래스의 인스턴스가 반환됨\n",
    "c.a = 1#클래스에서 생성된 인스턴스 객체도 별도의 이름 공간\n",
    "#인스턴스 c 안에 a가 존재하고 a 값은 1\n",
    "print c.a\n",
    "print c.__class__.a#c.__class__는 c가 무슨 클래스냐(C)\n",
    "print C.a"
   ]
  },
  {
   "cell_type": "code",
   "execution_count": 19,
   "metadata": {
    "collapsed": false
   },
   "outputs": [
    {
     "name": "stdout",
     "output_type": "stream",
     "text": [
      "1\n",
      "\n"
     ]
    },
    {
     "ename": "AttributeError",
     "evalue": "'function' object has no attribute 'a'",
     "output_type": "error",
     "traceback": [
      "\u001b[1;31m---------------------------------------------------------------------------\u001b[0m",
      "\u001b[1;31mAttributeError\u001b[0m                            Traceback (most recent call last)",
      "\u001b[1;32m<ipython-input-19-144d86227121>\u001b[0m in \u001b[0;36m<module>\u001b[1;34m()\u001b[0m\n\u001b[0;32m      8\u001b[0m \u001b[1;32mprint\u001b[0m \u001b[0mf\u001b[0m\u001b[1;33m.\u001b[0m\u001b[0mc\u001b[0m\u001b[1;33m\u001b[0m\u001b[0m\n\u001b[0;32m      9\u001b[0m \u001b[1;32mprint\u001b[0m\u001b[1;33m\u001b[0m\u001b[0m\n\u001b[1;32m---> 10\u001b[1;33m \u001b[1;32mprint\u001b[0m \u001b[0mf\u001b[0m\u001b[1;33m.\u001b[0m\u001b[0ma\u001b[0m\u001b[1;31m#함수 내부의 지역변수는 찍어볼 수 없음.\u001b[0m\u001b[1;33m\u001b[0m\u001b[0m\n\u001b[0m\u001b[0;32m     11\u001b[0m \u001b[1;31m#일반적인 함수가 가지고 있는 지역변수 a, b는 바깥에서 코딩 X\u001b[0m\u001b[1;33m\u001b[0m\u001b[1;33m\u001b[0m\u001b[0m\n\u001b[0;32m     12\u001b[0m \u001b[1;31m#함수 바깥에서 선언된 변수는 접근 가능함.\u001b[0m\u001b[1;33m\u001b[0m\u001b[1;33m\u001b[0m\u001b[0m\n",
      "\u001b[1;31mAttributeError\u001b[0m: 'function' object has no attribute 'a'"
     ]
    }
   ],
   "source": [
    "x = 10#현재 모듈 내부에 정의되는 이름\n",
    "def f():\n",
    "    a = 1#a,b는 지역변수\n",
    "    b = 2 \n",
    "    #현재 모듈에 정의되는 함수 f 내에 이름 a,b를 정의하고있다. \n",
    "    #함수도 독립적인 이름 공간\n",
    "f.c = 1#정의가 끝난 함수에 함수 바깥에서 새로운 변수 삽입 가능\n",
    "print f.c\n",
    "print\n",
    "print f.a#함수 내부의 지역변수는 찍어볼 수 없음.\n",
    "#일반적인 함수가 가지고 있는 지역변수 a, b는 바깥에서 코딩 X\n",
    "#함수 바깥에서 선언된 변수는 접근 가능함."
   ]
  },
  {
   "cell_type": "markdown",
   "metadata": {},
   "source": [
    "##모듈검색경로"
   ]
  },
  {
   "cell_type": "markdown",
   "metadata": {},
   "source": [
    "###3-1 PYTHONPATH 환경 변수 설정하기\n",
    "- 파이썬이 모듈을 찾는 순서\n",
    "  - 1) 이미 메모리에 로딩되어진 것\n",
    "  - 2) 현재 디렉토리 (ipython에서 pwd 명령으로 확인 가능)\n",
    "  - 3) PYTHONPATH 환경 변수에 기술된 디렉토리 목록을 차례로 탐색\n",
    "  - 4) 표준 라이브러리 디렉토리들\n",
    "    - sys 모듈 임포트 후 sys.path 로 확인 가능\n",
    "    - sys.path.append(), sys.path.remove()로 추가, 삭제 가능\n",
    "- PYTHONPATH 환경 변수 설정 방법\n",
    "  - 윈도우즈\n",
    "    - 제어판\\시스템 및 보안\\시스템\\고급 시스템 설정\\환경 변수\n",
    "      - 새로 만들기: 변수 이름 - PYTHONPATH, 변수 값 - C:\\Users\\yhhan\\mypythonlib\n",
    "        - 값은 스스로 한 디렉토리에 정해 놓고 파이썬 관련자료 넣기\n",
    "      - python 새로 시작하기 (cmd창 새로 시작한 후)\n",
    "  - MAC이나 리눅스\n",
    "    - ~/.bash_profile 혹은 ~/.profile 파일에 다음 라인 추가\n",
    "      - export PYTHONPATH=/Users/yhhan/mypythonlib\n",
    "      - 터미널 창에서 다음 명령어 수행\n",
    "        - source.profile\n",
    "          - ~/.bash_profile\n",
    "  - 이클립스에서 PYTHONPATH 설정 -> image\n",
    "    - 이클립스->환경설정\n",
    "    - PyDev-interpreters-python interpreter"
   ]
  },
  {
   "cell_type": "code",
   "execution_count": 21,
   "metadata": {
    "collapsed": false
   },
   "outputs": [
    {
     "name": "stdout",
     "output_type": "stream",
     "text": [
      "\n"
     ]
    }
   ],
   "source": [
    "import string#한번이라도 import하면 메모리에 모듈이 존재함\n",
    "import string#두번째 임포트 문은 .py가 아니라 메모리에서 랒음\n",
    "import mymath#->현재 디렉토리\n",
    "\n",
    "\"\"\"\n",
    "콘솔에서 set을 치면 환경변수 목록이 쭉 나오는데 PYTHONPATH라는 경로!\n",
    "\"\"\"\n",
    "print"
   ]
  },
  {
   "cell_type": "code",
   "execution_count": 22,
   "metadata": {
    "collapsed": false
   },
   "outputs": [
    {
     "name": "stdout",
     "output_type": "stream",
     "text": [
      "['', 'C:\\\\Users\\\\Yujin\\\\AppData\\\\Local\\\\Enthought\\\\Canopy\\\\User\\\\Scripts\\\\python27.zip', 'C:\\\\Users\\\\Yujin\\\\AppData\\\\Local\\\\Enthought\\\\Canopy\\\\App\\\\appdata\\\\canopy-1.5.5.3123.win-x86_64\\\\DLLs', 'C:\\\\Users\\\\Yujin\\\\AppData\\\\Local\\\\Enthought\\\\Canopy\\\\App\\\\appdata\\\\canopy-1.5.5.3123.win-x86_64\\\\lib', 'C:\\\\Users\\\\Yujin\\\\AppData\\\\Local\\\\Enthought\\\\Canopy\\\\App\\\\appdata\\\\canopy-1.5.5.3123.win-x86_64\\\\lib\\\\plat-win', 'C:\\\\Users\\\\Yujin\\\\AppData\\\\Local\\\\Enthought\\\\Canopy\\\\App\\\\appdata\\\\canopy-1.5.5.3123.win-x86_64\\\\lib\\\\lib-tk', 'C:\\\\Users\\\\Yujin\\\\AppData\\\\Local\\\\Enthought\\\\Canopy\\\\App\\\\appdata\\\\canopy-1.5.5.3123.win-x86_64', 'C:\\\\Users\\\\Yujin\\\\AppData\\\\Local\\\\Enthought\\\\Canopy\\\\User', 'C:\\\\Users\\\\Yujin\\\\AppData\\\\Local\\\\Enthought\\\\Canopy\\\\User\\\\lib\\\\site-packages', 'C:\\\\Users\\\\Yujin\\\\AppData\\\\Local\\\\Enthought\\\\Canopy\\\\User\\\\lib\\\\site-packages\\\\win32', 'C:\\\\Users\\\\Yujin\\\\AppData\\\\Local\\\\Enthought\\\\Canopy\\\\User\\\\lib\\\\site-packages\\\\win32\\\\lib', 'C:\\\\Users\\\\Yujin\\\\AppData\\\\Local\\\\Enthought\\\\Canopy\\\\User\\\\lib\\\\site-packages\\\\Pythonwin', 'C:\\\\Users\\\\Yujin\\\\AppData\\\\Local\\\\Enthought\\\\Canopy\\\\App\\\\appdata', 'C:\\\\Users\\\\Yujin\\\\AppData\\\\Local\\\\Enthought\\\\Canopy\\\\App\\\\appdata\\\\canopy-1.5.5.3123.win-x86_64\\\\lib\\\\site-packages', 'C:\\\\Users\\\\Yujin\\\\AppData\\\\Local\\\\Enthought\\\\Canopy\\\\App\\\\appdata\\\\canopy-1.5.5.3123.win-x86_64\\\\lib\\\\site-packages\\\\win32', 'C:\\\\Users\\\\Yujin\\\\AppData\\\\Local\\\\Enthought\\\\Canopy\\\\App\\\\appdata\\\\canopy-1.5.5.3123.win-x86_64\\\\lib\\\\site-packages\\\\win32\\\\lib', 'C:\\\\Users\\\\Yujin\\\\AppData\\\\Local\\\\Enthought\\\\Canopy\\\\App\\\\appdata\\\\canopy-1.5.5.3123.win-x86_64\\\\lib\\\\site-packages\\\\Pythonwin', 'C:\\\\Users\\\\Yujin\\\\AppData\\\\Local\\\\Enthought\\\\Canopy\\\\User\\\\lib\\\\site-packages\\\\IPython\\\\extensions']\n"
     ]
    }
   ],
   "source": [
    "import sys\n",
    "print sys.path\n",
    "#리스트 내 목록들이 모듈을 찾는 경로들.(4)\n",
    "#sys.path가 리스트라 append호출 가능\n",
    "#sys.path.append('폴더 내용')-->이 폴더도 리스트에 포함됨\n",
    "#종료시 sys.path에 영원히 존재하게 된다는 보장은 없음.\n",
    "#이클립스의 경우 환경설정에서 추가해주는것이 훨씬 더 나음."
   ]
  },
  {
   "cell_type": "code",
   "execution_count": null,
   "metadata": {
    "collapsed": true
   },
   "outputs": [],
   "source": []
  }
 ],
 "metadata": {
  "kernelspec": {
   "display_name": "Python 2",
   "language": "python",
   "name": "python2"
  },
  "language_info": {
   "codemirror_mode": {
    "name": "ipython",
    "version": 2
   },
   "file_extension": ".py",
   "mimetype": "text/x-python",
   "name": "python",
   "nbconvert_exporter": "python",
   "pygments_lexer": "ipython2",
   "version": "2.7.9"
  }
 },
 "nbformat": 4,
 "nbformat_minor": 0
}
