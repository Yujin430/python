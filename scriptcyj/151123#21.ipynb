{
 "cells": [
  {
   "cell_type": "markdown",
   "metadata": {},
   "source": [
    "- 상속의 이유\n",
    "  - 코드의 재사용\n",
    "  - 상속받은 자식 클래스는 상속을 해준 부모 클래스의 모든 기능을 그대로 사용\n",
    "  - 자식 클래스는 필요한 기능만을 정의하거나 기존의 기능을 변경할 수 있음"
   ]
  },
  {
   "cell_type": "code",
   "execution_count": 2,
   "metadata": {
    "collapsed": true
   },
   "outputs": [],
   "source": [
    "class Person:\n",
    "    def __init__(self, name, phone=None):\n",
    "        #self는 인스턴스 메소드가 기본적으로 가지는 인자\n",
    "        self.name = name\n",
    "        self.phone = phone\n",
    "    def __str__(self):\n",
    "        return '<Person %s %s>' % (self.name, self.phone)\n",
    "        #%s%s는 문자열 포매팅\n",
    "    \n",
    "class Employee(Person):                    \n",
    "    #괄호 안에 쓰여진 클래스는 부모클래스를 의미.\n",
    "    def __init__(self, name, phone, position, salary):\n",
    "        #필요한 기능만을 새롭게 정의\n",
    "        Person.__init__(self, name, phone)\n",
    "        #Person클래스의 생성자 호출\n",
    "        self.position = position\n",
    "        self.salary = salary\n",
    "        \n",
    "#자식 클래스에 있는 init이 부모클래스의 init을 오버라이딩(재정의)"
   ]
  },
  {
   "cell_type": "markdown",
   "metadata": {},
   "source": [
    "- 이름 공간의 포함 관계\n",
    "  - 자식클래스(Child, Sub, Derived) > 부모클래스(Parent, Super, Base)"
   ]
  },
  {
   "cell_type": "code",
   "execution_count": 4,
   "metadata": {
    "collapsed": false
   },
   "outputs": [
    {
     "name": "stdout",
     "output_type": "stream",
     "text": [
      "홍길동\n",
      "<Person 홍길동 1498>\n",
      "\n",
      "손창희 대리\n",
      "<Person 손창희 5564>\n",
      "김기동 과장\n",
      "<Person 김기동 8546>\n"
     ]
    }
   ],
   "source": [
    "p1 = Person('홍길동', 1498)\n",
    "print p1.name\n",
    "print p1#p1의 __str__메소드 호출\n",
    "\n",
    "print\n",
    "\n",
    "m1 = Employee('손창희', 5564, '대리', 200)\n",
    "m2 = Employee('김기동', 8546, '과장', 300)\n",
    "print m1.name, m1.position \n",
    "#슈퍼클래스와 서브클래스의 멤버를 하나씩 출력.\n",
    "print m1#m1이 employee객체이기 때문에 일단 그 안에서 __str__을 찾음\n",
    "#없으면 부모클래스에 가서 __str__을 찾음\n",
    "print m2.name, m2.position\n",
    "print m2\n",
    "#근데 m1,m2는 Person이 아니라 Employee라고 출력되는게 더 바람직\n",
    "#밑의 추가적 예제에서 확인"
   ]
  },
  {
   "cell_type": "code",
   "execution_count": 5,
   "metadata": {
    "collapsed": false
   },
   "outputs": [
    {
     "name": "stdout",
     "output_type": "stream",
     "text": [
      "Sub init called\n"
     ]
    }
   ],
   "source": [
    "#서브 클래스의 생성자는 슈퍼 클래스의 생성자를 자동으로 호출하지 않는다.\n",
    "#서브클래스가 수퍼클래스를 오버라이딩\n",
    "class Super:\n",
    "    def __init__(self):\n",
    "        print 'Super init called'\n",
    "\n",
    "class Sub(Super):\n",
    "    def __init__(self):\n",
    "        print 'Sub init called'\n",
    "    \n",
    "s = Sub()"
   ]
  },
  {
   "cell_type": "code",
   "execution_count": 6,
   "metadata": {
    "collapsed": false
   },
   "outputs": [
    {
     "name": "stdout",
     "output_type": "stream",
     "text": [
      "Super init called\n",
      "Sub init called\n"
     ]
    }
   ],
   "source": [
    "#서브 클래스의 생성자에서 슈퍼 클래스의 생성자를 \n",
    "#명시적으로 호출해야 한다.\n",
    "class Super:\n",
    "    def __init__(self):\n",
    "        print 'Super init called'\n",
    "        \n",
    "class Sub(Super):\n",
    "    def __init__(self):\n",
    "        Super.__init__(self)   \n",
    "        #명시적으로 슈퍼클래스의 생성자를 호출한다.\n",
    "        print 'Sub init called'\n",
    "        #그 후 자신만의 행동을 개시\n",
    "s = Sub()"
   ]
  },
  {
   "cell_type": "code",
   "execution_count": 7,
   "metadata": {
    "collapsed": false
   },
   "outputs": [
    {
     "name": "stdout",
     "output_type": "stream",
     "text": [
      "Super init called\n"
     ]
    }
   ],
   "source": [
    "#서브 클래스에 생성자가 정의되어 있지 않은 경우에는\n",
    "#슈퍼 클래스의 생성자가 호출된다.\n",
    "class Super:\n",
    "    def __init__(self):\n",
    "        print 'Super init called'\n",
    "        \n",
    "class Sub(Super):\n",
    "    pass\n",
    "#sub에 init 없으면 super의 init만 호출\n",
    "s = Sub()"
   ]
  },
  {
   "cell_type": "code",
   "execution_count": 8,
   "metadata": {
    "collapsed": false
   },
   "outputs": [
    {
     "name": "stdout",
     "output_type": "stream",
     "text": [
      "<Person gslee 5284>\n",
      "<Person kslee 5224>\n"
     ]
    }
   ],
   "source": [
    "#메쏘드의 대치 (메소드 오버라이드 - Override)\n",
    "#서브 클래스에서 슈퍼 클래스에 정의된 메소드를 재정의하여 대치하는 기능\n",
    "class Person:\n",
    "    def __init__(self, name, phone=None):\n",
    "        self.name = name\n",
    "        self.phone = phone\n",
    "    def __str__(self):\n",
    "        return '<Person %s %s>' % (self.name, self.phone)\n",
    "    \n",
    "class Employee(Person):\n",
    "    def __init__(self, name, phone, position, salary):\n",
    "        Person.__init__(self, name, phone)\n",
    "        self.position = position\n",
    "        self.salary = salary\n",
    "        \n",
    "p1 = Person('gslee', 5284)\n",
    "m1 = Employee('kslee', 5224, 'President', 500)\n",
    "#m1도 str을 호출하나 employee 클래스 안에 없어서 부모클래스것을 호출\n",
    "print p1\n",
    "print m1"
   ]
  },
  {
   "cell_type": "code",
   "execution_count": 9,
   "metadata": {
    "collapsed": false
   },
   "outputs": [
    {
     "name": "stdout",
     "output_type": "stream",
     "text": [
      "<Person gslee 5284>\n",
      "<Employee kslee 5224 President 500>\n"
     ]
    }
   ],
   "source": [
    "class Employee(Person):\n",
    "    def __init__(self, name, phone, position, salary):\n",
    "        Person.__init__(self, name, phone)\n",
    "        self.position = position\n",
    "        self.salary = salary\n",
    "    def __str__(self):\n",
    "        return '<Employee %s %s %s %s>' % \\\n",
    "    (self.name, self.phone, self.position, self.salary)\n",
    "    #Employee도 str을 가지게 되면 부모 클래스의 str위로 올라탐(오버라이드)\n",
    "    #부모클래스의 str무시, 자식클래스의 str호출\n",
    "    \n",
    "p1 = Person('gslee', 5284)\n",
    "m1 = Employee('kslee', 5224, 'President', 500)\n",
    "\n",
    "print p1\n",
    "print m1"
   ]
  },
  {
   "cell_type": "markdown",
   "metadata": {},
   "source": [
    "###다형성\n",
    "- 상속 관계 내의 다른 클래스들의 인스턴스들이 같은 멤버 함수 호출에 대해 각각 다르게 반응하도록 하는 기능\n",
    "\n",
    "  - 연산자 오버로딩도 다형성을 지원하는 중요한 기술\n",
    "    - 예를 들어, a와 b의 객체 형에 따라 a + b의 + 연산자 행동 방식이 변경되는 것(특히 객체 a의 타입에 따라서)\n",
    "    - t : a에 클래스가 들어오면 이에 대응되는 \\_\\_add\\_\\_메소드가 호출됨\n",
    "- 다형성의 장점\n",
    "\n",
    "  - 적은 코딩으로 다양한 객체들에게 유사한 작업을 수행시킬 수 있음\n",
    "  - 프로그램 작성 코드 량이 줄어든다.\n",
    "  - 코드의 가독성을 높혀준다.\n",
    "- 파이썬에서 다형성의 장점\n",
    "\n",
    "  - 형 선언이 없다는 점에서 파이썬에서는 다형성을 적용하기가 더욱 용이하다.\n",
    "  - 실시간으로 객체의 형이 결정되므로 단 하나의 메소드에 의해 처리될 수 있는 객체의 종류에 제한이 없다.\n",
    "    - 즉, 다른 언어보다 코드의 양이 더욱 줄어든다.\n",
    "- t : 파이썬은 디폴트로 다형성이 잘 제공되고 있는 언어임"
   ]
  },
  {
   "cell_type": "code",
   "execution_count": 10,
   "metadata": {
    "collapsed": false
   },
   "outputs": [
    {
     "name": "stdout",
     "output_type": "stream",
     "text": [
      "멍멍\n",
      "꽥꽥\n",
      "...\n"
     ]
    }
   ],
   "source": [
    "class Animal:\n",
    "    def cry(self):\n",
    "        print '...'\n",
    "        \n",
    "class Dog(Animal):\n",
    "    def cry(self):\n",
    "        print '멍멍'\n",
    "        #Animal의 cry를 Dog의 cry가 오버라이드 함\n",
    "class Duck(Animal):\n",
    "    def cry(self):\n",
    "        print '꽥꽥'\n",
    "        \n",
    "class Fish(Animal):\n",
    "    #따로 cry가 없으므로, Animal의 cry를 가져다 씀\n",
    "    pass\n",
    "\n",
    "for each in (Dog(), Duck(), Fish()):#튜플안에 객체 3개 존재\n",
    "    each.cry()"
   ]
  },
  {
   "cell_type": "markdown",
   "metadata": {
    "collapsed": true
   },
   "source": [
    "- 내장 자료형(list, dict, tuple, string)을 상속하여 사용자 클래스를 정의하는 것\n",
    "  - 내장 자료형과 사용자 자료형의 차이를 없에고 통일된 관점으로 모든 객체를 다룰 수 있는 방안\n",
    "- 클래스 정의는 새로운 자료형의 정의임"
   ]
  },
  {
   "cell_type": "code",
   "execution_count": 1,
   "metadata": {
    "collapsed": false
   },
   "outputs": [
    {
     "name": "stdout",
     "output_type": "stream",
     "text": [
      "[]\n",
      "['__add__', '__class__', '__contains__', '__delattr__', '__delitem__', '__delslice__', '__doc__', '__eq__', '__format__', '__ge__', '__getattribute__', '__getitem__', '__getslice__', '__gt__', '__hash__', '__iadd__', '__imul__', '__init__', '__iter__', '__le__', '__len__', '__lt__', '__mul__', '__ne__', '__new__', '__reduce__', '__reduce_ex__', '__repr__', '__reversed__', '__rmul__', '__setattr__', '__setitem__', '__setslice__', '__sizeof__', '__str__', '__subclasshook__', 'append', 'count', 'extend', 'index', 'insert', 'pop', 'remove', 'reverse', 'sort']\n"
     ]
    }
   ],
   "source": [
    "a = list()#== a=[]\n",
    "#list를 클래스 명으로 하여 ()를 붙여 인스턴스를 만듦\n",
    "#소문자 list가 클래스 명\n",
    "print a\n",
    "print dir(a)\n",
    "#a는 우리가 알고있는 일반적인 list(append, index 등의 함수가 다 존재)"
   ]
  },
  {
   "cell_type": "code",
   "execution_count": 3,
   "metadata": {
    "collapsed": false
   },
   "outputs": [
    {
     "name": "stdout",
     "output_type": "stream",
     "text": [
      "[1, 2, 3, 'spam', 4, 5]\n",
      "\n",
      "[1, 2, 3, 5]\n",
      "[1, 2, 3, 5, 'SHINHWA']\n"
     ]
    }
   ],
   "source": [
    "#내장자료형인 list를 상속하여 뺄셈 연산을 추가함\n",
    "class MyList(list):\n",
    "    def __sub__(self, other):\n",
    "        #'-' 연산자 중복 함수 정의(연산자 오버로딩)\n",
    "        for x in other:\n",
    "            if x in self:\n",
    "                self.remove(x)#각 항목을 하나씩 삭제한다.\n",
    "        return self\n",
    "\n",
    "L = MyList([1, 2, 3, 'spam', 4, 5])\n",
    "#상속받는 클래스의 객체는 부모 클래스의 타입과 동일\n",
    "#so,L은 리스트이면서 1,2,3,'spam',4,5의 원소를 가짐\n",
    "print L\n",
    "#__str__이 MyList에 없음. 클래스 list가 가지고 있는 __str__호출\n",
    "#내장자료형 list에는 __sub__가 정의되어있지 않아, MyList에서는 그것을\n",
    "#따로 정의해서 좀 더 풍부하게 사용\n",
    "print\n",
    "\n",
    "L = L - ['spam', 4]#-가 __sub__에 대입됨.\n",
    "#['spma',4]가 __sub__의 other에 해당\n",
    "print L\n",
    "\n",
    "L.append(\"SHINHWA\")\n",
    "print L#append가 MyList에는 없지만 list에 있으므로 수행됨."
   ]
  },
  {
   "cell_type": "markdown",
   "metadata": {},
   "source": [
    "(1) Stack 클래스 정의 예\n",
    "- 슈퍼 클래스로 list 클래스를 지닌다.\n",
    "- 즉, list 클래스를 확장하여 Stack 클래스를 정의함"
   ]
  },
  {
   "cell_type": "code",
   "execution_count": 4,
   "metadata": {
    "collapsed": false
   },
   "outputs": [
    {
     "name": "stdout",
     "output_type": "stream",
     "text": [
      "[4, 5]\n",
      "\n",
      "[1, 2, 3, 4, 5]\n",
      "\n",
      "5\n",
      "4\n",
      "[1, 2, 3]\n"
     ]
    }
   ],
   "source": [
    "class Stack(list):#클래스 정의\n",
    "    #pop은 list가 이미 가지고 있음.\n",
    "    push = list.append\n",
    "    #push를 따로 정의하는것이 아니라 list가 가지고 있는 append를 공유\n",
    "    \n",
    "s = Stack()#인스턴스 생성\n",
    "\n",
    "s.push(4)\n",
    "s.push(5)\n",
    "print s\n",
    "#stack에 str없으니까 list의 str을 사용\n",
    "print\n",
    "\n",
    "s = Stack([1,2,3])\n",
    "s.push(4)\n",
    "s.push(5)\n",
    "print s\n",
    "print\n",
    "\n",
    "print s.pop()       \n",
    "#슈퍼 클래스인 리스트 클래스의 pop() 메소드 호출(stack에 없지만 list거 호출)\n",
    "print s.pop()\n",
    "print s\n",
    "#push와 pop으로 인스턴스를 활용하고 있기 때문에 그럴싸한 스택 클래스라 할 수 있음\n",
    "#두 줄 만으로 스택을 그럴싸하게 작성 가능"
   ]
  },
  {
   "cell_type": "markdown",
   "metadata": {},
   "source": [
    "(2)Queue 클래스 정의 예\n",
    "- 슈퍼 클래스로 역시 list를 지닌다.\n",
    "- 즉, list 클래스를 확장하여 Queue 클래스를 정의함"
   ]
  },
  {
   "cell_type": "code",
   "execution_count": 5,
   "metadata": {
    "collapsed": false
   },
   "outputs": [
    {
     "name": "stdout",
     "output_type": "stream",
     "text": [
      "[1, 2]\n",
      "1\n",
      "2\n"
     ]
    }
   ],
   "source": [
    "class Queue(list):\n",
    "    enqueue = list.append#어차피 리스트 맨 뒤에 원소 추가 =append\n",
    "    def dequeue(self):#리스트 맨 앞에서 원소를 꺼내야함.\n",
    "        return self.pop(0)#pop에 인자를 0으로 줘가지구 맨 앞에서 꺼내게.\n",
    "    \n",
    "q = Queue()\n",
    "q.enqueue(1)#데이터 추가\n",
    "q.enqueue(2)\n",
    "print q\n",
    "\n",
    "print q.dequeue()#데이터 꺼내기\n",
    "print q.dequeue()"
   ]
  },
  {
   "cell_type": "code",
   "execution_count": 7,
   "metadata": {
    "collapsed": false,
    "scrolled": true
   },
   "outputs": [
    {
     "name": "stdout",
     "output_type": "stream",
     "text": [
      "{} {'a': 1, 'b': 2}\n",
      "['__class__', '__cmp__', '__contains__', '__delattr__', '__delitem__', '__doc__', '__eq__', '__format__', '__ge__', '__getattribute__', '__getitem__', '__gt__', '__hash__', '__init__', '__iter__', '__le__', '__len__', '__lt__', '__ne__', '__new__', '__reduce__', '__reduce_ex__', '__repr__', '__setattr__', '__setitem__', '__sizeof__', '__str__', '__subclasshook__', 'clear', 'copy', 'fromkeys', 'get', 'has_key', 'items', 'iteritems', 'iterkeys', 'itervalues', 'keys', 'pop', 'popitem', 'setdefault', 'update', 'values', 'viewitems', 'viewkeys', 'viewvalues']\n"
     ]
    }
   ],
   "source": [
    "#사전서브클래스 만들기 =>일단 dict를 확인\n",
    "a = dict()\n",
    "b = dict({'a':1,'b':2})\n",
    "print a, b\n",
    "print dir(a)\n",
    "#dict는 클래스로 생성자를 호출하여 a에 넣어서 사전을 만듦"
   ]
  },
  {
   "cell_type": "code",
   "execution_count": 10,
   "metadata": {
    "collapsed": false,
    "scrolled": false
   },
   "outputs": [
    {
     "name": "stdout",
     "output_type": "stream",
     "text": [
      "['one', 'three', 'two']\n",
      "{'one': 1, 'three': 3, 'two': 2}\n",
      "\n",
      "['three', 'two', 'one']\n",
      "{'three': 3, 'two': 2, 'one': 1}\n"
     ]
    }
   ],
   "source": [
    "#아래 예제는 keys() 메소드를 정렬된 키값 리스트를 반환하도록 재정의한다.\n",
    "class MyDict(dict):\n",
    "    def keys(self):#keys는 기존 dict에 존재하지만 재정의하여 사용\n",
    "        K = dict.keys(self)#클래스의 keys를 부르므로 언바운드 매소드\n",
    "        #언바운드 메소드 호출 --> K = self.keys() 라고 호출하면\n",
    "        #무한 재귀 호출 ->error발생\n",
    "        #self.keys를 부르면 dict의 keys가 아닌 구현하고 있느 keys를 매핑\n",
    "        K.sort()\n",
    "        return K\n",
    "    \n",
    "d = MyDict({'one':1, 'two':2, 'three':3})\n",
    "print d.keys()#정렬되어진 상태로!\n",
    "print d\n",
    "print\n",
    "\n",
    "d2 = {'one':1, 'two':2, 'three':3}\n",
    "print d2.keys()\n",
    "print d2#일반적인 사전형태로(무작위)"
   ]
  },
  {
   "cell_type": "code",
   "execution_count": 1,
   "metadata": {
    "collapsed": false
   },
   "outputs": [
    {
     "name": "stdout",
     "output_type": "stream",
     "text": [
      "True\n",
      "True\n"
     ]
    }
   ],
   "source": [
    "#객체의 자료형 비교 방법\n",
    "\n",
    "#1. 전통적인 자료형 비교 방법\n",
    "import types\n",
    "\n",
    "print type(123) == types.IntType\n",
    "#1,2,3은 정수타입으로 IntType을 가지고 있음\n",
    "#type은 인수의 타입을 알아보는 내장 함수\n",
    "print type(123) == type(0)\n",
    "\n",
    "#많이 쓰이지 않음. types를 import해야 해서......"
   ]
  },
  {
   "cell_type": "code",
   "execution_count": 2,
   "metadata": {
    "collapsed": false
   },
   "outputs": [
    {
     "name": "stdout",
     "output_type": "stream",
     "text": [
      "True\n",
      "<type 'int'>\n"
     ]
    }
   ],
   "source": [
    "#2. 새로운 방법\n",
    "#isinstance() 내장 함수와 기본 객체 클래스 사용\n",
    "print isinstance(123, int)#123이 int 타입의 인스턴스인가?\n",
    "#isinstance(객체, 타입) -> 클래스 이름은 하나하나가 다 타입\n",
    "#int 도 하나의 클래스\n",
    "#is로 시작하는 메소드는 true / false 반환\n",
    "print int\n",
    "#int는 클래스형 ??????"
   ]
  },
  {
   "cell_type": "code",
   "execution_count": 3,
   "metadata": {
    "collapsed": false
   },
   "outputs": [
    {
     "name": "stdout",
     "output_type": "stream",
     "text": [
      "<__main__.A instance at 0x00000000039EC9C8> => A\n",
      "<__main__.B instance at 0x00000000039ECA08> => B\n",
      "<__main__.C instance at 0x00000000039ECAC8> => B C\n"
     ]
    }
   ],
   "source": [
    "#서브클래스의 인스턴스는 슈퍼클래스의 인스턴스이기도 함\n",
    "class A:\n",
    "    pass\n",
    "\n",
    "class B:\n",
    "    def f(self):\n",
    "        pass\n",
    "    \n",
    "class C(B):\n",
    "    #클래스 C는 B의 상속을 받아 B, C 클래스의 인스턴스 모두사용\n",
    "    pass\n",
    "\n",
    "def check(obj):#obj가 클래스 A, B, C의 인스턴스인지 확인\n",
    "    print obj, '=>',\n",
    "    if isinstance(obj, A):\n",
    "        print 'A',\n",
    "    if isinstance(obj, B):\n",
    "        print 'B',\n",
    "    if isinstance(obj, C):\n",
    "        print 'C',\n",
    "    print\n",
    "    \n",
    "a = A()\n",
    "b = B()\n",
    "c = C()\n",
    "\n",
    "check(a)\n",
    "check(b)\n",
    "check(c)"
   ]
  },
  {
   "cell_type": "code",
   "execution_count": 4,
   "metadata": {
    "collapsed": false
   },
   "outputs": [
    {
     "name": "stdout",
     "output_type": "stream",
     "text": [
      "__main__.A => A\n",
      "__main__.B => B\n",
      "__main__.C => B C\n"
     ]
    }
   ],
   "source": [
    "#클래스 간의 상속 관계 알아내기\n",
    "#-> issubclass사용\n",
    "class A:\n",
    "    pass\n",
    "\n",
    "class B:\n",
    "    def f(self):\n",
    "        pass\n",
    "    \n",
    "class C(B):\n",
    "    pass\n",
    "\n",
    "#issubclass(클래스, 클래스)\n",
    "def check(obj):\n",
    "    print obj, '=>',\n",
    "    if issubclass(obj, A):\n",
    "        print 'A',\n",
    "    if issubclass(obj, B):\n",
    "        print 'B',\n",
    "    if issubclass(obj, C):\n",
    "        print 'C',\n",
    "    print\n",
    "    \n",
    "check(A)\n",
    "check(B)\n",
    "check(C)\n",
    "#C는 B를 상속받아 B클래스의 인스턴스 모두 사용"
   ]
  },
  {
   "cell_type": "code",
   "execution_count": null,
   "metadata": {
    "collapsed": true
   },
   "outputs": [],
   "source": []
  }
 ],
 "metadata": {
  "kernelspec": {
   "display_name": "Python 2",
   "language": "python",
   "name": "python2"
  },
  "language_info": {
   "codemirror_mode": {
    "name": "ipython",
    "version": 2
   },
   "file_extension": ".py",
   "mimetype": "text/x-python",
   "name": "python",
   "nbconvert_exporter": "python",
   "pygments_lexer": "ipython2",
   "version": "2.7.9"
  }
 },
 "nbformat": 4,
 "nbformat_minor": 0
}
