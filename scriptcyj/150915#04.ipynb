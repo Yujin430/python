{
 "cells": [
  {
   "cell_type": "code",
   "execution_count": 1,
   "metadata": {
    "collapsed": false
   },
   "outputs": [
    {
     "name": "stdout",
     "output_type": "stream",
     "text": [
      "<type 'list'>\n",
      "\n",
      "3\n",
      "\n",
      "2\n",
      "3\n",
      "[2, 3]\n",
      "\n",
      "[1, 2, 3, 1, 2, 3]\n",
      "[1, 2, 3, 1, 2, 3, 1, 2, 3]\n"
     ]
    }
   ],
   "source": [
    "L = [1,2,3]\n",
    "print type(L)\n",
    "print\n",
    "print len(L)\n",
    "print\n",
    "print L[1]\n",
    "print L[-1]\n",
    "print L[1:3]\n",
    "print\n",
    "print L + L\n",
    "print L * 3"
   ]
  },
  {
   "cell_type": "code",
   "execution_count": 2,
   "metadata": {
    "collapsed": false
   },
   "outputs": [
    {
     "name": "stdout",
     "output_type": "stream",
     "text": [
      "[10, 5, 6]\n"
     ]
    }
   ],
   "source": [
    "l1 = [4,5,6]\n",
    "l1[0] = 10\n",
    "print l1"
   ]
  },
  {
   "cell_type": "code",
   "execution_count": 3,
   "metadata": {
    "collapsed": false
   },
   "outputs": [
    {
     "name": "stdout",
     "output_type": "stream",
     "text": [
      "[0, 1, 2, 3, 4, 5, 6, 7, 8, 9]\n",
      "[0, 2, 4, 6, 8]\n",
      "[9, 8, 7, 6, 5, 4, 3, 2, 1, 0]\n",
      "True\n"
     ]
    }
   ],
   "source": [
    "L = range(10)\n",
    "print L\n",
    "print L[::2]\n",
    "print L[::-1]\n",
    "print 4 in L"
   ]
  },
  {
   "cell_type": "code",
   "execution_count": 4,
   "metadata": {
    "collapsed": false
   },
   "outputs": [
    {
     "name": "stdout",
     "output_type": "stream",
     "text": [
      "3\n",
      "\n",
      "1\n",
      "3\n",
      "(1, 2)\n",
      "(1, 3)\n",
      "\n",
      "(1, 2, 3, 1, 2, 3, 1, 2, 3)\n",
      "(1, 2, 3, 1, 2, 3, 1, 2, 3)\n",
      "\n",
      "True\n"
     ]
    }
   ],
   "source": [
    "t = (1,2,3)\n",
    "\n",
    "print len(t)\n",
    "print\n",
    "print t[0]\n",
    "print t[-1]\n",
    "print t[0:2]\n",
    "print t[::2]\n",
    "print\n",
    "print t + t + t\n",
    "print t * 3\n",
    "print\n",
    "print 3 in t\n",
    "#수정이 안되어 상수와 비슷한 개념(리스트는 수정이 됨)"
   ]
  },
  {
   "cell_type": "code",
   "execution_count": 5,
   "metadata": {
    "collapsed": false
   },
   "outputs": [
    {
     "name": "stdout",
     "output_type": "stream",
     "text": [
      "hana\n"
     ]
    }
   ],
   "source": [
    "d = {'one': 'hana', 'two': 'dul', 'three': 'set'}\n",
    "print d['one']"
   ]
  },
  {
   "cell_type": "code",
   "execution_count": 8,
   "metadata": {
    "collapsed": false
   },
   "outputs": [
    {
     "name": "stdout",
     "output_type": "stream",
     "text": [
      "{'four': 'net', 'three': 'set', 'two': 'dul', 'one': 'hana'}\n",
      "{'four': 'net', 'three': 'set', 'two': 'dul', 'one': 1}\n",
      "True\n",
      "False\n"
     ]
    }
   ],
   "source": [
    "d = {'one': 'hana', 'two': 'dul', 'three': 'set'}\n",
    "d['four'] = 'net' # 새 항목의 삽입\n",
    "print d\n",
    "d['one'] = 1      # 기존 항목의 값 변경\n",
    "print d\n",
    "print 'one' in d  # 키에 대한 멤버쉽 테스트\n",
    "print 'hana' in d  # 키에 대한 멤버쉽 테스트"
   ]
  },
  {
   "cell_type": "code",
   "execution_count": 9,
   "metadata": {
    "collapsed": false
   },
   "outputs": [
    {
     "name": "stdout",
     "output_type": "stream",
     "text": [
      "['four', 'three', 'two', 'one']\n",
      "['net', 'set', 'dul', 1]\n",
      "[('four', 'net'), ('three', 'set'), ('two', 'dul'), ('one', 1)]\n"
     ]
    }
   ],
   "source": [
    "d = {'one': 1, 'two': 'dul', 'three': 'set', 'four': 'net'}\n",
    "print d.keys()    # 키만 리스트로 추출함\n",
    "print d.values()  # 값만 리스트로 추출함\n",
    "print d.items()   # 키와 값의 튜플을 리스트로 반환함"
   ]
  },
  {
   "cell_type": "code",
   "execution_count": 10,
   "metadata": {
    "collapsed": false
   },
   "outputs": [
    {
     "name": "stdout",
     "output_type": "stream",
     "text": [
      "<type 'int'>\n",
      "<type 'float'>\n",
      "<type 'str'>\n",
      "<type 'list'>\n",
      "<type 'tuple'>\n",
      "<type 'dict'>\n",
      "True\n",
      "True\n",
      "True\n",
      "<type 'NoneType'>\n",
      "\n",
      "None\n",
      "<type 'NoneType'>\n"
     ]
    }
   ],
   "source": [
    "print type(3)       #정수\n",
    "print type(3.3)     #실수\n",
    "print type('abc')   #문자열\n",
    "print type([])      #리스트\n",
    "print type(())      #튜플\n",
    "print type({})      #사전(dict)\n",
    "a = 0\n",
    "L = [1,2,3]\n",
    "print type(a) == type(0)\n",
    "print type(L) == type([])\n",
    "print type(L[0]) == type(0)\n",
    "print type(None)    #None 객체, 아무 값도 없다(혹은 아니다)를 나타내는 객체\n",
    "print\n",
    "a = None\n",
    "print a\n",
    "print type(a)"
   ]
  },
  {
   "cell_type": "code",
   "execution_count": 11,
   "metadata": {
    "collapsed": false
   },
   "outputs": [
    {
     "name": "stdout",
     "output_type": "stream",
     "text": [
      "51921176\n",
      "51921176\n",
      "\n",
      "6579352\n",
      "6579352\n"
     ]
    }
   ],
   "source": [
    "a = 500\n",
    "b = a\n",
    "print id(a)\n",
    "print id(b)\n",
    "print\n",
    "x = 1\n",
    "y = 1\n",
    "print id(x)\n",
    "print id(y)\n",
    "#파이썬은 숫자 객체를 따로 만들지 않고, \n",
    "#이미 만들어져 있는것을 갖다 쓰므로 x, y같은 레퍼런스 할당됨"
   ]
  },
  {
   "cell_type": "code",
   "execution_count": 14,
   "metadata": {
    "collapsed": false
   },
   "outputs": [
    {
     "name": "stdout",
     "output_type": "stream",
     "text": [
      "False\n",
      "57533960\n",
      "57439944\n",
      "True\n",
      "True\n",
      "True\n"
     ]
    }
   ],
   "source": [
    "#is 키워드: 두 객체의 식별자가 동일한지 테스트한다.\n",
    "c = [1,2,3]\n",
    "d = [1,2,3]\n",
    "print c is d\n",
    "print id(c)\n",
    "print id(d)#식별자 다름\n",
    "a = 500\n",
    "b = a\n",
    "print a is b\n",
    "\n",
    "x = 1\n",
    "y = 1\n",
    "print x is y\n",
    "\n",
    "e = f = [4,5,6]\n",
    "print e is f"
   ]
  },
  {
   "cell_type": "code",
   "execution_count": 16,
   "metadata": {
    "collapsed": false
   },
   "outputs": [
    {
     "name": "stdout",
     "output_type": "stream",
     "text": [
      "True\n"
     ]
    }
   ],
   "source": [
    "#== 연산자: 두 객체의 값이 동일한지를 테스트한다.\n",
    "c = [1,2,3]\n",
    "d = [1,2,3]\n",
    "print c == d\n",
    "#is는 식별자 확인 ==는 객체 같은지 확인"
   ]
  },
  {
   "cell_type": "code",
   "execution_count": null,
   "metadata": {
    "collapsed": true
   },
   "outputs": [],
   "source": []
  }
 ],
 "metadata": {
  "kernelspec": {
   "display_name": "Python 2",
   "language": "python",
   "name": "python2"
  },
  "language_info": {
   "codemirror_mode": {
    "name": "ipython",
    "version": 2
   },
   "file_extension": ".py",
   "mimetype": "text/x-python",
   "name": "python",
   "nbconvert_exporter": "python",
   "pygments_lexer": "ipython2",
   "version": "2.7.9"
  }
 },
 "nbformat": 4,
 "nbformat_minor": 0
}
