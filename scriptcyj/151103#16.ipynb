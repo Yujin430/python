{
 "cells": [
  {
   "cell_type": "markdown",
   "metadata": {},
   "source": [
    "- 람다(lambda) 함수 (or 축약 함수): https://wikidocs.net/64\n",
    "  - 일반적인 함수를 한 줄의 문(Statement)으로 정의할 수 있는 새로운 함수 정의 리터럴\n",
    "  - 함수 몸체에는 식(expression)만이 올 수 있다.\n",
    "  - 대부분의 경우 함수 이름을 정의하지 않으면서 일회성으로 활용할 함수를 정의할 때 활용\n",
    "  - 구문(syntax)\n",
    "    - lambda 콤마로 구분된 인수들: 식(expression)"
   ]
  },
  {
   "cell_type": "code",
   "execution_count": 3,
   "metadata": {
    "collapsed": false
   },
   "outputs": [
    {
     "name": "stdout",
     "output_type": "stream",
     "text": [
      "2\n"
     ]
    }
   ],
   "source": [
    "#인수가 한개 있는 람다 함수\n",
    "f= lambda x: x+1#하나의 statement\n",
    "#lambda뒤의 x가 파라미터\n",
    "#콜론 뒤에는 식만 올 수 있음\n",
    "#f 식별자로 람다함수를 가리키게 할 수 있음->람다함수도 하나의 객체\n",
    "print f(1)"
   ]
  },
  {
   "cell_type": "code",
   "execution_count": 4,
   "metadata": {
    "collapsed": false
   },
   "outputs": [
    {
     "name": "stdout",
     "output_type": "stream",
     "text": [
      "3\n"
     ]
    }
   ],
   "source": [
    "#인수가 두개 있는 람다 함수\n",
    "g= lambda x, y: x+y\n",
    "print g(1,2)#(1,2)->(x,y)"
   ]
  },
  {
   "cell_type": "code",
   "execution_count": 5,
   "metadata": {
    "collapsed": false
   },
   "outputs": [
    {
     "name": "stdout",
     "output_type": "stream",
     "text": [
      "11\n",
      "15\n"
     ]
    }
   ],
   "source": [
    "#기본 인수를 가지는 람다 함수\n",
    "incr = lambda x, inc = 1: x + inc\n",
    "#inc는 기본인수를 가짐\n",
    "print incr(10) #inc 기본 인수 값으로 1 사용\n",
    "print incr(10, 5)"
   ]
  },
  {
   "cell_type": "code",
   "execution_count": 6,
   "metadata": {
    "collapsed": false
   },
   "outputs": [
    {
     "name": "stdout",
     "output_type": "stream",
     "text": [
      "(2, 3, 4, 5)\n"
     ]
    }
   ],
   "source": [
    "vargs = lambda x, *args: args\n",
    "#*args는 가변인수.\n",
    "#1은 x, 나머지는 튜플형태로 args에 들어감\n",
    "#args변수가 리턴되는 것\n",
    "print vargs(1,2,3,4,5)"
   ]
  },
  {
   "cell_type": "code",
   "execution_count": 7,
   "metadata": {
    "collapsed": false
   },
   "outputs": [
    {
     "name": "stdout",
     "output_type": "stream",
     "text": [
      "[60, 44, 30, 18, 8, 0, -6, -10, -12, -12, -10, -6, 0, 8, 18, 30, 44, 60, 78, 98]\n",
      "[-1000, -729, -512, -343, -216, -125, -64, -27, -8, -1, 0, 1, 8, 27, 64, 125, 216, 343, 512, 729]\n"
     ]
    }
   ],
   "source": [
    "#람다함수가 쓰이지 않고 있는 예제\n",
    "def f1(x):\n",
    "    return x*x + 3*x - 10\n",
    "\n",
    "def f2(x):\n",
    "    return x*x*x\n",
    "\n",
    "def g(func):\n",
    "    return [func(x) for x in range(-10, 10)]\n",
    "#함수 g 호출하는데 인자로 함수가 들어감 -10, -9, -8, ..., 7, 8, 9\n",
    "\n",
    "print g(f1)\n",
    "print g(f2)"
   ]
  },
  {
   "cell_type": "code",
   "execution_count": 8,
   "metadata": {
    "collapsed": false
   },
   "outputs": [
    {
     "name": "stdout",
     "output_type": "stream",
     "text": [
      "[60, 44, 30, 18, 8, 0, -6, -10, -12, -12, -10, -6, 0, 8, 18, 30, 44, 60, 78, 98]\n",
      "[-1000, -729, -512, -343, -216, -125, -64, -27, -8, -1, 0, 1, 8, 27, 64, 125, 216, 343, 512, 729]\n"
     ]
    }
   ],
   "source": [
    "#위와 같은 예제를 람다함수로 만들어준 것\n",
    "def g(func):\n",
    "    return [func(x) for x in range(-10, 10)]\n",
    "\n",
    "print g(lambda x: x*x + 3*x - 10)\n",
    "#func에 한줄짜리 람다함수가 그대로 들어감\n",
    "print g(lambda x: x*x*x)\n",
    "\n",
    "#정상적인 함수를 미리 구현 X->함수를 호출하는 순간 함수를 정의"
   ]
  },
  {
   "cell_type": "code",
   "execution_count": 1,
   "metadata": {
    "collapsed": false
   },
   "outputs": [
    {
     "name": "stdout",
     "output_type": "stream",
     "text": [
      "0. add\n",
      "1. sub\n",
      "2. mul\n",
      "3. div\n",
      "4. quit\n",
      "Select menu:5\n",
      "0. add\n",
      "1. sub\n",
      "2. mul\n",
      "3. div\n",
      "4. quit\n",
      "Select menu:0\n",
      "First operand:10\n",
      "Second operand:20\n",
      "Result = 30\n",
      "0. add\n",
      "1. sub\n",
      "2. mul\n",
      "3. div\n",
      "4. quit\n",
      "Select menu:4\n"
     ]
    }
   ],
   "source": [
    "#리스트의 원소가 람다함수로 들어감\n",
    "#더하기, 빼기, 곱하기, 나누기에 해당하는 람다 함수 리스트 정의\n",
    "func = [lambda x, y: x + y, lambda x, y: x - y, \\\n",
    "        lambda x, y: x * y, lambda x, y: x / y]\n",
    "\n",
    "\n",
    "def menu():\n",
    "    print \"0. add\"\n",
    "    print \"1. sub\"\n",
    "    print \"2. mul\"\n",
    "    print \"3. div\"\n",
    "    print \"4. quit\"\n",
    "    return input('Select menu:')\n",
    "\n",
    "while 1:#무한루프,but 중간에 break있어 조건 충족시 무한루프 빠져나옴\n",
    "    sel = menu()                     \n",
    "    if sel < 0 or sel > len(func):\n",
    "        #0보다 작거나 4보다 큰 값은 실행 X\n",
    "        continue\n",
    "    if sel == len(func):\n",
    "        #func의 길이가 4라서 4를 넣으면 break걸려 빠져나오면서 끝남 \n",
    "        break\n",
    "    x = input('First operand:')      \n",
    "    y = input('Second operand:')     \n",
    "    print 'Result =', func[sel](x,y)\n",
    "    #select menu에서 0을 주었으므로 sel에는 0이 이미 들어가 있음\n",
    "    #인덱스 0은 첫번째 인자. 첫번째 람다함수에 x랑 y가 인자로......\n",
    "    #그래서 30이 리턴됨\n",
    "    #리스트의 원소에 람다함수가 들어가고, 검색도 가능함."
   ]
  },
  {
   "cell_type": "markdown",
   "metadata": {},
   "source": [
    "- map, filter, reduce 내장 함수\n",
    "  - 첫번째 인자: function\n",
    "    - 첫번째 일반적으로 람다 함수를 인자로 받는다.\n",
    "  - 두번째 인자: 시퀀스 자료형 (문자열, 리스트, 튜플)"
   ]
  },
  {
   "cell_type": "code",
   "execution_count": 2,
   "metadata": {
    "collapsed": false
   },
   "outputs": [
    {
     "name": "stdout",
     "output_type": "stream",
     "text": [
      "[1, 4, 9, 16, 25]\n"
     ]
    }
   ],
   "source": [
    "def f(x):\n",
    "    return x * x\n",
    "\n",
    "X = [1, 2, 3, 4, 5]\n",
    "Y = map(f, X)#내장함수 map(함수, 시퀀스 자료형)\n",
    "#시퀀스 자료형의 첫 번째 원소를 함수 수행 후 반환되는 것으로......\n",
    "#시퀀스 자료형의 유형에 따라 반환되는 유형 결정\n",
    "#map함수는 쌍을 지어주는것.\n",
    "#x의 원소가 5개이면 수행된 결과도 5개\n",
    "print Y"
   ]
  },
  {
   "cell_type": "code",
   "execution_count": 3,
   "metadata": {
    "collapsed": false
   },
   "outputs": [
    {
     "name": "stdout",
     "output_type": "stream",
     "text": [
      "[1, 4, 9, 16, 25]\n"
     ]
    }
   ],
   "source": [
    "#위 블록에서 map을 사용하지 않을 경우의 코드\n",
    "def f(x):\n",
    "    return x * x\n",
    "\n",
    "X = [1, 2, 3, 4, 5]\n",
    "Y = []\n",
    "for x in X:\n",
    "    y = f(x)\n",
    "    Y.append(y)#하나씩 x를 함수에 대응 후 결과 값을 추가함\n",
    "print Y"
   ]
  },
  {
   "cell_type": "code",
   "execution_count": 4,
   "metadata": {
    "collapsed": false
   },
   "outputs": [
    {
     "name": "stdout",
     "output_type": "stream",
     "text": [
      "[1, 4, 9, 16, 25]\n"
     ]
    }
   ],
   "source": [
    "#map과 람다 함수를 동시에 사용하는 경우 \n",
    "X = [1, 2, 3, 4, 5]\n",
    "print map(lambda x: x * x, X)#map(람다함수, 시퀀스 자료형)\n",
    "#map과 람다함수는 궁합이 잘 맞음\n",
    "#원소로 들어오는 함수가 map에서만 쓰이고 다른데는 잘 안쓰이는 경우가 많음"
   ]
  },
  {
   "cell_type": "code",
   "execution_count": 5,
   "metadata": {
    "collapsed": false
   },
   "outputs": [
    {
     "name": "stdout",
     "output_type": "stream",
     "text": [
      "[5, 10, 17, 26, 37, 50, 65, 82, 101, 122]\n"
     ]
    }
   ],
   "source": [
    "Y = map(lambda x: x * x + 4 * x + 5, range(10))\n",
    "#0~9를 집어넣어 나오는 값......\n",
    "print Y"
   ]
  },
  {
   "cell_type": "code",
   "execution_count": 6,
   "metadata": {
    "collapsed": false
   },
   "outputs": [
    {
     "name": "stdout",
     "output_type": "stream",
     "text": [
      "[5, 6, 11]\n"
     ]
    }
   ],
   "source": [
    "y = map(lambda x: len(x), [\"Hello\", \"Python\", \"Programming\"])\n",
    "#두번째 인자의 자료형이 리스트이므로 결과 값도 리스트\n",
    "#리스트의 원소가 3개 이므로 결과 값의 원소도 3개\n",
    "print y"
   ]
  },
  {
   "cell_type": "code",
   "execution_count": 7,
   "metadata": {
    "collapsed": false
   },
   "outputs": [
    {
     "name": "stdout",
     "output_type": "stream",
     "text": [
      "[3, 34]\n"
     ]
    }
   ],
   "source": [
    "print filter(lambda x: x > 2, [1, 2, 3, 34])\n",
    "#두번째 인자의 자료형이 리스트이므로 결과 값도 리스트\n",
    "#필터함수->조건에 따라 값을 걸러냄\n",
    "#첫번째 함수의 조건을 충족하는 값만 반환"
   ]
  },
  {
   "cell_type": "code",
   "execution_count": 8,
   "metadata": {
    "collapsed": false
   },
   "outputs": [
    {
     "name": "stdout",
     "output_type": "stream",
     "text": [
      "[3, 34]\n"
     ]
    }
   ],
   "source": [
    "#위 블럭을 필터 없이 한 것\n",
    "y = []\n",
    "for x in [1, 2, 3, 34]:\n",
    "    if x > 2:\n",
    "        y.append(x)\n",
    "print y"
   ]
  },
  {
   "cell_type": "code",
   "execution_count": 9,
   "metadata": {
    "collapsed": false
   },
   "outputs": [
    {
     "name": "stdout",
     "output_type": "stream",
     "text": [
      "[1, 3, 5]\n",
      "[2, 4, 6]\n"
     ]
    }
   ],
   "source": [
    "print filter(lambda x: x % 2, [1, 2, 3, 4, 5, 6])#홀수만 필터링\n",
    "#1%2=나머지가 1 -> true, 2%2=나머지가 0, false\n",
    "\n",
    "print filter(lambda x: x % 2 - 1, [1, 2, 3, 4, 5, 6])#짝수만 필터링\n",
    "#1%2 -1 =나머지가 1 -1 = 0 -> false, 2%2 -1 =나머지가 0 -1 = -1 ->true"
   ]
  },
  {
   "cell_type": "code",
   "execution_count": 10,
   "metadata": {
    "collapsed": false
   },
   "outputs": [
    {
     "name": "stdout",
     "output_type": "stream",
     "text": [
      "[2, 3, 4]\n"
     ]
    }
   ],
   "source": [
    "def F():\n",
    "    x = 1\n",
    "    print filter(lambda a: a > x, range(-5, 5))\n",
    "    \n",
    "F()"
   ]
  },
  {
   "cell_type": "code",
   "execution_count": 11,
   "metadata": {
    "collapsed": false
   },
   "outputs": [
    {
     "name": "stdout",
     "output_type": "stream",
     "text": [
      "[3, 34]\n",
      "(3, 34)\n",
      "ABCDEF\n"
     ]
    }
   ],
   "source": [
    "print filter(lambda x: x > 2, [1, 2, 3, 34])\n",
    "print filter(lambda x: x > 2, (1, 2, 3, 34))\n",
    "#주어진 시퀀스 자료형과 동일한 형태로 결과 반환\n",
    "\n",
    "print filter(lambda x: x < 'a', 'abcABCdefDEF')\n",
    "#아스키코드값이 대문자가 더 작아서...대문자들만 필터링 됨..."
   ]
  },
  {
   "cell_type": "code",
   "execution_count": 12,
   "metadata": {
    "collapsed": false
   },
   "outputs": [
    {
     "name": "stdout",
     "output_type": "stream",
     "text": [
      "15\n"
     ]
    }
   ],
   "source": [
    "#reduce는 값이 하나로 반환됨\n",
    "print reduce(lambda x, y: x + y, [1, 2, 3, 4, 5])\n",
    "#reduce(람다함수, 시퀀스자료형)\\[,initial]=> optional한 부분\n",
    "#reduce는 람다함수의 인자가 반드시 2개여야 함\n",
    "#시퀀스 자료형의 내용이 들어가는 인자는 람다함수의 두번째 인자\n",
    "\n",
    "#x+y수행 시 맨 처음 y에 1이 들어가면 x는 0이 들어감 ->결과 1\n",
    "#y에 2가 들어가면 x는 직전 계산 결과 1+0=1 이 들어감 ->결과 3\n",
    "#y에 3이 들어가면 x는 직전 계산 결과 3이 들어감 ->결과 6\n",
    "#y에 들어가는 값은 시퀀스 자료형의 순서대로 들어감\n",
    "#x에 들어가는 값은 초기에는 0, 그 다음부터는 중간 reduce값이 들어감\n",
    "\n",
    "#이 예제는 결과적으로 1+2+3+4+5에 해당하는 값 출력됨\n",
    "#reduce는 주어진 시퀀스 자료형을 하나의 값으로 축약시키는 것\n",
    "#축약시키는 룰을 람다함수로 정의"
   ]
  },
  {
   "cell_type": "code",
   "execution_count": 13,
   "metadata": {
    "collapsed": false
   },
   "outputs": [
    {
     "name": "stdout",
     "output_type": "stream",
     "text": [
      "115\n"
     ]
    }
   ],
   "source": [
    "#이니셜 값을 할당한 예제\n",
    "print reduce(lambda x, y: x + y, [1, 2, 3, 4, 5], 100)\n",
    "#100은 첫번째 x 값에 들어감. 100+1+2+3+4+5의 값이 출력됨"
   ]
  },
  {
   "cell_type": "code",
   "execution_count": 15,
   "metadata": {
    "collapsed": false
   },
   "outputs": [
    {
     "name": "stdout",
     "output_type": "stream",
     "text": [
      "385\n"
     ]
    }
   ],
   "source": [
    "#1부터 10까지 각 수에 대한 제곱값의 합\n",
    "print reduce(lambda x, y: x + y * y, range(1, 11), 0)\n",
    "#1~10 동안 제곱(y*y)을 구해서 그걸 모두 더해서(x+)... x는 초기값 0"
   ]
  },
  {
   "cell_type": "code",
   "execution_count": 16,
   "metadata": {
    "collapsed": false
   },
   "outputs": [
    {
     "name": "stdout",
     "output_type": "stream",
     "text": [
      "385\n"
     ]
    }
   ],
   "source": [
    "#위 블럭을 reduce없이 나타낸 것\n",
    "x = 0\n",
    "for y in range(1, 11):\n",
    "    x = x + y * y\n",
    "print x\n",
    "#리듀스와 람다를 같이쓰면 코드 양이 현저히 줄어든다"
   ]
  },
  {
   "cell_type": "code",
   "execution_count": 20,
   "metadata": {
    "collapsed": false
   },
   "outputs": [
    {
     "name": "stdout",
     "output_type": "stream",
     "text": [
      "edcba\n"
     ]
    }
   ],
   "source": [
    "#문자열 순서를 뒤집는 예제\n",
    "print reduce(lambda x, y: y + x, 'abcde')\n",
    "#문자열의 각 문자가 람다함수의 두번째 인자에 들어감\n",
    "#x에 들어가는 초기값은 공백문자.(0이 아니고 공백문자임)\n",
    "#처음 결과인 'a'가 두번째 수행의 x에 들어감\n",
    "#두번째 결과인 'ba'가 세번째 수행의 x에 들어감......\n",
    "\n",
    "#reduce함수는 시퀀스 자료형의 내용을 뒤집는 것도 가능"
   ]
  },
  {
   "cell_type": "code",
   "execution_count": 22,
   "metadata": {
    "collapsed": false
   },
   "outputs": [
    {
     "name": "stdout",
     "output_type": "stream",
     "text": [
      "25\n"
     ]
    }
   ],
   "source": [
    "t=[1,2,3,4,5,6,7,8,9]\n",
    "print reduce(lambda x, y: x+y, filter(lambda x: x % 2, t))"
   ]
  },
  {
   "cell_type": "code",
   "execution_count": null,
   "metadata": {
    "collapsed": true
   },
   "outputs": [],
   "source": []
  }
 ],
 "metadata": {
  "kernelspec": {
   "display_name": "Python 2",
   "language": "python",
   "name": "python2"
  },
  "language_info": {
   "codemirror_mode": {
    "name": "ipython",
    "version": 2
   },
   "file_extension": ".py",
   "mimetype": "text/x-python",
   "name": "python",
   "nbconvert_exporter": "python",
   "pygments_lexer": "ipython2",
   "version": "2.7.9"
  }
 },
 "nbformat": 4,
 "nbformat_minor": 0
}
