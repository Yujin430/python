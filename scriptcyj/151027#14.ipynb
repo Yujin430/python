{
 "cells": [
  {
   "cell_type": "code",
   "execution_count": 1,
   "metadata": {
    "collapsed": false
   },
   "outputs": [
    {
     "name": "stdout",
     "output_type": "stream",
     "text": [
      "['.ipynb_checkpoints', '150908#02.ipynb', '150915#03.ipynb', '150915#04.ipynb', '150922#05.ipynb', '150922#06.ipynb', '150928#07.ipynb', '150928#08.ipynb', '151002#09.ipynb', '151002#10.ipynb', '151006#11.ipynb', '151006#12.ipynb', '151027#13.ipynb', '151027#14.ipynb', 'html...\\xbe\\xc6..\\xa4\\xd0.\\xa4\\xd0......ipynb', 'pickle.txt', 'pickle2.txt', 'removeme.txt', 't.txt', 't1.txt', 'Untitled.ipynb']\n",
      "\n",
      "['.git', '.gitignore', '.ipynb_checkpoints', '150910scriptclass practice.ipynb', '150910scriptclass.ipynb', '150917scriptclass.ipynb', '150924scriptclass.ipynb', '151001scriptclass.ipynb', '151008scriptclass.ipynb', '151015scriptclass.ipynb', 'Assignment', 'Homework-1.ipynb', 'ProjectEuler', 'scriptcyj', 'SHINHWA.txt', 'Untitled.ipynb']\n"
     ]
    }
   ],
   "source": [
    "import os\n",
    "#운영체제 안에 파일을 다루는 다양한 메소드가 존재\n",
    "\n",
    "print os.listdir('.')\n",
    "#현재 디렉토리의 파일 목록 얻기\n",
    "#디렉토리에 존재하는 전체내용을 list로 반환\n",
    "#경로명에 .을 써줘서 현재 디렉토리가 됨\n",
    "print\n",
    "#리눅스 콘솔에서 ls해서 나오는 거는 앞에 d가 붙어있으면 폴더 또는 디렉토리임\n",
    "#drwxr-xr-x 에서 d는 폴더, rwx는 디렉토리 소유자가 가지고 있는 읽기 쓰기 실행권한 \n",
    "#디렉토리에서의 실행(x)는 들어갈 수 있다는 거\n",
    "#r-x 그룹에 속한 사람이 이용할 수 있는 권한(읽기, 실행)->그룹은 staff..?\n",
    "#마지막 r-x그룹 외 사람들이 이용할 수 있는 권한(읽기, 실행)\n",
    "\n",
    "\n",
    "print os.listdir('../') \n",
    "#../ -> 현재 디렉토리의 부모 디렉토리의 파일 목록 얻기"
   ]
  },
  {
   "cell_type": "code",
   "execution_count": 2,
   "metadata": {
    "collapsed": false
   },
   "outputs": [
    {
     "name": "stdout",
     "output_type": "stream",
     "text": [
      ".ipynb_checkpoints : Directory\n",
      "150908#02.ipynb : Regular file\n",
      "150915#03.ipynb : Regular file\n",
      "150915#04.ipynb : Regular file\n",
      "150922#05.ipynb : Regular file\n",
      "150922#06.ipynb : Regular file\n",
      "150928#07.ipynb : Regular file\n",
      "150928#08.ipynb : Regular file\n",
      "151002#09.ipynb : Regular file\n",
      "151002#10.ipynb : Regular file\n",
      "151006#11.ipynb : Regular file\n",
      "151006#12.ipynb : Regular file\n",
      "151027#13.ipynb : Regular file\n",
      "151027#14.ipynb : Regular file\n",
      "html...��..��.��......ipynb : Regular file\n",
      "pickle.txt : Regular file\n",
      "pickle2.txt : Regular file\n",
      "removeme.txt : Regular file\n",
      "t.txt : Regular file\n",
      "t1.txt : Regular file\n",
      "Untitled.ipynb : Regular file\n"
     ]
    }
   ],
   "source": [
    "import os\n",
    "def filetype(fpath):\n",
    "    print fpath, ':',\n",
    "    #os.path 객체가 가지는 함수들 이용\n",
    "    #fpath:경로명(디렉토리or파일명)\n",
    "    if os.path.isfile(fpath):#파일이면 true, 아니면 false\n",
    "        print 'Regular file'\n",
    "    if os.path.isdir(fpath):#디렉토리면 true, 아니면 false\n",
    "        print 'Directory'\n",
    "    if os.path.islink(fpath):#링크파일이면 true, 아니면 false\n",
    "        #windows의 바로가기 파일, 리눅스, 맥의 심볼릭링크\n",
    "        print 'Symbolic link'\n",
    "        \n",
    "flist = os.listdir('.')#현재디렉토리파일목록\n",
    "for fname in flist:\n",
    "    filetype(fname)"
   ]
  },
  {
   "cell_type": "code",
   "execution_count": 11,
   "metadata": {
    "collapsed": false
   },
   "outputs": [
    {
     "name": "stdout",
     "output_type": "stream",
     "text": [
      ".ipynb_checkpoints : Exists R W X\n",
      "150908#02.ipynb : Exists R W X\n",
      "150915#03.ipynb : Exists R W X\n",
      "150915#04.ipynb : Exists R W X\n",
      "150922#05.ipynb : Exists R W X\n",
      "150922#06.ipynb : Exists R W X\n",
      "150928#07.ipynb : Exists R W X\n",
      "150928#08.ipynb : Exists R W X\n",
      "151002#09.ipynb : Exists R W X\n",
      "151002#10.ipynb : Exists R W X\n",
      "151006#11.ipynb : Exists R W X\n",
      "151006#12.ipynb : Exists R W X\n",
      "151027#13.ipynb : Exists R W X\n",
      "151027#14.ipynb : Exists R W X\n",
      "html...��..��.��......ipynb : Exists R W X\n",
      "myweb_backup : Exists R W X\n",
      "pickle.txt : Exists R W X\n",
      "pickle2.txt : Exists R W X\n",
      "removeme.txt : Exists R X\n",
      "shinhwa.txt : Exists R W X\n",
      "shinhwa_new.txt : Exists R W X\n",
      "t.txt : Exists R W X\n",
      "t1.txt : Exists R W X\n",
      "temp : Exists R W X\n",
      "temp3 : Exists R W X\n",
      "Untitled Folder : Exists R W X\n",
      "Untitled.ipynb : Exists R W X\n"
     ]
    }
   ],
   "source": [
    "#파일의 허가권\n",
    "import os\n",
    "def fileaccess(fpath):\n",
    "    print fpath, ':',\n",
    "    if os.access(fpath, os.F_OK):#첫번째 인자가 존재하는지 확인\n",
    "        #access는 존재성과 권한을둘다 알아볼 수 있는데,\n",
    "        #os.F_OK라 해줘서 존재성을 테스트 해볼 수 있음 \n",
    "        print 'Exists',\n",
    "    else: \n",
    "        return\n",
    "    if os.access(fpath, os.R_OK):#읽기권한이 있는가\n",
    "        print 'R',\n",
    "    if os.access(fpath, os.W_OK):#쓰기권한이 있는가\n",
    "        print 'W',\n",
    "    if os.access(fpath, os.X_OK):#실행권한이 있는가 \n",
    "        print 'X',\n",
    "    print \n",
    "    \n",
    "flist = os.listdir('.')\n",
    "for fname in flist:\n",
    "    fileaccess(fname)\n",
    "#일반적으로 소유자가 가지고 있는 권한을 테스트하게됨\n",
    "#수업에서는 txt파일이 실행권한이 없다고 나왔는데 ......"
   ]
  },
  {
   "cell_type": "code",
   "execution_count": 10,
   "metadata": {
    "collapsed": false
   },
   "outputs": [],
   "source": [
    "#chmod는 리눅스나 유닉스의 명령어 그대로\n",
    "#파일의 허가권을 변경하는 명령어임\n",
    "import os\n",
    "os.chmod('removeme.txt', 0100) # 리눅스에서의 실행 예\n",
    "#첫번째 7은 소유자의 권한을 조정 1+2+4=7 권한을 다 줌\n",
    "#두번째 7은 소유자의 권한을 조정 1+2+4=7 권한을 다 줌\n",
    "#마지막 7은 그룹 밖의 권한을 조정\n",
    "#r은 1 w는 2 x는 4의 값을 가짐\n",
    "#이거 다른건 어떤식으로 작용하는지 모르겠다"
   ]
  },
  {
   "cell_type": "code",
   "execution_count": 28,
   "metadata": {
    "collapsed": false
   },
   "outputs": [
    {
     "ename": "WindowsError",
     "evalue": "[Error 183] ",
     "output_type": "error",
     "traceback": [
      "\u001b[1;31m---------------------------------------------------------------------------\u001b[0m",
      "\u001b[1;31mWindowsError\u001b[0m                              Traceback (most recent call last)",
      "\u001b[1;32m<ipython-input-28-4b653a4a9b4a>\u001b[0m in \u001b[0;36m<module>\u001b[1;34m()\u001b[0m\n\u001b[0;32m      1\u001b[0m \u001b[1;32mimport\u001b[0m \u001b[0mos\u001b[0m\u001b[1;33m\u001b[0m\u001b[0m\n\u001b[1;32m----> 2\u001b[1;33m \u001b[0mos\u001b[0m\u001b[1;33m.\u001b[0m\u001b[0mrename\u001b[0m\u001b[1;33m(\u001b[0m\u001b[1;34m't.txt'\u001b[0m\u001b[1;33m,\u001b[0m \u001b[1;34m't1.txt'\u001b[0m\u001b[1;33m)\u001b[0m\u001b[1;33m\u001b[0m\u001b[0m\n\u001b[0m\u001b[0;32m      3\u001b[0m \u001b[1;31m#t.txt를 t1.txt로 바꾼다\u001b[0m\u001b[1;33m\u001b[0m\u001b[1;33m\u001b[0m\u001b[0m\n\u001b[0;32m      4\u001b[0m \u001b[1;32mprint\u001b[0m \u001b[0mos\u001b[0m\u001b[1;33m.\u001b[0m\u001b[0maccess\u001b[0m\u001b[1;33m(\u001b[0m\u001b[1;34m't.txt'\u001b[0m\u001b[1;33m,\u001b[0m \u001b[0mos\u001b[0m\u001b[1;33m.\u001b[0m\u001b[0mF_OK\u001b[0m\u001b[1;33m)\u001b[0m\u001b[1;33m\u001b[0m\u001b[0m\n\u001b[0;32m      5\u001b[0m \u001b[1;32mprint\u001b[0m \u001b[0mos\u001b[0m\u001b[1;33m.\u001b[0m\u001b[0maccess\u001b[0m\u001b[1;33m(\u001b[0m\u001b[1;34m't1.txt'\u001b[0m\u001b[1;33m,\u001b[0m \u001b[0mos\u001b[0m\u001b[1;33m.\u001b[0m\u001b[0mF_OK\u001b[0m\u001b[1;33m)\u001b[0m\u001b[1;33m\u001b[0m\u001b[0m\n",
      "\u001b[1;31mWindowsError\u001b[0m: [Error 183] "
     ]
    }
   ],
   "source": [
    "import os\n",
    "os.rename('t.txt', 't1.txt')  \n",
    "#t.txt를 t1.txt로 바꾼다->이미 존재해서 에러가 됨\n",
    "print os.access('t.txt', os.F_OK)\n",
    "print os.access('t1.txt', os.F_OK)"
   ]
  },
  {
   "cell_type": "code",
   "execution_count": 31,
   "metadata": {
    "collapsed": false
   },
   "outputs": [
    {
     "name": "stdout",
     "output_type": "stream",
     "text": [
      "True\n",
      "False\n"
     ]
    }
   ],
   "source": [
    "import os\n",
    "os.rename('t2.txt', 't.txt')  \n",
    "#t.txt를 t1.txt로 바꾼다\n",
    "print os.access('t.txt', os.F_OK)\n",
    "print os.access('t2.txt', os.F_OK)\n",
    "#다른 파일에서 사용해야 하는거 때문에 다시 원래대로 돌려놓은 상태임"
   ]
  },
  {
   "cell_type": "code",
   "execution_count": 35,
   "metadata": {
    "collapsed": false
   },
   "outputs": [
    {
     "name": "stdout",
     "output_type": "stream",
     "text": [
      "False\n"
     ]
    }
   ],
   "source": [
    "import os\n",
    "#파일의 이동\n",
    "os.rename('Untitled Folder/t1.txt','t1.txt')\n",
    "#현재 작업 디렉토리의 t1.txt를 example에 t1.txt이름으로 옮긴다.\n",
    "#파일 이름은 같은데 경로가 다르게 들어가서!!!!!!\n",
    "print os.access('Untitled Folder/t1.txt', os.F_OK)\n",
    "\n",
    "#다른 파일에서 사용해아 해서 원래대로 돌려놓은 상태임"
   ]
  },
  {
   "cell_type": "code",
   "execution_count": 38,
   "metadata": {
    "collapsed": false
   },
   "outputs": [
    {
     "name": "stdout",
     "output_type": "stream",
     "text": [
      "True\n"
     ]
    }
   ],
   "source": [
    "#파일 복사하기는 os모듈에서는 불가능함\n",
    "import os\n",
    "import shutil\n",
    "shutil.copyfile('shinhwa.txt', 'shinhwa_new.txt')\n",
    "print os.access('shinhwa_new.txt', os.F_OK)"
   ]
  },
  {
   "cell_type": "code",
   "execution_count": 40,
   "metadata": {
    "collapsed": false
   },
   "outputs": [
    {
     "name": "stdout",
     "output_type": "stream",
     "text": [
      "C:\\Users\\Yujin\\Documents\\git\\python\\scriptcyj\n",
      "C:\\Users\\Yujin\\Documents\\git\\python\\scriptcyj\\o.txt\n"
     ]
    }
   ],
   "source": [
    "#파일 이름 다루기 ->상대경로를 절대경로로 바꾸기\n",
    "import os\n",
    "print os.getcwd()#현재 디렉토리......\n",
    "print os.path.abspath('o.txt')\n",
    "#o.txt는 상대경로, 상대경로의 기준은 현재 디렉토리\n",
    "#abspath()지정한 파일을 절대 경로로 돌려줌\n",
    "#맥, 리눅스의 절대경로는 항상 슬래쉬(/)로 시작됨.\n",
    "#파일의 존재 유무 관계 없이 상대경로를 덧붙여 절대경로를 만듦.\n",
    "#단순한 문자열 연산!!!!!!"
   ]
  },
  {
   "cell_type": "code",
   "execution_count": 44,
   "metadata": {
    "collapsed": false
   },
   "outputs": [
    {
     "name": "stdout",
     "output_type": "stream",
     "text": [
      "False\n",
      "True\n",
      "True\n",
      "False\n"
     ]
    }
   ],
   "source": [
    "#파일 존재 유무. os.access를 이용해도 되고.\n",
    "f = '/Users/yhhan/git/python-e-learning/sample.txt'\n",
    "print os.path.exists(f)\n",
    "f = '\\Users\\Yujin\\Documents\\git\\python\\scriptcyj\\shinhwa.txt'\n",
    "print os.path.exists(f)\n",
    "print os.path.exists('shinhwa.txt')#현재 디렉토리에 있나 없나\n",
    "print os.path.exists('asdf.txt')#현재 디렉토리에 있나 없나"
   ]
  },
  {
   "cell_type": "code",
   "execution_count": 47,
   "metadata": {
    "collapsed": false
   },
   "outputs": [
    {
     "name": "stdout",
     "output_type": "stream",
     "text": [
      ".\n",
      "..\n",
      "\\\n"
     ]
    }
   ],
   "source": [
    "import os\n",
    "print os.curdir\n",
    "#현재 디렉토리 os가 가지고 있는 현재 디렉토리의 파라미터(기호)확인\n",
    "print os.pardir\n",
    "#부모 디렉토리 os가 가지고 있는 부모 디렉토리의 파라미터(기호)확인\n",
    "print os.sep #seperation의 약자로 디렉토리를 구분하는 기호 확인\n",
    "#os마다 다름...리눅스는 반대방향으로 나올꺼다"
   ]
  },
  {
   "cell_type": "code",
   "execution_count": 53,
   "metadata": {
    "collapsed": false
   },
   "outputs": [
    {
     "name": "stdout",
     "output_type": "stream",
     "text": [
      "shinhwa.txt\n",
      "/Shinhwa/is/the/best_idol\n",
      "('/Shinhwa/is/the/best_idol', 'shinhwa.txt')\n",
      "('', '/Shinhwa/is/the/best_idol/shinhwa.txt')\n",
      "('/Shinhwa/is/the/best_idol/shinhwa', '.txt')\n"
     ]
    }
   ],
   "source": [
    "f = '/Shinhwa/is/the/best_idol/shinhwa.txt'\n",
    "#파일의 존재 유무와는 상관이 없음!!!!!!\n",
    "print os.path.basename(f)#파일명만 추출\n",
    "print os.path.dirname(f)#디렉토리 경로 추출\n",
    "print os.path.split(f)#basename과 dirname을 한꺼번에 튜플로 확인\n",
    "#처음꺼는 경로명, 두번째꺼는 파일명\n",
    "print os.path.splitdrive(f)\n",
    "#드라이브 명만 따로 추출할 수 있는 거\n",
    "print os.path.splitext(f)\n",
    "#extension의 약자, 확장자가무엇인지!! 분리해줌!!!!!!"
   ]
  },
  {
   "cell_type": "code",
   "execution_count": 54,
   "metadata": {
    "collapsed": false
   },
   "outputs": [
    {
     "name": "stdout",
     "output_type": "stream",
     "text": [
      "C:\\Users\\Yujin\\Documents\\git\\python\\scriptcyj\n",
      "('C:', '\\\\Users\\\\Yujin\\\\Documents\\\\git\\\\python\\\\scriptcyj')\n"
     ]
    }
   ],
   "source": [
    "import os\n",
    "f=os.getcwd()\n",
    "print os.getcwd()#현재 디렉토리......\n",
    "print os.path.splitdrive(f)"
   ]
  },
  {
   "cell_type": "code",
   "execution_count": 55,
   "metadata": {
    "collapsed": false
   },
   "outputs": [
    {
     "name": "stdout",
     "output_type": "stream",
     "text": [
      "C:\\Users\\Yujin\\Documents\\git\\python\\scriptcyj\n"
     ]
    }
   ],
   "source": [
    "import os\n",
    "print os.getcwd()\n",
    "#현재 작업 디렉토리 알아보기"
   ]
  },
  {
   "cell_type": "code",
   "execution_count": 59,
   "metadata": {
    "collapsed": false
   },
   "outputs": [
    {
     "name": "stdout",
     "output_type": "stream",
     "text": [
      "C:\\Users\\Yujin\\Documents\\git\\python\n",
      "C:\\Users\\Yujin\\Documents\\git\\python\\scriptcyj\n"
     ]
    }
   ],
   "source": [
    "import os\n",
    "os.chdir('\\Users\\Yujin\\Documents\\git\\python')#작업 디렉토리 변경 가능\n",
    "print os.getcwd()\n",
    "os.chdir('\\Users\\Yujin\\Documents\\git\\python\\scriptcyj')\n",
    "#다시 원래 작업 디렉토리 변경!\n",
    "print os.getcwd()"
   ]
  },
  {
   "cell_type": "code",
   "execution_count": 68,
   "metadata": {
    "collapsed": false
   },
   "outputs": [
    {
     "name": "stdout",
     "output_type": "stream",
     "text": [
      "False\n",
      "False\n",
      "False\n"
     ]
    }
   ],
   "source": [
    "#디렉토리 만들기 \n",
    "import os\n",
    "\n",
    "os.mkdir('temp')#mkdir은 리눅스에도 있당\n",
    "#권한 안주면 일반적인 디렉토리 권한은 755\n",
    "#0755 기본 모드(rwxr-xr-x)로 만들어짐\n",
    "os.mkdir('temp2', 0700)#권한 모드 설정, 소유자에게 모든 권한 부여 \n",
    "os.mkdir('temp3', 0500)#이거 질문...좀....ㅠㅠㅠㅠㅠㅠ\n",
    "#0700 모드(rwx------)로 만들어짐\n",
    "os.makedirs('temp/level1/level2')\n",
    "#재귀적으로 여러 개의 디렉토리 생성\n",
    "#0755 기본 모드, 중간에 필요한 디렉토리도 모두생성\n",
    "print os.access('\\Users\\Yujin\\Documents\\git\\python\\scriptcyj\\temp', os.F_OK)\n",
    "print os.access('\\Users\\Yujin\\Documents\\git\\python\\scriptcyj\\temp2', os.F_OK)\n",
    "print os.access('\\Users\\Yujin\\Documents\\git\\python\\scriptcyj\\temp/level1/level2', os.F_OK)\n"
   ]
  },
  {
   "cell_type": "code",
   "execution_count": 71,
   "metadata": {
    "collapsed": false
   },
   "outputs": [
    {
     "name": "stdout",
     "output_type": "stream",
     "text": [
      "True\n",
      "True\n",
      "True\n"
     ]
    }
   ],
   "source": [
    "import os \n",
    "print os.access('/Users/Yujin/Documents/git/python/scriptcyj/temp', os.F_OK)\n",
    "print os.access('/Users/Yujin/Documents/git/python/scriptcyj/temp2', os.F_OK)\n",
    "print os.access('/Users/Yujin/Documents/git/python/scriptcyj/temp/level1/level2', os.F_OK)"
   ]
  },
  {
   "cell_type": "code",
   "execution_count": 66,
   "metadata": {
    "collapsed": false
   },
   "outputs": [
    {
     "name": "stdout",
     "output_type": "stream",
     "text": [
      ".ipynb_checkpoints : Exists R W X\n",
      "150908#02.ipynb : Exists R W X\n",
      "150915#03.ipynb : Exists R W X\n",
      "150915#04.ipynb : Exists R W X\n",
      "150922#05.ipynb : Exists R W X\n",
      "150922#06.ipynb : Exists R W X\n",
      "150928#07.ipynb : Exists R W X\n",
      "150928#08.ipynb : Exists R W X\n",
      "151002#09.ipynb : Exists R W X\n",
      "151002#10.ipynb : Exists R W X\n",
      "151006#11.ipynb : Exists R W X\n",
      "151006#12.ipynb : Exists R W X\n",
      "151027#13.ipynb : Exists R W X\n",
      "151027#14.ipynb : Exists R W X\n",
      "html...��..��.��......ipynb : Exists R W X\n",
      "pickle.txt : Exists R W X\n",
      "pickle2.txt : Exists R W X\n",
      "removeme.txt : Exists R W X\n",
      "shinhwa.txt : Exists R W X\n",
      "shinhwa_new.txt : Exists R W X\n",
      "t.txt : Exists R W X\n",
      "t1.txt : Exists R W X\n",
      "temp : Exists R W X\n",
      "temp2 : Exists R W X\n",
      "temp3 : Exists R W X\n",
      "Untitled Folder : Exists R W X\n",
      "Untitled.ipynb : Exists R W X\n"
     ]
    }
   ],
   "source": [
    "#파일의 허가권\n",
    "import os\n",
    "def fileaccess(fpath):\n",
    "    print fpath, ':',\n",
    "    if os.access(fpath, os.F_OK):#첫번째 인자가 존재하는지 확인\n",
    "        #access는 존재성과 권한을둘다 알아볼 수 있는데,\n",
    "        #os.F_OK라 해줘서 존재성을 테스트 해볼 수 있음 \n",
    "        print 'Exists',\n",
    "    else: \n",
    "        return\n",
    "    if os.access(fpath, os.R_OK):#읽기권한이 있는가\n",
    "        print 'R',\n",
    "    if os.access(fpath, os.W_OK):#쓰기권한이 있는가\n",
    "        print 'W',\n",
    "    if os.access(fpath, os.X_OK):#실행권한이 있는가 \n",
    "        print 'X',\n",
    "    print \n",
    "    \n",
    "flist = os.listdir('.')\n",
    "for fname in flist:\n",
    "    fileaccess(fname)\n",
    "#일반적으로 소유자가 가지고 있는 권한을 테스트하게됨\n",
    "#수업에서는 txt파일이 실행권한이 없다고 나왔는데 ......"
   ]
  },
  {
   "cell_type": "code",
   "execution_count": 72,
   "metadata": {
    "collapsed": true
   },
   "outputs": [],
   "source": [
    "import os\n",
    "os.rmdir('temp2')#디렉토리에 내용이 없을 때 삭제가능"
   ]
  },
  {
   "cell_type": "code",
   "execution_count": 73,
   "metadata": {
    "collapsed": false
   },
   "outputs": [
    {
     "ename": "WindowsError",
     "evalue": "[Error 145] : 'temp'",
     "output_type": "error",
     "traceback": [
      "\u001b[1;31m---------------------------------------------------------------------------\u001b[0m",
      "\u001b[1;31mWindowsError\u001b[0m                              Traceback (most recent call last)",
      "\u001b[1;32m<ipython-input-73-b59abb6e93e0>\u001b[0m in \u001b[0;36m<module>\u001b[1;34m()\u001b[0m\n\u001b[0;32m      1\u001b[0m \u001b[1;32mimport\u001b[0m \u001b[0mos\u001b[0m\u001b[1;33m\u001b[0m\u001b[0m\n\u001b[1;32m----> 2\u001b[1;33m \u001b[0mos\u001b[0m\u001b[1;33m.\u001b[0m\u001b[0mrmdir\u001b[0m\u001b[1;33m(\u001b[0m\u001b[1;34m'temp'\u001b[0m\u001b[1;33m)\u001b[0m \u001b[1;31m#디렉토리에 다른 파일이 있으면 삭제할 수 없음\u001b[0m\u001b[1;33m\u001b[0m\u001b[0m\n\u001b[0m",
      "\u001b[1;31mWindowsError\u001b[0m: [Error 145] : 'temp'"
     ]
    }
   ],
   "source": [
    "import os\n",
    "os.rmdir('temp')#디렉토리에 다른 파일이 있으면 삭제할 수 없음\n",
    "#OS error 발생"
   ]
  },
  {
   "cell_type": "code",
   "execution_count": 74,
   "metadata": {
    "collapsed": true
   },
   "outputs": [],
   "source": [
    "import os\n",
    "#makedirs와 정 반대! 다단계 디렉토리 삭제 removedirs\n",
    "#맨 오른쪽에 적힌 디렉토리부터 단계별로 삭제함\n",
    "os.removedirs('temp/level1/level2')"
   ]
  },
  {
   "cell_type": "code",
   "execution_count": null,
   "metadata": {
    "collapsed": true
   },
   "outputs": [],
   "source": [
    "import shutil\n",
    "shutil.rmtree('temp')\n",
    "#디렉토리 안 내용까지도 모두 삭제해버림\n",
    "#디렉토리 모양이 나무인데 나무 자체를 모두 삭제해서 rmtree라고 했음\n"
   ]
  },
  {
   "cell_type": "code",
   "execution_count": 75,
   "metadata": {
    "collapsed": true
   },
   "outputs": [],
   "source": [
    "import shutil\n",
    "os.mkdir('temp')        \n",
    "os.mkdir('temp/temp2', 0700)\n",
    "#temp밑에 temp2를 생성\n",
    "shutil.copytree('temp', 'myweb_backup')\n",
    "#copytree(디렉토리, 디렉토리2)디렉토리를 디렉토리 2로 복사\n",
    "#하위 디렉토리가 아무리 복잡해도 copytree는 전부 다 복사"
   ]
  },
  {
   "cell_type": "code",
   "execution_count": 77,
   "metadata": {
    "collapsed": false
   },
   "outputs": [
    {
     "name": "stdout",
     "output_type": "stream",
     "text": [
      "removing C:\\Users\\Yujin\\Documents\\git\\python\\scriptcyj\\untitled.abc\n",
      "removing C:\\Users\\Yujin\\Documents\\git\\python\\scriptcyj\\untitled2.abc\n",
      "removing C:\\Users\\Yujin\\Documents\\git\\python\\scriptcyj\\temp\\temp2\\aaa.abc\n"
     ]
    }
   ],
   "source": [
    "import os\n",
    "#os.chdir('/Users/yhhan/git/python-e-learning')\n",
    "#print os.getcwd()\n",
    "#print\n",
    "#그냥 현재 디렉토리에서 수행해보자!\n",
    "for path, subdirs, files in os.walk(os.getcwd()):\n",
    "    #os.walk(디렉토리)->디렉토리의 모든 하위 디렉토리를 탐색\n",
    "    #총 세개의 값을 반환. path->방문하고 있는 경로의 위치\n",
    "    #subdirs ->현재 방문하고 있는 디렉토리의 하위 디렉토리 목록\n",
    "    #files->현재 방문하고 있는 디렉토리 안 파일 목록\n",
    "    for fname in files:#files의 file들을 들고 for문이 진행됨\n",
    "        if fname.endswith('.abc'):\n",
    "            #여기에 확장자를 써줌!\n",
    "            #fname이 .abc로 끝나는지를 살펴줌\n",
    "            fullpath = os.path.join(path, fname)\n",
    "            #절대 경로(path+fname)\n",
    "            print 'removing', fullpath\n",
    "            os.remove(fullpath)\n",
    "            #다시 os.walk로 올라가서 하위 디렉토리에 대해서도 반복\n",
    "#복잡한 경로(내부 경로)에 있는 파일들도 전부 다 삭제가 되었음."
   ]
  },
  {
   "cell_type": "code",
   "execution_count": 81,
   "metadata": {
    "collapsed": false
   },
   "outputs": [],
   "source": [
    "#실습 문제\n",
    "import os\n",
    "for path, subdirs, files in os.walk(os.getcwd()):\n",
    "        if fname.endswith('.txt'):\n",
    "            fullpath = os.path.join(path, fname)\n",
    "            print fullpath"
   ]
  },
  {
   "cell_type": "code",
   "execution_count": null,
   "metadata": {
    "collapsed": true
   },
   "outputs": [],
   "source": [
    "#실습 문제 답\n",
    "import os\n",
    "for root, dirs, files in os.walk('/'):\n",
    "for fname in files:\n",
    "    if os.path.splitext(fname)[1] == '.py':\n",
    "        fullpath = os.path.join(root, fname)\n",
    "        print fullpath"
   ]
  }
 ],
 "metadata": {
  "kernelspec": {
   "display_name": "Python 2",
   "language": "python",
   "name": "python2"
  },
  "language_info": {
   "codemirror_mode": {
    "name": "ipython",
    "version": 2
   },
   "file_extension": ".py",
   "mimetype": "text/x-python",
   "name": "python",
   "nbconvert_exporter": "python",
   "pygments_lexer": "ipython2",
   "version": "2.7.9"
  }
 },
 "nbformat": 4,
 "nbformat_minor": 0
}
