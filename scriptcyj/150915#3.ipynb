{
 "cells": [
  {
   "cell_type": "code",
   "execution_count": 1,
   "metadata": {
    "collapsed": false
   },
   "outputs": [
    {
     "name": "stdout",
     "output_type": "stream",
     "text": [
      "<type 'int'> <type 'int'> <type 'int'>\n",
      "23 19 35\n"
     ]
    }
   ],
   "source": [
    "a=23\n",
    "b=023#8진정수 \n",
    "c=0x23#16진 정수\n",
    "print type(a),type(b),type(c)\n",
    "print a,b,c"
   ]
  },
  {
   "cell_type": "code",
   "execution_count": 3,
   "metadata": {
    "collapsed": false
   },
   "outputs": [
    {
     "name": "stdout",
     "output_type": "stream",
     "text": [
      "2147483647\n"
     ]
    }
   ],
   "source": [
    "import sys\n",
    "print sys.maxint"
   ]
  },
  {
   "cell_type": "code",
   "execution_count": 4,
   "metadata": {
    "collapsed": false
   },
   "outputs": [
    {
     "name": "stdout",
     "output_type": "stream",
     "text": [
      "<type 'float'> <type 'float'> <type 'float'>\n",
      "1.2 3500.0 -2e-05\n"
     ]
    }
   ],
   "source": [
    "a=1.2\n",
    "b=3.5e3\n",
    "c=-0.2e-4\n",
    "print type(a),type(b),type(c)\n",
    "print a, b, c"
   ]
  },
  {
   "cell_type": "code",
   "execution_count": 6,
   "metadata": {
    "collapsed": false
   },
   "outputs": [
    {
     "name": "stdout",
     "output_type": "stream",
     "text": [
      "<type 'long'> <type 'long'>\n",
      "15241578755123934288838485347144976\n",
      "399213355129243062663525740346200556304494191949828208547144976\n",
      "<type 'long'>\n",
      "<type 'int'>\n"
     ]
    },
    {
     "data": {
      "text/plain": [
       "12345678128371928730182730918273089127312L"
      ]
     },
     "execution_count": 6,
     "metadata": {},
     "output_type": "execute_result"
    }
   ],
   "source": [
    "h1=123456789019980324L\n",
    "h2=19980324199803241998032419980324\n",
    "#마지막에 L을 붙여서 명시적으로 long이라고 알려도 되고\n",
    "#L을 붙이지 않아도 int형이 담을 수 있는 수치를 초과하면 자동 long\n",
    "print type(h1), type(h2)\n",
    "print h1*h1\n",
    "print h2*h2\n",
    "h3=123L\n",
    "print type(h3)\n",
    "h4=123\n",
    "print type(h4)\n",
    "12345678128371928730182730918273089127312\n",
    "#자동으로 long형으로 출력되는 것은 ipython notebook에서만!(원래는 출력까진 X)"
   ]
  },
  {
   "cell_type": "code",
   "execution_count": 7,
   "metadata": {
    "collapsed": false
   },
   "outputs": [
    {
     "name": "stdout",
     "output_type": "stream",
     "text": [
      "(10+20j)\n",
      "(20+24j)\n"
     ]
    }
   ],
   "source": [
    "a=10+20j\n",
    "print a\n",
    "b=10+4j\n",
    "print a+b"
   ]
  },
  {
   "cell_type": "code",
   "execution_count": 9,
   "metadata": {
    "collapsed": false
   },
   "outputs": [
    {
     "name": "stdout",
     "output_type": "stream",
     "text": [
      "3\n",
      "3\n",
      "-3\n",
      "-3\n",
      "3\n",
      "3\n",
      "5.0\n",
      "(3.4+5j)\n",
      "(6+0j)\n"
     ]
    }
   ],
   "source": [
    "print abs(-3)\n",
    "print int(3.141592)\n",
    "print int(-3.1415)\n",
    "print int(-3.9999999)\n",
    "print int(3.99999)\n",
    "print long(3)\n",
    "print float(5)\n",
    "print complex(3.4, 5)\n",
    "print complex(6)"
   ]
  },
  {
   "cell_type": "code",
   "execution_count": 10,
   "metadata": {
    "collapsed": false
   },
   "outputs": [
    {
     "name": "stdout",
     "output_type": "stream",
     "text": [
      "(2, 1)\n",
      "\n",
      "8\n",
      "18.4521691056\n"
     ]
    }
   ],
   "source": [
    "print divmod(5, 2)\n",
    "print\n",
    "print pow(2, 3)\n",
    "print pow(2.3, 3.5)"
   ]
  },
  {
   "cell_type": "code",
   "execution_count": 13,
   "metadata": {
    "collapsed": false
   },
   "outputs": [
    {
     "name": "stdout",
     "output_type": "stream",
     "text": [
      "3.14159265359\n",
      "2.71828182846\n",
      "0.841470984808\n",
      "1.41421356237\n"
     ]
    }
   ],
   "source": [
    "import math\n",
    "\n",
    "print math.pi\n",
    "print math.e\n",
    "print math.sin(1.0) # 1.0 라디안에 대한 사인 값\n",
    "print math.sqrt(2) # 제곱근\n",
    "\n",
    "dir(math)\n",
    "math.acos?"
   ]
  },
  {
   "cell_type": "code",
   "execution_count": 14,
   "metadata": {
    "collapsed": false
   },
   "outputs": [
    {
     "name": "stdout",
     "output_type": "stream",
     "text": [
      "0.866025403784 0.5 1.73205080757\n"
     ]
    }
   ],
   "source": [
    "r = 5.0 # 반지름\n",
    "a = math.pi * r * r # 면적\n",
    "\n",
    "degree = 60.0\n",
    "rad = math.pi * degree / 180.0 # 각도를 라디안으로 변환\n",
    "print math.sin(rad), math.cos(rad), math.tan(rad) #sin, cos, tan"
   ]
  },
  {
   "cell_type": "code",
   "execution_count": 17,
   "metadata": {
    "collapsed": false
   },
   "outputs": [
    {
     "name": "stdout",
     "output_type": "stream",
     "text": [
      "Hello World!\n",
      "Hello World!\n",
      "Hello \"World\"\n",
      "Hello 'World'\n"
     ]
    }
   ],
   "source": [
    "print 'Hello World!'\n",
    "print \"Hello World!\"\n",
    "print 'Hello \"World\"'\n",
    "print \"Hello 'World'\"\n",
    "#따옴표 별로 차이는 없음!!!!!"
   ]
  },
  {
   "cell_type": "code",
   "execution_count": 19,
   "metadata": {
    "collapsed": false
   },
   "outputs": [
    {
     "name": "stdout",
     "output_type": "stream",
     "text": [
      "\n",
      "너라는 solar system 안에 나는 shooting star\n",
      "끌려가 거부할 수 없는 black hole\n",
      "It's automatic systematic in this universe\n",
      "네게 이끌려가 거부할 수 없는 black hole\n",
      "\n",
      "\n",
      "I got to love you no one else above you\n",
      "24/7 I always thinkin' of you\n",
      "날개를 펼쳐 구름 위로 더 높이 올라가 hihger baby\n",
      "let's fly, touch the sky\n",
      "no doubt that you're one of a kind\n",
      "Now let's ride to the moon\n",
      "We can own the night\n",
      "니 맘을 다 비워버리고 I'll blow your mind\n",
      "\n"
     ]
    }
   ],
   "source": [
    "multiline = '''\n",
    "너라는 solar system 안에 나는 shooting star\n",
    "끌려가 거부할 수 없는 black hole\n",
    "It's automatic systematic in this universe\n",
    "네게 이끌려가 거부할 수 없는 black hole\n",
    "'''\n",
    "print multiline\n",
    "\n",
    "multiline2 = \"\"\"\n",
    "I got to love you no one else above you\n",
    "24/7 I always thinkin' of you\n",
    "날개를 펼쳐 구름 위로 더 높이 올라가 hihger baby\n",
    "let's fly, touch the sky\n",
    "no doubt that you're one of a kind\n",
    "Now let's ride to the moon\n",
    "We can own the night\n",
    "니 맘을 다 비워버리고 I'll blow your mind\n",
    "\"\"\"\n",
    "print multiline2"
   ]
  },
  {
   "cell_type": "code",
   "execution_count": 21,
   "metadata": {
    "collapsed": false
   },
   "outputs": [
    {
     "name": "stdout",
     "output_type": "stream",
     "text": [
      "H\n",
      "e\n",
      "!\n",
      "!\n",
      "d\n"
     ]
    }
   ],
   "source": [
    "s = \"Hello world!\"\n",
    "print s[0]\n",
    "print s[1]\n",
    "print s[11]\n",
    "print s[-1]\n",
    "print s[-2]"
   ]
  },
  {
   "cell_type": "code",
   "execution_count": 24,
   "metadata": {
    "collapsed": false
   },
   "outputs": [
    {
     "name": "stdout",
     "output_type": "stream",
     "text": [
      "el\n",
      "ll\n",
      "Hello\n"
     ]
    }
   ],
   "source": [
    "s = \"Hello world!\"\n",
    "print s[1:3]\n",
    "print s[2:11:7]\n",
    "print s[0:5]"
   ]
  },
  {
   "cell_type": "code",
   "execution_count": 36,
   "metadata": {
    "collapsed": false
   },
   "outputs": [
    {
     "name": "stdout",
     "output_type": "stream",
     "text": [
      "ello\n",
      "Hel\n",
      "Hello\n",
      "SHINHWA\n",
      "SHINHWA\n"
     ]
    }
   ],
   "source": [
    "s = 'Hello'\n",
    "print s[1:]\n",
    "print s[:3]\n",
    "print s[:]\n",
    "s= 'aaaaSaaaaHaaaaIaaaaNaaaaHaaaaWaaaaAaaaaSHINHWA'\n",
    "print s[4:-8:5]\n",
    "print s[-7::]\n",
    "#문자열 자료형은 변경 불가 "
   ]
  },
  {
   "cell_type": "code",
   "execution_count": 37,
   "metadata": {
    "collapsed": false
   },
   "outputs": [
    {
     "data": {
      "text/plain": [
       "'hello World'"
      ]
     },
     "execution_count": 37,
     "metadata": {},
     "output_type": "execute_result"
    }
   ],
   "source": [
    "s = 'Hello World'\n",
    "s = 'h' + s[1:]\n",
    "s"
   ]
  },
  {
   "cell_type": "code",
   "execution_count": 38,
   "metadata": {
    "collapsed": false
   },
   "outputs": [
    {
     "name": "stdout",
     "output_type": "stream",
     "text": [
      "HelloWorld\n",
      "HelloHelloHello\n",
      "------------------------------------------------------------\n"
     ]
    }
   ],
   "source": [
    "print 'Hello' + '' + 'World'\n",
    "print 'Hello' * 3\n",
    "print '-' * 60"
   ]
  },
  {
   "cell_type": "code",
   "execution_count": 39,
   "metadata": {
    "collapsed": false
   },
   "outputs": [
    {
     "data": {
      "text/plain": [
       "11"
      ]
     },
     "execution_count": 39,
     "metadata": {},
     "output_type": "execute_result"
    }
   ],
   "source": [
    "s = 'Hello World'\n",
    "len(s)"
   ]
  },
  {
   "cell_type": "code",
   "execution_count": 40,
   "metadata": {
    "collapsed": false
   },
   "outputs": [
    {
     "data": {
      "text/plain": [
       "45"
      ]
     },
     "execution_count": 40,
     "metadata": {},
     "output_type": "execute_result"
    }
   ],
   "source": [
    "len(dir(math))"
   ]
  },
  {
   "cell_type": "code",
   "execution_count": 41,
   "metadata": {
    "collapsed": false
   },
   "outputs": [
    {
     "name": "stdout",
     "output_type": "stream",
     "text": [
      "True\n",
      "False\n"
     ]
    }
   ],
   "source": [
    "s = 'Hello World'\n",
    "print 'World' in s\n",
    "print 'World' not in s"
   ]
  }
 ],
 "metadata": {
  "kernelspec": {
   "display_name": "Python 2",
   "language": "python",
   "name": "python2"
  },
  "language_info": {
   "codemirror_mode": {
    "name": "ipython",
    "version": 2
   },
   "file_extension": ".py",
   "mimetype": "text/x-python",
   "name": "python",
   "nbconvert_exporter": "python",
   "pygments_lexer": "ipython2",
   "version": "2.7.9"
  }
 },
 "nbformat": 4,
 "nbformat_minor": 0
}
