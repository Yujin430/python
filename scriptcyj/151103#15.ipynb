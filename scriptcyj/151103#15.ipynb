{
 "cells": [
  {
   "cell_type": "markdown",
   "metadata": {},
   "source": [
    "- 함수: 여러 개의 Statement들을 하나로 묶은 단위\n",
    "- 함수 사용의 장점\n",
    "  - 반복적인 수행이 가능하다\n",
    "  - 코드를 논리적으로 이해하는 데 도움을 준다\n",
    "  - 코드의 일정 부분을 별도의 논리적 개념으로 독립화할 수 있음\n",
    "  - 수학에서 복잡한 개념을 하나의 단순한 기호로 대치하는 것과 비슷"
   ]
  },
  {
   "cell_type": "code",
   "execution_count": 1,
   "metadata": {
    "collapsed": false
   },
   "outputs": [
    {
     "name": "stdout",
     "output_type": "stream",
     "text": [
      "3\n",
      "\n",
      "4\n",
      "4\n"
     ]
    }
   ],
   "source": [
    "def add(a, b):\n",
    "    return a+b\n",
    "\n",
    "print add(1, 2)\n",
    "print\n",
    "\n",
    "def myabs(x):\n",
    "    if x < 0 : \n",
    "        x = -x\n",
    "    return x\n",
    "\n",
    "print abs(-4)#파이썬에 기본적으로 내장되어있는 함수 \n",
    "print myabs(-4)"
   ]
  },
  {
   "cell_type": "code",
   "execution_count": 4,
   "metadata": {
    "collapsed": false
   },
   "outputs": [
    {
     "name": "stdout",
     "output_type": "stream",
     "text": [
      "<function add at 0x0000000003652AC8>\n",
      "40\n",
      "9\n",
      "<function add at 0x0000000003652AC8>\n",
      "<function add at 0x0000000003652AC8>\n",
      "True\n"
     ]
    }
   ],
   "source": [
    "def add(a, b):\n",
    "    return a + b\n",
    "\n",
    "print add #add는 함수를 나타내는 식별자\n",
    "#at 뒤는 함수가 정의되어 있는 위치임.\n",
    "\n",
    "#파이썬에서 함수는 객체이므로 add에는 함수 객체의 레퍼런스가 있음\n",
    "\n",
    "c=add(10,30)\n",
    "print c\n",
    "\n",
    "f=add#add의 참조값이 f에 복사됨\n",
    "print f(4,5)\n",
    "\n",
    "print add\n",
    "print f\n",
    "print f is add#두 객체가 가리키는 것이 같음"
   ]
  },
  {
   "cell_type": "code",
   "execution_count": 5,
   "metadata": {
    "collapsed": true
   },
   "outputs": [],
   "source": [
    "def simpleFunction():\n",
    "    pass#함수 내용 없어도 이건 적어야 됨\n",
    "    #아무것도 수행하지 않고 지나가겠다는 의미\n",
    "simpleFunction()\n",
    "#함수를 정의할때는 인자가 없어도()를 꼭 써주고.\n",
    "#콜론을 써서 아래에 새로운 블록 형성"
   ]
  },
  {
   "cell_type": "code",
   "execution_count": 6,
   "metadata": {
    "collapsed": false
   },
   "outputs": [
    {
     "name": "stdout",
     "output_type": "stream",
     "text": [
      "['hwang', 'lee', 'park', 'youn', 'jo']\n"
     ]
    }
   ],
   "source": [
    "def addmember(members, newmember):\n",
    "    #members는 리스트 newmember는 문자열 객체\n",
    "    if newmember not in members:#기존 멤버가 아니면\n",
    "        members.append(newmember)#append로 추가\n",
    "\n",
    "members = ['hwang', 'lee', 'park', 'youn']  \n",
    "#리스트에 초기 멤버 설정\n",
    "\n",
    "addmember(members, 'jo')#members의 변수 값 자체가 전달됨\n",
    "#새로운 멤버 추가(if문 True들어감)\n",
    "#members의 객체를 가리키는 참조값 때문에 addmember안 members도\n",
    "#동일한 리스트를 가리킴\n",
    "\n",
    "addmember(members, 'hwang') \n",
    "#(이미 존재하는) 새로운 멤버 추가 (if 가 False)\n",
    "\n",
    "print members"
   ]
  },
  {
   "cell_type": "markdown",
   "metadata": {},
   "source": [
    "- 파이썬에서의 인수값 전달 방법\n",
    "  - 기본적으로 값에 의한 호출(Call-by-Value)\n",
    "    - t : 내용적으로는 call by reference가 됨\n",
    "  - 하지만 변수에 저장된 값이 참조값(Reference)이므로 실제로는 참조에 의한 호출(Call-by-Reference)로 실행됨\n",
    "- 함수 인자에 변경불가능(Immutable) 객체인 숫자값을 전달\n",
    "  - 함수 내에서 다른 숫자값으로 치환 --> 의미 없는 인자 전달"
   ]
  },
  {
   "cell_type": "code",
   "execution_count": 7,
   "metadata": {
    "collapsed": false
   },
   "outputs": [
    {
     "name": "stdout",
     "output_type": "stream",
     "text": [
      "200\n"
     ]
    }
   ],
   "source": [
    "def f1(b):\n",
    "    b = 100\n",
    "\n",
    "a = 200#a변수는 200 객체의 레퍼런스 값을 가짐\n",
    "f1(a)\n",
    "#함수 호출 시 레퍼런스 값이 b에 카피->call by value\n",
    "#안의 내용 자체가 200을 가리키는 레퍼런스 이므로 b도 200을 가리킴\n",
    "print a"
   ]
  },
  {
   "cell_type": "code",
   "execution_count": 8,
   "metadata": {
    "collapsed": false
   },
   "outputs": [
    {
     "name": "stdout",
     "output_type": "stream",
     "text": [
      "def\n"
     ]
    }
   ],
   "source": [
    "def f2(b):\n",
    "    b = \"abc\"\n",
    "    #b[0]='s' -> 에러\n",
    "a = \"def\"#a와 b모두 문자열을 가리키며 레퍼런스 값을 가짐\n",
    "#문자열은 변경 불가능한 자료형\n",
    "f2(a)\n",
    "print a"
   ]
  },
  {
   "cell_type": "code",
   "execution_count": 9,
   "metadata": {
    "collapsed": false
   },
   "outputs": [
    {
     "name": "stdout",
     "output_type": "stream",
     "text": [
      "(4, 5, 6)\n"
     ]
    }
   ],
   "source": [
    "def f3(b):\n",
    "    #a의 레퍼런스 값이 b에 전달됨\n",
    "    b = (1,2,3)\n",
    "\n",
    "a = (4,5,6)\n",
    "f3(a)\n",
    "print a\n",
    "#얘도 여태까지와 같은 맥락"
   ]
  },
  {
   "cell_type": "code",
   "execution_count": 10,
   "metadata": {
    "collapsed": false
   },
   "outputs": [
    {
     "name": "stdout",
     "output_type": "stream",
     "text": [
      "[4, 10, 6]\n"
     ]
    }
   ],
   "source": [
    "def f4(b):\n",
    "    b[1] = 10\n",
    "\n",
    "a = [4,5,6]\n",
    "f4(a)\n",
    "print a\n",
    "#에러 없이 실행 됨\n",
    "#리스트는 변경 가능한 자료형\n",
    "#함수에 인자 전달 시 리스트로 전달하는 경유가 많음"
   ]
  },
  {
   "cell_type": "code",
   "execution_count": 11,
   "metadata": {
    "collapsed": false
   },
   "outputs": [
    {
     "name": "stdout",
     "output_type": "stream",
     "text": [
      "{'a': 10, 'b': 2}\n"
     ]
    }
   ],
   "source": [
    "def f5(b):\n",
    "    b['a'] = 10#키검색을 통해서\n",
    "\n",
    "a = {\"a\":1, \"b\":2}\n",
    "f5(a)\n",
    "print a\n",
    "#리스트나 사전처럼 변경 가능한 것이 함수 인자 전달 시 주로 사용됨"
   ]
  },
  {
   "cell_type": "code",
   "execution_count": 12,
   "metadata": {
    "collapsed": false
   },
   "outputs": [
    {
     "name": "stdout",
     "output_type": "stream",
     "text": [
      "None\n"
     ]
    }
   ],
   "source": [
    "def nothing():\n",
    "    return\n",
    "\n",
    "print nothing()"
   ]
  },
  {
   "cell_type": "code",
   "execution_count": 14,
   "metadata": {
    "collapsed": false
   },
   "outputs": [
    {
     "name": "stdout",
     "output_type": "stream",
     "text": [
      "1. Snack\n",
      "2. Snake\n",
      "3. Snick\n",
      "\n",
      "1. Snack\n",
      "2. Snake\n",
      "3. Snick\n",
      "None\n"
     ]
    }
   ],
   "source": [
    "def print_menu():\n",
    "    print '1. Snack'\n",
    "    print '2. Snake'\n",
    "    print '3. Snick'\n",
    "    #return을 쓴것 == 아무것도 안쓴 것\n",
    "print_menu()\n",
    "print\n",
    "a=print_menu()\n",
    "print a"
   ]
  },
  {
   "cell_type": "code",
   "execution_count": 15,
   "metadata": {
    "collapsed": false
   },
   "outputs": [
    {
     "name": "stdout",
     "output_type": "stream",
     "text": [
      "10\n"
     ]
    }
   ],
   "source": [
    "def myabs(x):#abs는 내장함수로 존재하므로 가급적 사용X\n",
    "    if x < 0 : return -x#문장이 하나면 콜론 뒤에 바로 적어도 됨\n",
    "    return x\n",
    "\n",
    "print myabs(-10)"
   ]
  },
  {
   "cell_type": "code",
   "execution_count": 17,
   "metadata": {
    "collapsed": false
   },
   "outputs": [
    {
     "name": "stdout",
     "output_type": "stream",
     "text": [
      "10 20\n",
      "\n",
      "20 10\n",
      "\n",
      "20 10\n"
     ]
    }
   ],
   "source": [
    "def swap(x, y):\n",
    "    return y, x#튜플로 리턴된다.\n",
    "#콤마를 이용해서 하나 이상의 값을 반환 가능->하나의 튜플로.ㅊ\n",
    "\n",
    "a = 10\n",
    "b = 20\n",
    "print a, b\n",
    "print \n",
    "\n",
    "a, b = swap(a, b)#결과적으로 a, b = b, a와 동일\n",
    "print a, b\n",
    "print\n",
    "\n",
    "a = 10\n",
    "b = 20\n",
    "x = swap(a, b)\n",
    "print x[0], x[1]#인덱싱 연산으로 처리 가능\n",
    "#하나의 이름으로 튜플을 받아서 처리할 수 도있다."
   ]
  },
  {
   "cell_type": "code",
   "execution_count": 18,
   "metadata": {
    "collapsed": false
   },
   "outputs": [
    {
     "name": "stdout",
     "output_type": "stream",
     "text": [
      "[6, 5, 7, 5]\n"
     ]
    }
   ],
   "source": [
    "def length_list(l):\n",
    "    res = []\n",
    "    for el in l:\n",
    "        res.append(len(el))\n",
    "        #len은 내장함수로 el에 들어있는 각 문자열의 길이를 반환함.\n",
    "    return res\n",
    "\n",
    "l = ['python', 'pyson', 'pythong', 'pydon']\n",
    "print length_list(l)"
   ]
  },
  {
   "cell_type": "code",
   "execution_count": 19,
   "metadata": {
    "collapsed": false
   },
   "outputs": [
    {
     "name": "stdout",
     "output_type": "stream",
     "text": [
      "[6, 5, 7, 5]\n"
     ]
    }
   ],
   "source": [
    "l = ['python', 'pyson', 'pythong', 'pydon']\n",
    "print [len(s) for s in l]#위에것을 리스트 내포로 나타낸 것\n",
    "#l안에 있는 각 문자열을 가지고 오면서 len 실행"
   ]
  },
  {
   "cell_type": "code",
   "execution_count": 20,
   "metadata": {
    "collapsed": false
   },
   "outputs": [
    {
     "name": "stdout",
     "output_type": "stream",
     "text": [
      "4.4\n",
      "dynamictyping\n",
      "['list', 'and', 'list']\n"
     ]
    }
   ],
   "source": [
    "#동적인 자료형 결정 -> 다이나믹\n",
    "#파이썬은 변수나 인자 상황에 type을 적지 않음\n",
    "def add(a, b):\n",
    "    return a + b\n",
    "\n",
    "c = add(1, 3.4)#값이 실제 정의된 함수에 할당이 될 때 type이 결정됨\n",
    "d = add('dynamic', 'typing')\n",
    "e = add(['list'], ['and', 'list'])\n",
    "print c#수치형\n",
    "print d#문자열연결\n",
    "print e#리스트연결"
   ]
  },
  {
   "cell_type": "code",
   "execution_count": 21,
   "metadata": {
    "collapsed": false
   },
   "outputs": [
    {
     "name": "stdout",
     "output_type": "stream",
     "text": [
      "2\n",
      "12\n"
     ]
    }
   ],
   "source": [
    "def incr(a, step=1):#step에는 기본적으로 인수 값으로 1이 할당됨\n",
    "    return a + step\n",
    "\n",
    "b = 1\n",
    "b = incr(b)#1증가, 여기서 인자 b는 a에 들어감\n",
    "print b\n",
    "\n",
    "b = incr(b, 10)#10증가, 여기서 10은 step에 들어감, 기본인자값 무시됨\n",
    "print b\n",
    "\n",
    "#기본인자 없으면 error발생 왜냐하면 첫 호출때 인자가 하나밖에 없어서."
   ]
  },
  {
   "cell_type": "code",
   "execution_count": 22,
   "metadata": {
    "collapsed": false
   },
   "outputs": [
    {
     "ename": "SyntaxError",
     "evalue": "non-default argument follows default argument (<ipython-input-22-67693752f310>, line 1)",
     "output_type": "error",
     "traceback": [
      "\u001b[1;36m  File \u001b[1;32m\"<ipython-input-22-67693752f310>\"\u001b[1;36m, line \u001b[1;32m1\u001b[0m\n\u001b[1;33m    def incr(step=1, a):\u001b[0m\n\u001b[1;31mSyntaxError\u001b[0m\u001b[1;31m:\u001b[0m non-default argument follows default argument\n"
     ]
    }
   ],
   "source": [
    "def incr(step=1, a):#step=1이라고 정의한것은 뒤에만 올 수 있음\n",
    "    return a + step\n",
    "#디폴트 매개변수는 뒤쪽에 나타나야함. 기본인자는 맨 마지막 뒤에 와야함.\n",
    "#SyntaxError - 문법적 오류\n",
    "#인자가 여러 개일 경우 기본인자 값이 없는 것이 맨 앞 위치"
   ]
  },
  {
   "cell_type": "code",
   "execution_count": 23,
   "metadata": {
    "collapsed": false
   },
   "outputs": [
    {
     "name": "stdout",
     "output_type": "stream",
     "text": [
      "21\n"
     ]
    }
   ],
   "source": [
    "def incr(a, step=1, step2=10):#여러개의 기본 인자 사용 가능\n",
    "    #항상 일반인자가 앞에 위치하기만 하면 됨\n",
    "    return a + step + step2\n",
    "\n",
    "print incr(10)"
   ]
  },
  {
   "cell_type": "code",
   "execution_count": 25,
   "metadata": {
    "collapsed": false
   },
   "outputs": [
    {
     "ename": "SyntaxError",
     "evalue": "non-keyword arg after keyword arg (<ipython-input-25-0bb00d23138c>, line 16)",
     "output_type": "error",
     "traceback": [
      "\u001b[1;36m  File \u001b[1;32m\"<ipython-input-25-0bb00d23138c>\"\u001b[1;36m, line \u001b[1;32m16\u001b[0m\n\u001b[1;33m    area(width=5, 20)#에러가 떠 버림\u001b[0m\n\u001b[1;31mSyntaxError\u001b[0m\u001b[1;31m:\u001b[0m non-keyword arg after keyword arg\n"
     ]
    }
   ],
   "source": [
    "def area(height, width):\n",
    "    return height * width\n",
    "\n",
    "#순서가 아닌 이름으로 값이 전달\n",
    "a = area(height='height string ', width=3)\n",
    "#height에는 문자열, width에는 숫자가 들어감\n",
    "print a\n",
    "\n",
    "b = area(width=20, height=10)\n",
    "#이름으로 값이 들어가면 순서 상관 X\n",
    "print b\n",
    "\n",
    "print area(20, width=5)\n",
    "#width=5가 키워드 인자(정의한 문자를 사용하여 가리킴)\n",
    "#키워드 인자는 기본인자와 마찬가지로 맨 뒤에 위치해야함.\n",
    "area(width=5, 20)#에러가 떠 버림"
   ]
  },
  {
   "cell_type": "code",
   "execution_count": 26,
   "metadata": {
    "collapsed": false
   },
   "outputs": [
    {
     "name": "stdout",
     "output_type": "stream",
     "text": [
      "212\n"
     ]
    }
   ],
   "source": [
    "def incr(a, step=1, step2=10, step3=100):\n",
    "    #step, step2, step3은 기본 인수 존재\n",
    "    return a + step + step2 + step3\n",
    "\n",
    "print incr(10, 2, step2=100)\n",
    "#키워드 인자가 맨 뒤에... step2에는 100을 넣겠다."
   ]
  },
  {
   "cell_type": "code",
   "execution_count": 27,
   "metadata": {
    "collapsed": false
   },
   "outputs": [
    {
     "ename": "SyntaxError",
     "evalue": "non-keyword arg after keyword arg (<ipython-input-27-3dbdc3e84e66>, line 4)",
     "output_type": "error",
     "traceback": [
      "\u001b[1;36m  File \u001b[1;32m\"<ipython-input-27-3dbdc3e84e66>\"\u001b[1;36m, line \u001b[1;32m4\u001b[0m\n\u001b[1;33m    print incr(10, 2, step2=100, 200)\u001b[0m\n\u001b[1;31mSyntaxError\u001b[0m\u001b[1;31m:\u001b[0m non-keyword arg after keyword arg\n"
     ]
    }
   ],
   "source": [
    "def incr(a, step=1, step2=10, step3=100):\n",
    "    return a + step + step2 + step3\n",
    "#키워드 인수 뒤에 일반 인수가 들어가면 에러\n",
    "#키워드 인수는 중간에 위치할 수 없음\n",
    "print incr(10, 2, step2=100, 200)"
   ]
  },
  {
   "cell_type": "code",
   "execution_count": 28,
   "metadata": {
    "collapsed": false
   },
   "outputs": [
    {
     "name": "stdout",
     "output_type": "stream",
     "text": [
      "312\n"
     ]
    }
   ],
   "source": [
    "def incr(a, step=1, step2=10, step3=100):\n",
    "    return a + step + step2 + step3\n",
    "\n",
    "print incr(10, 2, step2=100, step3=200)\n",
    "#위블럭꺼 에러 없애주기 위해서 이렇게 step3도 명시를 해줌."
   ]
  },
  {
   "cell_type": "code",
   "execution_count": 32,
   "metadata": {
    "collapsed": false
   },
   "outputs": [
    {
     "name": "stdout",
     "output_type": "stream",
     "text": [
      "1 ()\n",
      "2 (3,)\n",
      "2 (3, 4, 5, 6)\n"
     ]
    }
   ],
   "source": [
    "#가변인수 처리\n",
    "def varg(a, *arg):#*arg는 가변 인수를 받겠다는 의미임\n",
    "    print a, arg#기본적으로 *arg는 튜플 형태로 반환함\n",
    "\n",
    "varg(1)\n",
    "varg(2,3)#2는 a에 들어가고 3은 arg에 들어감\n",
    "#콤마가 있어야 원소가 하나인 튜플을 반영\n",
    "varg(2,3,4,5,6)#2는 a에 들어가고 3,4,5,6은 arg에 들어감"
   ]
  },
  {
   "cell_type": "code",
   "execution_count": 33,
   "metadata": {
    "collapsed": false
   },
   "outputs": [
    {
     "name": "stdout",
     "output_type": "stream",
     "text": [
      "2 (3, 4, 5, 6)\n",
      "3 4\n"
     ]
    }
   ],
   "source": [
    "#가변인수 처리\n",
    "def varg(a, *arg):#*arg는 가변 인수를 받겠다는 의미임\n",
    "    print a, arg#기본적으로 *arg는 튜플 형태로 반환함\n",
    "    print arg[0],arg[1]#요런식으로 써주는 것도 가능.\n",
    "\n",
    "varg(2,3,4,5,6)#2는 a에 들어가고 3,4,5,6은 arg에 들어감"
   ]
  },
  {
   "cell_type": "code",
   "execution_count": 35,
   "metadata": {
    "collapsed": false
   },
   "outputs": [
    {
     "name": "stdout",
     "output_type": "stream",
     "text": [
      "I've spent 324 days and 529 night to do this\n"
     ]
    }
   ],
   "source": [
    "#가변인수 이용시 C언어의 printf와 유사한 효과 \n",
    "def printf(format, *args):#앞에는 포매팅 문자 있는 문자열.\n",
    "    #6,5가 args에 들어가게 됨\n",
    "    print format % args\n",
    "    #앞에는 포매팅 문자 있는 문자열이 들어가고 뒤에는 튜플이!!!!!!\n",
    "\n",
    "printf(\"I've spent %d days and %d night to do this\", 324, 529)"
   ]
  },
  {
   "cell_type": "code",
   "execution_count": 37,
   "metadata": {
    "collapsed": false
   },
   "outputs": [
    {
     "name": "stdout",
     "output_type": "stream",
     "text": [
      "1 2 3\n",
      "1 2 3\n"
     ]
    }
   ],
   "source": [
    "def h(a, b, c):#평범한 인자\n",
    "    print a,b,c\n",
    "    \n",
    "args = (1, 2, 3)#튜플\n",
    "h(args[0],args[1],args[2])#원래는 이렇게 줬어야 함\n",
    "h(*args)\n",
    "#이게 함수 정의할때 사용하면 가변인수가 되고\n",
    "#함수 호출할때 * 사용하고 뒤에 튜플 붙이면 튜플 전체를 호출할 수 있음"
   ]
  },
  {
   "cell_type": "code",
   "execution_count": 38,
   "metadata": {
    "collapsed": false
   },
   "outputs": [
    {
     "name": "stdout",
     "output_type": "stream",
     "text": [
      "1 2 3\n"
     ]
    }
   ],
   "source": [
    "def h(a, b, c):#평범한 인자\n",
    "    print a,b,c\n",
    "    \n",
    "dargs = {'a':1, 'b':2, 'c':3}\n",
    "h(**dargs)\n",
    "#함수 호출시 ** 사용하고 뒤에 사전을 넣으면 사전 전체 호출 가능\n",
    "#인자의 이름과 식별자가 동일한 키 값을 가져야 함"
   ]
  },
  {
   "cell_type": "code",
   "execution_count": 41,
   "metadata": {
    "collapsed": false
   },
   "outputs": [
    {
     "name": "stdout",
     "output_type": "stream",
     "text": [
      "['shinhwa!', 'is!', 'the!', 'best!', 'idol!']\n"
     ]
    }
   ],
   "source": [
    "def myfunc(t):\n",
    "    l=[]\n",
    "    for i in t:\n",
    "        l.append(i+'!')\n",
    "    return l\n",
    "\n",
    "t=['shinhwa','is','the','best','idol']\n",
    "print myfunc(t)"
   ]
  },
  {
   "cell_type": "code",
   "execution_count": 42,
   "metadata": {
    "collapsed": false
   },
   "outputs": [
    {
     "name": "stdout",
     "output_type": "stream",
     "text": [
      "['Hello!', 'Python!', 'Programming!', 'Language!']\n"
     ]
    }
   ],
   "source": [
    "def myfunc(t):\n",
    "    res = []\n",
    "    for el in t:\n",
    "        res.append(el + '!')\n",
    "    return res\n",
    "l = ['Hello', 'Python', 'Programming', 'Language']\n",
    "print myfunc(l)\n",
    "#위에거랑 뭐가 다르냐"
   ]
  },
  {
   "cell_type": "code",
   "execution_count": null,
   "metadata": {
    "collapsed": true
   },
   "outputs": [],
   "source": []
  }
 ],
 "metadata": {
  "kernelspec": {
   "display_name": "Python 2",
   "language": "python",
   "name": "python2"
  },
  "language_info": {
   "codemirror_mode": {
    "name": "ipython",
    "version": 2
   },
   "file_extension": ".py",
   "mimetype": "text/x-python",
   "name": "python",
   "nbconvert_exporter": "python",
   "pygments_lexer": "ipython2",
   "version": "2.7.9"
  }
 },
 "nbformat": 4,
 "nbformat_minor": 0
}
