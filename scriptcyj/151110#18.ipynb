{
 "cells": [
  {
   "cell_type": "code",
   "execution_count": 2,
   "metadata": {
    "collapsed": false
   },
   "outputs": [
    {
     "name": "stdout",
     "output_type": "stream",
     "text": [
      "78.5\n"
     ]
    }
   ],
   "source": [
    "#<가장 기본적인 import 형태>\n",
    "import mymath\n",
    "print mymath.area(5)#모듈명.함수인자"
   ]
  },
  {
   "cell_type": "code",
   "execution_count": 6,
   "metadata": {
    "collapsed": false
   },
   "outputs": [
    {
     "name": "stdout",
     "output_type": "stream",
     "text": [
      "78.5\n",
      "3.14\n"
     ]
    },
    {
     "ename": "NameError",
     "evalue": "name 'add' is not defined",
     "output_type": "error",
     "traceback": [
      "\u001b[1;31m---------------------------------------------------------------------------\u001b[0m",
      "\u001b[1;31mNameError\u001b[0m                                 Traceback (most recent call last)",
      "\u001b[1;32m<ipython-input-6-1d4762a592a9>\u001b[0m in \u001b[0;36m<module>\u001b[1;34m()\u001b[0m\n\u001b[0;32m     12\u001b[0m \u001b[1;33m\u001b[0m\u001b[0m\n\u001b[0;32m     13\u001b[0m \u001b[1;31m#mymath에는 add 도 있지만 add를 부르지 않았으므로,\u001b[0m\u001b[1;33m\u001b[0m\u001b[1;33m\u001b[0m\u001b[0m\n\u001b[1;32m---> 14\u001b[1;33m \u001b[1;32mprint\u001b[0m \u001b[0madd\u001b[0m\u001b[1;33m(\u001b[0m\u001b[1;36m1\u001b[0m\u001b[1;33m,\u001b[0m\u001b[1;36m10\u001b[0m\u001b[1;33m)\u001b[0m\u001b[1;31m#은 오류\u001b[0m\u001b[1;33m\u001b[0m\u001b[0m\n\u001b[0m",
      "\u001b[1;31mNameError\u001b[0m: name 'add' is not defined"
     ]
    }
   ],
   "source": [
    "mypi=3.14159\n",
    "#<from사용>\n",
    "from mymath import area,mypi\n",
    "#from모듈명 import 이름들 = 모듈명으로부터 \"지정된\" 이름들을 import\n",
    "#현재 이름 공간에 다른이름공간에 있던 함수가 import 됨!!!!!!\n",
    "print area(5)\n",
    "#불러들이면 모듈 이름 없이 직접 사용 가능\n",
    "\n",
    "#import하는 이름들이 기존에 미리 존재하고 있었다면 \n",
    "#그 이름들에 의해 참조되던 기존 객체들은 상실됨\n",
    "print mypi\n",
    "\n",
    "#mymath에는 add 도 있지만 add를 부르지 않았으므로, \n",
    "print add(1,10)#은 오류"
   ]
  },
  {
   "cell_type": "code",
   "execution_count": 7,
   "metadata": {
    "collapsed": false
   },
   "outputs": [
    {
     "name": "stdout",
     "output_type": "stream",
     "text": [
      "11\n"
     ]
    }
   ],
   "source": [
    "# <* 사용>\n",
    "from mymath import *\n",
    "#import 뒤에 *을 주면 앞의 이름공간의 모든 식별자를 import\n",
    "print add(1,10)#제대로 동작"
   ]
  },
  {
   "cell_type": "markdown",
   "metadata": {},
   "source": [
    "- 해당 모듈을 새로운 다른 이름으로 사용하고자 할 때 사용\n",
    "- 기존 모듈 이름이 너무 길거나 현재 사용중인 다름 이름들과 충돌이 일어날 때 유용"
   ]
  },
  {
   "cell_type": "code",
   "execution_count": 8,
   "metadata": {
    "collapsed": false
   },
   "outputs": [
    {
     "name": "stdout",
     "output_type": "stream",
     "text": [
      "<module 'string' from 'C:\\Users\\Yujin\\AppData\\Local\\Enthought\\Canopy\\App\\appdata\\canopy-1.5.5.3123.win-x86_64\\lib\\string.pyc'>\n",
      "\n",
      "!\"#$%&'()*+,-./:;<=>?@[\\]^_`{|}~\n"
     ]
    }
   ],
   "source": [
    "#<import~ as사용>\n",
    "import string as chstr#스트링은 표준 모듈\n",
    "#모듈의 이름이 as뒤 정의한 이름으로 변경됨\n",
    "print chstr\n",
    "#string에 원래 존재하고 있던 폴더 위치, 실제 존재하는 파일까지 알려줌\n",
    "print\n",
    "print chstr.punctuation"
   ]
  },
  {
   "cell_type": "code",
   "execution_count": 10,
   "metadata": {
    "collapsed": false
   },
   "outputs": [
    {
     "name": "stdout",
     "output_type": "stream",
     "text": [
      "abcd\n",
      "abcd\n",
      "3.14\n"
     ]
    }
   ],
   "source": [
    "mymath=\"abcd\"\n",
    "print mymath \n",
    "#import mymath -> 기존의 mymath는 사라지고 새롭게 import된거만 남음\n",
    "import mymath as mym\n",
    "#기존의 mymath는 그대로 남고 모듈은 mym이라는 이름으로 사용가능\n",
    "print mymath\n",
    "print mym.mypi"
   ]
  },
  {
   "cell_type": "code",
   "execution_count": 11,
   "metadata": {
    "collapsed": false
   },
   "outputs": [
    {
     "name": "stdout",
     "output_type": "stream",
     "text": [
      "<function replace at 0x00000000025FBA58>\n",
      "ham egg spam\n"
     ]
    }
   ],
   "source": [
    "#<from~import~as>\n",
    "from string import replace as substitute\n",
    "#string모듈에 있는 replace 함수의 이름을 substitute로 가져옴\n",
    "#from 모듈명 import 함수 as 새로운 이름\n",
    "print substitute#타입 함수, 원래이름 replace\n",
    "print substitute('ham chicken spam', 'chicken', 'egg')"
   ]
  },
  {
   "cell_type": "code",
   "execution_count": 12,
   "metadata": {
    "collapsed": false
   },
   "outputs": [
    {
     "name": "stdout",
     "output_type": "stream",
     "text": [
      "<function upper at 0x00000000025FB048>\n",
      "ABC\n"
     ]
    }
   ],
   "source": [
    "from string import replace as substitute, upper as up\n",
    "#string 모듈의 replace 함수는 substitute라는 이름으로, \n",
    "#string모듈의 upper라는 함수는 up이라는 이름으로\n",
    "print up#타입 : 함수, 원래이름 upper\n",
    "print up('abc')"
   ]
  },
  {
   "cell_type": "code",
   "execution_count": 13,
   "metadata": {
    "collapsed": true
   },
   "outputs": [],
   "source": [
    "#import는 보통의 statement가 사용되는 곳이면 어디서든 사용 가능\n",
    "def str_test(s):\n",
    "    import string#함수 정의 내에서 바로 import문 사용 가능\n",
    "    t = string.split(s)\n",
    "    return t"
   ]
  },
  {
   "cell_type": "code",
   "execution_count": 14,
   "metadata": {
    "collapsed": false
   },
   "outputs": [
    {
     "name": "stdout",
     "output_type": "stream",
     "text": [
      "50.24\n"
     ]
    }
   ],
   "source": [
    "#import가 코드를 가져오기만 하는게 아니라 수행하기도 함.\n",
    "#FILE : mymath.py\n",
    "mypi = 3.14\n",
    "\n",
    "def add(a, b):\n",
    "    return a + b\n",
    "\n",
    "def area(r):\n",
    "    return mypi * r * r\n",
    "\n",
    "print area(4.0)#이걸 추가해줌"
   ]
  },
  {
   "cell_type": "code",
   "execution_count": 2,
   "metadata": {
    "collapsed": false
   },
   "outputs": [
    {
     "name": "stdout",
     "output_type": "stream",
     "text": [
      "50.24\n"
     ]
    }
   ],
   "source": [
    "import mymath\n",
    "#mymath에 수행값이 있으면 가져오기도 함"
   ]
  },
  {
   "cell_type": "markdown",
   "metadata": {
    "collapsed": true
   },
   "source": [
    "- import mymath를 수행할 때 발생하는 일\n",
    "  - t: mymath.py 가 import되는 순간 바이트 코드 같이 생성\n",
    "  - 1) 우선 mymath.pyc를 찾는다.\n",
    "  - 2) mymath.pyc가 없다면 mymath.py를 찾아서 mymath.pyc를 생성한다.\n",
    "  - 3) 생성된 mymath.pyc를 메모리로 읽어들여 수행한다.\n",
    "- .pyc 파일\n",
    "  - 바이트 코드 파일(바이너리 파일도 아니고, 텍스트 파일도 아닌 중간 역할, 문자로 이루어짐)\n",
    "    - 기계나 플랫폼(OS)에 의존하지 않도록 만들어진 일종의 목적 코드 (Object Code)\n",
    "    - 파이썬은 컴파일 언어이면서 동시에 인터프리터 언어의 수행 방식을 취하고 있다.\n",
    "- 새로운 .pyc 생성에 대한 판단(처음 생성 이후에도 차후에 생성될 수 있음)\n",
    "  - .py 수정 시간이 .pyc 수정 시간보다 더 최근일 때\n",
    "- .py가 없이도 .pyc 파일만 있어도 import 가능\n",
    "  - 코드를 숨기는 간단한 기법으로 활용 가능(본래 코드를 지우고 py 없이 pyc만으로도 수행 가능한데, pyc는 내용 확인이 기본적으로 불가능하므로)"
   ]
  },
  {
   "cell_type": "code",
   "execution_count": 3,
   "metadata": {
    "collapsed": false
   },
   "outputs": [
    {
     "name": "stdout",
     "output_type": "stream",
     "text": [
      "<module 'string' from 'C:\\Users\\Yujin\\AppData\\Local\\Enthought\\Canopy\\App\\appdata\\canopy-1.5.5.3123.win-x86_64\\lib\\string.pyc'>\n"
     ]
    }
   ],
   "source": [
    "#모듈이름과 이미 사용하고 있던 이름이 같을 때\n",
    "string = \"My first string\"\n",
    "import string\n",
    "print string\n",
    "#모듈이 출력됨. 기존에 정의한 string은 사라지고 모듈만 남음\n",
    "#표준모듈이름과 같은 이름의 변수명을 사용하는 것은 좋지 않음.\n"
   ]
  },
  {
   "cell_type": "code",
   "execution_count": 4,
   "metadata": {
    "collapsed": false
   },
   "outputs": [
    {
     "name": "stdout",
     "output_type": "stream",
     "text": [
      "My first string\n"
     ]
    }
   ],
   "source": [
    "#import string 후 string을 따로 정의하면 모듈 string사라짐\n",
    "import string\n",
    "string = \"My first string\" \n",
    "#여기서 string이란 이름은 문자열을 참조하게 된다.\n",
    "print string"
   ]
  },
  {
   "cell_type": "code",
   "execution_count": 5,
   "metadata": {
    "collapsed": false
   },
   "outputs": [
    {
     "name": "stdout",
     "output_type": "stream",
     "text": [
      "My first string\n",
      "1\n"
     ]
    }
   ],
   "source": [
    "#한번 import 되었던 모듈은 메모리에 적재되어지고,\n",
    "#나중에 다시 동일한 모듈을 import하면 메모리에 적재되어있던\n",
    "#모듈이 즉시 사용됨\n",
    "import string\n",
    "string.a = 1#표준모듈에 새로운것을 적재하는 것은 별로 좋은 거 아님\n",
    "string = \"My first string\"\n",
    "print string\n",
    "\n",
    "import string\n",
    "print string.a  \n",
    "#여기서 string 모듈이 기존에 이미 등록되었던 것임을 알 수 있다.\n",
    "#다른 문자열로 바뀌었을 때 기존 string 모듈이 남음"
   ]
  },
  {
   "cell_type": "markdown",
   "metadata": {},
   "source": [
    "##모듈의 실행과 테스트 코드"
   ]
  },
  {
   "cell_type": "markdown",
   "metadata": {},
   "source": [
    "- __name__\n",
    "  - 현재의 모듈이 최상위 모듈로서 수행되는지, 아니면 다른 모듈에 의해 import 되어 수행되는지를 구별하기 위해 주로 활용\n",
    "- prname.py를 직접 수행할 때의 출력 내용: __main__\n",
    "  - \\>>>ipython prname.py\n",
    "    - __main__\n",
    "  - prname.py가 최상위 모듈로서 수행됨을 의미"
   ]
  },
  {
   "cell_type": "code",
   "execution_count": 7,
   "metadata": {
    "collapsed": false
   },
   "outputs": [
    {
     "name": "stdout",
     "output_type": "stream",
     "text": [
      "__main__\n"
     ]
    }
   ],
   "source": [
    "#FILE : prname.py\n",
    "print __name__#디폴트로 존재.\n",
    "#__main__이 __name__에 할당되어 있음\n",
    "\"\"\"콘솔에서 python prname.py 라고 하면 __main__바로 뜸\"\"\"\n",
    "#모듈을 만드는 거->.py를 만들어서 바로 사용하는거\n",
    "#__name__은 바로 수행해서 사용하고 있으므로 최상위모듈"
   ]
  },
  {
   "cell_type": "code",
   "execution_count": 8,
   "metadata": {
    "collapsed": false
   },
   "outputs": [
    {
     "name": "stdout",
     "output_type": "stream",
     "text": [
      "prname\n",
      "prname\n"
     ]
    }
   ],
   "source": [
    "import prname\n",
    "print prname.__name__\n",
    "#test.py에서 실행한다 치면 test가 최상위 모듈.\n",
    "#이 모듈 내 prname의 네임은 prname\n",
    "#prname안 print name = test의 prname name\n",
    "#최상위 모듈 -> 바로 prname을 정의해서 수행하는 것->name이 main\n",
    "#다른 모듈에 의해 import 되어짐 -> name값은 모듈 이름 그대로"
   ]
  },
  {
   "cell_type": "code",
   "execution_count": 9,
   "metadata": {
    "collapsed": false
   },
   "outputs": [
    {
     "name": "stdout",
     "output_type": "stream",
     "text": [
      "string\n",
      "re\n",
      "mimetools\n",
      "os\n"
     ]
    }
   ],
   "source": [
    "#전부 표준모듈\n",
    "import string\n",
    "print string.__name__\n",
    "\n",
    "import re\n",
    "print re.__name__\n",
    "\n",
    "import mimetools\n",
    "print mimetools.__name__\n",
    "\n",
    "import os\n",
    "print os.__name__"
   ]
  },
  {
   "cell_type": "markdown",
   "metadata": {},
   "source": [
    "###중요예제"
   ]
  },
  {
   "cell_type": "code",
   "execution_count": 10,
   "metadata": {
    "collapsed": false
   },
   "outputs": [
    {
     "name": "stdout",
     "output_type": "stream",
     "text": [
      "11\n",
      "Python is becoming popular.\n"
     ]
    }
   ],
   "source": [
    "#file: module_test.py ->새로운 .py->새로운 모듈 \n",
    "def add(a, b):\n",
    "    return a + b\n",
    "\n",
    "def f():\n",
    "    print \"Python is becoming popular.\"\n",
    "\n",
    "if __name__ == \"__main__\":\n",
    "    print add(1, 10)\n",
    "    f()\n",
    "#파일 만들어줌\n",
    "#현재 모듈이 최상위 모듈로 활용된다면 name에 main이 들어가 있음\n",
    "#모듈 개발 시 if절 삽입->현재 개발중인 모듈의 test가능"
   ]
  },
  {
   "cell_type": "code",
   "execution_count": 11,
   "metadata": {
    "collapsed": true
   },
   "outputs": [],
   "source": [
    "import module_test\n",
    "#아무것도 출력되지 않음. 수행되지 않은 상태\n",
    "#다른 모듈에서 import하는 순간 name값은 모듈 이름 그대로"
   ]
  },
  {
   "cell_type": "code",
   "execution_count": 12,
   "metadata": {
    "collapsed": false
   },
   "outputs": [
    {
     "name": "stdout",
     "output_type": "stream",
     "text": [
      "11\n"
     ]
    }
   ],
   "source": [
    "import module_test\n",
    "print module_test.add(1,10)\n",
    "#윗 문장의 경우 if절 건들지 않고 바로 수행되는거"
   ]
  },
  {
   "cell_type": "markdown",
   "metadata": {},
   "source": [
    "##패키지의 이해(여기는 이클립스로 해보장)"
   ]
  },
  {
   "cell_type": "markdown",
   "metadata": {},
   "source": [
    "- 패키지 (Package)\n",
    "  - 여러 모듈들을 한데 묶어서 정리해 놓은 구조\n",
    "  - 물리적으로 여러 모듈 파일을 모아 놓은 디렉토리에 해당\n",
    "    - 최상위 디렉토리 이름이 패키지 이름이 된다.\n",
    "    - 최상위 디렉토리 하위에 여러 서브 디렉토리는 해당 최상위 패키지의 하위 패키지가 된다.\n",
    "- 예제: Speech 패키지 (그림)\n",
    "  - 각 폴더마다 __init__.py 파일 존재에 유의\n",
    "    - t : 디렉토리를 패키지로 인식히키는 역할(이게 없으면 패키지로 인식이 안됨) 서브 패키지에도 패키지와 마찬가지로 필요(없으면 그냥 폴더)\n",
    "  - t:동일한 기능 동일한 역할을 하는 모듈끼리 하위 패키지 내 묶음\n",
    "- t : 모듈 = 파일, 패키지 = 디렉토리\n",
    "- t : 패키지 = 모듈(라이브러리)이 많을 때 분류하여(디렉토리)묶음"
   ]
  },
  {
   "cell_type": "code",
   "execution_count": 13,
   "metadata": {
    "collapsed": false
   },
   "outputs": [
    {
     "ename": "ImportError",
     "evalue": "No module named Speech",
     "output_type": "error",
     "traceback": [
      "\u001b[1;31m---------------------------------------------------------------------------\u001b[0m",
      "\u001b[1;31mImportError\u001b[0m                               Traceback (most recent call last)",
      "\u001b[1;32m<ipython-input-13-712e80979c20>\u001b[0m in \u001b[0;36m<module>\u001b[1;34m()\u001b[0m\n\u001b[1;32m----> 1\u001b[1;33m \u001b[1;32mimport\u001b[0m \u001b[0mSpeech\u001b[0m\u001b[1;33m\u001b[0m\u001b[0m\n\u001b[0m",
      "\u001b[1;31mImportError\u001b[0m: No module named Speech"
     ]
    }
   ],
   "source": [
    "import Speech#여기에는 존재하지 않기 때문에 import 안됨."
   ]
  },
  {
   "cell_type": "markdown",
   "metadata": {},
   "source": [
    "- Speech 디렉토리의 위치\n",
    "  - sys.path(또는 PYTHONPATH 환경변수)에 열거된 폴더 중 하나에 위치해야 한다\n",
    "  - t :이클립스는 python interpreter창의 리스트 내 위치도 가능함(.py모듈이 존재할 수 있는 위치->패키지가 존재해도 괜찮음)"
   ]
  },
  {
   "cell_type": "code",
   "execution_count": 14,
   "metadata": {
    "collapsed": true
   },
   "outputs": [],
   "source": [
    "#Speech 패키치의 하위 패키지 Recognition 패키지의 하위에 들어가는\n",
    "#Speech/Recognition/HMM.py 코드 내용\n",
    "\n",
    "def train():\n",
    "    print \"Train\"\n",
    "    pass\n",
    "def loadModel():\n",
    "    print \"LoadModel\"\n",
    "    pass\n",
    "def saveModel():\n",
    "    print \"saveModel\"\n",
    "    pass"
   ]
  },
  {
   "cell_type": "markdown",
   "metadata": {},
   "source": [
    "- \\__init__.py 파일이 존재해야지만 파이썬 패키지로서 인식이 됨"
   ]
  },
  {
   "cell_type": "code",
   "execution_count": null,
   "metadata": {
    "collapsed": true
   },
   "outputs": [],
   "source": [
    "#패키지 내 특정 모듈, 모듈 내 함수를 활용하는 방법\n",
    "#import Speech만 한 경우\n",
    "import Speech\n",
    "Speech.Recognition.HMM#->이건 사용 불가!!!!!!\n",
    "#Speech쓰고 . 찍어보면 Recognition을 볼 수 없음->사용 불가능\n",
    "\n",
    "#반드시 아래와 같이 해 주어야 함.\n",
    "import Speech.Recognition.HMM\n",
    "#import를 통해서 패키지 명 옆에 마침표(.)찍어 특정 모듈, 함수 활용\n",
    "Speech.Recognition.train()\n",
    "\n",
    "#이 방법이 번거로우면 from을 사용!"
   ]
  },
  {
   "cell_type": "code",
   "execution_count": null,
   "metadata": {
    "collapsed": true
   },
   "outputs": [],
   "source": [
    "from Speech.Recognition import HMM\n",
    "#하위 패키지로부터 그 패키지 밑에 존재하는 모듈을 import\n",
    "#->HMM이라는 모듈 이름은 test.py의 최상위 모듈에 import 됨\n",
    "HMM.train()"
   ]
  },
  {
   "cell_type": "code",
   "execution_count": null,
   "metadata": {
    "collapsed": true
   },
   "outputs": [],
   "source": [
    "from Speech.Recognition.HMM import train\n",
    "train()\n",
    "#train이라는 이름이 최상이 모듈에 들어오게 됨"
   ]
  },
  {
   "cell_type": "code",
   "execution_count": null,
   "metadata": {
    "collapsed": true
   },
   "outputs": [],
   "source": [
    "from Speech.Recognition.HMM import *\n",
    "#모듈 내 있는 변수를 전부 다 가져오게 됨(*)\n",
    "train()\n",
    "loadModel()\n",
    "saveModel()"
   ]
  }
 ],
 "metadata": {
  "kernelspec": {
   "display_name": "Python 2",
   "language": "python",
   "name": "python2"
  },
  "language_info": {
   "codemirror_mode": {
    "name": "ipython",
    "version": 2
   },
   "file_extension": ".py",
   "mimetype": "text/x-python",
   "name": "python",
   "nbconvert_exporter": "python",
   "pygments_lexer": "ipython2",
   "version": "2.7.9"
  }
 },
 "nbformat": 4,
 "nbformat_minor": 0
}
