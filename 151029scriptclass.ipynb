{
 "cells": [
  {
   "cell_type": "code",
   "execution_count": 1,
   "metadata": {
    "collapsed": true
   },
   "outputs": [],
   "source": [
    "s = \"\"\"Its power: Python developers typically report \n",
    "they are able to develop applications in a half\n",
    "to a tenth the amount of time it takes them to do\n",
    "the same work in such languages as C.\"\"\"\n",
    "f = open('t.txt', 'w')\n",
    "#t : f는 파일을 핸들링할 수 있는 객체\n",
    "f.write(s)#문자열을 파일에 기록\n",
    "f.close()\n",
    "#t:요즘에는 파일이 대부분 인터넷에 있어서 이런게 많이 필요가 없음\n",
    "#t:로컬에 잘 있지가 않음"
   ]
  },
  {
   "cell_type": "markdown",
   "metadata": {},
   "source": [
    "r은 읽기만 가능 \n",
    "w는 쓰기만 가능, 단 파일이 존재하면 내용이 전부 사라짐\n",
    "a나 w나 파일 존재 x면 새로 만듦\n",
    "a는 파일이 존재하면 기존 내용안지우고 파일포인터를 맨 뒤에 놓음(append)\n",
    "r+는 읽고 쓰기(파일포인터는 맨 앞에)\n",
    "w+는 쓰고 읽기 근데 이미 파일이 존재하면 전부 사라지고 파일포인터 맨 앞에 가는거 주의\n",
    "a+얘도 쓰기 읽기 다 되는데 존재 x면 새로 만들고 존재 하면 기존내용 안지우고 뒤에 붙일수도 있고 추가할 수도 있고\n",
    "\n",
    "이진 파일은 파일 size가 조금 작아진다는 장점이 있당"
   ]
  },
  {
   "cell_type": "code",
   "execution_count": 4,
   "metadata": {
    "collapsed": false
   },
   "outputs": [
    {
     "name": "stdout",
     "output_type": "stream",
     "text": [
      "1 : Its power: Python developers typically report \n",
      "2 : they are able to develop applications in a half\n",
      "3 : to a tenth the amount of time it takes them to do\n",
      "4 : the same work in such languages as C.\n"
     ]
    }
   ],
   "source": [
    "f = open('t.txt')\n",
    "i = 1\n",
    "for line in f:#f가 파일 객체이면서 반복자의 역할을 해줌\n",
    "    #반복자로서의 역할을 할 수 있는거만 for ~ in 뒤에 나올 수 있음\n",
    "    #라인 세퍼레이터가 없으면 그냥 파일내용 전부가 line에 들어감\n",
    "    print i, \":\", line,\n",
    "    i += 1\n",
    "f.close()#습관적으로 해주기"
   ]
  },
  {
   "cell_type": "code",
   "execution_count": 11,
   "metadata": {
    "collapsed": false
   },
   "outputs": [
    {
     "name": "stdout",
     "output_type": "stream",
     "text": [
      "1 : Its power: Python developers typically report \n",
      "<type 'str'>\n",
      "2 : they are able to develop applications in a half\n",
      "<type 'str'>\n",
      "3 : to a tenth the amount of time it takes them to do\n",
      "<type 'str'>\n",
      "4 : the same work in such languages as C. <type 'str'>\n",
      "<type 'str'>\n"
     ]
    }
   ],
   "source": [
    "f = open('t.txt')\n",
    "line = f.readline()\n",
    "i = 1\n",
    "while line:\n",
    "    print i, \":\", line, type(line)\n",
    "    line = f.readline()\n",
    "    i += 1\n",
    "print type(line)#마지막에 읽혀진 line은 빈 문자열(null,none아님)\n",
    "#그래서 while에서 false로 판단되어서 빠져나옴\n",
    "f.close()"
   ]
  },
  {
   "cell_type": "code",
   "execution_count": 6,
   "metadata": {
    "collapsed": false
   },
   "outputs": [
    {
     "name": "stdout",
     "output_type": "stream",
     "text": [
      "['Its power: Python developers typically report \\n', 'they are able to develop applications in a half\\n', 'to a tenth the amount of time it takes them to do\\n', 'the same work in such languages as C.']\n",
      "\n",
      "1 : Its power: Python developers typically report \n",
      "2 : they are able to develop applications in a half\n",
      "3 : to a tenth the amount of time it takes them to do\n",
      "4 : the same work in such languages as C.\n"
     ]
    }
   ],
   "source": [
    "f = open('t.txt')\n",
    "print f.readlines()\n",
    "print\n",
    "\n",
    "f.seek(0)\n",
    "i = 1\n",
    "for line in f.readlines():\n",
    "    print i, \":\", line,\n",
    "    i += 1\n",
    "f.close()#얘가 리스트를 이용해서 해주는거!\n",
    "#메모리가 너무 많이 소모되니까 되도록이면 사용하지 말기."
   ]
  },
  {
   "cell_type": "code",
   "execution_count": 7,
   "metadata": {
    "collapsed": false
   },
   "outputs": [
    {
     "name": "stdout",
     "output_type": "stream",
     "text": [
      "Its power: Python developers typically report \n",
      "\n"
     ]
    }
   ],
   "source": [
    "f=open(\"t.txt\",'r')\n",
    "print f.readline()\n",
    "#파일포인터가 두번째 라인의 시작점에 가있는 상태가 됨"
   ]
  },
  {
   "cell_type": "code",
   "execution_count": 8,
   "metadata": {
    "collapsed": false
   },
   "outputs": [
    {
     "name": "stdout",
     "output_type": "stream",
     "text": [
      "they are able to develop applications in a half\n",
      "\n"
     ]
    }
   ],
   "source": [
    "print f.readline()#두번째줄이 출력됨"
   ]
  },
  {
   "cell_type": "code",
   "execution_count": 9,
   "metadata": {
    "collapsed": false
   },
   "outputs": [
    {
     "name": "stdout",
     "output_type": "stream",
     "text": [
      "Its power: Python developers typically report \n",
      "\n"
     ]
    }
   ],
   "source": [
    "f.seek(0)#파일 포인터를 맨 앞으로 이동시킴\n",
    "#숫자를 주는 경우는 드물고 그냥 맨 앞으로 이동할 때 주로 사용함\n",
    "print f.readline()#다시 첫번째 줄이 출력됨."
   ]
  },
  {
   "cell_type": "code",
   "execution_count": 12,
   "metadata": {
    "collapsed": false
   },
   "outputs": [
    {
     "name": "stdout",
     "output_type": "stream",
     "text": [
      "<open file 't.txt', mode 'r' at 0x00000000035CDB70>\n",
      "\n",
      "1 : Its power: Python developers typically report \n",
      "2 : they are able to develop applications in a half\n",
      "3 : to a tenth the amount of time it takes them to do\n",
      "4 : the same work in such languages as C.\n"
     ]
    }
   ],
   "source": [
    "f = open('t.txt')\n",
    "print f.xreadlines()\n",
    "print\n",
    "\n",
    "f.seek(0)\n",
    "i = 1\n",
    "for line in f.xreadlines():\n",
    "    print i, \":\", line,\n",
    "    i += 1\n",
    "f.close()\n",
    "#얘도 쓸 이유가 별로 없기는 함 어차피 f가 line단위로 해주기 때문에.."
   ]
  },
  {
   "cell_type": "code",
   "execution_count": 13,
   "metadata": {
    "collapsed": false
   },
   "outputs": [
    {
     "name": "stdout",
     "output_type": "stream",
     "text": [
      "first line\n",
      "second line\n",
      "third line\n"
     ]
    }
   ],
   "source": [
    "lines = ['first line', 'second line', 'third line']\n",
    "f = open('t1.txt', 'w')\n",
    "f.write('\\n'.join(lines))#개행문자가 있는 큰 문자열이 됨\n",
    "#라인에 존재하는 원소를 \\n로 이어주는것\n",
    "f.close()\n",
    "\n",
    "f = open('t1.txt')\n",
    "f.seek(0)\n",
    "print f.read()\n",
    "f.close()\n",
    "#중간고사에 나왔던거......"
   ]
  },
  {
   "cell_type": "code",
   "execution_count": 14,
   "metadata": {
    "collapsed": false
   },
   "outputs": [
    {
     "name": "stdout",
     "output_type": "stream",
     "text": [
      "35\n"
     ]
    }
   ],
   "source": [
    "f = open('t.txt')\n",
    "s = f.read()#요게 걍 다 읽어오는거\n",
    "n = len(s.split())\n",
    "print n\n",
    "f.close()"
   ]
  },
  {
   "cell_type": "code",
   "execution_count": null,
   "metadata": {
    "collapsed": true
   },
   "outputs": [],
   "source": [
    "print f.tell()  # 현재 위치 돌려줌\n",
    "print f.read(1) # 1문자 읽기\n",
    "print f.tell()"
   ]
  },
  {
   "cell_type": "code",
   "execution_count": 15,
   "metadata": {
    "collapsed": true
   },
   "outputs": [],
   "source": [
    "import sys\n",
    "\n",
    "f = open('t.txt', 'w')\n",
    "stdout = sys.stdout   #표준 출력 저장해 두기\n",
    "#여기서는 포인터만 카피가 됨\n",
    "sys.stdout = f        #파일 객체로 표준 출력 변경\n",
    "print 'Sample output'\n",
    "print 'Good'\n",
    "print 'Good'\n",
    "#원래 print는 sys.stdout에 출력시키는데 그게 f로 바뀌어서 파일에......\n",
    "f.close()\n",
    "sys.stdout = stdout\n",
    "#필요하면 표준 출력 원상 복구\n",
    "\n",
    "#내가 뭔가를 파일에 쓰고 싶은데 프린트만 이용해서 파일에 쓰고 싶으면!"
   ]
  },
  {
   "cell_type": "code",
   "execution_count": 16,
   "metadata": {
    "collapsed": false
   },
   "outputs": [
    {
     "name": "stdout",
     "output_type": "stream",
     "text": [
      "spam string\n",
      "\n"
     ]
    },
    {
     "name": "stderr",
     "output_type": "stream",
     "text": [
      "Warning, action field not supplied\n"
     ]
    }
   ],
   "source": [
    "print >> sys.stderr, \"Warning, action field not supplied\"\n",
    "#리눅스에서 많이 쓰이는 방법\n",
    "#stderr도 기본적으로 모니터에 출력이 됨.\n",
    "f = open('t.txt', 'w')\n",
    "print >> f, 'spam string'\n",
    "f.close()\n",
    "#f로 주면 파일에 출력이 됨!!!!!!\n",
    "f = open('t.txt')\n",
    "print f.read()\n",
    "f.close()"
   ]
  },
  {
   "cell_type": "code",
   "execution_count": 18,
   "metadata": {
    "collapsed": false
   },
   "outputs": [
    {
     "name": "stdout",
     "output_type": "stream",
     "text": [
      "abc\n",
      "\n",
      "abc\n",
      "<type 'instance'>\n",
      "class StringIO([buffer])\n",
      "\n",
      "    When a StringIO object is created, it can be initialized to an existing\n",
      "    string by passing the string to the constructor. If no string is given,\n",
      "    the StringIO will start empty.\n",
      "\n",
      "    The StringIO object can accept either Unicode or 8-bit strings, but\n",
      "    mixing the two may take some care. If both are used, 8-bit strings that\n",
      "    cannot be interpreted as 7-bit ASCII (that use the 8th bit) will cause\n",
      "    a UnicodeError to be raised when getvalue() is called.\n",
      "    \n"
     ]
    }
   ],
   "source": [
    "import StringIO\n",
    "\n",
    "f = StringIO.StringIO()\n",
    "\n",
    "#f는 스트링아이오의 객체\n",
    "#스트링아이오 메소드는 파일이 쓸 수 있는 메소드 대부분 쓸 수 있음\n",
    "\"\"\"\n",
    "java \n",
    "StringBuffer sf = new String Buffer();\n",
    "sf.append(\"abc\");\n",
    "sf.append(\"def\");\n",
    "String s = sf.toString();\n",
    "\"\"\"\n",
    "f.write(\"abc\")\n",
    "f.seek(0)\n",
    "s = f.read()#이게 toString 시키는 거\n",
    "print s\n",
    "print\n",
    "\n",
    "s2 = f.getvalue()\n",
    "print s2\n",
    "\n",
    "print type(f)#정확히 스트링아이오라고 안가르쳐주고 걍 객체라고만 알려줌\n",
    "print f.__doc__#객체 f가 뭔지 알려줌"
   ]
  },
  {
   "cell_type": "code",
   "execution_count": 19,
   "metadata": {
    "collapsed": false
   },
   "outputs": [
    {
     "name": "stdout",
     "output_type": "stream",
     "text": [
      "{'jim': 6851325, 'Joseph': 6584321, 'jack': 9465215, 'tom': 4358382}\n",
      "['string', 1234, 0.2345]\n"
     ]
    }
   ],
   "source": [
    "import pickle\n",
    "\n",
    "phone = {'tom':4358382, 'jack':9465215, 'jim':6851325, 'Joseph':6584321}\n",
    "List = ['string', 1234, 0.2345]\n",
    "Tuple = (phone, List) \n",
    "#리스트, 튜플, 사전의 복합 객체\n",
    "\n",
    "f = open('pickle.txt', 'w') \n",
    "#파일 객체를 얻는다.\n",
    "\n",
    "pickle.dump(Tuple, f) \n",
    "#파일로 출력(pickling), 복합 객체 출력 \n",
    "f.close() \n",
    "\n",
    "\n",
    "#이 아래의 네줄만 수행을 해도 나중에 잘 실행이 됨!!!!!!\n",
    "f = open('pickle.txt')     \n",
    "                      \n",
    "x,y = pickle.load(f) #튜플이 튀어나옴(튜플의 언패킹)\n",
    "#파일에서 읽어오기. 튜플의 내용을 x, y에 받는다.\n",
    "print x # 사전\n",
    "print y # 리스트\n",
    "#java에도 라이트 오브젝트인가 하는 비슷한게 있다......"
   ]
  },
  {
   "cell_type": "code",
   "execution_count": 20,
   "metadata": {
    "collapsed": false
   },
   "outputs": [
    {
     "name": "stdout",
     "output_type": "stream",
     "text": [
      "10\n"
     ]
    }
   ],
   "source": [
    "import pickle\n",
    "\n",
    "#가장 단순한 클래스를 정의\n",
    "class Simple: \n",
    "    pass\n",
    "\n",
    "s = Simple() #인스턴스 객체 생성(생성자 호출)\n",
    "s.count = 10 #인스턴스 이름 공간에 변수 생성\n",
    "#처음에는 없었지만 이 문장을 쓰는 순간 count라는 변수가 생김\n",
    "\n",
    "f = open('pickle2.txt', 'w')\n",
    "pickle.dump(s, f) #인스턴스 저장\n",
    "f.close()\n",
    "\n",
    "f = open('pickle2.txt')\n",
    "t = pickle.load(f) #인스턴스 가져오기\n",
    "print t.count\n",
    "\n",
    "#위랑 다른 점은 사용자가 만든 객체도 저장이 가능하다고 하는점임"
   ]
  },
  {
   "cell_type": "markdown",
   "metadata": {},
   "source": [
    "###여기부터 14\n",
    "이건 파이썬의 기본은 아님......\n",
    "os라는 새로운 모듈을 배우는 것임."
   ]
  },
  {
   "cell_type": "code",
   "execution_count": 21,
   "metadata": {
    "collapsed": true
   },
   "outputs": [],
   "source": [
    "import os #는 알고있어야 하지만\n",
    "#os.찍고 하면 되니까......\n",
    "#.은 현재 디렉토리 ../는 부모 디렉토리"
   ]
  },
  {
   "cell_type": "code",
   "execution_count": 22,
   "metadata": {
    "collapsed": false
   },
   "outputs": [
    {
     "name": "stdout",
     "output_type": "stream",
     "text": [
      ".git : Directory\n",
      ".gitignore : Regular file\n",
      ".ipynb_checkpoints : Directory\n",
      "150910scriptclass practice.ipynb : Regular file\n",
      "150910scriptclass.ipynb : Regular file\n",
      "150917scriptclass.ipynb : Regular file\n",
      "150924scriptclass.ipynb : Regular file\n",
      "151001scriptclass.ipynb : Regular file\n",
      "151008scriptclass.ipynb : Regular file\n",
      "151015scriptclass.ipynb : Regular file\n",
      "151029scriptclass.ipynb : Regular file\n",
      "Assignment : Directory\n",
      "Homework-1.ipynb : Regular file\n",
      "pickle.txt : Regular file\n",
      "pickle2.txt : Regular file\n",
      "ProjectEuler : Directory\n",
      "scriptcyj : Directory\n",
      "SHINHWA.txt : Regular file\n",
      "t.txt : Regular file\n",
      "t1.txt : Regular file\n",
      "Untitled.ipynb : Regular file\n"
     ]
    }
   ],
   "source": [
    "import os\n",
    "def filetype(fpath):\n",
    "    print fpath, ':',\n",
    "    if os.path.isfile(fpath):\n",
    "        #os라는 모듈에 path라는 객체가 이미 있음\n",
    "        #path라는 곳에 있는 isfile이라는 메소드를 부르는 것임\n",
    "        print 'Regular file'\n",
    "    if os.path.isdir(fpath):\n",
    "        print 'Directory'\n",
    "    if os.path.islink(fpath):\n",
    "        print 'Symbolic link'\n",
    "        #윈도우즈의 바로가기파일\n",
    "        \n",
    "flist = os.listdir('.')\n",
    "for fname in flist:\n",
    "    filetype(fname)"
   ]
  },
  {
   "cell_type": "code",
   "execution_count": 23,
   "metadata": {
    "collapsed": false
   },
   "outputs": [
    {
     "name": "stdout",
     "output_type": "stream",
     "text": [
      ".git : Exists R W X\n",
      ".gitignore : Exists R W X\n",
      ".ipynb_checkpoints : Exists R W X\n",
      "150910scriptclass practice.ipynb : Exists R W X\n",
      "150910scriptclass.ipynb : Exists R W X\n",
      "150917scriptclass.ipynb : Exists R W X\n",
      "150924scriptclass.ipynb : Exists R W X\n",
      "151001scriptclass.ipynb : Exists R W X\n",
      "151008scriptclass.ipynb : Exists R W X\n",
      "151015scriptclass.ipynb : Exists R W X\n",
      "151029scriptclass.ipynb : Exists R W X\n",
      "Assignment : Exists R W X\n",
      "Homework-1.ipynb : Exists R W X\n",
      "pickle.txt : Exists R W X\n",
      "pickle2.txt : Exists R W X\n",
      "ProjectEuler : Exists R W X\n",
      "scriptcyj : Exists R W X\n",
      "SHINHWA.txt : Exists R W X\n",
      "t.txt : Exists R W X\n",
      "t1.txt : Exists R W X\n",
      "Untitled.ipynb : Exists R W X\n"
     ]
    }
   ],
   "source": [
    "import os\n",
    "def fileaccess(fpath):\n",
    "    print fpath, ':',\n",
    "    if os.access(fpath, os.F_OK): \n",
    "        #fpath에는 파일까지의 경로가 담겨있음......\n",
    "        #F_OK는 파일 있냐 없냐\n",
    "        print 'Exists',\n",
    "    else: \n",
    "        return\n",
    "    if os.access(fpath, os.R_OK): \n",
    "        print 'R',\n",
    "    if os.access(fpath, os.W_OK): \n",
    "        print 'W',\n",
    "    if os.access(fpath, os.X_OK): \n",
    "        print 'X',\n",
    "    print \n",
    "    \n",
    "flist = os.listdir('.')\n",
    "for fname in flist:\n",
    "    fileaccess(fname)\n",
    "#윈도우에서는 안먹히니까 참고정도만 하장"
   ]
  },
  {
   "cell_type": "code",
   "execution_count": 25,
   "metadata": {
    "collapsed": false
   },
   "outputs": [
    {
     "name": "stdout",
     "output_type": "stream",
     "text": [
      "True\n"
     ]
    }
   ],
   "source": [
    "import shutil\n",
    "shutil.copyfile('shinhwa.txt', 'shinhwa_new.txt')#파일복사하기\n",
    "print os.access('shinhwa_new.txt', os.F_OK)"
   ]
  },
  {
   "cell_type": "code",
   "execution_count": 26,
   "metadata": {
    "collapsed": false
   },
   "outputs": [
    {
     "name": "stdout",
     "output_type": "stream",
     "text": [
      "\\\n"
     ]
    }
   ],
   "source": [
    "import os\n",
    "print os.sep\n",
    "#이게 운영체제마다 다르게 나올것임\n",
    "os.rename('t1.txt', 'example'+os.sep+'t1.txt')\n",
    "#현재 작업 디렉토리의 t1.txt를 example에 t1.txt이름으로 옮긴다.\n",
    "#경로 할때 이게 os마다 다르니까 os.sep 이런식으로 주는게 더 좋다.\n",
    "print os.access('example/t1.txt', os.F_OK)"
   ]
  },
  {
   "cell_type": "code",
   "execution_count": null,
   "metadata": {
    "collapsed": true
   },
   "outputs": [],
   "source": [
    "import os\n",
    "print os.getcwd()#요건 리눅스 명령어를 그대로 가져온 것임\n",
    "import os\n",
    "\n",
    "os.mkdir('temp')        \n",
    "#0755 기본 모드(rwxr-xr-x)로 만들어짐\n",
    "os.mkdir('temp2', 0700) \n",
    "#0700 모드(rwx------)로 만들어짐\n",
    "os.makedirs('temp/level1/level2') \n",
    "#0755 기본 모드, 중간에 필요한 디렉토리도 모두생성\n",
    "#요거 여러개 할때 mkdir하면 안만들어짐......\n",
    "\n",
    "os.removedirs('temp/level1/level2')\n",
    "#makedirs의 정반대임!!!!!!"
   ]
  },
  {
   "cell_type": "code",
   "execution_count": null,
   "metadata": {
    "collapsed": true
   },
   "outputs": [],
   "source": [
    "import shutil\n",
    "shutil.rmtree('temp')\n",
    "#이거는 모두 다 지워버리는 것임.\n",
    "os.mkdir('temp')        \n",
    "os.mkdir('temp/temp2', 0700)\n",
    "shutil.copytree('temp', 'myweb_backup')\n",
    "#얘도 모두 다 복사해버리는 것임. 직접 만드려면 재귀함수를 써야 할 것임\n",
    "#자료구조에서 배우는 것을 잘 활용해야함......무슨 순회 어쩌구......"
   ]
  },
  {
   "cell_type": "markdown",
   "metadata": {},
   "source": [
    "##보충자료\n",
    "\n",
    "임의의 텍스트 파일 내 문자 수를 출력하는 프로그램을 작성하라"
   ]
  },
  {
   "cell_type": "code",
   "execution_count": 28,
   "metadata": {
    "collapsed": false
   },
   "outputs": [
    {
     "name": "stdout",
     "output_type": "stream",
     "text": [
      "17\n"
     ]
    }
   ],
   "source": [
    "f = open('shinhwa.txt')\n",
    "print len(f.read())\n",
    "f.close()\n",
    "#메모리 측면에서는 좋지 못함......"
   ]
  },
  {
   "cell_type": "code",
   "execution_count": 29,
   "metadata": {
    "collapsed": false
   },
   "outputs": [
    {
     "name": "stdout",
     "output_type": "stream",
     "text": [
      "19\n"
     ]
    }
   ],
   "source": [
    "import os\n",
    "print os.path.getsize('shinhwa.txt')\n",
    "#이게 좀 더 좋은 방법임\n",
    "#어차피 os는 전부 다 알고 있으니까.\n",
    "#단위는 바이트임"
   ]
  },
  {
   "cell_type": "markdown",
   "metadata": {},
   "source": [
    "- 윈도우즈에서 만든 파일에 위 예제들을 수행하면 os.path.getsize('t.txt')가 라인수만큼 더 큼\n",
    "  - 이유\n",
    "    - 리눅스와 Mac에서는 라인 구분 제어 문자로 '\\012' 한 문자를 사용\n",
    "    - 윈도우즈에서는 라인을 구분하는 제어 문자로 '\\015\\012' 두 개의 문자를 사용함"
   ]
  },
  {
   "cell_type": "code",
   "execution_count": 31,
   "metadata": {
    "collapsed": false
   },
   "outputs": [
    {
     "data": {
      "text/plain": [
       "'\\r\\n'"
      ]
     },
     "execution_count": 31,
     "metadata": {},
     "output_type": "execute_result"
    }
   ],
   "source": [
    "import os\n",
    "os.linesep\n",
    "#이거 그 리눅스에서는 \\n만 나옴"
   ]
  },
  {
   "cell_type": "markdown",
   "metadata": {},
   "source": [
    "임의의 텍스트 파일 내 단어 수를 출력하는 프로그램을 작성하라. 여기서 단어란, 공백으로 분리된 문자의 모임을 뜻한다.¶"
   ]
  },
  {
   "cell_type": "code",
   "execution_count": 33,
   "metadata": {
    "collapsed": false
   },
   "outputs": [
    {
     "name": "stdout",
     "output_type": "stream",
     "text": [
      "2\n"
     ]
    }
   ],
   "source": [
    "f = open('shinhwa.txt')\n",
    "s = f.read()\n",
    "n = len(s.split())\n",
    "print n\n",
    "f.close()"
   ]
  },
  {
   "cell_type": "code",
   "execution_count": 34,
   "metadata": {
    "collapsed": false
   },
   "outputs": [
    {
     "name": "stdout",
     "output_type": "stream",
     "text": [
      "2\n"
     ]
    }
   ],
   "source": [
    "n = len(open('shinhwa.txt').read().split())\n",
    "#파일 객체한테 read를 줬으니까 문자열 이고 문자열에 split를 준것임\n",
    "print n"
   ]
  },
  {
   "cell_type": "markdown",
   "metadata": {},
   "source": [
    "임의의 텍스트 파일 내 라인 수를 출력하는 프로그램을 작성하라."
   ]
  },
  {
   "cell_type": "code",
   "execution_count": 35,
   "metadata": {
    "collapsed": false
   },
   "outputs": [
    {
     "name": "stdout",
     "output_type": "stream",
     "text": [
      "2\n"
     ]
    }
   ],
   "source": [
    "import os\n",
    "f = open('shinhwa.txt')\n",
    "s = f.read()\n",
    "print s.count(os.linesep)#요렇게 바꿔주는 게 더 좋음\n",
    "f.close()"
   ]
  },
  {
   "cell_type": "code",
   "execution_count": 38,
   "metadata": {
    "collapsed": false
   },
   "outputs": [
    {
     "name": "stdout",
     "output_type": "stream",
     "text": [
      "3\n"
     ]
    }
   ],
   "source": [
    "f = open('shinhwa.txt')\n",
    "print len(f.readlines())#리스트가 나오고 거기에 len을 불러줌\n",
    "#왜다르징..\n",
    "f.close()"
   ]
  },
  {
   "cell_type": "markdown",
   "metadata": {},
   "source": [
    "##Hamlet에 'the'는 몇번 나올까?"
   ]
  },
  {
   "cell_type": "code",
   "execution_count": 45,
   "metadata": {
    "collapsed": false,
    "scrolled": false
   },
   "outputs": [
    {
     "name": "stdout",
     "output_type": "stream",
     "text": [
      "the 929\n",
      "and 680\n",
      "of 625\n",
      "to 608\n",
      "I 523\n",
      "a 453\n",
      "my 444\n",
      "in 382\n",
      "you 361\n",
      "Ham. 358\n",
      "is 299\n",
      "his 284\n",
      "it 266\n",
      "not 259\n",
      "And 259\n",
      "that 225\n",
      "with 224\n",
      "your 217\n",
      "this 203\n",
      "be 187\n",
      "for 162\n",
      "have 160\n",
      "The 152\n",
      "he 149\n",
      "as 144\n",
      "me 144\n",
      "but 139\n",
      "will 130\n",
      "him 121\n",
      "To 119\n",
      "That 118\n",
      "are 118\n",
      "King. 116\n",
      "But 115\n",
      "Hor. 108\n",
      "our 107\n",
      "do 105\n",
      "shall 103\n",
      "we 101\n",
      "what 100\n",
      "on 99\n",
      "so 96\n",
      "by 92\n",
      "What 90\n",
      "no 88\n",
      "A 87\n",
      "Pol. 86\n",
      "thou 83\n",
      "all 83\n",
      "from 83\n",
      "thy 81\n",
      "lord, 81\n",
      "or 81\n",
      "Queen. 78\n",
      "My 75\n",
      "at 75\n",
      "they 72\n",
      "You 72\n",
      "good 71\n",
      "was 70\n",
      "As 70\n",
      "most 70\n",
      "For 69\n",
      "her 68\n",
      "more 68\n",
      "like 67\n"
     ]
    }
   ],
   "source": [
    "f = open('hamlet.txt', 'r')\n",
    "from collections import Counter\n",
    "#콜렉션스 모듈의 카운터라는 것을 가져옴\n",
    "wordDict = Counter()#카운터 타입의 객체 wordDict를 만듦.\n",
    "sentences = f.readlines()#라인별로 전부 다.....\n",
    "#print sentences\n",
    "\n",
    "\n",
    "for sentence in sentences: #한 문장씩\n",
    "    for word in sentence.split(): #한 문장에 들어있는 한 단어씩\n",
    "        wordDict[word] += 1 #Counter에 count를 1씩 증가시킨다.\n",
    "        #처음에 키가 없을때는 새롭게 만들어지게됨.\n",
    "\n",
    "\n",
    "for word, freq in wordDict.most_common(66):\n",
    "    #most_common이라는 메소드를 사용하려고 한거임!!!!!!\n",
    "    #상위 10가지 단어를 리스트로 가져와 줌.(아이템 10개를)\n",
    "    print word, freq#키,밸류"
   ]
  },
  {
   "cell_type": "code",
   "execution_count": 47,
   "metadata": {
    "collapsed": false
   },
   "outputs": [
    {
     "name": "stdout",
     "output_type": "stream",
     "text": [
      "the 929\n",
      "and 680\n",
      "of 625\n",
      "to 608\n",
      "I 523\n",
      "a 453\n",
      "my 444\n",
      "in 382\n",
      "you 361\n",
      "Ham. 358\n",
      "is 299\n",
      "his 284\n",
      "it 266\n",
      "not 259\n",
      "And 259\n",
      "that 225\n",
      "with 224\n",
      "your 217\n",
      "this 203\n",
      "be 187\n",
      "for 162\n",
      "have 160\n",
      "The 152\n",
      "he 149\n",
      "as 144\n",
      "me 144\n",
      "but 139\n",
      "will 130\n",
      "him 121\n",
      "To 119\n",
      "That 118\n",
      "are 118\n",
      "King. 116\n",
      "But 115\n",
      "Hor. 108\n",
      "our 107\n",
      "do 105\n",
      "shall 103\n",
      "we 101\n",
      "what 100\n",
      "on 99\n",
      "so 96\n",
      "by 92\n",
      "What 90\n",
      "no 88\n",
      "A 87\n",
      "Pol. 86\n",
      "thou 83\n",
      "all 83\n",
      "from 83\n",
      "thy 81\n",
      "lord, 81\n",
      "or 81\n",
      "Queen. 78\n",
      "My 75\n",
      "at 75\n",
      "they 72\n",
      "You 72\n",
      "good 71\n",
      "was 70\n",
      "As 70\n",
      "most 70\n",
      "For 69\n",
      "her 68\n",
      "more 68\n",
      "like 67\n"
     ]
    }
   ],
   "source": [
    "import urllib2\n",
    "source=urllib2.urlopen(\"http://courses.cs.washington.edu/courses/cse341/07wi/handouts/hamlet.txt\").read()\n",
    "#파일 안만들고도 할 수 있는데 인터넷에서 불러오는거라 살짝 시간이 걸림.\n",
    "setence=source.split()\n",
    "\n",
    "from collections import Counter\n",
    "#콜렉션스 모듈의 카운터라는 것을 가져옴\n",
    "wordDict = Counter()#카운터 타입의 객체 wordDict를 만듦.\n",
    "\n",
    "for sentence in sentences: #한 문장씩\n",
    "    for word in sentence.split(): #한 문장에 들어있는 한 단어씩\n",
    "        wordDict[word] += 1 #Counter에 count를 1씩 증가시킨다.\n",
    "        #처음에 키가 없을때는 새롭게 만들어지게됨.\n",
    "\n",
    "\n",
    "for word, freq in wordDict.most_common(66):\n",
    "    #most_common이라는 메소드를 사용하려고 한거임!!!!!!\n",
    "    #상위 10가지 단어를 리스트로 가져와 줌.(아이템 10개를)\n",
    "    print word, freq#키,밸류"
   ]
  },
  {
   "cell_type": "code",
   "execution_count": null,
   "metadata": {
    "collapsed": true
   },
   "outputs": [],
   "source": []
  }
 ],
 "metadata": {
  "kernelspec": {
   "display_name": "Python 2",
   "language": "python",
   "name": "python2"
  },
  "language_info": {
   "codemirror_mode": {
    "name": "ipython",
    "version": 2
   },
   "file_extension": ".py",
   "mimetype": "text/x-python",
   "name": "python",
   "nbconvert_exporter": "python",
   "pygments_lexer": "ipython2",
   "version": "2.7.9"
  }
 },
 "nbformat": 4,
 "nbformat_minor": 0
}
