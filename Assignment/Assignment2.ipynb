{
 "cells": [
  {
   "cell_type": "markdown",
   "metadata": {},
   "source": [
    "#Assignment 2\n",
    "####스크립트 프로그래밍  2분반  2014136128 최유진"
   ]
  },
  {
   "cell_type": "markdown",
   "metadata": {},
   "source": [
    "####01) 다음 6 개의 Expression에 대해 Evaluation 결과 값을 출력하고, 해당 결과가 나온 이유에 대해 설명하시오\n",
    "  - 1 and 2 and 3 and 4\n",
    "  - 1 or 2 or 3 or 4\n",
    "  - 1 and 2 or 3 and 4\n",
    "  - (1 and 2) or (3 and 4)\n",
    "  - 1 or 2 and 3 or 4\n",
    "  - (1 or 2) and (3 or 4)\n"
   ]
  },
  {
   "cell_type": "code",
   "execution_count": 1,
   "metadata": {
    "collapsed": false
   },
   "outputs": [
    {
     "name": "stdout",
     "output_type": "stream",
     "text": [
      "4\n",
      "1\n",
      "2\n",
      "2\n",
      "1\n",
      "3\n"
     ]
    }
   ],
   "source": [
    "print 1 and 2 and 3 and 4\n",
    "print 1 or 2 or 3 or 4\n",
    "print 1 and 2 or 3 and 4\n",
    "print (1 and 2) or (3 and 4)\n",
    "print 1 or 2 and 3 or 4\n",
    "print (1 or 2) and (3 or 4)"
   ]
  },
  {
   "cell_type": "markdown",
   "metadata": {},
   "source": [
    "- 논리 연산자들이 그 자체가 값을 반환하는게 아니고, 모두 논리 연산에 따라 평가되어진 값을 반환하게 됩니다.\n",
    "- and 연산자의 우선순위가 or 연산자 보다 높습니다.\n",
    "- (1) 1 and 2 and 3 and 4\n",
    "  - and 연산자를 취할 경우 연산자 앞이 True일 경우 뒤의 값을 평가해서 그것을 반환하게 됩니다. 1 and 2 and 3 and 4 에서 1이 True이므로 뒤의 2를, 2 and 3 and 4 에서는 2가 True이므로 뒤의 3을, 다시 3 and 4 에서는 3이 True이므로 결과적으로 4가 반환됩니다.\n",
    "- (2) 1 or 2 or 3 or 4\n",
    "  - or 연산자를 취할 경우 연산자 앞이 True일 경우 뒤의 값을 평가하지 않고 앞에서 평가되어진 그 값을 바로 반환합니다. 1 or 2 or 3 or 4 에서 1이 True 이므로, 뒤의 값은 고려하지 않고 바로 1을 반환합니다. 같은 방식으로 반복하여 결국 최종적으로 1이 반환됩니다.\n",
    "- (3) 1 and 2 or 3 and 4\n",
    "  - 1 and 2 에서 1이 True이므로 뒤의 값인 2가 반환됩니다. 3 and 4 에서 3이 True이므로 뒤의 값인 4가 반환됩니다. 2 or 4에서 2가 True이므로 뒤의 값은 고려하지 않고 2가 반환됩니다.\n",
    "- (4)(1 and 2) or (3 and 4)\n",
    "  - 1 and 2 에서는 1이 True 이므로 뒤의 값인 2가 반환됩니다. 3 and 4 에서 3이 True이므로 뒤의 값인 4가 반환됩니다. 2 or (3 and 4) 에서는 2가 True 이므로 뒤의 값과는 상관 없이 2가 반환됩니다.\n",
    "- (5) 1 or 2 and 3 or 4\n",
    "  - 2 and 3 에서 2가 True 이므로 뒤의 값인 3이 반환됩니다. 1 or 3 or 4 에서 1이 True 이므로 뒤의 값은 고려하지 않고 1이 반환됩니다. 1 or 4 에서도 1이 True 이므로 결과적으로 1이 반환됩니다.\n",
    "- (6) (1 or 2) and (3 or 4)\n",
    "  - 1 or 2 에서는 1이 True이므로 뒤의 값인 2가 반환됩니다. 3 or 4 에서는 3이 True이므로 뒤의 값은 평가하지 않고 바로 3이 반환됩니다. 2 and 3 에서는 2가 True이므로 뒤의 값인 3이 반환됩니다.  "
   ]
  },
  {
   "cell_type": "markdown",
   "metadata": {},
   "source": [
    "####02) 키보드로 정수값을 입력 받고 그 값이 양수인지 음수인지를 비트 연산자를 이용하여 판단하는 프로그램을 작성하시오.\n",
    " \n",
    "- [참고] 가장 왼쪽에 있는 비트가 0이면 양수이며, 1이면 음수이다.\n",
    "- [참고] 수업보충자료 (https://github.com/bluebibi/python-e-learning/blob/master/supplement.ipynb) 를 참고하시오."
   ]
  },
  {
   "cell_type": "code",
   "execution_count": 15,
   "metadata": {
    "collapsed": false
   },
   "outputs": [
    {
     "name": "stdout",
     "output_type": "stream",
     "text": [
      "6\n",
      "입력된 정수 6(은)는 양수입니다.\n"
     ]
    }
   ],
   "source": [
    "a=input()\n",
    "if(a==0):\n",
    "    print \"입력된 정수 %d(은)는 양수도 음수도 아닙니다.\"%a\n",
    "elif((a >> a.bit_length())&1):\n",
    "    print \"입력된 정수 %d(은)는 음수입니다.\" % a\n",
    "else:\n",
    "    print \"입력된 정수 %d(은)는 양수입니다.\" % a"
   ]
  },
  {
   "cell_type": "markdown",
   "metadata": {},
   "source": [
    "- input()을 이용하여 키보드로 정수값을 입력받아 a에 넣어주었습니다. 그 후 일단 먼저 양수도 음수도 아닌 0을 먼저 판단해주고 그 이후에 양수인지 음수인지를 판단하기 위해서 먼저 입력된 수에 비트이동연산자를 취해주고 그 다음에 비트 단위 and 연산자로 비트이동시킨 정수와 1을 비트연산 해주었습니다.\n",
    "- 비트이동을 오른쪽으로 해주게 되면 지금 프로그램의 경우는 이동시킨 것이 숫자이므로, 왼쪽에는 양수일때는 0이 채워지고, 음수일때는 1이 채워집니다. 그러므로 그 결과를 elif의 조건으로 주어서 1일때(참일때)는 음수라고 출력해주게 하고, 0일때(거짓일때)는 양수라고 출력해주면 됩니다."
   ]
  },
  {
   "cell_type": "markdown",
   "metadata": {},
   "source": [
    "#### 03) 경로에 해당하는 문자열 1개를 입력 받아 그 안에 디렉토리 경로명과 파일명을 분리하여 리스트로 반환하는 함수 div_path(s)를 작성하시오.\n",
    "\n",
    "- 인자로 전달하는 문자열은 경로만 들어간다고 가정한다.\n",
    "- 각 디렉토리와 파일을 구분하는 문자는 '/'로 가정한다.\n",
    "- 반환하는 리스트의 첫번째 원소는 디렉토리이고 두번째 원소는 파일명이다.\n",
    "- 다음과 같은 실행 및 출력 결과가 도출되어야 한다.\n",
    "  - div_path('/usr/local/bin/python')\n",
    "    - ['/usr/local/bin', 'python']\n",
    "  - div_path('/home/chulsoo/test.txt')\n",
    "    - ['/home/chulsoo', 'test.txt']\n",
    "- [참고] 리스트(l) 내에 새로운 정수값 (예를 들어 10)을 넣는 방법은 l.append(10) 이다.\n",
    " "
   ]
  },
  {
   "cell_type": "code",
   "execution_count": 46,
   "metadata": {
    "collapsed": false
   },
   "outputs": [
    {
     "name": "stdout",
     "output_type": "stream",
     "text": [
      "['/usr/local/bin', 'python']\n",
      "['/home/chulsoo', 'test.txt']\n"
     ]
    }
   ],
   "source": [
    "def div_path(s):\n",
    "    l=[]\n",
    "    index=-1\n",
    "    for i in range(-1,-(len(s)),-1):\n",
    "        if(s[i]=='/'):\n",
    "            index=i\n",
    "            break\n",
    "    l.append(s[0:index])\n",
    "    l.append(s[index+1:])\n",
    "    return l\n",
    "\n",
    "print div_path('/usr/local/bin/python')\n",
    "print div_path('/home/chulsoo/test.txt')"
   ]
  },
  {
   "cell_type": "markdown",
   "metadata": {},
   "source": [
    "- div_path 함수에서 받은 문자열을 역순으로 보면서 '/' 가 나올때까지 진행하다가, 뒤에서부터 처음으로 '/'가 나오면 멈추고 그 위치를 기억합니다. 그 후, 그 위치까지 슬라이싱한 것(파일경로)을 한번 리스트에 넣어주고, 그 다음부터 끝까지 슬라이싱 한 것(파일명)을 한번 리스트에 넣어준 뒤 그 리스트를 반환합니다.\n",
    "- 만약 print div_path('/usr/local/bin/python')라고 쓰지 않고 div_path('/usr/local/bin/python')와 같이만 써도 출력이 되게 하고 싶다면 함수 내에서 리턴하기 전에 print문을 하나만 추가해주면 됩니다."
   ]
  },
  {
   "cell_type": "markdown",
   "metadata": {},
   "source": [
    "####04) 두 개의 리스트를 인자로 받아서 그 두 개의 리스트에 대한 '합집합'을 반환하는 함수 list_union(lista, listb)를 작성하시오.\n",
    "\n",
    "- 인자로 전달하는 리스트 2 개에는 정수값만 들어간다고 가정하자.\n",
    "- 함수 내에서 새로운 리스트를 만들어 그 리스트 내에 인자로 받은 두 리스트의 모든 원소를 넣어 반환한다.\n",
    "- 반환하는 리스트에는 절대로 중복된 원소가 들어 있으면 안된다 (집합의 조건).\n",
    "- 반환하는 리스트는 정렬이 되어 있어야 한다.\n",
    "- 다음과 같은 실행 및 출력 결과가 도출되어야 한다.\n",
    "  - list_union([1, 2, 3], [1, 2, 4])\n",
    "    - [1, 2, 3, 4]     \n",
    "  - list_union([-10, -5, 0, -1], [100, 9, 0, 9])\n",
    "    - [-10, -5, -1, 0, 9, 100]      \n",
    "  - list_union([0, 1, 2], [0, 1, 2])\n",
    "    -   [0, 1, 2]\n",
    "- [참고] 리스트(l) 내에 새로운 정수값 (예를 들어 10)을 넣는 방법은 l.append(10) 이다.\n",
    "- [참고] 임의의 정수값 (x)이 리스트 (l) 내에 존재하는지 판단하는 방법은 x in l 이다.\n",
    " \n",
    " "
   ]
  },
  {
   "cell_type": "code",
   "execution_count": 59,
   "metadata": {
    "collapsed": false
   },
   "outputs": [
    {
     "name": "stdout",
     "output_type": "stream",
     "text": [
      "[1, 2, 3, 4]\n",
      "[-10, -5, -1, 0, 9, 100]\n",
      "[0, 1, 2]\n"
     ]
    }
   ],
   "source": [
    "def list_union(lista,listb):\n",
    "    list = []\n",
    "    temp1=len(lista)\n",
    "    temp2=len(listb)\n",
    "    for i in range(temp1-1,-1,-1):\n",
    "        if(lista[i] in listb):\n",
    "            lista.pop(i)\n",
    "    for i in range(temp2-1,0,-1):\n",
    "        if(listb[i] in listb[0:i]):\n",
    "            listb.pop(i)\n",
    "    list.extend(lista)\n",
    "    list.extend(listb)\n",
    "    list.sort() \n",
    "    return list\n",
    "print list_union([1, 2, 3], [1, 2, 4])\n",
    "print list_union([-10, -5, 0, -1], [100, 9, 0, 9])\n",
    "print list_union([0, 1, 2], [0, 1, 2])"
   ]
  },
  {
   "cell_type": "markdown",
   "metadata": {},
   "source": [
    "- list_union함수에서는 먼저 list 두개의 길이를 각각 구해놓고, 한 리스트에 대해서 만약 그 리스트 안에 다른 리스트에 있는 원소가 있을 경우 그 원소를 빼주었습니다. 그 뒤, 다른 리스트에 대해 그 리스트 안에 중복된 리스트가 있는지를 판단한 뒤, 중복된 원소가 있는 경우 그 원소를 빼주었습니다. 그 후에, 만들어두었던 공백 리스트에 중복된 원소들이 제거된 리스트를 extend를 통해 합해주고, 그 리스트를 sort를 이용하여 정렬해주었습니다.\n",
    "- 이 함수도 만약 list_union([1, 2, 3], [1, 2, 4])이런식으로만 써도 출력문이 출력되게 하고싶으면 함수 내에 print문을 추가해주면 됩니다."
   ]
  },
  {
   "cell_type": "markdown",
   "metadata": {},
   "source": [
    "####05) [프로젝트 오일러 문제 4]\n",
    "  - 세자리 수를 곱해 만들 수 있는 가장 큰 대칭수\n",
    "    - 앞에서부터 읽을 때나 뒤에서부터 읽을 때나 모양이 같은 수를 대칭수(palindrome)라고 부릅니다.\n",
    "    - 두 자리 수를 곱해 만들 수 있는 대칭수 중 가장 큰 수는 9009 (= 91 × 99) 입니다.\n",
    "    - 세 자리 수를 곱해 만들 수 있는 가장 큰 대칭수는 얼마입니까?"
   ]
  },
  {
   "cell_type": "code",
   "execution_count": 3,
   "metadata": {
    "collapsed": false
   },
   "outputs": [
    {
     "name": "stdout",
     "output_type": "stream",
     "text": [
      "906609\n"
     ]
    }
   ],
   "source": [
    "number=0\n",
    "for i in range(100,1000):\n",
    "    for j in range(100,1000):\n",
    "        temp=i*j\n",
    "        temp=str(temp)\n",
    "        if(len(temp)==5):\n",
    "            if(temp[0]==temp[4] and temp[1]==temp[3]):\n",
    "                temp=int(temp)\n",
    "                if(temp>number):\n",
    "                    number=temp\n",
    "                    \n",
    "        else:\n",
    "            if(temp[0]==temp[5] and temp[1]==temp[4] and temp[2]==temp[3]):\n",
    "                temp=int(temp)\n",
    "                if(temp>number):\n",
    "                    number=temp\n",
    "print number"
   ]
  },
  {
   "cell_type": "markdown",
   "metadata": {},
   "source": [
    "- 세자리 수를 곱했을 때에는 10000이상 1000000미만의 숫자가 나오게 됩니다. 그러므로 대칭수를 판단할때는 5자리 수와 6자리 수의 경우만 고려해주면 됩니다.\n",
    "- 세자리 숫자를 곱한 후, 그것을 5자리일 때와 6자리일 때의 경우로 나누어 생각해줍니다. 그리고 대칭수가 여태까지 구한 대칭수보다 크다면 그것을 number에 넣어줍니다."
   ]
  },
  {
   "cell_type": "markdown",
   "metadata": {},
   "source": [
    "####06) [프로젝트 오일러 문제 5]\n",
    "  - 1 ~ 20 사이의 어떤 수로도 나누어 떨어지는 가장 작은 수\n",
    "    - 1 ~ 10 사이의 어떤 수로도 나누어 떨어지는 가장 작은 수는 2520입니다.\n",
    "    - 그러면 1 ~ 20 사이의 어떤 수로도 나누어 떨어지는 가장 작은 수는 얼마입니까?"
   ]
  },
  {
   "cell_type": "code",
   "execution_count": 2,
   "metadata": {
    "collapsed": false
   },
   "outputs": [
    {
     "name": "stdout",
     "output_type": "stream",
     "text": [
      "232792560\n"
     ]
    }
   ],
   "source": [
    "NUM=20\n",
    "arr=[int]*NUM\n",
    "for i in range(0,NUM):\n",
    "    arr[i]=0\n",
    "for i in range(2,NUM):\n",
    "    temp=i\n",
    "    for j in range (2,i+1):     \n",
    "        count=0\n",
    "        while(temp%j==0):\n",
    "            temp/=j\n",
    "            count+=1\n",
    "            if(arr[j]<count):\n",
    "                arr[j]=count\n",
    "                \n",
    "mul=1\n",
    "for i in range(2,NUM):\n",
    "    if(arr[i]!=0):\n",
    "        mul*=i**arr[i]\n",
    "print mul       "
   ]
  },
  {
   "cell_type": "markdown",
   "metadata": {},
   "source": [
    "- 일단 크기 20의 배열을 주고, 그 배열을 0으로 초기화해준뒤, 2부터 20까지 반복해주는데, 이 과정에서 구하는 것이 각 수가 어떤수의 곱으로 이루어져 있는지 입니다. 예를들어 6이면 2, 3 이고, 8이면 2, 2, 2 인데, 이런식으로 구하면서 각 숫자가 몇번 등장하는지를 확인합니다. 등장 횟수 중 가장 큰 횟수를 배열의 원소로 저장해줍니다.\n",
    "- 그 후 배열의 원소가 0이 아닐동안, 어떤 수가 나온 횟수만큼 곱해주고 최종적으로 모두 곱해진 값을 출력해주면 됩니다."
   ]
  },
  {
   "cell_type": "markdown",
   "metadata": {},
   "source": [
    "####07) [프로젝트 오일러 문제 6]\n",
    "  - 1부터 100까지 \"제곱의 합\"과 \"합의 제곱\"의 차는?\n",
    "    - 1부터 10까지 자연수를 각각 제곱해 더하면 다음과 같습니다 (제곱의 합).\n",
    "      - 1^2 + 2^2 + ... + 10^2 = 385\n",
    "    - 1부터 10을 먼저 더한 다음에 그 결과를 제곱하면 다음과 같습니다 (합의 제곱).\n",
    "      - (1 + 2 + ... + 10)2 = 552 = 3025\n",
    "    - 따라서 1부터 10까지 자연수에 대해 \"합의 제곱\"과 \"제곱의 합\" 의 차이는 3025 - 385 = 2640 이 됩니다.\n",
    "    - 그러면 1부터 100까지 자연수에 대해 \"합의 제곱\"과 \"제곱의 합\"의 차이는 얼마입니까?"
   ]
  },
  {
   "cell_type": "code",
   "execution_count": 1,
   "metadata": {
    "collapsed": false
   },
   "outputs": [
    {
     "name": "stdout",
     "output_type": "stream",
     "text": [
      "25164150\n"
     ]
    }
   ],
   "source": [
    "sum1=0\n",
    "sum2=0\n",
    "for i in range(1,101):\n",
    "    sum1+=i\n",
    "sum1*=sum1\n",
    "for i in range(1,101):\n",
    "    sum2+=i*i\n",
    "print sum1-sum2"
   ]
  },
  {
   "cell_type": "markdown",
   "metadata": {},
   "source": [
    "- 1부터 100까지 자연수의 합을 구한뒤 그것을 자기자신과 곱하여 합의 제곱을 구해주고, 1부터 100까지 자연수의 제곱을 각각 구한 뒤 그것의 합을 구해준 뒤, 합의 제곱-제곱의 합을 해주었습니다."
   ]
  },
  {
   "cell_type": "markdown",
   "metadata": {},
   "source": [
    "####08) [Incremental Project] 웹 URL로 지정된 웹페이지를 문자열로 가져와 1) 모든 HTML 태그를 제외한 순수 텍스트 문자열만을 걸러내고, 2) 그 순수 텍스트 문자열 안에 존재하는 단어가 총 몇개인지 출력하는 프로그램을 작성하시오. \n",
    "- HTML 태그는 다음 조건을 가지는 것이다.\n",
    "  - < 로 시작하여 >로 끝난다.\n",
    "  - 예를 들어, 아래와 같은 HTML 내용 내에 한 줄이 있다고 가정하자.\n",
    "    - < label for=\"keep_signed\" >로그인 유지< /label >\n",
    "  - 위 소스에서 HTML 태그를 제외한 순수 텍스트 문자열은 아래와 같다.\n",
    "    - 로그인 유지\n",
    "  - 한편, 아래와 같은 HTML 한 줄이 있다고 가정하자.\n",
    "    - < link rel=\"stylesheet\" href=\"/common/css/xe.min.css?20150910092654\" />\n",
    "  - 위 소스는 HTML 태그로만 구성된 것이며 걸러낼 수 있는 순수 텍스 문자열은 존재하지 않는다.\n",
    " \n",
    "- 단어를 나누는 기준은 오로지 공백문자 (whitespace)이다.\n",
    "  - 즉, 위 순수 텍스트 문자열인 \"로그인 유지\"에서 분리한 단어는 \"로그인\"과 \"유지\"이다.\n",
    "\n",
    "- 다음은 URL로 지정된 웹페이지를 특정 문자열로 가져오는 코드이다.\n",
    "  - 즉, 숙제 코드는 아래 링크를 참조 해야한다.\n",
    "  - http://nbviewer.ipython.org/github/bluebibi/python-e-learning/blob/master/assignment-2.ipynb"
   ]
  },
  {
   "cell_type": "code",
   "execution_count": 126,
   "metadata": {
    "collapsed": false
   },
   "outputs": [
    {
     "name": "stdout",
     "output_type": "stream",
     "text": [
      "460\n"
     ]
    }
   ],
   "source": [
    "import urllib2\n",
    "source = urllib2.urlopen(\"http://cse.kut.ac.kr\").read()\n",
    "#print source # 추후 숙제 답안 제출 때엔 왼쪽 라인은 주석처리할 것\n",
    "number=len(source)\n",
    "test=''\n",
    "wordlist=[]\n",
    "for i in range(0,number):\n",
    "    if(i==0 and source[i]!='<'):\n",
    "        j=i\n",
    "        while((source[j]!='<') and (j<number-1)):\n",
    "            j+=1\n",
    "        text=source[i:j]\n",
    "        wordlist.extend(text.split())\n",
    "        i=j\n",
    "    elif((source[i]=='<') and (i!=number-1)):\n",
    "        j=i+1\n",
    "        while((source[j]!='>') and (source[j+1]!='=') and (j<number-1)):\n",
    "            j+=1\n",
    "        i=j\n",
    "    elif((source[i]=='>') and (i!=number-1)):\n",
    "        j=i+1\n",
    "        while((source[j]!='<') and (j<number-1)):\n",
    "            j+=1\n",
    "        text=source[i+1:j]\n",
    "        if('-->' not in text):\n",
    "            wordlist.extend(text.split())\n",
    "        i=j\n",
    "#for i in range(0,len(wordlist)):\n",
    "    #print wordlist[i],\n",
    "print len(wordlist)"
   ]
  },
  {
   "cell_type": "markdown",
   "metadata": {},
   "source": [
    "- 먼저 첫 문자가 만약 <가 아닐때는 <가 나올때까지 진행시켜서 그때까지의 문자열을 슬라이싱해서 그것을 공백을 기준으로 나누어 리스트에 추가해줍니다.\n",
    "- <가 등장하고 나서는 >가 나올때 까지 그냥 지나가는데 그 때, >=와 같은 부등호가 아닐 때 까지 그냥 지나갑니다. 만약 >가 등장 했다면, <가 나올때까지 지나가다가 <가 나오면 >다음부터 <바로전까지의 문자열을 슬라이싱 해서 그것을 공백을 기준으로 나누어 리스트에 추가해줍니다. 이 때, html의 주석인 <-- --> 안에 html코드가 있는 경우 -->가 슬라이싱 되므로, 그것인지 아닌지를 한번 판단해주고 나서 넣어주도록 합니다.\n",
    "- 아래에서 두번째, 세번째 줄에 주석 처리된 부분은, 프로그램을 통해 추출한 순수 텍스트 문자열에 어떤 것들이 있는지 볼 수 있도록 출력해주는 부분입니다."
   ]
  }
 ],
 "metadata": {
  "kernelspec": {
   "display_name": "Python 2",
   "language": "python",
   "name": "python2"
  },
  "language_info": {
   "codemirror_mode": {
    "name": "ipython",
    "version": 2
   },
   "file_extension": ".py",
   "mimetype": "text/x-python",
   "name": "python",
   "nbconvert_exporter": "python",
   "pygments_lexer": "ipython2",
   "version": "2.7.9"
  }
 },
 "nbformat": 4,
 "nbformat_minor": 0
}
