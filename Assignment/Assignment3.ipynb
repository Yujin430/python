{
 "cells": [
  {
   "cell_type": "markdown",
   "metadata": {},
   "source": [
    "#Assignment 3\n",
    "####스크립트 프로그래밍  2분반  2014136128 최유진"
   ]
  },
  {
   "cell_type": "markdown",
   "metadata": {},
   "source": [
    "####01) L=[1, 2, 3, 4, 5]일 때 다음 각 문장을 수행한 후의 결과를 보고 납득할 만한 이유를 설명하시오.\n",
    "    \n",
    "    (1)\n",
    "       L[1:3] = [100]\n",
    "       print L\n",
    "    (2)\n",
    "       L[1:3] = [(100)]\n",
    "       print L\n",
    "    (3)\n",
    "       L[1:3] = 100\n",
    "       print L\n",
    "    (4)\n",
    "       L[1:3] = (100)\n",
    "       print L\n",
    "    (5)\n",
    "       L[1:3] = (100, 101, 102)\n",
    "       print L\n",
    "    (6)\n",
    "       L[1:3] = [100, 101, 102]\n",
    "       print L\n",
    "    (7)\n",
    "       L[1:3] = [100]\n",
    "       print L\n",
    "    (8)\n",
    "       L[1:3] = [100]\n",
    "       print L"
   ]
  },
  {
   "cell_type": "code",
   "execution_count": 2,
   "metadata": {
    "collapsed": false
   },
   "outputs": [
    {
     "name": "stdout",
     "output_type": "stream",
     "text": [
      "[1, 100, 4, 5]\n",
      "[1, 100, 4, 5]\n"
     ]
    },
    {
     "ename": "TypeError",
     "evalue": "can only assign an iterable",
     "output_type": "error",
     "traceback": [
      "\u001b[1;31m---------------------------------------------------------------------------\u001b[0m",
      "\u001b[1;31mTypeError\u001b[0m                                 Traceback (most recent call last)",
      "\u001b[1;32m<ipython-input-2-8a09a877a3bc>\u001b[0m in \u001b[0;36m<module>\u001b[1;34m()\u001b[0m\n\u001b[0;32m     11\u001b[0m \u001b[1;31m#(3)\u001b[0m\u001b[1;33m\u001b[0m\u001b[1;33m\u001b[0m\u001b[0m\n\u001b[0;32m     12\u001b[0m \u001b[0mL\u001b[0m\u001b[1;33m=\u001b[0m\u001b[1;33m[\u001b[0m\u001b[1;36m1\u001b[0m\u001b[1;33m,\u001b[0m \u001b[1;36m2\u001b[0m\u001b[1;33m,\u001b[0m \u001b[1;36m3\u001b[0m\u001b[1;33m,\u001b[0m \u001b[1;36m4\u001b[0m\u001b[1;33m,\u001b[0m \u001b[1;36m5\u001b[0m\u001b[1;33m]\u001b[0m\u001b[1;33m\u001b[0m\u001b[0m\n\u001b[1;32m---> 13\u001b[1;33m \u001b[0mL\u001b[0m\u001b[1;33m[\u001b[0m\u001b[1;36m1\u001b[0m\u001b[1;33m:\u001b[0m\u001b[1;36m3\u001b[0m\u001b[1;33m]\u001b[0m \u001b[1;33m=\u001b[0m \u001b[1;36m100\u001b[0m\u001b[1;33m\u001b[0m\u001b[0m\n\u001b[0m\u001b[0;32m     14\u001b[0m \u001b[1;32mprint\u001b[0m \u001b[0mL\u001b[0m\u001b[1;33m\u001b[0m\u001b[0m\n",
      "\u001b[1;31mTypeError\u001b[0m: can only assign an iterable"
     ]
    }
   ],
   "source": [
    "#(1)\n",
    "L=[1, 2, 3, 4, 5]\n",
    "L[1:3] = [100]\n",
    "print L\n",
    "\n",
    "#(2)\n",
    "L=[1, 2, 3, 4, 5]\n",
    "L[1:3] = [(100)]\n",
    "print L\n",
    "\n",
    "#(3)\n",
    "L=[1, 2, 3, 4, 5]\n",
    "L[1:3] = 100\n",
    "print L\n"
   ]
  },
  {
   "cell_type": "markdown",
   "metadata": {},
   "source": [
    "- (1)의 경우 위치 1부터 2에 해당하는 원소 2와 3의 자리에 그것들 대신 100이 들어가게 되어 [1,100,4,5]와 같은 형태로 출력이 되게 됩니다.\n",
    "- (2)의 경우 리스트 내의 원소로(100)이 들어갔는데, 사실 이것은 괄호로 감싸져있기는 하지만 튜플이 아니고(원소가 하나인데 콤마를 사용하지 않았으므로)그냥 숫자이므로 위의 (1)과 같은 결과로 출력됩니다.\n",
    "- (3)의 경우 위치 1부터 2에 해당하는 원소 2와 3의 자리에 대신할것으로 그냥 숫자 100을 주었는데, 그에 따른 오류 메세지를 살펴보면, 반복이 가능한 것이 아니라 오류가 발생했습니다. 리스트, 튜플, 사전 등의 자료형은 반복이 가능하여 그 자리를 대체하여 들어갈 수 있지만, 숫자 100의 경우 그것이 불가능하여 오류가 발생한 것으로 생각됩니다."
   ]
  },
  {
   "cell_type": "code",
   "execution_count": 8,
   "metadata": {
    "collapsed": false
   },
   "outputs": [
    {
     "ename": "TypeError",
     "evalue": "can only assign an iterable",
     "output_type": "error",
     "traceback": [
      "\u001b[1;31m---------------------------------------------------------------------------\u001b[0m",
      "\u001b[1;31mTypeError\u001b[0m                                 Traceback (most recent call last)",
      "\u001b[1;32m<ipython-input-8-c738bad0bcd1>\u001b[0m in \u001b[0;36m<module>\u001b[1;34m()\u001b[0m\n\u001b[0;32m      1\u001b[0m \u001b[1;31m#(4)\u001b[0m\u001b[1;33m\u001b[0m\u001b[1;33m\u001b[0m\u001b[0m\n\u001b[0;32m      2\u001b[0m \u001b[0mL\u001b[0m\u001b[1;33m=\u001b[0m\u001b[1;33m[\u001b[0m\u001b[1;36m1\u001b[0m\u001b[1;33m,\u001b[0m \u001b[1;36m2\u001b[0m\u001b[1;33m,\u001b[0m \u001b[1;36m3\u001b[0m\u001b[1;33m,\u001b[0m \u001b[1;36m4\u001b[0m\u001b[1;33m,\u001b[0m \u001b[1;36m5\u001b[0m\u001b[1;33m]\u001b[0m\u001b[1;33m\u001b[0m\u001b[0m\n\u001b[1;32m----> 3\u001b[1;33m \u001b[0mL\u001b[0m\u001b[1;33m[\u001b[0m\u001b[1;36m1\u001b[0m\u001b[1;33m:\u001b[0m\u001b[1;36m3\u001b[0m\u001b[1;33m]\u001b[0m \u001b[1;33m=\u001b[0m \u001b[1;33m(\u001b[0m\u001b[1;36m100\u001b[0m\u001b[1;33m)\u001b[0m\u001b[1;33m\u001b[0m\u001b[0m\n\u001b[0m\u001b[0;32m      4\u001b[0m \u001b[1;32mprint\u001b[0m \u001b[0mL\u001b[0m\u001b[1;33m\u001b[0m\u001b[0m\n",
      "\u001b[1;31mTypeError\u001b[0m: can only assign an iterable"
     ]
    }
   ],
   "source": [
    "#(4)\n",
    "L=[1, 2, 3, 4, 5]\n",
    "L[1:3] = (100)\n",
    "print L"
   ]
  },
  {
   "cell_type": "markdown",
   "metadata": {},
   "source": [
    "- (4)의 경우에도 오류가 발생했는데, (100)의 경우 괄호로 감싸져있기는 하지만 원소가 하나인데 콤마가 없으므로 이 역시도 그냥 숫자 100으로 인식됩니다. 따라서, (3)의 경우와 마찬가지의 이유로 오류가 발생했다고 볼 수 있습니다."
   ]
  },
  {
   "cell_type": "code",
   "execution_count": 9,
   "metadata": {
    "collapsed": false
   },
   "outputs": [
    {
     "name": "stdout",
     "output_type": "stream",
     "text": [
      "[1, 100, 101, 102, 4, 5]\n",
      "[1, 100, 101, 102, 4, 5]\n",
      "[1, (100, 101, 102), 4, 5]\n",
      "[1, [100, 101, 102], 4, 5]\n"
     ]
    }
   ],
   "source": [
    "#(5)\n",
    "L=[1, 2, 3, 4, 5]\n",
    "L[1:3] = (100, 101, 102)\n",
    "print L\n",
    "\n",
    "#(6)\n",
    "L=[1, 2, 3, 4, 5]\n",
    "L[1:3] = [100, 101, 102]\n",
    "print L\n",
    "\n",
    "#(7)\n",
    "L=[1, 2, 3, 4, 5]\n",
    "L[1:3] = [(100, 101, 102)]\n",
    "print L\n",
    "\n",
    "#(8)\n",
    "L=[1, 2, 3, 4, 5]\n",
    "L[1:3] = [[100, 101, 102]]\n",
    "print L"
   ]
  },
  {
   "cell_type": "markdown",
   "metadata": {},
   "source": [
    "- (5)의 경우 위치 1,2에 해당하는 원소 2, 3 대신에 100,101,102가 들어가게 되었습니다. 튜플은 반복이 가능한 자료형이므로 오류가 발생하지 않고 잘 출력된 것을 확인할 수 있습니다.\n",
    "- (6)의 경우 위치 1,2에 해당하는 원소 2, 3 대신에 100,101,102가 들어가게 되었습니다. 리스트는 반복이 가능한 자료형이므로 오류가 발생하지 않고 잘 출력되었습니다.\n",
    "- (7)의 경우 위치 1,2에 해당하는 원소 2,3 대신에 튜플(100,101,102)가 들어가게 되었습니다. 튜플이 원소 하나로 취급되어 위치 1,2에 해당하는 자리에 잘 들어갔습니다.\n",
    "- (8)의 경우 위치 1,2에 해당하는 원소 2,3 대신에 리스트[100,101,102]가 들어가게 되었습니다. 리스트가 원소 하나로 취급되어 위치 1,2에 해당하는 자리에 잘 들어갔습니다."
   ]
  },
  {
   "cell_type": "markdown",
   "metadata": {},
   "source": [
    "####02) 문자열 S = 'Hello World and Python'에 대해 다음 요구사항에 대한 Python 코드를 제시하시오.\n",
    "  1. 단어의 순서가 역순으로 되어진 문자열 ('Python and World Hello')을 만들고\n",
    "  2. 1.의 결과 문자열에 대해 메소드 split과 join을 이용하여 공백을 모두 없엔 문자열 'PythonandWorldHello'을 만드시오."
   ]
  },
  {
   "cell_type": "code",
   "execution_count": 9,
   "metadata": {
    "collapsed": false
   },
   "outputs": [
    {
     "name": "stdout",
     "output_type": "stream",
     "text": [
      "Python and World Hello\n",
      "PythonandWorldHello\n"
     ]
    }
   ],
   "source": [
    "s = 'Hello World and Python'\n",
    "wordlist=s.split()\n",
    "wordlist.reverse()\n",
    "result_s1=' '.join(wordlist)\n",
    "print result_s1 #1번의 해결\n",
    "\n",
    "wordlist=result_s1.split()\n",
    "result_s2=''.join(wordlist)\n",
    "print result_s2 #2번의 해결"
   ]
  },
  {
   "cell_type": "markdown",
   "metadata": {},
   "source": [
    "- 먼저 1.을 해결하기 위해 주어진 문자열 s를 단어 단위로 쪼개어 리스트에 넣어주고 그것의 순서를 역순으로 바꾸어준 다음, 그 단어들 사이가 ' '로 이어진 문자열을 만들어 출력을 해주었습니다.\n",
    "- 2.를 해결하기 위에서 1의 결과를 다시 단어로 쪼개어 준다음, 그것을 ''(아무것도쓰이지않은것)으로 이어진 문자열, 즉 단어끼리 다 붙어있는 문자열로 만들어 그것을 출력해주었습니다."
   ]
  },
  {
   "cell_type": "markdown",
   "metadata": {},
   "source": [
    "####03) 다음 코드를 보고 물음에 답하시오.\n",
    "\n",
    "      a = [1, 2, 3]\n",
    "      b = a * 3\n",
    "      c = [a] * 3\n",
    "      print b\n",
    "      print c\n",
    "  \n",
    "  1. 위 코드를 수행한 이후 다음 코드를 수행한 후 b와 c의 내용을 확인하시오.\n",
    "     >a[0]=0\n",
    "      \n",
    "  2. b와 c 객체의 차이는 무엇인가?"
   ]
  },
  {
   "cell_type": "code",
   "execution_count": 15,
   "metadata": {
    "collapsed": false
   },
   "outputs": [
    {
     "name": "stdout",
     "output_type": "stream",
     "text": [
      "[1, 2, 3, 1, 2, 3, 1, 2, 3]\n",
      "[[1, 2, 3], [1, 2, 3], [1, 2, 3]]\n",
      "\n",
      "[1, 2, 3, 1, 2, 3, 1, 2, 3]\n",
      "[[0, 2, 3], [0, 2, 3], [0, 2, 3]]\n"
     ]
    }
   ],
   "source": [
    "a = [1, 2, 3]\n",
    "b = a * 3\n",
    "c = [a] * 3\n",
    "print b\n",
    "print c\n",
    "#1.\n",
    "print\n",
    "a[0]=0\n",
    "print b\n",
    "print c"
   ]
  },
  {
   "cell_type": "markdown",
   "metadata": {},
   "source": [
    "- 1.의 경우 b의 내용은 [1,2,3,1,2,3,1,2,3]이 되었고, c의 내용은 [[0,2,3],[0,2,3],[0,2,3]]이 되었습니다.\n",
    "- 2.는 b와 c 객체의 차이는 a를 어떻게 받아왔느냐의 차이인 것 같습니다. b 객체는 만들어질 때, a 내의 원소가 세번 반복된 리스트가 만들어지게 되었는데, 그에 반해 c 객체는 만들어질 때, a의 주소를 원소로 가지고 있는 리스트가 세번 반복되게 됩니다. 즉, c객체 내의 원소는 a를 가리키고 있는 주소가 3번 반복된 것과 마찬가지입니다. 따라서 a를 변경했을 때, 1. 과 같이 b는 그대로이고 c만 바뀌어 출력되는 결과가 나타나게 되었습니다."
   ]
  },
  {
   "cell_type": "markdown",
   "metadata": {},
   "source": [
    "####04) 다음 문자열을 ':'을 기준으로 분리하여 리스트로 만들고 각 문자열의 좌우 공백을 제거하시오 (즉, 문자열 S에서 l을 만들어라)\n",
    "      s = '  first star   :   second star   :    third star  '\n",
    "      l = ['first star', 'second star', 'third star']\n",
    "  1. for ~ in 문을 이용한 코드를 작성하시오.\n",
    "  2. 리스트 내포(list comprehension)를 이용한 코드를 작성하시오."
   ]
  },
  {
   "cell_type": "code",
   "execution_count": 37,
   "metadata": {
    "collapsed": false
   },
   "outputs": [
    {
     "name": "stdout",
     "output_type": "stream",
     "text": [
      "['first star', 'second star', 'third star']\n",
      "['first star', 'second star', 'third star']\n"
     ]
    }
   ],
   "source": [
    "s = '  first star   :   second star   :    third star  '\n",
    "l = ['first star', 'second star', 'third star']\n",
    "\n",
    "temp = s.split(':')#:을 기준으로 분리하기\n",
    "\n",
    "#1.for~in문\n",
    "result1=[]\n",
    "for word in temp:\n",
    "    result1.append(word.strip())\n",
    "print result1\n",
    "\n",
    "#2.리스트 내포\n",
    "result2=[word.strip() for word in temp]\n",
    "print result2"
   ]
  },
  {
   "cell_type": "markdown",
   "metadata": {},
   "source": [
    "- 먼저 문자열을 : 를 기준으로 나누어주기 위하여 split을 이용했습니다.\n",
    "- for~in문을 사용한 코드는 temp에 저장된 단어들을 하나씩 불러와 좌우공백을 없애기 위해 strip해서 result1에 하나씩 넣어주는 방식으로 만들었습니다.\n",
    "- 리스트 내포를 이용한 코드는 temp에 저장된 단어들에 strip을 해주어 그것을 그대로 result2의 원소로 삼아줄 수 있도록 만들었습니다."
   ]
  },
  {
   "cell_type": "markdown",
   "metadata": {},
   "source": [
    "####05) 다음과 같이 0보다 큰 정수 리스트 변수 list를 인자로 받는 함수 addall(list)와 addallodd(list)를 for ~ in 리터널과 리스트 내포 방식으로 각각 제시하시오.\n",
    "  1. addall(list) 함수 (리스트 내의 모든 정수를 더하는 함수로서 해답으로는 for ~ in 리터럴과 리스트 내포 방식으로 각각 제시하시오.)\n",
    "         addall([1])\n",
    "         1\n",
    "         addall([1, 2, 3, 4, 5, 6, 7, 8, 9])\n",
    "         45\n",
    "  2. addallodd(list) 함수 (리스트내의 모든 홀수를 더하는 함수로서 해답으로는 for ~ in 리터럴과 리스트 내포 방식으로 각각 제시하시오.)\n",
    "         addallodd([1])\n",
    "         1\n",
    "         addallodd([1, 2, 3, 4, 5, 6, 7, 8, 9])\n",
    "         25\n",
    " [참고]: 리스트 내포 방식으로 addall() 및 addallodd()함수를 만들 때엔 리스트 내포에 의해 생성된 리스트 결과에 대해 내장 함수를 사용하는 방식을 고려해보시오 (주의: 리스트 내포 방식의 addall() 및 addallodd() 함수의 몸체는 단 1줄로 작성되어야 한다.)"
   ]
  },
  {
   "cell_type": "code",
   "execution_count": 14,
   "metadata": {
    "collapsed": false
   },
   "outputs": [
    {
     "name": "stdout",
     "output_type": "stream",
     "text": [
      "1\n",
      "45\n"
     ]
    }
   ],
   "source": [
    "#1번문제 for~in\n",
    "def addall(li):\n",
    "    sum=0\n",
    "    for i in range (len(li)):\n",
    "        sum+=li[i]\n",
    "    return sum\n",
    "print addall([1])\n",
    "print addall([1,2,3,4,5,6,7,8,9])"
   ]
  },
  {
   "cell_type": "code",
   "execution_count": 8,
   "metadata": {
    "collapsed": false
   },
   "outputs": [
    {
     "name": "stdout",
     "output_type": "stream",
     "text": [
      "1\n",
      "45\n"
     ]
    }
   ],
   "source": [
    "#1번문제 리스트내포\n",
    "def addall(li):\n",
    "    return sum([num for num in li])\n",
    "print addall([1])\n",
    "print addall([1,2,3,4,5,6,7,8,9])"
   ]
  },
  {
   "cell_type": "markdown",
   "metadata": {},
   "source": [
    "- 05)의 1.번 문제를 풀이한 것입니다. for~in을 사용할 때는 먼저 합을 담고있을 변수 sum을 선언해주었고, 그 후 인자로 들어온 리스트의 원소의 갯수만큼 for문을 돌려 리스트의 원소들을 sum에 더해주었습니다. 그 후 sum을 반환하는것으로 함수를 작성했습니다. \n",
    "- 반면 리스트 내포를 사용하였을때는 리스트 내의 원소들의 합을 구하기 위해 sum이라는 내장함수를 이용하는 방식으로 코드를 작성했습니다. 리스트를 인자로 받아온 후, 그 리스트 내의 숫자들로 리스트를 생성하여 그 리스트를 sum이라는 내장함수의 인자로 주고, 그 결과를 반환하는 것으로 함수를 작성했습니다."
   ]
  },
  {
   "cell_type": "code",
   "execution_count": 1,
   "metadata": {
    "collapsed": false
   },
   "outputs": [
    {
     "name": "stdout",
     "output_type": "stream",
     "text": [
      "1\n",
      "25\n"
     ]
    }
   ],
   "source": [
    "#2번문제 for~in\n",
    "def addallodd(li):\n",
    "    sum=0\n",
    "    for i in range (len(li)):\n",
    "        if(li[i]%2!=0):\n",
    "            sum+=li[i]\n",
    "    return sum\n",
    "print addallodd([1])\n",
    "print addallodd([1,2,3,4,5,6,7,8,9])"
   ]
  },
  {
   "cell_type": "code",
   "execution_count": 2,
   "metadata": {
    "collapsed": false
   },
   "outputs": [
    {
     "name": "stdout",
     "output_type": "stream",
     "text": [
      "1\n",
      "25\n"
     ]
    }
   ],
   "source": [
    "#2번문제 리스트내포\n",
    "def addallodd(li):\n",
    "    return sum([num for num in li if(num%2!=0)])\n",
    "print addallodd([1])\n",
    "print addallodd([1,2,3,4,5,6,7,8,9])"
   ]
  },
  {
   "cell_type": "markdown",
   "metadata": {},
   "source": [
    "- 05)의 2.번 문제를 풀이한 것입니다. for~in을 사용할 때는 먼저 합을 담고있을 변수 sum을 선언해주었고, 그 후 인자로 들어온 리스트의 원소의 갯수만큼 for문을 돌렸습니다. 그 후 if문의 조건으로 2로 나누었을때의 나머지가 0이 아닌 경우를 주고, 그 조건에 부합하는 리스트의 원소들(홀수)을 sum에 더해주었습니다. 그 후 sum을 반환하는것으로 함수를 작성했습니다. \n",
    "- 반면 리스트 내포를 사용하였을때는 앞선 1.번과 마찬가지로 리스트 내의 원소들의 합을 구하기 위해 sum이라는 내장함수를 이용하는 방식으로 코드를 작성했습니다. 리스트를 인자로 받아온 후, 그 리스트 내의 숫자들로 리스트를 생성하는데 그 과정에서 조건을 2로 나누었을때 나머지가 0이 아닌 숫자들(홀수)에 한해서 리스트의 원소로 들어갈 수 있도록 하였고, 그렇게 만들어진 리스트를 sum이라는 내장함수의 인자로 주고, 그 결과를 반환하는 것으로 함수를 작성했습니다."
   ]
  },
  {
   "cell_type": "markdown",
   "metadata": {},
   "source": [
    "####06) 다음 코드를 보고 물음에 답하시오.\n",
    "      L1 = [1, 2, 3]\n",
    "      L2 = [4, 5, 6]\n",
    "      d = {'low':L1, 'high':L2}\n",
    "      e = d\n",
    "      f = d.copy()\n",
    "      print d\n",
    "      print e\n",
    "      print f\n",
    "      print\n",
    "      d['low'] = [10, 20, 30]\n",
    "      d['high'][1] = 500\n",
    "      print d\n",
    "      print e\n",
    "      print f\n",
    "  1. 위 코드의 수행 결과 d와 e는 항상 같은 결과를 출력한다. 그 이유는 무엇인가?\n",
    "  2. 위 코드의 수행 결과 마지막 f의 내용은 다음과 같다. 이 때 'high' 키의 값 내용 중 500이 출력된 이유와 'low' 키의 값 내용 중 [1, 2, 3]이 출력된 이유를 설명하시오 ([hint]: shallow copy 관점에서 설명하시오.)\n",
    "  \n",
    "      {'high': [4, 500, 6], 'low': [1, 2, 3]}"
   ]
  },
  {
   "cell_type": "code",
   "execution_count": 5,
   "metadata": {
    "collapsed": false
   },
   "outputs": [
    {
     "name": "stdout",
     "output_type": "stream",
     "text": [
      "{'high': [4, 5, 6], 'low': [1, 2, 3]}\n",
      "{'high': [4, 5, 6], 'low': [1, 2, 3]}\n",
      "{'high': [4, 5, 6], 'low': [1, 2, 3]}\n",
      "\n",
      "{'high': [4, 500, 6], 'low': [10, 20, 30]}\n",
      "{'high': [4, 500, 6], 'low': [10, 20, 30]}\n",
      "{'high': [4, 500, 6], 'low': [1, 2, 3]}\n"
     ]
    }
   ],
   "source": [
    "L1 = [1, 2, 3]\n",
    "L2 = [4, 5, 6]\n",
    "d = {'low':L1, 'high':L2}\n",
    "e = d\n",
    "f = d.copy()\n",
    "print d\n",
    "print e\n",
    "print f\n",
    "print\n",
    "d['low'] = [10, 20, 30]\n",
    "d['high'][1] = 500\n",
    "print d\n",
    "print e\n",
    "print f"
   ]
  },
  {
   "cell_type": "markdown",
   "metadata": {},
   "source": [
    "- 1.의 경우, e에는 d가 가리키는 객체의 주소가 담겨지게 되는데, 즉 e에는 d에 담긴 사전의 레퍼런스가 들어가게 됩니다. 그에 따라서 d가 가리키는 객체와 e가 가리키는 객체가 같아집니다. 따라서 d의 출력값과 e의 출력값은 항상 같아지게 됩니다.\n",
    "- 2.의 경우, f=d.copy()와 같은 코드에서 얕은 복사가 일어났기 때문에 발생한 결과입니다. copy를 이용하여 복사를 진행할 경우 깊은 복사가 아닌 얕은복사(한단계 깊이의 복사)가 일어납니다. 그 경우, 리스트 안에 존재하는 (각 객체를 가리키는)원소는 공유되게 되어 별도의 객체가 존재하지는 않습니다. 따라서 d['high'][1]=500과 같은 코드를 주었을 때, 모두가 공유하고 있는 객체의 변화로 인해 f에서도 바뀐 값이 출력되게 되었습니다. 반면, value로 들어간 리스트 자체는 새로운 객체를 생성하며 복사되었기 때문에, d['low']=[10,20,30]과 같은 코드에 의해 f가 변하지는 않았습니다. 그 결과 {'high': [4, 500, 6], 'low': [1, 2, 3]}와 같은 출력이 이루어졌습니다."
   ]
  },
  {
   "cell_type": "markdown",
   "metadata": {},
   "source": [
    "####07) 사전 d = {'one':1, 'two':2, 'three':3, 'four':4, 'five':5}가 주어졌을 때 다음 요구사항에 맞는 코드를 제시하시오\n",
    "\n",
    "- [참고]: d.keys(), d.values()를 통해 리스트를 얻어낸 후 리스트가 지니고 있는 sort(cmp=None, key=None, reverse=False)함수를 활용하시오.\n",
    "- 1) 키의 알파벳 오름차순 순서대로 튜플 (키, 값)을 차례대로 출력하시오.\n",
    "- 2) 키의 알파벳 내림차순 순서대로 튜플 (키, 값)을 차례대로 출력하시오.\n",
    "- 3) 값의 오름차순 순서대로 튜플 (키, 값)을 차례대로 출력하시오.\n",
    "- 4) 값의 내림차순 순서대로 튜플 (키, 값)을 차례대로 출력하시오."
   ]
  },
  {
   "cell_type": "code",
   "execution_count": 46,
   "metadata": {
    "collapsed": false
   },
   "outputs": [
    {
     "name": "stdout",
     "output_type": "stream",
     "text": [
      "('five', 5) ('four', 4) ('one', 1) ('three', 3) ('two', 2)\n",
      "('two', 2) ('three', 3) ('one', 1) ('four', 4) ('five', 5)\n",
      "('one', 1) ('two', 2) ('three', 3) ('four', 4) ('five', 5) ('one', 1) ('two', 2) ('three', 3) ('four', 4) ('five', 5)\n",
      "('five', 5) ('four', 4) ('three', 3) ('two', 2) ('one', 1) ('five', 5) ('four', 4) ('three', 3) ('two', 2) ('one', 1)\n"
     ]
    }
   ],
   "source": [
    "def v(item):#f를 이거로 주었기 때문에 가능한거....\n",
    "    return item[1]\n",
    "\n",
    "d = {'one':1, 'two':2, 'three':3, 'four':4, 'five':5}\n",
    "li_keys=d.keys()\n",
    "li_values=d.values()\n",
    "\n",
    "#1)\n",
    "li_keys.sort()\n",
    "for key in li_keys:\n",
    "    print (key, d[key]),\n",
    "\n",
    "print\n",
    "\n",
    "#2)\n",
    "li_keys.sort(reverse=True)\n",
    "for key in li_keys:\n",
    "    print (key,d[key]),\n",
    "    \n",
    "print\n",
    "\n",
    "#3)\n",
    "li_values.sort()\n",
    "for value in li_values:\n",
    "    for key in li_keys:\n",
    "        if(d[key]==value):\n",
    "            print (key,value),\n",
    "            \n",
    "#d.keys(), d.values()를 사용하지 않아도 될 경우\n",
    "li_items.sort(key=v)\n",
    "for t in li_items:\n",
    "    print t,\n",
    "    \n",
    "print\n",
    "\n",
    "#4)\n",
    "li_values.sort(reverse=True)\n",
    "for value in li_values:\n",
    "    for key in li_keys:\n",
    "        if(d[key]==value):\n",
    "            print (key,value),\n",
    "            \n",
    "#d.keys(), d.values()를 사용하지 않아도 될 경우\n",
    "li_items.sort(key=v,reverse=True)\n",
    "for t in li_items:\n",
    "    print t,\n",
    "    \n",
    "print"
   ]
  },
  {
   "cell_type": "markdown",
   "metadata": {},
   "source": [
    "- 1)의 경우 키의 알파벳 오름차순 순서대로 튜플을 출력하는 것이므로 먼저 얻었던 키를 오름차순으로 정렬한 뒤, 반복문을 통해 오름차순 정렬된 각 키와 그 키에 해당하는 밸류를 가져오며 출력하는 것으로 코드를 구성했습니다.\n",
    "- 2)의 경우 키의 알파벳 내림차순 순서대로 튜플을 출력하는 것이므로 먼저 얻었던 키를 내림차순으로 정렬한 뒤, 반복문을 통해 내림차순 정렬된 각 키와 그 키에 해당하는 밸류를 가져오며 출력하는 것으로 코드를 구성했습니다.\n",
    "- 3)의 경우 값의 오름차순 순서대로 튜플 (키, 값)을 차례대로 출력하는 것이므로, 밸류를 오름차순으로 정렬한뒤, 반복문을 통해 오름차순 정렬된 밸류와 각 키에 해당하는 값을 비교하여 같을경우 (키, 값)을 출력해주는 방식으로 코드를 만들었습니다. 문제에서 'd.keys(), d.values()를 통해 리스트를 얻어낸 후 리스트가 지니고 있는 sort(cmp=None, key=None, reverse=False)함수를 활용하시오'라고 하였기에 이런식으로 코드를 구성해보았는데, 만약에 keys와 values를 이용하지 않아도 된다면, 그 아래에 작성한 것 처럼 items를 이용해 좀 더 편하게 같은 기능을 하는 코드를 만들 수 있습니다.\n",
    "- 4)의 경우 값의 내림차순 순서대로 튜플 (키, 값)을 차례대로 출력하는 것이므로, 밸류를 내림차순으로 정렬한뒤, 반복문을 통해 내림차순 정렬된 밸류와 각 키에 해당하는 값을 비교하여 같을경우 (키, 값)을 출력해주는 방식으로 코드를 만들었습니다. 문제에서 'd.keys(), d.values()를 통해 리스트를 얻어낸 후 리스트가 지니고 있는 sort(cmp=None, key=None, reverse=False)함수를 활용하시오'라고 하였기에 이런식으로 코드를 구성해보았는데, 만약에 keys와 values를 이용하지 않아도 된다면, 그 아래에 작성한 것 처럼 items를 이용해 좀 더 편하게 같은 기능을 하는 코드를 만들 수 있습니다.\n"
   ]
  },
  {
   "cell_type": "markdown",
   "metadata": {},
   "source": [
    "####08) [프로젝트 오일러 문제 7]\n",
    "- 10001번째의 소수\n",
    "  - 소수를 크기 순으로 나열하면 2, 3, 5, 7, 11, 13, ... 과 같이 됩니다.\n",
    "  - 이 때 10,001번째의 소수를 구하세요."
   ]
  },
  {
   "cell_type": "code",
   "execution_count": 59,
   "metadata": {
    "collapsed": false
   },
   "outputs": [
    {
     "name": "stdout",
     "output_type": "stream",
     "text": [
      "104743\n"
     ]
    }
   ],
   "source": [
    "prime_list = [2]\n",
    "num=3\n",
    "while(len(prime_list)!=10001):\n",
    "    temp=0\n",
    "    for p in prime_list:\n",
    "        if(num%p==0):\n",
    "            temp+=1\n",
    "            break\n",
    "    if(temp==0):\n",
    "        prime_list.append(num)\n",
    "    num+=2\n",
    "print prime_list[len(prime_list)-1]"
   ]
  },
  {
   "cell_type": "markdown",
   "metadata": {},
   "source": [
    "- 소수로 판단된 수를 가지고 있을 리스트 prime_num에 소수인것이 자명한 2를 넣어주고 시작했습니다. 그 다음으로 소수인지 판단할 수를 가지고 있을 변수 num을 3으로 지정해주었습니다. 그 뒤 소수로 판단된 수들을 가지고 있을 prime_list의 길이가 10001이 아닌동안, 반복을 돌려주었습니다. 소수임을 판단할 때 이용할 수 temp를 0으로 지정해주고, prime_list안의 수들로 소수임을 판단할 수 num을 나누어 만약 나머지가 0이 되면 temp를 증가시키고 반복을 중단했습니다. 그 후, 만약 temp가 0이면 prime_list의 현재 num을 추가시켜준 뒤, num을 2 증가시켰습니다. 짝수는 2로 무조건 나누어지므로, 2를 제외한 짝수는 소수일 수 없으므로 판단하지 않아도 되기 때문입니다.\n",
    "- 마지막으로 들어온 수를 출력하기 위해 prime_list의 길이에서 1을 뺀 값을 인덱스로 주어 원소를 출력해주었습니다."
   ]
  },
  {
   "cell_type": "markdown",
   "metadata": {},
   "source": [
    "####09) [프로젝트 오일러 문제 8]\n",
    "- 1000자리 숫자 안에서 이어지는 5자리 숫자의 곱 중 최대값은?\n",
    "  - 다음은 연속된 1000자리 숫자입니다 (읽기 좋게 50자리씩 잘라놓음).\n",
    "\n",
    "        73167176531330624919225119674426574742355349194934\n",
    "        96983520312774506326239578318016984801869478851843\n",
    "        85861560789112949495459501737958331952853208805511\n",
    "        12540698747158523863050715693290963295227443043557\n",
    "        66896648950445244523161731856403098711121722383113\n",
    "        62229893423380308135336276614282806444486645238749\n",
    "        30358907296290491560440772390713810515859307960866\n",
    "        70172427121883998797908792274921901699720888093776\n",
    "        65727333001053367881220235421809751254540594752243\n",
    "        52584907711670556013604839586446706324415722155397\n",
    "        53697817977846174064955149290862569321978468622482\n",
    "        83972241375657056057490261407972968652414535100474\n",
    "        82166370484403199890008895243450658541227588666881\n",
    "        16427171479924442928230863465674813919123162824586\n",
    "        17866458359124566529476545682848912883142607690042\n",
    "        24219022671055626321111109370544217506941658960408\n",
    "        07198403850962455444362981230987879927244284909188\n",
    "        84580156166097919133875499200524063689912560717606\n",
    "        05886116467109405077541002256983155200055935729725\n",
    "        71636269561882670428252483600823257530420752963450\n",
    "\n",
    "    - 여기서 붉게 표시된 71112의 경우 7, 1, 1, 1, 2 각 숫자를 모두 곱하면 14가 됩니다.\n",
    "    - 이런 식으로 맨 처음 (7 × 3 × 1 × 6 × 7 = 882) 부터 맨 끝 (6 × 3 × 4 × 5 × 0 = 0) 까지 5자리 숫자들의 곱을 구할 수 있습니다.\n",
    "    - 이렇게 구할 수 있는 5자리 숫자의 곱 중에서 가장 큰 값은 얼마입니까?"
   ]
  },
  {
   "cell_type": "code",
   "execution_count": 48,
   "metadata": {
    "collapsed": false
   },
   "outputs": [
    {
     "name": "stdout",
     "output_type": "stream",
     "text": [
      "40824\n"
     ]
    }
   ],
   "source": [
    "a=7316717653133062491922511967442657474235534919493496983520312774506326239578318016984801869478851843858615607891129494954595017379583319528532088055111254069874715852386305071569329096329522744304355766896648950445244523161731856403098711121722383113622298934233803081353362766142828064444866452387493035890729629049156044077239071381051585930796086670172427121883998797908792274921901699720888093776657273330010533678812202354218097512545405947522435258490771167055601360483958644670632441572215539753697817977846174064955149290862569321978468622482839722413756570560574902614079729686524145351004748216637048440319989000889524345065854122758866688116427171479924442928230863465674813919123162824586178664583591245665294765456828489128831426076900422421902267105562632111110937054421750694165896040807198403850962455444362981230987879927244284909188845801561660979191338754992005240636899125607176060588611646710940507754100225698315520005593572972571636269561882670428252483600823257530420752963450\n",
    "str_a=str(a)\n",
    "mul=0\n",
    "for i in range(1,997):\n",
    "    temp=1\n",
    "    if(str_a[i]=='0' or str_a[i+1]=='0' or str_a[i+2]=='0' or str_a[i+3]=='0' or str_a[i+4]=='0'):\n",
    "        pass\n",
    "    else:\n",
    "        for j in range(i,i+5):\n",
    "            temp*=int(str_a[j])\n",
    "        if(mul<temp):\n",
    "            mul=temp   \n",
    "print mul        "
   ]
  },
  {
   "cell_type": "markdown",
   "metadata": {},
   "source": [
    "- 이 문제의 경우 일단 주어진 숫자를 문자열화 해준 뒤, 반복문을 돌려 곱을 구하는 다섯 숫자 중 하나라도 0이면 패스하게 하였고, 0이 아닐 경우에는 다섯 숫자의 곱을 구한 뒤, 만약 구한 곱(여기선 temp)이 여태까지 구해놓은 곱(mul)보다 클 경우, 값을 바꿔주는 식으로 코드를 만들었습니다."
   ]
  },
  {
   "cell_type": "markdown",
   "metadata": {},
   "source": [
    "####10) [프로젝트 오일러 문제 9]\n",
    "- a + b + c = 1000 이 되는 피타고라스 수\n",
    "  - 세 자연수 a, b, c 가 피타고라스 정리 a^2 + b^2 = c^2 를 만족하면 피타고라스 수라고 부릅니다 (여기서 a < b < c ).\n",
    "  - 예를 들면 32 + 42 = 9 + 16 = 25 = 52이므로 3, 4, 5는 피타고라스 수입니다.\n",
    "  - a + b + c = 1000 인 피타고라스 수 a, b, c는 한 가지 뿐입니다. 이 때, a × b × c 는 얼마입니까?"
   ]
  },
  {
   "cell_type": "code",
   "execution_count": 55,
   "metadata": {
    "collapsed": false
   },
   "outputs": [
    {
     "name": "stdout",
     "output_type": "stream",
     "text": [
      "31875000\n"
     ]
    }
   ],
   "source": [
    "def pita(n):\n",
    "    for j in range(n/2-1,0,-1):\n",
    "        for k in range(n/2,j,-1):#삼각형의 성립조건\n",
    "            i=n-j-k\n",
    "            if(i>j):\n",
    "                break\n",
    "            elif(((i*i)+(j*j))==(k*k)):\n",
    "                return i*j*k\n",
    "print pita(1000)"
   ]
  },
  {
   "cell_type": "markdown",
   "metadata": {},
   "source": [
    "- 이 문제를 풀 때는 먼저, 반복을 줄이기 위해서 삼각형의 성립조건을 생각해볼 수 있습니다. 삼각형의 세 변의 길이는 가장긴변의 길이가 나머지 두 변의 길이의 합보다 짧아야 하므로, 두 변의 길이가 주어지면, 나머지 한 변의 길이의 범위를 정할 수 있게 됩니다. 여기서는 세 변의 길이의 합이 1000이라는 조건이 주어졌으므로, 그 조건에 따라 두 변의 길이가 정해지면 자연스럽게 조건을 만족하는 나머지 한 변의 길이를 구할 수 있게 됩니다. 또 큰 수가 들어갈 것으로 예상하여 반복을 뒤부터 돌려준다면 좀 더 반복되는 횟수를 줄일 수 있게 됩니다.\n",
    "- 먼저, j는 중간길이의 변(만약 가장 긴 변을 제외한 나머지 두 변의 길이가 같다면 짧은 변)을 나타내고, k는 가장 긴 변을 나타냅니다. 그래서 k는 j보다 클 동안만 감소하게 됩니다. 그렇게 k와 j에 특정한 길이가 대입되면, 1000에서 나머지 두 변의 길이를 빼 가장 짧은 변의 길이인 i를 구합니다. 만약 그렇게 구한 i가 j보다 클 경우 조건에 위배되므로 반복을 멈춥니다(같은 값을 순서만 바뀐채로 두번 구하는 것을 방지하기 위함). 만약 i까지 구했을 때, 세 변의 길이가 i<j<k 라는 조건을 만족한다면, i의 제곱과 j의 제곱의 합이 k의 제곱과 같은지를 판단하고 만약 같다면 그 세 수의 곱을 반환해줍니다."
   ]
  },
  {
   "cell_type": "markdown",
   "metadata": {},
   "source": [
    "####11) [Incremental Project] 이전 Assignment 2의 마지막 문제는 웹 URL로 지정된 웹페이지를 문자열로 가져와 모든 HTML 태그 및 CSS와 Javascript를 제외한 순수 텍스트를 얻어내고 그 안에 존재하는 단어를 추출하고 단어들의 총 개수를 출력하는 프로그램을 작성하는 것이었다. 이번에는 그 마지막 숙제를 그대로 확장하여 웹 URL로 지정된 웹페이지 내 순수 텍스트 안에 존재하는 각 단어들에 대해 다음 요구사항 대로 출력하는 프로그램을 작성하시오.\n",
    "- 요구사항 1. 순수 텍스트 안에 존재하는 단어들에 대해 string 모듈을 활용하여 모든 punctuation (구두문자)를 완벽히 제거하시오.\n",
    "  - 예: ['world!', ':', '+hello+', '~python$$$', '=', 'world'] ---> ['world', 'hello', 'python', 'world']\n",
    "  - 모든 punctuation을 확인하는 방법은 아래와 같다.\n",
    "    - import string\n",
    "    - print string.punctuation\n",
    "- 요구사항 2. 만약 punctuation (구두문자)를 제거한 이후 공백으로 판명되는 단어들은 해당 단어 리스트에서 제거하시오.\n",
    "  - 예: ['컴퓨터공학부!', '---?', '%지향~', '...'] ---> ['컴퓨터공학부', '지향']\n",
    "- 요구사항 3. 각 단어들의 출현빈도를 사전형태로 저장하여 출력하시오.\n",
    "  - 예: ['world', 'hello', 'python', 'world', '컴퓨터공학부', '지향'] ---> {'world': 2, 'hello': 1, 'python': 1, '컴퓨터공학부': 1, '지향': 1}\n",
    "- 요구사항 4. 다음 3개의 사이트에 대한 결과를 출력하시오.\n",
    "  - http://www.naver.com\n",
    "  - http://www.daum.net\n",
    "  - http://www.nytimes.com"
   ]
  },
  {
   "cell_type": "code",
   "execution_count": 14,
   "metadata": {
    "collapsed": false
   },
   "outputs": [
    {
     "name": "stdout",
     "output_type": "stream",
     "text": [
      "func:7 유지:1 폐지된다:1 344:1 345:1 346:1 340:1 aut:3 SectionMain:1 바로이동:1 fieldset:6 화:1 홈:4 212px:1 주제형캐스트:1 앨리스:1 때는:4 스위프:1 스위프트:3 298:1 296:1 자주:2 293:3 3484:1 통신:1 220323218769:1 second:1 277:1 전문보기:2 LSD:1 hide:6 atcmp:25 006:4 selected:2 주요언론사:2 eco:1 설치하세요:1 new:9 net:55 Z0:1 sethomepage:1 켤:4 hmenu:2 108:1 109:1 102:1 100:16 카테고리:1 placeholder:2 확인:1 k:12 데일리안:1 10월:4 Andro:2 changes:1 308:1 원짜리:1 ts:1 0000000295CD:1 055:1 타임스퀘어:2 txt:23 050:1 unit:11 프리토킹:2 일정표:1 er3:1 9C:4 9B:1 9E:1 9D:14 9F:1 localStorage:8 m3:1 m2:1 preview:1 type:61 is:2 수상한:1 랭킹뉴스:1 라이프:1 99:4 phone:2 qdt:2 인물:1 91:1 90:4 CommonFn:3 95:8 94:11 97:1 96:4 me:2 word:2 mm:1 건강:1 mn:18 nidreminder:1 mp:1 05110101:1 my:7 오전:2 NOTICE:2 동작하지:1 저장되지:1 신청:2 나눔글꼴로:2 absolute:5 enc:2 end:1 quot:88 175219134273:1 NEWSSTAND:1 answer:10 판박이:1 config:2 571975:1 반드시:1 영자지:1 description:10 after:2 가능합니다:2 424px:1 않은:1 hotissue:3 slidingCookieExpDate:1 defaultservice:10 green:1 이동:13 1000:1 happybean:3 글로벌:1 over:1 jpeg:2 실시간:1 자세히보기:1 9위:1 before:2 ready1:3 공모전에:2 ready3:3 ready2:3 ime:1 img:91 전주:1 pkid:3 sid1:17 sid2:12 404:1 hidden:24 cls:1 웹드라마:2 break:2 승리:1 rectype:3 게임:2 l:7 castbox:1 372:4 374:1 376:1 391:1 390:2 396:1 getXHRObject:3 logo:4 Type:1 유지된:1 sendError:3 비밀번호:4 isLoad:3 content:1 keys:1 sliding:3 rk:11 키스:2 설치방법:1 NPay:2 241:1 243:1 08110580:1 자는:2 ntc:2 쇼핑:2 003:1 promotion6Close:1 002:1 shopAdBox:1 setItem:2 플레이리그:2 검색어는:1 naverpay:1 nhn:52 않는:1 보세요:2 rank:15 유아인:2 comic:3 최근:1 테일러:4 service:7 top:55 주간:3 isLogin:1 주요서비스:1 ton:1 다음캐스트:2 로그아웃을:1 고객님의:1 웹툰:3 최대:2 target:38 keyword:12 밝은:1 해주세요:1 국사편찬위:2 15879:2 배너:1 16111120:1 무료로:2 Flicking:1 lbl:6 contents:21 promotion6:1 nmenu:1 promotion8:1 RightBanner:1 없습니다:2 sug:1 acOff:2 바뀐다:1 최근검색어에서:1 coin:4 141627:1 dummy:10 안하기:1 slidingCookieName:1 dom:1 doc:1 m:20 runOnload:6 style7:1 오늘:2 번호는:1 행복시간표:2 337:1 최신:1 메인을:2 일회용:1 0007930261:1 0000000295CB:1 월스트리트저널:1 keywords:1 185426156887:1 run1:3 690:1 run2:3 11시:2 사용:2 headline:1 menu:3 occ:3 theme:10 검색등록:1 do:1 dl:15 검색:5 2억9천만:1 dd:56 sprh:20 tsbCookieExpDate:1 da:9 과거시험:1 0000000DC493:3 report:4 dt:14 재보궐선거:1 bar:13 신규:1 417:1 410:1 000000029674:2 0612:1 000000029672:2 0007930462:1 000000029670:2 000000029671:2 wtb3:1 wtb2:10 wtb1:20 branding:2 num:17 result:2 w9:1 temptation:1 183904803576:1 popularDay:1 gdid:3 574628:1 완료:1 muc:3 366:4 367:1 364:1 362:1 quSXI:8 361:1 wg:3 terms:1 074028801340:1 nature:2 검색해:1 wtb:36 ws:1 385:1 2위:1 387:1 388:1 news:39 선거일까지:1 wt170:2 백과사전:1 maxlength:2 login:9 sort2:1 com:196 해:1 HNB:3 height:42 active:1 loaded:1 255:3 미디어오늘:1 headlineList:2 RealTimeRank:1 활성화되었습니다:1 JSON:2 C8:3 dep2:1 C0:3 C7:3 location:4 encnm:2 mcb:3 901:1 생활위젯:1 input:35 catch:8 bindImage:3 NMS:4 삭제한:1 n:4 gnb:2 typeof:7 aid:11 908:1 076:1 904:1 중앙일보:1 075:1 loadWS:5 tsw:1 ALCS:1 ip:4 원인:2 ir:16 079:1 콘테스트:1 im:2 in:6 행복검색:1 ic:12 ie:21 id:186 if:37 강릉:1 아이콘을:1 amount:2 까지:1 urlencoded:1 nid:7 adshow:7 발생합니다:1 kin:4 Y:12 말기암:1 144:1 이슈:1 myTab:1 endic:1 contact:1 모히또:2 맑음:40 위치:1 left:13 25년:1 940px:1 29일:2 flasharea:1 noscript:2 onload:4 han:1 idinquiry:1 파인더:1 패밀리:1 잡고:2 step2:3 뽐뿌:1 국내:1 opt:41 전면:1 미세먼지:3 ops:3 검색어가:1 background:1 replace:3 sweather:12 가볍고:1 phrasebook:1 56:4 50:6 의외의:2 536:1 htmlarea:3 일교차:3 청담동:1 539:1 www:50 topclose:1 적발:1 people:1 감히:2 이전캐스트:2 056:1 cnt:4 057:1 ico:4 for:10 bottom:2 track:1 realrank:1 스토리:1 421:2 533:1 422:1 지도:3 00000002966E:2 00000002966D:2 plc:9 post:2 0px:1 및:3 삭제:4 보안로그인:1 취향:2 o:4 atcmpStart:1 입력하신:1 부탁해:1 있습니다:6 spamcheck:1 블로그:2 nautocomplete:1 mbc:1 down:3 right:3 wrap:15 위해서는:2 발칙하게:1 만에:1 support:9 loginframe:1 gif:19 gid:1 화려한:1 뉴스:5 574528:1 happy:2 head:2 form:9 월:1 recommend:1 레이어:8 원:1 저장:2 안내:3 설치하시겠습니까:2 스포츠:8 true:13 대학생:2 쇼핑캐스트:3 가능:2 만남:1 myBtn:2 0001687075:1 150:1 item:11 159:1 지글아이:1 onmousedown:1 cropImg:2 btnsm:1 장윤주:4 테크:1 no:5 tit:54 stake:1 저장할:1 14px:1 test:1 저장해:1 ns:4 nv:1 089:1 088:1 매체보기:2 083:1 082:1 081:1 087:1 squ:40 GOGO:1 빈:1 rolling:2 색상으로:1 Array:2 frameborder:6 09140104:1 townWetr:12 570539:1 98:11 570536:1 1024837:1 naver:281 상엽에:2 appendJSDom:5 delAll:2 한글캠페인:1 171px:1 skip:1 global:2 focus:5 위하여:1 라이브:2 41px:1 참여하세요:2 flash:3 0:91 finally:1 제복:1 0000000295F6:2 ncast:1 0000000DD1B0:1 일정:4 를:1 토론토:1 join:1 dim:1 248x140:2 level:2 제공되지:1 dic:4 p:61 15853:1 div:300 dis:1 기사보기:2 앱:5 fontfaq:1 설치된:1 부산:1 hty:1 45711727787307449:1 002AN:3 002AP:3 002AT:1 1019:10 template:20 안:2 1015:1 1016:1 부동산:3 1013:1 한게임:1 2회:2 구름많음:10 entertain:1 address:2 1분:2 box:43 주요:5 rankTitle:1 bok:3 이용을:1 cpress:1 경우에:1 통합검색:1 ntop2:4 ntop3:4 fbm:3 다음페이지:4 7803E801:31 04940320:1 sports:6 독도:1 https:19 msg:9 연예:2 prev:3 helpcenter:1 svctype:3 myNewsStand:2 아이엠낫:2 isSupportedFlicking:2 ℃:38 8위:1 iframe:18 Image:1 createJSDom:5 substring:1 strHost:1 7위:1 spo:3 234:1 171305470546:1 ToolBar:1 글꼴설정:4 charset:2 1:39 type2:1 economy:1 map:8 encpw:2 플레이리스트:1 143:1 140:13 짝사랑:2 디지털타임스:1 149:1 이곳에서:1 articleId:1 ranklist:2 date:4 data:102 TV편성:1 ss:3 네이버를:1 141474:1 q:3 sm:36 sl:1 켜기:5 구름조금:20 se:1 141497:1 일괄:1 092:4 lst:9 nbsp:1 usemap:2 차예련에:2 집필진:2 보내기:1 group:4 fontcampaign:1 행사:3 hot:3 했어:4 window:11 938:1 policy:2 mail:3 931:1 main:25 937:1 936:1 935:1 6247:1 finance:3 아이디어:2 nsd:4 073501177117:1 nation:2 not:1 탄산수의:1 지식iN:2 name:53 영상:10 em:96 square:4 공익:1 삭제합니다:2 전송은:1 버튼을:4 NAVER:2 미용실:1 냉장고를:1 container:3 생각한대로:1 시에:1 resultBox:4 중:1 내PC:1 newsStandUrl:1 취소:2 50px:1 frmNIDLogin:2 6dragons:1 임금피크제:1 수용:1 0000000DD4C5:1 0000000DD4C4:1 0000000DD4C6:1 139:1 924:1 logintp:1 수:1 first:1 blind:30 622:1 긍정부정검색:1 accesskey:5 submit:4 vote:1 message:1 open:5 size:2 349px:1 width:41 fms:2 부실운영:1 2:16 userinfo:1 회사소개:1 isIPAD:1 delDone:1 보호를:1 tsNormal:1 copy:29 날씨:3 png:6 11:11 10:14 13:7 12:7 15:1 14:1 17:1 16:2 19:4 18:4 PC에서는:1 removeUrl:2 pre:5 DL:7 XMLHttpRequest:1 032:1 오류:1 031:1 각:1 가:1 내일오후:12 개:1 만성기침의:2 충분한:2 noti:3 200:2 209:1 nctg:2 beta:1 172635299899:1 1위:1 sform:2 000000:1 drive:1 40분:1 mrf:1 mra:3 shop:7 0130:3 040:1 show:1 3홈런:1 공모전:2 풍기명란:2 친질라:1 지역:2 않습니다:2 onloadDone:4 title:120 에:2 현재:19 이산가족들:1 다시:5 ranking:1 프레임:1 자동완성:12 keywordOff:2 adinfo:1 우리:2 웹:1 hangeul:1 928:1 2415:2 920:1 921:1 춘천:1 923:1 where:29 925:1 926:1 927:1 relative:3 하자:2 광고:6 lnk:1 calendar:1 lnb:1 175704794426:1 setRequestHeader:2 label:14 3:10 922:1 XHRObject:1 notice:5 ju:1 26:1 jr:1 js:9 공용:1 article:3 주세요:1 다음:4 22:1 region:1 23:7 인가제:1 s:28 jindoAll:1 appendChild:1 color:2 검색어:16 period:2 newsLazy:1 3000:1 66:2 cancel:4 청소년보호정책:1 Noti:1 dlerr:4 016:1 Beta:1 arti:1 평균수준:1 500:1 급상승:1 themecast:7 shopping:5 635:1 myNone:1 내일오전:12 lcs:1 jtbc:2 qst:6 신고:4 className:3 cast:15 eid:3 이유는:1 newspaper:1 margin:6 hanja:1 Content:1 return:71 반해:2 48px:1 pay:3 제휴제안:1 10년:1 html:11 내역이:1 jrnaver:1 document:17 status:5 myBtnGroup:1 대전:1 LogError:9 utf8:20 oid:12 nidlogin:2 IT:1 동안:1 전문자료:1 clse:1 세계:1 高분양가:1 영화:9 undefined:7 수행하면:1 stripOutCommentBlock:2 06110101:1 capslock2:1 혹시:2 214:1 215:1 naverRgnCd:12 213:1 210:1 218:3 블로터:1 전체보기:1 uid:2 327:1 572349:1 application:1 이층버스:1 blog:4 15475126345:1 pcode:12 4:2 바로가기:5 상영:4 차근차근:2 A6:2 mov:13 575:1 amp:84 라인:1 IP보안:2 비정상회담:1 7802DF01:3 t:17 숨겨주는:1 제주:1 DLScript:32 5위:1 68:1 E:1 tvc:33 ly1:1 끄기:7 lotto:18 918:1 하니:6 915:1 914:1 917:1 tabIndex:5 911:1 910:1 913:1 912:1 10회:1 image7:1 0007929821:1 on:6 lastrank:1 ol:2 hideFlickingNoti:2 비긴즈:1 매거진:1 acr:3 acq:2 네이버캐스트:1 ServiceMenu:1 나르샤:5 os:3 responseText:1 932:1 image:1 loginv4:2 loginv3:1 스페인:2 78002101:3 cate:5 area:7 켜져:2 Cookie:2 네이버:20 NS:12 complete:1 영영사전:1 slidingOneTimeLink:1 IPAD:1 readyState:2 unuse:3 1020:6 default:1 사이트:3 triangleImg:1 이용률:1 606:8 ad:13 newssa:12 happypeople:1 hisoff:4 샤오미:8 onmouseout:1 cast2:6 cast3:1 541810:1 1115:1 휴대폰번호:1 보기위해서는:1 꺼져:3 time:9 Element:3 127px:1 월화목금:1 이제:2 mask:18 cpg:5 u:4 wtb21:5 이전:4 all:2 sch:5 code:14 회화:1 txtsm:1 alt:46 useWideLoginboxFlash:1 Themecast:3 tx:12 re:2 tv:7 tw:84 클릭하세요:4 to:12 init:14 eedic:1 제대로:1 homepage:2 tc:11 nanum:12 시스템글꼴:1 faq:3 diary:1 13113135:1 nexearch:28 E7:3 사이트로:1 weeklyFcast:2 list:30 나눔:1 dsc:7 thmb:3 flick:6 198:1 webkr:1 018:1 국어사전:1 141623:1 141620:1 141621:1 sub:2 141624:1 141625:1 꼭:2 section:1 Caps:2 TimeSquare:2 ED:18 0000000DC492:2 KBS:1 0000000DC490:3 0000000DC491:1 method:2 0000000DC494:1 0000000DC495:2 닫기:13 폰트를:1 커플의:2 2015032401:1 EC:61 Msxml2:3 strong:112 legend:6 902:1 903:1 search:69 가을에:2 906:1 907:1 codeElement:2 905:1 339900:1 909:1 예방교육:1 getElementById:12 78011B01:1 않고:1 rankup:1 action:4 추천:1 보톡스:1 vis:1 capslock:1 href:273 총알:2 rollover:3 select:4 855:1 localStorge:2 신세경에:2 special2:1 앱을:1 special1:1 NewsCast:1 Corp:1 뒤:2 6:11 로직:1 more:1 nsd144254191:1 company:1 개인정보:1 대구:1 검색어를:3 11720330:1 serviceNo:9 none:52 des:2 det:2 autocomplete:2 del:2 101:1 v:17 북스:1 deg:38 quickNews:3 여력있다:1 포메라니안:2 atcmpOff:1 하랬더니:1 navertop:1 라임:2 라임과:1 카페:2 아이디:4 0007930371:2 ft:1 DB공격:1 朴대통령:1 marginheight:4 fl:7 response:6 a:592 10000000000030423464:1 커피TV:1 footer:3 mktg:1 marginwidth:4 nmms:2 sectionList:3 checkbox:2 help:30 disabled:18 지디넷코리아:1 24:6 25:3 style:66 20:11 21:3 자동차:1 방송:1 29:1 offMsg:2 Binder:3 더:1 autoFrame:1 ym:12 ya:12 01110675:1 L:2 2F:2 viewtype:1 6위:1 경우:2 목:1 오후:1 청춘:1 빠른:1 취업성형:1 BaseURL:1 확보한:2 funoff:4 todo:1 event:121 경제:4 HomePageSet:4 JEagleEyeClient:4 기분:1 health:1 회원가입:1 7:9 get:2 groupbtm:4 sbs:1 꽃:2 유혹:1 EA:12 pub:3 EB:20 지워주세요:1 cookie:1 setTimeout:9 rect:4 유형:1 낭창:2 전문지:1 06503035927:1 0000000DC480:2 0000000DC482:2 073045941505:1 베이비복스:2 tabindex:5 tsbOneTimeLink:1 도입:1 number:1 done:3 blank:38 opencast:2 네이버뉴스:1 script:18 TV캐스트:2 141525:1 style12:1 userInfoUrl:1 141522:1 ncy:5 취약점:1 option:88 투데이:1 0000000DC4BE:1 금강산서:1 0000000DC4BC:1 ncc:3 0000000DC4BB:1 도움말:9 b:34 youth:1 7시:1 미리보기:1 str:2 2028:4 569383:1 880:1 569386:1 QR코드:1 광주:1 null:2 상봉:1 lif:3 reatcmp:1 354:1 prsco:1 play:2 ct5:1 M:1 정책:2 clearLS:4 78:2 시사상식:1 0007930169:1 mobile:34 clear:1 tpl:3 ko:1 오픈캐스트:1 동시에:1 3위:1 상태:1 집살:1 atc2:1 font:2 밀어내기:1 nv1:3 music:6 keypage:1 ques:2 8:12 banner:2 구독목록:1 initPage:1 remove:1 가계:1 sstatic:5 x:2 사람처럼:2 set:8 해킹사고는:1 seq:13 arw:1 312:1 311:1 310:1 makeHomePage:1 14535917:1 sec:12 close:9 GET:1 0912:1 movie:5 생중계:2 11곳:1 popup:6 이전페이지:4 메일:1 mquick:1 nav:10 logff:1 youthpolicy:1 c:31 선택하여:1 나눔글꼴:8 심은진:2 slkpage:1 회차:1 전체언론사:2 newSmartSearch:1 다운로드URL:2 8시:2 header:1 1100001014:1 다운로드:3 pw:4 enctp:2 08153147217:1 학습:1 pg:3 empty:1 pm:4 계십니다:1 else:11 gam:3 naverSetHomepage:1 보기:1 흐림:2 백령:1 bill:6 salonderim:1 홍반성:2 isMyCast:1 match:3 behavior:1 error:4 141510:1 mypc:1 합니다:1 guide:11 jpg:25 쓰는:1 origin:10 052:1 worldbaseball:1 875:1 크고:3 박차:2 read:1 loadXI:4 onclick:143 9:11 호스피스:1 setHomePage:2 bonus:1 문자받기:2 alert:2 토스트:2 상태유지:1 001:24 말테다:2 user:1 005:1 timesquareLazy:1 009:1 008:1 45711748991471214:1 더보기:3 saveID:2 recent:1 CenterBanner:1 IDHERE2:1 rules:4 확인되지:2 14130116:1 네이버me:1 nsd144736648:1 183421673737:1 769:1 loadJS:3 울상:2 2단계:1 shape:4 트와이스:8 1074:1 shortcut:4 쥬니버:1 rgb:1 모두:2 음악:1 572874:1 rgn:12 0007930311:1 331:1 bid:3 game:1 찾는:1 기록을:1 예보:3 그쳐:1 d:24 continue:1 Font:1 onreadystatechange:1 주제별:1 고고:1 loadModule:1 ntop1:4 썸:2 일본어사전:1 retry:4 mkhome:3 스마트:1 설치:5 상반기:1 coords:4 포함:2 bd:1 bg:1 categoryNo:9 300:2 63회:1 bn:2 304:1 306:1 네이버SE:1 bw:2 br:12 by:2 cecs:1 idx:2 정은지:2 B9:1 목소리도:2 krdic:1 라이센스:2 block:2 살아요:1 20120111:1 lifesrch:1 연극이:2 NEW:1 nss:2 atcmpIng:1 span:880 MY뉴스:1 노블레스:4 long:2 야야야:2 20150904:1 20150907:1 환자:1 ie55:1 spat:10 무료입니다:1 maxLayer:1 link:8 createElement:1 line:1 myNewsInfo:2 피는:2 utf:2 cid:2 injectScripts:3 up:25 ul:52 TV:2 highlight:2 z:4 공연:2 opencastNTopUrl:1 isMobile:1 pressInfo:1 svcmore:3 cafe:4 해피빈:1 사용자가:2 4월29일:1 A1:2 A0:15 A3:2 A5:2 A4:15 A7:1 getElementsByTagName:1 A8:4 newshome:1 같은:1 AC:8 AD:4 ly2:1 AF:2 상승:11 끝나고:2 eval:1 현실:2 위협은:1 042:1 land:5 e:8 svc:18 jpdic:1 차:1 svr:1 tooltip3:1 tooltip2:1 tooltip1:1 gt:2 partial:1 nidregister:1 체크:1 나눔글꼴이:2 011:1 toggle:2 013:1 014:1 015:1 ly3:1 go:1 query:29 gi:1 나눔글꼴을:3 선호주제설정:1 send:1 주의:3 조선비즈:1 오브젝트의:1 192032247623:1 임의로:1 기존:1 appstore:1 경찰:1 고객센터:1 916:1 button:16 110px:1 try:8 tsbCookieName:1 help2:2 악용한:1 nonsummit:1 acir:10 innerHTML:1 video:3 3A:1 hspace:1 완료되지:1 ct4:1 index:8 ct6:1 ct7:1 ct1:13 ct2:1 ct3:1 ct8:1 zA:1 설정된:2 0000000DC4C1:1 FlashNewsRoll:1 기온:2 body:3 exchange:3 000000029605:2 440:1 447:1 000000029602:2 김호진:2 39:20 정무특보:1 31:1 30:2 변경에:1 범위:1 20초면:2 livecenter:1 동아일보:1 검색어저장:6 339:1 338:1 335:1 334:1 app:4 336:1 showErrorDiv:1 330:1 333:1 332:1 api:7 책:4 chb:1 chk:5 next:8 368px:1 onStagePreview:1 navercorp:3 sort:3 src:62 mismatch:4 대한:3 온스테이지:2 smartSearch:3 독침을:2 account:7 F3:3 대해:1 F6:3 f:10 this:142 ActiveXObject:1 열기:2 TV프로그램:1 새창:1 메뉴:2 한국일보:1 젠틀맨리그:1 mask2:1 tag:1 2Fwww:1 tab:1 문화콘텐츠:2 나만의:1 07110101:1 naverapply:1 연금술사:1 0715:10 stock:3 기록:3 남주:2 1X1:10 inst:2 시작페이지:3 940:1 해야:1 추가하시려면:1 optgroup:4 135:1 kbs:1 연합뉴스:1 개인:2 write:1 tsi:12 onStage:1 tsb:3 li:176 h2:14 lt:1 수사관:1 2015:21 2014:11 앱스토어:1 2011:2 2013:1 tsq:90 flex:1 sqare:1 ckeys:5 auto:2 시작페이지로:1 질문형:1 025:4 024:1 NewsStand:3 021:1 020:4 023:1 022:1 029:4 028:1 nrefreshx:7 검색어로:1 성희롱:1 edit:18 hangame:2 slide:1 scrollbar:9 mode:19 증권:3 934:1 tvcast:33 생활:2 loadDS:3 88:2 89:3 static:49 82:17 83:5 80:4 81:1 87:1 84:12 최근검색어:2 category:2 entertainment:1 rev:1 육룡이:5 포르투갈:2 재설치:1 580:1 isYeonhapFlash:12 qdown:1 0000000295CE:1 alchemists:1 0000000295CF:1 0000000295CC:1 log:2 quS:10 웹문서:1 g:8 경기:4 8B:3 8C:2 8A:13 8F:4 8D:1 8E:1 인:1 length:9 AdMobile:1 선택:2 이:2 103624295628:1 000000029639:2 naverapp:1 000000029632:2 지역설정:1 000000029631:2 456:1 그룹:1 목에:1 RegExp:1 ip보안:1 playlist:1 224940510:1 933879:2 privacy:2 이채언루트:2 구독설정:1 해제:2 delMode:1 recentNone:1 첫:1 var:62 0000000DC4C0:1 promotion6Link:1 0000000DC4C2:1 0000000DC4C3:1 314:1 뮤직:4 574597:1 141473:2 info:2 onWindowLoad:1 false:36 눈물의:1 모든:2 좋게:1 border:3 사전:3 min:4 mid:17 기업을:2 326:4 574663:1 329:1 174px:1 getItem:2 LPOD:12 class:822 4위:1 popup1:1 popup2:1 ckb:2 url:13 Lock:2 소통:2 2007년:1 text:40 초대권:2 25곳:1 0000000DCA0E:1 area2:1 찾기:2 N드라이브:1 2012:1 local:2 368:4 cheongdamdong:1 목요일:2 120:1 상큼한:3 122:1 123:1 words:11 scrolling:4 recentBtnGroup:1 용어사전:1 qr:2 qu:2 조선시대:2 서울:2 h:18 363:1 영어:1 shm:1 view:2 newspaperUrl:1 맞는:1 svcmap:1 572775:1 Question:1 scroll9:1 038:3 039:4 전체:2 030:1 btn:14 공지사항:1 034:3 fmenu:2 138:11 영어사전:1 state:6 timesquare:3 국민행복캠페인:2 proposalGuide:1 javascript:33 localnum:1 주제별캐스트:1 로이터:1 PC에서:1 thumb:21 refreshLcs:2 etc:7 필요합니다:1 384:1 386:1 cl:2 자동반응:2 hm2:7 hm3:1 happysearch:1 389:1 도리화가:4 amigo:1 run3:3 939:1 newscast:1 json:2 설정:3 한자사전:1 랩:1 0007930450:1 날씨페이지로:12 성형을:2 0007930458:1 933:1 Wiget:1 World:1 청주:1 930:1 recentDelBtnGroup:1 value:82 뉴스스탠드:2 vspace:1 이용약관:1 라떼아트:2 ly:9 등록:3 site:2 faqId:3 574582:1 574581:1 수행:2 expwide:1 때문:1 검색어삭제:1 1900대:1 서비스:2 V앱에서:1 http:229 구성에:2 promo:1 바로:1 펼치기:6 v2:2 vlive:2 expand:1 0000000DC4BF:1 setf:5 0000000DC4BD:1 off:1 center:2 i:14 접을거야:2 072329997565:1 357:1 356:1 최초설치가:1 position:8 cafeblog:1 BD:5 BF:6 nv2:3 BB:4 BC:10 울릉:1 동영상:3 tcb:1 tcc:66 web:4 XMLHTTP:4 0731:1 289:1 add:9 5:13 증상:2 smart:2 카페글:1 newsstand:27 onmouseover:1 desk:1 press:3 atcmpCR:8 약관:1 password:1 desc:1 B4:4 B5:6 B0:8 B1:4 B2:3 B3:1 B8:16 page:1 사의:1 않아:1 개인정보취급방침:2 통신요금:1 117:1 111:1 110:3 home:1 78005501:25 21개:1 intronhn:1 캘린더이동:1 10위:1 59px:1 opencastUrl:1 완성:2 indexOf:2 난:2 047:1 045:3 044:1 Microsoft:1 panel:2 column:4 플래시:1 UI:2 내:11 0000000DD44D:3 h3:14 h1:2 h4:16 weather:33 검색홈:1 1987:4 0000000295E9:2 svcm:1 smit:4 images11:4 function:27 기능을:5 hr:4 brand:1 플레이어를:1 npay:1 getSingle:3 후보에:1 hm:2 hb:1 윤상현·김재원:1 mixpanel:2 isOnload:3 j:3 lve:11 books:1 기능이:5 janggo:1 CDATA:6 금융:1 display:51 postDataKey:2 0007930447:1 0007930446:1 카페명:1 int:2 pid:1 life:2 사용하고:1 신과함께:4 입력:2 MSG:2 NULL:1 recentTab:1 newss:5 contest:1 40:2 41:1 book:4 clickcr:112 이미지:1 158px:1 85:2 전신성:2 star:1 종합:1 bundle:6 01150615:1 atcmp15:3 경쟁률이:1 N:2 hnb:1 커피도:1 78000C01:1 nvlong:2 취업난:2 로그인:8\n",
      "6px:39 suggestBox:77 20151020113308900:1 31px:8 120614:1 연대에:1 620px:1 verdana:1 pwdLabel:1 adCgiTodayBrand:2 340:1 fieldset:3 279px:2 120120:2 internet:1 212px:1 36a0e4:1 loginForm:1 164px:2 C9eg2:1 사로잡는:1 380px:7 9px:34 쇼핑기획전:1 clipid:2 OK:1 스위프트:2 실체:1 293:1 290:1 어:1 유지:1 direct:1 750px:1 자동차:1 세탁기:1 83px:5 blue:1 item8:2 item9:2 hide:47 브라질:1 item2:2 item3:2 item1:2 item6:2 152px:1 item4:2 item5:2 7888:1 46:1 new:13 net:235 bestlikeTab:1 tvpotTab:1 182px:1 72011080:1 70986934:1 265px:2 menuyn:1 protection:1 책에서:1 active:4 eaeaea:2 100:27 101:1 미래를:1 200px:8 kids:1 98px:4 auction:1 10월:1 0℃:3 20151020115907086:1 5tab:2 113px:2 visible:2 다음앱:3 f73a40:1 txt:324 6884:1 2Fm2:1 adCgiTimeSponsor:2 500px:1 9C:3 9B:4 9E:2 383b42:2 bestshop:2 9F:2 꿀보이스:1 program:2 뉴스:2 type:34 273px:1 relay:2 라이프:2 99:9 phone:3 열정樂서:1 91:3 90:6 95:10 94:6 97:2 appimport:1 join:4 ms:1 든든한:1 my:24 64px:3 갑니다:1 give:4 555:7 중앙대학교:2 19px:24 425px:2 type1:3 type3:3 absolute:58 페이지:8 end:1 quot:17 feature:5 132px:1 w26:2 w27:2 w24:2 w25:2 w22:2 w23:2 w20:2 w21:2 answer:2 w28:2 w29:2 A:17 beauty:1 사명:1 50px:13 lab:13 79px:3 인기기획전:1 시험에:1 경고:1 264px:1 bookTab:1 6099:1 viewport10:1 C9FTj:1 적정:1 enter:3 687:16 daumkakao:4 dee1e6:1 변호사들이:1 deco:62 844px:1 jpeg:1 416px:2 실시간:2 caster:1 9위:2 운세:1 before:3 ime:2 img:298 전주:1 갇힌:1 6GsUm:1 4387:1 물들이는:1 imp:3 1375:1 hidden:129 adBrandingStation:1 쟁점:1 70px:6 363b4a:1 공존을:2 오사카:1 adHourTen:1 게임:3 2Fmlb:2 arrow:3 660px:3 232px:1 t2:9 13px:77 450px:2 3tab:2 395:1 990px:3 ㅁ:1 realtime:40 gradient:4 비밀번호:2 KOR9788937432071:1 1870px:1 content:19 i1:44 reader:22 linear:4 shopping1Tab:1 51px:2 349px:2 541px:2 쇼핑:4 AB형:2 playlistid:1 KOR9788976822437:1 가진자들에게:1 filter:2 shop4tabIndex:1 81838c:1 작가전:1 도움말보기:1 setpage:1 지도:3 340px:6 454545:1 43px:6 않는:1 rank:52 224px:3 싶:1 20151016132206499:1 최근:1 괴물이:1 테일러:2 살균제:1 top:300 tot:24 295px:1 박근혜:1 여덟:1 190:4 리커창:1 웹툰:2 71px:3 target:30 keyword:3 funGrpTab:1 맞서:1 project:3 376px:1 675px:1 BOK00027595098YE:1 minus:1 realestate:12 fashion:1 103px:6 20151014105200:1 blogTab:1 67px:3 인기:1 4위:2 contents:5 557df6:1 3a5fb9:1 650px:1 fname:8 링크모음:3 인재채용:1 3f8af9:1 e5e5e5:2 rere:5 248px:3 myset:19 letter:56 scripts:1 309px:1 dummy:10 episode:1 doc:4 천안시:1 m:4 오늘:1 상승43:2 페이지4:1 dot:3 tv팟:3 상승47:2 195px:1 item7:2 broadcastTab:1 돈으로:1 949494:1 tabid:1 layout:16 headline:30 menu:1 dotum:8 theme:1 about:2 티스토리:1 148px:1 우승하고:1 검색등록:1 plate:27 tiles:37 DQP:20 628px:1 검색:3 dd:2 sportsTab:1 dt:2 로스쿨의:3 bar:4 699px:1 선반:2 C48qf:1 tvTab:1 여야:1 8NZlr:1 100px:11 recruit:2 num:127 radius:1 best:8 7a7c83:1 02:1 06:2 CCBRQ:1 away:2 09:1 4e82ee:5 score:6 2FKC:1 kantukan:1 005dde:1 wa:1 183px:1 2위:3 visited:2 news:28 protect:4 203px:1 백과사전:1 recomsvc:4 mycafe:4 롯데닷컴:1 20151019221039392:1 cod:4 208px:2 login:56 com:8 bbsId:2 597px:1 어학사전:1 0QH19:1 46475b:1 height:430 102:1 118px:2 shoppingRecommentBestSaleNextBtn:1 103:2 112px:3 상승60:2 상승67:2 basis:9 125px:6 loginbtn:1 bottommenu:1 105:4 149px:1 life:12 shop5tabIndex:1 C9GEU:1 infopolicy:1 627px:1 kosdaq:1 catch:1 모습은:1 마일리지:1 미래가:1 loginbox:3 7년째입니다:1 가습기:1 cont:302 지나:3 원인:1 ir:1 loginSubmit:1 6eqqK:1 id:147 minitoday:4 강릉:1 제조사:1 suggest:42 5778ff:1 4tab:2 남다른퀄리티:1 258px:2 split:1 eaebef:4 ㅇ:1 ㅅ:1 ㅂ:1 nil:24 adClock:1 ㅎ:1 i2:3 ㅋ:1 ㅊ:1 ㅈ:1 155px:2 180px:8 6eqiQ:1 7c7c7c:1 이슈:2 263px:1 멕시코혁명:1 페이지9:1 페이지8:1 ldquo:1 biz:2 페이지7:2 left:276 photo:9 757474:3 quotes:1 f25334:1 115px:1 코스닥:16 0K905:1 bnr:3 447px:1 0K906:1 알뜰:1 있는:1 rightbtm:6 save:2 3px:25 딸:1 linkSecurity:1 키우기에:1 background:472 남자들:1 shadow:3 mediaTitle:1 59:1 367px:1 1559:7 50:1 52:3 21px:20 2c74e0:1 security:4 467px:1 383px:1 8035:1 www:11 right:89 466px:1 20151016164528:1 daumapp:7 ea570a:1 9999:1 specialPrevBtn:1 탭:10 ico:187 for:4 bottom:55 427px:3 그들은:1 400px:13 130px:8 박:1 속:2 196adb:2 6℃:1 iSTYLE24:1 던지는:1 52px:7 post:1 0px:2 storyballTab:1 및:3 b79ab27b280f96fed647dd3aff174cce619d42ae:1 storyball:16 o:1 9A:1 밤:1 sitemap:2 span:198 접근성:1 546px:1 블로그:3 float:113 25707:1 9D:4 보상:1 42px:8 그들이:1 강과:1 출연료:1 7인의:1 69px:3 cafehot:1 24adc0:1 top13:1 gallery:1 성장률:1 gid:1 ㄱ:1 이마트몰:1 m1:1 ㄹ:1 신규앱:1 head:8 form:2 서비스약관:1 lbStln:1 안내:2 rissue:20 스포츠:3 true:10 222:4 220:1 reset:2 full:1 웹:1 만남:1 broadcastLink:1 20px:32 temper:17 150:1 labid:2 희망해:3 모으다:1 issuerank:3 355px:1 66px:15 check:2 dotted:1 no:36 tit:331 임신부들:1 tip:22 폭행당한:1 수납:1 14px:61 대통령:1 roll:11 입으면예뻐요:1 JTBC:1 775px:1 rolling:1 내남친감동템:1 20121016:1 frameborder:2 53px:8 지만원:2 이토록:1 98:16 CAitb:1 daily:2 놓치면후회해:1 곁에:1 fst:11 옥션:1 301px:1 push:3 사용의:1 병:1 webtoon:12 91px:1 171px:3 shopping4:1 focus:2 CA3Qg:1 conthome:10 41px:13 무너져도:1 show:1 본:1 0:514 477ae4:2 shopping4Tab:1 100232999:1 36px:9 올겨울따숩게:1 문장이라면:1 벼슬이냐:1 b0594e43c2424ba29732c8c7fb944d98:1 토론토:1 exact:39 77px:1 recruitprocess:1 item:14 mediaPageNum:1 subway:1 team:7 div:123 베스트100:1 슈퍼기뢰:1 6화:1 CJ몰:1 bg:22 101px:3 부산:1 1tab:3 책홈:1 bold:21 61px:3 캔자스시티:1 하프클럽:1 부동산:2 140px:1 gseshop:1 제휴문의:1 funTab:1 entertain:10 address:1 box:45 199px:1 주요:2 26292a:1 rank10:3 단행:1 fc6870:1 46px:5 92px:2 170px:23 20151020111534:1 realTimeSearchWord:1 nowrap:16 newsTab:1 market:1 불편한:1 helvetica:2 sports:15 live:2 https:7 msg:5 연예:2 inputPwd:2 today:225 특가40:1 미래학자가:1 37px:5 쇼핑홈:1 209bdb:2 부분개각:1 8위:2 iframe:6 218px:1 Daum:1 d8d9db:2 7px:36 rtupkwd:20 29px:3 topic:2 celsius:1 7위:2 237:1 spe:29 charset:1 shining:1 두려워만:1 gulim:7 1:109 plus:1 type2:26 item10:2 259px:1 96969b:1 shoppingbox:2 143:1 max:2 139px:2 딴소리하는:1 414141:1 articleId:1 515px:4 154px:2 181px:8 View:2 존재하는가:1 outline:3 CB67z:1 정보:8 188px:11 q:27 sh:1 패션:1 12주년:1 따뜻한:1 1430px:8 kospi:1 385px:1 사회의:1 lst:4 20121026:1 pointer:18 20121023:2 기피하다:1 todayWeatherLocal:1 group:1 thumb:46 servicepolicy:1 hot:2 434a55:1 mycont:16 policy:20 ndash:1 tiara:4 로드뷰:1 blockquote:4 5384:1 finance:4 통합:1 e5333d:1 down:5 name:13 읽을:1 loginform:2 피해:1 3f4145:1 miznetTab:1 제목:22 h:1 WE9B4uIr7bA0:1 em:133 115326644:1 1165px:1 dodry:1 618:1 wrap:178 G마켓:1 점수:1 space:18 20151014153141:1 아이로:1 중:2 혼란을:1 705px:1 daum:364 searchbox:1 미즈넷:2 after:3 bookid:6 imgtxt:13 1130:8 20:10 138px:1 수용:1 특가39000:1 347px:1 entertainTab:1 recom:14 20150924113606:1 promotion:11 20151015144613:1 ATG:20 아닌데:1 379px:2 hopeTab:1 topbar:1 shoppingPageNum:1 고위층:1 localWeatherTitle:1 ring:1 eduTab:1 open:2 size:77 city:15 600px:2 checked:1 ec0000:1 dedede:1 CCBtO:1 4c4c4c:1 불안:1 2:15 117px:4 회사소개:1 굴림:7 white:19 88px:1 cite:1 89px:5 410px:3 보호를:1 중계센터:1 padding:189 국정화:1 copy:11 날씨:3 png:35 11:5 10:14 13:3 12:2 14:1 16:2 19:4 18:2 stln:3 허니버터칩:1 한국에:1 소호:2 330px:4 365px:3 eeeef0:6 청주:1 pre:1 485px:1 DA:28 shtml:1 aside:2 日서도:1 메가트렌드를:1 3위:3 경기시간:1 15px:73 MLB:1 normal:17 track:1 price:10 406px:1 김재원:1 상승32:4 middot:1 icon:13 1760px:1 1위:4 pageIndex:1 textarea:4 280px:13 lifeTab:1 steady:13 sale:5 54px:12 thesong:18 soho:1 201510:3 width:344 shop:62 07분:1 165px:1 CCWtE:1 378px:6 1226px:1 최고:1 storyTitle:1 따른:1 지역:2 소개:1 가격:1 40px:16 upgrade:1 title:36 현재:10 20일:1 수원:1 ededed:1 하고:1 201509150948:1 444px:2 222px:1 phonenumberlogin:1 b8bbbf:2 배정남:2 눌러주세요:22 74px:1 춘천:1 입학처:2 myinfo:1 219px:1 8℃:3 시선:1 cacbce:1 relative:47 광고:3 movieTab:1 calendar:2 adTime:1 11번가:2 49px:1 뉴스펀딩:1 favorsch:3 880px:4 60px:8 label:26 3:25 2px:25 import:3 울릉도:1 notice:34 F50x50ht:2 vertical:93 logins:1 screen:45 250px:6 26:1 180207d71dc841d08ee1834b2e7cd4ca:1 405px:1 20151016152028:1 article:5 주세요:1 w03:3 z:26 맙소사:1 mono:1 1248px:1 283px:3 4℃:1 s:6 210px:4 남친도:1 color:205 검색어:1 166px:2 pop:1 60:1 205px:4 93px:3 68:11 9999px:31 177px:1 다음:9 emart:1 병사들:1 질문에:1 47px:8 돌연변이:1 shop1:10 shop3:9 shop2:9 shop5:9 shop4:9 direction:1 알려주는:1 221px:1 추진:1 34px:5 spirit:3 6GsSb:1 adMinOne:1 petebox:1 1102:5 75px:7 wrapper3:1 wrapper2:1 wrapper1:1 wrapper7:1 mediaPrevBtn:1 wrapper5:1 wrapper4:1 wrapper9:1 wrapper8:1 플레인:1 middle:4 adMinTen:1 유익한:2 funNextBtn:1 반해:1 W113x68:6 48px:5 media:76 멋진:1 html:8 63px:6 propose:1 106px:1 document:2 미시룩:1 status:6 대전:1 baseBox:3 251px:2 146px:1 밀레자켓2만:1 휘발성:1 cartoon:2 거:2 영화:3 in:7 todayWeatherDesc:1 페이지11:1 776px:1 daumcorp:1 신세계몰:1 269px:1 219:1 전체보기:2 상승28:2 오늘의:3 새장에:1 reverseType:2 underline:9 가장:1 2Fteam:2 에이스:1 922px:1 blog:23 4:13 바로가기:7 1980px:1 moz:1 hover:40 pso:6 read:1 eventlist:3 상봉단:1 CCAfa:1 amp:128 IP보안:3 35px:10 fortune:3 245px:1 6392:1 110021641:1 t:6 자동실행:1 colon:2 제주:1 윤상현:1 svcmove:1 gaia:2 5위:2 cancel:1 ec2c2f:1 얻고:1 20151019151053:1 어떻게:1 lotto:1 3Fv:2 경찰:1 9545:1 ddd:1 realestateTab:1 필리핀:1 총:7 126px:22 71039986:1 950px:1 mypeer:1 shop3tabIndex:1 on:83 ol:6 oc:8 newsbox:2 or:1 da4453:1 3770bf:1 image:25 1100px:1 accounts:2 area:2 imgshop:3 1732:1 writeln:2 start:6 451px:3 000원:1 116px:4 25ad8b:1 shoppingTodaySaleNextBtn:1 김포단수:2 20151020000208888skys:1 80px:10 with:1 79종:1 할인:1 default:44 244px:1 agora:10 ad:30 gameTab:1 종료:1 intro:7 484px:1 mediaTab:1 again:3 음서제:1 viewport9:1 viewport8:1 5:37 viewport3:1 viewport2:1 viewport1:1 viewport7:1 viewport6:1 viewport5:1 viewport4:1 opacity:4 time:29 레깅스:1 d5d4d8:1 303030:1 127px:2 바다가:1 3f78df:1 이제:2 미디어:2 397ce0:1 u:2 비판부터:1 이전:7 오늘만:1 all:7 tierBottomWrap:1 sch:6 737373:2 daumFoot:1 tahoma:5 alt:36 disk:1 375px:1 eaeaed:2 돋움:8 370px:5 tv:23 to:2 init:47 잇다:1 th:14 tf:7 td:2 vert:72 song:18 faq:1 Sale:1 rtupcoll:20 util:3 1px:169 mobileweb:4 미래능력:1 sans:20 와서:1 290px:22 t4:10 list:175 t1:22 레벨로:1 73e16a0d308d40bf9ef1a07e312eefdf:1 CCWjP:1 196:1 여수:1 만할:1 dfn:1 sug:1 todaybrand:2 sub:5 todayWeatherTemperature:1 2FTO:1 section:108 09시:1 rgba:2 method:1 353px:1 닫기:2 68px:2 bnr2:3 글이:1 talkNextBtn:1 반복해:1 1320px:3 strong:161 말하지:1 legend:1 talkPageNum:1 두고:1 search:70 허세:1 margin:155 72TBM:1 246:1 282px:1 는:1 action:1 추천:2 family:15 평범했던:1 211px:1 href:154 167px:6 228px:1 20151016132203354hhnx:1 purple3030:1 select:3 wrapper6:1 shoppingPrevBtn:1 BjjMY:1 Corp:1 광고안내:1 6:11 more:2 235px:1 관련:2 개인정보:1 220px:9 대구:1 webkit:6 kukminilbo:1 none:63 hour:2 백종원:2 28px:6 autocomplete:1 291px:2 mall:7 v:40 폰번호:1 num4:4 num5:2 num6:3 num7:2 num0:2 num1:8 num2:6 num3:6 num8:2 num9:3 accept:1 shoppingTodaySalePrevBtn:1 740px:1 1053:1 breaking:3 AK몰:1 임신이:1 강한:1 typetxt:4 카페:4 62px:4 1698:1 아이디:2 shoppingPopularEventTab:1 fr:1 107px:1 fw:2 지새운:1 불투명하게:1 229px:1 a5a6ac:5 넘쳐나는:1 horizontal:13 marginheight:2 fl:2 655px:1 a:159 bannerad:1 todayWeatherLocalBtn:1 트러블잡티싹:1 7author:1 footer:15 daumContent:1 609px:1 register:1 shopTabIndex:4 menu2:1 menu3:1 menu1:1 marginwidth:2 8f8f8f:1 inline:45 649px:1 3D20150718:2 checkbox:2 help:2 혜안:1 entermedia:1 현위치:1 disabled:1 다음작가:1 61646e:1 216px:1 fff:32 24:2 newapp:1 style:7 arial:2 21:1 22:2 23:1 myblog:4 상품:3 쇼핑몰:1 00015:2 94px:2 움직임도:1 rank6:3 미세먼지농도:2 2F:3 943px:1 320px:1 foot:16 227px:2 6위:2 420px:2 루리웹:1 32px:7 talkGrpTab:1 아직:1 weight:28 b7c1ca:1 kakaocorp:1 event:68 SH2:1 p:3 adTimeSponsor:1 f0f0f0:2 회원가입:1 7:10 KOR9791155285053:1 issue:88 4px:37 바로:22 곽진언:1 104px:1 ED:20 세상에서:1 EA:12 story:122 EC:47 EB:33 shopping5:1 이메일:1 blue2:1 shopping1:1 shopping3:1 shopping2:1 144px:2 service:60 507px:1 tabcont:74 miznet:12 caption:1 w:31 shophow:13 날짜:1 gif:14 tabindex:20 talkPrevBtn:1 cafeTab:1 159px:5 blank:32 tipTab:1 방향성:1 23px:16 267px:1 script:1 adCgiCache:2 2Flogo:2 station:2 이타적:1 weblogin:1 189:1 390px:6 20151020115947107:1 예산:1 part:191 알루미늄:1 f9f9f9:1 878787:4 b:7 shopbest:38 4559e9:6 minitodayBtn:1 247px:1 20151012115941:1 060원:1 범죄:1 e73923:2 광주:1 자제가:1 전:22 부모들에게:1 mallmenu1:1 mallmenu2:1 w40:3 w41:2 777:4 사람과:2 quote:2 6Gsiv:1 109916:1 77:16 75:2 70:24 alpha:2 120px:9 mobile:1 clear:12 339px:2 kr:1 뉴스홈:1 유아인:1 666:2 dcb2a67c099c4800b5f5a89039ae0f7d:1 ownerid:2 font:129 find:8 국정화는:1 cell:1 copyright:1 22px:19 todayWeatherTemperatureTxt:1 ipSecurity:2 모바일:1 8:15 동남구:1 여유:1 개정:1 shoppingRecommendBestGrpTab:1 2Fsports13:2 5bb4eee8ecd542648f2c4a503d315576:1 나의:1 대:2 CCBfz:1 dtgd:1 필사:1 ie6:7 x:4 246px:1 set:30 daysale:8 seq:1 마음을:1 311:1 55px:18 위해:1 close:8 20151020114740594:1 72px:2 f4f5f7:1 360px:1 movie:13 797px:1 newsfund:4 vdorelay:1 6도:1 20151019221038184csmt:1 사의:1 javascript:3 브런치:2 베스트공감:1 939px:1 메일:1 topalpha:1 추천가을부띠:1 both:11 c:15 팬츠10:1 size3:1 70914313:1 simple:5 코스피:16 TMZ:5 offSuggest:1 header:1 명확한:1 285px:17 TMN:3 발견:1 pw:7 비밀:1 교과서:1 959595:3 행거:1 888:1 CJmall:1 236px:1 gap:1 청소년보호정책:1 280:3 f8f9fa:1 GS샵:2 16px:28 정전기:1 팁:3 233px:1 solid:53 285:1 20151019211033730:1 shoppingTodaySale:1 되었나:1 error:1 fun:11 guide:21 엄마깜짝놀라:1 535353:1 jpg:19 decoration:25 가져오기:22 유희관:1 2033:16 9:10 specialPageNum:1 신상:1 26px:6 81px:1 000:16 user:23 BjjMa:1 더보기:1 bababa:1 canmart:1 동지의:1 608px:1 y:2 요즘입기좋아:1 사용해:1 눈으로:1 아고라:2 계속:1 770px:1 d40400:1 217px:2 loading:2 readers:4 169px:1 shortcut:7 999em:2 9b01bc:1 location:1 topexpand:1 input:11 160px:6 95px:6 big:6 399px:2 game:25 20110721:2 940px:6 PC에서만:1 고대:1 d:13 rdquo:1 shoppingRecommentBestSalePrevBtn:1 일본:1 fbfbfb:5 대전스토리:1 약관:1 1324:2 156px:13 play:9 emph:1 혹은:1 278px:15 금강제화:1 밝혀:1 newarr:2 js:1 slash:9 ellipsis:51 1528:1 가지:1 477px:2 176px:2 specialNextBtn:1 105px:8 EBS지식:1 멕시코:1 105742542:1 br:18 shopping3Tab:1 goods:8 minitodayWeather:1 B9:4 8px:31 num10:1 7a9619a98ebc4b88a6dfefde30962c51:1 block:112 천식치료:1 2476:1 4689df:1 6SFAk:1 277px:1 mypeople:2 쇼핑도움:1 214px:1 266px:2 u1:1 submit:1 e1e1e1:10 얻을:1 timead:2 record:1 96px:7 serif:20 link:407 포토:2 line:129 info:65 현명한:1 111px:4 utf:1 up:70 ul:11 tistory:4 ui:7 highlight:2 87px:3 shopping:50 좁은:1 86px:1 funPrevBtn:1 accessibility:2 145px:9 이야기:1 svcmore:2 최대80:1 cafe:24 난리날수밖에:1 특가:1 TV:2 A0:6 A2:2 652a0391fcec48b8975c39302969641f:1 A4:7 A7:8 A6:2 A8:10 AC:6 AD:2 AF:2 오늘1:1 상승:32 시장의:1 손민한:1 e:2 만나러:1 키워라:1 age:2 shopping5Tab:1 svc:2 tit5:1 tit4:1 550px:1 tit1:1 505px:1 tit3:1 tit2:1 2009:1 CCWoe:1 daumcdn:87 code:2 funPageNum:1 38px:2 20151013160205:1 edu:13 go:67 망신:1 shinsegae:1 270px:5 aria:10 기념:1 25px:21 daumSuggestWrap:1 2Fi1:2 이틀째:1 assay:1 다:1 고객센터:1 multiMediaTitle:1 아이:1 KOR9788952774941:1 3단:1 777b80:2 button:38 110px:10 tiercont:1 try:1 17px:26 못:1 562px:2 rightbottom:1 00a0b6:2 abb5bd:1 9℃:1 Kakao:1 1089:1 135px:4 video:2 shoppingTodaySalePageNum:1 3A:3 index:47 공감하는:1 방민호:1 73px:1 multimedia:2 임신부:1 suggest2:1 전일대비:32 body:4 멕시코를:1 미미:1 degree:2 exchange:4 spacing:56 465px:1 444:4 brandspe:1 logout:3 938px:1 2Fimg:3 39:2 정무특보:1 32:1 36:16 18px:27 todayWeather:1 수사:1 1247:2 Ma3JJuGko0:1 mArticle:1 app:12 333:3 fstbig:7 gamecenter:1 책:2 꺾은:1 빈프레임:4 from:1 박무:1 next:11 num20:1 김포시:1 306px:1 24px:14 sort:11 red2:1 maintopad:1 상승98:2 src:43 detail:7 대한:1 입니다:22 목록:1 사이서:1 몸매:1 179px:8 h6:1 f:1 네덜란드:1 mediaNextBtn:1 재밌는:2 f7f7f7:2 진실:1 배치:1 a1a1a1:1 do:28 키운다:1 dl:3 tag:4 470px:1 tab:4 8RYvc:1 1650px:3 57px:2 20151014122101:1 사은품:1 나치의:1 뜬:1 stock:34 profile:20 offGuide:1 1℃:2 310px:10 481px:4 345px:5 w37:2 tier:2 65px:3 449px:1 와이드:1 스페셜:3 413px:2 123px:2 2Fmeta:1 것은:1 20151020115848062:1 20151016102915:1 653px:1 공지사항:1 개인:1 20151020105004464:1 5e646f:1 칼국수:2 li:124 9688:1 영혼의:1 세련동안미시:1 2014:30 2011:2 2013:3 2012:5 307px:1 161px:4 comm2:1 auto:10 7b7b7b:1 transparent:8 lbStlnCloseBtn:1 대체이게뭐녜:1 링크를:22 mode:2 10px:46 증권:3 shoppingPopularEvent:1 20151020000211879:1 326px:1 w19:2 w18:3 w17:3 w16:3 w15:3 w14:3 w13:3 w12:3 w11:3 w10:3 88:4 broadcast:1 static:2 82:6 181:2 80:12 86:2 471px:4 special:23 out:45 category:2 676767:1 비슷한:1 shoppingTotalPageNum:1 58px:4 rel:17 141px:1 red:1 밀레난리났어:1 bestreader:2 신규진입:2 175px:2 공무원:2 시험:1 45px:16 백령도:1 내또래:1 ltr:1 lbStlnNoti:1 indent:32 g:191 todaysale:1 8B:6 8C:8 191px:1 8A:6 8F:6 8D:2 8E:2 mainsvc:3 358px:1 logoff:1 이:2 bestlike:31 129px:1 내용을:22 142px:2 33px:7 6GsX9:1 공방:1 설정하기:1 privacy:1 텍스트란:1 20151020111804079:1 2156c0:3 7824:1 1540px:2 국민성:1 역사왜곡:1 liveIssueTitle:1 지식공간:1 brunchTab:1 첫:1 209px:1 97px:4 R:1 397px:2 6f6f6f:1 news5tab:9 848585:1 2tab:2 20151020115205801:1 num30:1 다루고:1 1129px:1 만든:1 85px:3 6eqqG:1 1210px:4 막연히:1 border:71 150px:5 241px:1 사전:2 확인하시려면:22 공간:2 184px:1 기획전홈:2 공감:7 shoppingTitle:1 20151020114533517:1 mileage:1 11st:1 174px:1 3c77eb:1 class:813 위협:1 배경으로:1 롯데i몰:1 텍스트와의:1 44px:3 20151020103104484:1 url:43 shopevent:4 2Fnews:1 619px:1 text:100 39px:6 CCAxx:7 143px:3 30px:14 BEST:1 971px:1 6d3fdf:1 찾기:2 morelayer:1 271px:2 메탈릭:1 가족:1 5px:41 비아냥까지:1 swanicoco2:1 shoppingNextBtn:1 hope:15 move:1 이승우:1 101102130:1 느끼는:1 근대적:1 loginInfoTitle:1 imgsrc:1 387px:1 scrolling:2 90px:17 shopping2Tab:1 서울:1 영상:1 396px:1 comics:29 19696439712097703:1 A854:1 허니버터칩의:1 하여:1 환율:1 frame:49 84px:1 c4cdd6:2 ebs:1 전체:1 btn:80 idLabel:1 153px:1 510px:1 5090:1 145204604:1 kakao:1 경기영상:1 남중국해상:1 favor:18 state:2 w32:2 단수:1 shoppingGrpTab:1 w08:3 w09:3 w04:3 w05:3 w06:3 w07:3 w01:3 w02:3 예방법:1 350px:4 입장은:1 807px:1 empathy:1 KOR9791155400388:1 430px:3 equal:1 tierfixcont:1 2Fmobile:1 co:1 cl:4 cf:1 555px:1 slotid:3 변경에:1 20151019132757:1 cs:3 table:1 CB5xS:1 도리화가:2 mysvc:21 f3f3f3:1 방법:1 810원:1 스토리볼:1 설정:3 272px:1 369px:3 a9abb0:1 bbs:2 youthpolicy:2 8106:1 27px:2 1201:1 울산:1 20151020111743059:1 brunch:14 모습:1 daumspe:2 multi:48 main:13 sortable:7 plain:1 align:62 appearance:2 value:5 cursor:22 455px:2 이용약관:1 1510:5 tvpot:20 인터파크:1 layer:113 helper:7 848484:1 vs:6 ed5c5e:1 클릭상품:1 b5b8bf:1 20151019132756:2 서비스:7 member:3 set3:2 num40:1 http:237 adHourOne:1 78px:1 maxlength:2 rank9:3 펼치기:1 v2:30 v3:11 v6:7 v7:1 v9:1 B형:1 exchangeMain:1 클라우드:1 off:2 center:30 ececec:5 431px:1 position:489 6d7078:2 440px:2 BB:2 BC:8 국정교과서:1 CCB5k:1 415px:1 동영상:1 40:4 웹접근성안내:1 rank4:3 대화:2 mystock:4 297px:1 slevel:1 5d6273:1 7℃:1 피핀:1 NNS:20 532px:1 totalsvc:1 꿈꾸며:2 185px:8 tiertop:2 password:4 desc:13 shop1tabIndex:1 mmsrelay:1 like:2 262626:6 상승56:2 351px:1 B5:5 B6:1 B0:15 B1:10 B2:3 B3:2 230px:6 연예인:1 B8:8 page:64 11px:76 민족성이라는:1 12px:39 f9fafb:1 개인정보취급방침:2 2℃:3 만화속세상:1 113:11 home:10 shoppingRecommentBestPageNum:1 대상:1 1198px:1 현대판:1 10위:2 59px:1 namu:1 locate:2 5b6473:3 CCWry:1 dbdbdb:1 한국인:1 3f4243:1 금융:1 5969834:1 mypot:2 흔들다:1 3501:1 190px:10 위메프:2 나를:1 틈새:1 f2f2f4:1 20151020110344245:1 h2:10 h3:30 dataseq:37 h1:2 225px:3 h4:8 h5:1 weather:77 registration:1 B4:2 wrapper10:1 typeimg:3 미:1 멜랑콜리:1 inner:9 var:1 요즘:1 맞서는:1 adCgiBrandingStation:2 overflow:125 지금사야이득:1 w31:2 w30:2 w33:2 길냥이의:2 w35:2 w34:2 CDATA:3 w36:2 w39:2 w38:2 난리난:1 f8f8f8:3 display:147 로:1 20151006104640:1 inp:14 FUN:1 신과함께:2 605px:2 ing:1 0271d26b9b934b77b5ef7f2b8b097f51:1 rank8:3 48:1 49:1 rank3:3 rank2:3 rank1:2 240px:7 rank7:3 svcall:2 rank5:3 5b5b5b:1 book:39 84:12 158px:2 e8e8e8:3 249px:2 85:6 searchrank:1 repeat:37 201px:2 오랜만이야:1 webtoonTab:1 inset:2 로그인:6\n",
      "todays:2 Lead:1 hpmiddle:1 Residential:1 Boutique:1 Night:5 6px:3 NYT:6 four:1 domContent:1 Communist:1 SUAT:1 offenses:1 feeding:1 Klein:1 09736473:1 sourceApp:1 100000003982789:1 100000003978030:1 unionized:1 under:1 China:3 contentPlacement:1 100000003963398:1 Joe:1 League:1 nyregion:16 risk:1 void:1 rise:2 Inv3:1 Getaway:1 Inv1:1 100000003985000:1 Moon:1 Thomas:1 prize:1 broiler:1 cause:1 4738:1 cmd:2 companies:1 Unable:1 Go:4 Paul:1 Accepts:1 heading:197 291:1 100000003986680:3 force:3 leaders:3 0052:1 0051:1 weddings:1 Christie:1 chef:1 9C34:1 second:1 Version:1 Collins:1 air:1 alt:51 0202D0E4:1 C59B:1 noticeError:1 Merkel:1 deadlocked”:1 asia:2 Amazon:3 8CD8:1 above:2 endorse:1 Put:2 new:21 net:5 1rem:1 Spur:1 Presidential:2 Faced:1 reporter:1 mem:1 Munoz:1 wrapping:1 TopRight:1 moreFollowSuggestions:1 protection:1 china:3 kicker:18 active:5 path:1 placeholder:3 Exemptions:1 tapes:1 Mending:1 jail:5 Withholds:1 itunes:1 credit:6 Regulated:3 Owner:1 Home:5 changes:2 Group:2 campaign:2 Privacy:1 Three:1 Relations:1 Jeb:1 Corrections:1 Behind:2 Book:2 Health:7 Jeh:1 classifieds:1 unit:1 plot:1 Star:1 Journalists:1 would:2 Reporter:1 Drugs:3 brinkley:1 Asphyxiation:1 bundles:1 wordplay:2 Houses:2 Moment:1 call:4 diesel:1 type:18 top5:1 25GETAWAY:2 oscar:1 wars:1 Rule:1 Chronicles:1 Krugman:1 V:1 hold:1 describedby:1 97:2 tnt:1 Financial:1 rights:6 work:1 7D6BE1AF:1 Ending:1 movies:9 Initiative:1 3338050995:1 im:1 A81817:2 Topics:1 Poem:1 estate:6 give:1 in:72 DAVID:1 100000003986279:3 100000003982201:2 Digital:1 mediumSquare149:11 keep:1 realEstateSearch:1 Women:1 end:1 Watching:1 travel:10 nuts:1 Irving:1 Admissions:1 how:4 env:1 A:15 mueller:1 description:4 50px:2 Inv2:1 Will:1 davis:1 wrong:1 barney:1 law:1 royce:1 All:1 100000003976881:1 Ali:1 Civil:1 revolt:2 ttGuid:1 100000003979192:2 south:1 keeps:1 686:2 static01:62 roomfordebate:2 feedback:1 over:4 8383:1 JOANNE:1 Rotten:1 copyright:2 Decades:1 before:2 100000003960856:1 His:3 img:54 Here:2 better:1 production:1 Glimpses:1 differently:1 400:4 videoFactory:1 hidden:44 citigroup:2 F6C4:1 shear:1 Vidal:1 Mobile:2 40AF:1 Analysis:1 they:1 20dewey:2 schools:2 Control:1 superintendents:5 vidal:1 Liberal:1 meat:1 debut:1 leading:2 detroit:1 379:2 districts:1 affiliate:1 conflict:2 arrow:6 seeallnav:1 Executions:1 Millions:1 Plot:1 Afterword:1 financial:3 Choking:1 13px:1 SectionsNav:1 logo:9 Hollywood:1 Styles:2 Conflicting:1 BEGIN:1 Mistrial:2 crucial:1 Wars:1 content:44 daniel:1 1445298663:1 surprise:1 Hold:1 gop:1 gos:5 foundation:16 arizona:1 writeLogo:1 University:2 Work:2 free:2 standard:1 campaigns:1 100000003986986:1 evil:4 Studies:1 Nixon:1 Shootings:1 Contributors:2 Photo:1 National:1 messages:2 Human:4 setCustomAttribute:1 corrections:1 Truck:1 Antarctic:1 footsteps:2 already:1 Cooper:1 features:1 appRequire:1 20Smart:1 Please:1 primary:1 rank:125 Fight:1 Journeys:1 177:2 thick:1 100000003984993:1 100000003985272:2 100000003985273:3 Congress:2 100000003986298:2 top:37 Unease:1 Suspends:1 Volkswagen:1 0066:1 0067:1 0064:1 nythpGiftguide:9 rooted:1 0063:1 0061:1 tragic:1 hollywood:1 20alabama:2 0069:1 Search:7 B:3 signup:1 Edge:1 Victory:1 B3DFBD82:1 white:3 Repair:1 ahmed:3 Code:1 target:8 1978:2 enabled:1 Only:1 20Banner:1 Preschool:1 msapplication:5 realestate:15 mini:3 awkwafina:1 fashion:15 Evasion:1 Floor:1 modern:4 Angela:1 E2E2E2:1 seek:1 dozen:1 closeted:1 Flight:1 harper:4 1965:1 FDEFB811:1 Manager:1 Emigration:2 recommended:2 Economic:1 magnum:2 established:1 Collective:1 object:1 todayspaper:2 letter:1 Alabama:2 Bernie:1 Javad:1 Declared:2 Roseburg:1 commentsContainer:6 m:1 dog:2 iepin:4 NICK:1 Election:1 Want:2 scotch:3 Its:1 Agency:1 Helvetica:1 ending:1 Twain:1 Differently:1 keywords:1 hungary:3 largeHorizontal375:1 layout:49 nythpHideKickers:1 Extend:2 headline:1 menu:28 Photography:1 Republicans:1 Deductions:1 Free:2 here:1 theme:92 version:1 Others:1 rice:1 NREUM:9 Blasio:1 219B4F6AA2A5:1 exports:17 10:219 de:1 television:6 Taxes:3 pocket:6 amazon:3 report:1 Organization:1 Voting:1 caucuss:2 videofactoryrequire:1 volatility:1 KINIKLIOGLU:1 Leaders:1 Over:1 Washington:3 Disabled:2 415:1 Dropped:1 Oven:1 gobi:1 ban:1 bam:4 respond:1 disaster:2 job:2 branding:3 nocontent:32 Anderson:1 projections:1 nytmm:2 John:1 02:3 limitFabrikSave:1 said:5 Run:3 Ahead:1 04:2 05:2 Rise:2 mismanaging:1 nythpSplitCode:5 unable:1 Courts:1 F298:1 misguided:1 preserve:4 wf:1 C:3 Endorse:1 Central:1 Colored:1 extend:2 Settings:1 1749339200:2 100000003985061:1 25tmag:2 100000003986912:1 cut:1 drew:1 news:20 packages:4 Rezaian:2 Among:1 climate:1 Dance:1 country:1 munoz:1 against:1 Playful:1 players:1 Contact:1 games:1 prop1:2 prop2:2 login:2 Engineer:1 com:433 col:4 PST:1 Gas:6 100000003986464:1 nytnow:3 height:17 Returns:1 DB6C:1 Ohio:1 Pat:1 Literature:1 8CF4:1 asks:1 Curry:1 three:1 Cheaper:1 twain:3 trigger:1 dozens:1 applicationID:2 website:1 life:6 sprite:19 eastern:16 drugs:3 republicans:1 CG:1 Elections:1 Front:1 child:3 catch:2 Cybersecurity:1 Manage:1 n:64 20itineraries:2 0070:1 near:7 Accused:3 typeof:4 aid:2 property:6 1445297587:1 anchor:1 itemscope:1 Dividing:1 mexico:1 is:13 it:2 Arrangement:1 MATTHEW:1 Bush:1 australia:1 Candidates:1 LEARN:1 unfollowComments:1 100000003985266:3 Sworn:1 id:244 100000003977846:3 if:8 museums:1 growl:2 noydir:1 20canada:2 suggest:1 make:1 0901DB1AD95B:1 the Volkswagen:1 complex:1 split:22 Taking:1 independent:1 21BROIL1:1 Room:2 Tapes:1 Mueller:1 i1:1 rail:3 rain:1 portal:8 characters:1 Y:11 HPB:1 cycle:1 Cheap:1 Apartments:2 hpsponlink:1 1973:2 ocean:1 Trends:1 detained:1 A25A:1 Table:1 the:110 800:4 left:12 After:3 protocol:1 photo:8 Nuts:1 Crime:3 Closeted:1 human:4 Surprise:2 yet:1 mohamed:3 previous:2 onload:2 rowlings:4 Gay:2 Clockmaker:2 Oscar:1 ease:1 20Woodell:2 had:2 Judiciary:1 FDA10AC4:1 News:14 ffffff:2 has:4 rezaian:1 3px:4 editorials:1 D:3 africa:1 optimizely:1 Messages:1 background:9 judge:1 sitesearch:1 DiCarmine:1 advanced:2 Heart:1 Stolz:1 Art:2 57:2 Newsletters:1 51:2 100000003986068:1 52:2 100000003982259:2 21px:2 offices:1 Are:1 night:7 RAVI:1 webb:1 2640832222001:2 www:310 right:7 deal:1 people:2 cybersecurity:1 HP:2 dead:1 election:3 cE97ArV7TzqBzkmeRVVhJ8O6GWME2iG:2 artemest:3 11well:2 Life:5 LeBoeuf:3 ico:5 for:42 bottom:19 notification:2 SCG:1 comments:26 creative:1 contributing:1 20AMAZON:2 beating:2 Royce:1 School:3 18slaghtWeb:2 bold:1 subscriptions:3 marketing:2 Supers:2 Steven:2 FD07BE5EAD96:1 graduates:1 Near:2 web1:4 post:3 0px:8 Attacking:1 First:4 conceal:2 typeface:1 noarchive:1 o:33 Find:2 Austria:3 ensure:1 stoked:2 Games:1 efforts:3 Still:1 curry:1 nixon:1 raised:1 Balkan:1 campaignId:1 Make:1 float:3 son:3 Environment:1 Insider:5 beings:1 Draft:1 lieu:1 Survive:1 sharetools:2 MICHELLE:1 Suffocation:1 Beef:1 isUserVariant:1 support:1 transform:5 payment:1 Break:2 gif:1 anderson:1 Typekit:1 1445303137:1 editions:2 was:4 war:1 head:1 997D:1 form:5 offer:1 Column:5 ADX:1 dealbook:3 WINGFIELD:1 true:2 b5bcf2eba4:1 suffocations:3 mtr:2 Top5:1 rsquo:2 62D5:1 Bottom9:1 Legalization:1 20px:1 emit:2 giftleftnav:1 Birthplace:1 fury:1 sidestep:1 1445303261:1 Digitized:1 newsletter:1 dying:1 no:10 HpSectionSumSmallMedia:1 when:3 Persons:2 antidrug:1 14px:3 role:10 LargeMediaHeadlineSum:1 digital:1 87E4:1 nr:11 Pages:1 Firm:1 9351:1 1445308099:1 Airfares:1 focusable:2 100000003982082:1 rimmed:1 Trial:2 25FRANKEL:2 funerals:1 catalogs:1 Madness:1 longer:2 Estate:5 Win:1 modals:2 time:39 push:2 Roger:1 newsEventHierarchy:1 adult:2 PaidPostFivePack1:1 PaidPostFivePack2:1 PaidPostFivePack3:1 PaidPostFivePack4:1 PaidPostFivePack5:1 dance:1 skip:4 global:3 alternatives:1 5625rem:1 manager:3 A331:1 Today:6 9772:1 digitalleftnav:1 Evening:1 zone:1 xlink:2 attachEvent:2 click:1 0:97 1445309303:1 supplements:1 Swindling:1 insiderLaunch:1 Believe:1 Day:3 Cubs:2 Prize:1 Anything:1 recipe:1 Jokes:1 100000003985998:1 Tech:2 Comments:6 AUSTEN:1 Research:1 stuyvesant:4 Just:1 did:1 die:2 Headed:1 Tax:2 gun:2 McCarthy:1 p:83 diy:1 quick:1 div:538 Celebration:1 George:2 Kevin:2 says:2 CLIENTSIDE:1 Frank:2 Born:1 Carbs:2 Conjures:1 defineProperty:2 a81817:2 Rice:1 100000003982328:1 clientside:1 Header:1 4EC7:1 shares:1 Public:2 pine:1 Alone:2 shared:2 MADDON:2 Ago:1 xml:3 transactionName:1 Runway:1 french:1 baseball:6 Mr:1 alone:3 engineer:1 114x144:1 change:1 topnews:31 Webb:1 boy:1 ref:3 Dean:1 accepts:1 MM:1 JULIE:1 Your:3 trial:1 franklin:6 434:1 history:4 navigation:19 1445292715:1 emerge:1 Said:1 Lifer:1 extra:1 When:4 educationleftnav:1 Writers:1 HPBreak:1 Sanders:2 NYTimes:3 hpmidleader:1 brother:1 HPPromo:1 helvetica:5 sports:13 insider:15 Appointments:1 approach:2 iphone:1 https:7 hpbottom1:1 October:1 getElementsByTagName:2 cant:4 Broadcaster:1 Homelessness:1 Push:1 Notebook:1 GOUGH:1 FD8249:2 fly:1 logos:5 migrants:3 Rebels:1 So:1 avoiding:2 cap:3 reviews:2 impasse:1 Bruni:1 can:1 Laws:1 following:2 making:1 Jeong:1 37WXW:1 heart:1 portals:2 citizens:1 viewport:6 trump:2 figure:4 AD8090D7:1 Federal:1 Media:1 newsletters:1 100000003986404:1 agent:5 Edmund:1 Issue:1 Terms:2 100000003976985:1 Who:9 100000003967315:1 magazine:20 nyt:103 nyu:3 1:78 sunday:4 Rebel:1 H:3 sworn:1 Why:1 economy:1 spielberg:1 Committee:1 140:2 may:1 southern:1 figcaption:4 Bargain:1 applications:14 4506:1 shuffleRecommendations:1 date:1 Editorials:1 abtestconfig:1 data:437 View:2 natural:2 johnson:1 461D:1 q:5 Sources:1 20artsbeat:2 sh:3 so:2 sm:1 whsites:1 Specimen:1 opts:5 processFlags:1 Barney:1 bRvjBTlNb4o:2 Jay:2 Ruthless:1 constituents:1 Breaking:4 find:1 feature:3 playful:1 BrowseTree:1 My:1 nbsp:7 E148:1 cold:2 group:4 thumb:55 jim:1 Rail:3 Rain:1 inflicted:2 window:12 offers:1 policy:3 World:5 Pitchers:1 main:12 decades:1 texas:1 Hiding:1 Exhibit:1 lonely:2 Tactics:2 HPMidLeader:1 views:2 killer:1 Choices:1 records:1 videoVHSCover:1 not:4 9701:1 1959:1 1958:1 Glasses:1 name:33 Skip:2 Obtain:1 lede:2 suspends:1 Improperly:1 Billion:1 challenged:1 ee:4 ed:1 Dude:1 Barack:2 Shear:1 Muppets:1 sponsor:2 year:1 Expected:1 Suffocations:1 Learned:1 canada:3 Spielberg:1 container:17 space:2 65rem:1 in Dewey:1 DE2B278B:1 20SHEAR:2 queueTime:1 Connected:1 pint:4 Drums:1 internet:1 Article:1 correct:1 Stone:2 earlier:1 END:1 G:2 Rights:4 lawmaker:1 cars:2 million:3 obituaries:2 rebel:1 Mixed:1 org:1 anaise:1 tpnav:1 Education:4 Money:1 swing:1 Hungary:3 100000003757477:3 18SUBJPCOV6:4 Eric:1 first:5 origin:1 Ontario:1 revenue:1 379x64:2 Asia:2 one:2 americans:2 carry:1 Probably:1 message:9 fight:1 george:1 size:12 city:7 30x30:2 Monday:2 width:8 QJf3ax:2 100000003986989:1 imposing:1 returns:1 2:42 draft:1 carousel:1 Date:2 100000003980091:1 Post:2 frame:1 Renminbi:1 that:12 AAD5:1 padding:14 Jail:2 copy:3 than:1 png:11 History:2 Carney:1 wide:21 13:2 12:3 15:5 14:3 17:1 16:7 19:70 18:27 require:13 footer:7 HpSumXSMedia:1 r:29 were:2 B487:1 Advertise:1 B483:1 browser:3 and:67 san:1 topics:3 premier:5 100000003986419:3 medium:3 Inquiry:1 kevin:1 Do:4 100000003978358:1 Murphy:2 dining:8 1445293140:1 15px:1 corporateleftnav:1 Stuyvesant:3 pain:1 Name:1 Pets:1 1194811622188:1 357066198:1 TV:1 paid:3 Has:1 7D62A2B9955E:1 clockmaker:3 attack:1 tracy:1 america:1 pages:99 icon:74 100000003967304:1 6C2A9A1223BE:1 Explorer:1 notifications:1 considered:2 That:3 sale:6 Chef:1 raquo:34 Array:1 Fill:1 laws:2 shop:1 Web:1 show:2 Political:1 497B:1 datetime:16 legalization:1 bright:1 Role:1 Opinionator:1 Stephen:3 Moviegoers:1 3dc2bf0e7593a689f857e1edec4a2566:1 100000003986953:2 40px:1 dormitory:1 We:2 upgrade:1 title:4 written:1 crime:4 only:2 black:2 Services:1 Housing:3 mistrial:3 digitize:2 Pampered:1 Amid:2 Violence:1 DealBook:1 Magazine:8 BCB6:1 nytint:2 jokes:1 prime:1 reveal:3 inyt:1 Right:1 licenseKey:2 settings:1 summary:83 bullet4x4:1 Qoddusi:1 maddon:1 inside:4 LedeSum:1 declared:3 Funding:1 player:5 tallWatchingModule:1 airfares:1 notice:1 bargain:1 relative:1 20dogs:4 104D1E63:1 Beating:2 takingNote:1 jeong:1 BD42:1 833:1 100000003972453:1 Johnson:1 Sergey:1 review:11 label:7 weapons:1 3:22 un:1 Members:1 Than:1 affordable:1 spars:2 jobs:4 parent:2 screen:1 js:24 Treason:1 Baquet:1 arial:5 Enrique:1 100000003985734:1 mob:1 region:53 according:1 called:1 s:26 workplace:1 parini:1 among:1 Death:2 madness:1 color:10 Pictures:1 Travel:4 jk:4 ArtsBeat:1 23FD6C8B:1 nythpBriefings:3 64:2 65:2 article:283 ordered:1 poll:1 skeletons:2 STUYTOWNjp:2 arts:23 Buy:2 Pain:1 lifer:1 100000003985886:2 4EA3:1 airlines:1 mark:3 Personal:1 Promos:1 D5DuLP:4 prototype:2 Krill:1 myaccount:2 engine:2 direction:2 enable:1 Mets:3 bloomberg:1 photos:2 minister:1 former:1 sedition:1 case:3 washington:1 polls:1 TopBar:1 policies:1 margin:18 100000003986289:3 100000003977525:1 100000003986978:1 secondary:2 Better:1 KANNAPELL:1 bias:1 return:20 technology:5 ivy:1 bags:1 114×114:1 pat:1 proto:2 media:8 479A:1 html:255 Grisly:2 arguments:1 Bloomberg:1 document:6 events:4 “hopelessly:1 broadcast:1 visually:16 extended:1 I:2 Clear:1 userAttributes:1 JENNIFER:1 allocation:12 petticoat:1 Francisco:1 100000003977639:1 4BDB:1 28B119710151:1 Says:2 undefined:2 charges:1 Is:11 floor:1 graphics8:4 It:4 Rolls:1 18REPAIR:2 hpmodule:1 Rent:1 In:6 15DISRUPTIONSJP:2 ccc:1 If:1 cheltenham:4 United:7 Robbery:1 Service:1 realestateads:1 being:1 money:1 Offenders:2 Diesel:1 rest:1 Conservative:2 1445303470:1 Daniel:1 kill:1 touch:3 Pesto:1 coloredSharetools:1 cn:1 Itineraries:1 JOSE:1 death:1 Jobs:1 mother:3 rose:1 briefings:1 Spot:1 Running:1 smugglers:4 Applications:1 spiderbites:1 ie10:9 samples:1 Ethics:1 careers:1 Delivery:1 styles:1 hover:4 NEIL:1 Many:1 1445293994:1 test:1 libs:1 amp:9 8216:1 Tracy:1 Note:1 Tries:1 collective:1 Hacks:1 t:66 robbery:1 offenders:5 Misconduct:1 中文:1 Man:1 C5BFA7D5:1 apartments:1 failure:1 C51B:1 eddie:1 Master:1 images:69 New:27 racial:1 Safeguards:1 pinnedMasthead:1 100000003985557:1 Government:2 Overselling:1 moon:1 Visit:1 dies:3 CB3F:1 100000003964173:1 Projects:1 Sedition:2 business:26 Rapper:1 unease:2 volkswagen:2 leadership:1 Militia:3 drums:1 Efforts:3 SOMAIYA:1 src:67 ol:4 central:2 og:5 of:94 Transit:1 100000003972661:1 Paper:2 discrimination:1 Images:1 32x32:2 or:11 op:2 Bags:1 No:2 image:6 collins:1 baseUrl:1 investigative:2 31A9:1 jerusalem:1 your:4 Store:1 paidPostDriver:1 Zone:1 Hotel:2 Visits:2 hed:1 NY:2 FT100000003986590:2 Characters:1 Rose:1 Obama:2 Counsel:1 complete:1 STEINHAUER:1 smuggling:1 J:6 setPageViewName:1 illuminates:1 gore:1 survived:1 Emailed:1 podcast:2 with:8 Guide:5 Trailer:1 Emerge:1 readyState:1 october:1 rage:1 default:2 House:4 cooker:1 Alterations:1 vhs:3 100000003963405:1 Eddie:1 emissions:1 Close:3 embed:1 sourceOrganization:1 Crisis:2 Chauffeur:1 his:3 ab:15 ad:66 Asks:1 Reduce:1 100000003985150:2 Crucial:1 Airlines:3 homepageOpinionKickerCss:1 an:3 Blog:1 How:3 as:5 at:19 Homeland:1 agentToken:1 politics:12 An:1 Homepage:4 film:1 Real:5 11:4 Lives:1 As:1 saturday:1 Ankara:1 field:1 5:12 addEventListener:3 announcements:2 you:9 100000003986948:1 Great:1 beef:1 congress:2 students:3 4099:1 BAGLI:1 includes:1 a1:8 important:6 Starved:1 terry:1 funding:1 Empire:1 concat:2 100000003987014:1 1445293726:1 carbs:3 consternation:1 assets:10 SponsorAd:1 Executive:1 finished:1 posts:1 Logjam:1 u:7 directory:1 Canada:6 all:7 chinese:3 Frankel:1 caused:1 Fix:1 month:1 Header1:1 deadline:2 freeTrial:1 Based:1 videoVHSHomepageCover:1 improperly:2 Brown:1 Ceiling:2 claire:1 icons:11 Evil:4 100000003942930:1 to:75 C15A5BB6DA1A:1 safety:2 Ear:2 homepage:28 4em:1 far:1 Listings:2 Obit:2 Sale:3 Headers:1 1px:7 100000003977758:1 amtrak:1 sans:7 100000003981535:1 Kill:1 small:4 balmain:2 Galbraith:2 Warns:1 copyrightYear:1 Should:2 past:1 hice:2 indewey:3 design:3 discordant:2 East:2 ribbon:1 canonical:1 putting:1 lennart:1 what:6 abc:1 perf:1 clock:1 9B34:1 sun:1 section:170 Cultural:1 Abuse:1 Conflict:2 Maddon:1 6F1766459781:1 edited:1 homescreen:1 Gift:3 9152:1 K:4 tagx:3 birthplace:2 vale:2 beacon:2 Supplements:1 Events:3 Briefing:2 publisher:1 search:20 colored:1 Sidestep:1 ab1:2 ab2:2 pitfalls:1 published:1 action:10 qry542:1 options:2 Detoured:1 Style:6 aria:4 family:13 nythpDeveloping:1 44D9:1 Top:4 0CB9:1 href:340 Too:1 ET:16 100000003979352:1 92720057:1 HPLink:1 json8:2 Europe:3 100000003979639:3 jurors:1 Glass:2 contains:2 charge:1 Automobiles:2 9A43D8FC:1 6:10 markets:4 minor:1 more:6 israel:1 company:1 Testify:1 admissions:1 grisly:4 adxnnl:1 jsonp:4 Barriers:1 krill:1 tvlistings:2 town:4 none:17 100000003927391:1 middle:6 RE2:2 science:15 FadingSlideShow:3 100000003986011:1 autocomplete:1 remain:1 morgan:1 326891:1 Inc:2 IBM:1 additionalOpinionRegions:1 suggestions:7 inv2:1 states:1 Speaker:1 matchHeight:1 Years:2 Spars:1 HpHedThumbWell:81 desperation:1 breaking:2 earnings:1 targetoverride:2 css:11 starturl:1 Television:2 Migrants:1 Don:2 variant:1 Dog:2 100000003888230:1 Foreign:1 fb:1 disable:1 DOMContentLoaded:1 blood:5 Kelly:1 Syria:1 horizontal:2 addToTrace:1 response:1 a:744 D9C94A2B:1 Mexico:2 ribbonChartbeatMostEmailed:1 CA0:2 Debate:2 Player:1 pay:4 inline:4 Armed:1 Film:1 RSS:1 100000003986956:1 What:6 Arial:2 help:6 getTime:2 thumbStandard:33 disabled:2 paper:2 articleShareAtEnd:1 its:6 Texas:2 dont:3 25:5 style:19 20:110 21:4 AA70:1 28:4 handheld:1 late:1 20kiniklioglu:2 eedition:1 autoreviews:1 stephen:4 inquiry:1 pesto:1 Parini:1 100000003976811:1 fines:1 Blood:3 waitSeconds:1 jabs:1 evening:3 20iPad:1 ceo:1 timestamp:51 demographics:1 framework:1 Trudeau:8 HpSumSmallMediaHigh:4 executions:1 NAGOURNEY:1 Danes:1 4137:1 token:1 HpSum:4 Ready:1 found:2 16UP:2 3AF128ABE12D:1 7eSDFh:4 trailer:1 cost:1 weight:12 house:5 1871:6 reduce:2 Sports:5 Setting:1 expect:2 newrelic:4 Criminal:1 comic:1 More:6 100000003977956:3 mediumThreeByTwo210:3 itemtype:1 item:14 CC9E2674:1 testify:1 douglas:1 research:1 misses:2 health:6 ADAM:1 7:9 overselling:1 Report:1 paidPostFivePack:1 issue:1 Class:1 4px:4 Town:3 Protect:1 100000003986573:3 Drama:1 houses:3 base:11 members:1 put:2 Opinion:13 generate:1 Behavior:1 People:2 Ed:6 limitjsonp:2 inv3:1 success:1 inv1:1 americas:6 Helped:1 caption:2 Expect:2 mostpopular:3 syria:1 tabindex:1 100000003972248:3 CACF62E94AAE:1 100000003975269:1 Inflicted:1 Antidrug:1 done:1 embraced:1 blank:1 ecommerce:1 Karimi:1 applicationName:2 story:456 Catalogs:1 script:38 100000003985377:1 recommendedLabelTest:1 interviews:1 Airplanes:1 dfp:3 pinned:1 header1:1 passed:1 gpt:1 4B2F:1 G9z0Bl:3 too:1 Justin:5 behind:2 hotel:3 Companies:1 Ottawa:1 part:1 17CD0EAA99AC:1 Long:1 upshot:8 theater:5 Rasmusen:1 believe:1 jeh:1 jquery:3 b:17 throttle:12 iranian:1 automobiles:3 Puzzle:2 138D30468F8F:1 Desert:1 359C:1 pampered:1 Layouts:1 Investigative:1 marriage:4 store:1 firstyear:1 opinionator:4 592CC66F82D4:1 schema:1 Click:1 20OTR:4 interactive:2 Gluten:2 20BRODY:4 nythpBriefingNewsletterSignup:4 fights:2 Father:2 Ahmed:3 favicon:1 Late:1 4A39:1 antarctica:1 Pena:1 Larry:1 4D25:1 paths:1 100000003982010:1 lib:1 Food:4 self:3 Graduates:1 build:5 d37d526acc5f1ea70c6a0bee273416cc:1 With:7 6B7245A6CDD8:1 Hand:1 Attacks:1 M:3 most:4 Chief:2 sponsored:1 plan:1 71:4 services:3 The:43 blogSmallThumb:1 Hackers:1 9869919170:1 mobile:7 clear:4 Subscriptions:5 parentNode:2 Subscribe:3 Cost:1 240x72:2 attacking:1 Viewed:1 Emissions:1 Perfect:1 75rem:1 journeys:1 667:1 cdn:1 JP:2 Loading:2 19subKEPNER2:2 sslForHttp:1 headlines:15 font:36 networks:1 Affordable:1 100000003985419:2 northern:1 music:1 22px:1 100000003976957:3 CHARLES:1 rotten:1 Jr:3 woodell:1 Pitfalls:1 Traffic:1 8:6 Masters:1 IAN:1 Becomes:3 Cooker:1 luke:1 19levine:2 cheaper:2 F4CF:1 While:1 100000003986713:2 ecedeb:2 Pine:1 international:18 Hearts:1 safeguards:2 banner:5 ie9:1 America:1 Help:1 opinionindex:1 cry:1 Powerful:1 430B:1 tale:1 recommendations:4 x:5 nichter:1 144×144:1 For:1 GOLDSTEIN:1 nythpNoRule:2 culture:1 are:8 close:2 Violations:1 Bookshelf:1 pictures:1 applicationTime:1 Oregon:1 crossword:6 Part:1 Terry:1 Broil:1 Pint:2 bar1:1 itemid:1 korea:2 recently:1 creating:1 web:4 Could:1 javascript:2 Florida:1 Against:1 100000003980396:1 Workplace:1 invisible:1 F5AB0C515CEA:1 Refugees:4 league:1 c:24 Jason:1 Deaths:2 HPmodule:2 roman:5 became:1 context:1 collection:172 baltimore:1 ZCGrid:1 load:2 pendulum:1 point:2 simple:1 4CEA:1 header:11 dietary:1 regulated:3 likes:1 church:1 Was:2 War:2 expensive:2 Play:2 pt:1 agree:1 Students:2 Changes:3 create:3 Most:3 California:2 Plan:1 preventable:1 1445302655:1 HomePage:1 4:4 firm:2 sanders:1 flight:1 gay:2 nra:3 gas:4 cruelty:1 Graduation:2 Projected:1 logjam:1 lives:1 hasOwnProperty:2 Hassan:1 16px:2 georgia:5 Mulcair:1 look:1 Curses:1 solid:7 actress:1 expanded:1 Sales:1 E57A148E:1 match:1 Church:1 Cold:2 publisherId:1 BAB8B3:1 pack:2 City:3 js2:2 moth:2 danes:1 Racism:1 jpg:49 decoration:1 ready:3 Elliott:1 18DYINGweb1:2 Cosby:1 chauffeur:1 lengthy:1 kwan:1 20Store:1 CHURCHKILLweb2:2 875:1 4C02:1 Petticoat:1 firearms:1 9:10 inlineHit:1 day:2 Podcast:2 About:1 keys:1 Gobi:1 Lines:1 alert:3 Movies:3 moment:1 000:8 user:7 miniNavCount:1 googletag:4 Tale:1 task:4 gst:3 ROBERTSON:1 Technology:1 Son:3 Rate:1 edge:2 chronicles:1 kelly:1 Offices:1 Racial:1 Jerusalem:2 Tools:1 spend:1 know:1 Living:1 Takes:1 heathdrug:2 questions:1 Internet:1 loading:1 alternate:3 shortcut:1 signals:1 source:2 causing:1 Christopher:1 location:4 Lost:3 input:8 guarantees:1 app:5 bin:1 On:1 adxPage:1 Did:1 Die:2 Air:1 nythpHideBylines:1 Rimmed:1 Aid:2 enumerable:1 projects:1 Op:6 modifications:1 d:4 19TRUCK1:2 confront:1 Cohen:2 mostemailed:1 continue:1 Columnists:1 MAIN:2 onreadystatechange:1 Treatment:3 Happens:2 velcroSocialFollow:1 100000003986933:1 fathers:2 Fears:2 back:4 itemprop:8 FlexTypes:3 mighty:1 pricing:1 4201:1 Email:1 Daypart:1 Bar1:1 Confidential:1 HPMiddle:1 tools:3 renderstyle:127 kleins:1 nythpBreaking:4 pen:1 usageTerms:1 Something:1 cgi:2 be:8 run:2 Look:3 zam5nzz:1 300:5 18jung:2 Bill:2 bi:1 O:1 Times:23 célèbre:1 80E6DEE6:1 concealed:3 become:1 Davis:2 by:11 NYSE:1 A4D120C9014E:1 anything:1 Voters:1 813B:1 drama:1 8px:3 militia:3 modal:1 Dies:3 block:5 repair:1 real:6 nytco:1 dude:1 14FA6B07E5AB:1 Woodell:1 100000003977701:1 Footsteps:2 steven:1 rolls:1 12px:8 Driven:1 span:75 stylesheet:2 submit:2 Savor:1 Illuminates:1 HPBottom1:1 Every:1 User:1 homemade:1 uppercase:5 Nieto:1 sections:3 Painter:1 Fly:2 poster:1 murphy:2 serif:12 larry:1 link:65 createElement:2 line:9 09:2 052C33AD:1 info:4 utc:16 Awkwafina:1 Bell:1 a11y:1 115710:11 Africa:3 us:25 utm:8 ul:102 Books:6 0D3C:1 1445300360:1 9458:1 0012:1 shortcuts:23 4C3D:1 To:1 single:8 100000003985594:2 International:3 Upshot:2 Manhattan:3 20SORKINsub:2 Map:1 May:2 Max:1 4491446:1 fears:2 application:5 20clock:2 nav:15 Student:3 becomes:4 Cornerstone:1 Warming:1 pageManager:3 Case:1 infoservdirectory:1 robots:17 visits:3 STYLING:2 lens:2 lufthansa:1 Making:1 Documentary:1 desert:1 100000003986734:1 leboeuf:3 e:72 Ad:1 100000003972624:2 Moth:14 svg:6 Weddings:1 4DB6:1 Migrant:3 2000:1 Village:1 lp5558:1 Newsletter:1 scroll:1 once:1 Sell:1 code:1 jason:1 Harper:2 100000003985542:1 Self:2 Jim:1 toggle:3 Department:1 query:1 Citigroup:3 centers:1 Enact:2 detoured:1 100000003986024:2 terms:1 Business:4 Object:5 100000003979250:1 Profit:1 getFlexData:1 Not:3 women:5 15584765C8D7:1 Canadian:1 Region:2 provider:1 P:1 Celebrations:1 facebook:1 Theater:2 Misses:2 ibm:1 8B2A:1 button:65 ryan:1 try:2 trudeau:5 Sentences:1 refer:6 Bottom8:1 35rem:1 bernie:1 Turkey:1 Index:1 Mismanaging:1 publisherReadToken:1 State:3 video:36 manipulating:1 Sections:3 makers:2 index:110 Lonely:1 Nytimes:1 chicago:1 multimedia:6 middleeast:1 100000003981918:1 Campaigns:1 indexOf:2 C4DC8C0C:1 Balkans:1 Survived:1 100000003985909:2 hpbreak:1 Ore:1 1404:1 body:3 Vance:1 Official:1 TURKEWITZ:1 spacing:1 sins:1 explore:2 awakens:1 Merida:1 Streak:1 great:1 dividing:1 Chinese:1 33:4 Back:2 18px:4 opinion:49 followFeature:1 Baseball:2 apple:4 Amtrak:1 playerId:1 Leading:1 Robert:3 Multimedia:3 Smugglers:1 Contributing:1 api:2 Safety:2 Firearms:1 columnists:1 apply:1 Conditions:1 YwFXZhRYVhAEVUZcX1pLYEAPFlkTFRhCXUA:1 Status:1 use:1 from:8 HPSponLink:1 Sold:1 live:1 pgtype:1 next:3 Lens:2 few:1 trackingFireEventQueue:1 sundayreview:2 1445299442:1 Displaced:2 Novel:5 firstbyte:1 on:25 Career:4 Denmark:1 Gun:3 visibility:1 Claire:1 Editorial:3 box1:1 subscription:7 Feedback:1 f:11 this:4 clients:1 Oceans:1 membercenter:5 Video:8 Traveler:1 Details:1 control:4 Police:2 20NIGHTVALE:2 do:7 Ponomarev:1 Feature:1 Cultured:1 tag:1 something:1 tab:4 Party:5 serial:1 78FBAD45:1 copyrightNotice:1 lamb:1 united:1 clothing:1 Advertisers:1 arrangement:1 delay:2 unseated:1 Gore:1 19tmag:2 Friends:1 Ghost:1 NYTABTEST:3 Joel:1 Ryan:2 Quarter:1 muppets:1 Letters:1 Disaster:1 googletagservices:1 documentary:1 lines:1 One:2 Middle:4 chief:1 Politics:6 Cry:1 Expensive:2 breast:1 Kwan:1 trophies:1 perfect:1 TopLeft:1 966D:1 Smuggling:2 curses:1 li:503 lt:9 FadingSlideShow2:1 2015:220 paidPostFivePackMock:1 2016:1 Away:1 2013:1 addClass:2 Alerts:1 junction:1 Rowling:4 auto:1 20council:2 Brother:1 auth:3 100000003975092:1 Can:4 Mother:3 front:1 HpSumSmallMedia:1 rotation:1 withholds:1 transparent:1 preschool:1 applicants:1 Respond:1 masters:1 San:1 artsbeat:1 18DORM:2 university:3 sitehelp:1 weather:3 12F29393259F:1 bills:1 Jabs:1 glasses:1 mets:3 Arts:6 From:5 100000003938192:1 700:7 Representatives:1 books:14 our:1 87:2 Junction:1 messenger:6 Breast:1 rel:9 contentCollection:1 supports:1 Reveal:1 HpHeadline:16 This:1 spot:4 shortage:1 Museums:1 york:12 CAMPBELL:1 Spend:1 Point:2 re2:1 could:4 florida:1 times:22 Currency:1 length:2 homelessness:1 barriers:1 Comic:1 David:1 1445302941:1 Lamb:1 ab3:2 Review:10 powerful:1 franks:1 hppromo:1 Collection:1 owner:1 Plays:1 100000003984757:1 playlist:5 ANDREA:1 Iran:2 privacy:3 Corporate:1 100000003984997:1 detailing:1 handcuffed:1 Vale:2 Rouhani:1 their:3 conservatives2:2 XL7HBI:2 Adult:2 watchingNoScroll:2 man:1 Box1:1 abbreviatecredits:2 shell:2 Success:1 97px:1 R:4 12x12:1 43B3:1 Democratic:1 rss:2 ipad:1 isolation:1 Recommended:1 bed:2 Edition:1 listeners:2 briefing:3 visited:2 Appetite:1 Peter:1 result:1 false:2 tabs:2 Pay:2 blip:1 Other:1 unlikely:1 have:5 need:4 Isolation:1 border:16 100000003984506:2 viewed:2 Independent:1 100000003977773:1 min:4 BE66F420:1 0364:1 Credits:1 which:1 truck:5 thepubliceditor:2 Dewey:2 nytimes:347 Blogs:1 who:17 hpViewability:1 connected:1 Detroit:1 masthead:11 future:2 class:901 07:3 mediakit:1 Account:1 takes:1 url:8 Prisoners:1 stranded:1 uri:8 Actress:1 face:1 Relative:1 nythpHideTimestamps:1 Saturday:1 100000003968211:1 100000003982903:4 100000003972282:2 text:23 20BOOKGALBRAITHJP:4 0036:1 0033:1 Cyrus:1 19ANONYMOUSJP1:2 weekly:1 fear:3 30px:1 q3:1 100000003981925:1 based:1 100000003985336:1 jay:1 Measures:1 Undo:1 should:2 Failure:1 Craft:1 candidates:1 York:22 deactivated:1 Mob:1 1A25A7947D94:1 Homes:1 handle:5 pets:1 watching:4 Stranded:1 999:3 4AD0:1 Keep:1 crosswords:12 Stories:1 cubs:3 126:2 Popular:1 years:1 spur:2 Italian:1 denmark:1 100000003986160:1 rapper:1 taxes:2 Zones:1 Bright:1 hdleftnav:1 ohio:1 fixed:1 view:1 precomposed:3 europe:5 accuses:1 HPMediumMediaHedSumDaypart:3 turkeys:2 national:3 module:4 writable:1 edition:7 accused:2 Adoption:2 100000003985747:2 noodp:1 White:2 100000003930282:1 Twist:1 Good:1 PT:1 100000003979271:1 1445298725:1 state:3 rendition:2 Republican:2 email:1 PM:32 Developing:1 2px:7 S:7 byline:15 joe:1 police:3 Anchor:1 tickerSymbol:1 david:1 restrictions:1 BF10:1 career:4 taking:1 drug:1 Ivy:1 dogear:1 Design:2 Unlikely:1 13036:1 »:1 Campus:1 testId:12 comment:6 Log:1 Her:2 cc:1 8217:4 migrant:3 running:1 subscribe:1 Music:1 82F1C903DBFB:1 Locals:1 Holiday:1 ct:1 Preserve:1 100000003986212:1 videos:2 NYTD:5 100000003986218:2 Multiproduct:1 flyout:2 Immigration:2 quiz:1 427B:1 json:2 Obituaries:2 f8e9d2:1 Blackstone:2 00up:2 runaroundRight:2 kickers:1 20App:1 errorBeacon:2 Credit:1 copyrightHolder:2 Wordplay:1 last:16 general:1 Essential:1 painter:1 novel:7 align:2 value:1 General:2 will:4 Fatalities:1 Pricing:1 MORE:1 B172:1 site:9 helped:1 10lIEQ:1 emailed:2 You:6 allTheEmphases:1 agency:1 KAUFMAN:1 perhaps:1 syrian:2 parts:1 speaker:1 party:1 A257D89A:1 http:421 Third:1 Avoiding:2 Ride:1 ios:3 v2:6 v3:1 v5:1 student:3 francisco:1 Classifieds:1 off:2 center:1 1954:1 i:89 Syrian:3 37FYY:1 well:9 Pierre:1 21BROIL:1 Makers:1 States:6 100000003976737:3 Mohamed:3 Have:2 Need:2 position:1 LOPEZ:1 latest:1 Lennart:1 addPageAction:1 domestic:8 obtain:1 browsetree:2 Sunday:3 100000003985032:3 Balmain:2 paul:1 bottom8:1 bottom9:1 Be:4 republican:2 hackers:1 vidm:1 Lufthansa:1 provision:1 Company:1 adx:1 144x144:1 adoption:2 presidential:1 warns:1 By:14 enact:2 Thread:1 Ecosystem:1 Debut:1 Cycle:1 Drug:2 fats:3 Time:1 five:3 T:4 press:1 variants:12 loader:13 Jamaica:1 Fashion:7 like:1 lost:3 sizes:2 100000003963382:1 testName:12 async:1 Fear:2 refugees:2 page:8 11px:4 italian:1 school:3 Sun:1 twitter:1 90E6:1 Quiz:1 Crossword:4 Offers:1 Editor:2 home:5 empire:1 happens:2 graduation:2 afterword:1 monday:1 2783:1 overlay:2 sectionHeaderHome:2 philosopher:1 91E8:1 Replica:1 Deadline:2 videoPlaylist:1 4D71:1 Inside:1 10px:4 pp:1 Us:2 balkans:1 variation:1 offset:1 100000003986076:2 after:4 panel:3 about:3 justin:5 world:17 hpHeader:25 column:109 freedom:2 US:1 Americans:1 Weekly:1 nythpDaypartRegion:6 KIRKPATRICK:1 A4B35924:1 letters:1 h2:320 h3:88 French:1 h6:27 Two:1 h4:4 h5:2 fundraiser:2 acquitted:1 Approach:2 Feeding:1 Frauds:1 housing:4 57x57:1 70DA3BD89778:1 South:1 var:29 Portal:2 function:47 buy:3 gluten:2 HIGGINS:1 hr:11 Science:5 hp:14 Well:4 but:1 delivery:1 Boehner:1 hm:2 Following:2 450810F4FEE6:1 ear:2 Consumer:1 he:1 count:6 tactics:3 dangerous:1 Live:1 Tex:1 meta:32 limit:1 Care:1 display:12 Split:1 100000003812670:1 Modern:2 deaths:1 int:2 universal:1 Philosopher:1 twist:1 maxHeight:1 Threaten:1 20151014:11 education:5 campus:3 hospitalization:1 48:2 Centered:2 Million:2 Fats:2 100000003985862:2 other:3 details:1 84C8:1 repeat:5 star:1 100000003985903:1 insertBefore:2 HPHEADER:2 contentinfo:1 Remove:1 slideshow:6 Future:2 U:10 Morgan:1 N:12 friends:1 Page:3 Baltimore:1 ghost:1 blogs:13 Fights:2 Site:3 rule:11 Contributor:1 Thick:1 00guns1:2\n"
     ]
    }
   ],
   "source": [
    "import urllib2\n",
    "import string\n",
    "\n",
    "def source_parsing(source):\n",
    "    #print source # 추후 숙제 답안 제출 때엔 왼쪽 라인은 주석처리할 것\n",
    "    for i in range(0, source.count('<!--')):\n",
    "        if source.find(\"<!--\") != -1:\n",
    "            source = source.replace(source[source.find(\"<!--\"):source.find(\"-->\")+3],\"\")\n",
    "    #print source\n",
    "    for i in range(0,source.count(\"<\")):\n",
    "        if source.find(\"<\") != -1:\n",
    "            source = source.replace(source[source.find(\"<\"):source.find(\">\")+1],\"\")\n",
    "    #print source\n",
    "    #print string.punctuation\n",
    "    pucn_list=list(string.punctuation)\n",
    "    pucn_list.extend(['’','‘','···','【','】','…'])\n",
    "    #print pucn_list\n",
    "    \n",
    "    #print source\n",
    "    for word in pucn_list:\n",
    "        source=source.replace(word,' ')\n",
    "        \n",
    "    #print source\n",
    "    wordlist=source.split()\n",
    "    wordcount={}\n",
    "    \n",
    "    #단어 수 세기\n",
    "    for i in wordlist:\n",
    "        if not i in wordcount.keys():\n",
    "            wordcount[i]=1\n",
    "        else:\n",
    "            wordcount[i]=wordcount[i]+1\n",
    "    return wordcount\n",
    "\n",
    "#출력부\n",
    "test_source=urllib2.urlopen(\"http://www.naver.com\").read()\n",
    "word= source_parsing(test_source)\n",
    "for i in word:\n",
    "    print str(i)+\":\"+str(word[i]),\n",
    "print\n",
    "test_source=urllib2.urlopen(\"http://www.daum.net\").read()\n",
    "word= source_parsing(test_source)\n",
    "for i in word:\n",
    "    print str(i)+\":\"+str(word[i]),\n",
    "print\n",
    "test_source=urllib2.urlopen(\"http://www.nytimes.com\").read()\n",
    "word= source_parsing(test_source)\n",
    "for i in word:\n",
    "    print str(i)+\":\"+str(word[i]),\n",
    "print"
   ]
  },
  {
   "cell_type": "markdown",
   "metadata": {},
   "source": [
    "- 소스에서 단어를 추출하기 직전까지의 부분의 코드는 조교님께서 올려주신 지난 과제의 정답부분을 활용하였습니다. 없애줄 구두문자들을 리스트에 넣어줄 때 pucn_list=list(string.punctuation)와 같은 코드를 이용하였고, 그 밖에 구두문자에 해당한다고 생각한'’','‘','···','【','】'를 그 리스트에 extend로 추가시켜주었습니다. 그 후 그 리스트에 있는 문자들에 대해 추출된 소스에 그 문자가 있으면 그것을 공백으로 대체해주었습니다. 그 후 소스를 split을 통해 공백을 기준으로 나누어 wordlist에 넣어주었고, wordcount라는 빈 사전을 만들었습니다. 그 이후에 단어를 세기 위해 반복문을 이용하여 wordlist에 있는 단어들에 대해 단어수를 세 주고 사전 wordcount를 반환하였습니다. 그리고 그것을 출력해주는 것으로 마무리했습니다.\n",
    "- 단어로 split하기 전에 굳이 대체를 해준 것은 한 단어의 가운데에 포함되어있는 구두문자가 있을 경우, split한 후에 strip(양끝에 있는 것들을 제거 해줌)을 이용했을 때 그것들이 지워지지 않기 때문입니다."
   ]
  },
  {
   "cell_type": "markdown",
   "metadata": {},
   "source": [
    "####숙제이후 소감\n",
    "- 처음에는 문제가 주어졌을 때 과연 이런걸 할 수 있을까 겁부터 났었는데 그래도 어찌저찌 따라가고는 있는 것 같아 조금은 마음이 놓입니다. 사실 처음에는 2학년 과목에 선배님들이 이렇게 많이 계실 줄 몰랐는데, 다들 막 포스가 장난 아니셔서 걱정도 많구 불안하구 그럽니다. 그래서 과제를 해결할때마다 진짜 심적으로 그래도 어떻게 따라는 가겠구나 하는 마음 들어서 조금씩 안심되구 그래요... 근데 이게 제가 교과목에서 요구하고 있는걸 잘 따라가고 있는건지는 또 잘모르겠어서 참 머릿속이 복잡하네요. 이제 중간고사라 걱정이 더 커지는 것 같네요... 조교님이 올려주신 코드를 보고나서 제 코드를 보니까 뭔가 제껀 너저분한거 같고 그래서 더 열심히 해야겠다는 생각이 들었습니다. 프로젝트 오일러 문제들은 차근차근 풀어보고 있는데 확실이 평소에는 접할 수 없는 문제들이라 그런가 도움이 많이 되는 것 같습니다. 더블릿 밖에 몰랐었는데 좋은 사이트 알려주셔서 고맙습니다~! 아 그리구 이거 이러닝인게 진짜 신의 한수인 것 같아요ㅠㅠ 이해가 느린편인데 되감기 되고 일시정지 되고 그래서 너무 좋습니다. 항상 감사합니다!!!!!!"
   ]
  }
 ],
 "metadata": {
  "kernelspec": {
   "display_name": "Python 2",
   "language": "python",
   "name": "python2"
  },
  "language_info": {
   "codemirror_mode": {
    "name": "ipython",
    "version": 2
   },
   "file_extension": ".py",
   "mimetype": "text/x-python",
   "name": "python",
   "nbconvert_exporter": "python",
   "pygments_lexer": "ipython2",
   "version": "2.7.9"
  }
 },
 "nbformat": 4,
 "nbformat_minor": 0
}
