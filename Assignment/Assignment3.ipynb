{
 "cells": [
  {
   "cell_type": "markdown",
   "metadata": {},
   "source": [
    "#Assignment 3\n",
    "####스크립트 프로그래밍  2분반  2014136128 최유진"
   ]
  },
  {
   "cell_type": "markdown",
   "metadata": {},
   "source": [
    "####01) L=[1, 2, 3, 4, 5]일 때 다음 각 문장을 수행한 후의 결과를 보고 납득할 만한 이유를 설명하시오.\n",
    "    \n",
    "    (1)\n",
    "       L[1:3] = [100]\n",
    "       print L\n",
    "    (2)\n",
    "       L[1:3] = [(100)]\n",
    "       print L\n",
    "    (3)\n",
    "       L[1:3] = 100\n",
    "       print L\n",
    "    (4)\n",
    "       L[1:3] = (100)\n",
    "       print L\n",
    "    (5)\n",
    "       L[1:3] = (100, 101, 102)\n",
    "       print L\n",
    "    (6)\n",
    "       L[1:3] = [100, 101, 102]\n",
    "       print L\n",
    "    (7)\n",
    "       L[1:3] = [100]\n",
    "       print L\n",
    "    (8)\n",
    "       L[1:3] = [100]\n",
    "       print L"
   ]
  },
  {
   "cell_type": "code",
   "execution_count": 2,
   "metadata": {
    "collapsed": false
   },
   "outputs": [
    {
     "name": "stdout",
     "output_type": "stream",
     "text": [
      "[1, 100, 4, 5]\n",
      "[1, 100, 4, 5]\n"
     ]
    },
    {
     "ename": "TypeError",
     "evalue": "can only assign an iterable",
     "output_type": "error",
     "traceback": [
      "\u001b[1;31m---------------------------------------------------------------------------\u001b[0m",
      "\u001b[1;31mTypeError\u001b[0m                                 Traceback (most recent call last)",
      "\u001b[1;32m<ipython-input-2-8a09a877a3bc>\u001b[0m in \u001b[0;36m<module>\u001b[1;34m()\u001b[0m\n\u001b[0;32m     11\u001b[0m \u001b[1;31m#(3)\u001b[0m\u001b[1;33m\u001b[0m\u001b[1;33m\u001b[0m\u001b[0m\n\u001b[0;32m     12\u001b[0m \u001b[0mL\u001b[0m\u001b[1;33m=\u001b[0m\u001b[1;33m[\u001b[0m\u001b[1;36m1\u001b[0m\u001b[1;33m,\u001b[0m \u001b[1;36m2\u001b[0m\u001b[1;33m,\u001b[0m \u001b[1;36m3\u001b[0m\u001b[1;33m,\u001b[0m \u001b[1;36m4\u001b[0m\u001b[1;33m,\u001b[0m \u001b[1;36m5\u001b[0m\u001b[1;33m]\u001b[0m\u001b[1;33m\u001b[0m\u001b[0m\n\u001b[1;32m---> 13\u001b[1;33m \u001b[0mL\u001b[0m\u001b[1;33m[\u001b[0m\u001b[1;36m1\u001b[0m\u001b[1;33m:\u001b[0m\u001b[1;36m3\u001b[0m\u001b[1;33m]\u001b[0m \u001b[1;33m=\u001b[0m \u001b[1;36m100\u001b[0m\u001b[1;33m\u001b[0m\u001b[0m\n\u001b[0m\u001b[0;32m     14\u001b[0m \u001b[1;32mprint\u001b[0m \u001b[0mL\u001b[0m\u001b[1;33m\u001b[0m\u001b[0m\n",
      "\u001b[1;31mTypeError\u001b[0m: can only assign an iterable"
     ]
    }
   ],
   "source": [
    "#(1)\n",
    "L=[1, 2, 3, 4, 5]\n",
    "L[1:3] = [100]\n",
    "print L\n",
    "\n",
    "#(2)\n",
    "L=[1, 2, 3, 4, 5]\n",
    "L[1:3] = [(100)]\n",
    "print L\n",
    "\n",
    "#(3)\n",
    "L=[1, 2, 3, 4, 5]\n",
    "L[1:3] = 100\n",
    "print L\n"
   ]
  },
  {
   "cell_type": "markdown",
   "metadata": {},
   "source": [
    "- (1)의 경우 위치 1부터 2에 해당하는 원소 2와 3의 자리에 그것들 대신 100이 들어가게 되어 [1,100,4,5]와 같은 형태로 출력이 되게 됩니다.\n",
    "- (2)의 경우 리스트 내의 원소로(100)이 들어갔는데, 사실 이것은 괄호로 감싸져있기는 하지만 튜플이 아니고(원소가 하나인데 콤마를 사용하지 않았으므로)그냥 숫자이므로 위의 (1)과 같은 결과로 출력됩니다.\n",
    "- (3)의 경우 위치 1부터 2에 해당하는 원소 2와 3의 자리에 대신할것으로 그냥 숫자 100을 주었는데, 그에 따른 오류 메세지를 살펴보면, 반복이 가능한 것이 아니라 오류가 발생했습니다. 리스트, 튜플, 사전 등의 자료형은 반복이 가능하여 그 자리를 대체하여 들어갈 수 있지만, 숫자 100의 경우 그것이 불가능하여 오류가 발생한 것으로 생각됩니다."
   ]
  },
  {
   "cell_type": "code",
   "execution_count": 8,
   "metadata": {
    "collapsed": false
   },
   "outputs": [
    {
     "ename": "TypeError",
     "evalue": "can only assign an iterable",
     "output_type": "error",
     "traceback": [
      "\u001b[1;31m---------------------------------------------------------------------------\u001b[0m",
      "\u001b[1;31mTypeError\u001b[0m                                 Traceback (most recent call last)",
      "\u001b[1;32m<ipython-input-8-c738bad0bcd1>\u001b[0m in \u001b[0;36m<module>\u001b[1;34m()\u001b[0m\n\u001b[0;32m      1\u001b[0m \u001b[1;31m#(4)\u001b[0m\u001b[1;33m\u001b[0m\u001b[1;33m\u001b[0m\u001b[0m\n\u001b[0;32m      2\u001b[0m \u001b[0mL\u001b[0m\u001b[1;33m=\u001b[0m\u001b[1;33m[\u001b[0m\u001b[1;36m1\u001b[0m\u001b[1;33m,\u001b[0m \u001b[1;36m2\u001b[0m\u001b[1;33m,\u001b[0m \u001b[1;36m3\u001b[0m\u001b[1;33m,\u001b[0m \u001b[1;36m4\u001b[0m\u001b[1;33m,\u001b[0m \u001b[1;36m5\u001b[0m\u001b[1;33m]\u001b[0m\u001b[1;33m\u001b[0m\u001b[0m\n\u001b[1;32m----> 3\u001b[1;33m \u001b[0mL\u001b[0m\u001b[1;33m[\u001b[0m\u001b[1;36m1\u001b[0m\u001b[1;33m:\u001b[0m\u001b[1;36m3\u001b[0m\u001b[1;33m]\u001b[0m \u001b[1;33m=\u001b[0m \u001b[1;33m(\u001b[0m\u001b[1;36m100\u001b[0m\u001b[1;33m)\u001b[0m\u001b[1;33m\u001b[0m\u001b[0m\n\u001b[0m\u001b[0;32m      4\u001b[0m \u001b[1;32mprint\u001b[0m \u001b[0mL\u001b[0m\u001b[1;33m\u001b[0m\u001b[0m\n",
      "\u001b[1;31mTypeError\u001b[0m: can only assign an iterable"
     ]
    }
   ],
   "source": [
    "#(4)\n",
    "L=[1, 2, 3, 4, 5]\n",
    "L[1:3] = (100)\n",
    "print L"
   ]
  },
  {
   "cell_type": "markdown",
   "metadata": {},
   "source": [
    "- (4)의 경우에도 오류가 발생했는데, (100)의 경우 괄호로 감싸져있기는 하지만 원소가 하나인데 콤마가 없으므로 이 역시도 그냥 숫자 100으로 인식됩니다. 따라서, (3)의 경우와 마찬가지의 이유로 오류가 발생했다고 볼 수 있습니다."
   ]
  },
  {
   "cell_type": "code",
   "execution_count": 9,
   "metadata": {
    "collapsed": false
   },
   "outputs": [
    {
     "name": "stdout",
     "output_type": "stream",
     "text": [
      "[1, 100, 101, 102, 4, 5]\n",
      "[1, 100, 101, 102, 4, 5]\n",
      "[1, (100, 101, 102), 4, 5]\n",
      "[1, [100, 101, 102], 4, 5]\n"
     ]
    }
   ],
   "source": [
    "#(5)\n",
    "L=[1, 2, 3, 4, 5]\n",
    "L[1:3] = (100, 101, 102)\n",
    "print L\n",
    "\n",
    "#(6)\n",
    "L=[1, 2, 3, 4, 5]\n",
    "L[1:3] = [100, 101, 102]\n",
    "print L\n",
    "\n",
    "#(7)\n",
    "L=[1, 2, 3, 4, 5]\n",
    "L[1:3] = [(100, 101, 102)]\n",
    "print L\n",
    "\n",
    "#(8)\n",
    "L=[1, 2, 3, 4, 5]\n",
    "L[1:3] = [[100, 101, 102]]\n",
    "print L"
   ]
  },
  {
   "cell_type": "markdown",
   "metadata": {},
   "source": [
    "- (5)의 경우 위치 1,2에 해당하는 원소 2, 3 대신에 100,101,102가 들어가게 되었습니다. 튜플은 반복이 가능한 자료형이므로 오류가 발생하지 않고 잘 출력된 것을 확인할 수 있습니다.\n",
    "- (6)의 경우 위치 1,2에 해당하는 원소 2, 3 대신에 100,101,102가 들어가게 되었습니다. 리스트는 반복이 가능한 자료형이므로 오류가 발생하지 않고 잘 출력되었습니다.\n",
    "- (7)의 경우 위치 1,2에 해당하는 원소 2,3 대신에 튜플(100,101,102)가 들어가게 되었습니다. 튜플이 원소 하나로 취급되어 위치 1,2에 해당하는 자리에 잘 들어갔습니다.\n",
    "- (8)의 경우 위치 1,2에 해당하는 원소 2,3 대신에 리스트[100,101,102]가 들어가게 되었습니다. 리스트가 원소 하나로 취급되어 위치 1,2에 해당하는 자리에 잘 들어갔습니다."
   ]
  },
  {
   "cell_type": "markdown",
   "metadata": {},
   "source": [
    "####02) 문자열 S = 'Hello World and Python'에 대해 다음 요구사항에 대한 Python 코드를 제시하시오.\n",
    "  1. 단어의 순서가 역순으로 되어진 문자열 ('Python and World Hello')을 만들고\n",
    "  2. 1.의 결과 문자열에 대해 메소드 split과 join을 이용하여 공백을 모두 없엔 문자열 'PythonandWorldHello'을 만드시오."
   ]
  },
  {
   "cell_type": "code",
   "execution_count": 9,
   "metadata": {
    "collapsed": false
   },
   "outputs": [
    {
     "name": "stdout",
     "output_type": "stream",
     "text": [
      "Python and World Hello\n",
      "PythonandWorldHello\n"
     ]
    }
   ],
   "source": [
    "s = 'Hello World and Python'\n",
    "wordlist=s.split()\n",
    "wordlist.reverse()\n",
    "result_s1=' '.join(wordlist)\n",
    "print result_s1 #1번의 해결\n",
    "\n",
    "wordlist=result_s1.split()\n",
    "result_s2=''.join(wordlist)\n",
    "print result_s2 #2번의 해결"
   ]
  },
  {
   "cell_type": "markdown",
   "metadata": {},
   "source": [
    "- 먼저 1.을 해결하기 위해 주어진 문자열 s를 단어 단위로 쪼개어 리스트에 넣어주고 그것의 순서를 역순으로 바꾸어준 다음, 그 단어들 사이가 ' '로 이어진 문자열을 만들어 출력을 해주었습니다.\n",
    "- 2.를 해결하기 위에서 1의 결과를 다시 단어로 쪼개어 준다음, 그것을 ''(아무것도쓰이지않은것)으로 이어진 문자열, 즉 단어끼리 다 붙어있는 문자열로 만들어 그것을 출력해주었습니다."
   ]
  },
  {
   "cell_type": "markdown",
   "metadata": {},
   "source": [
    "####03) 다음 코드를 보고 물음에 답하시오.\n",
    "\n",
    "      a = [1, 2, 3]\n",
    "      b = a * 3\n",
    "      c = [a] * 3\n",
    "      print b\n",
    "      print c\n",
    "  \n",
    "  1. 위 코드를 수행한 이후 다음 코드를 수행한 후 b와 c의 내용을 확인하시오.\n",
    "     >a[0]=0\n",
    "      \n",
    "  2. b와 c 객체의 차이는 무엇인가?"
   ]
  },
  {
   "cell_type": "code",
   "execution_count": 15,
   "metadata": {
    "collapsed": false
   },
   "outputs": [
    {
     "name": "stdout",
     "output_type": "stream",
     "text": [
      "[1, 2, 3, 1, 2, 3, 1, 2, 3]\n",
      "[[1, 2, 3], [1, 2, 3], [1, 2, 3]]\n",
      "\n",
      "[1, 2, 3, 1, 2, 3, 1, 2, 3]\n",
      "[[0, 2, 3], [0, 2, 3], [0, 2, 3]]\n"
     ]
    }
   ],
   "source": [
    "a = [1, 2, 3]\n",
    "b = a * 3\n",
    "c = [a] * 3\n",
    "print b\n",
    "print c\n",
    "#1.\n",
    "print\n",
    "a[0]=0\n",
    "print b\n",
    "print c"
   ]
  },
  {
   "cell_type": "markdown",
   "metadata": {},
   "source": [
    "- 1.의 경우 b의 내용은 [1,2,3,1,2,3,1,2,3]이 되었고, c의 내용은 [[0,2,3],[0,2,3],[0,2,3]]이 되었습니다.\n",
    "- 2.는 b와 c 객체의 차이는 a를 어떻게 받아왔느냐의 차이인 것 같습니다. b 객체는 만들어질 때, a 내의 원소가 세번 반복된 리스트가 만들어지게 되었는데, 그에 반해 c 객체는 만들어질 때, a의 주소를 원소로 가지고 있는 리스트가 세번 반복되게 됩니다. 즉, c객체 내의 원소는 a를 가리키고 있는 주소가 3번 반복된 것과 마찬가지입니다. 따라서 a를 변경했을 때, 1. 과 같이 b는 그대로이고 c만 바뀌어 출력되는 결과가 나타나게 되었습니다."
   ]
  },
  {
   "cell_type": "markdown",
   "metadata": {},
   "source": [
    "####04) 다음 문자열을 ':'을 기준으로 분리하여 리스트로 만들고 각 문자열의 좌우 공백을 제거하시오 (즉, 문자열 S에서 l을 만들어라)\n",
    "      s = '  first star   :   second star   :    third star  '\n",
    "      l = ['first star', 'second star', 'third star']\n",
    "  1. for ~ in 문을 이용한 코드를 작성하시오.\n",
    "  2. 리스트 내포(list comprehension)를 이용한 코드를 작성하시오."
   ]
  },
  {
   "cell_type": "code",
   "execution_count": 37,
   "metadata": {
    "collapsed": false
   },
   "outputs": [
    {
     "name": "stdout",
     "output_type": "stream",
     "text": [
      "['first star', 'second star', 'third star']\n",
      "['first star', 'second star', 'third star']\n"
     ]
    }
   ],
   "source": [
    "s = '  first star   :   second star   :    third star  '\n",
    "l = ['first star', 'second star', 'third star']\n",
    "\n",
    "temp = s.split(':')#:을 기준으로 분리하기\n",
    "\n",
    "#1.for~in문\n",
    "result1=[]\n",
    "for word in temp:\n",
    "    result1.append(word.strip())\n",
    "print result1\n",
    "\n",
    "#2.리스트 내포\n",
    "result2=[word.strip() for word in temp]\n",
    "print result2"
   ]
  },
  {
   "cell_type": "markdown",
   "metadata": {},
   "source": [
    "- 먼저 문자열을 : 를 기준으로 나누어주기 위하여 split을 이용했습니다.\n",
    "- for~in문을 사용한 코드는 temp에 저장된 단어들을 하나씩 불러와 좌우공백을 없애기 위해 strip해서 result1에 하나씩 넣어주는 방식으로 만들었습니다.\n",
    "- 리스트 내포를 이용한 코드는 temp에 저장된 단어들에 strip을 해주어 그것을 그대로 result2의 원소로 삼아줄 수 있도록 만들었습니다."
   ]
  },
  {
   "cell_type": "markdown",
   "metadata": {},
   "source": [
    "####05) 다음과 같이 0보다 큰 정수 리스트 변수 list를 인자로 받는 함수 addall(list)와 addallodd(list)를 for ~ in 리터널과 리스트 내포 방식으로 각각 제시하시오.\n",
    "  1. addall(list) 함수 (리스트 내의 모든 정수를 더하는 함수로서 해답으로는 for ~ in 리터럴과 리스트 내포 방식으로 각각 제시하시오.)\n",
    "         addall([1])\n",
    "         1\n",
    "         addall([1, 2, 3, 4, 5, 6, 7, 8, 9])\n",
    "         45\n",
    "  2. addallodd(list) 함수 (리스트내의 모든 홀수를 더하는 함수로서 해답으로는 for ~ in 리터럴과 리스트 내포 방식으로 각각 제시하시오.)\n",
    "         addallodd([1])\n",
    "         1\n",
    "         addallodd([1, 2, 3, 4, 5, 6, 7, 8, 9])\n",
    "         25\n",
    " [참고]: 리스트 내포 방식으로 addall() 및 addallodd()함수를 만들 때엔 리스트 내포에 의해 생성된 리스트 결과에 대해 내장 함수를 사용하는 방식을 고려해보시오 (주의: 리스트 내포 방식의 addall() 및 addallodd() 함수의 몸체는 단 1줄로 작성되어야 한다.)"
   ]
  },
  {
   "cell_type": "code",
   "execution_count": 14,
   "metadata": {
    "collapsed": false
   },
   "outputs": [
    {
     "name": "stdout",
     "output_type": "stream",
     "text": [
      "1\n",
      "45\n"
     ]
    }
   ],
   "source": [
    "#1번문제 for~in\n",
    "def addall(li):\n",
    "    sum=0\n",
    "    for i in range (len(li)):\n",
    "        sum+=li[i]\n",
    "    return sum\n",
    "print addall([1])\n",
    "print addall([1,2,3,4,5,6,7,8,9])"
   ]
  },
  {
   "cell_type": "code",
   "execution_count": 8,
   "metadata": {
    "collapsed": false
   },
   "outputs": [
    {
     "name": "stdout",
     "output_type": "stream",
     "text": [
      "1\n",
      "45\n"
     ]
    }
   ],
   "source": [
    "#1번문제 리스트내포\n",
    "def addall(li):\n",
    "    return sum([num for num in li])\n",
    "print addall([1])\n",
    "print addall([1,2,3,4,5,6,7,8,9])"
   ]
  },
  {
   "cell_type": "markdown",
   "metadata": {},
   "source": [
    "- 05)의 1.번 문제를 풀이한 것입니다. for~in을 사용할 때는 먼저 합을 담고있을 변수 sum을 선언해주었고, 그 후 인자로 들어온 리스트의 원소의 갯수만큼 for문을 돌려 리스트의 원소들을 sum에 더해주었습니다. 그 후 sum을 반환하는것으로 함수를 작성했습니다. \n",
    "- 반면 리스트 내포를 사용하였을때는 리스트 내의 원소들의 합을 구하기 위해 sum이라는 내장함수를 이용하는 방식으로 코드를 작성했습니다. 리스트를 인자로 받아온 후, 그 리스트 내의 숫자들로 리스트를 생성하여 그 리스트를 sum이라는 내장함수의 인자로 주고, 그 결과를 반환하는 것으로 함수를 작성했습니다."
   ]
  },
  {
   "cell_type": "code",
   "execution_count": 1,
   "metadata": {
    "collapsed": false
   },
   "outputs": [
    {
     "name": "stdout",
     "output_type": "stream",
     "text": [
      "1\n",
      "25\n"
     ]
    }
   ],
   "source": [
    "#2번문제 for~in\n",
    "def addallodd(li):\n",
    "    sum=0\n",
    "    for i in range (len(li)):\n",
    "        if(li[i]%2!=0):\n",
    "            sum+=li[i]\n",
    "    return sum\n",
    "print addallodd([1])\n",
    "print addallodd([1,2,3,4,5,6,7,8,9])"
   ]
  },
  {
   "cell_type": "code",
   "execution_count": 2,
   "metadata": {
    "collapsed": false
   },
   "outputs": [
    {
     "name": "stdout",
     "output_type": "stream",
     "text": [
      "1\n",
      "25\n"
     ]
    }
   ],
   "source": [
    "#2번문제 리스트내포\n",
    "def addallodd(li):\n",
    "    return sum([num for num in li if(num%2!=0)])\n",
    "print addallodd([1])\n",
    "print addallodd([1,2,3,4,5,6,7,8,9])"
   ]
  },
  {
   "cell_type": "markdown",
   "metadata": {},
   "source": [
    "- 05)의 2.번 문제를 풀이한 것입니다. for~in을 사용할 때는 먼저 합을 담고있을 변수 sum을 선언해주었고, 그 후 인자로 들어온 리스트의 원소의 갯수만큼 for문을 돌렸습니다. 그 후 if문의 조건으로 2로 나누었을때의 나머지가 0이 아닌 경우를 주고, 그 조건에 부합하는 리스트의 원소들(홀수)을 sum에 더해주었습니다. 그 후 sum을 반환하는것으로 함수를 작성했습니다. \n",
    "- 반면 리스트 내포를 사용하였을때는 앞선 1.번과 마찬가지로 리스트 내의 원소들의 합을 구하기 위해 sum이라는 내장함수를 이용하는 방식으로 코드를 작성했습니다. 리스트를 인자로 받아온 후, 그 리스트 내의 숫자들로 리스트를 생성하는데 그 과정에서 조건을 2로 나누었을때 나머지가 0이 아닌 숫자들(홀수)에 한해서 리스트의 원소로 들어갈 수 있도록 하였고, 그렇게 만들어진 리스트를 sum이라는 내장함수의 인자로 주고, 그 결과를 반환하는 것으로 함수를 작성했습니다."
   ]
  },
  {
   "cell_type": "markdown",
   "metadata": {},
   "source": [
    "####06) 다음 코드를 보고 물음에 답하시오.\n",
    "      L1 = [1, 2, 3]\n",
    "      L2 = [4, 5, 6]\n",
    "      d = {'low':L1, 'high':L2}\n",
    "      e = d\n",
    "      f = d.copy()\n",
    "      print d\n",
    "      print e\n",
    "      print f\n",
    "      print\n",
    "      d['low'] = [10, 20, 30]\n",
    "      d['high'][1] = 500\n",
    "      print d\n",
    "      print e\n",
    "      print f\n",
    "  1. 위 코드의 수행 결과 d와 e는 항상 같은 결과를 출력한다. 그 이유는 무엇인가?\n",
    "  2. 위 코드의 수행 결과 마지막 f의 내용은 다음과 같다. 이 때 'high' 키의 값 내용 중 500이 출력된 이유와 'low' 키의 값 내용 중 [1, 2, 3]이 출력된 이유를 설명하시오 ([hint]: shallow copy 관점에서 설명하시오.)\n",
    "  \n",
    "      {'high': [4, 500, 6], 'low': [1, 2, 3]}"
   ]
  },
  {
   "cell_type": "code",
   "execution_count": 5,
   "metadata": {
    "collapsed": false
   },
   "outputs": [
    {
     "name": "stdout",
     "output_type": "stream",
     "text": [
      "{'high': [4, 5, 6], 'low': [1, 2, 3]}\n",
      "{'high': [4, 5, 6], 'low': [1, 2, 3]}\n",
      "{'high': [4, 5, 6], 'low': [1, 2, 3]}\n",
      "\n",
      "{'high': [4, 500, 6], 'low': [10, 20, 30]}\n",
      "{'high': [4, 500, 6], 'low': [10, 20, 30]}\n",
      "{'high': [4, 500, 6], 'low': [1, 2, 3]}\n"
     ]
    }
   ],
   "source": [
    "L1 = [1, 2, 3]\n",
    "L2 = [4, 5, 6]\n",
    "d = {'low':L1, 'high':L2}\n",
    "e = d\n",
    "f = d.copy()\n",
    "print d\n",
    "print e\n",
    "print f\n",
    "print\n",
    "d['low'] = [10, 20, 30]\n",
    "d['high'][1] = 500\n",
    "print d\n",
    "print e\n",
    "print f"
   ]
  },
  {
   "cell_type": "markdown",
   "metadata": {},
   "source": [
    "- 1.의 경우, e에는 d가 가리키는 객체의 주소가 담겨지게 되는데, 즉 e에는 d에 담긴 사전의 레퍼런스가 들어가게 됩니다. 그에 따라서 d가 가리키는 객체와 e가 가리키는 객체가 같아집니다. 따라서 d의 출력값과 e의 출력값은 항상 같아지게 됩니다.\n",
    "- 2.의 경우, f=d.copy()와 같은 코드에서 얕은 복사가 일어났기 때문에 발생한 결과입니다. copy를 이용하여 복사를 진행할 경우 깊은 복사가 아닌 얕은복사(한단계 깊이의 복사)가 일어납니다. 그 경우, 리스트 안에 존재하는 (각 객체를 가리키는)원소는 공유되게 되어 별도의 객체가 존재하지는 않습니다. 따라서 d['high'][1]=500과 같은 코드를 주었을 때, 모두가 공유하고 있는 객체의 변화로 인해 f에서도 바뀐 값이 출력되게 되었습니다. 반면, value로 들어간 리스트 자체는 새로운 객체를 생성하며 복사되었기 때문에, d['low']=[10,20,30]과 같은 코드에 의해 f가 변하지는 않았습니다. 그 결과 {'high': [4, 500, 6], 'low': [1, 2, 3]}와 같은 출력이 이루어졌습니다."
   ]
  },
  {
   "cell_type": "markdown",
   "metadata": {},
   "source": [
    "####07) 사전 d = {'one':1, 'two':2, 'three':3, 'four':4, 'five':5}가 주어졌을 때 다음 요구사항에 맞는 코드를 제시하시오\n",
    "\n",
    "- [참고]: d.keys(), d.values()를 통해 리스트를 얻어낸 후 리스트가 지니고 있는 sort(cmp=None, key=None, reverse=False)함수를 활용하시오.\n",
    "- 1) 키의 알파벳 오름차순 순서대로 튜플 (키, 값)을 차례대로 출력하시오.\n",
    "- 2) 키의 알파벳 내림차순 순서대로 튜플 (키, 값)을 차례대로 출력하시오.\n",
    "- 3) 값의 오름차순 순서대로 튜플 (키, 값)을 차례대로 출력하시오.\n",
    "- 4) 값의 내림차순 순서대로 튜플 (키, 값)을 차례대로 출력하시오."
   ]
  },
  {
   "cell_type": "code",
   "execution_count": 46,
   "metadata": {
    "collapsed": false
   },
   "outputs": [
    {
     "name": "stdout",
     "output_type": "stream",
     "text": [
      "('five', 5) ('four', 4) ('one', 1) ('three', 3) ('two', 2)\n",
      "('two', 2) ('three', 3) ('one', 1) ('four', 4) ('five', 5)\n",
      "('one', 1) ('two', 2) ('three', 3) ('four', 4) ('five', 5) ('one', 1) ('two', 2) ('three', 3) ('four', 4) ('five', 5)\n",
      "('five', 5) ('four', 4) ('three', 3) ('two', 2) ('one', 1) ('five', 5) ('four', 4) ('three', 3) ('two', 2) ('one', 1)\n"
     ]
    }
   ],
   "source": [
    "def v(item):#f를 이거로 주었기 때문에 가능한거....\n",
    "    return item[1]\n",
    "\n",
    "d = {'one':1, 'two':2, 'three':3, 'four':4, 'five':5}\n",
    "li_keys=d.keys()\n",
    "li_values=d.values()\n",
    "\n",
    "#1)\n",
    "li_keys.sort()\n",
    "for key in li_keys:\n",
    "    print (key, d[key]),\n",
    "\n",
    "print\n",
    "\n",
    "#2)\n",
    "li_keys.sort(reverse=True)\n",
    "for key in li_keys:\n",
    "    print (key,d[key]),\n",
    "    \n",
    "print\n",
    "\n",
    "#3)\n",
    "li_values.sort()\n",
    "for value in li_values:\n",
    "    for key in li_keys:\n",
    "        if(d[key]==value):\n",
    "            print (key,value),\n",
    "            \n",
    "#d.keys(), d.values()를 사용하지 않아도 될 경우\n",
    "li_items.sort(key=v)\n",
    "for t in li_items:\n",
    "    print t,\n",
    "    \n",
    "print\n",
    "\n",
    "#4)\n",
    "li_values.sort(reverse=True)\n",
    "for value in li_values:\n",
    "    for key in li_keys:\n",
    "        if(d[key]==value):\n",
    "            print (key,value),\n",
    "            \n",
    "#d.keys(), d.values()를 사용하지 않아도 될 경우\n",
    "li_items.sort(key=v,reverse=True)\n",
    "for t in li_items:\n",
    "    print t,\n",
    "    \n",
    "print"
   ]
  },
  {
   "cell_type": "markdown",
   "metadata": {},
   "source": [
    "- 1)의 경우 키의 알파벳 오름차순 순서대로 튜플을 출력하는 것이므로 먼저 얻었던 키를 오름차순으로 정렬한 뒤, 반복문을 통해 오름차순 정렬된 각 키와 그 키에 해당하는 밸류를 가져오며 출력하는 것으로 코드를 구성했습니다.\n",
    "- 2)의 경우 키의 알파벳 내림차순 순서대로 튜플을 출력하는 것이므로 먼저 얻었던 키를 내림차순으로 정렬한 뒤, 반복문을 통해 내림차순 정렬된 각 키와 그 키에 해당하는 밸류를 가져오며 출력하는 것으로 코드를 구성했습니다.\n",
    "- 3)의 경우 값의 오름차순 순서대로 튜플 (키, 값)을 차례대로 출력하는 것이므로, 밸류를 오름차순으로 정렬한뒤, 반복문을 통해 오름차순 정렬된 밸류와 각 키에 해당하는 값을 비교하여 같을경우 (키, 값)을 출력해주는 방식으로 코드를 만들었습니다. 문제에서 'd.keys(), d.values()를 통해 리스트를 얻어낸 후 리스트가 지니고 있는 sort(cmp=None, key=None, reverse=False)함수를 활용하시오'라고 하였기에 이런식으로 코드를 구성해보았는데, 만약에 keys와 values를 이용하지 않아도 된다면, 그 아래에 작성한 것 처럼 items를 이용해 좀 더 편하게 같은 기능을 하는 코드를 만들 수 있습니다.\n",
    "- 4)의 경우 값의 내림차순 순서대로 튜플 (키, 값)을 차례대로 출력하는 것이므로, 밸류를 내림차순으로 정렬한뒤, 반복문을 통해 내림차순 정렬된 밸류와 각 키에 해당하는 값을 비교하여 같을경우 (키, 값)을 출력해주는 방식으로 코드를 만들었습니다. 문제에서 'd.keys(), d.values()를 통해 리스트를 얻어낸 후 리스트가 지니고 있는 sort(cmp=None, key=None, reverse=False)함수를 활용하시오'라고 하였기에 이런식으로 코드를 구성해보았는데, 만약에 keys와 values를 이용하지 않아도 된다면, 그 아래에 작성한 것 처럼 items를 이용해 좀 더 편하게 같은 기능을 하는 코드를 만들 수 있습니다.\n"
   ]
  },
  {
   "cell_type": "markdown",
   "metadata": {},
   "source": [
    "####08) [프로젝트 오일러 문제 7]\n",
    "- 10001번째의 소수\n",
    "  - 소수를 크기 순으로 나열하면 2, 3, 5, 7, 11, 13, ... 과 같이 됩니다.\n",
    "  - 이 때 10,001번째의 소수를 구하세요."
   ]
  },
  {
   "cell_type": "code",
   "execution_count": 59,
   "metadata": {
    "collapsed": false
   },
   "outputs": [
    {
     "name": "stdout",
     "output_type": "stream",
     "text": [
      "104743\n"
     ]
    }
   ],
   "source": [
    "prime_list = [2]\n",
    "num=3\n",
    "while(len(prime_list)!=10001):\n",
    "    temp=0\n",
    "    for p in prime_list:\n",
    "        if(num%p==0):\n",
    "            temp+=1\n",
    "            break\n",
    "    if(temp==0):\n",
    "        prime_list.append(num)\n",
    "    num+=2\n",
    "print prime_list[len(prime_list)-1]"
   ]
  },
  {
   "cell_type": "markdown",
   "metadata": {},
   "source": [
    "- 소수로 판단된 수를 가지고 있을 리스트 prime_num에 소수인것이 자명한 2를 넣어주고 시작했습니다. 그 다음으로 소수인지 판단할 수를 가지고 있을 변수 num을 3으로 지정해주었습니다. 그 뒤 소수로 판단된 수들을 가지고 있을 prime_list의 길이가 10001이 아닌동안, 반복을 돌려주었습니다. 소수임을 판단할 때 이용할 수 temp를 0으로 지정해주고, prime_list안의 수들로 소수임을 판단할 수 num을 나누어 만약 나머지가 0이 되면 temp를 증가시키고 반복을 중단했습니다. 그 후, 만약 temp가 0이면 prime_list의 현재 num을 추가시켜준 뒤, num을 2 증가시켰습니다. 짝수는 2로 무조건 나누어지므로, 2를 제외한 짝수는 소수일 수 없으므로 판단하지 않아도 되기 때문입니다.\n",
    "- 마지막으로 들어온 수를 출력하기 위해 prime_list의 길이에서 1을 뺀 값을 인덱스로 주어 원소를 출력해주었습니다."
   ]
  },
  {
   "cell_type": "markdown",
   "metadata": {},
   "source": [
    "####09) [프로젝트 오일러 문제 8]\n",
    "- 1000자리 숫자 안에서 이어지는 5자리 숫자의 곱 중 최대값은?\n",
    "  - 다음은 연속된 1000자리 숫자입니다 (읽기 좋게 50자리씩 잘라놓음).\n",
    "\n",
    "        73167176531330624919225119674426574742355349194934\n",
    "        96983520312774506326239578318016984801869478851843\n",
    "        85861560789112949495459501737958331952853208805511\n",
    "        12540698747158523863050715693290963295227443043557\n",
    "        66896648950445244523161731856403098711121722383113\n",
    "        62229893423380308135336276614282806444486645238749\n",
    "        30358907296290491560440772390713810515859307960866\n",
    "        70172427121883998797908792274921901699720888093776\n",
    "        65727333001053367881220235421809751254540594752243\n",
    "        52584907711670556013604839586446706324415722155397\n",
    "        53697817977846174064955149290862569321978468622482\n",
    "        83972241375657056057490261407972968652414535100474\n",
    "        82166370484403199890008895243450658541227588666881\n",
    "        16427171479924442928230863465674813919123162824586\n",
    "        17866458359124566529476545682848912883142607690042\n",
    "        24219022671055626321111109370544217506941658960408\n",
    "        07198403850962455444362981230987879927244284909188\n",
    "        84580156166097919133875499200524063689912560717606\n",
    "        05886116467109405077541002256983155200055935729725\n",
    "        71636269561882670428252483600823257530420752963450\n",
    "\n",
    "    - 여기서 붉게 표시된 71112의 경우 7, 1, 1, 1, 2 각 숫자를 모두 곱하면 14가 됩니다.\n",
    "    - 이런 식으로 맨 처음 (7 × 3 × 1 × 6 × 7 = 882) 부터 맨 끝 (6 × 3 × 4 × 5 × 0 = 0) 까지 5자리 숫자들의 곱을 구할 수 있습니다.\n",
    "    - 이렇게 구할 수 있는 5자리 숫자의 곱 중에서 가장 큰 값은 얼마입니까?"
   ]
  },
  {
   "cell_type": "code",
   "execution_count": 48,
   "metadata": {
    "collapsed": false
   },
   "outputs": [
    {
     "name": "stdout",
     "output_type": "stream",
     "text": [
      "40824\n"
     ]
    }
   ],
   "source": [
    "a=7316717653133062491922511967442657474235534919493496983520312774506326239578318016984801869478851843858615607891129494954595017379583319528532088055111254069874715852386305071569329096329522744304355766896648950445244523161731856403098711121722383113622298934233803081353362766142828064444866452387493035890729629049156044077239071381051585930796086670172427121883998797908792274921901699720888093776657273330010533678812202354218097512545405947522435258490771167055601360483958644670632441572215539753697817977846174064955149290862569321978468622482839722413756570560574902614079729686524145351004748216637048440319989000889524345065854122758866688116427171479924442928230863465674813919123162824586178664583591245665294765456828489128831426076900422421902267105562632111110937054421750694165896040807198403850962455444362981230987879927244284909188845801561660979191338754992005240636899125607176060588611646710940507754100225698315520005593572972571636269561882670428252483600823257530420752963450\n",
    "str_a=str(a)\n",
    "mul=0\n",
    "for i in range(1,997):\n",
    "    temp=1\n",
    "    if(str_a[i]=='0' or str_a[i+1]=='0' or str_a[i+2]=='0' or str_a[i+3]=='0' or str_a[i+4]=='0'):\n",
    "        pass\n",
    "    else:\n",
    "        for j in range(i,i+5):\n",
    "            temp*=int(str_a[j])\n",
    "        if(mul<temp):\n",
    "            mul=temp   \n",
    "print mul        "
   ]
  },
  {
   "cell_type": "markdown",
   "metadata": {},
   "source": [
    "- 이 문제의 경우 일단 주어진 숫자를 문자열화 해준 뒤, 반복문을 돌려 곱을 구하는 다섯 숫자 중 하나라도 0이면 패스하게 하였고, 0이 아닐 경우에는 다섯 숫자의 곱을 구한 뒤, 만약 구한 곱(여기선 temp)이 여태까지 구해놓은 곱(mul)보다 클 경우, 값을 바꿔주는 식으로 코드를 만들었습니다."
   ]
  },
  {
   "cell_type": "markdown",
   "metadata": {},
   "source": [
    "####10) [프로젝트 오일러 문제 9]\n",
    "- a + b + c = 1000 이 되는 피타고라스 수\n",
    "  - 세 자연수 a, b, c 가 피타고라스 정리 a^2 + b^2 = c^2 를 만족하면 피타고라스 수라고 부릅니다 (여기서 a < b < c ).\n",
    "  - 예를 들면 32 + 42 = 9 + 16 = 25 = 52이므로 3, 4, 5는 피타고라스 수입니다.\n",
    "  - a + b + c = 1000 인 피타고라스 수 a, b, c는 한 가지 뿐입니다. 이 때, a × b × c 는 얼마입니까?"
   ]
  },
  {
   "cell_type": "code",
   "execution_count": 55,
   "metadata": {
    "collapsed": false
   },
   "outputs": [
    {
     "name": "stdout",
     "output_type": "stream",
     "text": [
      "31875000\n"
     ]
    }
   ],
   "source": [
    "def pita(n):\n",
    "    for j in range(n/2-1,0,-1):\n",
    "        for k in range(n/2,j,-1):#삼각형의 성립조건\n",
    "            i=n-j-k\n",
    "            if(i>j):\n",
    "                break\n",
    "            elif(((i*i)+(j*j))==(k*k)):\n",
    "                return i*j*k\n",
    "print pita(1000)"
   ]
  },
  {
   "cell_type": "markdown",
   "metadata": {},
   "source": [
    "- 이 문제를 풀 때는 먼저, 반복을 줄이기 위해서 삼각형의 성립조건을 생각해볼 수 있습니다. 삼각형의 세 변의 길이는 가장긴변의 길이가 나머지 두 변의 길이의 합보다 짧아야 하므로, 두 변의 길이가 주어지면, 나머지 한 변의 길이의 범위를 정할 수 있게 됩니다. 여기서는 세 변의 길이의 합이 1000이라는 조건이 주어졌으므로, 그 조건에 따라 두 변의 길이가 정해지면 자연스럽게 조건을 만족하는 나머지 한 변의 길이를 구할 수 있게 됩니다. 또 큰 수가 들어갈 것으로 예상하여 반복을 뒤부터 돌려준다면 좀 더 반복되는 횟수를 줄일 수 있게 됩니다.\n",
    "- 먼저, j는 중간길이의 변(만약 가장 긴 변을 제외한 나머지 두 변의 길이가 같다면 짧은 변)을 나타내고, k는 가장 긴 변을 나타냅니다. 그래서 k는 j보다 클 동안만 감소하게 됩니다. 그렇게 k와 j에 특정한 길이가 대입되면, 1000에서 나머지 두 변의 길이를 빼 가장 짧은 변의 길이인 i를 구합니다. 만약 그렇게 구한 i가 j보다 클 경우 조건에 위배되므로 반복을 멈춥니다(같은 값을 순서만 바뀐채로 두번 구하는 것을 방지하기 위함). 만약 i까지 구했을 때, 세 변의 길이가 i<j<k 라는 조건을 만족한다면, i의 제곱과 j의 제곱의 합이 k의 제곱과 같은지를 판단하고 만약 같다면 그 세 수의 곱을 반환해줍니다."
   ]
  },
  {
   "cell_type": "markdown",
   "metadata": {},
   "source": [
    "####11) [Incremental Project] 이전 Assignment 2의 마지막 문제는 웹 URL로 지정된 웹페이지를 문자열로 가져와 모든 HTML 태그 및 CSS와 Javascript를 제외한 순수 텍스트를 얻어내고 그 안에 존재하는 단어를 추출하고 단어들의 총 개수를 출력하는 프로그램을 작성하는 것이었다. 이번에는 그 마지막 숙제를 그대로 확장하여 웹 URL로 지정된 웹페이지 내 순수 텍스트 안에 존재하는 각 단어들에 대해 다음 요구사항 대로 출력하는 프로그램을 작성하시오.\n",
    "- 요구사항 1. 순수 텍스트 안에 존재하는 단어들에 대해 string 모듈을 활용하여 모든 punctuation (구두문자)를 완벽히 제거하시오.\n",
    "  - 예: ['world!', ':', '+hello+', '~python$$$', '=', 'world'] ---> ['world', 'hello', 'python', 'world']\n",
    "  - 모든 punctuation을 확인하는 방법은 아래와 같다.\n",
    "    - import string\n",
    "    - print string.punctuation\n",
    "- 요구사항 2. 만약 punctuation (구두문자)를 제거한 이후 공백으로 판명되는 단어들은 해당 단어 리스트에서 제거하시오.\n",
    "  - 예: ['컴퓨터공학부!', '---?', '%지향~', '...'] ---> ['컴퓨터공학부', '지향']\n",
    "- 요구사항 3. 각 단어들의 출현빈도를 사전형태로 저장하여 출력하시오.\n",
    "  - 예: ['world', 'hello', 'python', 'world', '컴퓨터공학부', '지향'] ---> {'world': 2, 'hello': 1, 'python': 1, '컴퓨터공학부': 1, '지향': 1}\n",
    "- 요구사항 4. 다음 3개의 사이트에 대한 결과를 출력하시오.\n",
    "  - http://www.naver.com\n",
    "  - http://www.daum.net\n",
    "  - http://www.nytimes.com"
   ]
  },
  {
   "cell_type": "code",
   "execution_count": 4,
   "metadata": {
    "collapsed": false
   },
   "outputs": [
    {
     "name": "stdout",
     "output_type": "stream",
     "text": [
      "{'func': 7, '0000000DC42F': 2, '0000000DC42E': 1, '0000000DC42D': 3, '0000000DC42C': 2, '0000000DC42B': 1, '0000000DC42A': 3, '\\xec\\x9c\\xa0\\xec\\xa7\\x80': 1, '0000000293ED': 2, '\\xea\\xb2\\x8c\\xec\\x9e\\x84\\xec\\xbd\\x94\\xec\\xb9\\x98': 1, '344': 1, '345': 1, '346': 1, '340': 1, 'aut': 3, 'SectionMain': 1, '\\xeb\\xb0\\x94\\xeb\\xa1\\x9c\\xec\\x9d\\xb4\\xeb\\x8f\\x99': 1, '\\xeb\\xac\\xb4\\xea\\xb4\\x80\\xeb\\xb6\\x80': 1, 'fieldset': 6, '\\xea\\xb2\\xb0\\xea\\xb5\\xad': 1, '\\xed\\x99\\x88': 3, '212px': 1, '\\xec\\xa3\\xbc\\xec\\xa0\\x9c\\xed\\x98\\x95\\xec\\xba\\x90\\xec\\x8a\\xa4\\xed\\x8a\\xb8': 1, '\\xeb\\x95\\x8c\\xeb\\x8a\\x94': 4, '\\xec\\x95\\x84\\xec\\x8b\\x9c\\xeb\\x82\\x98\\xec\\x9a\\x94': 2, '\\xeb\\xa7\\x89\\xec\\x98\\xa4\\xeb\\xa5\\xb8': 1, '296': 1, '\\xec\\x9e\\x90\\xec\\xa3\\xbc': 2, '\\xeb\\xb2\\x95\\xec\\xa0\\x81\\xeb\\x8c\\x80\\xec\\x9d\\x91': 1, '293': 3, '3484': 1, '\\xed\\x86\\xb5\\xec\\x8b\\xa0': 1, '220323218769': 1, 'second': 1, '277': 1, '\\xec\\xa0\\x84\\xeb\\xac\\xb8\\xeb\\xb3\\xb4\\xea\\xb8\\xb0': 2, 'LSD': 1, 'hide': 5, '185246913880': 1, 'atcmp': 25, '\\xea\\xb2\\x80\\xed\\x86\\xa0': 1, '006': 4, 'selected': 2, '\\xec\\xa3\\xbc\\xec\\x9a\\x94\\xec\\x96\\xb8\\xeb\\xa1\\xa0\\xec\\x82\\xac': 2, '\\xec\\x84\\xa4\\xec\\xb9\\x98\\xed\\x95\\x98\\xec\\x84\\xb8\\xec\\x9a\\x94': 1, 'new': 9, 'net': 54, 'Z0': 1, 'sethomepage': 1, '\\xec\\xbc\\xa4': 4, 'hmenu': 2, '2622302': 1, '109': 1, 'active': 1, '100': 16, '\\xec\\xb9\\xb4\\xed\\x85\\x8c\\xea\\xb3\\xa0\\xeb\\xa6\\xac': 1, 'placeholder': 2, '\\xed\\x99\\x95\\xec\\x9d\\xb8': 1, '\\xed\\x95\\xb4\\xec\\xa3\\xbc\\xec\\x84\\xb8\\xec\\x9a\\x94': 1, 'k': 12, '\\xeb\\x8d\\xb0\\xec\\x9d\\xbc\\xeb\\xa6\\xac\\xec\\x95\\x88': 1, '10\\xec\\x9b\\x94': 7, '\\xec\\x98\\x88\\xec\\x82\\xb0\\xec\\xa0\\x84\\xec\\x9f\\x81\\xe2\\x80\\xa6': 1, '141121': 1, 'Andro': 2, 'changes': 1, 'ts': 1, '\\xec\\x9d\\xb8\\xeb\\xb2\\xa4\\xec\\x9d\\x98': 1, 'proposalGuide': 1, '055': 4, '\\xed\\x83\\x80\\xec\\x9e\\x84\\xec\\x8a\\xa4\\xed\\x80\\x98\\xec\\x96\\xb4': 2, 'txt': 23, '050': 1, 'unit': 11, '138511': 1, 'er3': 1, '9A': 7, '9C': 12, '9B': 1, '9D': 13, '2622233': 1, 'localStorage': 8, 'm3': 1, 'm2': 1, 'preview': 1, 'type': 61, '\\xeb\\x9e\\xad\\xed\\x82\\xb9\\xeb\\x89\\xb4\\xec\\x8a\\xa4': 1, '\\xeb\\x9d\\xbc\\xec\\x9d\\xb4\\xed\\x94\\x84': 1, '99': 7, 'phone': 2, 'qdt': 2, '\\xec\\x9d\\xb8\\xeb\\xac\\xbc': 1, '91': 3, '90': 8, '93': 2, 'CommonFn': 3, '95': 10, '94': 9, '97': 2, '96': 4, 'me': 2, 'join': 1, 'mm': 1, '\\xed\\x8c\\x8c\\xed\\x8b\\xb0': 2, '\\xea\\xb1\\xb4\\xea\\xb0\\x95': 1, 'mn': 18, 'nidreminder': 1, 'mp': 1, '05110101': 1, 'my': 7, 'NOTICE': 2, '\\xeb\\x8f\\x99\\xec\\x9e\\x91\\xed\\x95\\x98\\xec\\xa7\\x80': 1, '\\xec\\xa0\\x80\\xec\\x9e\\xa5\\xeb\\x90\\x98\\xec\\xa7\\x80': 1, '\\xec\\x8b\\xa0\\xec\\xb2\\xad': 2, '\\xeb\\x82\\x98\\xeb\\x88\\x94\\xea\\xb8\\x80\\xea\\xbc\\xb4\\xeb\\xa1\\x9c': 2, '0007928967': 2, 'type2': 1, 'enc': 2, 'end': 1, 'quot': 96, '\\xeb\\xb0\\xb0\\xec\\x9b\\x80\\xec\\x9d\\x98': 1, 'NEWSSTAND': 1, '\\xec\\x98\\xa4': 1, 'answer': 10, 'config': 2, '\\xeb\\xb0\\x98\\xeb\\x93\\x9c\\xec\\x8b\\x9c': 1, '\\xec\\x98\\x81\\xec\\x9e\\x90\\xec\\xa7\\x80': 1, 'description': 10, 'after': 2, '\\xea\\xb0\\x80\\xeb\\x8a\\xa5\\xed\\x95\\xa9\\xeb\\x8b\\x88\\xeb\\x8b\\xa4': 2, '424px': 1, '\\xec\\x95\\x8a\\xec\\x9d\\x80': 1, '\\xed\\x97\\xa4\\xec\\x96\\xb4\\xec\\xa7\\x88\\xeb\\x95\\x8c': 2, 'hotissue': 3, 'slidingCookieExpDate': 1, 'defaultservice': 10, '\\xeb\\xa7\\x8c\\xeb\\x82\\xa9\\xeb\\x8b\\x88\\xeb\\x8b\\xa4': 1, 'green': 1, '\\xec\\x9d\\xb4\\xeb\\x8f\\x99': 13, '1000': 1, 'happybean': 3, 'office': 2, 'over': 1, '\\xec\\x8b\\xa4\\xec\\x8b\\x9c\\xea\\xb0\\x84': 1, '\\xec\\x9e\\x90\\xec\\x84\\xb8\\xed\\x9e\\x88\\xeb\\xb3\\xb4\\xea\\xb8\\xb0': 1, '9\\xec\\x9c\\x84': 1, 'before': 2, 'ready1': 3, '\\xea\\xb3\\xb5\\xeb\\xaa\\xa8\\xec\\xa0\\x84\\xec\\x97\\x90': 2, 'ready3': 3, 'ready2': 3, 'ime': 1, 'img': 89, '\\xec\\xa0\\x84\\xec\\xa3\\xbc': 1, 'pkid': 3, 'sid1': 17, 'sid2': 12, '404': 1, 'hidden': 24, '\\xec\\xbd\\x95': 1, 'cls': 1, '7047764': 1, 'break': 2, '\\xec\\x98\\xac\\xec\\x8a\\xa4\\xed\\x82\\xa8\\xea\\xb7\\xb9\\xec\\x9e\\xa5': 1, 'rectype': 3, '\\xea\\xb2\\x8c\\xec\\x9e\\x84': 12, 'l': 7, '\\xec\\x98\\xa4\\xeb\\xaf\\x88\\xeb\\xa0\\x9b': 2, '372': 1, '374': 1, '376': 4, '391': 1, '390': 1, '396': 1, 'getXHRObject': 3, 'logo': 4, 'Type': 1, '\\xeb\\xa7\\x8c\\xeb\\x82\\x98\\xeb\\x8a\\x94': 1, '\\xeb\\xb9\\x84\\xeb\\xb0\\x80\\xeb\\xb2\\x88\\xed\\x98\\xb8': 4, 'isLoad': 3, '0000000DC419': 1, 'content': 1, 'keys': 1, 'sliding': 3, 'rk': 11, '\\xec\\x84\\xa4\\xec\\xb9\\x98\\xeb\\xb0\\xa9\\xeb\\xb2\\x95': 1, 'NPay': 2, '0000000DC41C': 1, '0000000DC41A': 1, '241': 1, '243': 1, '08110580': 1, '220507475891': 1, 'ntc': 2, '\\xec\\x87\\xbc\\xed\\x95\\x91': 2, '002': 1, 'setItem': 2, '\\xeb\\xb0\\x9c\\xec\\x83\\x9d\\xed\\x95\\xa9\\xeb\\x8b\\x88\\xeb\\x8b\\xa4': 1, '\\xea\\xb2\\x80\\xec\\x83\\x89\\xec\\x96\\xb4\\xeb\\x8a\\x94': 1, 'naverpay': 1, 'nhn': 63, '\\xec\\x95\\x8a\\xeb\\x8a\\x94': 3, '\\xeb\\xb3\\xb4\\xec\\x84\\xb8\\xec\\x9a\\x94': 2, 'rank': 15, 'comic': 3, '\\xec\\xb5\\x9c\\xea\\xb7\\xbc': 1, 'service': 7, 'top': 57, '\\xec\\xa3\\xbc\\xea\\xb0\\x84': 3, 'isLogin': 1, '\\xec\\xa3\\xbc\\xec\\x9a\\x94\\xec\\x84\\x9c\\xeb\\xb9\\x84\\xec\\x8a\\xa4': 1, 'ton': 1, '\\xeb\\x8b\\xa4\\xec\\x9d\\x8c\\xec\\xba\\x90\\xec\\x8a\\xa4\\xed\\x8a\\xb8': 2, '\\xec\\x9d\\xb4\\xeb\\x8d\\x95\\xea\\xb7\\x9c\\xec\\x9d\\x98': 1, '\\xeb\\xa1\\x9c\\xea\\xb7\\xb8\\xec\\x95\\x84\\xec\\x9b\\x83\\xec\\x9d\\x84': 1, '\\xea\\xb3\\xa0\\xea\\xb0\\x9d\\xeb\\x8b\\x98\\xec\\x9d\\x98': 1, '\\xec\\x9b\\xb9\\xed\\x88\\xb0': 5, '\\xec\\xb5\\x9c\\xeb\\x8c\\x80': 1, 'target': 38, 'keyword': 12, '\\xec\\x9e\\x90\\xeb\\x8f\\x99\\xec\\xb0\\xa8': 1, '\\xea\\xb2\\xa9\\xed\\x88\\xac\\xea\\xb2\\x8c\\xec\\x9e\\x84\\xec\\x9d\\x80': 2, '15879': 2, '\\xeb\\xb0\\xb0\\xeb\\x84\\x88': 1, '16111120': 1, '\\xeb\\xac\\xb4\\xeb\\xa3\\x8c\\xeb\\xa1\\x9c': 2, 'Flicking': 1, '\\xec\\xa1\\xb0\\xed\\x98\\x9c\\xec\\xa0\\x95': 4, 'lbl': 6, 'contents': 21, 'nmenu': 1, 'promotion8': 1, 'RightBanner': 1, '\\xec\\x97\\x86\\xec\\x8a\\xb5\\xeb\\x8b\\x88\\xeb\\x8b\\xa4': 2, 'sug': 1, 'acOff': 2, '\\xed\\x84\\xb1\\xea\\xb1\\xb8\\xec\\x9d\\xb4': 1, '\\xec\\xb5\\x9c\\xea\\xb7\\xbc\\xea\\xb2\\x80\\xec\\x83\\x89\\xec\\x96\\xb4\\xec\\x97\\x90\\xec\\x84\\x9c': 1, 'coin': 4, 'dummy': 10, '\\xec\\x95\\x88\\xed\\x95\\x98\\xea\\xb8\\xb0': 1, 'slidingCookieName': 1, 'dom': 1, '\\xec\\xb1\\x84\\xec\\x9a\\xa9': 14, 'doc': 1, 'm': 19, 'runOnload': 6, 'style7': 1, '\\xec\\x98\\xa4\\xeb\\x8a\\x98': 1, '\\xeb\\xb2\\x88\\xed\\x98\\xb8\\xeb\\x8a\\x94': 1, '\\xec\\xa7\\x91\\xea\\xb2\\xb0': 1, '\\xec\\xb5\\x9c\\xec\\x8b\\xa0': 1, '\\xeb\\xa9\\x94\\xec\\x9d\\xb8\\xec\\x9d\\x84': 2, '\\xec\\x9d\\xbc\\xed\\x9a\\x8c\\xec\\x9a\\xa9': 1, 'keywords': 1, '185426156887': 1, 'run1': 3, 'run3': 3, '\\xed\\x95\\x98\\xed\\x85\\x8d': 1, '\\xec\\x82\\xac\\xec\\x9a\\xa9': 2, 'headline': 1, 'menu': 3, 'occ': 3, '543': 1, 'theme': 11, '\\xec\\x9d\\xb8\\xec\\x82\\xac': 2, '\\xea\\xb2\\x80\\xec\\x83\\x89\\xeb\\x93\\xb1\\xeb\\xa1\\x9d': 1, 'do': 1, 'dl': 15, '0007928717': 1, '\\xea\\xb2\\x80\\xec\\x83\\x89': 5, 'df': 2, 'dd': 56, 'da': 9, 'categoryCode': 1, 'report': 4, 'dt': 14, '\\xec\\x9e\\xac\\xeb\\xb3\\xb4\\xea\\xb6\\x90\\xec\\x84\\xa0\\xea\\xb1\\xb0': 1, 'bar': 10, 'gs': 1, '\\xec\\x8b\\xa0\\xea\\xb7\\x9c': 3, 'V\\xec\\x95\\xb1': 1, '416': 1, '417': 1, '410': 1, 'wtb3': 2, 'wtb2': 22, 'wtb1': 7, 'branding': 2, '\\xec\\x8a\\xa4\\xed\\x8c\\x8c\\xec\\x9d\\xb4\\xeb\\x9f\\xb4\\xec\\xba\\xa3\\xec\\xb8\\xa0': 1, 'num': 17, 'result': 2, 'w9': 1, 'popularDay': 1, 'gdid': 3, '\\xec\\x99\\x84\\xeb\\xa3\\x8c': 1, 'muc': 3, '366': 1, '367': 1, '364': 1, '362': 1, '363': 2, '361': 1, 'wg': 3, 'terms': 1, 'nature': 2, '\\xea\\xb2\\x80\\xec\\x83\\x89\\xed\\x95\\xb4': 1, 'wtb': 36, 'ws': 1, '385': 1, '2\\xec\\x9c\\x84': 1, '387': 1, '388': 1, 'news': 42, '141321': 1, '\\xec\\x84\\xa0\\xea\\xb1\\xb0\\xec\\x9d\\xbc\\xea\\xb9\\x8c\\xec\\xa7\\x80': 1, 'wt170': 2, '\\xeb\\xb0\\xb1\\xea\\xb3\\xbc\\xec\\x82\\xac\\xec\\xa0\\x84': 1, '108': 1, 'maxlength': 2, 'login': 9, 'sort2': 1, 'com': 186, '\\xed\\x95\\xb4': 1, 'HNB': 3, 'height': 41, 'loaded': 1, '255': 3, '\\xeb\\xaf\\xb8\\xeb\\x94\\x94\\xec\\x96\\xb4\\xec\\x98\\xa4\\xeb\\x8a\\x98': 1, 'headlineList': 2, '\\xed\\x95\\x9c': 4, '\\xed\\x99\\x9c\\xec\\x84\\xb1\\xed\\x99\\x94\\xeb\\x90\\x98\\xec\\x97\\x88\\xec\\x8a\\xb5\\xeb\\x8b\\x88\\xeb\\x8b\\xa4': 1, 'JSON': 2, 'C8': 1, 'dep2': 1, 'C0': 1, 'C7': 1, '\\xec\\x88\\x98\\xec\\x9a\\xa9\\xec\\x9e\\x90': 1, 'location': 4, 'life': 2, 'mcb': 3, '\\xec\\x83\\x9d\\xed\\x99\\x9c\\xec\\x9c\\x84\\xec\\xa0\\xaf': 1, 'input': 35, 'catch': 8, 'bindImage': 3, 'NMS': 4, '\\xec\\x8a\\xa4\\xed\\x82\\xa8': 2, '\\xec\\x82\\xad\\xec\\xa0\\x9c\\xed\\x95\\x9c': 1, 'n': 4, 'gnb': 2, 'typeof': 7, 'aid': 11, '908': 1, '076': 1, '904': 1, '\\xec\\xa4\\x91\\xec\\x95\\x99\\xec\\x9d\\xbc\\xeb\\xb3\\xb4': 1, '075': 1, 'loadWS': 5, '073': 1, '\\xec\\x9e\\x90\\xea\\xb8\\x88\\xed\\x9d\\x90\\xeb\\xa6\\x84': 1, 'ip': 4, 'is': 2, 'ir': 16, 'LOL': 2, '079': 1, 'im': 2, 'in': 6, '\\xed\\x96\\x89\\xeb\\xb3\\xb5\\xea\\xb2\\x80\\xec\\x83\\x89': 1, 'ic': 12, 'ie': 20, 'id': 191, 'if': 37, '\\xea\\xb0\\x95\\xeb\\xa6\\x89': 1, '\\xec\\x95\\x84\\xec\\x9d\\xb4\\xec\\xbd\\x98\\xec\\x9d\\x84': 1, 'amount': 2, '\\xea\\xb9\\x8c\\xec\\xa7\\x80': 1, 'urlencoded': 1, 'nid': 7, 'adshow': 7, '\\xec\\x8a\\xa4\\xed\\x8f\\xac\\xec\\xb8\\xa0\\xeb\\x8f\\x99\\xec\\x95\\x84': 1, 'kin': 4, 'Y': 14, '\\xea\\xb8\\x88\\xec\\x9c\\xb5': 1, '144': 1, '\\xec\\x9d\\xb4\\xec\\x8a\\x88': 2, 'myTab': 1, 'endic': 1, 'contact': 1, '\\xea\\xb9\\x80\\xec\\x88\\x98\\xed\\x98\\x84': 4, '\\xeb\\xa7\\x91\\xec\\x9d\\x8c': 14, '\\xec\\x9c\\x84\\xec\\xb9\\x98': 1, '805': 1, 'left': 13, '\\xed\\x8c\\xac\\xed\\x85\\x80\\xed\\x81\\xac\\xeb\\xa1\\x9c\\xec\\x9d\\x98': 1, '\\xec\\x98\\xa8\\xeb\\x9d\\xbc\\xec\\x9d\\xb8': 1, '\\xea\\xb7\\xb8\\xea\\xb2\\x83\\xec\\x9d\\xb4\\xec\\x95\\x8c\\xea\\xb3\\xa0\\xec\\x8b\\xb6\\xeb\\x8b\\xa4': 4, 'flasharea': 1, 'noscript': 2, 'onload': 4, 'han': 1, '\\xea\\xb5\\x90\\xeb\\xac\\xb8\\xec\\x9c\\x84': 1, 'idinquiry': 1, '\\xed\\x8c\\x8c\\xec\\x9d\\xb8\\xeb\\x8d\\x94': 1, '\\xed\\x8c\\xa8\\xeb\\xb0\\x80\\xeb\\xa6\\xac': 1, 'step2': 3, '\\xea\\xb5\\xad\\xeb\\x82\\xb4': 1, 'opt': 41, 'lcs': 1, 'ops': 3, '\\xea\\xb2\\x80\\xec\\x83\\x89\\xec\\x96\\xb4\\xea\\xb0\\x80': 1, '\\xec\\x83\\x81\\xed\\x99\\xa9': 6, 'background': 1, 'replace': 3, 'sweather': 12, '\\xea\\xb0\\x80\\xeb\\xb3\\x8d\\xea\\xb3\\xa0': 1, 'phrasebook': 1, '56': 4, '50': 6, '0000000292C6': 1, '536': 1, 'htmlarea': 3, '0000000292C8': 1, '0000000292C9': 1, 'www': 48, 'right': 3, 'people': 1, '\\xec\\x9d\\xb4\\xec\\xa0\\x84\\xec\\xba\\x90\\xec\\x8a\\xa4\\xed\\x8a\\xb8': 2, '056': 1, 'cnt': 4, '057': 1, 'ico': 4, 'for': 10, 'bottom': 2, 'track': 1, 'realrank': 1, '\\xec\\x8a\\xa4\\xed\\x86\\xa0\\xeb\\xa6\\xac': 4, '421': 1, '533': 1, '422': 1, '10170687466': 1, '\\xec\\xa7\\x80\\xeb\\x8f\\x84': 3, '\\xec\\x86\\x8d': 2, 'plc': 9, 'post': 8, '0px': 1, '\\xeb\\xb0\\x8f': 3, '\\xec\\x82\\xad\\xec\\xa0\\x9c': 4, '\\xeb\\xb3\\xb4\\xec\\x95\\x88\\xeb\\xa1\\x9c\\xea\\xb7\\xb8\\xec\\x9d\\xb8': 1, 'o': 4, 'atcmpStart': 1, '\\xec\\x9e\\x85\\xeb\\xa0\\xa5\\xed\\x95\\x98\\xec\\x8b\\xa0': 1, '\\xec\\x9e\\x88\\xec\\x8a\\xb5\\xeb\\x8b\\x88\\xeb\\x8b\\xa4': 6, 'spamcheck': 1, '\\xeb\\xb8\\x94\\xeb\\xa1\\x9c\\xea\\xb7\\xb8': 2, 'nautocomplete': 1, 'down': 3, 'wrap': 15, '\\xec\\x9c\\x84\\xed\\x95\\xb4\\xec\\x84\\x9c\\xeb\\x8a\\x94': 2, 'support': 9, 'loginframe': 1, 'gif': 19, 'gid': 1, '\\xeb\\x89\\xb4\\xec\\x8a\\xa4': 6, 'happy': 2, 'head': 2, 'form': 9, '\\xec\\x9b\\x94': 1, '\\xeb\\xa0\\x88\\xec\\x9d\\xb4\\xec\\x96\\xb4': 8, '\\xec\\x9b\\x90': 1, '\\xec\\xa0\\x80\\xec\\x9e\\xa5': 2, '0000000DC45E': 1, '\\xec\\x95\\x88\\xeb\\x82\\xb4': 3, '\\xec\\x84\\xa4\\xec\\xb9\\x98\\xed\\x95\\x98\\xec\\x8b\\x9c\\xea\\xb2\\xa0\\xec\\x8a\\xb5\\xeb\\x8b\\x88\\xea\\xb9\\x8c': 2, '0000000DC45B': 1, '\\xec\\x8a\\xa4\\xed\\x8f\\xac\\xec\\xb8\\xa0': 5, 'true': 13, '220054620355': 1, '\\xec\\x87\\xbc\\xed\\x95\\x91\\xec\\xba\\x90\\xec\\x8a\\xa4\\xed\\x8a\\xb8': 3, 'Lock': 2, 'myBtn': 2, '150': 1, '0007928051': 1, 'item': 13, '159': 1, '\\xec\\xa7\\x80\\xea\\xb8\\x80\\xec\\x95\\x84\\xec\\x9d\\xb4': 1, 'onmousedown': 1, 'btnsm': 1, '\\xeb\\xb0\\xa9\\xeb\\xac\\xb8\\xea\\xb8\\xb0': 2, '\\xed\\x85\\x8c\\xed\\x81\\xac': 1, 'no': 5, 'tit': 53, 'stake': 1, '\\xec\\xa0\\x80\\xec\\x9e\\xa5\\xed\\x95\\xa0': 1, '14px': 1, 'test': 1, '\\xec\\xa0\\x80\\xec\\x9e\\xa5\\xed\\x95\\xb4': 1, 'ns': 4, 'nv': 1, '089': 1, '088': 2, '\\xeb\\xa7\\xa4\\xec\\xb2\\xb4\\xeb\\xb3\\xb4\\xea\\xb8\\xb0': 2, '\\xeb\\xb3\\xb5\\xea\\xb7\\x80': 1, '083': 1, '082': 1, '081': 1, '087': 1, 'squ': 41, '\\xeb\\xb9\\x88': 1, 'rolling': 2, 'Array': 2, 'frameborder': 6, '09140104': 1, 'townWetr': 12, '98': 15, '\\xeb\\xa8\\xbc\\xec\\xa0\\x80': 2, '1024837': 1, '\\xed\\x9c\\xa9\\xec\\x93\\xb4': 2, 'naver': 273, 'appendJSDom': 5, 'delAll': 2, '\\xed\\x95\\x9c\\xea\\xb8\\x80\\xec\\xba\\xa0\\xed\\x8e\\x98\\xec\\x9d\\xb8': 1, '171px': 1, 'skip': 1, '\\xec\\x95\\x8c\\xec\\x95\\x84\\xeb\\xb3\\xb4\\xea\\xb8\\xb0': 2, 'global': 2, 'focus': 5, '\\xec\\x9c\\x84\\xed\\x95\\x98\\xec\\x97\\xac': 1, '\\xeb\\x9d\\xbc\\xec\\x9d\\xb4\\xeb\\xb8\\x8c': 2, '41px': 1, '\\xec\\xb0\\xb8\\xec\\x97\\xac\\xed\\x95\\x98\\xec\\x84\\xb8\\xec\\x9a\\x94': 2, 'flash': 3, '0': 90, 'finally': 1, 'ncast': 1, '0000000DD1B0': 1, '\\xec\\x9d\\xbc\\xec\\xa0\\x95': 1, '\\xeb\\xa5\\xbc': 1, 'word': 2, 'dim': 1, 'level': 2, '\\xec\\xa0\\x9c\\xea\\xb3\\xb5\\xeb\\x90\\x98\\xec\\xa7\\x80': 1, 'dic': 4, 'p': 59, '15853': 1, '\\xec\\xb5\\x9c\\xea\\xb3\\xa0': 1, 'div': 294, 'dis': 1, '\\xea\\xb8\\xb0\\xec\\x82\\xac\\xeb\\xb3\\xb4\\xea\\xb8\\xb0': 2, '\\xec\\x95\\xb1': 5, 'fontfaq': 1, '\\xec\\x84\\xa4\\xec\\xb9\\x98\\xeb\\x90\\x9c': 1, '\\xeb\\xb6\\x80\\xec\\x82\\xb0': 1, '0000000DD4B6': 1, '0000000DD4B7': 1, '0000000DD4B5': 1, 'hty': 1, 'categoryNo': 9, '002AN': 3, '002AP': 3, '002AT': 1, '1019': 1, 'template': 20, '1014': 4, '1015': 1, '1016': 8, '\\xeb\\xb6\\x80\\xeb\\x8f\\x99\\xec\\x82\\xb0': 3, '\\xed\\x95\\x9c\\xea\\xb2\\x8c\\xec\\x9e\\x84': 1, '\\xea\\xb5\\xac\\xeb\\xa6\\x84\\xeb\\xa7\\x8e\\xec\\x9d\\x8c': 10, 'entertain': 1, 'baseball': 1, 'address': 2, 'box': 43, '\\xec\\xa3\\xbc\\xec\\x9a\\x94': 1, 'rankTitle': 1, 'bok': 3, '\\xec\\x9d\\xb4\\xec\\x9a\\xa9\\xec\\x9d\\x84': 1, 'cpress': 1, '\\xea\\xb2\\xbd\\xec\\x9a\\xb0\\xec\\x97\\x90': 1, '\\xed\\x86\\xb5\\xed\\x95\\xa9\\xea\\xb2\\x80\\xec\\x83\\x89': 1, 'ntop2': 4, 'ntop3': 4, 'fbm': 3, '\\xeb\\x8b\\xa4\\xec\\x9d\\x8c\\xed\\x8e\\x98\\xec\\x9d\\xb4\\xec\\xa7\\x80': 4, '7803E801': 21, '04940320': 1, 'sports': 12, '\\xeb\\x8f\\x85\\xeb\\x8f\\x84': 1, 'https': 19, 'msg': 9, '\\xec\\x97\\xb0\\xec\\x98\\x88': 2, 'prev': 3, '\\xec\\x95\\x84\\xec\\x9d\\xb4\\xeb\\x89\\xb4\\xec\\x8a\\xa424': 1, '1\\xeb\\x93\\xb1': 2, '0000000288EB': 1, 'svctype': 3, 'myNewsStand': 2, '\\xec\\x95\\x84\\xec\\x9d\\xb4\\xec\\x97\\xa0\\xeb\\x82\\xab': 2, 'isSupportedFlicking': 2, '\\xec\\x8b\\xa0\\xec\\x9a\\xa9\\xeb\\xb3\\xb4\\xec\\xa6\\x9d\\xea\\xb8\\xb0\\xea\\xb8\\x88': 4, '0000000DC463': 1, '0000000DC462': 1, '0000000DC461': 1, 'domesticYn': 1, 'SBS': 1, '\\xe2\\x84\\x83': 38, '8\\xec\\x9c\\x84': 1, '\\xec\\x95\\x94\\xed\\x98\\xb8\\xec\\x9e\\xa5\\xeb\\xb9\\x84': 1, 'iframe': 18, 'Image': 1, 'createJSDom': 5, 'substring': 1, 'strHost': 1, '7\\xec\\x9c\\x84': 1, 'spo': 3, '\\xea\\xb1\\xb4\\xea\\xb0\\x95\\xea\\xb2\\x80\\xec\\xa7\\x84': 1, '\\xec\\xb6\\x94\\xea\\xb0\\x80': 2, 'ToolBar': 1, '\\xea\\xb8\\x80\\xea\\xbc\\xb4\\xec\\x84\\xa4\\xec\\xa0\\x95': 4, 'charset': 2, '1': 40, 'absolute': 5, '\\xec\\xbb\\xa8\\xed\\x85\\x90\\xec\\xb8\\xa0': 2, 'economy': 1, 'map': 8, 'encpw': 2, '143': 1, '140': 13, '141': 1, '149': 1, '\\xec\\x9d\\xb4\\xea\\xb3\\xb3\\xec\\x97\\x90\\xec\\x84\\x9c': 1, 'articleId': 1, 'ranklist': 2, 'date': 4, '\\xeb\\x8b\\xa8\\xec\\xb2\\xb4\\xed\\x9a\\x8c\\xec\\x9b\\x90': 1, 'data': 102, 'TV\\xed\\x8e\\xb8\\xec\\x84\\xb1': 1, 'ss': 3, '\\xeb\\x84\\xa4\\xec\\x9d\\xb4\\xeb\\xb2\\x84\\xeb\\xa5\\xbc': 1, 'st': 1, 'q': 3, 'sm': 39, 'sl': 1, '\\xec\\xbc\\x9c\\xea\\xb8\\xb0': 5, '\\xea\\xb5\\xac\\xeb\\xa6\\x84\\xec\\xa1\\xb0\\xea\\xb8\\x88': 44, 'se': 1, 'volumeNo': 6, '940px': 1, '\\xec\\x9d\\xbc\\xea\\xb4\\x84': 1, '092': 1, 'lst': 9, 'nbsp': 1, 'usemap': 2, '\\xec\\xb9\\xbc\\xeb\\xa1\\x9c\\xeb\\xa6\\xac': 2, '\\xeb\\xb3\\xb4\\xeb\\x82\\xb4\\xea\\xb8\\xb0': 1, '\\xeb\\xb3\\xb4\\xea\\xb3\\xa0': 2, 'group': 4, 'fontcampaign': 1, '\\xed\\x96\\x89\\xec\\x82\\xac': 1, '\\xea\\xb3\\xb5\\xec\\x8b\\xa0': 2, 'hot': 3, 'window': 11, '938': 1, 'policy': 2, 'mail': 3, '931': 1, 'main': 25, '937': 1, '936': 1, '935': 1, '6247': 1, '\\xea\\xb2\\xbd\\xed\\x98\\xb8': 1, '\\xeb\\x91\\x90\\xec\\x82\\xb0': 1, 'finance': 3, '\\xec\\x95\\x84\\xec\\x9d\\xb4\\xeb\\x94\\x94\\xec\\x96\\xb4': 2, 'nsd': 4, 'gs\\xeb\\xa6\\xac\\xed\\x85\\x8c\\xec\\x9d\\xbc': 4, 'nation': 2, '190248881771': 1, '10000000000030430963': 1, 'not': 1, '\\xec\\xa7\\x80\\xec\\x8b\\x9diN': 2, 'name': 53, 'em': 94, 'square': 4, '\\xea\\xb3\\xb5\\xec\\x9d\\xb5': 1, '\\xec\\x82\\xad\\xec\\xa0\\x9c\\xed\\x95\\xa9\\xeb\\x8b\\x88\\xeb\\x8b\\xa4': 2, '\\xec\\xa7\\x80\\xec\\xa7\\x80\\xed\\x86\\xb5\\xec\\x8b\\xa0': 1, '\\xec\\xa0\\x84\\xec\\x86\\xa1\\xec\\x9d\\x80': 1, '\\xeb\\xb2\\x84\\xed\\x8a\\xbc\\xec\\x9d\\x84': 4, 'NAVER': 2, 'shopAdBox': 1, 'container': 3, '\\xec\\x83\\x9d\\xea\\xb0\\x81\\xed\\x95\\x9c\\xeb\\x8c\\x80\\xeb\\xa1\\x9c': 1, '\\xec\\x8b\\x9c\\xec\\x97\\x90': 1, 'resultBox': 4, '\\xeb\\x82\\xb4PC': 1, '\\xea\\xb3\\xa0\\xec\\x9d\\x98\\xec\\xa0\\x88\\xec\\xb7\\xa8': 1, '220475525429': 1, 'newsStandUrl': 1, '\\xec\\xb7\\xa8\\xec\\x86\\x8c': 2, '10280761401': 1, '50px': 1, 'frmNIDLogin': 2, '\\xec\\x86\\x8d\\xec\\xb4\\x88': 1, '\\xec\\x8a\\xa4\\xed\\x8c\\x80': 2, '920': 1, '\\xeb\\xac\\xb4\\xeb\\xa3\\x8c\\xec\\x9e\\x85\\xeb\\x8b\\x88\\xeb\\x8b\\xa4': 1, '0000000293E4': 2, '2631799': 1, 'logintp': 1, '\\xec\\x88\\x98': 1, 'first': 1, 'blind': 30, '622': 1, '\\xec\\x88\\x98\\xec\\x98\\x81\\xec\\x9e\\xa5': 2, 'accesskey': 5, 'submit': 4, 'vote': 1, 'message': 1, 'open': 5, 'size': 2, '349px': 1, 'width': 40, 'fms': 2, '2': 17, 'userinfo': 1, '\\xed\\x9a\\x8c\\xec\\x82\\xac\\xec\\x86\\x8c\\xea\\xb0\\x9c': 1, 'isIPAD': 1, 'delDone': 1, '\\xec\\x8f\\x9f\\xec\\x95\\x84\\xec\\xa7\\x80\\xeb\\x82\\x98': 1, '\\xeb\\xb3\\xb4\\xed\\x98\\xb8\\xeb\\xa5\\xbc': 1, '\\xed\\x8c\\x8c\\xed\\x96\\x89': 1, 'tsNormal': 1, '\\xea\\xb5\\xad\\xec\\xa0\\x95\\xed\\x99\\x94': 1, 'copy': 29, '\\xeb\\x82\\xa0\\xec\\x94\\xa8': 3, 'png': 5, '11': 13, '10': 12, '13': 3, '12': 6, '15': 2, '14': 3, '17': 2, '16': 4, '19': 4, '18': 5, '102512146783': 1, 'PC\\xec\\x97\\x90\\xec\\x84\\x9c\\xeb\\x8a\\x94': 1, 'removeUrl': 2, 'pre': 5, 'DL': 7, 'XMLHttpRequest': 1, '\\xed\\x95\\x99\\xea\\xb5\\x90': 1, '\\xec\\xa0\\x84\\xec\\xb2\\xb4': 2, '\\xec\\x97\\x85\\xeb\\x8d\\xb0\\xec\\x9d\\xb4\\xed\\x8a\\xb8': 2, '\\xec\\x98\\xa4\\xeb\\xa5\\x98': 1, 'btn': 14, '\\xea\\xb0\\x81': 1, '\\xea\\xb0\\x80': 1, '\\xe2\\x80\\xa6\\xec\\x99\\xb8\\xea\\xb5\\xad\\xec\\x9d\\xb8': 1, '\\xeb\\x82\\xb4\\xec\\x9d\\xbc\\xec\\x98\\xa4\\xed\\x9b\\x84': 12, '\\xea\\xb0\\x9c': 1, 'noti': 3, '\\xeb\\xac\\xbc\\xeb\\x9f\\x89': 1, '200': 2, '209': 1, 'nctg': 2, 'beta': 1, '0000000DC45F': 1, '0000000DC45D': 1, '1\\xec\\x9c\\x84': 1, 'sform': 2, '0000000DC45C': 1, '000000': 1, 'drive': 1, 'mrf': 1, 'mra': 3, 'shop': 7, '0130': 3, '\\xec\\x96\\xbc\\xec\\x96\\xb4\\xeb\\xb6\\x99\\xec\\xa7\\x80': 2, 'show': 1, '\\xea\\xb2\\xb0\\xeb\\xa1\\xa0': 1, '100156766120': 1, '10003981121': 1, '\\xea\\xb3\\xb5\\xeb\\xaa\\xa8\\xec\\xa0\\x84': 2, 'ANDROID1000': 1, '\\xec\\xa7\\x80\\xec\\x97\\xad': 2, '\\xec\\x95\\x8a\\xec\\x8a\\xb5\\xeb\\x8b\\x88\\xeb\\x8b\\xa4': 2, 'onloadDone': 4, '\\xed\\x98\\x84\\xec\\x9e\\xa5': 1, '\\xea\\xb8\\x80\\xeb\\xa1\\x9c\\xeb\\xb2\\x8c': 1, 'title': 119, '\\xec\\x97\\x90': 1, '\\xed\\x98\\x84\\xec\\x9e\\xac': 16, '20\\xec\\x9d\\xbc': 1, '2528': 1, '\\xeb\\x8b\\xa4\\xec\\x8b\\x9c': 5, 'ranking': 1, '\\xed\\x94\\x84\\xeb\\xa0\\x88\\xec\\x9e\\x84': 1, '\\xec\\x9e\\x90\\xeb\\x8f\\x99\\xec\\x99\\x84\\xec\\x84\\xb1': 12, 'keywordOff': 2, '\\xec\\xa7\\x91\\xeb\\xac\\xb4\\xec\\x8b\\xa4': 1, 'adinfo': 1, '\\xec\\x84\\xa4\\xec\\xa0\\x84\\xe2\\x80\\xa6\\xec\\xa0\\x95\\xed\\x9a\\x8c': 1, 'hangeul': 1, 'PO': 1, '928': 1, '0000000DCA93': 1, '921': 1, '\\xec\\xb6\\x98\\xec\\xb2\\x9c': 1, '923': 1, 'where': 32, '925': 1, '926': 1, '927': 1, 'relative': 3, '\\xea\\xb4\\x91\\xea\\xb3\\xa0': 6, 'lnk': 1, 'calendar': 1, 'lnb': 1, '0000415341': 1, 'setRequestHeader': 2, 'label': 14, '3': 8, '922': 1, 'XHRObject': 1, 'notice': 5, 'ju': 1, '26': 2, 'jr': 1, 'js': 9, '\\xea\\xb3\\xb5\\xec\\x9a\\xa9': 1, 'article': 5, '\\xec\\xa3\\xbc\\xec\\x84\\xb8\\xec\\x9a\\x94': 1, '\\xeb\\x8b\\xa4\\xec\\x9d\\x8c': 4, 'region': 1, '23': 5, 's': 26, 'jindoAll': 1, '000000029522': 1, '000000029523': 1, '000000029521': 1, '000000029524': 1, 'appendChild': 1, 'color': 2, '0007929016': 1, '\\xea\\xb2\\x80\\xec\\x83\\x89\\xec\\x96\\xb4': 16, 'period': 2, 'newsLazy': 1, '3000': 1, '66': 1, 'cancel': 4, '\\xec\\xb2\\xad\\xec\\x86\\x8c\\xeb\\x85\\x84\\xeb\\xb3\\xb4\\xed\\x98\\xb8\\xec\\xa0\\x95\\xec\\xb1\\x85': 1, 'Noti': 1, 'RECENT': 1, 'dlerr': 4, '\\xec\\xa7\\x80\\xec\\x97\\xad\\xec\\xa0\\x90\\xeb\\xa0\\xb9\\xec\\xa0\\x84': 2, 'Beta': 1, 'arti': 1, '507': 1, '500': 1, '501': 1, '00000002945F': 1, '\\xea\\xb8\\x89\\xec\\x83\\x81\\xec\\x8a\\xb9': 1, 'themecast': 7, 'shopping': 5, '635': 1, 'myNone': 1, '\\xeb\\x82\\xb4\\xec\\x9d\\xbc\\xec\\x98\\xa4\\xec\\xa0\\x84': 12, 'qst': 6, '\\xec\\x8b\\xa0\\xea\\xb3\\xa0': 4, '095502925196': 1, 'className': 3, 'cast': 15, 'eid': 3, '\\xec\\x9d\\xb4\\xec\\x9c\\xa0\\xeb\\x8a\\x94': 1, 'newspaper': 1, 'margin': 6, 'hanja': 1, 'Content': 1, '\\xea\\xb2\\x8c\\xec\\x9e\\x84\\xec\\x9d\\xb4\\xec\\x8a\\x88': 1, 'return': 58, '48px': 1, 'pay': 3, '\\xec\\xa0\\x9c\\xed\\x9c\\xb4\\xec\\xa0\\x9c\\xec\\x95\\x88': 1, 'html': 11, '\\xeb\\x82\\xb4\\xec\\x97\\xad\\xec\\x9d\\xb4': 1, 'jrnaver': 1, 'document': 17, 'status': 5, 'myBtnGroup': 1, '\\xeb\\x8c\\x80\\xec\\xa0\\x84': 1, 'LogError': 9, 'utf8': 19, 'oid': 12, 'nidlogin': 2, 'IT': 1, '\\xec\\xa0\\x84\\xeb\\xac\\xb8\\xec\\x9e\\x90\\xeb\\xa3\\x8c': 1, 'clse': 1, '\\xec\\xa0\\x84\\xeb\\x9e\\xb5\\xec\\x9c\\xbc\\xeb\\xa1\\x9c': 2, '\\xec\\x98\\x81\\xed\\x99\\x94': 6, 'undefined': 7, '\\xec\\x88\\x98\\xed\\x96\\x89\\xed\\x95\\x98\\xeb\\xa9\\xb4': 1, 'stripOutCommentBlock': 2, '06110101': 1, 'capslock2': 1, '214': 1, '215': 4, 'naverRgnCd': 12, '213': 1, '210': 1, '\\xed\\x95\\x9c\\xea\\xb5\\xad\\xea\\xb2\\xbd\\xec\\xa0\\x9cTV': 1, '218': 3, '\\xeb\\xb8\\x94\\xeb\\xa1\\x9c\\xed\\x84\\xb0': 1, '\\xec\\xa0\\x84\\xec\\xb2\\xb4\\xeb\\xb3\\xb4\\xea\\xb8\\xb0': 1, '\\xea\\xb8\\xb0\\xeb\\xac\\xb4\\xec\\x82\\xac': 1, 'uid': 2, 'application': 1, '000000029525': 1, 'blog': 6, 'pcode': 12, '4': 3, '\\xeb\\xb0\\x94\\xeb\\xa1\\x9c\\xea\\xb0\\x80\\xea\\xb8\\xb0': 5, '\\xed\\x96\\x89\\xeb\\xb3\\xb5\\xec\\x8b\\x9c\\xea\\xb0\\x84\\xed\\x91\\x9c': 2, '0000000293DF': 1, '0000000293DE': 1, '0000000293DC': 1, 'read': 3, '139': 1, 'A6': 3, 'mov': 3, '575': 1, 'amp': 97, '\\xeb\\x9d\\xbc\\xec\\x9d\\xb8': 1, 'IP\\xeb\\xb3\\xb4\\xec\\x95\\x88': 2, 'mod': 2, '\\xeb\\xb3\\x80\\xea\\xb2\\xbd\\xec\\x97\\x90': 1, 'coords': 4, 't': 16, '\\xec\\x88\\xa8\\xea\\xb2\\xa8\\xec\\xa3\\xbc\\xeb\\x8a\\x94': 1, '\\xec\\xa0\\x9c\\xec\\xa3\\xbc': 1, '\\xec\\x9c\\xbc\\xec\\x8b\\x9c\\xea\\xb8\\xb0\\xec\\x9d\\x98': 1, 'DLScript': 32, '5\\xec\\x9c\\x84': 1, '68': 1, 'tvc': 3, 'AD': 1, '\\xeb\\xb2\\xb5\\xea\\xb8\\xb0': 2, '141032': 1, '141035': 1, '141034': 1, '\\xeb\\x81\\x84\\xea\\xb8\\xb0': 7, '13304': 1, 'lotto': 18, '12090': 1, '\\xec\\x9e\\x84\\xec\\x9d\\x98\\xeb\\xa1\\x9c': 1, '915': 1, '914': 1, '917': 1, '\\xec\\x9e\\x90\\xec\\x9d\\xb4\\xec\\x96\\xb8\\xed\\x8b\\xb0': 1, '911': 1, '910': 1, '913': 1, '912': 1, 'castbox': 1, 'mainnews': 1, 'memberNo': 6, 'spcats': 1, 'image7': 1, '11710666': 1, 'on': 6, 'lastrank': 1, 'ol': 2, 'hideFlickingNoti': 2, '\\xeb\\xa7\\xa4\\xea\\xb1\\xb0\\xec\\xa7\\x84': 1, '848': 1, 'acr': 3, 'acq': 2, '\\xeb\\x84\\xa4\\xec\\x9d\\xb4\\xeb\\xb2\\x84\\xec\\xba\\x90\\xec\\x8a\\xa4\\xed\\x8a\\xb8': 1, 'ServiceMenu': 1, 'os': 3, 'responseText': 1, '932': 1, '\\xeb\\xb0\\x9b\\xea\\xb3\\xa0': 1, 'image': 1, 'loginv4': 2, 'loginv3': 1, '78002101': 3, 'log': 2, 'area': 7, 'NC': 1, '\\xec\\xbc\\x9c\\xec\\xa0\\xb8': 2, 'Cookie': 2, '\\xeb\\x84\\xa4\\xec\\x9d\\xb4\\xeb\\xb2\\x84': 21, 'NS': 12, 'complete': 1, '0007929005': 1, '\\xec\\x98\\x81\\xec\\x98\\x81\\xec\\x82\\xac\\xec\\xa0\\x84': 1, 'slidingOneTimeLink': 1, 'IPAD': 1, 'readyState': 2, 'unuse': 3, 'default': 1, '\\xec\\x82\\xac\\xec\\x9d\\xb4\\xed\\x8a\\xb8': 3, '\\xeb\\x85\\xb8\\xeb\\x8f\\x99\\xec\\x9e\\x90\\xec\\x9d\\x98': 2, '000000029441': 1, '606': 8, '1208': 1, 'newssa': 12, '\\xea\\xb2\\xbd\\xed\\x96\\xa5\\xec\\x8b\\xa0\\xeb\\xac\\xb8': 1, '00000002945E': 1, 'happypeople': 1, 'hisoff': 4, 'onmouseout': 1, 'cast2': 6, 'cast3': 1, '1115': 1, '11982345': 1, '\\xeb\\x84\\xa4\\xec\\x9d\\xb4\\xeb\\xb2\\x84\\xea\\xb2\\x8c\\xec\\x9e\\x84': 1, '\\xed\\x9c\\xb4\\xeb\\x8c\\x80\\xed\\x8f\\xb0\\xeb\\xb2\\x88\\xed\\x98\\xb8': 1, 'categoryList': 1, '\\xeb\\xb3\\xb4\\xea\\xb8\\xb0\\xec\\x9c\\x84\\xed\\x95\\xb4\\xec\\x84\\x9c\\xeb\\x8a\\x94': 1, '\\xea\\xba\\xbc\\xec\\xa0\\xb8': 3, 'sendError': 3, 'time': 9, 'Element': 3, '127px': 1, '\\xec\\x82\\xb6': 2, 'mask': 18, 'cpg': 5, 'u': 3, 'wtb21': 5, '\\xec\\x9d\\xb4\\xec\\xa0\\x84': 4, 'all': 2, 'sch': 5, '\\xec\\x98\\xa4\\xeb\\xa5\\xb8\\xed\\x8c\\x94': 1, 'code': 14, '\\xed\\x9a\\x8c\\xed\\x99\\x94': 1, 'txtsm': 1, 'alt': 45, 'useWideLoginboxFlash': 1, 'Themecast': 3, 'tx': 12, 're': 2, 'tv': 1, 'tw': 84, '\\xed\\x81\\xb4\\xeb\\xa6\\xad\\xed\\x95\\x98\\xec\\x84\\xb8\\xec\\x9a\\x94': 4, 'to': 12, 'init': 14, 'eedic': 1, '\\xec\\xa0\\x9c\\xeb\\x8c\\x80\\xeb\\xa1\\x9c': 1, 'homepage': 2, 'tc': 11, 'nanum': 12, '\\xec\\x8b\\x9c\\xec\\x8a\\xa4\\xed\\x85\\x9c\\xea\\xb8\\x80\\xea\\xbc\\xb4': 1, 'faq': 3, 'diary': 1, '13113135': 1, 'nexearch': 31, 'E7': 1, '\\xec\\x82\\xac\\xec\\x9d\\xb4\\xed\\x8a\\xb8\\xeb\\xa1\\x9c': 1, 'weeklyFcast': 2, 'issue': 6, 'list': 30, '\\xeb\\x82\\x98\\xeb\\x88\\x94': 1, 'dsc': 7, 'thmb': 3, '0000000293E6': 2, '\\xec\\xa3\\xbc\\xed\\x83\\x9d': 1, 'flick': 6, '\\xeb\\x8b\\xa4\\xeb\\xa5\\xb8': 1, '016': 1, 'webkr': 1, '018': 1, '\\xea\\xb5\\xad\\xec\\x96\\xb4\\xec\\x82\\xac\\xec\\xa0\\x84': 1, 'sub': 2, 'section': 1, 'Caps': 2, 'TimeSquare': 2, 'ED': 29, '\\xec\\x98\\xa4\\xeb\\xb8\\x8c\\xec\\xa0\\x9d\\xed\\x8a\\xb8\\xec\\x9d\\x98': 1, 'method': 2, '\\xed\\x95\\xa0\\xeb\\xa6\\xac\\xed\\x80\\xb8\\xec\\x9d\\x84': 2, '\\xeb\\x8b\\xab\\xea\\xb8\\xb0': 11, '2030\\xec\\x84\\xa0': 1, '\\xed\\x8f\\xb0\\xed\\x8a\\xb8\\xeb\\xa5\\xbc': 1, '2015032401': 1, 'EC': 63, 'Msxml2': 3, 'strong': 112, 'legend': 6, '902': 1, '903': 1, 'search': 75, '901': 1, '906': 1, '907': 1, 'codeElement': 2, '905': 1, '339900': 1, '909': 1, 'getElementById': 12, '78011B01': 1, '\\xec\\x95\\x8a\\xea\\xb3\\xa0': 1, 'rankup': 1, 'action': 4, '0000000DC41F': 1, '29\\xec\\x9d\\xbc': 2, '0000000DC41D': 1, '0000000DC41E': 1, 'vis': 1, 'capslock': 1, 'href': 261, 'rollover': 3, '\\xec\\x97\\xad\\xeb\\x8c\\x80': 1, 'select': 4, '855': 1, 'localStorge': 2, 'special2': 1, '\\xec\\x95\\xb1\\xec\\x9d\\x84': 1, 'special1': 1, 'NewsCast': 1, 'Corp': 1, '6': 10, 'helpcenter': 1, '\\xeb\\xa1\\x9c\\xec\\xa7\\x81': 1, 'more': 1, '\\xec\\x8b\\xa0\\xeb\\x8f\\x99\\xec\\xa3\\xbc\\xec\\x99\\x80': 1, 'company': 1, '\\xea\\xb0\\x9c\\xec\\x9d\\xb8\\xec\\xa0\\x95\\xeb\\xb3\\xb4': 1, '\\xeb\\x8c\\x80\\xea\\xb5\\xac': 1, '\\xea\\xb2\\x80\\xec\\x83\\x89\\xec\\x96\\xb4\\xeb\\xa5\\xbc': 3, '\\xec\\x9b\\x8c\\xed\\x81\\xac\\xeb\\x9e\\x98\\xed\\x94\\x84\\xed\\x8a\\xb8': 2, '\\xec\\x8a\\xa4\\xed\\x83\\x80\\xed\\x81\\xac\\xeb\\x9e\\x98\\xed\\x94\\x84\\xed\\x8a\\xb81': 2, '11720330': 1, 'serviceNo': 9, 'none': 52, 'des': 2, 'det': 2, 'autocomplete': 2, 'del': 2, '101': 1, 'v': 4, '\\xeb\\xb6\\x81\\xec\\x8a\\xa4': 1, 'deg': 38, 'quickNews': 3, 'atcmpOff': 1, 'navertop': 1, '\\xea\\xb5\\x90\\xed\\x86\\xb5': 2, '567535': 1, '\\xec\\xb9\\xb4\\xed\\x8e\\x98': 2, '\\xec\\x95\\x84\\xec\\x9d\\xb4\\xeb\\x94\\x94': 4, '0007929109': 1, 'ft': 1, '\\xea\\xb5\\x90\\xea\\xb3\\xbc\\xec\\x84\\x9c\\xec\\xb6\\xa9\\xeb\\x8f\\x8c': 1, 'marginheight': 4, 'fl': 7, 'response': 6, 'a': 568, 'footer': 3, 'mktg': 1, 'marginwidth': 4, 'nmms': 1, 'sectionList': 3, 'checkbox': 2, 'help': 30, 'disabled': 18, 'timesquareLazy': 1, '24': 6, '25': 2, 'style': 66, '20': 10, '21': 1, '\\xeb\\xb0\\xa9\\xec\\x86\\xa1': 1, 'offMsg': 2, 'Binder': 3, '\\xeb\\x8d\\x94': 2, 'autoFrame': 1, 'ym': 12, '567397': 1, 'TV\\xec\\xa4\\x91\\xea\\xb3\\x84': 1, 'ya': 12, '01110675': 1, 'L': 2, '2F': 2, 'viewtype': 1, '6\\xec\\x9c\\x84': 1, '\\xea\\xb2\\xbd\\xec\\x9a\\xb0': 2, '0007928478': 1, '23252609181': 1, '\\xeb\\xb9\\xa0\\xeb\\xa5\\xb8': 1, 'BaseURL': 1, 'triangleImg': 1, 'funoff': 4, 'todo': 1, 'event': 110, '\\xea\\xb2\\xbd\\xec\\xa0\\x9c': 2, 'HomePageSet': 4, '\\xec\\x82\\xac\\xed\\x9d\\x98\\xec\\xa7\\xb8': 1, 'JEagleEyeClient': 4, 'health': 1, '\\xed\\x9a\\x8c\\xec\\x9b\\x90\\xea\\xb0\\x80\\xec\\x9e\\x85': 1, '7': 9, 'get': 2, '\\xea\\xb9\\x80\\xea\\xb7\\x9c\\xed\\x98\\x84': 2, 'groupbtm': 4, 'enctp': 2, 'EA': 20, 'pub': 3, 'EB': 41, '\\xec\\xa7\\x80\\xec\\x9b\\x8c\\xec\\xa3\\xbc\\xec\\x84\\xb8\\xec\\x9a\\x94': 1, 'cookie': 1, 'setTimeout': 9, 'pr528': 1, 'rect': 4, '\\xec\\xb0\\xa8\\xeb\\xaa\\x85\\xea\\xb3\\x84\\xec\\xa2\\x8c\\xeb\\x93\\xb1': 1, '\\xeb\\xac\\xb8\\xeb\\x8f\\x84': 2, '\\xec\\x9c\\xa0\\xed\\x98\\x95': 1, '\\xec\\xa0\\x84\\xeb\\xac\\xb8\\xec\\xa7\\x80': 1, '\\xea\\xb5\\xad\\xed\\x86\\xa0': 2, '\\xeb\\x82\\x98\\xeb\\x9d\\xbc\\xeb\\xb3\\x84': 2, 'combatbegins': 1, 'tabindex': 5, 'number': 1, 'done': 3, 'blank': 38, '\\xeb\\x84\\xa4\\xec\\x9d\\xb4\\xeb\\xb2\\x84\\xeb\\x89\\xb4\\xec\\x8a\\xa4': 1, 'script': 18, 'TV\\xec\\xba\\x90\\xec\\x8a\\xa4\\xed\\x8a\\xb8': 1, 'style12': 1, 'userInfoUrl': 1, '\\xeb\\x8c\\x80\\xec\\x9e\\x91\\xea\\xb2\\x8c\\xec\\x9e\\x84': 2, 'ncy': 5, 'option': 88, '\\xed\\x88\\xac\\xeb\\x8d\\xb0\\xec\\x9d\\xb4': 1, 'V\\xec\\x97\\x90\\xec\\x84\\x9c': 1, 'ncc': 3, '\\xeb\\x8f\\x84\\xec\\x9b\\x80\\xeb\\xa7\\x90': 9, 'b': 34, '\\xed\\x95\\x98\\xeb\\xa3\\xa8': 2, 'youth': 1, '\\xeb\\xaf\\xb8\\xeb\\xa6\\xac\\xeb\\xb3\\xb4\\xea\\xb8\\xb0': 1, 'str': 2, '2028': 4, '880': 1, 'QR\\xec\\xbd\\x94\\xeb\\x93\\x9c': 1, '\\xea\\xb4\\x91\\xec\\xa3\\xbc': 1, 'null': 2, '\\xec\\x83\\x81\\xeb\\xb4\\x89': 1, 'lif': 3, 'reatcmp': 1, '354': 1, 'prsco': 1, 'ct5': 1, 'M': 1, '\\xec\\xa0\\x95\\xec\\xb1\\x85': 2, 'clearLS': 4, 'navergame': 1, '78': 2, '\\xec\\x8b\\x9c\\xec\\x82\\xac\\xec\\x83\\x81\\xec\\x8b\\x9d': 1, 'mobile': 36, 'clear': 1, 'tpl': 3, 'ko': 1, '\\xec\\x97\\xbd\\xea\\xb8\\xb0\\xed\\x86\\xa0\\xeb\\x81\\xbc': 3, '\\xec\\x98\\xa4\\xed\\x94\\x88\\xec\\xba\\x90\\xec\\x8a\\xa4\\xed\\x8a\\xb8': 1, '\\xeb\\x8f\\x99\\xec\\x8b\\x9c\\xec\\x97\\x90': 1, '3\\xec\\x9c\\x84': 1, '\\xec\\x83\\x81\\xed\\x83\\x9c': 1, '\\xec\\xa0\\x84\\xea\\xb5\\xad': 3, 'atc2': 1, 'font': 2, 'BB': 1, 'music': 6, 'keypage': 1, 'ques': 2, '8': 11, '\\xec\\x82\\xbc\\xec\\x84\\xb1\\xeb\\x8f\\x99': 2, '65\\xeb\\x85\\x84\\xeb\\xa7\\x8c\\xec\\x97\\x90': 1, '0000000DC41B': 1, 'banner': 2, '\\xea\\xb5\\xac\\xeb\\x8f\\x85\\xeb\\xaa\\xa9\\xeb\\xa1\\x9d': 1, '1017': 3, 'initPage': 1, 'remove': 1, 'sstatic': 5, 'x': 2, 'set': 8, 'seq': 13, 'arw': 1, '312': 1, '311': 1, '310': 1, '10752163': 1, 'makeHomePage': 1, '314': 4, 'sec': 12, 'close': 8, 'GET': 1, '0912': 1, 'movie': 5, '\\xec\\x83\\x9d\\xec\\xa4\\x91\\xea\\xb3\\x84': 1, '\\xec\\xbc\\x80\\xeb\\xa6\\xac\\xea\\xb1\\xb4': 2, 'popup': 6, '\\xec\\x9d\\xb4\\xec\\xa0\\x84\\xed\\x8e\\x98\\xec\\x9d\\xb4\\xec\\xa7\\x80': 4, '\\xec\\xbd\\x98\\xec\\x84\\x9c\\xed\\x8a\\xb8': 1, '\\xeb\\xa9\\x94\\xec\\x9d\\xbc': 1, 'mquick': 1, 'logff': 1, 'youthpolicy': 1, 'c': 31, '\\xec\\x84\\xa0\\xed\\x83\\x9d\\xed\\x95\\x98\\xec\\x97\\xac': 1, '\\xeb\\x82\\x98\\xeb\\x88\\x94\\xea\\xb8\\x80\\xea\\xbc\\xb4': 8, 'slkpage': 1, '\\xed\\x9a\\x8c\\xec\\xb0\\xa8': 1, '\\xec\\xa0\\x84\\xec\\xb2\\xb4\\xec\\x96\\xb8\\xeb\\xa1\\xa0\\xec\\x82\\xac': 2, 'newSmartSearch': 1, '\\xeb\\x8b\\xa4\\xec\\x9a\\xb4\\xeb\\xa1\\x9c\\xeb\\x93\\x9cURL': 2, '1\\xec\\xb2\\x9c800\\xeb\\xaa\\x85': 1, '8\\xec\\x8b\\x9c': 3, 'header': 1, '1100001014': 1, '\\xeb\\x8b\\xa4\\xec\\x9a\\xb4\\xeb\\xa1\\x9c\\xeb\\x93\\x9c': 3, 'pw': 4, '\\xeb\\xb0\\xb0\\xed\\x8a\\xb8\\xeb\\xa7\\xa8': 2, '\\xed\\x95\\x99\\xec\\x8a\\xb5': 1, 'pg': 4, 'empty': 1, 'pm': 4, '\\xea\\xb3\\x84\\xec\\x8b\\xad\\xeb\\x8b\\x88\\xeb\\x8b\\xa4': 1, 'else': 11, 'gam': 20, 'naverSetHomepage': 1, '\\xeb\\xb3\\xb4\\xea\\xb8\\x89': 2, '\\xec\\xb0\\xa8\\xec\\x9b\\x90\\xec\\x9d\\xb4': 1, '\\xeb\\xb3\\xb4\\xea\\xb8\\xb0': 3, '\\xed\\x9d\\x90\\xeb\\xa6\\xbc': 4, '\\xeb\\xb0\\xb1\\xeb\\xa0\\xb9': 1, 'bill': 6, 'isMyCast': 1, 'match': 3, 'behavior': 1, 'error': 4, 'mypc': 1, '\\xed\\x95\\xa9\\xeb\\x8b\\x88\\xeb\\x8b\\xa4': 1, '0007928375': 1, 'guide': 11, 'jpg': 27, '\\xec\\x93\\xb0\\xeb\\x8a\\x94': 1, '052': 1, '2640952': 1, '\\xec\\x98\\xac\\xeb\\xa0\\x88\\xec\\x83\\xb5': 4, '875': 1, 'rules': 4, 'loadXI': 4, 'onclick': 131, '9': 10, 'setHomePage': 2, 'bonus': 1, '\\xeb\\xac\\xb8\\xec\\x9e\\x90\\xeb\\xb0\\x9b\\xea\\xb8\\xb0': 2, 'alert': 2, '003': 1, '\\xec\\x83\\x81\\xed\\x83\\x9c\\xec\\x9c\\xa0\\xec\\xa7\\x80': 1, '001': 24, 'user': 1, '005': 1, '009': 1, '008': 1, '\\xeb\\x8d\\x94\\xeb\\xb3\\xb4\\xea\\xb8\\xb0': 3, 'saveID': 2, 'recent': 1, 'CenterBanner': 1, 'IDHERE2': 1, '\\xed\\x99\\x95\\xec\\x9d\\xb8\\xeb\\x90\\x98\\xec\\xa7\\x80': 2, '\\xea\\xb2\\xbd\\xea\\xb8\\xb0': 1, '\\xeb\\x84\\xa4\\xec\\x9d\\xb4\\xeb\\xb2\\x84me': 1, '\\xec\\x82\\xac\\xec\\xa0\\x84\\xeb\\x93\\xb1\\xeb\\xa1\\x9d': 2, 'nsd144736648': 1, '769': 1, 'loadJS': 3, '2\\xeb\\x8b\\xa8\\xea\\xb3\\x84': 1, 'shape': 4, 'ad': 13, '1074': 1, 'shortcut': 4, '\\xec\\x8b\\xa0\\xea\\xb7\\x9c\\xec\\x97\\x85\\xeb\\x8d\\xb0\\xec\\x9d\\xb4\\xed\\x8a\\xb8': 2, '\\xec\\xa5\\xac\\xeb\\x8b\\x88\\xeb\\xb2\\x84': 1, 'rgb': 1, '\\xeb\\xaa\\xa8\\xeb\\x91\\x90': 2, '\\xec\\xba\\x90\\xeb\\xa6\\xad\\xec\\xa0\\x84\\xeb\\x8b\\xb9\\xed\\x8f\\xac': 1, '\\xec\\x9d\\x8c\\xec\\x95\\x85': 2, 'desc': 1, '337': 1, 'rgn': 12, '331': 1, 'bid': 3, 'game': 5, '\\xec\\xb0\\xbe\\xeb\\x8a\\x94': 1, '\\xea\\xb8\\xb0\\xeb\\xa1\\x9d\\xec\\x9d\\x84': 1, '\\xec\\x98\\x88\\xeb\\xb3\\xb4': 3, '\\xeb\\x8f\\x84\\xec\\x8b\\x9c\\xea\\xb3\\xa0\\xec\\x86\\x8d\\xed\\x99\\x94\\xeb\\x8f\\x84\\xeb\\xa1\\x9c': 3, 'd': 24, '184319451571': 1, 'continue': 1, 'Font': 1, 'onreadystatechange': 1, '\\xec\\xa3\\xbc\\xec\\xa0\\x9c\\xeb\\xb3\\x84': 1, '\\xea\\xb2\\x8c\\xec\\x9e\\x84\\xeb\\xa7\\x88\\xeb\\xa3\\xa8': 1, 'loadModule': 1, 'ntop1': 4, '\\xec\\x9d\\xbc\\xeb\\xb3\\xb8\\xec\\x96\\xb4\\xec\\x82\\xac\\xec\\xa0\\x84': 1, 'retry': 4, 'mkhome': 3, '\\xec\\x8a\\xa4\\xeb\\xa7\\x88\\xed\\x8a\\xb8': 1, '\\xec\\x84\\xa4\\xec\\xb9\\x98': 5, '\\xec\\x83\\x81\\xeb\\xb0\\x98\\xea\\xb8\\xb0': 1, '\\xed\\x8f\\xac\\xed\\x95\\xa8': 2, '308': 1, '\\xeb\\x8c\\x80\\xed\\x99\\xa9\\xec\\xa0\\x9c': 2, '300': 2, 'bn': 2, '304': 1, '306': 2, '\\xeb\\x84\\xa4\\xec\\x9d\\xb4\\xeb\\xb2\\x84SE': 1, 'bw': 1, 'br': 12, '0908': 1, 'cecs': 1, 'idx': 2, 'B9': 2, '2591601': 1, 'krdic': 1, '\\xeb\\x9d\\xbc\\xec\\x9d\\xb4\\xec\\x84\\xbc\\xec\\x8a\\xa4': 2, 'block': 2, '20120111': 1, '\\xed\\x94\\x84\\xeb\\xa1\\x9c\\xea\\xb7\\xb8\\xeb\\x9e\\xa8': 1, 'lifesrch': 1, '\\xec\\xa1\\xb0\\xec\\x82\\xac': 1, 'nss': 2, 'atcmpIng': 1, 'span': 858, 'MY\\xeb\\x89\\xb4\\xec\\x8a\\xa4': 1, '0000000001': 1, '\\xea\\xb8\\x8d\\xec\\xa0\\x95\\xeb\\xb6\\x80\\xec\\xa0\\x95\\xea\\xb2\\x80\\xec\\x83\\x89': 1, 'long': 2, '20150904': 1, '20150907': 1, '\\xec\\x8a\\xa4\\xed\\x83\\x80\\xed\\x81\\xac\\xeb\\x9e\\x98\\xed\\x94\\x84\\xed\\x8a\\xb8\\xec\\x99\\x80': 2, 'ie55': 1, 'spat': 10, 'maxLayer': 1, 'onStagePreview': 1, 'link': 5, 'createElement': 1, 'line': 1, 'myNewsInfo': 2, 'info': 2, 'utf': 2, 'cid': 2, 'injectScripts': 3, 'up': 25, '\\xeb\\x88\\x88\\xec\\x97\\x90': 4, 'ul': 52, 'TV': 3, 'highlight': 2, 'z': 4, '\\xea\\xb3\\xb5\\xec\\x97\\xb0': 2, '\\xea\\xb5\\x90\\xea\\xb3\\xbc\\xec\\x84\\x9c': 1, '\\xec\\xa7\\x95\\xed\\x81\\xac\\xec\\x8a\\xa4': 2, 'opencastNTopUrl': 1, 'isMobile': 1, 'pressInfo': 1, 'svcmore': 3, 'cafe': 4, '\\xed\\x95\\xb4\\xed\\x94\\xbc\\xeb\\xb9\\x88': 1, '\\xec\\x82\\xac\\xec\\x9a\\xa9\\xec\\x9e\\x90\\xea\\xb0\\x80': 2, '4\\xec\\x9b\\x9429\\xec\\x9d\\xbc': 1, 'A1': 6, 'A0': 17, 'nav': 10, 'A4': 8, 'A7': 4, 'getElementsByTagName': 1, 'A9': 11, 'A8': 2, 'newshome': 1, 'AC': 7, 'ly1': 1, 'ly2': 1, 'AF': 1, '\\xec\\x83\\x81\\xec\\x8a\\xb9': 11, 'eval': 1, '042': 1, 'land': 5, 'e': 10, 'svc': 18, 'jpdic': 1, '\\xec\\xb0\\xa8': 1, '\\xec\\x88\\x9c\\xeb\\xa7\\xa4\\xec\\x88\\x98': 1, 'svr': 1, 'tooltip3': 1, 'tooltip2': 1, 'tooltip1': 1, 'gt': 1, 'partial': 1, 'nidregister': 1, '\\xec\\xb2\\xb4\\xed\\x81\\xac': 1, '\\xeb\\x82\\x98\\xeb\\x88\\x94\\xea\\xb8\\x80\\xea\\xbc\\xb4\\xec\\x9d\\xb4': 2, '011': 1, 'toggle': 2, '013': 1, '014': 1, '015': 1, 'ly3': 1, '\\xec\\x98\\xa4\\xec\\x84\\xb8\\xec\\xa4\\x80\\xec\\x9d\\x98': 1, 'go': 1, 'query': 32, 'gi': 1, '\\xeb\\x82\\x98\\xeb\\x88\\x94\\xea\\xb8\\x80\\xea\\xbc\\xb4\\xec\\x9d\\x84': 3, '\\xec\\x84\\xa0\\xed\\x98\\xb8\\xec\\xa3\\xbc\\xec\\xa0\\x9c\\xec\\x84\\xa4\\xec\\xa0\\x95': 1, '0000000DC460': 1, 'send': 1, '\\xec\\xa3\\xbc\\xec\\x9d\\x98': 3, '0007929113': 1, '918': 1, '\\xec\\x9b\\x94\\xec\\x9a\\x94\\xec\\x9e\\x85\\xeb\\xa1\\xa4\\xed\\x9a\\x8c': 1, '\\xea\\xb8\\xb0\\xec\\xa1\\xb4': 1, 'appstore': 2, '\\xea\\xb3\\xa0\\xea\\xb0\\x9d\\xec\\x84\\xbc\\xed\\x84\\xb0': 1, '916': 1, 'F6': 1, 'button': 16, '110px': 1, 'try': 8, '0000000011': 1, 'help2': 2, 'opencast': 2, 'acir': 10, 'innerHTML': 1, 'nstore': 1, 'video': 2, '3A': 1, 'hspace': 1, '\\xec\\x99\\x84\\xeb\\xa3\\x8c\\xeb\\x90\\x98\\xec\\xa7\\x80': 1, 'ct4': 1, 'index': 10, 'ct6': 1, 'ct7': 1, 'ct1': 13, 'ct2': 1, 'ct3': 1, 'ct8': 1, 'zA': 1, '\\xec\\x84\\xa4\\xec\\xa0\\x95\\xeb\\x90\\x9c': 2, 'FlashNewsRoll': 1, '\\xea\\xb8\\xb0\\xec\\x98\\xa8': 2, 'body': 3, 'exchange': 3, '440': 1, '447': 1, 'run2': 3, '39': 22, '2\\xec\\xb0\\xa8\\xec\\xa0\\x84': 1, '31': 1, '30': 1, '\\xea\\xb0\\x91\\xec\\xa7\\x88\\xea\\xb3\\xa0\\xea\\xb0\\x9d': 1, 'ctg': 2, '\\xeb\\xb2\\x94\\xec\\x9c\\x84': 1, '\\xec\\x95\\x84\\xeb\\x8b\\x8c': 1, '10392027': 1, '\\xea\\xb2\\x80\\xec\\x83\\x89\\xec\\x96\\xb4\\xec\\xa0\\x80\\xec\\x9e\\xa5': 6, '339': 1, '338': 1, '335': 1, '334': 1, 'app': 4, '336': 1, 'showErrorDiv': 1, '330': 1, '333': 1, '332': 1, 'api': 7, '\\xec\\xb1\\x84': 1, '\\xec\\xb1\\x85': 4, 'chb': 1, '0007928429': 1, 'chk': 5, '\\xeb\\xaa\\xa8\\xeb\\xb0\\x94\\xec\\x9d\\xbc': 1, 'next': 8, '368px': 1, '\\xeb\\xa7\\x8c\\xeb\\x93\\x9c\\xeb\\x8a\\x94\\xeb\\xb2\\x95': 2, 'navercorp': 3, 'sort': 3, 'src': 61, 'mismatch': 4, '\\xeb\\x8c\\x80\\xed\\x95\\x9c': 1, '\\xec\\x98\\xa8\\xec\\x8a\\xa4\\xed\\x85\\x8c\\xec\\x9d\\xb4\\xec\\xa7\\x80': 2, 'smartSearch': 3, 'account': 7, 'F3': 1, '\\xeb\\x8c\\x80\\xed\\x95\\xb4': 1, '040': 1, 'f': 10, 'this': 130, 'ActiveXObject': 1, '\\xec\\x97\\xb4\\xea\\xb8\\xb0': 2, '\\xec\\x83\\x88\\xec\\xb0\\xbd': 1, '\\xeb\\xa9\\x94\\xeb\\x89\\xb4': 2, 'mask2': 1, '2Fwww': 1, 'tab': 1, '\\xec\\xb6\\x94\\xec\\xa0\\x81': 1, '\\xeb\\xac\\xb8\\xed\\x99\\x94\\xec\\xbd\\x98\\xed\\x85\\x90\\xec\\xb8\\xa0': 2, '\\xeb\\x82\\x98\\xeb\\xa7\\x8c\\xec\\x9d\\x98': 1, '07110101': 1, 'naverapply': 1, '1\\xed\\x99\\x94': 2, '0715': 11, '\\xea\\xb4\\x91\\xec\\xa3\\xbc\\xea\\xb5\\x90\\xeb\\x8f\\x84\\xec\\x86\\x8c': 1, 'stock': 3, '\\xea\\xb8\\xb0\\xeb\\xa1\\x9d': 3, '1X1': 10, 'inst': 2, '\\xec\\x8b\\x9c\\xec\\x9e\\x91\\xed\\x8e\\x98\\xec\\x9d\\xb4\\xec\\xa7\\x80': 3, '940': 1, '\\xed\\x95\\xb4\\xec\\x95\\xbc': 1, '\\xec\\xb6\\x94\\xea\\xb0\\x80\\xed\\x95\\x98\\xec\\x8b\\x9c\\xeb\\xa0\\xa4\\xeb\\xa9\\xb4': 1, '132': 1, '135': 1, '\\xec\\x97\\xb0\\xed\\x95\\xa9\\xeb\\x89\\xb4\\xec\\x8a\\xa4': 1, '\\xea\\xb0\\x9c\\xec\\x9d\\xb8': 2, 'write': 1, 'tsi': 15, 'onStage': 1, 'tsb': 3, 'li': 178, '2015': 19, '2014': 12, '\\xec\\x95\\xb1\\xec\\x8a\\xa4\\xed\\x86\\xa0\\xec\\x96\\xb4': 1, '2011': 2, '2013': 1, 'tsq': 90, 'flex': 1, 'sqare': 1, 'ckeys': 5, 'auto': 2, '\\xec\\x8b\\x9c\\xec\\x9e\\x91\\xed\\x8e\\x98\\xec\\x9d\\xb4\\xec\\xa7\\x80\\xeb\\xa1\\x9c': 1, '\\xec\\xa7\\x88\\xeb\\xac\\xb8\\xed\\x98\\x95': 1, '025': 4, '024': 1, 'NewsStand': 3, '021': 1, '020': 1, '023': 1, '022': 4, '029': 1, '028': 1, 'nrefreshx': 7, '\\xea\\xb2\\x80\\xec\\x83\\x89\\xec\\x96\\xb4\\xeb\\xa1\\x9c': 1, 'edit': 18, 'hangame': 2, 'slide': 1, 'scrollbar': 9, 'mode': 19, 'optgroup': 4, '\\xec\\xa6\\x9d\\xea\\xb6\\x8c': 3, '934': 1, 'tvcast': 5, '\\xec\\x83\\x9d\\xed\\x99\\x9c': 2, 'loadDS': 3, '88': 7, 'books': 1, 'static': 48, '\\xec\\x82\\xac\\xec\\x9a\\xa9\\xed\\x95\\x98\\xea\\xb3\\xa0': 1, '83': 6, '80': 1, '81': 5, '86': 13, '84': 20, '\\xec\\xb5\\x9c\\xea\\xb7\\xbc\\xea\\xb2\\x80\\xec\\x83\\x89\\xec\\x96\\xb4': 2, 'category': 4, 'entertainment': 1, 'rev': 1, '\\xec\\x9e\\xac\\xec\\x84\\xa4\\xec\\xb9\\x98': 1, '580': 1, 'isYeonhapFlash': 12, 'qdown': 1, '\\xec\\x83\\x81\\xec\\x98\\x81': 1, 'cate': 5, 'quS': 10, '\\xec\\x9b\\xb9\\xeb\\xac\\xb8\\xec\\x84\\x9c': 1, 'g': 8, '14130116': 1, '8B': 6, '8C': 9, '8A': 7, '8F': 8, '8D': 5, '8E': 2, '\\xec\\x9d\\xb8': 1, 'length': 9, 'AdMobile': 1, '\\xeb\\xa7\\x8c\\xeb\\x8f\\x84': 4, '\\xec\\x84\\xa0\\xed\\x83\\x9d': 2, '\\xec\\x9d\\xb4': 3, '103624295628': 1, 'naverapp': 1, '\\xec\\xa7\\x80\\xec\\x97\\xad\\xec\\x84\\xa4\\xec\\xa0\\x95': 1, 'RegExp': 1, 'ip\\xeb\\xb3\\xb4\\xec\\x95\\x88': 1, '2597652': 1, '224940510': 1, '933879': 2, 'privacy': 2, '\\xec\\x9d\\xb4\\xec\\xb1\\x84\\xec\\x96\\xb8\\xeb\\xa3\\xa8\\xed\\x8a\\xb8': 2, '\\xea\\xb5\\xac\\xeb\\x8f\\x85\\xec\\x84\\xa4\\xec\\xa0\\x95': 1, 'freeYn': 1, '\\xed\\x95\\xb4\\xec\\xa0\\x9c': 2, 'delMode': 1, 'recentNone': 1, 'var': 59, 'COEX': 2, '\\xeb\\xae\\xa4\\xec\\xa7\\x81': 4, 'postView': 6, 'onWindowLoad': 1, 'false': 36, 'viewer': 6, '\\xeb\\xaa\\xa8\\xeb\\x93\\xa0': 2, '\\xeb\\x93\\x9c\\xeb\\x9d\\xbc\\xeb\\xa7\\x88': 1, '389': 1, 'border': 3, '\\xec\\x8b\\xb8\\xec\\x9b\\x80': 1, '\\xec\\x82\\xac\\xec\\xa0\\x84': 3, '\\xec\\x8b\\x9c\\xec\\x9e\\x91\\xeb\\xb6\\x80\\xed\\x84\\xb0': 1, 'min': 4, 'mid': 17, '\\xea\\xb8\\xb0\\xec\\x97\\x85\\xec\\x9d\\x84': 2, '326': 1, '327': 1, '328': 1, '329': 1, '174px': 1, 'getItem': 2, 'LPOD': 12, 'class': 802, '4\\xec\\x9c\\x84': 1, 'popup1': 1, 'popup2': 1, 'ckb': 2, 'url': 13, '\\xea\\xb5\\xac\\xeb\\xa6\\x84\\xe2\\x80\\xa6\\xeb\\xaf\\xb8\\xec\\x84\\xb8\\xeb\\xa8\\xbc\\xec\\xa7\\x80': 3, '140780': 1, '140781': 1, 'text': 42, '\\xec\\xb4\\x88\\xeb\\x8c\\x80\\xea\\xb6\\x8c': 2, 'area2': 1, '\\xec\\xb0\\xbe\\xea\\xb8\\xb0': 2, 'N\\xeb\\x93\\x9c\\xeb\\x9d\\xbc\\xec\\x9d\\xb4\\xeb\\xb8\\x8c': 1, '\\xec\\xb2\\xa0\\xed\\x86\\xb5': 1, '\\xec\\x9e\\xa5': 1, '\\xea\\xb2\\x8c\\xec\\x9e\\x84\\xec\\x9d\\xb8\\xec\\x82\\xac\\xec\\x9d\\xb4\\xeb\\x93\\x9c': 1, '2\\xeb\\x9d\\xbc\\xec\\x9a\\xb4\\xeb\\x93\\x9c': 2, '2012': 1, 'local': 2, '368': 4, '\\xea\\xb9\\x80\\xec\\x98\\x81\\xec\\x84\\x9d\\xc2\\xb7\\xec\\x99\\xb8\\xea\\xb5\\x90\\xec\\x95\\x88\\xeb\\xb3\\xb4\\xec\\x88\\x98\\xec\\x84\\x9d': 2, '\\xeb\\xaa\\xa9\\xec\\x9a\\x94\\xec\\x9d\\xbc': 2, '120': 1, '122': 1, '123': 1, 'words': 11, 'scrolling': 4, 'recentBtnGroup': 1, '\\xec\\x9a\\xa9\\xec\\x96\\xb4\\xec\\x82\\xac\\xec\\xa0\\x84': 1, 'qr': 2, 'qu': 2, '\\xec\\x84\\x9c\\xec\\x9a\\xb8': 2, 'h': 17, 'quSXI': 8, '141148': 1, '141147': 1, '\\xec\\x98\\x81\\xec\\x96\\xb4': 1, 'shm': 1, 'view': 2, 'newspaperUrl': 1, 'svcmap': 1, 'Question': 1, '\\xec\\x8b\\xa0\\xea\\xb2\\xa9\\xed\\x98\\xb8': 1, 'scroll9': 1, '038': 1, '039': 12, '032': 4, '030': 1, '031': 4, '\\xea\\xb3\\xb5\\xec\\xa7\\x80\\xec\\x82\\xac\\xed\\x95\\xad': 1, '034': 3, 'fmenu': 2, '138': 11, '\\xec\\x98\\x81\\xec\\x96\\xb4\\xec\\x82\\xac\\xec\\xa0\\x84': 1, '102045616114': 1, 'state': 6, 'timesquare': 3, '\\xea\\xb5\\xad\\xeb\\xaf\\xbc\\xed\\x96\\x89\\xeb\\xb3\\xb5\\xec\\xba\\xa0\\xed\\x8e\\x98\\xec\\x9d\\xb8': 2, 'sortOption': 1, 'javascript': 33, 'cj\\xec\\xb1\\x84\\xec\\x9a\\xa9': 6, 'localnum': 1, '\\xec\\xa3\\xbc\\xec\\xa0\\x9c\\xeb\\xb3\\x84\\xec\\xba\\x90\\xec\\x8a\\xa4\\xed\\x8a\\xb8': 1, '\\xed\\x8c\\x90\\xed\\x85\\x8c\\xec\\x98\\xa8': 2, '\\xed\\x9b\\x84': 2, '\\xec\\x9d\\xbc\\xeb\\xa6\\xac\\xeb\\x8b\\xa8': 2, '\\xeb\\xa1\\x9c\\xec\\x9d\\xb4\\xed\\x84\\xb0': 1, 'PC\\xec\\x97\\x90\\xec\\x84\\x9c': 1, '\\xec\\x8a\\xb9\\xeb\\xa6\\xac\\xed\\x95\\x98\\xeb\\x9d\\xbc': 2, 'thumb': 21, 'refreshLcs': 2, 'etc': 7, '\\xed\\x95\\x84\\xec\\x9a\\x94\\xed\\x95\\xa9\\xeb\\x8b\\x88\\xeb\\x8b\\xa4': 1, '\\xec\\x9d\\xb4\\xec\\x86\\xa1': 1, '384': 1, '\\xea\\xb5\\xad\\xec\\x99\\xb8': 1, '\\xeb\\xb6\\x80\\xeb\\xa5\\xb4\\xec\\xa3\\xbc\\xec\\x95\\x84': 2, 'cj': 2, '386': 1, 'cl': 2, 'hm2': 7, 'hm3': 1, 'happysearch': 1, '100316333972': 1, '141322': 2, 'tabIndex': 5, 'amigo': 1, '939': 1, 'LoL': 2, 'newscast': 1, 'json': 2, '\\xec\\x84\\xa4\\xec\\xa0\\x95': 3, '\\xed\\x95\\x9c\\xec\\x9e\\x90\\xec\\x82\\xac\\xec\\xa0\\x84': 1, '\\xeb\\x9e\\xa9': 1, '\\xeb\\x8d\\x98\\xec\\xa0\\x84\\xec\\x95\\xa4\\xed\\x8c\\x8c\\xec\\x9d\\xb4\\xed\\x84\\xb0': 1, '000443379385': 1, '\\xeb\\x82\\xa0\\xec\\x94\\xa8\\xed\\x8e\\x98\\xec\\x9d\\xb4\\xec\\xa7\\x80\\xeb\\xa1\\x9c': 12, '933': 1, 'Wiget': 1, 'tsw': 1, '\\xec\\xb2\\xad\\xec\\xa3\\xbc': 1, '930': 1, 'recentDelBtnGroup': 1, '\\xeb\\x90\\x9c': 1, 'value': 82, '\\xeb\\x89\\xb4\\xec\\x8a\\xa4\\xec\\x8a\\xa4\\xed\\x83\\xa0\\xeb\\x93\\x9c': 2, 'vspace': 1, '\\xed\\x95\\x98\\xec\\x9d\\xb4\\xeb\\x9d\\xbc\\xec\\x9d\\xb4\\xed\\x8a\\xb8': 1, '\\xec\\x9d\\xb4\\xec\\x9a\\xa9\\xec\\x95\\xbd\\xea\\xb4\\x80': 2, '\\xec\\x8a\\xa4\\xec\\x99\\x80\\xeb\\xa1\\x9c\\xeb\\xb8\\x8c\\xec\\x8a\\xa4\\xed\\x82\\xa4': 1, 'ly': 9, '\\xeb\\x93\\xb1\\xeb\\xa1\\x9d': 3, 'site': 2, 'faqId': 3, 'vs': 1, '\\xec\\x88\\x98\\xed\\x96\\x89': 2, '\\xea\\xb0\\x95\\xed\\x98\\xb8\\xec\\x9d\\xb8\\xc2\\xb7\\xed\\x95\\xb4\\xec\\x88\\x98': 2, '\\xec\\x8a\\xa4\\xed\\x8c\\x8c\\xea\\xb2\\x8c\\xed\\x8b\\xb0': 2, '\\xec\\x84\\xb8\\xea\\xb3\\x84\\xec\\x9d\\xbc\\xeb\\xb3\\xb4': 1, 'expwide': 1, '\\xea\\xb2\\x80\\xec\\x83\\x89\\xec\\x96\\xb4\\xec\\x82\\xad\\xec\\xa0\\x9c': 1, '\\xec\\x84\\x9c\\xeb\\xb9\\x84\\xec\\x8a\\xa4': 2, 'android': 1, 'http': 217, 'promo': 1, '\\xeb\\xb0\\x94\\xeb\\xa1\\x9c': 1, '\\xed\\x8e\\xbc\\xec\\xb9\\x98\\xea\\xb8\\xb0': 6, 'v2': 2, '\\xeb\\xa0\\x88\\xec\\x98\\xa4\\xeb\\x82\\x98': 1, 'vlive': 1, 'expand': 1, '\\xeb\\xa6\\xac\\xea\\xb7\\xb8\\xec\\x98\\xa4\\xeb\\xb8\\x8c\\xeb\\xa0\\x88\\xec\\xa0\\x84\\xeb\\x93\\x9c': 2, 'setf': 5, 'off': 1, 'center': 2, 'i': 14, '357': 1, '356': 1, '355': 1, '\\xec\\xb5\\x9c\\xec\\xb4\\x88\\xec\\x84\\xa4\\xec\\xb9\\x98\\xea\\xb0\\x80': 1, 'position': 8, 'cafeblog': 1, '\\xeb\\x88\\x84\\xeb\\x88\\x84': 2, 'BD': 2, 'BF': 2, 'nv2': 3, 'nv1': 3, 'BC': 8, '\\xec\\x9a\\xb8\\xeb\\xa6\\x89': 1, '\\xeb\\x8f\\x99\\xec\\x98\\x81\\xec\\x83\\x81': 2, 'tcb': 1, 'tcc': 53, 'web': 4, '140778': 1, 'XMLHTTP': 4, '\\xed\\x98\\xbc\\xeb\\x8f\\x88\\xec\\x9d\\x98': 2, '0731': 1, '289': 1, 'add': 9, '5': 13, 'smart': 2, '102700424885': 1, '\\xec\\xb9\\xb4\\xed\\x8e\\x98\\xea\\xb8\\x80': 1, 'newsstand': 27, 'onmouseover': 1, 'desk': 1, 'press': 3, 'atcmpCR': 8, '\\xec\\x95\\xbd\\xea\\xb4\\x80': 1, 'password': 1, '\\xec\\xa4\\x91\\xea\\xb5\\xad\\xec\\x9d\\x84': 2, 'B4': 7, 'B5': 15, 'B6': 1, 'B7': 1, 'B0': 5, 'B1': 8, 'B2': 4, 'B3': 9, 'B8': 10, 'page': 1, '\\xec\\x95\\x8a\\xec\\x95\\x84': 1, '\\xea\\xb0\\x9c\\xec\\x9d\\xb8\\xec\\xa0\\x95\\xeb\\xb3\\xb4\\xec\\xb7\\xa8\\xea\\xb8\\x89\\xeb\\xb0\\xa9\\xec\\xb9\\xa8': 1, '117': 1, '111': 3, '110': 3, 'home': 1, '78005501': 28, 'intronhn': 1, '\\xec\\x8b\\xb6\\xec\\x9c\\xbc\\xec\\x8b\\x9c\\xeb\\x8b\\xa4\\xeb\\xa9\\xb4': 2, '\\xec\\xba\\x98\\xeb\\xa6\\xb0\\xeb\\x8d\\x94\\xec\\x9d\\xb4\\xeb\\x8f\\x99': 1, '10\\xec\\x9c\\x84': 1, '59px': 1, 'opencastUrl': 1, 'indexOf': 2, '\\xec\\xa0\\x84\\xec\\x9d\\xb8\\xea\\xb6\\x8c': 1, '\\xec\\x9b\\x94\\xed\\x99\\x94': 1, '047': 1, '045': 3, '044': 1, '\\xea\\xb3\\xa0\\xec\\x86\\x8d\\xeb\\x8f\\x84\\xeb\\xa1\\x9c': 3, 'Microsoft': 1, 'panel': 2, '\\xe2\\x80\\xa6\\xec\\x9d\\xb4\\xec\\x82\\xb0\\xea\\xb0\\x80\\xec\\xa1\\xb1': 1, 'column': 4, '\\xed\\x94\\x8c\\xeb\\x9e\\x98\\xec\\x8b\\x9c': 1, 'UI': 2, 'RealTimeRank': 1, '\\xeb\\x82\\xb4': 11, 'h2': 14, 'h3': 14, '\\xec\\x84\\xb1\\xec\\xb6\\x94\\xed\\x96\\x89\\xc2\\xb7\\xec\\x84\\xb1\\xed\\x9d\\xac\\xeb\\xa1\\xb1': 1, 'h1': 2, 'h4': 14, 'weather': 33, '\\xec\\x8b\\xac\\xec\\x9e\\xa5': 2, '\\xea\\xb2\\x80\\xec\\x83\\x89\\xed\\x99\\x88': 1, '1987': 4, '\\xec\\x95\\x88\\xec\\x86\\x8c\\xed\\x9d\\xac': 4, 'svcm': 1, 'smit': 4, '\\xeb\\x86\\x8d\\xed\\x98\\x91': 4, '101830405977': 1, 'images11': 4, 'function': 27, '\\xea\\xb8\\xb0\\xeb\\x8a\\xa5\\xec\\x9d\\x84': 5, 'hr': 4, 'brand': 1, '\\xed\\x94\\x8c\\xeb\\xa0\\x88\\xec\\x9d\\xb4\\xec\\x96\\xb4\\xeb\\xa5\\xbc': 1, 'npay': 1, 'getSingle': 3, '\\xed\\x9b\\x84\\xeb\\xb3\\xb4\\xec\\x97\\x90': 1, 'hm': 2, 'hb': 1, 'mixpanel': 2, 'isOnload': 3, 'j': 3, 'lve': 11, '89': 1, '\\xea\\xb8\\xb0\\xeb\\x8a\\xa5\\xec\\x9d\\xb4': 5, '\\xec\\xb2\\x9c\\xea\\xb5\\xad\\xec\\x9d\\xb4\\xeb\\x8b\\xa4': 2, 'CDATA': 5, 'display': 51, 'postDataKey': 2, '\\xec\\xb9\\xb4\\xed\\x8e\\x98\\xeb\\xaa\\x85': 1, 'int': 2, 'pid': 1, 'encnm': 2, '82': 15, '\\xec\\x9e\\x85\\xeb\\xa0\\xa5': 2, 'MSG': 2, 'NULL': 1, 'recentTab': 1, 'newss': 5, '40': 2, '41': 1, 'book': 4, 'clickcr': 100, '\\xec\\x9d\\xb4\\xeb\\xaf\\xb8\\xec\\xa7\\x80': 1, '158px': 1, '85': 1, 'star': 1, '\\xec\\xa2\\x85\\xed\\x95\\xa9': 1, '\\xec\\x82\\xac\\xed\\x88\\xac': 3, 'bundle': 5, '01150615': 1, 'atcmp15': 3, 'N': 3, '\\xec\\xa1\\xb0\\xed\\x9d\\xac\\xed\\x8c\\x94': 1, 'hnb': 1, '78000C01': 1, 'nvlong': 2, '\\xeb\\xa1\\x9c\\xea\\xb7\\xb8\\xec\\x9d\\xb8': 8, '539': 1}\n",
      "{'\\xea\\xb0\\x95\\xeb\\xa0\\xa5': 1, '6px': 39, 'suggestBox': 77, '31px': 8, '120614': 1, '620px': 1, 'verdana': 1, 'pwdLabel': 1, 'adCgiTodayBrand': 2, '\\xed\\x94\\x84\\xeb\\xa1\\x9c\\xec\\x95\\xbc\\xea\\xb5\\xac\\xec\\xa4\\x91\\xea\\xb3\\x84': 2, 'fieldset': 3, '279px': 2, '120120': 2, '\\xea\\xb3\\x84\\xeb\\xa5\\x98': 1, '212px': 1, '36a0e4': 1, 'loginForm': 1, '164px': 2, '\\xea\\xb0\\x80\\xeb\\x93\\x9d\\xed\\x95\\x9c': 1, '380px': 7, '9px': 34, '\\xec\\x87\\xbc\\xed\\x95\\x91\\xea\\xb8\\xb0\\xed\\x9a\\x8d\\xec\\xa0\\x84': 1, '\\xec\\x98\\x81\\xea\\xb5\\xad': 1, '298': 1, '294': 1, '\\xeb\\x96\\xa8\\xeb\\xa6\\xb0\\xeb\\x8b\\xa4': 1, '\\xec\\x95\\x84\\xea\\xb8\\xb0': 1, '\\xec\\x9c\\xa0\\xec\\xa7\\x80': 1, 'direct': 1, '\\xec\\x9e\\x90\\xeb\\x8f\\x99\\xec\\xb0\\xa8': 1, '274': 1, '278': 1, '83px': 5, 'blue': 1, 'item8': 2, 'item9': 2, 'hide': 17, 'item2': 2, 'item3': 2, '\\xec\\xa7\\x91\\xea\\xb2\\xb0': 1, 'item1': 2, 'item6': 2, '152px': 1, 'item4': 2, 'item5': 2, '\\xed\\x88\\xac\\xed\\x91\\x9c\\xec\\x86\\x8c': 1, '\\xec\\x98\\xa4\\xeb\\xb9\\xa0\\xeb\\xa5\\xbc': 1, 'new': 13, 'net': 251, '69771': 1, 'bestlikeTab': 1, 'tvpotTab': 1, 'sugo': 1, '182px': 1, '265px': 2, 'menuyn': 1, 'protection': 1, 'active': 4, 'eaeaea': 2, '100': 24, '101': 1, '200px': 8, 'kids': 1, '98px': 4, '10\\xec\\x9b\\x94': 2, '\\xea\\xb0\\x80\\xec\\x9d\\x84\\xec\\x9d\\xb8\\xea\\xb8\\xb0': 1, '\\xec\\xa7\\x81\\xec\\xa0\\x91': 1, '5tab': 2, '113px': 2, 'visible': 2, '\\xeb\\x8b\\xa4\\xec\\x9d\\x8c\\xec\\x95\\xb1': 3, 'f73a40': 1, 'txt': 277, '8c80aa785c7343fca875b63ec075644b': 1, '\\xed\\x8f\\xac\\xec\\x9c\\xa0\\xeb\\xa5\\x98': 1, 'adCgiTimeSponsor': 2, '500px': 1, '9C': 7, '9B': 3, '9E': 2, '383b42': 2, 'bestshop': 2, '\\xed\\x8a\\xb9': 1, 'program': 2, '\\xeb\\x89\\xb4\\xec\\x8a\\xa4': 2, 'type': 34, '273px': 1, 'relay': 2, '\\xeb\\x9d\\xbc\\xec\\x9d\\xb4\\xed\\x94\\x84': 2, '99': 5, 'phone': 3, '\\xec\\x97\\xb4\\xec\\xa0\\x95\\xe6\\xa8\\x82\\xec\\x84\\x9c': 1, '91': 5, '90': 2, '95': 2, '94': 6, 'appimport': 1, 'join': 4, '\\xed\\x99\\x94\\xec\\x82\\xac\\xed\\x95\\x98\\xea\\xb2\\x8c\\xea\\xbe\\xb8\\xeb\\xa9\\xb0': 1, '\\xec\\x9c\\xa0\\xea\\xb8\\xb0\\xeb\\x8f\\x99\\xeb\\xac\\xbc': 1, 'ms': 1, '\\xec\\x84\\xb8': 1, 'my': 24, '64px': 3, 'give': 4, '555': 7, '30\\xeb\\xb6\\x84': 1, '19px': 24, '425px': 2, 'type1': 4, 'type3': 3, 'absolute': 58, '\\xed\\x8e\\x98\\xec\\x9d\\xb4\\xec\\xa7\\x80': 8, 'end': 1, 'quot': 8, 'feature': 5, '132px': 1, 'w26': 2, 'w27': 2, 'w24': 2, 'w25': 2, 'w22': 2, 'w23': 2, 'w20': 2, 'w21': 2, 'answer': 2, '20151015134512': 1, 'w28': 2, 'w29': 2, 'A': 17, 'beauty': 1, '\\xec\\x82\\xac\\xeb\\xaa\\x85': 1, '20151012170531': 1, '50px': 13, '\\xec\\xb0\\xbe\\xec\\x95\\x98\\xeb\\x8b\\xa4': 1, 'lab': 13, '79px': 3, '\\xec\\x9d\\xb8\\xea\\xb8\\xb0\\xea\\xb8\\xb0\\xed\\x9a\\x8d\\xec\\xa0\\x84': 1, '264px': 1, 'bookTab': 1, '\\xed\\x8a\\xb8\\xeb\\x9f\\xac\\xeb\\xb8\\x94': 1, 'viewport10': 1, '\\xec\\x84\\x9c\\xec\\x9a\\xb8\\xec\\x9a\\xb0\\xec\\x9c\\xa0': 2, 'C9FTj': 1, 'enter': 3, 'daumkakao': 4, 'dee1e6': 1, 'deco': 62, '844px': 1, 'jpeg': 1, '4tab': 2, '20151019182738046': 1, '416px': 2, '\\xec\\x8b\\xa4\\xec\\x8b\\x9c\\xea\\xb0\\x84': 2, '\\xec\\xb9\\xa8\\xea\\xb5\\xac\\xec\\x9e\\xa5\\xeb\\xa7\\x8c': 1, 'caster': 1, '9\\xec\\x9c\\x84': 2, '\\xec\\x9a\\xb4\\xec\\x84\\xb8': 4, 'before': 3, '20151019145108438': 1, 'ime': 2, 'img': 278, '\\xec\\xa0\\x84\\xec\\xa3\\xbc': 1, '6GsUm': 1, 'imp': 3, 'hidden': 129, 'adBrandingStation': 1, '1aa21644ef114ab5caaccbea01cc3074c923b1cb': 1, '70px': 6, '363b4a': 1, '\\xec\\x98\\xa4\\xeb\\x8a\\x98\\xec\\x9d\\x98': 4, 'adHourTen': 1, '\\xea\\xb2\\x8c\\xec\\x9e\\x84': 3, '\\xec\\x8b\\xab\\xec\\x9d\\x80': 1, 'arrow': 3, '375': 1, '\\xec\\x84\\xa4\\xeb\\xaa\\x85': 1, '660px': 3, '232px': 1, 't2': 9, '\\xec\\x98\\x88\\xec\\x81\\x98\\xeb\\x8b\\xa4': 1, '13px': 77, '450px': 2, '\\xec\\x9d\\xb4\\xeb\\x8c\\x80\\xeb\\xa1\\x9c': 1, '3tab': 2, '990px': 3, '\\xea\\xb7\\xb8\\xeb\\xa6\\xac\\xea\\xb3\\xa0': 1, '\\xe3\\x85\\x81': 1, 'realtime': 40, 'gradient': 4, '\\xeb\\xb9\\x84\\xeb\\xb0\\x80\\xeb\\xb2\\x88\\xed\\x98\\xb8': 2, 'FUN': 1, '1870px': 1, 'content': 19, 'i1': 43, 'reader': 31, '\\xec\\x88\\x98\\xeb\\xb6\\x84': 1, 'linear': 4, '\\xec\\x83\\x9d\\xeb\\xb0\\xa9\\xec\\x86\\xa1\\xed\\x88\\xac\\xeb\\x8d\\xb0\\xec\\x9d\\xb4': 2, 'shopping1Tab': 1, '51px': 2, '349px': 2, '541px': 2, '\\xec\\x87\\xbc\\xed\\x95\\x91': 4, '1w': 2, '\\xec\\x83\\x81\\xec\\x8a\\xb970': 2, 'filter': 2, 'shop4tabIndex': 1, '81838c': 1, '\\xeb\\x8f\\x84\\xec\\x9b\\x80\\xeb\\xa7\\x90\\xeb\\xb3\\xb4\\xea\\xb8\\xb0': 1, 'setpage': 1, '\\xec\\xa7\\x80\\xeb\\x8f\\x84': 3, '340px': 6, '\\xeb\\xb6\\x80\\xed\\x8b\\xb0\\xea\\xb0\\x80\\xeb\\x82\\x98\\xec\\xa7\\x80': 1, '454545': 1, '43px': 6, 'rank': 52, '224px': 3, '\\xec\\xb5\\x9c\\xea\\xb7\\xbc': 1, 'service': 60, 'top': 300, '4537': 1, 'tot': 25, '295px': 1, '190': 7, '339px': 2, 'CA3ko': 1, '\\xec\\x9b\\xb9\\xed\\x88\\xb0': 2, '71px': 3, 'white': 19, 'target': 30, 'keyword': 3, 'funGrpTab': 1, 'project': 3, '376px': 1, '\\xec\\x98\\x81\\xec\\x9b\\x85\\xeb\\x93\\xa4\\xec\\x9d\\x84': 1, '675px': 1, 'minus': 1, 'realestate': 12, 'd60311c029c449419efd493c7e99d697': 1, 'blogTab': 1, '67px': 3, '\\xec\\x9d\\xb8\\xea\\xb8\\xb0': 1, '4\\xec\\x9c\\x84': 3, 'contents': 5, '\\xeb\\xb8\\x94\\xeb\\xa0\\x88\\xec\\x8a\\xa4\\xec\\x9c\\xa0': 1, '557df6': 1, '3a5fb9': 1, '2500\\xeb\\xaa\\x85': 1, '\\xeb\\xa7\\x8c\\xeb\\x82\\x9c\\xeb\\x8b\\xa4\\xeb\\x8b\\x88': 1, '650px': 1, 'fname': 13, '\\xeb\\xa7\\x81\\xed\\x81\\xac\\xeb\\xaa\\xa8\\xec\\x9d\\x8c': 3, '\\xec\\x9d\\xb8\\xec\\x9e\\xac\\xec\\xb1\\x84\\xec\\x9a\\xa9': 1, '3f8af9': 1, 'e5e5e5': 2, '\\xec\\x99\\x95': 2, '248px': 3, '\\xec\\x99\\x9c': 2, 'myset': 19, 'PO2': 1, '\\xed\\x96\\xa5': 1, 'letter': 56, 'scripts': 1, '309px': 1, 'padding': 189, 'episode': 7, '\\xec\\xb1\\x84\\xec\\x9a\\xa9': 2, 'doc': 4, '\\xeb\\xb0\\x95\\xed\\x9d\\xac\\xeb\\xb3\\xb8': 1, 'm': 3, '\\xec\\x98\\xa4\\xeb\\x8a\\x98': 1, '\\xed\\x8d\\xbc\\xeb\\xa0\\x88\\xec\\x9d\\xb4\\xeb\\x93\\x9c': 1, 'dot': 3, 'tv\\xed\\x8c\\x9f': 3, '195px': 1, 'item7': 2, 'broadcastTab': 1, '\\xeb\\x81\\xbc\\xea\\xb3\\xa0': 1, '949494': 1, 'tabid': 1, 'layout': 16, '695': 1, 'headline': 30, 'menu': 1, '\\xec\\x9d\\xb8\\xec\\x82\\xbc': 1, 'dotum': 8, '\\xeb\\x95\\x90': 1, 'theme': 7, 'ibeautylab': 1, '\\xed\\x8b\\xb0\\xec\\x8a\\xa4\\xed\\x86\\xa0\\xeb\\xa6\\xac': 1, '148px': 1, '\\xea\\xb2\\x80\\xec\\x83\\x89\\xeb\\x93\\xb1\\xeb\\xa1\\x9d': 1, 'plate': 16, 'tiles': 37, 'DQP': 20, '628px': 1, '\\xea\\xb2\\x80\\xec\\x83\\x89': 3, 'dd': 2, 'dt': 2, 'CCAzJ': 1, 'bar': 4, '699px': 1, '\\xeb\\xb0\\x98\\xeb\\xa0\\xa4\\xeb\\x8f\\x99\\xeb\\xac\\xbc': 1, '411': 1, 'C48qf': 1, 'tvTab': 1, '1387': 1, '100px': 11, '\\xec\\x86\\x8c\\xea\\xb3\\xa0\\xea\\xb8\\xb0\\xec\\xa0\\x84\\xea\\xb3\\xa8': 1, 'num': 86, 'radius': 1, '\\xec\\x98\\x81\\xec\\x96\\x91': 1, 'best': 5, '7a7c83': 1, '02': 1, '06': 2, '04': 1, 'away': 2, '4e82ee': 5, 'score': 6, '005dde': 1, 'wa': 1, '183px': 1, 'THEME': 1, '384': 1, '2\\xec\\x9c\\x84': 3, 'news': 26, 'protect': 4, '203px': 1, '\\xed\\x88\\xac\\xed\\x91\\x9c\\xed\\x95\\xb4\\xec\\xa3\\xbc\\xec\\x84\\xb8\\xec\\x9a\\x94': 1, '\\xeb\\xb0\\xb1\\xea\\xb3\\xbc\\xec\\x82\\xac\\xec\\xa0\\x84': 1, 'recomsvc': 4, 'mycafe': 4, '\\xeb\\xa1\\xaf\\xeb\\x8d\\xb0\\xeb\\x8b\\xb7\\xec\\xbb\\xb4': 2, 'cod': 3, '208px': 2, 'login': 56, 'com': 7, 'bbsId': 9, '597px': 1, '\\xeb\\x82\\x9c\\xeb\\xaf\\xbc': 1, '\\xec\\x96\\xb4\\xed\\x95\\x99\\xec\\x82\\xac\\xec\\xa0\\x84': 1, '0QH19': 1, '46475b': 1, 'height': 433, '102': 1, '118px': 2, 'shoppingRecommentBestSaleNextBtn': 1, '103': 2, '112px': 3, '250': 1, 'basis': 9, '125px': 6, 'loginbtn': 1, '20151019182308940': 1, '\\xec\\x95\\x88\\xeb\\x85\\x95': 1, 'bottommenu': 1, '105': 8, '149px': 1, 'life': 13, '\\xec\\xbd\\x94\\xeb\\x94\\x94\\xeb\\xb2\\x95': 1, '\\xec\\x98\\x81\\xec\\x83\\x81\\xec\\xa4\\x91\\xea\\xb3\\x84': 1, 'shop5tabIndex': 1, '55514D010545980001': 1, '627px': 1, 'catch': 1, '\\xeb\\xa7\\x88\\xec\\x9d\\xbc\\xeb\\xa6\\xac\\xec\\xa7\\x80': 1, 'loginbox': 3, '750px': 1, '20151016183616': 1, 'moulian': 1, 'cont': 300, 'ir': 1, '\\xeb\\xb2\\x95\\xeb\\xa5\\x9c': 1, '\\xeb\\xa7\\x88\\xeb\\xac\\xb4\\xeb\\xa6\\xac\\xed\\x95\\x98\\xec\\x9e\\x90': 1, 'loginSubmit': 1, 'in': 5, '\\xeb\\xb3\\x84\\xea\\xb1\\xb0': 1, 'id': 148, 'minitoday': 4, '\\xea\\xb0\\x95\\xeb\\xa6\\x89': 1, 'suggest': 43, '\\xed\\x95\\x98\\xec\\xa7\\x80\\xeb\\xa7\\x8c': 1, '5778ff': 1, '\\xec\\x9d\\x80\\xed\\x96\\x89\\xea\\xb9\\x8c\\xec\\xa7\\x80': 1, '258px': 2, 'split': 1, 'eaebef': 4, '\\xe3\\x85\\x87': 1, '\\xe3\\x85\\x85': 1, '\\xe3\\x85\\x82': 1, 'nil': 25, 'adClock': 1, '\\xe3\\x85\\x8e': 1, 'i2': 6, '\\xe3\\x85\\x8b': 1, '\\xe3\\x85\\x8a': 1, '\\xe3\\x85\\x88': 1, '155px': 2, '180px': 8, 'Y': 1, '6eqiQ': 1, '7c7c7c': 1, '\\xec\\x9d\\xb4\\xec\\x8a\\x88': 2, '263px': 1, '1976': 1, '\\xec\\xa0\\x9c\\xec\\x95\\x88': 1, '\\xed\\x8e\\x98\\xec\\x9d\\xb4\\xec\\xa7\\x809': 1, '\\xed\\x8e\\x98\\xec\\x9d\\xb4\\xec\\xa7\\x808': 1, '\\xec\\x95\\x88\\xec\\x8b\\xac': 2, '\\xea\\xb9\\x80\\xec\\x88\\x98\\xed\\x98\\x84': 2, '\\xed\\x8e\\x98\\xec\\x9d\\xb4\\xec\\xa7\\x807': 2, '\\xed\\x8e\\x98\\xec\\x9d\\xb4\\xec\\xa7\\x805': 1, 'left': 277, '\\xea\\xb8\\x88\\xec\\x9c\\xb5\\xeb\\x8b\\xb9\\xea\\xb5\\xad': 1, 'photo': 12, '757474': 3, '20151005155428': 1, 'quotes': 1, 'f25334': 1, '563\\xeb\\xb3\\x91\\xec\\x82\\xb4': 2, '\\xea\\xb2\\x83': 1, '115px': 1, '0K905': 1, 'bnr': 4, '447px': 1, '\\xeb\\x8b\\x88\\xed\\x8a\\xb8': 1, 'midasb': 1, 'board': 5, 'rightbtm': 6, 'save': 2, '3px': 25, '\\xea\\xb0\\x9c\\xec\\x9d\\xb4\\xeb\\x93\\x9d': 1, '\\xed\\x8c\\xa8\\xec\\x85\\x98\\xed\\x94\\x8c\\xeb\\x9f\\xac\\xec\\x8a\\xa4': 1, 'linkSecurity': 1, 'CB66d': 1, 'background': 472, '5511': 1, 'shadow': 3, 'mediaTitle': 1, '59': 1, '367px': 1, '1559': 7, '50': 5, '21px': 20, '2c74e0': 1, 'security': 4, '467px': 1, '383px': 1, '8035': 1, 'www': 11, 'right': 89, '\\xec\\x9d\\xb4\\xed\\x98\\xbc\\xeb\\x82\\xa8': 1, '466px': 1, 'daumapp': 7, 'ea570a': 1, '9999': 1, 'specialPrevBtn': 1, '\\xed\\x83\\xad': 10, 'ico': 169, '2c7277652a59324ab3bc8cecc1b668b3a0b3684b': 1, 'for': 4, 'bottom': 55, '427px': 3, '\\xec\\xa3\\xbc\\xec\\x9b\\x90': 1, '400px': 13, '130px': 8, '\\xeb\\xb0\\x95': 1, '\\xec\\x86\\x8d': 1, '196adb': 2, '6\\xe2\\x84\\x83': 3, '181': 1, '52px': 7, 'post': 1, '0px': 2, 'storyballTab': 1, '\\xeb\\xb0\\x8f': 3, '\\xeb\\xb0\\xb0': 1, '\\xec\\x86\\xa1': 1, 'storyball': 43, 'o': 2, '9A': 9, 'magazine': 1, '20151019160846743': 1, 'plus': 1, '20151019132536': 1, '\\xec\\xa0\\x91\\xea\\xb7\\xbc\\xec\\x84\\xb1': 1, 'Best': 1, '546px': 1, '\\xec\\xb2\\xad\\xec\\xb6\\x98\\xed\\x8e\\xb8': 1, '\\xeb\\xb8\\x94\\xeb\\xa1\\x9c\\xea\\xb7\\xb8': 3, 'float': 113, '25707': 1, '9D': 14, 'down': 6, '42px': 8, 'wrap': 179, '69px': 3, 'cafehot': 1, '24adc0': 1, 'top13': 1, 'gallery': 1, 'gif': 14, 'gid': 1, '\\xe3\\x84\\xb1': 1, '\\xec\\x9d\\xb4\\xeb\\xa7\\x88\\xed\\x8a\\xb8\\xeb\\xaa\\xb0': 1, '\\xe3\\x84\\xb9': 1, '\\xec\\x8b\\xa0\\xea\\xb7\\x9c\\xec\\x95\\xb1': 1, 'head': 8, 'form': 2, '\\xec\\x84\\x9c\\xeb\\xb9\\x84\\xec\\x8a\\xa4\\xec\\x95\\xbd\\xea\\xb4\\x80': 1, '\\xec\\x9b\\x90': 1, 'lbStln': 1, '\\xec\\x95\\x88\\xeb\\x82\\xb4': 2, '100324511': 1, 'rissue': 20, '\\xec\\x8a\\xa4\\xed\\x8f\\xac\\xec\\xb8\\xa0': 3, 'true': 10, '222': 4, '220': 1, 'reset': 2, '\\xec\\x83\\x81\\xec\\x8a\\xb912': 2, '\\xec\\x9b\\xb9': 1, 'rsquo': 1, 'broadcastLink': 1, '6699': 1, '20px': 32, 'temper': 17, 'mizmagazine': 1, 'labid': 2, '\\xed\\x9d\\xac\\xeb\\xa7\\x9d\\xed\\x95\\xb4': 3, '\\xeb\\xaa\\xa8\\xec\\x9c\\xbc\\xeb\\x8b\\xa4': 1, 'issuerank': 3, '355px': 1, '66px': 15, 'check': 2, 'dotted': 1, 'no': 35, 'tit': 339, 'tip': 22, '\\xec\\xb1\\x85\\xec\\x9d\\x84': 1, '\\xec\\x8a\\xac\\xeb\\xa1\\x9c\\xeb\\xb2\\xa0\\xeb\\x8b\\x88\\xec\\x95\\x84': 1, '\\xeb\\x8c\\x80\\xed\\x86\\xb5\\xeb\\xa0\\xb9': 1, 'roll': 11, '3\\xeb\\x8c\\x80': 1, 'HOT': 1, '775px': 1, 'rolling': 1, 'src': 46, '\\xeb\\xa9\\xb0\\xeb\\x8a\\x90\\xeb\\xa6\\xbd\\xeb\\x8b\\x88\\xeb\\x8b\\xa4': 1, '20121016': 1, 'frameborder': 2, '53px': 8, '98': 13, '\\xed\\x95\\x9c\\xec\\x9e\\x94': 1, '4c62ac18f1d00497f255fb3c72c4ab19cc58a03a': 1, 'daily': 1, '2FNC': 1, '9517': 1, 'fst': 12, '\\xec\\x98\\xa5\\xec\\x85\\x98': 1, '301px': 1, 'push': 3, '7816': 1, '20151015111742': 1, 'webtoon': 12, '91px': 1, '171px': 3, 'shopping4': 1, 'global': 2, 'focus': 2, '\\xec\\x9e\\x8e': 1, 'conthome': 9, '41px': 13, 'show': 1, 'AyUVm': 1, '0': 515, '477ae4': 2, 'shopping4Tab': 1, '96': 2, '36px': 9, 'cook': 7, 'exact': 39, '1528': 1, '77px': 1, 'recruitprocess': 1, 'item': 16, 'mediaPageNum': 1, 'team': 7, 'div': 133, '\\xeb\\xb2\\xa0\\xec\\x8a\\xa4\\xed\\x8a\\xb8100': 1, '8600': 1, 'CJ\\xeb\\xaa\\xb0': 1, 'bg': 22, '101px': 3, '\\xeb\\xb6\\x80\\xec\\x82\\xb0': 1, '1tab': 3, '\\xec\\x96\\xbc\\xea\\xb5\\xb4': 1, 'bold': 21, '\\xec\\x98\\xa4\\xed\\x9b\\x84\\xec\\x97\\x90': 1, '61px': 3, 'themeRecipeList': 2, '\\xed\\x95\\x98\\xed\\x94\\x84\\xed\\x81\\xb4\\xeb\\x9f\\xbd': 1, '\\xeb\\xb6\\x80\\xeb\\x8f\\x99\\xec\\x82\\xb0': 2, '140px': 1, '345': 1, 'specialNextBtn': 1, '\\xec\\xa0\\x9c\\xed\\x9c\\xb4\\xeb\\xac\\xb8\\xec\\x9d\\x98': 1, 'funTab': 1, 'entertain': 10, 'address': 1, '0K906': 1, 'box': 51, '199px': 1, '\\xec\\xa3\\xbc\\xec\\x9a\\x94': 2, '\\xec\\x95\\xa0\\xed\\x94\\x8c': 1, '26292a': 1, 'rank10': 3, 'fc6870': 1, 'love': 1, '46px': 5, '92px': 2, '20ae92ad23614ff09bbe9aa16bbaf84d': 1, '170px': 23, 'realTimeSearchWord': 1, 'nowrap': 16, 'newsTab': 1, 'market': 1, '4af837637adfc2b1701c785f0f9c0d55ec2184ec': 1, 'helvetica': 2, 'sports': 17, 'live': 2, 'https': 7, 'msg': 5, '\\xec\\x97\\xb0\\xec\\x98\\x88': 2, 'inputPwd': 2, 'today': 225, '\\xea\\xb0\\x80\\xec\\x9d\\x84': 2, '37px': 5, '\\xeb\\xaa\\xa8\\xec\\x9e\\x84\\xec\\x97\\x90': 1, '\\xea\\xb8\\xb0\\xeb\\x8b\\xa4\\xeb\\xa6\\xbc': 1, '209bdb': 2, '8\\xec\\x9c\\x84': 2, 'hope': 15, 'iframe': 6, '218px': 1, 'Daum': 1, 'd8d9db': 2, '7px': 36, 'rtupkwd': 20, '29px': 3, 'topic': 2, 'celsius': 1, '20151019114049': 1, '7\\xec\\x9c\\x84': 2, '\\xec\\xbb\\xac\\xed\\x88\\xac\\xec\\x87\\xbc': 1, '235': 1, 'spe': 27, 'charset': 1, 'shining': 1, 'gulim': 7, '1': 118, 'type2': 25, 'item10': 2, '259px': 1, '96969b': 1, 'shoppingbox': 2, '143': 1, 'max': 2, '139px': 2, 'efebee360e804d8e877af1f0ae78c8f8': 1, '414141': 1, '\\xea\\xb8\\xb0\\xec\\x95\\xbd\\xec\\x97\\x86\\xeb\\x8a\\x94': 1, '515px': 4, '154px': 2, '181px': 8, 'outline': 3, 'CCB2Q': 1, '\\xed\\x84\\xb8\\xea\\xb9\\x8c\\xec\\xa7\\x80': 1, '\\xec\\xa0\\x95\\xeb\\xb3\\xb4': 8, '188px': 11, '20151019142853010': 1, 'q': 28, 'sh': 1, '\\xed\\x8c\\xa8\\xec\\x85\\x98': 1, '\\xeb\\x94\\xb0\\xeb\\x9c\\xbb\\xed\\x95\\x9c': 1, '\\xea\\xb5\\xac\\xeb\\xa6\\x84\\xec\\xa1\\xb0\\xea\\xb8\\x88': 1, '1430px': 8, 'talk': 1, '69788': 1, '385px': 1, 'mbn': 1, 'lst': 5, '20121026': 1, 'pointer': 18, '20121023': 2, '\\xed\\x81\\xb0': 1, '\\xeb\\xb3\\xb4\\xea\\xb3\\xa0': 1, 'group': 1, 'thumb': 52, 'servicepolicy': 1, 'hot': 3, '434a55': 1, 'mycont': 16, 'policy': 20, 'ndash': 1, 'tiara': 4, '\\xeb\\xa1\\x9c\\xeb\\x93\\x9c\\xeb\\xb7\\xb0': 1, '87': 1, 'blockquote': 4, '\\xeb\\x91\\x90\\xec\\x82\\xb0': 2, 'finance': 4, '\\xed\\x86\\xb5\\xed\\x95\\xa9': 1, '\\xeb\\xb2\\x95': 1, 'e5333d': 1, 'name': 13, 'loginform': 2, '\\xed\\x94\\xbc\\xed\\x95\\xb4': 1, '3f4145': 1, 'miznetTab': 1, '\\xec\\xa0\\x9c\\xeb\\xaa\\xa9': 22, 'h': 1, 'em': 69, '1165px': 1, 'shoppingPopularEventTab': 1, '\\xec\\x9a\\xb8\\xec\\x96\\xb4\\xeb\\xb3\\xb8': 1, '\\xea\\xb9\\x80\\xec\\x9e\\xac\\xec\\xb6\\x98': 1, 'G\\xeb\\xa7\\x88\\xec\\xbc\\x93': 1, '\\xec\\xa0\\x90\\xec\\x88\\x98': 1, '\\xec\\xa0\\x84\\xea\\xb8\\xb0\\xec\\xb0\\xa8\\xec\\x8b\\x9c\\xec\\x9e\\xa5': 1, 'space': 18, '\\xeb\\x91\\x98\\xec\\xa7\\xb8': 1, '705px': 1, 'K2\\xeb\\x82\\x9c\\xeb\\xa6\\xac\\xeb\\x82\\xac\\xec\\x96\\xb4': 1, 'daum': 374, 'searchbox': 2, '\\xec\\x9d\\xb4\\xec\\x9b\\x94\\xed\\x8f\\xad\\xed\\x83\\x84\\xed\\x8a\\xb9\\xea\\xb0\\x80': 1, '\\xeb\\xaf\\xb8\\xec\\xa6\\x88\\xeb\\x84\\xb7': 2, 'after': 2, 'imgtxt': 14, '1130': 8, 'miztalk': 3, '20': 6, '138px': 1, 'span': 162, '347px': 1, 'entertainTab': 1, '\\xeb\\xa7\\x9d\\xed\\x95\\x9c\\xeb\\x8b\\xa4': 1, 'recom': 14, '\\xec\\x96\\x98': 1, '\\xec\\x8b\\xb6\\xec\\x9d\\x80': 1, 'promotion': 11, 'ATG': 20, '\\xec\\x95\\x84\\xeb\\x8b\\x8c\\xeb\\x8d\\xb0': 1, '379px': 2, '\\xec\\xb9\\xbc': 1, '\\xeb\\xb0\\x98\\xea\\xb0\\x80\\xec\\x9b\\x8c': 1, 'topbar': 1, 'rere': 5, 'shoppingPageNum': 1, 'localWeatherTitle': 1, 'ring': 1, 'eduTab': 1, 'open': 2, 'size': 77, 'city': 15, '600px': 2, 'checked': 1, 'ec0000': 1, 'dedede': 1, '4c4c4c': 1, '2': 44, '117px': 4, '\\xed\\x9a\\x8c\\xec\\x82\\xac\\xec\\x86\\x8c\\xea\\xb0\\x9c': 1, '\\xea\\xb5\\xb4\\xeb\\xa6\\xbc': 7, '\\xed\\x99\\x95\\xec\\xa0\\x95': 1, '88px': 1, 'cite': 1, '89px': 5, '\\xea\\xb2\\x8c': 1, '410px': 3, 'MZ025': 1, '\\xeb\\xb3\\xb4\\xed\\x98\\xb8\\xeb\\xa5\\xbc': 1, '\\xeb\\x88\\x88': 1, 'copy': 13, '\\xeb\\x82\\xa0\\xec\\x94\\xa8': 3, 'png': 36, '11': 4, '10': 14, '13': 3, '12': 2, '15': 1, '14': 1, '16': 2, '19': 6, '18': 1, 'stln': 3, 'recruit': 2, '\\xec\\x86\\x8c\\xed\\x98\\xb8': 2, '330px': 4, '\\xec\\x83\\x81\\xec\\x8a\\xb96': 2, '365px': 3, '\\xec\\x83\\x81\\xec\\x8a\\xb94': 8, 'eeeef0': 6, '\\xec\\x83\\x81\\xec\\x8a\\xb98': 2, '\\xec\\xb2\\xad\\xec\\xa3\\xbc': 1, '\\xec\\x97\\xac\\xec\\xa4\\x91\\xec\\x83\\x9d': 1, 'pre': 1, '\\xeb\\xb0\\x94\\xec\\x9a\\xb0\\xeb\\xb0\\x94\\xec\\x9a\\xb0': 1, '485px': 1, '8f845ba816f8628c13e630b5276e806df07d062b': 1, 'DA': 29, 'shtml': 1, '\\xed\\x85\\x8c\\xec\\x8a\\xac\\xeb\\x9d\\xbc\\xea\\xb0\\x80': 1, '\\xea\\xb0\\x80': 1, 'aside': 2, '3\\xec\\x9c\\x84': 3, 'AXyED': 1, 'mazia': 1, '\\xea\\xb2\\xbd\\xea\\xb8\\xb0\\xec\\x8b\\x9c\\xea\\xb0\\x84': 1, '15px': 73, '\\xeb\\xa7\\x8c\\xed\\x99\\x94': 1, 'normal': 17, 'track': 1, 'price': 7, '406px': 1, '\\xec\\xa7\\x91\\xec\\x97\\x90\\xec\\x84\\x9c\\xeb\\x8f\\x84': 1, 'middot': 2, 'icon': 9, '1760px': 1, '\\xec\\x8b\\x9c\\xec\\xa6\\x8c2': 1, '1\\xec\\x9c\\x84': 4, 'pageIndex': 1, 'textarea': 4, '280px': 13, '\\xec\\xa0\\x9c\\xed\\x95\\x9c': 1, 'steady': 13, 'sale': 4, '\\xed\\x95\\x98\\xec\\x8b\\xa4\\xeb\\x9e\\x98\\xec\\x9a\\x94': 1, '54px': 12, 'thesong': 18, 'soho': 1, '\\xec\\xb0\\xac\\xeb\\xb0\\x94\\xeb\\x9e\\x8c': 1, '20151019183604327': 1, 'width': 347, 'shop': 62, '\\xea\\xb3\\x84\\xec\\xa0\\x88': 1, '180737331': 1, '165px': 1, 'recipe': 5, '\\xeb\\xb2\\x8c\\xeb\\xa9\\xb4': 1, '182311511': 1, '378px': 6, '1226px': 1, 'storyTitle': 1, '\\xeb\\x94\\xb0\\xeb\\xa5\\xb8': 1, '\\xec\\xa7\\x80\\xec\\x97\\xad': 2, '\\xec\\x86\\x8c\\xea\\xb0\\x9c': 1, '40px': 16, 'upgrade': 1, 'title': 36, '\\xed\\x98\\x84\\xec\\x9e\\xac': 9, '\\xec\\x88\\x98\\xec\\x9b\\x90': 1, 'ededed': 1, '\\xec\\xb9\\xad\\xec\\xb0\\xac\\xec\\x9d\\xbc\\xea\\xb9\\x8c': 1, '\\xeb\\x8b\\xa4\\xec\\x8b\\x9c': 1, '201509150948': 1, '444px': 2, '222px': 1, '4883': 1, 'phonenumberlogin': 1, 'halfclub': 1, 'b8bbbf': 2, '\\xeb\\x9c\\xa8\\xea\\xb1\\xb0\\xec\\x9a\\xb4': 1, '\\xeb\\xb3\\xb4\\xeb\\xa9\\xb0': 1, '\\xec\\x9a\\xb0\\xeb\\xa6\\xac': 1, '20151015154148': 1, '\\xeb\\x88\\x8c\\xeb\\x9f\\xac\\xec\\xa3\\xbc\\xec\\x84\\xb8\\xec\\x9a\\x94': 22, '74px': 1, '\\xec\\xb6\\x98\\xec\\xb2\\x9c': 1, 'myinfo': 1, '219px': 1, '\\xec\\x9a\\x94\\xeb\\xa6\\xac': 1, '8\\xe2\\x84\\x83': 2, '\\xec\\xa4\\x91\\xea\\xb3\\x84\\xec\\x84\\xbc\\xed\\x84\\xb0': 1, 'cacbce': 1, 'relative': 47, '\\xea\\xb4\\x91\\xea\\xb3\\xa0': 3, '134846': 1, 'movieTab': 1, 'calendar': 2, 'adTime': 1, '11\\xeb\\xb2\\x88\\xea\\xb0\\x80': 1, '49px': 1, '\\xeb\\x89\\xb4\\xec\\x8a\\xa4\\xed\\x8e\\x80\\xeb\\x94\\xa9': 1, 'C8sel': 1, 'favorsch': 3, '880px': 4, '60px': 8, 'label': 18, '3': 13, '2px': 25, 'import': 3, '\\xec\\x9a\\xb8\\xeb\\xa6\\x89\\xeb\\x8f\\x84': 1, 'notice': 34, 'F50x50ht': 2, 'vertical': 93, 'logins': 1, 'screen': 15, '250px': 6, 'js': 1, '405px': 1, 'sovomall': 1, 'article': 5, '\\xec\\xa3\\xbc\\xec\\x84\\xb8\\xec\\x9a\\x94': 1, '\\xeb\\x8b\\xa4\\xec\\x9d\\x8c': 9, 'z': 26, 'mono': 1, '1248px': 1, '283px': 3, '4\\xe2\\x84\\x83': 1, 's': 6, '210px': 4, '\\xed\\x95\\x98\\xeb\\x8a\\x94\\xea\\xb1\\xb0\\xec\\xa7\\x80': 1, 'color': 201, '\\xea\\xb2\\x80\\xec\\x83\\x89\\xec\\x96\\xb4': 1, '166px': 2, 'lotteimall': 1, 'pop': 2, '\\xec\\x8a\\xa4\\xed\\x85\\x8c\\xec\\x9d\\xb4\\xed\\x81\\xac': 1, '60': 5, '\\xed\\x98\\x84\\xeb\\x8c\\x80H\\xeb\\xaa\\xb0': 1, '205px': 4, '93px': 3, '68': 7, '9999px': 31, '177px': 1, 'emart': 1, '7153': 1, '47px': 8, 'shop1': 10, 'shop3': 9, 'shop2': 9, 'shop5': 9, 'shop4': 9, 'direction': 1, 'shopping': 47, '221px': 1, '34px': 5, 'spirit': 3, '6GsSb': 1, '\\xeb\\x88\\x84\\xeb\\x9f\\xb0\\xec\\xb9\\x98\\xec\\x95\\x84\\xec\\xb4\\x88\\xea\\xb0\\x84\\xeb\\x8b\\xa8\\xed\\x95\\xb4\\xea\\xb2\\xb0\\xeb\\xb2\\x9525000': 1, '\\xed\\x94\\xbc\\xec\\xa7\\x80': 1, 'adMinOne': 1, '1102': 5, '\\xec\\x9d\\xb4\\xec\\x9c\\xa0\\xeb\\x8a\\x94': 1, '75px': 7, 'wrapper3': 1, 'wrapper2': 1, 'wrapper1': 1, 'wrapper7': 1, '2da3a80787394ae3bf34b1454318287a': 1, 'wrapper5': 1, 'wrapper4': 1, 'wrapper9': 1, '20151019171604150': 1, '\\xec\\x9a\\xb8\\xec\\x96\\xb4\\xeb\\xb2\\x84\\xeb\\xa6\\xb0': 1, '485a1fcf366c41569ec9d7ca0a233c3e': 1, 'middle': 4, 'adMinTen': 1, '\\xec\\x9c\\xa0\\xec\\x9d\\xb5\\xed\\x95\\x9c': 2, 'funNextBtn': 1, '\\xeb\\xb0\\x98\\xed\\x95\\xb4': 1, '72TBM': 1, '48px': 5, 'media': 71, 'html': 8, '63px': 6, 'propose': 1, '106px': 1, 'document': 2, 'status': 6, '\\xeb\\x8c\\x80\\xec\\xa0\\x84': 1, '\\xec\\xb0\\xa8\\xea\\xb4\\x80': 1, 'knowhow': 1, 'baseBox': 3, 'ef1f6c5fc85c41a0b300caefbd5cc6fb': 1, '251px': 2, '146px': 1, 'cartoon': 2, '\\xec\\x98\\x81\\xed\\x99\\x94': 3, 'mizmom': 1, 'todayWeatherDesc': 1, '\\xed\\x8e\\x98\\xec\\x9d\\xb4\\xec\\xa7\\x8011': 1, '776px': 1, 'daumcorp': 1, '\\xec\\x8b\\xa0\\xec\\x84\\xb8\\xea\\xb3\\x84\\xeb\\xaa\\xb0': 1, '69800': 1, 'wrapper6': 1, '269px': 1, '219': 1, '\\xec\\xa0\\x84\\xec\\xb2\\xb4\\xeb\\xb3\\xb4\\xea\\xb8\\xb0': 2, 'reverseType': 2, 'underline': 9, '2Fteam': 2, '922px': 1, 'blog': 23, '14px': 61, '4': 14, '\\xeb\\xa7\\x9b\\xec\\x9e\\x88\\xea\\xb2\\x8c': 1, '19\\xec\\x9d\\xbc': 1, '\\xeb\\xb0\\x94\\xeb\\xa1\\x9c\\xea\\xb0\\x80\\xea\\xb8\\xb0': 7, '1980px': 1, 'moz': 1, 'hover': 40, 'pso': 6, 'read': 8, 'eventlist': 2, 'CB61S': 1, '81px': 1, 'amp': 140, 'IP\\xeb\\xb3\\xb4\\xec\\x95\\x88': 3, '35px': 10, 'fortune': 3, '245px': 1, '\\xeb\\xb3\\x80\\xea\\xb2\\xbd\\xec\\x97\\x90': 1, '\\xea\\xb0\\x80\\xec\\xa7\\x9c': 1, 't': 7, '\\xec\\x9e\\x90\\xeb\\x8f\\x99\\xec\\x8b\\xa4\\xed\\x96\\x89': 1, 'colon': 2, '\\xec\\xa0\\x9c\\xec\\xa3\\xbc': 1, 'svcmove': 1, 'gaia': 9, '5\\xec\\x9c\\x84': 2, 'cancel': 1, 'ec2c2f': 1, '\\xeb\\x8b\\x88': 1, '\\xec\\xb2\\xad\\xec\\x86\\x8c\\xeb\\x85\\x84\\xeb\\xb3\\xb4\\xed\\x98\\xb8\\xec\\xa0\\x95\\xec\\xb1\\x85': 1, '\\xec\\xa0\\x95\\xeb\\xa7\\x90': 1, 'lotto': 1, '\\xea\\xb5\\xac\\xeb\\x8f\\x85\\xec\\x9e\\x90\\xec\\x88\\x98': 4, '\\xeb\\xaa\\xa8\\xea\\xb3\\xb5': 1, '3Fv': 2, 'ddd': 1, 'realestateTab': 1, '\\xec\\xb4\\x9d': 7, '126px': 22, '5583BD950449050001': 1, '\\xec\\x84\\xa0\\xea\\xb4\\x80\\xec\\x9c\\x84': 1, '\\xec\\x97\\xb4\\xed\\x98\\x88\\xeb\\x8f\\x85\\xec\\x9e\\x90': 2, 'mypeer': 1, 'shop3tabIndex': 1, 'on': 83, 'ol': 6, 'oc': 10, 'newsbox': 2, 'or': 1, 'da4453': 1, '3770bf': 1, 'image': 27, '1100px': 1, 'accounts': 2, '\\xec\\xb0\\xbe\\xec\\x95\\x84\\xec\\x98\\xa4\\xea\\xb2\\xa0\\xec\\xa3\\xa0': 1, 'area': 2, 'imgshop': 3, 'NC': 2, 'writeln': 2, 'start': 6, '20151019171503100': 1, '\\xe9\\x9d\\x91\\xed\\x9a\\x8c\\xeb\\x8f\\x99': 1, '451px': 3, '116px': 4, '25ad8b': 1, 'shoppingTodaySaleNextBtn': 1, '109936': 1, '\\xec\\x9b\\x94\\xea\\xb8\\x89': 2, '80px': 10, 'CCB7b': 1, '\\xec\\x98\\xb9\\xec\\x8b\\xac\\xec\\x9d\\xb4': 1, 'with': 1, '1023': 1, 'default': 46, '244px': 1, 'agora': 10, 'ad': 30, 'gameTab': 1, '\\xea\\xb3\\xa0\\xec\\x96\\x91\\xec\\x9d\\xb4\\xeb\\x8f\\x84': 1, 'intro': 7, '\\xed\\x83\\x80\\xeb\\xaf\\xb8\\xed\\x9e\\x90\\xed\\x94\\xbc\\xea\\xb1\\xb0': 1, '484px': 1, 'mediaTab': 1, 'again': 3, 'viewport9': 1, 'viewport8': 1, '5': 17, 'viewport3': 1, 'viewport2': 1, 'viewport1': 1, 'viewport7': 1, 'viewport6': 1, 'viewport5': 1, 'viewport4': 1, 'opacity': 4, 'time': 29, '\\xeb\\xa0\\x88\\xea\\xb9\\x85\\xec\\x8a\\xa4': 1, 'd5d4d8': 1, '303030': 1, '127px': 2, '3f78df': 1, '\\xeb\\xaf\\xb8\\xeb\\x94\\x94\\xec\\x96\\xb4': 2, '397ce0': 1, 'u': 2, '\\xec\\x9d\\xb4\\xec\\xa0\\x84': 7, '\\xec\\x98\\xa4\\xeb\\x8a\\x98\\xeb\\xa7\\x8c': 1, 'all': 7, 'tierBottomWrap': 1, 'sch': 6, '737373': 2, '\\xec\\xa4\\x91\\xec\\x83\\x9d\\xeb\\x8c\\x80': 1, '7d2b732170c44c83b0e6af53627a9224': 1, 'daumFoot': 1, '\\xec\\x98\\xa4\\xeb\\xa5\\xb8\\xed\\x8c\\x94': 1, 'tahoma': 5, 'alt': 39, 'disk': 1, '375px': 1, 'eaeaed': 2, '\\xeb\\x8f\\x8b\\xec\\x9b\\x80': 8, '370px': 5, 'tv': 23, 'to': 2, 'init': 50, '\\xec\\x9e\\x87\\xeb\\x8b\\xa4': 1, 'th': 14, 'tf': 7, '\\xea\\xb1\\xb0\\xec\\xa0\\x88\\xed\\x95\\x98\\xeb\\x8a\\x94': 1, 'td': 2, 'vert': 42, 'song': 18, 'faq': 1, 'rtupcoll': 20, 'util': 3, '1px': 169, '7\\xea\\xb0\\x80\\xec\\xa7\\x80': 1, '\\xed\\x99\\x88\\xed\\x94\\xbc\\xed\\x8a\\xb8\\xeb\\x8b\\x88\\xec\\x8a\\xa4': 1, 'mobileweb': 4, 'sans': 20, '290px': 22, 't4': 9, 'list': 175, 't1': 32, '16171': 1, '16176': 1, '16175': 1, '\\xec\\x97\\xac\\xec\\x88\\x98': 1, '192': 1, 'dfn': 1, 'sug': 2, 'todaybrand': 2, 'sub': 5, 'todayWeatherTemperature': 1, 'section': 112, '\\xea\\xb0\\x91\\xec\\x9e\\x90\\xea\\xb8\\xb0': 1, 'rgba': 2, '\\xea\\xbd\\x83': 1, 'method': 1, '353px': 1, '\\xeb\\x8b\\xab\\xea\\xb8\\xb0': 2, '68px': 2, 'bnr2': 3, 'talkNextBtn': 1, '1320px': 3, 'strong': 101, 'legend': 1, 'talkPageNum': 1, '\\xeb\\xaf\\xb8\\xec\\x8b\\x9c\\xec\\x98\\xb7': 1, '\\xec\\x8b\\xb6\\xec\\x96\\xb4\\xed\\x95\\x98\\xeb\\x8a\\x94': 1, 'search': 72, '\\xec\\x9c\\xa0\\xec\\x82\\xb0': 1, 'margin': 155, '282px': 1, '\\xeb\\xb3\\xb4\\xeb\\xa6\\x84\\xeb\\x8b\\xac': 1, 'action': 1, '\\xec\\xb6\\x94\\xec\\xb2\\x9c': 2, '\\xeb\\xb3\\xb4\\xed\\x98\\xb8\\xec\\x86\\x8c\\xec\\x97\\x90\\xec\\x84\\x9c': 1, 'family': 15, 'shopping2Tab': 1, '211px': 1, '\\xea\\xb2\\xa8\\xec\\x9a\\xb8\\xec\\x95\\x84\\xea\\xb8\\xb0\\xeb\\x8b\\xa4\\xeb\\xa0\\xa4': 1, 'href': 161, '167px': 6, '228px': 1, 'select': 3, 'mediaPrevBtn': 1, 'shoppingPrevBtn': 1, 'BjjMY': 1, '248': 1, 'Corp': 1, '\\xea\\xb4\\x91\\xea\\xb3\\xa0\\xec\\x95\\x88\\xeb\\x82\\xb4': 1, '6': 12, 'more': 4, 'wrapper8': 1, '235px': 1, '\\xea\\xb4\\x80\\xeb\\xa0\\xa8': 2, '\\xea\\xb0\\x9c\\xec\\x9d\\xb8\\xec\\xa0\\x95\\xeb\\xb3\\xb4': 1, '220px': 9, '\\xeb\\x8c\\x80\\xea\\xb5\\xac': 1, '\\xed\\x94\\x8c\\xeb\\xa0\\x88\\xec\\x9d\\xb8': 1, 'webkit': 6, '\\xeb\\x85\\xb8\\xed\\x95\\x98\\xec\\x9a\\xb0': 1, 'none': 63, 'hour': 2, '28px': 6, 'autocomplete': 1, '291px': 2, 'mall': 7, '\\xec\\xa2\\x8b\\xea\\xb3\\xa0': 1, 'v': 35, '\\xec\\x82\\xb4\\xec\\x9d\\xb8\\xeb\\xb2\\x94': 1, 'num4': 5, 'num5': 2, 'num6': 2, 'num7': 2, 'num0': 3, 'num1': 8, 'num2': 7, 'num3': 6, 'num8': 2, 'num9': 2, 'accept': 1, '\\xec\\xbd\\x94\\xeb\\x94\\x94': 1, 'shoppingTodaySalePrevBtn': 1, '740px': 1, '3\\xe2\\x84\\x83': 3, '\\xec\\x9d\\xbc\\xec\\xa3\\xbc\\xec\\x9d\\xbc\\xec\\x9d\\xb4': 1, 'breaking': 4, 'typetxt': 4, '\\xec\\xb9\\xb4\\xed\\x8e\\x98': 4, '62px': 4, '1698': 1, '\\xec\\x95\\x84\\xec\\x9d\\xb4\\xeb\\x94\\x94': 2, '1279': 1, 'fr': 1, '107px': 1, 'fw': 2, 'internet': 1, '229px': 1, 'a5a6ac': 5, 'horizontal': 13, 'marginheight': 2, 'fl': 2, '655px': 1, 'a': 166, 'bannerad': 1, 'todayWeatherLocalBtn': 1, 'footer': 15, 'daumContent': 1, '609px': 1, 'register': 1, 'shopTabIndex': 4, 'menu2': 1, 'menu3': 1, 'menu1': 1, 'marginwidth': 2, '8f8f8f': 1, 'inline': 45, '649px': 1, '3D20150718': 2, 'checkbox': 2, 'help': 2, '\\xed\\x98\\x84\\xec\\x9c\\x84\\xec\\xb9\\x98': 1, 'disabled': 1, '61646e': 1, '216px': 1, 'fff': 32, 'newapp': 1, 'style': 8, '5585': 1, 'arial': 2, '21': 3, '22': 1, 'myblog': 4, '28': 2, '\\xec\\x83\\x81\\xed\\x92\\x88': 3, '\\xec\\x87\\xbc\\xed\\x95\\x91\\xeb\\xaa\\xb0': 1, '00015': 2, '94px': 2, 'rank6': 3, 'breakingnews': 1, '2F': 2, '943px': 1, '320px': 1, '69802': 1, 'foot': 16, '227px': 2, '\\xec\\x9e\\xac\\xeb\\xb3\\xb4\\xec\\x84\\xa0': 1, '6\\xec\\x9c\\x84': 2, '2FOB': 1, '\\xeb\\x93\\xa4\\xea\\xb9\\xa8': 1, '420px': 2, '\\xeb\\xa3\\xa8\\xeb\\xa6\\xac\\xec\\x9b\\xb9': 1, '32px': 7, 'talkGrpTab': 1, '\\xeb\\xaa\\x85\\xea\\xb2\\xac': 1, 'weight': 28, 'b7c1ca': 1, '\\xec\\x9e\\x84\\xec\\x8b\\xa0\\xec\\x8b\\x9c\\xed\\x82\\xa8': 1, 'kakaocorp': 1, 'event': 68, '\\xed\\x99\\x80\\xec\\x8b\\x9c\\xec\\x95\\x84\\xeb\\xb2\\x84\\xec\\xa7\\x80': 1, 'SH2': 1, 'p': 3, 'adTimeSponsor': 1, 'f0f0f0': 2, '\\xed\\x9a\\x8c\\xec\\x9b\\x90\\xea\\xb0\\x80\\xec\\x9e\\x85': 1, '7': 11, '\\xeb\\x82\\xa0\\xec\\x94\\xa8\\xec\\x97\\x90': 1, '16144': 1, 'issue': 87, 'E3': 1, '4px': 37, '\\xeb\\xb0\\x94\\xeb\\xa1\\x9c': 22, '104px': 1, 'ED': 17, 'EA': 8, 'story': 126, 'EC': 59, 'EB': 24, 'shopping5': 1, '\\xec\\x9d\\xb4\\xeb\\xa9\\x94\\xec\\x9d\\xbc': 1, 'blue2': 1, 'shopping1': 1, 'shopping3': 1, 'shopping2': 1, '144px': 2, '507px': 1, '\\xed\\x85\\x8c\\xec\\x9e\\x84\\xec\\xa6\\x88': 2, 'tabcont': 74, 'miznet': 28, 'caption': 1, 'w': 30, 'shophow': 13, '\\xeb\\x82\\xa0\\xec\\xa7\\x9c': 1, 'tabindex': 20, 'talkPrevBtn': 1, 'rightbottom': 1, '\\xeb\\xb0\\x91\\xeb\\xb0\\x98\\xec\\xb0\\xac': 1, 'cafeTab': 1, '159px': 5, 'blank': 32, '23px': 16, '267px': 1, 'script': 1, 'adCgiCache': 2, '2Flogo': 2, 'station': 2, '\\xec\\x86\\x8d\\xeb\\xb3\\xb4': 1, 'weblogin': 1, '\\xea\\xb0\\x80\\xeb\\x93\\x9d': 1, '390px': 6, 'part': 191, 'f9f9f9': 1, '878787': 4, 'b': 7, 'GDAXI': 1, 'shopbest': 38, '4559e9': 6, 'minitodayBtn': 1, '\\xed\\x95\\x98\\xeb\\xa3\\xa8': 1, '\\xed\\x8f\\xb0\\xeb\\xb2\\x88\\xed\\x98\\xb8': 1, '247px': 1, 'e73923': 2, '\\xeb\\xb3\\xb4\\xeb\\x8a\\x94': 1, '\\xea\\xb4\\x91\\xec\\xa3\\xbc': 1, 'CB6dx': 5, '\\xec\\xa0\\x84': 22, '\\xec\\xa0\\x80': 1, 'mallmenu1': 1, 'mallmenu2': 1, '\\xec\\xa0\\x90': 1, 'w40': 2, 'w41': 2, '777': 4, '64': 2, '6Gsiv': 1, '71': 1, '70': 24, 'alpha': 2, '120px': 9, 'mobile': 1, 'clear': 12, '\\xec\\xbd\\x94\\xec\\xbd\\x94\\xec\\x95\\x84\\xeb\\xa5\\xbc': 1, '145px': 9, '\\xec\\xb0\\xa8': 1, '\\xeb\\x89\\xb4\\xec\\x8a\\xa4\\xed\\x99\\x88': 1, '88dbf2fb72e6aa3f8cc9da9d1d71995878d51c58': 1, '\\xec\\x95\\x84\\xec\\x9d\\xb4\\xec\\x8a\\xa4\\xec\\x97\\xa3\\xec\\xa7\\x80': 1, '666': 2, '\\xec\\xa1\\xb1\\xed\\x83\\x80\\xec\\x9a\\xb0\\xeb\\x8f\\x99': 2, 'shoppingTodaySalePageNum': 1, 'ef4642c5b4584145a0061ef23c75c194': 1, 'font': 129, 'find': 8, '\\xea\\xb0\\x90\\xec\\x9e\\x90': 1, 'cell': 1, 'copyright': 1, '22px': 19, 'todayWeatherTemperatureTxt': 1, 'ipSecurity': 2, '\\xeb\\xaa\\xa8\\xeb\\xb0\\x94\\xec\\x9d\\xbc': 1, '8': 12, 'CCBpW': 1, '\\xeb\\x8f\\x99\\xeb\\x82\\xa8\\xea\\xb5\\xac': 1, '\\xec\\x88\\x98\\xeb\\x82\\xa9\\xea\\xb9\\x8c\\xec\\xa7\\x80\\xec\\x99\\x84\\xeb\\xb2\\xbd': 1, '\\xea\\xb0\\x9c\\xec\\xa0\\x95': 1, 'shoppingPopularEvent': 1, '2Fsports13': 2, '415px': 1, '\\xeb\\x82\\x98\\xec\\x9d\\x98': 1, '\\xeb\\x8c\\x80': 3, 'dtgd': 1, 'ie6': 7, 'x': 4, '246px': 1, 'set': 30, 'daysale': 8, '\\xeb\\xb6\\x88': 1, '55px': 18, '\\xec\\x9c\\x84\\xed\\x95\\xb4': 1, 'close': 8, '72px': 2, 'f4f5f7': 1, '\\xec\\x8a\\xa4\\xed\\x86\\xa0\\xeb\\xa6\\xac\\xeb\\xb3\\xbc\\xed\\x99\\x88': 1, '360px': 1, 'movie': 13, '797px': 1, 'newsfund': 3, 'vdorelay': 2, 'C190x105': 7, 'europe': 2, 'javascript': 3, '\\xeb\\xb8\\x8c\\xeb\\x9f\\xb0\\xec\\xb9\\x98': 2, '\\xec\\x83\\x9d\\xeb\\xb0\\xa9\\xec\\x86\\xa1\\xec\\x98\\xa4\\xeb\\x8a\\x98\\xec\\xa0\\x80\\xeb\\x85\\x81': 2, '939px': 1, '\\xeb\\xa9\\x94\\xec\\x9d\\xbc': 1, 'topalpha': 1, '\\xea\\xb3\\xa0\\xec\\x86\\x8c\\xed\\x95\\x98\\xea\\xb3\\xa0': 1, '\\xeb\\xa7\\x8c\\xeb\\x82\\x98\\xea\\xb3\\xa0': 1, 'youthpolicy': 2, 'both': 11, 'c': 15, 'size3': 1, 'simple': 5, 'TMZ': 5, 'offSuggest': 1, 'header': 1, '285px': 17, '\\xed\\x83\\xb1\\xea\\xb8\\x80\\xed\\x83\\xb1\\xea\\xb8\\x80': 1, 'TMN': 3, 'pw': 7, '\\xea\\xb8\\xb0\\xec\\x96\\xb5\\xec\\x9d\\xb4': 1, '103px': 6, '959595': 3, '888': 1, 'infopolicy': 1, '236px': 1, 'gap': 1, '16169': 1, 'f8f9fa': 1, 'GS\\xec\\x83\\xb5': 1, '\\xec\\x8b\\xac\\xed\\x94\\x8c\\xed\\x95\\x9c': 1, '16px': 28, '\\xed\\x8c\\x81': 3, '233px': 1, 'solid': 53, 'shoppingTodaySale': 1, '20151016141603': 1, 'error': 1, 'fun': 11, '\\xeb\\xb2\\xa0\\xec\\x8a\\xa4\\xed\\x8a\\xb8': 2, 'guide': 21, '535353': 1, 'jpg': 12, 'decoration': 25, '20151019143730': 1, '\\xec\\xb0\\xb9\\xec\\x8c\\x80\\xec\\xa3\\xbd': 1, '\\xec\\x8a\\xa4\\xeb\\x8b\\x98\\xec\\x9d\\x98': 1, 'ric': 2, '\\xea\\xb0\\x80\\xec\\xa0\\xb8\\xec\\x98\\xa4\\xea\\xb8\\xb0': 22, '20151019161320876': 1, 'MT012': 1, '9': 8, '\\xeb\\xb0\\x98\\xec\\x9d\\x91': 1, 'specialPageNum': 1, '26px': 6, '000': 16, 'user': 23, 'BjjMa': 1, '\\xeb\\x8d\\x94\\xeb\\xb3\\xb4\\xea\\xb8\\xb0': 2, '\\xec\\x9e\\x88\\xeb\\x82\\x98\\xec\\x9a\\x94': 1, '\\xeb\\x8b\\xa4\\xec\\x9d\\xb4\\xec\\x96\\xb4\\xed\\x8a\\xb8': 1, 'bababa': 1, '608px': 1, '\\xec\\xa1\\xb0\\xec\\x83\\x81': 1, 'y': 2, '\\xec\\x82\\xac\\xec\\x9a\\xa9\\xed\\x95\\xb4': 1, '\\xec\\x95\\x84\\xea\\xb3\\xa0\\xeb\\x9d\\xbc': 2, '344\\xea\\xb3\\xb3': 1, '770px': 1, 'd40400': 1, '217px': 2, 'loading': 2, '3034c93ac5cc4af48d3374e0c8d42952': 1, 'readers': 8, '169px': 1, 'shortcut': 7, '999em': 2, '9b01bc': 1, 'location': 1, 'topexpand': 1, 'input': 11, '160px': 6, '1094': 1, '95px': 6, 'big': 6, '399px': 2, '71039929': 2, 'game': 25, '20110721': 2, '940px': 6, 'PC\\xec\\x97\\x90\\xec\\x84\\x9c\\xeb\\xa7\\x8c': 1, 'd': 13, 'shoppingRecommentBestSalePrevBtn': 1, 'fbfbfb': 5, 'sitemap': 2, '\\xeb\\xad\\x90\\xed\\x95\\xb4': 1, '\\xec\\x95\\xbd\\xea\\xb4\\x80': 1, '1324': 2, '156px': 13, 'play': 9, 'emph': 1, '\\xec\\x9e\\x88\\xec\\x96\\xb4\\xec\\x9a\\x94': 1, 'MC001': 5, 'fpng': 4, '\\xec\\x98\\x86\\xec\\x97\\x90': 1, '278px': 15, 'B4': 9, '18\\xec\\x8b\\x9c': 1, 'goldenhoney': 1, 'newarr': 2, '\\xeb\\xb9\\x84\\xed\\x8c\\x90': 1, 'slash': 9, 'ellipsis': 52, '\\xed\\x8f\\xac\\xed\\x95\\xa8': 1, '\\xec\\x8c\\x89\\xec\\x8b\\xb8\\xeb\\xa6\\x84\\xed\\x95\\x9c': 1, '477px': 2, '176px': 2, '301': 1, '\\xeb\\x82\\xa8\\xec\\x84\\xb1': 1, '105px': 8, 'EBS\\xec\\xa7\\x80\\xec\\x8b\\x9d': 1, 'br': 22, 'shopping3Tab': 1, '\\xec\\x9d\\xb4\\xed\\x98\\xbc\\xeb\\x85\\x80': 1, 'goods': 8, 'minitodayWeather': 1, 'B9': 2, '8px': 31, 'num10': 1, '22318': 1, 'block': 112, '4689df': 1, '\\xec\\x9a\\x95\\xec\\x9d\\xbc\\xea\\xb9\\x8c': 1, '277px': 1, 'mypeople': 2, '\\xec\\x87\\xbc\\xed\\x95\\x91\\xeb\\x8f\\x84\\xec\\x9b\\x80': 1, '214px': 1, '\\xed\\x85\\x8c\\xeb\\xa7\\x88': 2, '266px': 2, 'submit': 1, 'e1e1e1': 10, 'timead': 2, 'record': 1, 'dummy': 10, '96px': 7, 'petpic': 1, 'serif': 20, 'link': 403, '\\xec\\x82\\xac\\xeb\\x8a\\x94': 1, '\\xed\\x8f\\xac\\xed\\x86\\xa0': 3, 'line': 129, 'info': 71, '111px': 4, 'utf': 1, '\\xec\\x9d\\xb8\\xeb\\xa5\\x98': 1, 'up': 39, 'ul': 11, 'tistory': 3, 'ui': 7, '87px': 3, '86px': 1, '\\xec\\xb2\\x9c\\xec\\x95\\x88\\xec\\x8b\\x9c': 1, '\\xea\\xb0\\x95\\xec\\x83\\x81\\xed\\x98\\x84': 1, 'accessibility': 2, '\\xea\\xb7\\xb8\\xeb\\xa5\\xbc': 1, 'svcmore': 2, 'cafe': 24, '20151019181654757': 1, '\\xed\\x8a\\xb9\\xea\\xb0\\x80': 1, 'kr': 1, 'TV': 2, '200\\xeb\\xa7\\x8c': 1, '\\xed\\x81\\xac\\xea\\xb8\\xb0\\xeb\\x8f\\x84': 1, 'A1': 8, 'A0': 6, 'A4': 7, 'A6': 2, 'A9': 8, 'A8': 3, '\\xea\\xb0\\x99\\xec\\x9d\\x80': 2, 'AC': 8, 'biz': 2, '\\xec\\x83\\x81\\xec\\x8a\\xb9': 1, 'set4': 1, 'e': 2, 'age': 2, 'shopping5Tab': 1, 'svc': 4, 'tit5': 1, 'tit4': 1, '550px': 1, 'tit1': 1, '505px': 1, 'tit3': 1, 'tit2': 1, '2009': 1, 'daumcdn': 95, 'code': 2, 'funPageNum': 1, '38px': 2, 'KBO\\xeb\\xa6\\xac\\xea\\xb7\\xb8': 1, 'edu': 13, 'go': 65, '270px': 5, 'aria': 10, '25px': 21, 'daumSuggestWrap': 1, '2Fi1': 2, 'assay': 1, '\\xeb\\x8a\\xa6\\xea\\xb8\\xb0\\xec\\xa0\\x84\\xec\\x97\\x90': 1, '\\xeb\\xa7\\x88\\xec\\xa7\\x80\\xeb\\xa7\\x89': 1, '\\xea\\xb3\\xa0\\xea\\xb0\\x9d\\xec\\x84\\xbc\\xed\\x84\\xb0': 1, 'multiMediaTitle': 1, '\\xed\\x9a\\xa8\\xeb\\xaa\\xa8\\xec\\x84\\xb1\\xeb\\xb6\\x84': 1, '777b80': 2, 'button': 38, '110px': 10, 'tiercont': 1, 'try': 1, '562px': 2, '\\xeb\\xa7\\x9b\\xeb\\x8f\\x84': 1, '\\xec\\x9a\\x94\\xeb\\xa6\\xac\\xeb\\xa1\\x9c': 1, '00a0b6': 2, 'abb5bd': 1, '9\\xe2\\x84\\x83': 3, 'Kakao': 1, 'CCBrz': 1, '135px': 4, '\\xec\\xa3\\xbc\\xeb\\x8f\\x84\\xed\\x95\\xa0\\xea\\xb9\\x8c': 1, 'video': 1, '3A': 2, 'lifeTab': 1, '2822': 1, 'index': 47, 'hopeTab': 1, '73px': 1, 'multimedia': 2, 'sportsTab': 1, 'suggest2': 1, '20151019144147838': 1, '\\xec\\xa0\\x84\\xec\\x9d\\xbc\\xeb\\x8c\\x80\\xeb\\xb9\\x84': 2, 'body': 4, 'degree': 2, 'exchange': 4, '440': 1, 'spacing': 56, '465px': 1, '444': 4, 'brandspe': 1, 'logout': 3, '938px': 1, '2Fimg': 2, '39': 2, '33': 1, '32': 1, '30': 1, '36': 1, '18px': 27, 'todayWeather': 1, '1247': 2, '\\xec\\x95\\x84\\xeb\\x8b\\x8c': 1, 'mArticle': 1, '335': 1, 'app': 12, '950px': 1, '333': 3, 'fstbig': 7, 'gamecenter': 2, '\\xec\\xb1\\x85': 2, '\\xed\\x99\\xa9\\xec\\x9d\\xb8\\xeb\\xac\\xb4': 2, '\\xeb\\xb9\\x88\\xed\\x94\\x84\\xeb\\xa0\\x88\\xec\\x9e\\x84': 4, 'from': 1, '\\xeb\\xb6\\x80\\xeb\\x93\\x9c\\xeb\\x9f\\xac\\xec\\x9a\\xb4\\xec\\xb4\\x89\\xea\\xb0\\x90': 1, 'next': 11, 'num20': 1, '306px': 1, '24px': 14, 'sort': 11, 'red2': 1, 'maintopad': 1, '20151019173206895': 1, '\\xec\\xa3\\xbc': 1, '\\xec\\x9e\\x85\\xeb\\x8b\\x88\\xeb\\x8b\\xa4': 22, '\\xeb\\xaa\\xa9\\xeb\\xa1\\x9d': 1, '\\xea\\xb5\\x90\\xec\\x9c\\xa1\\xeb\\xb6\\x80': 1, '150': 1, '179px': 8, '\\xec\\x8c\\x80\\xec\\x8c\\x80\\xed\\x95\\xb4\\xec\\xa7\\x84': 1, 'h6': 1, 'f': 1, '17px': 26, 'mediaNextBtn': 1, '\\xec\\x9e\\xac\\xeb\\xb0\\x8c\\xeb\\x8a\\x94': 2, 'f7f7f7': 2, '16198': 1, '\\xe2\\x97\\x8b\\xe2\\x97\\x8b\\xe2\\x97\\x8b\\xec\\x9e\\x85\\xeb\\x8b\\x88\\xeb\\x8b\\xa4': 1, 'a1a1a1': 1, 'do': 28, 'funPrevBtn': 1, 'dl': 3, 'tag': 4, '470px': 1, 'tab': 4, '16192': 1, '8RYvc': 1, '1650px': 3, '57px': 2, 'stock': 34, 'profile': 20, 'offGuide': 1, '1\\xe2\\x84\\x83': 2, '310px': 10, '481px': 4, '345px': 5, 'w37': 2, 'tier': 2, '65px': 3, '449px': 1, '2Fkbo': 2, '\\xec\\x8a\\xa4\\xed\\x8e\\x98\\xec\\x85\\x9c': 3, '413px': 2, '123px': 2, 'shoppingNextBtn': 1, '653px': 1, '\\xeb\\xb8\\x94\\xeb\\x9e\\x99\\xec\\x95\\xbc\\xed\\x81\\xac': 1, '69769': 1, '\\xea\\xb3\\xb5\\xec\\xa7\\x80\\xec\\x82\\xac\\xed\\x95\\xad': 1, '\\xea\\xb0\\x9c\\xec\\x9d\\xb8': 1, 'shoppingGrpTab': 1, '\\xeb\\x8c\\x80\\xed\\x95\\x9c\\xeb\\xaf\\xbc\\xea\\xb5\\xad': 1, '5e646f': 1, '287px': 1, 'broadcast': 1, 'li': 97, '2014': 30, '2011': 2, '2013': 3, '2012': 5, '307px': 1, '161px': 4, 'comm2': 1, 'auto': 10, '7b7b7b': 1, '\\xeb\\xb9\\xa0\\xec\\xa0\\xb8\\xeb\\x93\\xa4': 1, 'transparent': 8, 'lbStlnCloseBtn': 1, '7258': 1, 'CB5Qq': 1, '\\xeb\\xa7\\x81\\xed\\x81\\xac\\xeb\\xa5\\xbc': 22, 'mode': 2, '10px': 46, '\\xec\\xa6\\x9d\\xea\\xb6\\x8c': 3, '\\xeb\\x8f\\x85\\xec\\x9d\\xbc': 1, '326px': 1, 'w19': 2, 'w18': 3, 'w17': 3, 'w16': 3, 'w15': 3, 'w14': 3, 'w13': 3, 'w12': 3, 'w11': 3, 'w10': 3, '88': 6, '89': 2, 'static': 2, '82': 4, '83': 6, '80': 7, '81': 2, '86': 6, '471px': 4, 'special': 23, 'out': 15, 'category': 2, '676767': 1, 'shoppingTotalPageNum': 1, '58px': 4, 'rel': 17, '141px': 1, 'red': 1, 'bestreader': 4, '\\xec\\x8b\\xa0\\xea\\xb7\\x9c\\xec\\xa7\\x84\\xec\\x9e\\x85': 2, '175px': 2, '\\xeb\\x8f\\x84\\xed\\x86\\xa0\\xeb\\xa6\\xac\\xeb\\xac\\xb5\\xeb\\xb0\\xa5': 1, '\\xed\\x8a\\xb8': 1, '45px': 16, '\\xeb\\xb0\\xb1\\xeb\\xa0\\xb9\\xeb\\x8f\\x84': 1, '\\xeb\\x82\\xb4\\xeb\\x98\\x90\\xeb\\x9e\\x98': 1, 'ltr': 1, '\\xed\\x99\\x94\\xec\\x9e\\xa5\\xed\\x92\\x88\\xeb\\x8f\\x84': 1, 'lbStlnNoti': 1, 'indent': 32, 'g': 182, 'todaysale': 1, '8B': 4, '8C': 5, '191px': 1, '8A': 4, '8F': 2, '8D': 2, '8E': 1, 'mainsvc': 3, '358px': 1, 'logoff': 1, '\\xec\\x9d\\xbc': 2, 'articleId': 8, 'bestlike': 16, '129px': 1, '454': 1, '\\xeb\\x82\\xb4\\xec\\x9a\\xa9\\xec\\x9d\\x84': 22, '142px': 2, '33px': 7, '6GsX9': 1, '\\xed\\x8c\\x8c\\xed\\x8a\\xb8\\xeb\\x9d\\xbc\\xec\\x8a\\x88': 1, '\\xec\\x84\\xa4\\xec\\xa0\\x95\\xed\\x95\\x98\\xea\\xb8\\xb0': 1, 'privacy': 1, 'gmarket': 1, '\\xea\\xb0\\x80\\xeb\\xa9\\xb4': 1, '\\xed\\x9a\\xa8\\xeb\\xa6\\xb0': 1, '2156c0': 3, '\\xeb\\xac\\xb4\\xec\\xa3\\x84': 1, '1508': 1, '1540px': 2, 'liveIssueTitle': 1, '\\xec\\xa7\\x80\\xec\\x8b\\x9d\\xea\\xb3\\xb5\\xea\\xb0\\x84': 1, 'brunchTab': 1, '209px': 1, '97px': 4, 'CCBsP': 1, '397px': 2, '6f6f6f': 1, '\\xed\\x83\\x80\\xeb\\xa1\\x9c\\xeb\\xa1\\x9c': 1, 'news5tab': 9, '848585': 1, '2tab': 2, 'visited': 2, 'num30': 1, 'sq': 1, '1129px': 1, '85px': 3, '\\xec\\x83\\x81\\xec\\x8a\\xb984': 2, 'C60x50': 4, '6eqqG': 1, '20151016183615': 2, '1210px': 4, '6eqqK': 1, 'border': 71, '150px': 5, '241px': 1, '\\xec\\x82\\xac\\xec\\xa0\\x84': 2, '\\xed\\x99\\x95\\xec\\x9d\\xb8\\xed\\x95\\x98\\xec\\x8b\\x9c\\xeb\\xa0\\xa4\\xeb\\xa9\\xb4': 22, '4005': 1, '184px': 1, '\\xea\\xb8\\xb0\\xed\\x9a\\x8d\\xec\\xa0\\x84\\xed\\x99\\x88': 1, '\\xea\\xb3\\xb5\\xea\\xb0\\x90': 1, 'shoppingTitle': 1, 'mileage': 1, '\\xea\\xb5\\x90\\xec\\xb2\\xb4\\xeb\\x90\\x9c': 1, '174px': 1, '3c77eb': 1, 'class': 706, '\\xeb\\xa1\\xaf\\xeb\\x8d\\xb0i\\xeb\\xaa\\xb0': 1, '44px': 3, 'themeId': 2, 'url': 43, 'shopevent': 3, '619px': 1, '\\xed\\x95\\xb4\\xec\\x9a\\x94': 1, '\\xeb\\x8b\\x88\\xed\\x8a\\xb8\\xeb\\xb0\\x98\\xea\\xb0\\x92\\xec\\x84\\xb8\\xec\\x9d\\xbc': 1, '\\xeb\\x8f\\x88\\xec\\x9d\\xb4': 1, '5\\xeb\\xb6\\x84': 1, '20151015150024': 1, 'text': 100, '39px': 6, '143px': 3, '30px': 14, 'BEST': 1, '971px': 1, '6d3fdf': 1, '\\xec\\xb0\\xbe\\xea\\xb8\\xb0': 2, '\\xec\\x8b\\xb8\\xeb\\x8f\\x84\\xeb\\x84\\x88\\xeb\\xac\\xb4\\xec\\x8b\\xb8': 1, 'morelayer': 1, '271px': 2, '\\xec\\x88\\x9c\\xed\\x95\\x98\\xeb\\xa6\\xac': 1, '1\\xeb\\x8f\\x84': 1, '5px': 41, '\\xed\\x9a\\x8c\\xeb\\xb3\\xb5\\xec\\xa4\\x91\\xec\\x9d\\xb8': 1, 'CBpNp': 1, 'move': 1, '\\xec\\x9d\\xb4\\xec\\x8a\\xb9\\xec\\x9a\\xb0': 1, '101102130': 1, '7bHuj': 1, 'loginInfoTitle': 1, '\\xeb\\xaf\\xb8\\xec\\xa6\\x88\\xeb\\x84\\xb7\\xed\\x99\\x88': 1, 'imgsrc': 1, '387px': 1, 'scrolling': 2, '\\xec\\xa2\\x8b\\xec\\x9d\\x80': 3, '90px': 17, '\\xeb\\xb2\\x8c\\xeb\\xb2\\x8c': 1, '20151019140257': 1, '\\xec\\x84\\x9c\\xec\\x9a\\xb8': 1, '\\xec\\x98\\x81\\xec\\x83\\x81': 1, '396px': 1, 'comics': 29, '19696439712097703': 1, 'A854': 1, 'FIFA': 1, '\\xec\\x97\\xac\\xec\\x95\\xbc\\xec\\xa7\\x80\\xeb\\x8f\\x84\\xeb\\xb6\\x80': 1, '\\xed\\x99\\x98\\xec\\x9c\\xa8': 1, 'frame': 48, '\\xeb\\xbf\\x8c\\xeb\\xa0\\xa4\\xec\\x95\\xbc\\xec\\xa7\\x80': 1, '84px': 1, 'c4cdd6': 2, 'ebs': 1, '\\xec\\xa0\\x84\\xec\\xb2\\xb4': 1, 'btn': 80, '\\xeb\\xb0\\xa9\\xeb\\xaf\\xb8': 1, 'idLabel': 1, '153px': 1, '510px': 1, 'kakao': 1, 'favor': 18, 'state': 2, 'FTSE': 1, 'w08': 3, 'w09': 3, 'Forum': 1, 'w04': 3, 'w05': 3, 'w06': 3, 'w07': 3, 'w01': 3, 'w02': 4, 'w03': 3, 'todayWeatherLocal': 1, '350px': 4, '807px': 1, '\\xeb\\xb3\\xb4\\xec\\xa1\\xb4': 1, 'empathy': 1, '430px': 3, 'equal': 1, '20151016163620': 1, 'tierfixcont': 1, '\\xec\\xb4\\x88\\xea\\xb2\\xa8\\xec\\x9a\\xb8\\xea\\xb9\\x8c\\xec\\xa7\\x80\\xec\\xad\\x89': 1, 'cj': 4, 'co': 1, 'cl': 4, 'cf': 1, '555px': 1, 'slotid': 3, 'UME': 1, 'subscribe': 1, '\\xed\\x8f\\xac\\xea\\xb7\\xbc\\xed\\x95\\x98\\xea\\xb3\\xa0\\xeb\\x94\\xb0\\xeb\\x9c\\xbb': 1, 'cs': 3, 'table': 1, 'CB5xW': 1, 'mysvc': 21, 'f3f3f3': 1, '44\\xeb\\xb6\\x80\\xed\\x84\\xb088\\xea\\xb9\\x8c\\xec\\xa7\\x80': 1, '\\xec\\x8a\\xa4\\xed\\x86\\xa0\\xeb\\xa6\\xac\\xeb\\xb3\\xbc': 1, '\\xec\\x84\\xa4\\xec\\xa0\\x95': 3, '272px': 1, '369px': 3, 'a9abb0': 1, 'bbs': 4, '27px': 2, 'CA3Jo': 1, '\\xec\\x9a\\xb8\\xec\\x82\\xb0': 1, '\\xeb\\xb6\\x80\\xec\\x82\\xac\\xea\\xb4\\x80\\xeb\\x93\\xa4': 1, 'brunch': 14, 'U03': 2, 'daumspe': 2, 'multi': 48, 'main': 13, 'sortable': 7, 'plain': 1, 'align': 62, 'appearance': 2, 'value': 5, 'cursor': 22, '455px': 2, '\\xec\\x9d\\xb4\\xec\\x9a\\xa9\\xec\\x95\\xbd\\xea\\xb4\\x80': 1, '\\xeb\\xa3\\x8c': 1, '1510': 2, 'tvpot': 18, 'layer': 113, 'helper': 7, '848484': 1, 'vs': 11, '\\xeb\\x82\\x98\\xeb\\x8a\\x94': 1, 'ed5c5e': 1, '\\xed\\x81\\xb4\\xeb\\xa6\\xad\\xec\\x83\\x81\\xed\\x92\\x88': 1, 'MBN': 1, 'b5b8bf': 1, '\\xec\\x84\\x9c\\xeb\\xb9\\x84\\xec\\x8a\\xa4': 7, 'member': 3, 'num40': 1, '3188': 1, 'http': 252, 'adHourOne': 1, '78px': 1, 'maxlength': 2, '\\xed\\x8e\\xbc\\xec\\xb9\\x98\\xea\\xb8\\xb0': 1, 'v2': 30, 'v3': 11, 'v6': 7, 'v7': 1, 'v9': 1, 'tipTab': 1, 'exchangeMain': 1, '\\xed\\x81\\xb4\\xeb\\x9d\\xbc\\xec\\x9a\\xb0\\xeb\\x93\\x9c': 1, 'off': 2, 'center': 30, 'ececec': 5, '\\xeb\\xac\\xb4': 1, '431px': 1, '355': 1, 'position': 489, '\\xec\\x9e\\x85\\xea\\xb8\\xb0': 1, '6d7078': 2, '440px': 2, 'BC': 2, 'shoppingRecommendBestGrpTab': 1, '\\xec\\x9d\\xb4\\xec\\x82\\xb0\\xea\\xb0\\x80\\xec\\xa1\\xb1': 1, '\\xeb\\x8f\\x99\\xec\\x98\\x81\\xec\\x83\\x81': 1, '40': 4, '\\xec\\x9b\\xb9\\xec\\xa0\\x91\\xea\\xb7\\xbc\\xec\\x84\\xb1\\xec\\x95\\x88\\xeb\\x82\\xb4': 1, 'rank4': 3, '20151019134855': 1, 'mystock': 4, '\\xeb\\xb9\\xbc\\xeb\\x93\\xa0': 1, '297px': 1, 'slevel': 1, '5d6273': 1, '280': 3, '\\xed\\x94\\xbc\\xed\\x95\\x80': 1, 'NNS': 20, '\\xeb\\xa7\\x90\\xec\\x9d\\x84': 1, '532px': 1, 'totalsvc': 1, '185px': 8, 'tiertop': 2, 'password': 4, 'desc': 9, 'shop1tabIndex': 1, 'mmsrelay': 1, 'like': 1, '262626': 6, '\\xed\\x8e\\xb8\\xec\\x95\\x88\\xed\\x95\\x9c': 1, '351px': 1, 'B5': 2, '\\xeb\\xaa\\xa9\\xed\\x95\\xa8\\xec\\xa7\\x80\\xeb\\xa2\\xb0': 1, 'B1': 13, 'B3': 5, '230px': 6, 'B8': 9, 'page': 63, '11px': 76, '12px': 39, 'f9fafb': 1, '\\xea\\xb0\\x9c\\xec\\x9d\\xb8\\xec\\xa0\\x95\\xeb\\xb3\\xb4\\xec\\xb7\\xa8\\xea\\xb8\\x89\\xeb\\xb0\\xa9\\xec\\xb9\\xa8': 2, '2\\xe2\\x84\\x83': 1, '\\xeb\\xa8\\xb9\\xec\\x96\\xb4\\xeb\\xb3\\xbc\\xea\\xb9\\x8c': 1, '\\xeb\\xa7\\x8c\\xed\\x99\\x94\\xec\\x86\\x8d\\xec\\x84\\xb8\\xec\\x83\\x81': 1, '113': 7, 'home': 9, 'shoppingRecommentBestPageNum': 1, '1198px': 1, '\\xec\\x8b\\xa0\\xec\\x88\\x98\\xec\\xa7\\x80\\xec\\x9d\\x98': 1, '10\\xec\\x9c\\x84': 2, '59px': 1, 'namu': 1, 'locate': 2, '5b6473': 3, '\\xed\\x92\\x88\\xea\\xb2\\xa9\\xec\\x9e\\x88\\xeb\\x8a\\x94\\xeb\\xb6\\x80\\xed\\x8b\\xb0': 1, '\\xec\\xa7\\x91\\xec\\xa4\\x91\\xec\\xbc\\x80\\xec\\x96\\xb4': 2, 'dbdbdb': 1, '\\xec\\x97\\xb0\\xec\\x9d\\xb8': 1, '3f4243': 1, '\\xea\\xb8\\x88\\xec\\x9c\\xb5': 1, 'about': 2, '\\xed\\x9d\\x94\\xeb\\x93\\xa4\\xeb\\x8b\\xa4': 1, '\\xec\\x86\\x8c\\xed\\x9d\\xac': 2, '\\xec\\x8b\\x9c\\xeb\\xaf\\xbc\\xeb\\x8b\\xa8\\xec\\xb2\\xb4': 1, '\\xec\\xa7\\x84\\xeb\\xb2\\x94': 1, '190px': 10, '\\xec\\xb9\\x9c\\xea\\xb5\\xac': 1, '\\xec\\x9c\\x84\\xeb\\xa9\\x94\\xed\\x94\\x84': 2, '\\xeb\\x82\\xb4': 1, 'f2f2f4': 1, 'h2': 10, 'h3': 30, 'dataseq': 35, 'h1': 2, '225px': 3, 'h4': 8, 'h5': 1, 'weather': 77, 'registration': 1, 'wrapper10': 1, 'typeimg': 3, '\\xec\\x87\\xbc\\xed\\x95\\x91\\xed\\x99\\x88': 1, 'inner': 9, 'var': 1, '\\xed\\x95\\x98\\xeb\\x9d\\xbd': 1, '\\xec\\x86\\xa1\\xec\\x9d\\xb4\\xeb\\xb2\\x84\\xec\\x84\\xaf': 1, 'adCgiBrandingStation': 2, '563': 2, 'overflow': 125, 'naning9': 1, 'mizr': 5, 'w31': 2, 'w30': 2, 'w33': 2, 'w32': 2, 'w35': 2, 'w34': 2, 'CDATA': 3, 'w36': 2, 'w39': 2, 'w38': 2, '\\xeb\\x82\\x9c\\xeb\\xa6\\xac\\xeb\\x82\\x9c': 1, 'f8f8f8': 3, 'display': 147, 'inp': 14, '\\xec\\x9d\\xbd\\xec\\x9c\\xbc\\xeb\\xa9\\xb4\\xec\\x84\\x9c': 1, 'B0': 17, '\\xec\\xa6\\x89\\xeb\\xac\\xb8\\xec\\xa6\\x89\\xec\\x84\\xa4': 1, '605px': 2, '\\xec\\x89\\xbc': 1, 'ing': 2, '\\xec\\xb2\\xab\\xeb\\x88\\x88\\xec\\x97\\x90': 1, 'rank9': 3, 'rank8': 3, 'rank3': 3, 'rank2': 3, 'rank1': 2, '240px': 7, 'rank7': 3, 'svcall': 2, 'rank5': 3, '5b5b5b': 1, 'book': 16, '84': 14, '158px': 2, 'e8e8e8': 3, '249px': 2, '85': 5, 'searchrank': 1, 'repeat': 37, '201px': 2, '\\xeb\\xb9\\x85\\xec\\x82\\xac\\xec\\x9d\\xb4\\xec\\xa6\\x88': 1, 'webtoonTab': 1, 'inset': 2, '\\xeb\\xa1\\x9c\\xea\\xb7\\xb8\\xec\\x9d\\xb8': 6}\n",
      "{'aided': 1, 'inning': 1, 'todays': 2, 'Lead': 2, 'hpmiddle': 1, 'Night': 3, '6px': 3, 'NYT': 6, 'Heights': 1, 'domContent': 1, 'Launchpad': 1, 'Foundation': 4, 'voter': 1, 'violate': 1, 'collisions': 1, '09736473': 1, 'sourceApp': 1, '100000003982789': 1, '100000003978030': 1, 'Efficiency': 1, 'unionized': 1, 'Offers': 1, 'Western': 1, 'China': 2, 'League': 2, 'nyregion': 14, 'Spaetzle': 1, 'void': 1, 'Inv3': 1, 'Getaway': 1, 'Inv1': 1, '100000003985000': 1, 'Henry': 1, 'mediakit': 1, 'Thomas': 1, 'Unique': 1, 'cmj': 1, 'Campaign': 3, 'supports': 1, '4738': 1, 'cmd': 2, 'Trail': 1, 'Dose': 1, 'bequeath': 1, 'Go': 5, 'Paul': 3, 'heading': 193, '291': 1, 'expanded': 1, 'force': 5, 'leaders': 2, '0052': 1, '0051': 1, 'weddings': 1, 'Accent': 1, '9C34': 1, 'second': 1, 'Version': 1, 'Theater': 2, 'air': 4, 'alt': 48, '0202D0E4': 1, 'even': 1, 'C59B': 1, 'noticeError': 1, 'Unrest': 1, 'Merkel': 1, 'beaten': 1, 'Amazon': 1, '8CD8': 1, 'above': 2, 'new': 24, 'net': 5, '1rem': 1, 'discrimination': 2, 'Presidential': 2, 'whose': 1, 'mem': 1, 'men': 1, 'wrapping': 1, 'TopRight': 1, 'moreFollowSuggestions': 1, 'met': 1, 'Championship': 1, 'china': 1, 'kicker': 16, 'Faces': 2, 'active': 5, 'path': 1, 'placeholder': 3, 'tapes': 2, 'k': 1, 'Mending': 1, 'recordings': 1, 'jamz': 1, '100000003985266': 1, 'itunes': 1, 'credit': 6, 'Owner': 2, 'Home': 3, 'aka': 2, 'Studley': 1, 'criticism': 1, 'divide': 3, 'Jet': 1, 'City': 3, 'Three': 1, 'Relations': 1, 'Corrections': 1, 'Behind': 1, 'Book': 1, 'Health': 6, 'pp': 1, 'Jeh': 1, 'classifieds': 2, 'unit': 2, 'opponents': 1, 'sarah': 1, 'plot': 1, 'dna': 1, 'brinkley': 2, 'bundles': 1, 'wordplay': 2, '100000003935238': 1, 'Houses': 2, 'call': 4, 'Bookshelf': 1, 'indiana': 1, 'type': 18, 'top5': 1, '25GETAWAY': 2, 'Adams': 1, 'Tip': 1, 'Survivor': 1, 'Rule': 1, 'Teams': 1, 'Krugman': 3, '90': 2, 'hold': 1, 'describedby': 1, 'tnt': 1, 'Financial': 1, 'rights': 4, 'yowell': 1, 'work': 1, '7D6BE1AF': 1, 'straddle': 3, 'movies': 7, 'Initiative': 1, 'install': 1, '3338050995': 1, 'Advertisers': 1, 'A81817': 2, 'my': 1, 'Topics': 1, 'Poem': 1, 'estate': 6, 'indie': 1, 'Corporation': 1, 'in': 81, 'Bruni': 1, 'want': 1, 'Digital': 1, 'david': 4, 'realEstateSearch': 1, 'Editorials': 1, 'recovery': 1, 'Watching': 1, 'travel': 10, 'nuts': 1, 'feature': 4, 'Admissions': 1, 'how': 5, 'Muslims': 2, 'env': 1, 'gordon': 3, 'A': 11, '18Table2': 2, 'description': 4, 'mess': 1, '50px': 2, 'Straddle': 3, 'diagram': 1, 'charleston': 1, 'president': 2, 'Tenants': 1, 'royce': 1, 'glenna': 1, 'All': 2, '100000003976881': 4, 'amid': 1, 'Serbia': 1, 'lengths': 1, 'keeps': 1, '686': 2, 'wine': 1, 'Brazil': 1, 'static01': 59, 'roomfordebate': 3, 'feedback': 1, '100000003977130': 1, 'over': 2, '8383': 1, 'JOANNE': 1, 'Rotten': 3, 'london': 1, 'before': 3, 'Finish': 2, 'Hit': 1, 'img': 52, 'highlights': 3, 'Continues': 1, 'Here': 4, 'production': 1, '400': 4, 'videoFactory': 1, 'hidden': 44, 'F6C4': 1, 'Vidal': 2, 'LYMAN': 1, 'Mobile': 2, '40AF': 1, 'Jamz': 1, '100000003984536': 4, 'they': 1, 'schools': 1, 'scholar': 1, 'superintendents': 5, 'vidal': 2, '12CHOCPANCAKES3': 2, 'Indie': 1, 'detroit': 1, '379': 2, 'affiliate': 1, 'arrow': 6, 'fitness': 1, 'seeallnav': 1, 'went': 1, 'side': 2, '32x32': 2, 'Plot': 1, 'Afterword': 1, '13px': 1, 'Douthat': 1, 'logo': 9, 'ghosts': 1, 'Hollywood': 1, 'Styles': 2, 'BEGIN': 1, 'haitis': 1, 'crucial': 4, 'Unveil': 3, 'content': 44, 'surprise': 1, 'Hold': 1, 'SHERI': 1, 'gop': 2, 'gos': 5, 'foundation': 20, 'Join': 1, 'writeLogo': 1, 'University': 1, 'Work': 2, 'standard': 1, 'antialiased': 1, 'W': 1, 'Podcasts': 1, 'Studies': 1, 'Yowell': 1, 'Nixon': 4, 'Clinton': 10, 'Contributors': 2, 'Photo': 2, 'National': 1, 'days': 1, 'Horn': 1, '000': 7, 'Human': 1, 'QJf3ax': 2, 'corrections': 1, 'CA1': 1, 'features': 1, 'copyrightYear': 1, 'appRequire': 1, 'Tensions': 1, '20Smart': 1, 'supper': 1, 'Please': 1, 'primary': 1, 'rank': 120, 'Fight': 4, 'Stemming': 1, 'Journeys': 1, '177': 2, 'Krystal': 1, '18thread': 1, '16tmag': 2, 'Website': 1, 'Sonic': 1, 'Tests': 1, 'Congress': 3, 'Mess': 1, 'top': 37, 'Volkswagen': 4, '0066': 1, '0067': 1, '0064': 1, 'nythpGiftguide': 9, '0063': 1, '0061': 1, 'Press': 1, 'upshot': 5, 'hollywood': 1, 'Desert': 1, '0069': 1, 'Search': 8, 'B': 2, 'Rare': 2, 'signup': 1, 'took': 1, 'Edge': 1, 'Fun': 1, 'B3DFBD82': 1, 'gst': 3, 'Repair': 3, 'Code': 1, 'Features': 1, 'enabled': 1, 'Sex': 1, '20Banner': 1, 'binds': 1, 'Preschool': 1, 'msapplication': 5, 'tipping': 1, 'realestate': 23, 'mini': 3, 'fashion': 11, 'groaning': 1, 'Chicago': 1, '19PATRIOTS': 2, 'Automobile': 1, 'modern': 1, 'E2E2E2': 1, 'dozen': 1, 'lp5558': 1, 'Flight': 1, 'Bans': 1, 'harper': 3, 'convenient': 1, 'that': 4, '1960': 2, 'Emigration': 1, 'recommended': 2, 'Economic': 2, 'magnum': 2, 'established': 1, 'Stocks': 1, 'Collective': 1, 'object': 1, 'sue': 1, 'looming': 1, 'todayspaper': 2, 'letter': 1, 'Side': 1, 'Bernie': 1, 'Watergate': 2, 'potency': 1, 'commentsContainer': 6, 'm': 2, 'iepin': 4, 'Erupt': 1, 'Election': 2, 'Want': 2, 'scotch': 3, 'Its': 2, 'cooking': 1, 'Living': 4, 'Helvetica': 1, 'ending': 2, 'musicals': 1, 'Vehicle': 1, 'keywords': 1, 'nevada': 1, 'personaltech': 1, 'LargeMediaHeadlineSumCentered': 1, 'largeHorizontal375': 1, 'layout': 49, 'nythpHideKickers': 1, 'Extend': 3, 'headline': 1, 'menu': 28, 'Photography': 1, 'THRALL': 1, 'theme': 93, 'Others': 1, 'NREUM': 9, 'executive': 1, '219B4F6AA2A5': 1, 'exports': 17, '10': 203, 'television': 4, 'pocket': 6, 'amazon': 1, 'Heck': 1, '15': 6, 'Voting': 1, 'videofactoryrequire': 1, 'runs': 1, 'Leaders': 1, 'Over': 1, 'Washington': 2, '415': 1, 'gobi': 1, 'journeys': 1, 'bam': 4, 'respond': 1, 'julien': 1, 'fair': 1, 'branding': 3, 'Hospital': 1, 'nocontent': 32, 'Recommended': 1, 'Short': 1, 'nytmm': 2, '02': 1, '03': 2, 'limitFabrikSave': 1, '06': 2, 'Ahead': 1, '05': 1, '09': 3, 'plummeting': 1, 'nythpSplitCode': 5, 'future': 2, 'pets': 1, 'F298': 1, 'approach': 1, 'wf': 1, 'C': 5, 'terms': 1, 'extend': 5, 'Settings': 1, '1749339200': 2, '100000003985061': 1, 'Trey': 2, 'cut': 1, 'here': 2, 'Catalogs': 1, 'Bronx': 2, 'news': 24, 'packages': 4, 'Appetite': 1, 'maneuvers': 1, '100000003984499': 1, 'Dance': 1, 'country': 1, 'KAUFMAN': 1, 'players': 1, 'protection': 1, 'games': 1, 'prop1': 2, 'prop2': 2, 'Doug': 1, 'carwash': 1, 'login': 2, 'Classifieds': 1, 'com': 428, 'col': 4, 'PST': 1, 'pursuit': 1, 'alternate': 3, 'tough': 1, 'Gas': 1, 'nytnow': 5, 'height': 19, 'Returns': 1, 'DB6C': 1, 'Board': 1, 'Method': 1, 'Literature': 2, 'Kerry': 1, '8CF4': 1, 'asks': 1, 'source': 2, 'Curry': 1, 'Waters': 1, 'been': 1, 'Hillary': 4, 'trigger': 1, 'interest': 2, 'applicationID': 2, 'website': 1, 'life': 5, 'sprite': 19, 'eastern': 10, 'Perk': 2, 'Cry': 1, 'CG': 1, 'Weddings': 1, 'child': 3, 'catch': 2, 'east': 1, 'Co': 1, 'Deputy': 1, 'Into': 3, 'Manage': 1, 'n': 64, '0070': 1, '100000003977645': 1, 'typeof': 4, 'Call': 1, 'property': 6, 'anchor': 1, 'Building': 1, 'itemscope': 1, '8221': 1, 'is': 5, 'it': 1, 'bin': 1, 'player': 5, 'Bush': 1, 'im': 2, 'LEARN': 1, 'unfollowComments': 1, 'id': 239, 'trusted': 1, 'if': 8, 'Hair': 1, 'growl': 2, 'noydir': 1, 'art': 2, 'suggest': 1, 'make': 2, 'ab2': 2, '0901DB1AD95B': 1, 'the\\xc2\\xa0Volkswagen': 2, 'ab3': 2, 'split': 22, 'big': 1, 'President': 2, 'BAKER': 1, 'Room': 3, 'Tapes': 2, 'i1': 1, 'rail': 6, 'spiderbites': 1, 'portal': 8, 'VW': 1, 'Y': 7, 'HPB': 1, 'cycle': 1, '17studley': 2, 'hpsponlink': 1, '1973': 3, 'Trends': 1, 'A25A': 1, 'Table': 1, 'the': 109, 'investments': 3, 'left': 12, 'Sarah': 1, 'After': 1, 'protocol': 1, 'photo': 8, 'Nuts': 1, 'Inv2': 1, 'human': 2, 'Surprise': 1, 'yet': 1, 'previous': 2, 'onload': 2, 'unique': 1, 'NATHAN': 1, 'campaign': 2, 'Privacy': 1, 'had': 1, 'wright': 1, 'FDA10AC4': 1, 'News': 9, 'ffffff': 2, 'has': 6, '3px': 4, 'editorials': 1, 'africa': 1, 'optimizely': 1, 'background': 9, 'sitesearch': 1, 'Tipping': 1, 'advanced': 3, 'Heart': 1, 'Art': 4, '1445195469000': 1, 'Years': 1, '50': 1, '100000003979639': 3, '21px': 2, 'offices': 1, 'Steven': 1, '2640832222001': 2, 'www': 311, 'right': 7, 'people': 5, 'Multiproduct': 1, 'HP': 2, 'Commission': 1, 'election': 4, 'Between': 1, 'cE97ArV7TzqBzkmeRVVhJ8O6GWME2iG': 2, 'pain': 1, 'Nigeria': 1, 'Life': 4, 'ico': 5, 'for': 36, 'bottom': 19, 'notification': 2, 'SCG': 1, 'comments': 26, '19reuters': 1, 'contributing': 1, '428': 1, 'Facebook': 1, 'Cubs': 4, 'Dispute': 1, 'Royce': 1, 'Carbs': 1, 'bold': 1, '1445227792': 1, 'marketing': 2, 'Supers': 2, 'night': 3, 'FD07BE5EAD96': 1, 'graduates': 1, 'web2': 2, 'web1': 6, 'shifting': 1, 'draftkings': 1, 'post': 2, '0px': 8, 'First': 1, 'conceal': 2, 'typeface': 1, 'noarchive': 1, 'o': 33, 'Find': 3, 'magazine': 14, 'Cameron': 2, 'palestinians': 1, 'curry': 1, 'hospital': 1, 'nixon': 2, 'mediumSquare149': 9, 'Blacks': 1, 'campaignId': 1, '1445243610': 1, 'float': 3, 'SACK': 1, '100000003985077': 2, 'Insider': 6, 'beings': 1, 'Draft': 1, 'Survive': 1, 'sharetools': 2, 'Ends': 1, 'ISIS': 1, 'isUserVariant': 1, 'support': 1, 'transform': 5, 'fight': 2, 'Break': 2, 'gif': 1, 'Typekit': 1, 'author': 1, 'way': 1, 'editions': 2, 'was': 2, 'war': 1, 'head': 2, 'medium': 3, 'DNA': 1, 'JENSEN': 1, 'form': 6, 'offer': 2, 'Column': 3, 'Coming': 1, '100000003967304': 1, 'ADX': 1, 'notifications': 1, 'true': 2, 'b5bcf2eba4': 1, 'mtr': 2, 'undefeated': 1, 'Top5': 1, '62D5': 1, 'Bottom9': 1, '20px': 1, 'emit': 2, 'giftleftnav': 1, 'covert': 1, 'Josh': 1, '100000003979822': 2, 'door': 1, 'Chemist': 1, '130124': 1, 'newsletter': 1, 'dying': 3, 'no': 9, 'HpSectionSumSmallMedia': 1, 'when': 1, 'cliffhanger': 1, 'Persons': 1, 'Running': 1, '14px': 3, 'role': 9, 'holding': 1, 'digital': 1, '87E4': 1, 'nr': 11, 'videoPlaylist': 1, 'VIew': 2, 'truffles': 1, '9351': 1, 'E': 4, 'Airfares': 1, 'focusable': 2, 'muslims': 2, 'scores': 2, '25FRANKEL': 2, 'spaetzle': 1, 'longer': 2, 'Estate': 6, 'Mismanaging': 2, 'Win': 1, 'modals': 2, 'time': 22, 'push': 4, 'newsEventHierarchy': 1, 'lineup': 1, 'PaidPostFivePack1': 1, 'PaidPostFivePack2': 1, 'PaidPostFivePack3': 1, 'PaidPostFivePack4': 1, 'PaidPostFivePack5': 1, 'dance': 1, 'skip': 5, 'global': 1, '5625rem': 1, 'known': 1, 'manager': 2, 'Indiana': 1, 'A331': 1, 'Today': 7, '9772': 1, 'killings': 1, 'xlink': 2, 'attachEvent': 2, '0': 98, 'Curses': 1, 'Swindling': 1, 'insiderLaunch': 1, 'aspx': 1, 'Day': 2, 'smartphone': 1, 'Anything': 1, 'Kigali': 1, 'VICTORIA': 1, 'automobiles': 3, 'Tech': 2, 'Comments': 6, 'artwork': 2, 'AUSTEN': 1, 'Recalls': 1, 'Research': 1, 'Where': 2, 'Jersey': 1, 'Public': 2, 'Just': 1, 'Danger': 1, 'die': 4, 'Global': 1, 'posts': 1, 'p': 82, 'team': 1, 'quick': 1, 'div': 529, 'George': 4, 'democrats': 1, 'prevent': 1, 'says': 2, 'CMJ': 2, 'CLIENTSIDE': 1, 'Frank': 1, 'Brinkley': 1, 'School': 1, 'Conjures': 2, 'defineProperty': 2, 'a81817': 2, 'Ending': 1, 'Red': 1, 'cmjs': 1, 'Head': 1, 'clientside': 1, 'Header': 1, 'Heal': 1, '4EC7': 1, 'shares': 1, 'debate': 2, 'Alone': 3, 'shared': 2, 'xml': 3, 'transactionName': 1, 'Good': 1, 'henry': 1, 'artsbeat': 1, 'french': 1, 'bi': 1, 'baseball': 5, 'alone': 7, 'along': 1, 'Times': 21, '114x144': 1, 'appears': 1, 'change': 1, 'topnews': 31, '100000003979491': 1, 'sending': 1, 'ref': 4, 'Founder': 1, 'MM': 1, 'BAB8B3': 1, 'Railroads': 1, 'Your': 3, 'women': 5, 'franklin': 6, 'Ghosts': 1, 'navigation': 19, 'shootings': 1, 'love': 1, 'Catholicism': 1, 'When': 2, '18thread1': 1, 'educationleftnav': 1, 'Globally': 2, 'should': 5, 'Writers': 1, 'HPBreak': 1, 'Sanders': 1, 'NYTimes': 3, 'hpmidleader': 1, 'perk': 3, 'Dies': 6, 'HPPromo': 1, 'helvetica': 5, 'sports': 15, 'insider': 12, 'stylesheet': 2, 'iphone': 1, 'https': 7, 'krystal': 1, 'today': 1, 'October': 1, 'kerry': 1, 'F': 2, 'getElementsByTagName': 2, 'Proposals': 1, 'Blazed': 1, 'Homelessness': 2, 'Push': 2, 'Retail': 1, 'FD8249': 2, 'logos': 5, 'Celebrations': 1, 'cap': 3, 'modified': 1, 'reviews': 2, 'impasse': 2, 'can': 3, 'growing': 1, 'making': 1, 'Trusted': 1, '37WXW': 1, 'heart': 2, 'portals': 2, 'citizens': 1, 'Holding': 1, 'figure': 4, 'AD8090D7': 1, 'newsletters': 1, 'agent': 5, 'errorBeacon': 2, 'Issue': 1, 'Shows': 2, '100000003985190': 3, 'Terms': 2, 'winter': 2, 'Who': 11, '100000003967315': 1, 'nyt': 102, 'nyu': 2, '1': 84, 'sunday': 5, 'vital': 1, 'Why': 1, 'spielberg': 1, 'may': 2, 'spot': 4, 'figcaption': 4, 'Bargain': 1, 'applications': 14, '4506': 1, 'shuffleRecommendations': 1, 'date': 1, 'such': 1, 'abtestconfig': 1, 'Corporate': 2, 'View': 3, 'Still': 1, 'johnson': 1, 'Series': 3, '461D': 1, 'q': 5, 'sh': 3, 'sm': 1, 'whsites': 1, 'Stories': 1, 'AMANDA': 2, 'opts': 5, 'processFlags': 1, 'nlcs': 3, 'bRvjBTlNb4o': 2, 'Jay': 1, 'deactivated': 1, 'Breaking': 3, 'BrowseTree': 1, 'Cherished': 2, 'nbsp': 6, 'E148': 1, 'clinton': 4, 'White': 2, 'still': 1, 'group': 4, 'thumb': 54, 'lackluster': 1, 'Rail': 4, 'window': 12, 'offers': 1, 'policy': 2, 'World': 5, 'main': 12, 'ugly': 1, 'Hiding': 1, '100000003968859': 1, 'lonely': 3, 'emailed': 2, 'HPMidLeader': 1, 'views': 2, '14FA6B07E5AB': 1, 'Choices': 1, 'Supermarkets': 1, '1954': 1, 'videoVHSCover': 1, 'not': 7, 'DraftKings': 2, 'digitalleftnav': 1, 'Stores': 2, 'name': 33, 'Skip': 3, 'Grants': 1, 'lede': 1, 'Musicals': 1, 'ee': 4, 'ed': 1, 'Dude': 1, 'Barack': 2, 'Philanthropy': 1, 'Muppets': 2, 'sponsor': 2, 'entering': 1, 'year': 3, 'eu': 1, 'Learned': 1, 'canada': 3, 'living': 2, 'Spielberg': 1, 'container': 17, '65rem': 1, '100000003982054': 1, 'DE2B278B': 1, 'attracted': 1, 'queueTime': 1, 'trauma': 1, 'shows': 1, 'Commerce': 1, 'Stone': 1, 'earlier': 1, 'END': 1, 'G': 3, 'Rights': 1, 'cars': 3, 'Sometimes': 1, 'Record': 1, 'unfriendly': 1, 'obituaries': 2, 'Austrian': 1, 'org': 1, 'scarred': 1, 'Bushwick': 1, 'flare': 1, 'App': 2, 'headphones': 1, '19BOOKPARINIJP2': 4, 'thing': 1, '\\xe2\\x80\\x9cThe': 1, 'Hungary': 1, '18SUBJPCOV6': 4, 'first': 5, 'origin': 1, 'rachel': 1, '379x64': 2, 'one': 4, 'Rates': 1, 'SectionsNav': 1, 'message': 9, 'open': 1, 'george': 1, 'size': 12, 'city': 8, '30x30': 2, 'Monday': 2, 'width': 10, 'setCustomAttribute': 1, '100000003982196': 1, 'returns': 1, '2': 43, 'draft': 1, 'carousel': 1, 'Date': 2, 'Data': 1, 'frame': 1, 'Scholar': 1, 'FDEFB811': 1, 'AAD5': 1, 'padding': 14, 'hillary': 4, 'unionization': 1, 'copy': 5, 'than': 2, 'png': 12, '11': 3, 'wide': 19, '13': 2, '12': 11, 'Love': 3, '14': 2, '17': 6, '16': 19, '19': 105, '18': 45, 'require': 13, 'HpSumXSMedia': 1, 'r': 29, 'were': 1, 'B487': 1, 'Advertise': 1, 'B483': 1, 'browser': 3, 'and': 56, 'topics': 4, 'premier': 5, 'Tight': 1, '997D': 1, 'Inquiry': 1, 'Calm': 1, '100000003977640': 3, '100000003983685': 1, 'marathon': 1, 'Do': 1, '100000003978358': 2, 'ttGuid': 1, 'Murphy': 3, 'dining': 10, 'potential': 1, '15px': 1, 'corporateleftnav': 1, 'Articles': 1, 'Off': 1, 'Name': 2, 'Pets': 1, '1194811622188': 1, '357066198': 1, 'TV': 1, 'paid': 2, 'netflix': 2, 'Has': 1, '7D62A2B9955E': 1, 'Shopping': 1, 'tracy': 1, 'pages': 98, 'icon': 71, 'michelle': 1, '100000003985182': 3, '6C2A9A1223BE': 1, '100000003985184': 2, 'amtrak': 1, 'surprising': 1, 'rsquo': 2, 'considered': 1, 'implications': 1, 'sale': 2, 'raquo': 34, 'Film': 1, 'Array': 1, 'itemid': 1, 'Web': 5, 'Broncos': 1, 'show': 1, 'cheat': 1, 'recipe': 1, '497B': 1, 'datetime': 10, 'Haiti': 1, 'bright': 1, 'spaces': 1, 'Opinionator': 1, 'Stephen': 1, 'forecast': 1, '3dc2bf0e7593a689f857e1edec4a2566': 1, '40px': 1, 'Publishers': 3, 'We': 1, 'upgrade': 4, 'title': 4, 'behind': 1, 'Resign': 1, 'BENCHLEY': 2, 'only': 2, 'black': 2, 'Services': 1, 'Pampered': 1, 'revolutionized': 1, 'merkel': 1, 'Violence': 2, 'Magazine': 6, 'cannot': 1, 'Products': 1, 'BCB6': 1, 'Grandchild': 1, 'awaiting': 3, '100000003981643': 1, 'nytint': 2, 'secondary': 2, 'inyt': 1, 'Right': 1, 'licenseKey': 2, 'settings': 1, '100000003974623': 1, 'summary': 80, 'bullet4x4': 1, 'landlord': 1, 'Education': 4, 'where': 1, 'inside': 4, 'LedeSum': 1, 'Funding': 1, 'McMillon': 2, 'tallWatchingModule': 1, 'airfares': 1, 'bargain': 1, 'anchored': 1, 'college': 1, 'BOARD': 1, '104D1E63': 1, 'takingNote': 1, 'BD42': 1, '833': 1, '100000003972453': 2, 'HIROKO': 1, 'Johnson': 1, 'That': 2, 'review': 10, 'Emailed': 1, 'label': 7, '3': 23, 'Jr': 1, 'Than': 1, 'notice': 1, 'Bible': 1, 'jobs': 4, 'parent': 2, 'screen': 1, 'jr': 1, 'js': 24, 'Landlord': 1, 'Each': 1, 'arial': 5, 'blaufrankisch': 1, 'Collectors': 1, 'avoid': 1, 'region': 53, 'job': 3, 'called': 1, 's': 28, 'workplace': 1, 'parini': 2, 'Death': 2, 'color': 10, 'Travel': 4, 'Were': 1, '23FD6C8B': 1, 'nythpBriefings': 3, '64': 2, '65': 2, 'article': 277, '69': 2, 'poll': 1, 'skeletons': 3, 'arts': 21, 'Pain': 1, 'Beauty': 1, '4EA3': 1, 'vacation': 1, 'But': 1, 'mark': 3, 'shortcuts': 23, 'Promos': 1, 'reuters': 1, 'Known': 1, 'borders': 1, 'prototype': 2, 'myaccount': 2, 'eedition': 1, 'engine': 2, 'enable': 1, '100000003978146': 1, 'photos': 2, 'former': 1, 'aid': 1, 'Divide': 3, 'sex': 1, 'Attack': 1, 'TopBar': 1, 'Greenhouse': 1, 'promising': 1, 'squeezed': 1, 'margin': 17, 'operate': 1, '100000003977525': 1, '19FOUNDATION': 2, 'subscriptions': 3, 'Looking': 1, 'middle': 2, 'bias': 1, 'embrace': 1, 'return': 20, 'technology': 11, 'ivy': 1, '114\\xc3\\x97114': 1, 'Plans': 1, 'proto': 2, 'media': 9, '479A': 1, 'html': 253, 'inquiry': 1, 'arguments': 1, 'document': 6, 'events': 4, 'Destruction': 1, 'week': 3, 'visually': 16, 'extended': 1, 'I': 3, 'Clear': 1, 'allocation': 12, 'running': 1, 'Clean': 1, '4BDB': 1, '28B119710151': 1, '100000003984455': 3, 'undefined': 2, '100000003984457': 1, 'Is': 6, 'graphics8': 4, 'It': 2, 'Rolls': 1, '18REPAIR': 2, 'hpmodule': 1, 'belarus': 1, 'Rent': 2, '100000003982675': 1, 'In': 4, 'ccc': 1, 'If': 1, 'summer': 1, 'United': 2, 'Wading': 1, 'Service': 1, 'being': 1, 'Diesel': 4, 'Pine': 1, 'Conservative': 3, 'Daniel': 2, 'userAttributes': 1, 'touch': 3, 'Gambling': 1, 'Pesto': 1, 'coloredSharetools': 1, 'cn': 1, 'death': 3, 'Jobs': 1, 'rose': 3, 'briefings': 1, 'Spot': 1, 'Applications': 1, '100000003977699': 1, 'CHRISTOPHER': 1, 'ie10': 9, 'Israelis': 1, '100000003982704': 1, 'Change': 1, 'Delivery': 1, 'styles': 1, 'hover': 4, 'around': 2, 'rules': 1, 'College': 2, 'Headphones': 1, 'Project': 1, 'test': 1, 'karnak': 2, 'libs': 1, 'amp': 6, 'Tracy': 1, '100000003984914': 2, 'adams': 1, 'subscribe': 1, 'collective': 1, 'Hacks': 1, 'facing': 1, 'audience': 1, 't': 59, '\\xe4\\xb8\\xad\\xe6\\x96\\x87': 1, 'C5BFA7D5': 1, 'Democracy': 1, 'C51B': 1, '100000003975200': 1, 'FINK': 1, '100000003972260': 2, 'images': 65, 'New': 22, 'racial': 1, 'Safeguards': 3, 'pinnedMasthead': 1, 'deputy': 1, 'Holiday': 1, 'Overselling': 1, '19MORGAN': 2, 'Men': 1, 'conservative': 2, 'Visit': 1, 'dies': 6, '20canada': 2, '911': 1, 'refer': 11, 'business': 24, 'Challengers': 2, 'broker': 1, 'volkswagen': 6, '20MATTER': 2, 'src': 64, 'ol': 4, 'derailments': 1, 'og': 5, 'of': 58, 'Transit': 1, 'favorite': 1, '19ANONYMOUSJP1': 2, '100000003972661': 1, 'Paper': 2, 'neighbor': 1, 'testimony': 1, 'or': 7, 'op': 2, 'Story': 1, 'Upgrade': 2, 'Heads': 1, 'Adding': 1, 'image': 6, 'baseUrl': 1, '31A9': 1, 'jerusalem': 4, 'Powers': 1, 'your': 4, 'Store': 1, 'Week': 3, 'paidPostDriver': 1, 'there': 1, '100000003982074': 1, 'hed': 1, 'start': 1, 'Letter': 2, 'Artwork': 1, 'Shifting': 1, '18HUNT': 2, 'Obama': 4, '1445229772': 1, 'complete': 1, 'J': 1, 'Kitchen': 1, 'setPageViewName': 1, 'illuminates': 2, '100000003984925': 1, 'gore': 2, 'Small': 1, 'with': 16, 'Guide': 5, 'viewport': 6, 'Ad': 1, 'Nichter': 1, 'readyState': 1, '100000003962029': 1, 'rage': 2, 'default': 2, 'House': 2, 'Alterations': 1, 'vhs': 3, '100000003963405': 1, 'emissions': 2, 'Close': 2, 'embed': 1, 'sourceOrganization': 1, 'Crisis': 1, 'Chauffeur': 1, 'gone': 1, 'his': 4, 'ab': 15, 'ad': 66, 'videos': 2, 'Crucial': 2, 'Airlines': 1, 'homepageOpinionKickerCss': 1, 'an': 12, 'ap': 1, 'as': 8, 'Lifts': 1, 'Construction': 1, 'Homeland': 1, 'agentToken': 1, 'politics': 11, 'An': 1, 'Homepage': 4, 'film': 1, 'Real': 6, '100000003982286': 3, 'saturday': 1, 'field': 1, '5': 15, 'addEventListener': 3, 'announcements': 2, 'you': 5, 'PETER': 1, 'Great': 1, 'congress': 5, 'Pursue': 1, '4099': 1, 'fetid': 1, 'a1': 8, 'important': 6, 'Tinder': 1, 'funding': 1, 'Nations': 1, 'Empire': 2, 'concat': 2, 'carbs': 1, 'assets': 10, 'SponsorAd': 1, '100000003984702': 2, 'copyrightHolder': 2, '100000003979756': 1, 'u': 7, 'Magaziner': 1, 'Year': 1, 'directory': 1, '100000003981861': 1, '19CMJINTERNTL': 2, 'Canada': 4, 'all': 8, 'Convenient': 1, 'Winter': 1, 'chinese': 2, 'Radicalization': 2, 'diesel': 4, 'Fix': 1, 'Header1': 1, 'deadline': 5, 'freeTrial': 1, 'cameron': 2, 'videoVHSHomepageCover': 1, 'revealed': 1, '100000003948168': 2, 'Ceiling': 2, 'apartment': 2, 'claire': 1, 'icons': 11, 'to': 90, 'rwanda': 3, 'C15A5BB6DA1A': 1, 'safety': 5, 'homepage': 28, '4em': 1, 'Listings': 2, 'Sale': 2, 'Headers': 1, '1px': 7, '100000003977752': 1, '100000003984605': 1, 'sans': 7, 'Neglected': 1, '100000003981535': 1, '1445245579': 1, 'RICK': 1, 'small': 5, 'Pig': 1, 'Knees': 1, 'Should': 3, 'go': 1, 'design': 1, 'Interest': 1, 'pass': 1, 'East': 1, 'ribbon': 1, 'canonical': 1, '100000003985097': 2, 'what': 8, 'abc': 1, 'SHAW': 1, 'richard': 1, '9B34': 1, 'tinder': 1, 'section': 166, 'Cultural': 1, 'version': 1, 'Conflict': 3, 'Rotation': 1, 'Scarred': 1, 'method': 1, '6F1766459781': 1, 'edited': 2, 'homescreen': 1, 'Says': 1, 'Gift': 3, '9152': 1, 'tagx': 3, 'Sniffing': 1, 'beacon': 2, 'Supplements': 1, 'Events': 3, 'Briefing': 2, 'Potency': 1, 'publisher': 1, 'search': 21, 'bible': 1, '20HEART': 2, 'provider': 1, 'Seizure': 1, 'ab1': 2, 'amount': 1, 'supplements': 1, 'published': 1, 'action': 10, 'qry542': 1, 'options': 2, 'Style': 5, 'aria': 4, 'Constitution': 1, 'family': 13, 'nythpDeveloping': 1, '44D9': 1, 'Top': 4, '0CB9': 1, 'href': 336, 'Amanda': 1, 'Too': 1, 'ET': 9, '100000003979352': 3, '92720057': 1, 'HPLink': 1, 'json8': 2, 'Europe': 3, 'Explorer': 1, 'Benchley': 1, 'contains': 2, 'Step': 2, 'Automobiles': 3, '9A43D8FC': 1, '6': 9, 'Earliest': 1, 'markets': 3, 'more': 7, 'israel': 4, 'Boeing': 1, 'Limits': 1, 'company': 2, 'admissions': 1, 'Banking': 1, 'TABUCHI': 1, 'adxnnl': 1, 'jsonp': 4, 'webkit': 1, 'Found': 1, 'tvlistings': 2, 'town': 1, 'none': 17, 'RE2': 2, 'science': 9, 'FadingSlideShow': 3, 'autocomplete': 1, 'morgan': 1, '326891': 1, 'Decade': 1, 'Inc': 3, 'additionalOpinionRegions': 1, 'suggestions': 7, 'inv2': 1, 'Aldi': 1, 'matchHeight': 1, 'Slapstick': 1, 'Benghazi': 2, 'Parliament': 1, 'breaking': 2, 'heck': 1, 'stemming': 1, 'targetoverride': 2, 'css': 11, 'starturl': 1, 'Television': 3, 'Migrants': 1, 'Don': 1, 'plans': 1, 'Pass': 1, 'variant': 1, '100000003888230': 1, 'Matter': 1, 'fb': 1, 'disable': 1, 'DOMContentLoaded': 1, 'Syria': 2, 'horizontal': 2, 'addToTrace': 1, 'a': 737, 'D9C94A2B': 1, 'footer': 7, 'ribbonChartbeatMostEmailed': 1, 'doctor': 1, 'Debate': 5, 'Player': 1, 'Democrats': 1, 'inline': 4, 'Marathon': 1, 'RSS': 1, 'What': 7, 'Arial': 2, 'help': 6, 'getTime': 2, 'thumbStandard': 32, 'cook': 1, 'paper': 2, 'through': 1, 'committee': 2, 'broadway': 1, 'articleShareAtEnd': 1, 'its': 3, 'dont': 1, '25': 5, 'style': 22, '20': 15, '21': 4, 'possessions': 1, 'AA70': 1, 'handheld': 1, 'Elijah': 2, 'systems': 1, 'autoreviews': 1, 'stephen': 3, 'pesto': 1, 'ArtsBeat': 1, '100000003976811': 1, 'Packers': 1, 'waitSeconds': 1, '20iPad': 1, 'Ambassador': 1, 'Shenanigans': 1, 'timestamp': 33, 'demographics': 1, 'JanSport': 1, 'Michael': 1, 'L': 1, 'framework': 1, 'Trudeau': 1, '37th': 1, 'Danes': 1, 'evade': 1, '4137': 1, 'token': 1, 'HpSum': 3, 'Council': 1, 'found': 1, '3AF128ABE12D': 1, '7eSDFh': 4, 'weight': 12, 'proposals': 1, 'hard': 1, 'Sports': 5, 'Waiting': 1, '100000003985151': 2, 'newrelic': 4, '19UNDER': 2, 'backpacks': 1, 'More': 5, '100000003977956': 2, 'mediumThreeByTwo210': 3, 'itemtype': 1, 'blacks': 1, 'item': 14, 'CC9E2674': 1, 'testify': 1, 'douglas': 2, 'research': 1, 'trudeau': 6, 'health': 7, '7': 2, 'Cook': 1, 'paidPostFivePack': 1, 'issue': 1, '4px': 4, 'Town': 1, '19middle': 4, 'houses': 2, 'base': 11, 'members': 1, 'Opinion': 14, 'earliest': 1, 'Investments': 2, 'owners': 2, 'tomboys': 1, 'People': 4, 'Ed': 6, 'limitjsonp': 2, 'inv3': 1, 'Audience': 1, 'inv1': 1, 'americas': 4, 'Helped': 1, 'caption': 2, 'mostpopular': 3, 'neglected': 1, 'bernie': 1, 'tabindex': 1, 'rooted': 2, 'upper': 1, 'CACF62E94AAE': 1, 'done': 2, 'blank': 1, 'contentinfo': 1, 'heights': 1, 'applicationName': 2, 'razor': 1, 'story': 444, 'Transportation': 1, 'script': 38, 'recommendedLabelTest': 1, 'Airplanes': 1, 'dfp': 3, 'pinned': 1, 'header1': 1, 'Cummings': 2, 'gpt': 1, '4B2F': 1, '100000003984363': 3, 'G9z0Bl': 3, 'schema': 1, 'Justin': 1, 'Contact': 1, 'hotel': 2, 'park': 1, 'Hopes': 1, 'part': 5, '17CD0EAA99AC': 1, 'Emissions': 2, 'theater': 5, 'Lineup': 1, 'jeh': 1, 'Road': 1, 'obama': 1, 'jquery': 3, 'king': 1, 'b': 17, 'throttle': 12, 'Puzzle': 2, '138D30468F8F': 1, 'defends': 3, 'pampered': 1, 'Layouts': 1, 'Spaces': 1, 'store': 1, 'firstyear': 1, 'opinionator': 2, '592CC66F82D4': 1, 'interactive': 5, '20BRODY': 2, 'nythpBriefingNewsletterSignup': 4, 'Haner': 1, 'Douglas': 2, 'favicon': 1, '4A39': 1, 'js2': 2, 'Larry': 1, 'organs': 1, '4D25': 1, 'paths': 1, '100000003982010': 1, 'lib': 1, 'Club': 1, 'Brings': 1, 'self': 2, 'officers': 1, 'Graduates': 1, 'Walmart': 3, 'build': 5, 'd37d526acc5f1ea70c6a0bee273416cc': 1, 'Awaiting': 1, 'With': 11, '6B7245A6CDD8': 1, '100000003982676': 2, 'Myself': 1, 'James': 1, 'Orbit': 2, 'most': 5, 'Chief': 3, 'Lonely': 1, 'sponsored': 1, 'services': 3, 'The': 35, 'blogSmallThumb': 1, 'Google': 3, 'Taking': 1, 'Julien': 1, '9869919170': 1, 'mobile': 7, '0D3C': 1, 'Subscriptions': 5, 'parentNode': 2, 'Subscribe': 3, '240x72': 2, 'Viewed': 1, '75rem': 1, '18emanuel': 2, 'Expert': 1, 'cheltenham': 4, '667': 1, 'cdn': 1, 'defended': 1, 'Loading': 2, 'sslForHttp': 1, 'headlines': 15, 'font': 38, 'find': 1, 'copyright': 2, 'music': 5, '22px': 1, 'writes': 1, 'rotten': 3, 'French': 1, 'experiment': 1, 'trackingFireEventQueue': 1, '1445245932': 1, 'indifference': 1, '1445243414': 1, 'Michelle': 1, 'IAN': 1, 'hit': 1, 'luke': 2, 'banned': 1, '19levine': 2, 'Favorite': 1, 'F4CF': 1, 'While': 1, 'ecedeb': 2, 'breast': 1, 'international': 18, 'Hearts': 1, 'safeguards': 5, 'banner': 5, 'Institutions': 1, 'target': 8, 'ie9': 1, 'Help': 1, 'opinionindex': 1, 'cry': 1, '430B': 1, 'activity': 1, 'x': 1, '1445239203': 1, 'nichter': 2, '144\\xc3\\x97144': 1, 'For': 2, 'nythpNoRule': 1, 'France': 1, 'Wright': 1, 'migration': 1, '100000003977192': 1, 'close': 2, '100000003974559': 1, 'Blaufr\\xc3\\xa4nkisch': 1, '359C': 1, 'Tomboys': 1, 'expert': 1, 'forlorn': 1, 'Park': 1, 'tpnav': 1, 'crossword': 6, 'Part': 3, 'Costco': 1, 'europe': 4, 'King': 1, 'catalogs': 2, 'Be': 2, 'initially': 1, 'commercial': 1, 'javascript': 2, '100000003980396': 1, '100000003985145': 1, 'testId': 12, 'invisible': 1, 'F5AB0C515CEA': 1, 'Refugees': 4, 'league': 1, 'c': 26, 'feeling': 1, 'last': 16, 'secrets': 1, 'Hard': 1, '100000003978261': 1, 'explore': 2, 'tempos': 1, 'roman': 6, 'Unit': 1, 'context': 1, 'Yet': 1, 'ZCGrid': 1, 'load': 2, 'point': 1, 'simple': 1, 'Revolutionized': 1, '4CEA': 1, 'header': 11, 'church': 1, '144x144': 1, 'Was': 1, '91E8': 1, 'Play': 2, 'pt': 1, 'agree': 1, 'Students': 2, 'My': 3, 'create': 3, 'Most': 3, '19jpMETS1': 4, 'California': 1, 'Plan': 1, 'HomePage': 1, '4': 10, 'sanders': 1, 'Note': 1, 'flight': 1, 'firefighters': 1, '100000003972256': 1, 'slideshow': 6, 'N': 9, '100000003665755': 2, 'lives': 1, 'hasOwnProperty': 2, '16px': 2, 'georgia': 6, 'Mulcair': 1, '18slaghtWeb': 2, 'solid': 7, 'bill': 3, 'holocaust': 1, 'E57A148E': 1, 'careers': 1, 'Church': 1, 'fun': 1, 'Cold': 1, 'publisherId': 1, 'HpSumSmallMediaHigh': 2, '100000003982860': 1, 'pack': 2, 'scheduled': 1, 'Divinity': 1, 'sonic': 1, 'moth': 2, 'danes': 1, 'Racism': 2, 'jpg': 45, 'decoration': 1, 'frieze': 1, 'ready': 2, 'Ira': 1, 'chauffeur': 1, '20Store': 1, 'james': 1, 'radicalization': 2, 'Luke': 1, '875': 1, 'HpHedThumbWell': 81, '4C02': 1, 'Unionization': 1, '9': 5, 'inlineHit': 1, 'conflict': 5, 'development': 1, 'grandchild': 1, 'keys': 1, 'Gobi': 1, 'Lines': 1, 'alert': 3, 'Movies': 2, 'walmart': 3, 'user': 7, 'miniNavCount': 1, 'obit': 2, 'bob': 1, 'googletag': 4, 'task': 4, 'Power': 1, 'Technology': 2, 'Food': 5, 'Rate': 1, 'edge': 2, 'five': 2, 'Racial': 1, 'Jerusalem': 4, 'Tools': 1, 'T': 3, 'ambassador': 1, 'alvin': 1, 'Takes': 2, 'woodward': 1, 'Hopeful': 1, 'Labor': 2, 'Trauma': 1, 'Internet': 1, '338': 1, 'Truffles': 1, 'loading': 1, 'Avoid': 1, 'readers': 2, 'Readers': 1, 'shortcut': 1, '1445249038': 1, 'conjures': 1, 'location': 4, 'Hands': 1, 'Front': 1, 'input': 8, 'guarantees': 1, 'Make': 2, 'chairman': 1, '8220': 1, 'On': 5, 'adxPage': 1, 'Last': 1, 'Die': 3, 'Air': 6, 'Defends': 2, 'nythpHideBylines': 1, '100000003943318': 1, 'Aid': 1, 'enumerable': 1, 'projects': 3, 'Op': 6, 'JULIE': 1, 'modifications': 1, 'd': 4, 'Links': 1, '100000003982259': 4, 'confront': 1, 'mostemailed': 1, 'Frankel': 1, 'Columnists': 1, 'MAIN': 4, 'onreadystatechange': 1, 'Happens': 3, 'velcroSocialFollow': 1, 'google': 3, 'some': 1, 'back': 2, 'itemprop': 8, 'testName': 12, '100000003974726': 1, '4201': 1, 'Email': 1, 'Daypart': 1, 'Bar1': 1, 'HPMiddle': 1, 'tools': 3, '18DYINGweb8': 2, 'renderstyle': 122, 'nythpBreaking': 3, 'usageTerms': 1, 'slapstick': 1, 'Button': 1, 'Something': 3, 'cgi': 2, 'be': 2, 'varying': 1, 'Newsletters': 1, 'run': 1, 'zam5nzz': 1, '300': 4, '18jung': 2, 'odor': 1, 'Bill': 1, 'Draw': 1, 'O': 2, 'David': 4, 'contentPlacement': 1, '80E6DEE6': 1, 'step': 2, 'become': 1, 'Operate': 1, 'by': 7, 'NYSE': 1, 'A4D120C9014E': 1, 'Alvin': 1, 'anything': 1, 'Voters': 1, '813B': 1, '8px': 3, 'SHANNON': 1, 'modal': 1, 'Bedroom': 1, '73': 2, 'tenants': 1, 'block': 7, 'repair': 4, 'real': 6, 'nytco': 1, 'dude': 1, 'into': 3, 'retailer': 1, 'Young': 1, 'Their': 3, '100000003977701': 1, 'Experiment': 1, 'steven': 1, 'rolls': 1, 'Boulder': 2, 'Driven': 1, 'criticisms': 1, 'Belarus': 1, 'span': 77, 'few': 1, 'question': 1, 'cherished': 3, 'submit': 2, 'Finds': 1, 'Illuminates': 1, 'HPBottom1': 1, 'User': 1, 'uppercase': 5, 'nytopinion': 1, 'sections': 3, 'twitter': 1, 'poster': 1, 'murphy': 3, 'slump': 1, 'Holocaust': 1, 'serif': 13, 'larry': 1, 'link': 63, 'Promising': 1, 'hopes': 1, 'createElement': 2, 'line': 9, 'Quiz': 1, '052C33AD': 1, 'info': 4, 'utc': 10, 'Irish': 1, 'Bell': 3, 'a11y': 1, '115710': 11, 'Africa': 2, 'up': 1, 'us': 20, 'utm': 8, 'ul': 104, 'Books': 7, 'Those': 1, 'Backpacks': 1, 'clear': 4, '9458': 1, '0012': 1, 'raging': 1, 'flow': 1, '4C3D': 1, 'listening': 1, 'globally': 2, 'single': 7, '100000003977094': 1, 'International': 5, 'Upshot': 1, 'empire': 2, 'feeding': 1, 'Adopts': 1, 'Map': 1, 'Commissioner': 1, '19TURKEY': 2, 'May': 2, 'Max': 1, '4491446': 1, 'application': 5, 'nav': 15, 'Isolation': 1, 'pageManager': 3, 'draw': 1, 'AG': 2, 'Netflix': 2, 'infoservdirectory': 1, 'Implications': 1, 'AM': 18, 'robots': 17, 'resign': 1, 'lens': 4, 'Making': 1, 'desert': 1, 'e': 72, 'lead': 2, 'Moth': 12, 'svg': 6, 'age': 1, 'required': 1, '4DB6': 1, 'orbit': 2, 'Migrant': 1, '2000': 1, 'at': 20, 'Newsletter': 1, 'scroll': 1, 'Sell': 1, 'Supper': 1, 'code': 1, 'Based': 2, 'Harper': 1, 'Self': 2, 'toggle': 3, 'Department': 1, 'query': 1, 'Slows': 1, 'Business': 4, 'Bonds': 1, 'Object': 5, '100000003979250': 1, 'Glass': 2, 'getFlexData': 1, 'Not': 5, 'Latest': 1, 'fences': 1, '15584765C8D7': 1, 'Region': 1, 'continues': 1, '\\xc2\\xadis': 1, 'P': 3, 'facebook': 2, 'Feeling': 1, 'Parini': 1, '8B2A': 1, 'button': 65, 'Killed': 1, 'try': 2, 'Defense': 1, 'Patriots': 1, 'Bottom8': 1, '35rem': 1, '100000003982467': 2, 'Turkey': 1, 'Index': 1, '18LOVE': 2, 'Long': 3, 'rivers': 1, 'publisherReadToken': 1, 'State': 1, 'video': 36, 'Sections': 3, 'click': 1, 'index': 109, '19jpWALMART': 4, 'Nytimes': 1, 'chicago': 6, 'multimedia': 6, 'middleeast': 1, '100000003981918': 1, 'indexOf': 2, 'C4DC8C0C': 1, 'Balkans': 1, 'Resources': 1, 'hpbreak': 1, 'Former': 1, '1404': 1, 'body': 2, 'chinas': 1, 'jansport': 1, 'spacing': 1, 'Palestinians': 1, 'divinity': 1, 'SCHMIDT': 1, 'Panthers': 1, '33': 2, '30': 2, 'shades': 1, 'Back': 4, '18px': 4, 'Motor': 1, 'Big': 1, 'opinion': 59, 'followFeature': 1, '100000003976957': 4, 'Baseball': 2, 'apple': 7, 'Amtrak': 1, 'danger': 1, 'playerId': 1, 'presidents': 1, 'app': 8, 'Multimedia': 4, 'FT100000003985282': 2, 'Contributing': 1, 'api': 2, 'Safety': 4, 'Treatment': 3, 'columnists': 1, 'apply': 1, 'Conditions': 1, 'YwFXZhRYVhAEVUZcX1pLYEAPFlkTFRhCXUA': 1, 'use': 1, 'from': 3, 'HPSponLink': 1, 'live': 3, 'pgtype': 1, 'next': 2, 'Lens': 2, 'Matters': 1, '18MODERNLOVE': 2, 'sundayreview': 2, 'Displaced': 1, 'firstbyte': 1, 'on': 20, 'Career': 1, 'Denmark': 3, 'STYLING': 2, 'visibility': 1, 'trail': 1, 'Claire': 1, 'Editorial': 3, 'Growing': 1, 'box1': 1, 'subscription': 7, 'Affair': 1, 'Feedback': 1, 'f': 12, 'this': 4, 'membercenter': 5, 'Video': 7, 'Vote': 2, 'Traveler': 1, 'Nevada': 1, 'control': 4, 'boulder': 2, 'Police': 3, 'tab': 4, 'links': 1, 'do': 2, 'Began': 1, 'Feature': 1, 'Cultured': 1, 'tag': 1, 'nears': 1, 'something': 3, 'slip': 1, 'Party': 2, '78FBAD45': 1, 'copyrightNotice': 1, 'lamb': 1, 'democracy': 1, '100000003977392': 1, 'delay': 2, 'Gore': 2, 'Friends': 3, 'secular': 1, 'stock': 1, 'Ghost': 1, 'NYTABTEST': 3, 'waters': 1, 'KLEINFIELD': 1, 'collection': 163, 'Quarter': 1, 'Frieze': 1, 'muppets': 2, 'Letters': 1, 'Apple': 3, 'googletagservices': 1, 'lines': 1, 'One': 4, 'Middle': 2, 'chief': 5, 'Weather': 1, 'Defects': 1, 'Politics': 3, 'Awaits': 1, 'pine': 1, 'Organization': 1, 'TopLeft': 1, '966D': 1, 'curses': 1, 'perf': 1, 'labor': 3, 'lt': 9, 'FadingSlideShow2': 1, '2015': 204, 'paidPostFivePackMock': 1, '2016': 3, '2013': 1, 'addClass': 2, 'Alerts': 1, 'Wholesale': 1, 'auth': 3, '100000003975092': 1, 'Can': 1, 'front': 1, 'HpSumSmallMedia': 4, 'rotation': 1, 'transparent': 1, 'preschool': 1, 'successor': 3, 'Respond': 1, '100000003977282': 1, 'Sam': 1, '18DORM': 2, 'university': 1, 'nfl': 2, 'sitehelp': 1, 'Say': 1, 'hpbottom1': 1, '12F29393259F': 1, 'circular': 2, 'Weekly': 1, 'mets': 4, 'Arts': 6, '100000003984971': 2, '19oct1web': 2, '700': 7, 'society': 1, '88': 2, 'books': 13, 'our': 1, '84': 2, '21KITCHEN1': 2, 'Gowdy': 2, 'Very': 1, 'messenger': 6, 'Breast': 1, 'rel': 9, 'contentCollection': 1, 'Trying': 1, 'cause': 1, 'HpHeadline': 13, 'This': 2, 'recommendations': 4, '18mag': 1, 'york': 13, 'conflicts': 1, 'Urges': 1, '45px': 4, 'Gone': 1, 'weaves': 1, 'hostile': 1, 'Point': 1, 're2': 1, 'could': 1, '19thrallWeb': 2, 'times': 22, 'Currency': 1, 'length': 2, 'homelessness': 2, 'south': 2, '17UP': 2, 'Lamb': 1, 'bushwick': 1, 'Hotel': 2, 'Review': 10, 'hppromo': 1, 'owner': 4, 'Plays': 1, '100000003984757': 2, 'playlist': 5, 'privacy': 3, 'data': 411, '100000003984997': 1, 'accent': 1, '100000003984993': 1, 'their': 2, 'thepubliceditor': 2, 'XL7HBI': 2, 'watchingNoScroll': 2, 'Iraq': 1, 'Box1': 1, 'abbreviatecredits': 2, 'adopts': 1, 'benghazi': 1, 'shell': 2, 'Tempos': 1, '97px': 1, 'R': 1, '12x12': 1, '43B3': 1, 'Democratic': 1, 'herself': 1, 'rss': 2, 'ipad': 1, 'studley': 1, 'isolation': 1, 'bed': 2, 'Edition': 1, 'listeners': 2, 'Embrace': 1, 'briefing': 2, 'visited': 2, '100000003979479': 1, 'are': 9, 'false': 2, 'Richard': 2, 'tabs': 2, 'Other': 1, 'have': 6, 'need': 3, 'turn': 1, 'border': 16, 'viewed': 2, 'Development': 1, '1KB8': 2, 'min': 4, 'BE66F420': 1, 'able': 1, '0364': 1, 'krugman': 2, 'Doctor': 1, 'Unbeaten': 1, 'Photos': 1, 'which': 1, 'founder': 1, 'brazil': 1, 'nytimes': 344, 'clash': 1, 'repairs': 1, 'Blogs': 1, 'who': 14, 'hpViewability': 1, 'Games': 1, 'Detroit': 1, 'jimmied': 1, 'masthead': 11, 'class': 874, '07': 1, 'delivery': 1, 'Account': 1, 'takes': 2, 'Binds': 1, 'url': 8, 'uri': 8, 'face': 1, 'High': 1, 'Growth': 1, 'nythpHideTimestamps': 1, 'Saturday': 1, '100000003968211': 1, 'Paris': 1, 'text': 23, '0036': 1, '0033': 1, 'Religion': 1, 'mismanaging': 4, 'bedroom': 1, 'weekly': 1, 'fear': 1, '30px': 1, 'decade': 1, '100000003976985': 1, 'based': 2, 'launchpad': 1, 'jay': 2, 'Undo': 1, 'Bengals': 1, 'York': 17, 'D5DuLP': 4, '1A25A7947D94': 1, 'hope': 1, 'exchanged': 1, 'Homes': 1, 'Owners': 2, 'slows': 1, 'handle': 5, 'watching': 3, 'beat': 4, '999': 3, '4AD0': 1, 'crosswords': 12, 'sales': 1, 'cubs': 7, '126': 2, 'Fitness': 1, 'Popular': 1, 'THE': 1, 'Once': 1, 'denmark': 3, 'Bright': 1, 'hdleftnav': 1, 'Broadway': 1, 'fixed': 1, 'view': 1, 'precomposed': 3, 'bar1': 1, 'HPMediumMediaHedSumDaypart': 3, 'turkeys': 1, 'national': 4, 'Question': 1, 'module': 4, 'writable': 1, 'edition': 7, 'noodp': 1, 'cold': 1, 'wire': 1, 'PT': 1, '100000003979271': 1, 'Representative': 2, 'rendition': 2, 'Republican': 1, 'email': 1, 'PM': 2, 'publishers': 3, 'Developing': 1, '2px': 7, 'Democrat': 1, 'S': 6, 'byline': 15, 'police': 4, 'Anchor': 1, 'tickerSymbol': 1, 'Mets': 6, 'BF10': 1, 'career': 1, 'challengers': 2, 'drug': 1, 'Ivy': 1, 'dogear': 1, 'Rules': 1, 'Design': 1, 'bronx': 2, '13036': 1, '\\xc2\\xbb': 2, 'Campus': 1, '100000003960856': 1, 'comment': 6, 'co': 1, 'Log': 1, 'cc': 1, '8217': 1, 'Carwash': 1, 'Music': 2, 'adding': 1, '82F1C903DBFB': 1, 'li': 497, 'ct': 1, '100000003981931': 1, 'NYTD': 5, 'catholicism': 1, 'Immigration': 1, 'quiz': 1, '427B': 1, 'json': 2, 'Obituaries': 2, 'growth': 2, 'aponline': 1, 'Editing': 1, 'Expand': 2, 'f8e9d2': 1, 'applicationTime': 1, 'Among': 1, 'runaroundRight': 2, 'kickers': 1, '20App': 1, 'Face': 1, 'Credit': 1, 'finished': 1, 'Wordplay': 1, '2014': 1, 'improved': 1, 'Essential': 2, 'Factories': 1, 'Force': 4, 'How': 5, 'align': 2, 'britain': 2, 'value': 1, 'HPmodule': 2, '2012': 1, 'MORE': 1, 'B172': 1, 'site': 8, '10lIEQ': 1, 'Fuel': 1, 'You': 4, 'allTheEmphases': 1, 'cp': 2, 'shooting': 1, 'perhaps': 2, 'syrian': 1, 'began': 1, 'blazed': 1, 'Underneath': 1, 'auto': 1, 'Panel': 1, 'http': 416, 'Third': 1, 'overselling': 1, 'Ride': 1, 'faces': 2, 'ios': 3, 'v2': 6, 'v3': 2, 'v5': 1, 'Milhous': 1, 'expand': 2, 'destruction': 1, 'underneath': 1, 'off': 2, 'center': 1, 'i': 84, 'Syrian': 1, '37FYY': 1, 'well': 4, 'finds': 1, 'States': 1, 'Fantasy': 1, 'Have': 3, 'Artists': 1, 'Need': 1, 'position': 1, 'DAN': 1, 'KEVIN': 1, 'latest': 3, 'stores': 3, 'EDITORIAL': 1, 'Reach': 1, 'addPageAction': 1, 'domestic': 8, 'browsetree': 2, 'Sunday': 3, '100000003985032': 3, '9701': 1, 'bottom8': 1, 'bottom9': 1, 'web': 8, 'vidm': 1, 'Company': 3, 'bell': 1, 'Broker': 1, 'adx': 1, 'day': 1, '100000003930238': 1, 'applicants': 1, 'By': 13, 'match': 1, '1973\\xe2\\x80\\x9d': 1, 'Rodham': 4, 'tests': 2, 'CRESWELL': 1, 'Thread': 1, 'Cycle': 1, 'Drug': 1, 'fats': 1, 'Offices': 1, 'know': 1, 'unseen': 1, 'variants': 12, 'loader': 13, 'Jamaica': 1, 'Fashion': 3, 'like': 1, 'sizes': 2, '100000003963382': 1, '100000003963381': 1, 'FlexTypes': 3, 'Discovered': 1, 'lose': 1, 'async': 1, 'Fear': 1, 'refugees': 3, 'page': 6, '11px': 4, 'Sue': 1, 'Killings': 1, '12px': 8, 'Section': 2, '90E6': 1, '100000003964674': 1, 'Crossword': 4, 'Rwanda': 4, 'Editor': 2, 'home': 2, 'Terrorism': 1, 'happens': 3, 'afterword': 1, 'insertBefore': 2, '2783': 1, 'overlay': 2, 'sectionHeaderHome': 2, 'slide': 2, 'War': 1, 'students': 3, 'Replica': 1, 'Deadline': 3, 'leader': 1, 'WEB': 2, '4D71': 1, 'Inside': 3, '10px': 3, 'MICHAEL': 1, 'Up': 1, 'Us': 2, 'variation': 1, 'offset': 1, '19whletter': 2, 'after': 2, 'panel': 4, 'rare': 2, 'justin': 6, 'world': 15, 'hpHeader': 25, 'column': 112, 'Anchored': 1, 'nythpDaypartRegion': 6, 'A4B35924': 1, 'letters': 1, 'h2': 310, 'h3': 86, 'h1': 2, 'h6': 25, 'Two': 1, 'h4': 4, 'h5': 2, 'Kagame': 1, 'weather': 3, 'From': 1, 'Approach': 1, 'Feeding': 1, 'Frauds': 1, 'Secular': 1, '57x57': 1, '70DA3BD89778': 1, 'smoothing': 1, 'CB3F': 1, 'Listening': 1, 'var': 29, 'Portal': 2, 'function': 47, 'Gadgetwise': 1, 'hr': 10, 'Science': 3, 'hp': 11, 'Well': 1, 'but': 5, 'pixie': 1, 'reminds': 1, '18DYINGweb1': 2, 'Croatia': 1, '450810F4FEE6': 1, 'editing': 1, 'Chelsea': 1, '100000003981920': 1, 'count': 6, 'made': 1, 'Live': 1, 'Britain': 2, 'meta': 32, 'limit': 1, 'display': 16, 'Split': 1, '100000003812670': 1, 'irish': 1, 'Modern': 1, 'flyout': 2, 'int': 2, 'universal': 1, 'pig': 1, 'maxHeight': 1, '20151014': 11, '20151016': 2, 'education': 5, 'campus': 1, 'A257D89A': 1, 'Wines': 1, 'Centered': 2, 'deadly': 1, 'Banned': 1, '42': 2, 'Else': 2, 'Fats': 1, 'Islamic': 1, 'other': 1, 'Five': 1, '84C8': 1, 'Manufacturing': 1, '100000003979282': 1, 'chemist': 1, '100000003978566': 2, 'repeat': 5, 'monday': 2, 'HPHEADER': 2, 'Flow': 1, '100000003977127': 3, 'Remove': 1, 'Swamp': 1, 'Future': 2, 'U': 8, 'Morgan': 1, 'Lose': 1, 'Weaves': 1, 'friends': 4, 'Page': 1, 'South': 2, 'ghost': 1, '\\xe2\\x80\\x94': 2, 'blogs': 10, 'Site': 3, 'rule': 10, 'Shooting': 1, 'Organs': 1, '1445239142': 1}\n"
     ]
    }
   ],
   "source": [
    "import urllib2\n",
    "import string\n",
    "\n",
    "def source_parsing(source):\n",
    "    #print source # 추후 숙제 답안 제출 때엔 왼쪽 라인은 주석처리할 것\n",
    "    for i in range(0, source.count('<!--')):\n",
    "        if source.find(\"<!--\") != -1:\n",
    "            source = source.replace(source[source.find(\"<!--\"):source.find(\"-->\")+3],\"\")\n",
    "    #print source\n",
    "    for i in range(0,source.count(\"<\")):\n",
    "        if source.find(\"<\") != -1:\n",
    "            source = source.replace(source[source.find(\"<\"):source.find(\">\")+1],\"\")\n",
    "    #print source\n",
    "    #print string.punctuation\n",
    "    pucn_list=list(string.punctuation)\n",
    "    pucn_list.extend(['’','‘','···','【','】'])\n",
    "    #print pucn_list\n",
    "    \n",
    "    #print source\n",
    "    for word in pucn_list:\n",
    "        source=source.replace(word,' ')\n",
    "        \n",
    "    #print source\n",
    "    wordlist=source.split()\n",
    "    wordcount={}\n",
    "    \n",
    "    #단어 수 세기\n",
    "    for i in wordlist:\n",
    "        if not i in wordcount.keys():\n",
    "            wordcount[i]=1\n",
    "        else:\n",
    "            wordcount[i]=wordcount[i]+1\n",
    "    return wordcount\n",
    "\n",
    "#출력부\n",
    "test_source=urllib2.urlopen(\"http://www.naver.com\").read()\n",
    "print source_parsing(test_source)\n",
    "test_source=urllib2.urlopen(\"http://www.daum.net\").read()\n",
    "print source_parsing(test_source)\n",
    "test_source=urllib2.urlopen(\"http://www.nytimes.com\").read()\n",
    "print source_parsing(test_source)"
   ]
  },
  {
   "cell_type": "markdown",
   "metadata": {},
   "source": [
    "- 소스에서 단어를 추출하기 직전까지의 부분의 코드는 조교님께서 올려주신 지난 과제의 정답부분을 활용하였습니다. 없애줄 구두문자들을 리스트에 넣어줄 때 pucn_list=list(string.punctuation)와 같은 코드를 이용하였고, 그 밖에 구두문자에 해당한다고 생각한'’','‘','···','【','】'를 그 리스트에 extend로 추가시켜주었습니다. 그 후 그 리스트에 있는 문자들에 대해 추출된 소스에 그 문자가 있으면 그것을 공백으로 대체해주었습니다. 그 후 소스를 split을 통해 공백을 기준으로 나누어 wordlist에 넣어주었고, wordcount라는 빈 사전을 만들었습니다. 그 이후에 단어를 세기 위해 반복문을 이용하여 wordlist에 있는 단어들에 대해 단어수를 세 주고 사전 wordcount를 반환하였습니다. 그리고 그것을 출력해주는 것으로 마무리했습니다.\n",
    "- 단어로 split하기 전에 굳이 대체를 해준 것은 한 단어의 가운데에 포함되어있는 구두문자가 있을 경우, split한 후에 strip(양끝에 있는 것들을 제거 해줌)을 이용했을 때 그것들이 지워지지 않기 때문입니다."
   ]
  },
  {
   "cell_type": "markdown",
   "metadata": {},
   "source": [
    "####숙제이후 소감\n",
    "- 처음에는 문제가 주어졌을 때 과연 이런걸 할 수 있을까 겁부터 났었는데 그래도 어찌저찌 따라가고는 있는 것 같아 조금은 마음이 놓입니다. 사실 처음에는 2학년 과목에 선배님들이 이렇게 많이 계실 줄 몰랐는데, 다들 막 포스가 장난 아니셔서 걱정도 많구 불안하구 그럽니다. 그래서 과제를 해결할때마다 진짜 심적으로 그래도 어떻게 따라는 가겠구나 하는 마음 들어서 조금씩 안심되구 그래요... 근데 이게 제가 교과목에서 요구하고 있는걸 잘 따라가고 있는건지는 또 잘모르겠어서 참 머릿속이 복잡하네요. 이제 중간고사라 걱정이 더 커지는 것 같네요... 조교님이 올려주신 코드를 보고나서 제 코드를 보니까 뭔가 제껀 너저분한거 같고 그래서 더 열심히 해야겠다는 생각이 들었습니다. 프로젝트 오일러 문제들은 차근차근 풀어보고 있는데 확실이 평소에는 접할 수 없는 문제들이라 그런가 도움이 많이 되는 것 같습니다. 더블릿 밖에 몰랐었는데 좋은 사이트 알려주셔서 고맙습니다~! 아 그리구 이거 이러닝인게 진짜 신의 한수인 것 같아요ㅠㅠ 이해가 느린편인데 되감기 되고 일시정지 되고 그래서 너무 좋습니다. 항상 감사합니다!!!!!!"
   ]
  }
 ],
 "metadata": {
  "kernelspec": {
   "display_name": "Python 2",
   "language": "python",
   "name": "python2"
  },
  "language_info": {
   "codemirror_mode": {
    "name": "ipython",
    "version": 2
   },
   "file_extension": ".py",
   "mimetype": "text/x-python",
   "name": "python",
   "nbconvert_exporter": "python",
   "pygments_lexer": "ipython2",
   "version": "2.7.9"
  }
 },
 "nbformat": 4,
 "nbformat_minor": 0
}
