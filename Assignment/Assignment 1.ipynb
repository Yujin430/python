{
 "cells": [
  {
   "cell_type": "markdown",
   "metadata": {},
   "source": [
    "#Assignment 1\n",
    "####스크립트 프로그래밍  2분반  2014136128 최유진"
   ]
  },
  {
   "cell_type": "markdown",
   "metadata": {},
   "source": [
    "####01) a=\"Hello Python\" 문자열을 Slicing과 연결 연산자 (+)를 사용하여 \"Python Hello\"로 변경하시오.\n",
    "  - [주의] a 변수 자체에 \"Python Hello\" 문자열이 저장되어야 함"
   ]
  },
  {
   "cell_type": "code",
   "execution_count": 89,
   "metadata": {
    "collapsed": false
   },
   "outputs": [
    {
     "name": "stdout",
     "output_type": "stream",
     "text": [
      "Python Hello\n"
     ]
    }
   ],
   "source": [
    "a=\"Hello Python\"\n",
    "b=a[0:6:]\n",
    "a=a[6::]+a[5:6:]+a[0:5:]\n",
    "print a"
   ]
  },
  {
   "cell_type": "markdown",
   "metadata": {},
   "source": [
    " - 슬라이싱을 이용하여 'Python', ' ', 'Hello'를 취하여 그것을 모두 더해 a에 저장되도록 해주었습니다."
   ]
  },
  {
   "cell_type": "markdown",
   "metadata": {},
   "source": [
    "   ####02) b=\"Hello Python World\" 문자열을 Slicing과 연결 연산자 (+)를 사용하여 \"World Python Hello\"로 변경하시오.\n",
    "  - [주의] b 변수 자체에 \"Python Hello\" 문자열이 저장되어야 함"
   ]
  },
  {
   "cell_type": "code",
   "execution_count": 98,
   "metadata": {
    "collapsed": false
   },
   "outputs": [
    {
     "name": "stdout",
     "output_type": "stream",
     "text": [
      "World Python Hello\n"
     ]
    }
   ],
   "source": [
    "b=\"Hello Python World\"\n",
    "b=b[13::]+b[5:6:]+b[6:13:]+b[0:5:]\n",
    "#슬라이싱을 이용하여 b에 World Python Hello가 저장되도록 함\n",
    "print b"
   ]
  },
  {
   "cell_type": "markdown",
   "metadata": {},
   "source": [
    "  - [주의]부분에 b 변수 자체에 \"Python Hello\"문자열이 저장되어야 한다는 부분을 \"World Python Hello\"라고 생각하고 코드를 작성했습니다.\n",
    "  - 슬라이싱을 이용하여 'World', ' ', 'Python ', 'Hello'를 취하여 그것을 모두 더해 b에 저장되도록 해주었습니다."
   ]
  },
  {
   "cell_type": "markdown",
   "metadata": {},
   "source": [
    "####03) c=\"Hello\"를 \"olleH\"로 변경하시오\n",
    "  -  [주의] c 변수 자체에 \"olleH\" 문자열이 저장되어야 함"
   ]
  },
  {
   "cell_type": "code",
   "execution_count": 96,
   "metadata": {
    "collapsed": false
   },
   "outputs": [
    {
     "name": "stdout",
     "output_type": "stream",
     "text": [
      "olleH\n"
     ]
    }
   ],
   "source": [
    "c=\"Hello\"\n",
    "c=c[::-1]#c에 역순으로 문자열 저장\n",
    "print c"
   ]
  },
  {
   "cell_type": "markdown",
   "metadata": {},
   "source": [
    "  - 슬라이싱을 할 때, step에 -1을 주어서, c에 OlleH가 저장되도록 해주었습니다."
   ]
  },
  {
   "cell_type": "markdown",
   "metadata": {},
   "source": [
    "####04) s=\"python\"에 대해 다음 문제를 풀어보시오.\n",
    "  >##### (1) s[0], s[0][0], s[0][0][0]은 각각 어떤 값이 나오는지 확인하고 그 이유를 나름대로 설명해 보시오.\n",
    " "
   ]
  },
  {
   "cell_type": "code",
   "execution_count": 26,
   "metadata": {
    "collapsed": false
   },
   "outputs": [
    {
     "name": "stdout",
     "output_type": "stream",
     "text": [
      "p p p\n"
     ]
    }
   ],
   "source": [
    "#04)의 1번 문제\n",
    "s=\"python\"\n",
    "print s[0], s[0][0], s[0][0][0]"
   ]
  },
  {
   "cell_type": "markdown",
   "metadata": {},
   "source": [
    "  - s[0]을 통해서 python의 첫번째 문자인 p를 취할 수 있었습니다. 제 생각에는 s[0][0]은 s[0]으로 취한 것중 다시 첫번째 문자를 취해야 하므로 p가 출력된 것 같고, s[0][0][0]도 마찬가지로 s[0]으로 취한것에서 다시 첫번째 문자를 취하고 또 다시 그것의 첫번째 문자를 취해야 하므로 마찬가지로 p가 출력된 것 같습니다."
   ]
  },
  {
   "cell_type": "code",
   "execution_count": 87,
   "metadata": {
    "collapsed": false
   },
   "outputs": [
    {
     "name": "stdout",
     "output_type": "stream",
     "text": [
      "[0, 1, 2] [3, 4, 5]\n",
      "0 1 2\n",
      "3 4 5\n",
      "python script\n",
      "p y t\n",
      "s c r\n"
     ]
    }
   ],
   "source": [
    "s=[[0,1,2],[3,4,5]]\n",
    "print s[0], s[1]\n",
    "print s[0][0],s[0][1],s[0][2]\n",
    "print s[1][0],s[1][1],s[1][2]\n",
    "s=[\"python\",\"script\"]\n",
    "print s[0], s[1]\n",
    "print s[0][0],s[0][1],s[0][2]\n",
    "print s[1][0],s[1][1],s[1][2]"
   ]
  },
  {
   "cell_type": "markdown",
   "metadata": {},
   "source": [
    "  - 위에서 생각해본 이유가 타당한 설명이 될 수 있을까 생각해보며 위와같은 코드를 작성해보았는데, 확실한 설명이 아닐지언정 어느정도 타당한 이유가 될 수 있을 것이라고 생각할 수 있었습니다."
   ]
  },
  {
   "cell_type": "markdown",
   "metadata": {},
   "source": [
    ">#####(2) s[-100], s[100]은 값이 나오는지 에러가 나오는지 확인하고 그 결과에 대한 이유를 나름대로 설명해 보시오."
   ]
  },
  {
   "cell_type": "code",
   "execution_count": 32,
   "metadata": {
    "collapsed": false
   },
   "outputs": [
    {
     "ename": "IndexError",
     "evalue": "string index out of range",
     "output_type": "error",
     "traceback": [
      "\u001b[1;31m---------------------------------------------------------------------------\u001b[0m",
      "\u001b[1;31mIndexError\u001b[0m                                Traceback (most recent call last)",
      "\u001b[1;32m<ipython-input-32-84a5820c4cb9>\u001b[0m in \u001b[0;36m<module>\u001b[1;34m()\u001b[0m\n\u001b[0;32m      1\u001b[0m \u001b[1;31m#04)의 2번 문제\u001b[0m\u001b[1;33m\u001b[0m\u001b[1;33m\u001b[0m\u001b[0m\n\u001b[0;32m      2\u001b[0m \u001b[0ms\u001b[0m\u001b[1;33m=\u001b[0m\u001b[1;34m\"python\"\u001b[0m\u001b[1;33m\u001b[0m\u001b[0m\n\u001b[1;32m----> 3\u001b[1;33m \u001b[1;32mprint\u001b[0m \u001b[0ms\u001b[0m\u001b[1;33m[\u001b[0m\u001b[1;33m-\u001b[0m\u001b[1;36m100\u001b[0m\u001b[1;33m]\u001b[0m\u001b[1;33m,\u001b[0m\u001b[0ms\u001b[0m\u001b[1;33m[\u001b[0m\u001b[1;36m100\u001b[0m\u001b[1;33m]\u001b[0m\u001b[1;33m\u001b[0m\u001b[0m\n\u001b[0m",
      "\u001b[1;31mIndexError\u001b[0m: string index out of range"
     ]
    }
   ],
   "source": [
    "#04)의 2번 문제\n",
    "s=\"python\"\n",
    "print s[-100],s[100]"
   ]
  },
  {
   "cell_type": "markdown",
   "metadata": {},
   "source": [
    "  - 위 셀의 실행 결과를 보면, 에러가 나온다는 것을 확인할 수 있습니다.\n",
    "  - 저는 일단 \"-6부터 -1, 0부터 5\" 동안은 값이 제대로 나오고(이미 수업시간을 통해 배운 내용) 그 이후의 숫자가 인덱스로 들어가면(-7이하, 6이상)출력이 안될 것이라는 가설을 세워보았고, 직접 코드를 실행해보았습니다."
   ]
  },
  {
   "cell_type": "code",
   "execution_count": 35,
   "metadata": {
    "collapsed": false
   },
   "outputs": [
    {
     "name": "stdout",
     "output_type": "stream",
     "text": [
      "p\n"
     ]
    },
    {
     "ename": "IndexError",
     "evalue": "string index out of range",
     "output_type": "error",
     "traceback": [
      "\u001b[1;31m---------------------------------------------------------------------------\u001b[0m",
      "\u001b[1;31mIndexError\u001b[0m                                Traceback (most recent call last)",
      "\u001b[1;32m<ipython-input-35-ca4a8f612a6a>\u001b[0m in \u001b[0;36m<module>\u001b[1;34m()\u001b[0m\n\u001b[0;32m      1\u001b[0m \u001b[0ms\u001b[0m\u001b[1;33m=\u001b[0m\u001b[1;34m\"python\"\u001b[0m\u001b[1;33m\u001b[0m\u001b[0m\n\u001b[0;32m      2\u001b[0m \u001b[1;32mprint\u001b[0m \u001b[0ms\u001b[0m\u001b[1;33m[\u001b[0m\u001b[1;33m-\u001b[0m\u001b[1;36m6\u001b[0m\u001b[1;33m]\u001b[0m\u001b[1;33m\u001b[0m\u001b[0m\n\u001b[1;32m----> 3\u001b[1;33m \u001b[1;32mprint\u001b[0m \u001b[0ms\u001b[0m\u001b[1;33m[\u001b[0m\u001b[1;33m-\u001b[0m\u001b[1;36m7\u001b[0m\u001b[1;33m]\u001b[0m\u001b[1;31m#04)의 2번 문제 증명 1\u001b[0m\u001b[1;33m\u001b[0m\u001b[0m\n\u001b[0m",
      "\u001b[1;31mIndexError\u001b[0m: string index out of range"
     ]
    }
   ],
   "source": [
    "s=\"python\"\n",
    "print s[-6]\n",
    "print s[-7]#04)의 2번 문제 증명 1"
   ]
  },
  {
   "cell_type": "code",
   "execution_count": 34,
   "metadata": {
    "collapsed": false
   },
   "outputs": [
    {
     "name": "stdout",
     "output_type": "stream",
     "text": [
      "n\n"
     ]
    },
    {
     "ename": "IndexError",
     "evalue": "string index out of range",
     "output_type": "error",
     "traceback": [
      "\u001b[1;31m---------------------------------------------------------------------------\u001b[0m",
      "\u001b[1;31mIndexError\u001b[0m                                Traceback (most recent call last)",
      "\u001b[1;32m<ipython-input-34-7b790c4406b7>\u001b[0m in \u001b[0;36m<module>\u001b[1;34m()\u001b[0m\n\u001b[0;32m      1\u001b[0m \u001b[0ms\u001b[0m\u001b[1;33m=\u001b[0m\u001b[1;34m\"python\"\u001b[0m\u001b[1;33m\u001b[0m\u001b[0m\n\u001b[0;32m      2\u001b[0m \u001b[1;32mprint\u001b[0m \u001b[0ms\u001b[0m\u001b[1;33m[\u001b[0m\u001b[1;36m5\u001b[0m\u001b[1;33m]\u001b[0m\u001b[1;33m\u001b[0m\u001b[0m\n\u001b[1;32m----> 3\u001b[1;33m \u001b[1;32mprint\u001b[0m \u001b[0ms\u001b[0m\u001b[1;33m[\u001b[0m\u001b[1;36m6\u001b[0m\u001b[1;33m]\u001b[0m\u001b[1;31m#04)의 2번 문제 증명 2\u001b[0m\u001b[1;33m\u001b[0m\u001b[0m\n\u001b[0m",
      "\u001b[1;31mIndexError\u001b[0m: string index out of range"
     ]
    }
   ],
   "source": [
    "s=\"python\"\n",
    "print s[5]\n",
    "print s[6]#04)의 2번 문제 증명 2"
   ]
  },
  {
   "cell_type": "markdown",
   "metadata": {},
   "source": [
    "  - 위의 두 셀의 결과로 미루어 보아, 가설이 옳다는 것을 확인할 수 있었습니다.\n",
    "  - 왜 이런 결과가 나오게 되었는지, 출력문에 에러의 표시 옆에 나오는 이유 말고, 무언가 특별한 이유가 있을까 꽤 오랜시간 고민을 해 보았습니다. 그렇지만 결국 내리게 된 결론은 \"인덱스 범위를 넘었기 때문\"입니다. 인덱스 범위를 넘었으니 인덱싱 문이 제대로 실행되지 않는 것이 당연하다는 생각이 들었습니다."
   ]
  },
  {
   "cell_type": "markdown",
   "metadata": {},
   "source": [
    ">#####(3) s[-100, 100]은 값이 나오는지 에러가 나오는지 확인하고 그 결과에 대한 이유를 나름대로 설명해 보시오."
   ]
  },
  {
   "cell_type": "code",
   "execution_count": 36,
   "metadata": {
    "collapsed": false,
    "scrolled": true
   },
   "outputs": [
    {
     "ename": "TypeError",
     "evalue": "string indices must be integers, not tuple",
     "output_type": "error",
     "traceback": [
      "\u001b[1;31m---------------------------------------------------------------------------\u001b[0m",
      "\u001b[1;31mTypeError\u001b[0m                                 Traceback (most recent call last)",
      "\u001b[1;32m<ipython-input-36-5b0b740c0d7e>\u001b[0m in \u001b[0;36m<module>\u001b[1;34m()\u001b[0m\n\u001b[0;32m      1\u001b[0m \u001b[1;31m#04)의 3번 문제\u001b[0m\u001b[1;33m\u001b[0m\u001b[1;33m\u001b[0m\u001b[0m\n\u001b[0;32m      2\u001b[0m \u001b[0ms\u001b[0m\u001b[1;33m=\u001b[0m\u001b[1;34m\"python\"\u001b[0m\u001b[1;33m\u001b[0m\u001b[0m\n\u001b[1;32m----> 3\u001b[1;33m \u001b[1;32mprint\u001b[0m \u001b[0ms\u001b[0m\u001b[1;33m[\u001b[0m\u001b[1;33m-\u001b[0m\u001b[1;36m100\u001b[0m\u001b[1;33m,\u001b[0m \u001b[1;36m100\u001b[0m\u001b[1;33m]\u001b[0m\u001b[1;33m\u001b[0m\u001b[0m\n\u001b[0m",
      "\u001b[1;31mTypeError\u001b[0m: string indices must be integers, not tuple"
     ]
    }
   ],
   "source": [
    "#04)의 3번 문제\n",
    "s=\"python\"\n",
    "print s[-100, 100]"
   ]
  },
  {
   "cell_type": "markdown",
   "metadata": {},
   "source": [
    "  - 인덱싱에 사용되는 것은 튜플이 아니라 정수여야 하기 때문에, s[-100, 100]과 같이 주어지게 되면 당연히 오류가 발생할 것이라고 생각합니다.\n",
    "  - 04)번의 다른 소문제들을 보고 혹시 의도하신 바가 s[-100:100]이 출력되는가를 여쭤보시기 위함이 아니셨을까(인덱싱과 슬라이싱을 비교하기 위해서)하는 생각에 그것도 한번 해보았습니다."
   ]
  },
  {
   "cell_type": "code",
   "execution_count": 77,
   "metadata": {
    "collapsed": false,
    "scrolled": true
   },
   "outputs": [
    {
     "name": "stdout",
     "output_type": "stream",
     "text": [
      "python\n"
     ]
    }
   ],
   "source": [
    "#생각해본것\n",
    "s=\"python\"\n",
    "print s[-100: 100]"
   ]
  },
  {
   "cell_type": "markdown",
   "metadata": {},
   "source": [
    "  - 이 경우에는 04)의 (2)번 문제와는 다르게 시작 오프셋과 끝 오프셋이 모두 범위를 넘었는데도 문자열을 제대로 출력해 주었습니다. 이는 슬라이싱의 경우 범위를 넘어서면 범위 내의 값으로 자동으로 처리되게끔 만들어져서라고 생각합니다."
   ]
  },
  {
   "cell_type": "markdown",
   "metadata": {},
   "source": [
    ">#####(4) s[1:-1]의 결과를 확인하고 그 결과에 대한 이유를 정확하게 설명하시오."
   ]
  },
  {
   "cell_type": "code",
   "execution_count": 71,
   "metadata": {
    "collapsed": false
   },
   "outputs": [
    {
     "name": "stdout",
     "output_type": "stream",
     "text": [
      "ytho\n"
     ]
    }
   ],
   "source": [
    "#04)의 4번 문제\n",
    "s=\"python\"\n",
    "print s[1:-1]"
   ]
  },
  {
   "cell_type": "markdown",
   "metadata": {},
   "source": [
    "  - 시작 오프셋이 1이므로 1의 위치에 있는 y부터 시작하게 됩니다. 끝 오프셋이 -1로 주어졌는데, -1의 위치는 양수로 적게 될 경우 5의 위치와 같아집니다. 뒤에서부터 셀 때에는 뒤에서 첫번째 문자를 -1부터 세기 때문입니다. 따라서 o까지 출력되게 되어 print s[1:-1]의 결과는 ytho가 됩니다.\n",
    "  - 주어진 s[1:-1]은 결국 s[1:5]와 그 출력이 같게 나타난다고 볼 수 있습니다.\n",
    " "
   ]
  },
  {
   "cell_type": "markdown",
   "metadata": {},
   "source": [
    ">#####(5) s[3:-3]의 결과를 확인하고 그 결과에 대한 이유를 정확하게 설명하시오."
   ]
  },
  {
   "cell_type": "code",
   "execution_count": 95,
   "metadata": {
    "collapsed": false,
    "scrolled": true
   },
   "outputs": [
    {
     "name": "stdout",
     "output_type": "stream",
     "text": [
      "\n"
     ]
    }
   ],
   "source": [
    "#04)의 5번 문제\n",
    "s=\"python\"\n",
    "print s[3:-3]"
   ]
  },
  {
   "cell_type": "markdown",
   "metadata": {},
   "source": [
    "  - 시작 오프셋으로 주어진 3과 끝 오프셋으로 주어진 -3이 가리키는 위치가 같습니다. 결국 print s[3:-3]은 3이라는 위치에서 시작하여 그 위치가 되기까지 출력을 하라는 의미가 되어버려 아무것도 출력하지 않고 끝나게 됩니다."
   ]
  },
  {
   "cell_type": "markdown",
   "metadata": {},
   "source": [
    "####05) for문을 활용하여 1부터 100사이의 홀수를 출력하시오."
   ]
  },
  {
   "cell_type": "code",
   "execution_count": 1,
   "metadata": {
    "collapsed": false
   },
   "outputs": [
    {
     "name": "stdout",
     "output_type": "stream",
     "text": [
      "1 3 5 7 9 11 13 15 17 19 21 23 25 27 29 31 33 35 37 39 41 43 45 47 49 51 53 55 57 59 61 63 65 67 69 71 73 75 77 79 81 83 85 87 89 91 93 95 97 99\n"
     ]
    }
   ],
   "source": [
    "for i in range(1,100):#1부터 100미만까지\n",
    "\tif (i%2!=0):#짝수가 아니면(==홀수이면)\n",
    "\t\tprint i,"
   ]
  },
  {
   "cell_type": "markdown",
   "metadata": {},
   "source": [
    "  - print i 다음에 ',' 를 안붙이면 숫자가 한줄에 하나씩만 나와서 너무 자리를 많이 차지하는 것 같은 느낌이 들어 ','를 붙여서 옆에 출력되도록 해주었습니다."
   ]
  },
  {
   "cell_type": "markdown",
   "metadata": {},
   "source": [
    "####06) while문을 활용하여 1부터 100사이의 짝수의 합을 계산하여 출력하시오."
   ]
  },
  {
   "cell_type": "code",
   "execution_count": 84,
   "metadata": {
    "collapsed": false
   },
   "outputs": [
    {
     "name": "stdout",
     "output_type": "stream",
     "text": [
      "2450\n"
     ]
    }
   ],
   "source": [
    "i=1\n",
    "sum=0\n",
    "while(i<100):\n",
    "\tif(i%2==0):#짝수 판단하여 맞으면\n",
    "\t\tsum+=i#합에 더해줌\n",
    "\ti+=1\n",
    "print sum"
   ]
  },
  {
   "cell_type": "markdown",
   "metadata": {},
   "source": [
    "  - '1부터'이므로 1을 포함하는 것은 확실히 알 수 있었는데, '100 사이의' 라는 표현이 100을 포함하는 것인지 모르겠어서, 국립국어원의 질의응답을 찾아본 결과, \n",
    "      - Q. 1과 10 사이의 수는 1과 10도 포함하는 것인가요?\n",
    "      - A. 질의하신 ‘사이’는 한곳에서 다른 곳까지, 또는 한 물체에서 다른 물체까지의 거리나 공간을 의미하므로 포함 관계를 명확히 안내해 드리기 어렵습니다. 다만, 일반적으로 ‘1’과 ‘10’은 포함하지 않는 것으로 해석될 듯합니다.\n",
    "  - 라는 답을 확인할 수 있었습니다. 그래서 일반적인 경우처럼 1부터 100사이를 1이상 99이하라고 생각하고 1이상 99이하의 수 중 짝수의 합을 계산했습니다.\n",
    "  \n",
    "  - 만약에 1이상 100이하의 수 중 짝수들의 합을 계산하는 프로그램이라면 while(i<100)을 while(i<=100)으로 고쳐주면 됩니다."
   ]
  },
  {
   "cell_type": "markdown",
   "metadata": {},
   "source": [
    "####07) 사용자로 부터 임의의 정수를 입력받고, 해당 숫자를 역순으로 출력하는 프로그램을 작성하시오.\n",
    "\n",
    "  - [실행 예]\n",
    "\n",
    "  정수를 입력하세요: 3125  \n",
    "  숫자 역순은 5213 입니다."
   ]
  },
  {
   "cell_type": "code",
   "execution_count": 49,
   "metadata": {
    "collapsed": false
   },
   "outputs": [
    {
     "name": "stdout",
     "output_type": "stream",
     "text": [
      "정수를 입력하세요: \n",
      "980324\n",
      "숫자 역순은 423089 입니다.\n"
     ]
    }
   ],
   "source": [
    "print \"정수를 입력하세요: \"\n",
    "a=input()\n",
    "a=str(a)\n",
    "print \"숫자 역순은 \"+ a[::-1] +\" 입니다.\""
   ]
  },
  {
   "cell_type": "markdown",
   "metadata": {},
   "source": [
    "  - 문제에 임의의 정수를 입력받으라고 명시되어 있어서 input()을 사용하여 받아들인 뒤, 그것을 다시 문자열로 바꿔주고 슬라이싱을 이용하여 역순으로 출력해주었습니다. 사실 input()도 파이썬에서 입력된 문자열을 나름대로 처리해서 넘겨주는 것이지만 그래도 문자열을 받는 raw_input() 다른경우라고 생각했습니다.\n",
    "  - 사실 이 문제처럼 입력된 값을 오로지 역순으로 출력하기만 하는 경우에는 raw_input()으로 입력받아서 바로 슬라이싱 해줌으로써, 따로 a를 문자열로 변환하는 과정을 생략해도 좋을 것 같다는 생각도 듭니다."
   ]
  },
  {
   "cell_type": "markdown",
   "metadata": {},
   "source": [
    "####08) 사용자로 부터 정수를 입력받아서 1부터 그 사이에 존재하는 소수 (Prime number)를 출력하는 파이썬 프로그램을 작성하시오."
   ]
  },
  {
   "cell_type": "code",
   "execution_count": 66,
   "metadata": {
    "collapsed": false
   },
   "outputs": [
    {
     "name": "stdout",
     "output_type": "stream",
     "text": [
      "정수를 입력하세요: \n",
      "60\n",
      "1과 60 사이에 존재하는 소수는 다음과 같습니다.\n",
      "2 3 5 7 11 13 17 19 23 29 31 37 41 43 47 53 59\n"
     ]
    }
   ],
   "source": [
    "print \"정수를 입력하세요: \"\n",
    "a=input()\n",
    "print \"1과\",a,\"사이에 존재하는 소수는 다음과 같습니다.\"\n",
    "for i in range(2,a):#1은 소수가 아니므로, 범위를 2부터 주었습니다.\n",
    "    tmp=0\n",
    "    for j in range(2, i):\n",
    "        if(i%j==0):#소수가 아닐때 tmp값을 바꿔주고 j반복 멈춤\n",
    "            tmp=1\n",
    "            break\n",
    "    if(tmp==0):\n",
    "        print i,"
   ]
  },
  {
   "cell_type": "markdown",
   "metadata": {},
   "source": [
    "  - 이번 문제도 05)번 문제와 같은 경우로, print i 다음에 ',' 를 안붙이면 입력된 숫자에 따라 출력되는 숫자들이 너무 자리를 많이 차지한다는 생각이 들어 ','를 붙여서 옆에 출력되도록 해주었습니다."
   ]
  },
  {
   "cell_type": "markdown",
   "metadata": {
    "collapsed": true
   },
   "source": [
    "####09) [프로젝트 오일러 문제 1]\n",
    "  - 1000보다 작은 자연수 중에서 3 또는 5의 배수를 모두 더하면?\n",
    "    - 10보다 작은 자연수 중에서 3 또는 5의 배수는 3, 5, 6, 9 이고, 이것을 모두 더하면 23입니다.\n",
    "    - 1000보다 작은 자연수 중에서 3 또는 5의 배수를 모두 더하면 얼마일까요?"
   ]
  },
  {
   "cell_type": "code",
   "execution_count": 43,
   "metadata": {
    "collapsed": false
   },
   "outputs": [
    {
     "name": "stdout",
     "output_type": "stream",
     "text": [
      "233168\n"
     ]
    }
   ],
   "source": [
    "sum=0\n",
    "for i in range(1,1000):\n",
    "    if(i%3==0 or i%5==0):\n",
    "        sum+=i\n",
    "print sum"
   ]
  },
  {
   "cell_type": "markdown",
   "metadata": {},
   "source": [
    "  - 3또는 5의 배수를 구하는 것이기 때문에 or을 이용하여 3또는 5의 배수인지 여부를 확인해주었고, 그 수들을 모두 sum이라는 변수에 더해 합을 구했습니다."
   ]
  },
  {
   "cell_type": "markdown",
   "metadata": {},
   "source": [
    "####10) [프로젝트 오일러 문제 2]\n",
    "  - 피보나치 수열에서 4백만 이하이면서 짝수인 항의 합\n",
    "    - 피보나치 수열의 각 항은 바로 앞의 항 두 개를 더한 것이 됩니다. 1과 2로 시작하는 경우 이 수열은 아래와 같습니다.\n",
    "      - 1, 2, 3, 5, 8, 13, 21, 34, 55, 89, ...\n",
    "    - 짝수이면서 4백만 이하인 모든 항을 더하면 얼마가 됩니까?"
   ]
  },
  {
   "cell_type": "code",
   "execution_count": 78,
   "metadata": {
    "collapsed": false
   },
   "outputs": [
    {
     "name": "stdout",
     "output_type": "stream",
     "text": [
      "4613732\n"
     ]
    }
   ],
   "source": [
    "current=2\n",
    "last=1\n",
    "sum=0\n",
    "while True:\n",
    "    if(current<=4000000):#4백만 이하일 때,\n",
    "        if(current%2==0):#짝수면 합에 더해줌\n",
    "            sum+=current\n",
    "        tmp=last\n",
    "        last=current\n",
    "        current=tmp+last#다음의 피보나치 수를 구하는 과정\n",
    "    else:#4백만 초과일 때\n",
    "        break\n",
    "print sum"
   ]
  },
  {
   "cell_type": "markdown",
   "metadata": {},
   "source": [
    "  - 짝수이면서 4백만 이하의 항을 구하는 것이므로 먼저 어떤 항에 대해 짝수 판단을 하여 짝수가 맞으면 합에 추가시켜주었고, 그 뒤에는 tmp변수를 이용하여 피보나치 수열대로 값을 바꿔가며 진행해주었습니다. 만약 수열의 현재 값이 4백만을 넘을경우 반복을 멈추고 합이 출력되도록 해주었습니다."
   ]
  },
  {
   "cell_type": "markdown",
   "metadata": {},
   "source": [
    "####11) [프로젝트 오일러 문제 3]\n",
    "  - 가장 큰 소인수 구하기\n",
    "    - 어떤 수를 소수의 곱으로만 나타내는 것을 소인수분해라 하고, 이 소수들을 그 수의 소인수라고 합니다.\n",
    "    - 예를 들면 13195의 소인수는 5, 7, 13, 29 입니다.\n",
    "    - 600851475143의 소인수 중에서 가장 큰 수를 구하세요."
   ]
  },
  {
   "cell_type": "code",
   "execution_count": 81,
   "metadata": {
    "collapsed": false
   },
   "outputs": [
    {
     "name": "stdout",
     "output_type": "stream",
     "text": [
      "6857\n"
     ]
    }
   ],
   "source": [
    "num=600851475143\n",
    "i=2\n",
    "temp=num\n",
    "while(i<num):\n",
    "    while(temp%i==0):\n",
    "        temp=temp/i\n",
    "    if(temp==1):\n",
    "        print i\n",
    "        break\n",
    "    i+=1"
   ]
  },
  {
   "cell_type": "markdown",
   "metadata": {},
   "source": [
    "  - 하나씩 수를 더해가며 나누어 떨어질 때 그 수가 소수인지 판단하려 하니 너무 오래걸릴 것 같았습니다. 실제로 그런식으로도 코드를 한번 작성해보았는데 주어진 숫자가 작을때도 오래걸리고, 그 숫자가 커지면 제대로 실행되지도 못한 채 버벅거리기 일쑤였습니다.\n",
    "  - 그래서 생각을 바꾸어 봤습니다. 어떤 수가 소인수 분해가 된다면, 그 수를 어떤 한 소인수로 나누어도 나머지 소인수를 구하는데는 전혀 지장이 없을 것이라고 생각했습니다. 그래서 주어진 수를 나눌 수 있는 수가 발견되면, 그 수를 나눌 수 있는 수(소인수)로 계속 나누어 주었고, 그러다가 temp의 값이 1이 될 때의 값을 출력해주어 가장 큰 소수를 구하였습니다.\n",
    "  - 실행도 훨씬 빨리되고 코드도 간결해졌습니다."
   ]
  },
  {
   "cell_type": "markdown",
   "metadata": {},
   "source": [
    "###< 숙제 이후 소감 >"
   ]
  },
  {
   "cell_type": "markdown",
   "metadata": {},
   "source": [
    "  - 처음 수업에서는 약간 개념적인 것들을 하고, 콘솔창을 쓰기도 하여서 잘 적응하지 못한탓에 따라가기가 버거웠던 것 같습니다. 그런데 이후 수업부터는 직접 코딩하면서 들으니 오히려 처음보다는 이해하기가 더 나아진 것 같습니다. 이러닝은 인강느낌이라 이해 안돼는 부분을 계속 돌려볼수도 있고, 코딩하면서 잠시 멈춰둘 수도 있어서 이해가 느린편인 저한테는 정말 여러모로 좋은 것 같습니다. 아 그리고 처음에 질문했을 때 천천히 차근차근 설명해주셔서 정말 감사했었어요! 앞으로도 막 이상한거 질문하고 그럴지도 모르는데... 미리 죄송합니다... 앞으로도 잘부탁드립니다!"
   ]
  }
 ],
 "metadata": {
  "kernelspec": {
   "display_name": "Python 2",
   "language": "python",
   "name": "python2"
  },
  "language_info": {
   "codemirror_mode": {
    "name": "ipython",
    "version": 2
   },
   "file_extension": ".py",
   "mimetype": "text/x-python",
   "name": "python",
   "nbconvert_exporter": "python",
   "pygments_lexer": "ipython2",
   "version": "2.7.9"
  }
 },
 "nbformat": 4,
 "nbformat_minor": 0
}
