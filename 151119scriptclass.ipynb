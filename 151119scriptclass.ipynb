{
 "cells": [
  {
   "cell_type": "markdown",
   "metadata": {},
   "source": [
    "파이썬 클래스는 새로운 이름 공간을 지원하는 또 다른 단위.\n",
    "t : 파이썬은 이게 훨씬 더 중요한 특징임.\n",
    "\n",
    "<객체와 인스턴스의 차이>  \n",
    "인스턴스는 지금 막 만들어진 따끈따끈한 붕어빵.\n",
    "지금 막 메모리에 올라와있는 객체에 대해 특히 인스턴스라는 말을 붙임(?)\n",
    "객체는 이론적으로 나오는 교과서적인 것."
   ]
  },
  {
   "cell_type": "code",
   "execution_count": 2,
   "metadata": {
    "collapsed": false
   },
   "outputs": [
    {
     "name": "stdout",
     "output_type": "stream",
     "text": [
      "1\n",
      "\n",
      "2\n",
      "\n",
      "['__doc__', '__module__', 'a', 'b']\n",
      "['__doc__', '__module__', 'a']\n"
     ]
    }
   ],
   "source": [
    "class S1:#클래스는 관례적으로 대문자.\n",
    "    a = 1\n",
    "    \n",
    "print S1.a#S1이라는 붕어빵에 a고명\n",
    "print\n",
    "\n",
    "S1.b = 2#클래스 이름 공간에 새로운 이름의 생성\n",
    "print S1.b\n",
    "print\n",
    "\n",
    "print dir(S1)#S1에 포함된 이름들을 리스트로 반환\n",
    "#__doc__클래스 도큐맨트였나 하여간 그 설명부분ㅇㅇㅇ\n",
    "del S1.b#이름 공간 S1에서 b삭제\n",
    "print dir(S1)"
   ]
  },
  {
   "cell_type": "code",
   "execution_count": 3,
   "metadata": {
    "collapsed": false
   },
   "outputs": [
    {
     "name": "stdout",
     "output_type": "stream",
     "text": [
      "1\n",
      "10\n",
      "1\n"
     ]
    }
   ],
   "source": [
    "x = S1()#x는 S1의 클래스 인스턴스\n",
    "#함수를 call한다. 클래스를 call한다 ->인스턴스가 튀어나옴.\n",
    "print x.a#붕어빵의 a를 찾아 출력해라 인데 없으니까 클래스에서 찾아옴\n",
    "\n",
    "x.a = 10#클래스 인스턴스 x의 이름 공간에 이름 생성\n",
    "print x.a\n",
    "\n",
    "printS1.a # 클래스 이름 공간과 클래스 인스턴스의 이름공간은 다르다"
   ]
  },
  {
   "cell_type": "code",
   "execution_count": 5,
   "metadata": {
    "collapsed": false
   },
   "outputs": [
    {
     "name": "stdout",
     "output_type": "stream",
     "text": [
      "300\n",
      "10\n",
      "1\n"
     ]
    }
   ],
   "source": [
    "y = S1()#S1 클래스의 또 다른 인스턴스 생성\n",
    "\n",
    "y.a = 300#클래스 인스턴스 y의 이름 공간에 이름 생성\n",
    "\n",
    "print y.a \n",
    "print x.a # x 인스턴스 공간의 이름 a 확인\n",
    "print S1.a # 클래스 이름 공간의 a 확인"
   ]
  },
  {
   "cell_type": "code",
   "execution_count": 10,
   "metadata": {
    "collapsed": false
   },
   "outputs": [
    {
     "data": {
      "text/plain": [
       "['__doc__', '__module__', 'b']"
      ]
     },
     "execution_count": 10,
     "metadata": {},
     "output_type": "execute_result"
    }
   ],
   "source": [
    "class S2:#클래스는 관례적으로 대문자.\n",
    "    b = 1\n",
    "x=S2()\n",
    "dir(x)"
   ]
  },
  {
   "cell_type": "code",
   "execution_count": 11,
   "metadata": {
    "collapsed": false
   },
   "outputs": [
    {
     "name": "stdout",
     "output_type": "stream",
     "text": [
      "100\n",
      "100\n"
     ]
    }
   ],
   "source": [
    "y=S2()\n",
    "dir(y)\n",
    "prkn\n",
    "\n",
    "pdir(S2)\n",
    "S2.a=100\n",
    "print x.a\n",
    "print y.a\n"
   ]
  },
  {
   "cell_type": "code",
   "execution_count": 13,
   "metadata": {
    "collapsed": false
   },
   "outputs": [
    {
     "name": "stdout",
     "output_type": "stream",
     "text": [
      "100\n",
      "10000\n",
      "100\n",
      "100\n",
      "200\n",
      "100\n"
     ]
    }
   ],
   "source": [
    "x.a=10000\n",
    "print S2.a\n",
    "print x.a\n",
    "print y.a\n",
    "\n",
    "x.a=200\n",
    "print S2.a\n",
    "print x.a\n",
    "print y.a\n",
    "\n",
    "#여기 수업 다시 ㅏ=한ㅂㄴ듣기ㅣ"
   ]
  },
  {
   "cell_type": "code",
   "execution_count": 17,
   "metadata": {
    "collapsed": false
   },
   "outputs": [
    {
     "ename": "SyntaxError",
     "evalue": "invalid syntax (<ipython-input-17-a08893108b69>, line 1)",
     "output_type": "error",
     "traceback": [
      "\u001b[1;36m  File \u001b[1;32m\"<ipython-input-17-a08893108b69>\"\u001b[1;36m, line \u001b[1;32m1\u001b[0m\n\u001b[1;33m    lass Simple:\u001b[0m\n\u001b[1;37m              ^\u001b[0m\n\u001b[1;31mSyntaxError\u001b[0m\u001b[1;31m:\u001b[0m invalid syntax\n"
     ]
    }
   ],
   "source": [
    "lass Simple:\n",
    "    pass#몸체에 아무것도 안적으면 틀림\n",
    "    \n",
    "s1 = Simple()\n",
    "s2 = Simple()"
   ]
  },
  {
   "cell_type": "code",
   "execution_count": 15,
   "metadata": {
    "collapsed": true
   },
   "outputs": [],
   "source": [
    "class MyClass:\n",
    "    def set(self, v):\n",
    "        self.value = v#c언어의 this같은 역할을 하는것이 self\n",
    "    def get(self):\n",
    "        return self.value"
   ]
  },
  {
   "cell_type": "code",
   "execution_count": 16,
   "metadata": {
    "collapsed": true
   },
   "outputs": [],
   "source": [
    "q = MyClass()\n",
    "q.set(100)#큐가 인스턴스에 들어가서 "
   ]
  },
  {
   "cell_type": "code",
   "execution_count": 19,
   "metadata": {
    "collapsed": false
   },
   "outputs": [
    {
     "name": "stdout",
     "output_type": "stream",
     "text": [
      "<__main__.MyClass instance at 0x0000000003AB2248>\n"
     ]
    }
   ],
   "source": [
    "q.get()#######여기 다시보고 제대로 채워넣기.\n",
    "print q"
   ]
  },
  {
   "cell_type": "markdown",
   "metadata": {},
   "source": [
    "메소드 호출 종류\n",
    "Unbound method call: 클래스 객체를 이용한 메소드 호출\n",
    "예: MyClass.set(c, 'egg')\n",
    "Bound method call: 인스턴스 객체를 통한 메소드 호출 (self 인자는 호출받은 객체가 자동으로 할당)\n",
    "예: c.set('egg')<-myClass의 객체이면 어떤게 와도 상관 ㄴㄴㄴ"
   ]
  },
  {
   "cell_type": "code",
   "execution_count": 23,
   "metadata": {
    "collapsed": false
   },
   "outputs": [
    {
     "name": "stdout",
     "output_type": "stream",
     "text": [
      "1\n",
      "\n",
      "2\n"
     ]
    }
   ],
   "source": [
    "class MyClass:\n",
    "    def set(self, v):\n",
    "        self.value = v\n",
    "    def incr(self):\n",
    "        self.set(self.value + 1)#self안붙이면안됨\n",
    "        # 부 메소드 호출\n",
    "        #바운드 메소드 콜\n",
    "    def get(self):\n",
    "        return self.value\n",
    "    \n",
    "c = MyClass()\n",
    "c.set(1)\n",
    "print c.get()\n",
    "\n",
    "print\n",
    "\n",
    "c.incr()\n",
    "print c.get()"
   ]
  },
  {
   "cell_type": "code",
   "execution_count": 21,
   "metadata": {
    "collapsed": true
   },
   "outputs": [],
   "source": [
    "a=MyClass()\n",
    "a.set(100)"
   ]
  },
  {
   "cell_type": "code",
   "execution_count": 25,
   "metadata": {
    "collapsed": false
   },
   "outputs": [
    {
     "name": "stdout",
     "output_type": "stream",
     "text": [
      "103\n"
     ]
    }
   ],
   "source": [
    "a.incr()#세번\n",
    "print a.get()"
   ]
  },
  {
   "cell_type": "code",
   "execution_count": 26,
   "metadata": {
    "collapsed": false
   },
   "outputs": [
    {
     "name": "stdout",
     "output_type": "stream",
     "text": [
      "static method 1 2\n",
      "\n",
      "static method 1 2\n"
     ]
    }
   ],
   "source": [
    "class D:\n",
    "    @staticmethod\n",
    "    def spam(x, y):            # self가 없다.\n",
    "        print 'static method', x, y\n",
    "        #그냥 spam이 평범한 함수가 되어버림.\n",
    "D.spam(1,2) # 인스턴스 객체 없이 클래스에서 직접 호출\n",
    "\n",
    "print\n",
    "d = D()\n",
    "d.spam(1,2) # 인스턴스 객체를 통해서도 호출 가능~!!!!!!이거중요"
   ]
  },
  {
   "cell_type": "code",
   "execution_count": 27,
   "metadata": {
    "collapsed": false
   },
   "outputs": [
    {
     "name": "stdout",
     "output_type": "stream",
     "text": [
      "__main__.C\n",
      "__main__.C -> 5\n",
      "__main__.C -> 5\n"
     ]
    }
   ],
   "source": [
    "class C:\n",
    "    @classmethod\n",
    "    def spam(cls, y):\n",
    "        print cls, '->', y\n",
    "        #첫번째 인자에 클래스(붕어빵 틀 )가 자연스럽게 들어옴\n",
    "    \n",
    "print C#현재는 repr이나 스트링이 없음.\n",
    "\n",
    "C.spam(5) # 첫번째 인수로 C가 잠재적으로 전달된다.\n",
    "\n",
    "c = C()\n",
    "c.spam(5) # 인스턴스 객체를 통해서도 호출 가능.\n",
    "#객체를 통해서 호출을 해도 cls에는 클래스가 들어가게 됨."
   ]
  },
  {
   "cell_type": "code",
   "execution_count": 28,
   "metadata": {
    "collapsed": false
   },
   "outputs": [
    {
     "name": "stdout",
     "output_type": "stream",
     "text": [
      "__main__.D -> 3\n",
      "None\n",
      "\n",
      "__main__.D -> 3\n",
      "None\n",
      "\n",
      "__main__.C -> 3\n",
      "None\n"
     ]
    }
   ],
   "source": [
    "class D(C):\n",
    "    #클래스를 만들때 인자가 들어감.(C클래스를 상속받겠다!!!!!!)\n",
    "    pass\n",
    "\n",
    "print D.spam(3)#D클래스 객체가 첫번째 인자에 들어감(다시 질문하기)\n",
    "print\n",
    "\n",
    "d = D()\n",
    "print d.spam(3)#첫번째 인자로 D가 들어감.\n",
    "print\n",
    "\n",
    "print C.spam(3)#이러면 C가 인자로 들어가겠지.\n",
    "\n",
    "#출력 첫줄은 spam함수 내에서고, None은 함수가 리턴하는게 없어서\n",
    "#함수에서 None이 리턴된거라구 보고 None을 찍어줌"
   ]
  },
  {
   "cell_type": "code",
   "execution_count": 29,
   "metadata": {
    "collapsed": true
   },
   "outputs": [],
   "source": [
    "class Var:\n",
    "    c_mem = 100 # 클래스 멤버 정의\n",
    "    def f(self): \n",
    "        self.i_mem = 200 # 인스턴스 멤버 정의\n",
    "    def g(self):\n",
    "        print self.i_mem\n",
    "        print self.c_mem        \n",
    "#self.어쩌구 하면서 들어가는걸 인스턴스 멤버라구 보면 될 거 같음."
   ]
  },
  {
   "cell_type": "code",
   "execution_count": 30,
   "metadata": {
    "collapsed": false
   },
   "outputs": [
    {
     "name": "stdout",
     "output_type": "stream",
     "text": [
      "100\n",
      "100\n",
      "200\n",
      "\n"
     ]
    },
    {
     "ename": "AttributeError",
     "evalue": "Var instance has no attribute 'i_mem'",
     "output_type": "error",
     "traceback": [
      "\u001b[1;31m---------------------------------------------------------------------------\u001b[0m",
      "\u001b[1;31mAttributeError\u001b[0m                            Traceback (most recent call last)",
      "\u001b[1;32m<ipython-input-30-1950cf0552a9>\u001b[0m in \u001b[0;36m<module>\u001b[1;34m()\u001b[0m\n\u001b[0;32m      8\u001b[0m \u001b[1;32mprint\u001b[0m\u001b[1;33m\u001b[0m\u001b[0m\n\u001b[0;32m      9\u001b[0m \u001b[0mv2\u001b[0m \u001b[1;33m=\u001b[0m \u001b[0mVar\u001b[0m\u001b[1;33m(\u001b[0m\u001b[1;33m)\u001b[0m       \u001b[1;31m# 인스턴스 v2 생성\u001b[0m\u001b[1;33m\u001b[0m\u001b[0m\n\u001b[1;32m---> 10\u001b[1;33m \u001b[1;32mprint\u001b[0m \u001b[0mv2\u001b[0m\u001b[1;33m.\u001b[0m\u001b[0mi_mem\u001b[0m   \u001b[1;31m# 인스턴스 v2에는 아직 f() 호출이 안되어서 i_mem 멤버 없음 ==> 생성자의 필요성\u001b[0m\u001b[1;33m\u001b[0m\u001b[0m\n\u001b[0m",
      "\u001b[1;31mAttributeError\u001b[0m: Var instance has no attribute 'i_mem'"
     ]
    }
   ],
   "source": [
    "print Var.c_mem #클래스 객체를 통하여 클래스 멤버 접근\n",
    "v1 = Var()#인스턴스 v1 생성\n",
    "print v1.c_mem#인스턴스를 통하여 클래스 멤버 접근\n",
    "v1.f()#인스턴스 멤버 i_mem이 생성됨\n",
    "print v1.i_mem #인스턴스 v1을 통하여 인스턴스 멤버 접근\n",
    "\n",
    "print\n",
    "v2 = Var()#인스턴스 v2 생성\n",
    "print v2.i_mem\n",
    "#인스턴스 v2에는 아직 f() 호출이 안되어서 i_mem 멤버 없음 \n",
    "#==> 생성자의 필요성"
   ]
  },
  {
   "cell_type": "markdown",
   "metadata": {},
   "source": [
    "\"인스턴스 이름.멤버 이름\"으로 멤버를 참조할 때 멤버의 검색 순서\n",
    "- 1) 인스턴스 멤버\n",
    "- 2) 인스턴스 멤버가 없다면 클래스 멤버"
   ]
  },
  {
   "cell_type": "code",
   "execution_count": 38,
   "metadata": {
    "collapsed": false
   },
   "outputs": [
    {
     "name": "stdout",
     "output_type": "stream",
     "text": [
      "Birthday Thu Nov 19 12:16:53 2015\n",
      "Sleeping for 3 sec\n",
      "1000\n",
      "Deathday Thu Nov 19 12:16:56 2015\n"
     ]
    }
   ],
   "source": [
    "# _*_ coding:utf-8 _*_\n",
    "from time import ctime, sleep\n",
    "#ctime이라는 함수와 sleep이라는 함수를 가져오고 싶은 것임\n",
    "\n",
    "class Life:\n",
    "    def __init__(self): #생성자\n",
    "        self.birth = ctime() #현재시간에 대한 문자열을 얻는다.\n",
    "        self.a=1000\n",
    "        print 'Birthday', self.birth #현재 시간 출력\n",
    "    def __del__(self):  #소멸자\n",
    "        print self.a\n",
    "        print 'Deathday', ctime()  #소멸 시간 출력 \n",
    "\n",
    "def test():\n",
    "    mylife = Life()\n",
    "    print 'Sleeping for 3 sec'\n",
    "    sleep(3) #3초간 sleep(block)상태에 있음 (CPU 점유 못함)\n",
    "    #내장되어있는 함수\n",
    "test()\n",
    "\n",
    "#함수호출을 안하고 걍 하면 마지막줄이 안찍힘.\n",
    "#함수가 끝나면 사라짐// mylife는 지역변수이니까."
   ]
  },
  {
   "cell_type": "code",
   "execution_count": 37,
   "metadata": {
    "collapsed": false
   },
   "outputs": [
    {
     "name": "stdout",
     "output_type": "stream",
     "text": [
      "Birthday Thu Nov 19 12:16:42 2015\n",
      "Sleeping for 3 sec\n"
     ]
    }
   ],
   "source": [
    "mylife1 = Life()\n",
    "print 'Sleeping for 3 sec'\n",
    "sleep(3)\n",
    "#지금 mylife1은 제대로 지워진 상태가 아닌 것임.\n",
    "#이게 ipython notebook 꺼지거나 커널 리스타트 인터럽트 눌러주거나.\n",
    "#메모리가 부족하다 싶으면 가비지 콜렉터가 불려져서......"
   ]
  },
  {
   "cell_type": "code",
   "execution_count": 41,
   "metadata": {
    "collapsed": false
   },
   "outputs": [
    {
     "name": "stdout",
     "output_type": "stream",
     "text": [
      "<__main__.Integer instance at 0x0000000003AB5408>\n",
      "<__main__.Integer instance at 0x0000000003AB5408>\n",
      "<__main__.Integer instance at 0x0000000003AB5408>\n"
     ]
    }
   ],
   "source": [
    "class Integer:\n",
    "    def __init__(self, i):\n",
    "        self.i = i#*\n",
    "    #def __str__(self):\n",
    "     #   return str(self.i)\n",
    "\n",
    "i = Integer(100)#% *과 %는 다른 경우임.\n",
    "print i\n",
    "print str(i)\n",
    "print repr(i)"
   ]
  },
  {
   "cell_type": "code",
   "execution_count": 44,
   "metadata": {
    "collapsed": false
   },
   "outputs": [
    {
     "name": "stdout",
     "output_type": "stream",
     "text": [
      "100\n",
      "100\n",
      "100SHINHWA\n"
     ]
    }
   ],
   "source": [
    "class Integer:\n",
    "    def __init__(self, i):\n",
    "        self.i = i#*\n",
    "    def __str__(self):\n",
    "        return str(self.i)\n",
    "    def __repr__(self):\n",
    "        return str(self.i)+\"SHINHWA\"\n",
    "\n",
    "i = Integer(100)#% *과 %는 다른 경우임.\n",
    "print i\n",
    "print str(i)\n",
    "print repr(i)#repr은 아직 없는 상태."
   ]
  },
  {
   "cell_type": "markdown",
   "metadata": {},
   "source": [
    "##연산자 중복은 암기가 필요한 부분임!!! add sub mul div정도만 잘 알아두자......"
   ]
  },
  {
   "cell_type": "code",
   "execution_count": 55,
   "metadata": {
    "collapsed": false
   },
   "outputs": [
    {
     "name": "stdout",
     "output_type": "stream",
     "text": [
      "10\n",
      "10\n",
      "\n",
      "20\n",
      "\n",
      "30\n",
      "\n",
      "30\n",
      "10\n",
      "10\n",
      "<type 'instance'>\n",
      "<type 'int'>\n"
     ]
    }
   ],
   "source": [
    "class Integer:\n",
    "    def __init__(self, i):\n",
    "        self.i = i\n",
    "    def __str__(self):\n",
    "        return str(self.i)\n",
    "    def __add__(self, other):\n",
    "        return self.i + other \n",
    "    #반환이 아니라 self.i = self.i +other로...\n",
    "\n",
    "i = Integer(10)\n",
    "print i\n",
    "print str(i)\n",
    "\n",
    "print\n",
    "i = i + 10\n",
    "#두번째 i가 self에 들어가고 other에 10이 들어가지는 것임.\n",
    "print i\n",
    "\n",
    "print\n",
    "i += 10\n",
    "print i\n",
    "\n",
    "print \n",
    "i+10 #반환된 값이 어디 들어가지를 못함\n",
    "print i\n",
    "\n",
    "\n",
    "i=Integer(10)\n",
    "print i\n",
    "print str(i)\n",
    "\n",
    "print type(i) #여기까지 i는 그냥 단순한 인스턴스.\n",
    "i=i+10#인트랑 인트를 더한 결과가 반환되서 들어오기 때문에...!!!!!!\n",
    "print type(i)"
   ]
  },
  {
   "cell_type": "code",
   "execution_count": 56,
   "metadata": {
    "collapsed": false
   },
   "outputs": [
    {
     "name": "stdout",
     "output_type": "stream",
     "text": [
      "['abcd', 'abcd', 'abcd']\n",
      "['abcd', 'bcd', 'bcd']\n",
      "\n",
      "['abcd', 'abcd', 'abcd']\n"
     ]
    }
   ],
   "source": [
    "class MyString:\n",
    "    def __init__(self, str):\n",
    "        self.str = str\n",
    "    def __div__(self, sep): \n",
    "        #나누기 연산자 /가 사용되었을 때 호출되는 함수 \n",
    "        return self.str.split(sep) \n",
    "    #문자열 self.str을 sep를 기준으로 분리\n",
    "\n",
    "m = MyString(\"abcd_abcd_abcd\")\n",
    "print m / \"_\" #m이 self에 들어가고 \"_\"가 sep에 들어가게 됨!!!!!!\n",
    "print m / \"_a\"\n",
    "\n",
    "print\n",
    "print m.__div__(\"_\")"
   ]
  },
  {
   "cell_type": "code",
   "execution_count": 57,
   "metadata": {
    "collapsed": false
   },
   "outputs": [
    {
     "name": "stdout",
     "output_type": "stream",
     "text": [
      "['abcd', 'abcd', 'abcd']\n",
      "['abcd', 'bcd', 'bcd']\n",
      "\n",
      "['abcd', 'abcd', 'abcd']\n",
      "['abcd', 'bcd', 'bcd']\n"
     ]
    }
   ],
   "source": [
    "class MyString:\n",
    "    def __init__(self, str):\n",
    "        self.str = str\n",
    "    def __div__(self, sep):#이건 객체이고, 함수임.\n",
    "        return str.split(self.str, sep)\n",
    "    __rdiv__ = __div__#같은 함수가 되어버림.\n",
    "\n",
    "m = MyString(\"abcd_abcd_abcd\")\n",
    "print m / \"_\"\n",
    "print m / \"_a\"\n",
    "print\n",
    "print \"_\" / m #객체가 연산자 뒤에 있는 경우 __rdive__ 호출됨\n",
    "print \"_a\" / m"
   ]
  },
  {
   "cell_type": "code",
   "execution_count": 58,
   "metadata": {
    "collapsed": false
   },
   "outputs": [
    {
     "name": "stdout",
     "output_type": "stream",
     "text": [
      "fedcba\n",
      "fedcba\n"
     ]
    }
   ],
   "source": [
    "#단항연산자.\n",
    "class MyString:\n",
    "    def __init__(self, str):\n",
    "        self.str = str\n",
    "    def __div__(self, sep):\n",
    "        return str.split(self.str, sep)\n",
    "    __rdiv__ = __div__\n",
    "    def __neg__(self):\n",
    "        t = list(self.str)#t=['a','b','c','d','e','f,']\n",
    "        t.reverse()\n",
    "        return ''.join(t)\n",
    "    __invert__ = __neg__\n",
    "    \n",
    "m = MyString(\"abcdef\")\n",
    "print -m#negative\n",
    "print ~m#invert\n",
    "#둘다 동일한 몸체가 실행됨.\n"
   ]
  },
  {
   "cell_type": "code",
   "execution_count": 65,
   "metadata": {
    "collapsed": false
   },
   "outputs": [
    {
     "name": "stdout",
     "output_type": "stream",
     "text": [
      "False\n",
      "False\n",
      "True\n",
      "\n",
      "\n",
      "False\n",
      "1\n"
     ]
    }
   ],
   "source": [
    "#less than\n",
    "#less than or equal\n",
    "#greater than or equal....\n",
    "\n",
    "\n",
    "class MyCmp:\n",
    "    def __init__(self, vlaue=None):\n",
    "        self.value=vlaue\n",
    "    def __cmp__(self, y):\n",
    "        return 1 - y # 0은 양수가 아니니 1을 넣으면 false가 나옴\n",
    "    #def __gt__(self, y):\n",
    "    #return self.value >y 이런걸만들어줘도 좋음.\n",
    "    \n",
    "c = MyCmp() \n",
    "print c > 1 # c.__cmp__(1)을 호출, 반환값이 양수이어야 True\n",
    "print c < 1 # c.__cmp__(1)을 호출, 반환값이 음수이어야 True\n",
    "print c == 1 # c.__cmp__(1)을 호출, 반환값이 0이어야 True\n",
    "\n",
    "print\n",
    "print\n",
    "#gt를 만들어주는 코드가 좋은 것임.\n",
    "d=MyCmp(10)\n",
    "print d<1\n",
    "print int(True)"
   ]
  },
  {
   "cell_type": "code",
   "execution_count": null,
   "metadata": {
    "collapsed": true
   },
   "outputs": [],
   "source": []
  }
 ],
 "metadata": {
  "kernelspec": {
   "display_name": "Python 2",
   "language": "python",
   "name": "python2"
  },
  "language_info": {
   "codemirror_mode": {
    "name": "ipython",
    "version": 2
   },
   "file_extension": ".py",
   "mimetype": "text/x-python",
   "name": "python",
   "nbconvert_exporter": "python",
   "pygments_lexer": "ipython2",
   "version": "2.7.9"
  }
 },
 "nbformat": 4,
 "nbformat_minor": 0
}
