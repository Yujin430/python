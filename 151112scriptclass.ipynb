{
 "cells": [
  {
   "cell_type": "code",
   "execution_count": 2,
   "metadata": {
    "collapsed": false
   },
   "outputs": [
    {
     "ename": "ImportError",
     "evalue": "No module named mymath",
     "output_type": "error",
     "traceback": [
      "\u001b[1;31m---------------------------------------------------------------------------\u001b[0m",
      "\u001b[1;31mImportError\u001b[0m                               Traceback (most recent call last)",
      "\u001b[1;32m<ipython-input-2-bff7128762ca>\u001b[0m in \u001b[0;36m<module>\u001b[1;34m()\u001b[0m\n\u001b[0;32m      4\u001b[0m \u001b[1;31m#l-value가 처음 튀어나올때 그 변수의 스코프가 결정됨\u001b[0m\u001b[1;33m\u001b[0m\u001b[1;33m\u001b[0m\u001b[0m\n\u001b[0;32m      5\u001b[0m \u001b[0ma\u001b[0m\u001b[1;33m=\u001b[0m\u001b[1;36m1\u001b[0m\u001b[1;31m#보통 글로브스콮\u001b[0m\u001b[1;33m\u001b[0m\u001b[0m\n\u001b[1;32m----> 6\u001b[1;33m \u001b[1;32mimport\u001b[0m \u001b[0mmymath\u001b[0m\u001b[1;31m#이름이 글로벌 공간으로 들어옴\u001b[0m\u001b[1;33m\u001b[0m\u001b[0m\n\u001b[0m\u001b[0;32m      7\u001b[0m \u001b[1;32mprint\u001b[0m \u001b[0ma\u001b[0m\u001b[1;33m\u001b[0m\u001b[0m\n\u001b[0;32m      8\u001b[0m \u001b[1;32mprint\u001b[0m \u001b[0mmymath\u001b[0m\u001b[1;33m.\u001b[0m\u001b[0ma\u001b[0m\u001b[1;33m\u001b[0m\u001b[0m\n",
      "\u001b[1;31mImportError\u001b[0m: No module named mymath"
     ]
    }
   ],
   "source": [
    "#모듈은 독립적인 이름공간을 제공함. \n",
    "#모듈 하나는 파일 하나\n",
    "#l-value:장소 역햘 / r-value:값 역할\n",
    "#l-value가 처음 튀어나올때 그 변수의 스코프가 결정됨\n",
    "a=1#보통 글로브스콮\n",
    "import mymath#이름이 글로벌 공간으로 들어옴\n",
    "print a\n",
    "print mymath.a\n"
   ]
  },
  {
   "cell_type": "code",
   "execution_count": 4,
   "metadata": {
    "collapsed": false
   },
   "outputs": [
    {
     "name": "stdout",
     "output_type": "stream",
     "text": [
      "20\n",
      "20\n"
     ]
    }
   ],
   "source": [
    "h = 5\n",
    "\n",
    "def f(a):      \n",
    "    #a는 지역\n",
    "    global h   \n",
    "    #h 변수를 전역이라고 미리 선언함\n",
    "    h = a + 10 \n",
    "    #h는 l-velue로 정의되더라도 미리 선언된 내용 때문에 전역 변수\n",
    "    return h\n",
    "\n",
    "print f(10)\n",
    "print h        \n",
    "#전역 변수 h 값이 함수 내에서 변경되었음"
   ]
  },
  {
   "cell_type": "code",
   "execution_count": 14,
   "metadata": {
    "collapsed": false
   },
   "outputs": [
    {
     "name": "stdout",
     "output_type": "stream",
     "text": [
      "1\n"
     ]
    }
   ],
   "source": [
    "a=1\n",
    "def f():\n",
    "    global a\n",
    "    print a\n",
    "f()\n",
    "\n",
    "def k():\n",
    "    a=1000\n",
    "    k()\n",
    "\n",
    "def l():\n",
    "    global a\n",
    "    a = 1000\n",
    "    print a"
   ]
  },
  {
   "cell_type": "code",
   "execution_count": 15,
   "metadata": {
    "collapsed": true
   },
   "outputs": [],
   "source": [
    "g = 10\n",
    "\n",
    "def f():\n",
    "    a = g      # r-value로 사용되는 g는 전역 변수\n",
    "    g = 20     # l-value로 정의되는 g는 지역 변수\n",
    "    #지역변수를전역처럼쓰고 전역을 전역처럼 써서......\n",
    "    return a\n",
    "print f()\n",
    "#오류 뜨는거 보면 g가 로컬 벨류인데 왜 전역이 그걸 쓰냐 함...\n",
    "\"\"\"\n",
    "local variable 'g' referenced before assignment\n",
    "\"\"\""
   ]
  },
  {
   "cell_type": "code",
   "execution_count": 16,
   "metadata": {
    "collapsed": false
   },
   "outputs": [
    {
     "ename": "NameError",
     "evalue": "name 'p' is not defined",
     "output_type": "error",
     "traceback": [
      "\u001b[1;31m---------------------------------------------------------------------------\u001b[0m",
      "\u001b[1;31mNameError\u001b[0m                                 Traceback (most recent call last)",
      "\u001b[1;32m<ipython-input-16-6bd1083e894b>\u001b[0m in \u001b[0;36m<module>\u001b[1;34m()\u001b[0m\n\u001b[0;32m      1\u001b[0m \u001b[1;31m###중요###'\u001b[0m\u001b[1;33m\u001b[0m\u001b[1;33m\u001b[0m\u001b[0m\n\u001b[0;32m      2\u001b[0m \u001b[0mh\u001b[0m\u001b[1;33m=\u001b[0m\u001b[1;36m1\u001b[0m\u001b[1;33m\u001b[0m\u001b[0m\n\u001b[1;32m----> 3\u001b[1;33m \u001b[0mh\u001b[0m\u001b[1;33m=\u001b[0m\u001b[0mp\u001b[0m\u001b[1;33m\u001b[0m\u001b[0m\n\u001b[0m",
      "\u001b[1;31mNameError\u001b[0m: name 'p' is not defined"
     ]
    }
   ],
   "source": [
    "###중요###'\n",
    "h=1\n",
    "h=p\n"
   ]
  },
  {
   "cell_type": "code",
   "execution_count": 17,
   "metadata": {
    "collapsed": false,
    "scrolled": true
   },
   "outputs": [
    {
     "name": "stdout",
     "output_type": "stream",
     "text": [
      "{'_dh': [u'C:\\\\Users\\\\Yujin\\\\Documents\\\\git\\\\python'], '__': '', '__builtin__': <module '__builtin__' (built-in)>, 'quit': <IPython.core.autocall.ZMQExitAutocall object at 0x00000000036EA630>, '_i11': u'a=1\\ndef f():\\n    global a\\n    print a\\nf()\\n\\ndef k():\\n    a=1000\\n    k()\\n\\ndef l():\\n    global a\\n    a = 1000\\n    pirnt a', '_i9': u'a=1\\ndef f():\\n    global a\\n    print a\\nf()\\n\\ndef k():\\n    a=1000\\n    k()\\n\\ndef l():\\n    global = a\\n    a = 1000\\n    pirnt a', '_i8': u'a=1\\ndef f():\\n    global a\\n    print a\\nf()\\n\\ndef k():\\na=1000\\nk()\\n\\ndef l():\\n    global = a\\n    a = 1000\\n    pirnt a', '_i7': u'a=\\ndef f():\\n    global a\\n    print a\\nf()\\n\\ndef k():\\na=1000\\nk()\\n\\ndef l():\\n    global = a\\n    a = 1000\\n    pirnt a', '_i6': u'def f():\\n    global a\\n    print a\\nf()\\n\\ndef k():\\na=1000\\nk()\\n\\ndef l():\\n    global = a\\n    a = 1000\\n    pirnt a', '_i5': u'def f():\\n    global a\\n    print a\\nf()\\n\\ndef k()\\na=1000\\nk()\\n\\ndef l():\\n    global = a\\n    a = 1000\\n    pirnt a', '_i4': u'h = 5\\n\\ndef f(a):      \\n    #a\\ub294 \\uc9c0\\uc5ed\\n    global h   \\n    #h \\ubcc0\\uc218\\ub97c \\uc804\\uc5ed\\uc774\\ub77c\\uace0 \\ubbf8\\ub9ac \\uc120\\uc5b8\\ud568\\n    h = a + 10 \\n    #h\\ub294 l-velue\\ub85c \\uc815\\uc758\\ub418\\ub354\\ub77c\\ub3c4 \\ubbf8\\ub9ac \\uc120\\uc5b8\\ub41c \\ub0b4\\uc6a9 \\ub54c\\ubb38\\uc5d0 \\uc804\\uc5ed \\ubcc0\\uc218\\n    return h\\n\\nprint f(10)\\nprint h        \\n#\\uc804\\uc5ed \\ubcc0\\uc218 h \\uac12\\uc774 \\ud568\\uc218 \\ub0b4\\uc5d0\\uc11c \\ubcc0\\uacbd\\ub418\\uc5c8\\uc74c', '_i3': u'h = 5\\n\\ndef f(a):      \\n    #a\\ub294 \\uc9c0\\uc5ed\\n    global h   \\n    #h \\ubcc0\\uc218\\ub97c \\uc804\\uc5ed\\uc774\\ub77c\\uace0 \\ubbf8\\ub9ac \\uc120\\uc5b8\\ud568\\n    h = a + 10 \\n    #h\\ub294 l-velue\\ub85c \\uc815\\uc758\\ub418\\ub354\\ub77c\\ub3c4 \\ubbf8\\ub9ac \\uc120\\uc5b8\\ub41c \\ub0b4\\uc6a9 \\ub54c\\ubb38\\uc5d0 \\uc804\\uc5ed \\ubcc0\\uc218\\n    return h\\n\\nprint f(10)\\nprint h        \\n#\\uc804\\uc5ed \\ubcc0\\uc218 h \\uac12\\uc774 \\ud568\\uc218 \\ub0b4\\uc5d0\\uc11c \\ubcc0\\uacbd\\n\\ub418\\uc5c8\\uc74c', '_i2': u'#\\ubaa8\\ub4c8\\uc740 \\ub3c5\\ub9bd\\uc801\\uc778 \\uc774\\ub984\\uacf5\\uac04\\uc744 \\uc81c\\uacf5\\ud568. \\n#\\ubaa8\\ub4c8 \\ud558\\ub098\\ub294 \\ud30c\\uc77c \\ud558\\ub098\\n#l-value:\\uc7a5\\uc18c \\uc5ed\\ud598 / r-value:\\uac12 \\uc5ed\\ud560\\n#l-value\\uac00 \\ucc98\\uc74c \\ud280\\uc5b4\\ub098\\uc62c\\ub54c \\uadf8 \\ubcc0\\uc218\\uc758 \\uc2a4\\ucf54\\ud504\\uac00 \\uacb0\\uc815\\ub428\\na=1#\\ubcf4\\ud1b5 \\uae00\\ub85c\\ube0c\\uc2a4\\ucf6e\\nimport mymath#\\uc774\\ub984\\uc774 \\uae00\\ub85c\\ubc8c \\uacf5\\uac04\\uc73c\\ub85c \\ub4e4\\uc5b4\\uc634\\nprint a\\nprint mymath.a', '_i1': u'#\\ubaa8\\ub4c8\\uc740 \\ub3c5\\ub9bd\\uc801\\uc778 \\uc774\\ub984\\uacf5\\uac04\\uc744 \\uc81c\\uacf5\\ud568. \\n#\\ubaa8\\ub4c8 \\ud558\\ub098\\ub294 \\ud30c\\uc77c \\ud558\\ub098\\n#l-value:\\uc7a5\\uc18c \\uc5ed\\ud598 / r-value:\\uac12 \\uc5ed\\ud560\\n#l-value\\uac00 \\ucc98\\uc74c \\ud280\\uc5b4\\ub098\\uc62c\\ub54c \\uadf8 \\ubcc0\\uc218\\uc758 \\uc2a4\\ucf54\\ud504\\uac00 \\uacb0\\uc815\\ub428\\na=1#\\ubcf4\\ud1b5 \\uae00\\ub85c\\ube0c\\uc2a4\\ucf6e\\nimport mymath#\\uc774\\ub984\\uc774 \\uae00\\ub85c\\ubc8c \\uacf5\\uac04\\uc73c\\ub85c \\ub4e4\\uc5b4\\nprint a\\nprint mymath.a', '__package__': None, 'exit': <IPython.core.autocall.ZMQExitAutocall object at 0x00000000036EA630>, 'get_ipython': <bound method ZMQInteractiveShell.get_ipython of <IPython.kernel.zmq.zmqshell.ZMQInteractiveShell object at 0x000000000367B7F0>>, '_i': u\"###\\uc911\\uc694###'\\nh=1\\nh=p\", '_i14': u'a=1\\ndef f():\\n    global a\\n    print a\\nf()\\n\\ndef k():\\n    a=1000\\n    k()\\n\\ndef l():\\n    global a\\n    a = 1000\\n    print a', '__doc__': 'Automatically created module for IPython interactive environment', '_i15': u'g = 10\\n\\ndef f():\\n    a = g      # r-value\\ub85c \\uc0ac\\uc6a9\\ub418\\ub294 g\\ub294 \\uc804\\uc5ed \\ubcc0\\uc218\\n    g = 20     # l-value\\ub85c \\uc815\\uc758\\ub418\\ub294 g\\ub294 \\uc9c0\\uc5ed \\ubcc0\\uc218', '__builtins__': <module '__builtin__' (built-in)>, '_ih': ['', u'#\\ubaa8\\ub4c8\\uc740 \\ub3c5\\ub9bd\\uc801\\uc778 \\uc774\\ub984\\uacf5\\uac04\\uc744 \\uc81c\\uacf5\\ud568. \\n#\\ubaa8\\ub4c8 \\ud558\\ub098\\ub294 \\ud30c\\uc77c \\ud558\\ub098\\n#l-value:\\uc7a5\\uc18c \\uc5ed\\ud598 / r-value:\\uac12 \\uc5ed\\ud560\\n#l-value\\uac00 \\ucc98\\uc74c \\ud280\\uc5b4\\ub098\\uc62c\\ub54c \\uadf8 \\ubcc0\\uc218\\uc758 \\uc2a4\\ucf54\\ud504\\uac00 \\uacb0\\uc815\\ub428\\na=1#\\ubcf4\\ud1b5 \\uae00\\ub85c\\ube0c\\uc2a4\\ucf6e\\nimport mymath#\\uc774\\ub984\\uc774 \\uae00\\ub85c\\ubc8c \\uacf5\\uac04\\uc73c\\ub85c \\ub4e4\\uc5b4\\nprint a\\nprint mymath.a', u'#\\ubaa8\\ub4c8\\uc740 \\ub3c5\\ub9bd\\uc801\\uc778 \\uc774\\ub984\\uacf5\\uac04\\uc744 \\uc81c\\uacf5\\ud568. \\n#\\ubaa8\\ub4c8 \\ud558\\ub098\\ub294 \\ud30c\\uc77c \\ud558\\ub098\\n#l-value:\\uc7a5\\uc18c \\uc5ed\\ud598 / r-value:\\uac12 \\uc5ed\\ud560\\n#l-value\\uac00 \\ucc98\\uc74c \\ud280\\uc5b4\\ub098\\uc62c\\ub54c \\uadf8 \\ubcc0\\uc218\\uc758 \\uc2a4\\ucf54\\ud504\\uac00 \\uacb0\\uc815\\ub428\\na=1#\\ubcf4\\ud1b5 \\uae00\\ub85c\\ube0c\\uc2a4\\ucf6e\\nimport mymath#\\uc774\\ub984\\uc774 \\uae00\\ub85c\\ubc8c \\uacf5\\uac04\\uc73c\\ub85c \\ub4e4\\uc5b4\\uc634\\nprint a\\nprint mymath.a', u'h = 5\\n\\ndef f(a):      \\n    #a\\ub294 \\uc9c0\\uc5ed\\n    global h   \\n    #h \\ubcc0\\uc218\\ub97c \\uc804\\uc5ed\\uc774\\ub77c\\uace0 \\ubbf8\\ub9ac \\uc120\\uc5b8\\ud568\\n    h = a + 10 \\n    #h\\ub294 l-velue\\ub85c \\uc815\\uc758\\ub418\\ub354\\ub77c\\ub3c4 \\ubbf8\\ub9ac \\uc120\\uc5b8\\ub41c \\ub0b4\\uc6a9 \\ub54c\\ubb38\\uc5d0 \\uc804\\uc5ed \\ubcc0\\uc218\\n    return h\\n\\nprint f(10)\\nprint h        \\n#\\uc804\\uc5ed \\ubcc0\\uc218 h \\uac12\\uc774 \\ud568\\uc218 \\ub0b4\\uc5d0\\uc11c \\ubcc0\\uacbd\\n\\ub418\\uc5c8\\uc74c', u'h = 5\\n\\ndef f(a):      \\n    #a\\ub294 \\uc9c0\\uc5ed\\n    global h   \\n    #h \\ubcc0\\uc218\\ub97c \\uc804\\uc5ed\\uc774\\ub77c\\uace0 \\ubbf8\\ub9ac \\uc120\\uc5b8\\ud568\\n    h = a + 10 \\n    #h\\ub294 l-velue\\ub85c \\uc815\\uc758\\ub418\\ub354\\ub77c\\ub3c4 \\ubbf8\\ub9ac \\uc120\\uc5b8\\ub41c \\ub0b4\\uc6a9 \\ub54c\\ubb38\\uc5d0 \\uc804\\uc5ed \\ubcc0\\uc218\\n    return h\\n\\nprint f(10)\\nprint h        \\n#\\uc804\\uc5ed \\ubcc0\\uc218 h \\uac12\\uc774 \\ud568\\uc218 \\ub0b4\\uc5d0\\uc11c \\ubcc0\\uacbd\\ub418\\uc5c8\\uc74c', u'def f():\\n    global a\\n    print a\\nf()\\n\\ndef k()\\na=1000\\nk()\\n\\ndef l():\\n    global = a\\n    a = 1000\\n    pirnt a', u'def f():\\n    global a\\n    print a\\nf()\\n\\ndef k():\\na=1000\\nk()\\n\\ndef l():\\n    global = a\\n    a = 1000\\n    pirnt a', u'a=\\ndef f():\\n    global a\\n    print a\\nf()\\n\\ndef k():\\na=1000\\nk()\\n\\ndef l():\\n    global = a\\n    a = 1000\\n    pirnt a', u'a=1\\ndef f():\\n    global a\\n    print a\\nf()\\n\\ndef k():\\na=1000\\nk()\\n\\ndef l():\\n    global = a\\n    a = 1000\\n    pirnt a', u'a=1\\ndef f():\\n    global a\\n    print a\\nf()\\n\\ndef k():\\n    a=1000\\n    k()\\n\\ndef l():\\n    global = a\\n    a = 1000\\n    pirnt a', u'a=1\\ndef f():\\n    global a\\n    print a\\nf()\\n\\ndef k():\\n    a=1000\\n    k()\\n\\ndef l():\\n    global = a\\n    a = 1000\\n    pirnt a', u'a=1\\ndef f():\\n    global a\\n    print a\\nf()\\n\\ndef k():\\n    a=1000\\n    k()\\n\\ndef l():\\n    global a\\n    a = 1000\\n    pirnt a', u'a=1\\ndef f():\\n    global a\\n    print a\\nf()\\n\\ndef k():\\n    a=1000\\n    k()\\n\\ndef l():\\n    global a\\n    a = 1000\\n    print', u'a=1\\ndef f():\\n    global a\\n    print a\\nf()\\n\\ndef k():\\n    a=1000\\n    k()\\n\\ndef l():\\n    global a\\n    a = 1000\\n    print a', u'a=1\\ndef f():\\n    global a\\n    print a\\nf()\\n\\ndef k():\\n    a=1000\\n    k()\\n\\ndef l():\\n    global a\\n    a = 1000\\n    print a', u'g = 10\\n\\ndef f():\\n    a = g      # r-value\\ub85c \\uc0ac\\uc6a9\\ub418\\ub294 g\\ub294 \\uc804\\uc5ed \\ubcc0\\uc218\\n    g = 20     # l-value\\ub85c \\uc815\\uc758\\ub418\\ub294 g\\ub294 \\uc9c0\\uc5ed \\ubcc0\\uc218', u\"###\\uc911\\uc694###'\\nh=1\\nh=p\", u'print globals()'], '__name__': '__main__', '___': '', '_': '', 'a': 1, '_sh': <module 'IPython.core.shadowns' from 'C:\\Users\\Yujin\\AppData\\Local\\Enthought\\Canopy\\User\\lib\\site-packages\\IPython\\core\\shadowns.pyc'>, 'g': 10, 'f': <function f at 0x000000000392E5F8>, 'h': 1, 'k': <function k at 0x000000000392E898>, 'l': <function l at 0x000000000392EA58>, '_i13': u'a=1\\ndef f():\\n    global a\\n    print a\\nf()\\n\\ndef k():\\n    a=1000\\n    k()\\n\\ndef l():\\n    global a\\n    a = 1000\\n    print a', '_i12': u'a=1\\ndef f():\\n    global a\\n    print a\\nf()\\n\\ndef k():\\n    a=1000\\n    k()\\n\\ndef l():\\n    global a\\n    a = 1000\\n    print', '_iii': u'a=1\\ndef f():\\n    global a\\n    print a\\nf()\\n\\ndef k():\\n    a=1000\\n    k()\\n\\ndef l():\\n    global a\\n    a = 1000\\n    print a', '_i10': u'a=1\\ndef f():\\n    global a\\n    print a\\nf()\\n\\ndef k():\\n    a=1000\\n    k()\\n\\ndef l():\\n    global = a\\n    a = 1000\\n    pirnt a', '_i17': u'print globals()', '_i16': u\"###\\uc911\\uc694###'\\nh=1\\nh=p\", '_ii': u'g = 10\\n\\ndef f():\\n    a = g      # r-value\\ub85c \\uc0ac\\uc6a9\\ub418\\ub294 g\\ub294 \\uc804\\uc5ed \\ubcc0\\uc218\\n    g = 20     # l-value\\ub85c \\uc815\\uc758\\ub418\\ub294 g\\ub294 \\uc9c0\\uc5ed \\ubcc0\\uc218', 'In': ['', u'#\\ubaa8\\ub4c8\\uc740 \\ub3c5\\ub9bd\\uc801\\uc778 \\uc774\\ub984\\uacf5\\uac04\\uc744 \\uc81c\\uacf5\\ud568. \\n#\\ubaa8\\ub4c8 \\ud558\\ub098\\ub294 \\ud30c\\uc77c \\ud558\\ub098\\n#l-value:\\uc7a5\\uc18c \\uc5ed\\ud598 / r-value:\\uac12 \\uc5ed\\ud560\\n#l-value\\uac00 \\ucc98\\uc74c \\ud280\\uc5b4\\ub098\\uc62c\\ub54c \\uadf8 \\ubcc0\\uc218\\uc758 \\uc2a4\\ucf54\\ud504\\uac00 \\uacb0\\uc815\\ub428\\na=1#\\ubcf4\\ud1b5 \\uae00\\ub85c\\ube0c\\uc2a4\\ucf6e\\nimport mymath#\\uc774\\ub984\\uc774 \\uae00\\ub85c\\ubc8c \\uacf5\\uac04\\uc73c\\ub85c \\ub4e4\\uc5b4\\nprint a\\nprint mymath.a', u'#\\ubaa8\\ub4c8\\uc740 \\ub3c5\\ub9bd\\uc801\\uc778 \\uc774\\ub984\\uacf5\\uac04\\uc744 \\uc81c\\uacf5\\ud568. \\n#\\ubaa8\\ub4c8 \\ud558\\ub098\\ub294 \\ud30c\\uc77c \\ud558\\ub098\\n#l-value:\\uc7a5\\uc18c \\uc5ed\\ud598 / r-value:\\uac12 \\uc5ed\\ud560\\n#l-value\\uac00 \\ucc98\\uc74c \\ud280\\uc5b4\\ub098\\uc62c\\ub54c \\uadf8 \\ubcc0\\uc218\\uc758 \\uc2a4\\ucf54\\ud504\\uac00 \\uacb0\\uc815\\ub428\\na=1#\\ubcf4\\ud1b5 \\uae00\\ub85c\\ube0c\\uc2a4\\ucf6e\\nimport mymath#\\uc774\\ub984\\uc774 \\uae00\\ub85c\\ubc8c \\uacf5\\uac04\\uc73c\\ub85c \\ub4e4\\uc5b4\\uc634\\nprint a\\nprint mymath.a', u'h = 5\\n\\ndef f(a):      \\n    #a\\ub294 \\uc9c0\\uc5ed\\n    global h   \\n    #h \\ubcc0\\uc218\\ub97c \\uc804\\uc5ed\\uc774\\ub77c\\uace0 \\ubbf8\\ub9ac \\uc120\\uc5b8\\ud568\\n    h = a + 10 \\n    #h\\ub294 l-velue\\ub85c \\uc815\\uc758\\ub418\\ub354\\ub77c\\ub3c4 \\ubbf8\\ub9ac \\uc120\\uc5b8\\ub41c \\ub0b4\\uc6a9 \\ub54c\\ubb38\\uc5d0 \\uc804\\uc5ed \\ubcc0\\uc218\\n    return h\\n\\nprint f(10)\\nprint h        \\n#\\uc804\\uc5ed \\ubcc0\\uc218 h \\uac12\\uc774 \\ud568\\uc218 \\ub0b4\\uc5d0\\uc11c \\ubcc0\\uacbd\\n\\ub418\\uc5c8\\uc74c', u'h = 5\\n\\ndef f(a):      \\n    #a\\ub294 \\uc9c0\\uc5ed\\n    global h   \\n    #h \\ubcc0\\uc218\\ub97c \\uc804\\uc5ed\\uc774\\ub77c\\uace0 \\ubbf8\\ub9ac \\uc120\\uc5b8\\ud568\\n    h = a + 10 \\n    #h\\ub294 l-velue\\ub85c \\uc815\\uc758\\ub418\\ub354\\ub77c\\ub3c4 \\ubbf8\\ub9ac \\uc120\\uc5b8\\ub41c \\ub0b4\\uc6a9 \\ub54c\\ubb38\\uc5d0 \\uc804\\uc5ed \\ubcc0\\uc218\\n    return h\\n\\nprint f(10)\\nprint h        \\n#\\uc804\\uc5ed \\ubcc0\\uc218 h \\uac12\\uc774 \\ud568\\uc218 \\ub0b4\\uc5d0\\uc11c \\ubcc0\\uacbd\\ub418\\uc5c8\\uc74c', u'def f():\\n    global a\\n    print a\\nf()\\n\\ndef k()\\na=1000\\nk()\\n\\ndef l():\\n    global = a\\n    a = 1000\\n    pirnt a', u'def f():\\n    global a\\n    print a\\nf()\\n\\ndef k():\\na=1000\\nk()\\n\\ndef l():\\n    global = a\\n    a = 1000\\n    pirnt a', u'a=\\ndef f():\\n    global a\\n    print a\\nf()\\n\\ndef k():\\na=1000\\nk()\\n\\ndef l():\\n    global = a\\n    a = 1000\\n    pirnt a', u'a=1\\ndef f():\\n    global a\\n    print a\\nf()\\n\\ndef k():\\na=1000\\nk()\\n\\ndef l():\\n    global = a\\n    a = 1000\\n    pirnt a', u'a=1\\ndef f():\\n    global a\\n    print a\\nf()\\n\\ndef k():\\n    a=1000\\n    k()\\n\\ndef l():\\n    global = a\\n    a = 1000\\n    pirnt a', u'a=1\\ndef f():\\n    global a\\n    print a\\nf()\\n\\ndef k():\\n    a=1000\\n    k()\\n\\ndef l():\\n    global = a\\n    a = 1000\\n    pirnt a', u'a=1\\ndef f():\\n    global a\\n    print a\\nf()\\n\\ndef k():\\n    a=1000\\n    k()\\n\\ndef l():\\n    global a\\n    a = 1000\\n    pirnt a', u'a=1\\ndef f():\\n    global a\\n    print a\\nf()\\n\\ndef k():\\n    a=1000\\n    k()\\n\\ndef l():\\n    global a\\n    a = 1000\\n    print', u'a=1\\ndef f():\\n    global a\\n    print a\\nf()\\n\\ndef k():\\n    a=1000\\n    k()\\n\\ndef l():\\n    global a\\n    a = 1000\\n    print a', u'a=1\\ndef f():\\n    global a\\n    print a\\nf()\\n\\ndef k():\\n    a=1000\\n    k()\\n\\ndef l():\\n    global a\\n    a = 1000\\n    print a', u'g = 10\\n\\ndef f():\\n    a = g      # r-value\\ub85c \\uc0ac\\uc6a9\\ub418\\ub294 g\\ub294 \\uc804\\uc5ed \\ubcc0\\uc218\\n    g = 20     # l-value\\ub85c \\uc815\\uc758\\ub418\\ub294 g\\ub294 \\uc9c0\\uc5ed \\ubcc0\\uc218', u\"###\\uc911\\uc694###'\\nh=1\\nh=p\", u'print globals()'], '_oh': {}, 'Out': {}}\n"
     ]
    }
   ],
   "source": [
    "print globals()\n",
    "#전역 이름(심볼 테이블) 및 해당 이름에 \n",
    "#할당된 객체의 repr (또는 str) 형태를 사전으로 반환"
   ]
  },
  {
   "cell_type": "code",
   "execution_count": 18,
   "metadata": {
    "collapsed": false
   },
   "outputs": [
    {
     "name": "stdout",
     "output_type": "stream",
     "text": [
      "{'_dh': [u'C:\\\\Users\\\\Yujin\\\\Documents\\\\git\\\\python'], '__': '', '__builtin__': <module '__builtin__' (built-in)>, 'quit': <IPython.core.autocall.ZMQExitAutocall object at 0x00000000036EA630>, '_i11': u'a=1\\ndef f():\\n    global a\\n    print a\\nf()\\n\\ndef k():\\n    a=1000\\n    k()\\n\\ndef l():\\n    global a\\n    a = 1000\\n    pirnt a', '_i9': u'a=1\\ndef f():\\n    global a\\n    print a\\nf()\\n\\ndef k():\\n    a=1000\\n    k()\\n\\ndef l():\\n    global = a\\n    a = 1000\\n    pirnt a', '_i8': u'a=1\\ndef f():\\n    global a\\n    print a\\nf()\\n\\ndef k():\\na=1000\\nk()\\n\\ndef l():\\n    global = a\\n    a = 1000\\n    pirnt a', '_i7': u'a=\\ndef f():\\n    global a\\n    print a\\nf()\\n\\ndef k():\\na=1000\\nk()\\n\\ndef l():\\n    global = a\\n    a = 1000\\n    pirnt a', '_i6': u'def f():\\n    global a\\n    print a\\nf()\\n\\ndef k():\\na=1000\\nk()\\n\\ndef l():\\n    global = a\\n    a = 1000\\n    pirnt a', '_i5': u'def f():\\n    global a\\n    print a\\nf()\\n\\ndef k()\\na=1000\\nk()\\n\\ndef l():\\n    global = a\\n    a = 1000\\n    pirnt a', '_i4': u'h = 5\\n\\ndef f(a):      \\n    #a\\ub294 \\uc9c0\\uc5ed\\n    global h   \\n    #h \\ubcc0\\uc218\\ub97c \\uc804\\uc5ed\\uc774\\ub77c\\uace0 \\ubbf8\\ub9ac \\uc120\\uc5b8\\ud568\\n    h = a + 10 \\n    #h\\ub294 l-velue\\ub85c \\uc815\\uc758\\ub418\\ub354\\ub77c\\ub3c4 \\ubbf8\\ub9ac \\uc120\\uc5b8\\ub41c \\ub0b4\\uc6a9 \\ub54c\\ubb38\\uc5d0 \\uc804\\uc5ed \\ubcc0\\uc218\\n    return h\\n\\nprint f(10)\\nprint h        \\n#\\uc804\\uc5ed \\ubcc0\\uc218 h \\uac12\\uc774 \\ud568\\uc218 \\ub0b4\\uc5d0\\uc11c \\ubcc0\\uacbd\\ub418\\uc5c8\\uc74c', '_i3': u'h = 5\\n\\ndef f(a):      \\n    #a\\ub294 \\uc9c0\\uc5ed\\n    global h   \\n    #h \\ubcc0\\uc218\\ub97c \\uc804\\uc5ed\\uc774\\ub77c\\uace0 \\ubbf8\\ub9ac \\uc120\\uc5b8\\ud568\\n    h = a + 10 \\n    #h\\ub294 l-velue\\ub85c \\uc815\\uc758\\ub418\\ub354\\ub77c\\ub3c4 \\ubbf8\\ub9ac \\uc120\\uc5b8\\ub41c \\ub0b4\\uc6a9 \\ub54c\\ubb38\\uc5d0 \\uc804\\uc5ed \\ubcc0\\uc218\\n    return h\\n\\nprint f(10)\\nprint h        \\n#\\uc804\\uc5ed \\ubcc0\\uc218 h \\uac12\\uc774 \\ud568\\uc218 \\ub0b4\\uc5d0\\uc11c \\ubcc0\\uacbd\\n\\ub418\\uc5c8\\uc74c', '_i2': u'#\\ubaa8\\ub4c8\\uc740 \\ub3c5\\ub9bd\\uc801\\uc778 \\uc774\\ub984\\uacf5\\uac04\\uc744 \\uc81c\\uacf5\\ud568. \\n#\\ubaa8\\ub4c8 \\ud558\\ub098\\ub294 \\ud30c\\uc77c \\ud558\\ub098\\n#l-value:\\uc7a5\\uc18c \\uc5ed\\ud598 / r-value:\\uac12 \\uc5ed\\ud560\\n#l-value\\uac00 \\ucc98\\uc74c \\ud280\\uc5b4\\ub098\\uc62c\\ub54c \\uadf8 \\ubcc0\\uc218\\uc758 \\uc2a4\\ucf54\\ud504\\uac00 \\uacb0\\uc815\\ub428\\na=1#\\ubcf4\\ud1b5 \\uae00\\ub85c\\ube0c\\uc2a4\\ucf6e\\nimport mymath#\\uc774\\ub984\\uc774 \\uae00\\ub85c\\ubc8c \\uacf5\\uac04\\uc73c\\ub85c \\ub4e4\\uc5b4\\uc634\\nprint a\\nprint mymath.a', '_i1': u'#\\ubaa8\\ub4c8\\uc740 \\ub3c5\\ub9bd\\uc801\\uc778 \\uc774\\ub984\\uacf5\\uac04\\uc744 \\uc81c\\uacf5\\ud568. \\n#\\ubaa8\\ub4c8 \\ud558\\ub098\\ub294 \\ud30c\\uc77c \\ud558\\ub098\\n#l-value:\\uc7a5\\uc18c \\uc5ed\\ud598 / r-value:\\uac12 \\uc5ed\\ud560\\n#l-value\\uac00 \\ucc98\\uc74c \\ud280\\uc5b4\\ub098\\uc62c\\ub54c \\uadf8 \\ubcc0\\uc218\\uc758 \\uc2a4\\ucf54\\ud504\\uac00 \\uacb0\\uc815\\ub428\\na=1#\\ubcf4\\ud1b5 \\uae00\\ub85c\\ube0c\\uc2a4\\ucf6e\\nimport mymath#\\uc774\\ub984\\uc774 \\uae00\\ub85c\\ubc8c \\uacf5\\uac04\\uc73c\\ub85c \\ub4e4\\uc5b4\\nprint a\\nprint mymath.a', '__package__': None, 'exit': <IPython.core.autocall.ZMQExitAutocall object at 0x00000000036EA630>, 'get_ipython': <bound method ZMQInteractiveShell.get_ipython of <IPython.kernel.zmq.zmqshell.ZMQInteractiveShell object at 0x000000000367B7F0>>, '_i': u'print globals()', '_i14': u'a=1\\ndef f():\\n    global a\\n    print a\\nf()\\n\\ndef k():\\n    a=1000\\n    k()\\n\\ndef l():\\n    global a\\n    a = 1000\\n    print a', '__doc__': 'Automatically created module for IPython interactive environment', '_i15': u'g = 10\\n\\ndef f():\\n    a = g      # r-value\\ub85c \\uc0ac\\uc6a9\\ub418\\ub294 g\\ub294 \\uc804\\uc5ed \\ubcc0\\uc218\\n    g = 20     # l-value\\ub85c \\uc815\\uc758\\ub418\\ub294 g\\ub294 \\uc9c0\\uc5ed \\ubcc0\\uc218', '__builtins__': <module '__builtin__' (built-in)>, '_ih': ['', u'#\\ubaa8\\ub4c8\\uc740 \\ub3c5\\ub9bd\\uc801\\uc778 \\uc774\\ub984\\uacf5\\uac04\\uc744 \\uc81c\\uacf5\\ud568. \\n#\\ubaa8\\ub4c8 \\ud558\\ub098\\ub294 \\ud30c\\uc77c \\ud558\\ub098\\n#l-value:\\uc7a5\\uc18c \\uc5ed\\ud598 / r-value:\\uac12 \\uc5ed\\ud560\\n#l-value\\uac00 \\ucc98\\uc74c \\ud280\\uc5b4\\ub098\\uc62c\\ub54c \\uadf8 \\ubcc0\\uc218\\uc758 \\uc2a4\\ucf54\\ud504\\uac00 \\uacb0\\uc815\\ub428\\na=1#\\ubcf4\\ud1b5 \\uae00\\ub85c\\ube0c\\uc2a4\\ucf6e\\nimport mymath#\\uc774\\ub984\\uc774 \\uae00\\ub85c\\ubc8c \\uacf5\\uac04\\uc73c\\ub85c \\ub4e4\\uc5b4\\nprint a\\nprint mymath.a', u'#\\ubaa8\\ub4c8\\uc740 \\ub3c5\\ub9bd\\uc801\\uc778 \\uc774\\ub984\\uacf5\\uac04\\uc744 \\uc81c\\uacf5\\ud568. \\n#\\ubaa8\\ub4c8 \\ud558\\ub098\\ub294 \\ud30c\\uc77c \\ud558\\ub098\\n#l-value:\\uc7a5\\uc18c \\uc5ed\\ud598 / r-value:\\uac12 \\uc5ed\\ud560\\n#l-value\\uac00 \\ucc98\\uc74c \\ud280\\uc5b4\\ub098\\uc62c\\ub54c \\uadf8 \\ubcc0\\uc218\\uc758 \\uc2a4\\ucf54\\ud504\\uac00 \\uacb0\\uc815\\ub428\\na=1#\\ubcf4\\ud1b5 \\uae00\\ub85c\\ube0c\\uc2a4\\ucf6e\\nimport mymath#\\uc774\\ub984\\uc774 \\uae00\\ub85c\\ubc8c \\uacf5\\uac04\\uc73c\\ub85c \\ub4e4\\uc5b4\\uc634\\nprint a\\nprint mymath.a', u'h = 5\\n\\ndef f(a):      \\n    #a\\ub294 \\uc9c0\\uc5ed\\n    global h   \\n    #h \\ubcc0\\uc218\\ub97c \\uc804\\uc5ed\\uc774\\ub77c\\uace0 \\ubbf8\\ub9ac \\uc120\\uc5b8\\ud568\\n    h = a + 10 \\n    #h\\ub294 l-velue\\ub85c \\uc815\\uc758\\ub418\\ub354\\ub77c\\ub3c4 \\ubbf8\\ub9ac \\uc120\\uc5b8\\ub41c \\ub0b4\\uc6a9 \\ub54c\\ubb38\\uc5d0 \\uc804\\uc5ed \\ubcc0\\uc218\\n    return h\\n\\nprint f(10)\\nprint h        \\n#\\uc804\\uc5ed \\ubcc0\\uc218 h \\uac12\\uc774 \\ud568\\uc218 \\ub0b4\\uc5d0\\uc11c \\ubcc0\\uacbd\\n\\ub418\\uc5c8\\uc74c', u'h = 5\\n\\ndef f(a):      \\n    #a\\ub294 \\uc9c0\\uc5ed\\n    global h   \\n    #h \\ubcc0\\uc218\\ub97c \\uc804\\uc5ed\\uc774\\ub77c\\uace0 \\ubbf8\\ub9ac \\uc120\\uc5b8\\ud568\\n    h = a + 10 \\n    #h\\ub294 l-velue\\ub85c \\uc815\\uc758\\ub418\\ub354\\ub77c\\ub3c4 \\ubbf8\\ub9ac \\uc120\\uc5b8\\ub41c \\ub0b4\\uc6a9 \\ub54c\\ubb38\\uc5d0 \\uc804\\uc5ed \\ubcc0\\uc218\\n    return h\\n\\nprint f(10)\\nprint h        \\n#\\uc804\\uc5ed \\ubcc0\\uc218 h \\uac12\\uc774 \\ud568\\uc218 \\ub0b4\\uc5d0\\uc11c \\ubcc0\\uacbd\\ub418\\uc5c8\\uc74c', u'def f():\\n    global a\\n    print a\\nf()\\n\\ndef k()\\na=1000\\nk()\\n\\ndef l():\\n    global = a\\n    a = 1000\\n    pirnt a', u'def f():\\n    global a\\n    print a\\nf()\\n\\ndef k():\\na=1000\\nk()\\n\\ndef l():\\n    global = a\\n    a = 1000\\n    pirnt a', u'a=\\ndef f():\\n    global a\\n    print a\\nf()\\n\\ndef k():\\na=1000\\nk()\\n\\ndef l():\\n    global = a\\n    a = 1000\\n    pirnt a', u'a=1\\ndef f():\\n    global a\\n    print a\\nf()\\n\\ndef k():\\na=1000\\nk()\\n\\ndef l():\\n    global = a\\n    a = 1000\\n    pirnt a', u'a=1\\ndef f():\\n    global a\\n    print a\\nf()\\n\\ndef k():\\n    a=1000\\n    k()\\n\\ndef l():\\n    global = a\\n    a = 1000\\n    pirnt a', u'a=1\\ndef f():\\n    global a\\n    print a\\nf()\\n\\ndef k():\\n    a=1000\\n    k()\\n\\ndef l():\\n    global = a\\n    a = 1000\\n    pirnt a', u'a=1\\ndef f():\\n    global a\\n    print a\\nf()\\n\\ndef k():\\n    a=1000\\n    k()\\n\\ndef l():\\n    global a\\n    a = 1000\\n    pirnt a', u'a=1\\ndef f():\\n    global a\\n    print a\\nf()\\n\\ndef k():\\n    a=1000\\n    k()\\n\\ndef l():\\n    global a\\n    a = 1000\\n    print', u'a=1\\ndef f():\\n    global a\\n    print a\\nf()\\n\\ndef k():\\n    a=1000\\n    k()\\n\\ndef l():\\n    global a\\n    a = 1000\\n    print a', u'a=1\\ndef f():\\n    global a\\n    print a\\nf()\\n\\ndef k():\\n    a=1000\\n    k()\\n\\ndef l():\\n    global a\\n    a = 1000\\n    print a', u'g = 10\\n\\ndef f():\\n    a = g      # r-value\\ub85c \\uc0ac\\uc6a9\\ub418\\ub294 g\\ub294 \\uc804\\uc5ed \\ubcc0\\uc218\\n    g = 20     # l-value\\ub85c \\uc815\\uc758\\ub418\\ub294 g\\ub294 \\uc9c0\\uc5ed \\ubcc0\\uc218', u\"###\\uc911\\uc694###'\\nh=1\\nh=p\", u'print globals()', u'print locals()\\n#\\ub0b4\\uac00 \\uc791\\uc5c5\\ud558\\ub294 \\uacf5\\uac04\\uc740 globals\\uc774\\uba74\\uc11c locals\\uc5d0 \\ud574\\ub2f9'], '__name__': '__main__', '___': '', '_': '', 'a': 1, '_sh': <module 'IPython.core.shadowns' from 'C:\\Users\\Yujin\\AppData\\Local\\Enthought\\Canopy\\User\\lib\\site-packages\\IPython\\core\\shadowns.pyc'>, 'g': 10, 'f': <function f at 0x000000000392E5F8>, 'h': 1, 'k': <function k at 0x000000000392E898>, 'l': <function l at 0x000000000392EA58>, '_i13': u'a=1\\ndef f():\\n    global a\\n    print a\\nf()\\n\\ndef k():\\n    a=1000\\n    k()\\n\\ndef l():\\n    global a\\n    a = 1000\\n    print a', '_i12': u'a=1\\ndef f():\\n    global a\\n    print a\\nf()\\n\\ndef k():\\n    a=1000\\n    k()\\n\\ndef l():\\n    global a\\n    a = 1000\\n    print', '_iii': u'g = 10\\n\\ndef f():\\n    a = g      # r-value\\ub85c \\uc0ac\\uc6a9\\ub418\\ub294 g\\ub294 \\uc804\\uc5ed \\ubcc0\\uc218\\n    g = 20     # l-value\\ub85c \\uc815\\uc758\\ub418\\ub294 g\\ub294 \\uc9c0\\uc5ed \\ubcc0\\uc218', '_i10': u'a=1\\ndef f():\\n    global a\\n    print a\\nf()\\n\\ndef k():\\n    a=1000\\n    k()\\n\\ndef l():\\n    global = a\\n    a = 1000\\n    pirnt a', '_i17': u'print globals()', '_i16': u\"###\\uc911\\uc694###'\\nh=1\\nh=p\", '_ii': u\"###\\uc911\\uc694###'\\nh=1\\nh=p\", 'In': ['', u'#\\ubaa8\\ub4c8\\uc740 \\ub3c5\\ub9bd\\uc801\\uc778 \\uc774\\ub984\\uacf5\\uac04\\uc744 \\uc81c\\uacf5\\ud568. \\n#\\ubaa8\\ub4c8 \\ud558\\ub098\\ub294 \\ud30c\\uc77c \\ud558\\ub098\\n#l-value:\\uc7a5\\uc18c \\uc5ed\\ud598 / r-value:\\uac12 \\uc5ed\\ud560\\n#l-value\\uac00 \\ucc98\\uc74c \\ud280\\uc5b4\\ub098\\uc62c\\ub54c \\uadf8 \\ubcc0\\uc218\\uc758 \\uc2a4\\ucf54\\ud504\\uac00 \\uacb0\\uc815\\ub428\\na=1#\\ubcf4\\ud1b5 \\uae00\\ub85c\\ube0c\\uc2a4\\ucf6e\\nimport mymath#\\uc774\\ub984\\uc774 \\uae00\\ub85c\\ubc8c \\uacf5\\uac04\\uc73c\\ub85c \\ub4e4\\uc5b4\\nprint a\\nprint mymath.a', u'#\\ubaa8\\ub4c8\\uc740 \\ub3c5\\ub9bd\\uc801\\uc778 \\uc774\\ub984\\uacf5\\uac04\\uc744 \\uc81c\\uacf5\\ud568. \\n#\\ubaa8\\ub4c8 \\ud558\\ub098\\ub294 \\ud30c\\uc77c \\ud558\\ub098\\n#l-value:\\uc7a5\\uc18c \\uc5ed\\ud598 / r-value:\\uac12 \\uc5ed\\ud560\\n#l-value\\uac00 \\ucc98\\uc74c \\ud280\\uc5b4\\ub098\\uc62c\\ub54c \\uadf8 \\ubcc0\\uc218\\uc758 \\uc2a4\\ucf54\\ud504\\uac00 \\uacb0\\uc815\\ub428\\na=1#\\ubcf4\\ud1b5 \\uae00\\ub85c\\ube0c\\uc2a4\\ucf6e\\nimport mymath#\\uc774\\ub984\\uc774 \\uae00\\ub85c\\ubc8c \\uacf5\\uac04\\uc73c\\ub85c \\ub4e4\\uc5b4\\uc634\\nprint a\\nprint mymath.a', u'h = 5\\n\\ndef f(a):      \\n    #a\\ub294 \\uc9c0\\uc5ed\\n    global h   \\n    #h \\ubcc0\\uc218\\ub97c \\uc804\\uc5ed\\uc774\\ub77c\\uace0 \\ubbf8\\ub9ac \\uc120\\uc5b8\\ud568\\n    h = a + 10 \\n    #h\\ub294 l-velue\\ub85c \\uc815\\uc758\\ub418\\ub354\\ub77c\\ub3c4 \\ubbf8\\ub9ac \\uc120\\uc5b8\\ub41c \\ub0b4\\uc6a9 \\ub54c\\ubb38\\uc5d0 \\uc804\\uc5ed \\ubcc0\\uc218\\n    return h\\n\\nprint f(10)\\nprint h        \\n#\\uc804\\uc5ed \\ubcc0\\uc218 h \\uac12\\uc774 \\ud568\\uc218 \\ub0b4\\uc5d0\\uc11c \\ubcc0\\uacbd\\n\\ub418\\uc5c8\\uc74c', u'h = 5\\n\\ndef f(a):      \\n    #a\\ub294 \\uc9c0\\uc5ed\\n    global h   \\n    #h \\ubcc0\\uc218\\ub97c \\uc804\\uc5ed\\uc774\\ub77c\\uace0 \\ubbf8\\ub9ac \\uc120\\uc5b8\\ud568\\n    h = a + 10 \\n    #h\\ub294 l-velue\\ub85c \\uc815\\uc758\\ub418\\ub354\\ub77c\\ub3c4 \\ubbf8\\ub9ac \\uc120\\uc5b8\\ub41c \\ub0b4\\uc6a9 \\ub54c\\ubb38\\uc5d0 \\uc804\\uc5ed \\ubcc0\\uc218\\n    return h\\n\\nprint f(10)\\nprint h        \\n#\\uc804\\uc5ed \\ubcc0\\uc218 h \\uac12\\uc774 \\ud568\\uc218 \\ub0b4\\uc5d0\\uc11c \\ubcc0\\uacbd\\ub418\\uc5c8\\uc74c', u'def f():\\n    global a\\n    print a\\nf()\\n\\ndef k()\\na=1000\\nk()\\n\\ndef l():\\n    global = a\\n    a = 1000\\n    pirnt a', u'def f():\\n    global a\\n    print a\\nf()\\n\\ndef k():\\na=1000\\nk()\\n\\ndef l():\\n    global = a\\n    a = 1000\\n    pirnt a', u'a=\\ndef f():\\n    global a\\n    print a\\nf()\\n\\ndef k():\\na=1000\\nk()\\n\\ndef l():\\n    global = a\\n    a = 1000\\n    pirnt a', u'a=1\\ndef f():\\n    global a\\n    print a\\nf()\\n\\ndef k():\\na=1000\\nk()\\n\\ndef l():\\n    global = a\\n    a = 1000\\n    pirnt a', u'a=1\\ndef f():\\n    global a\\n    print a\\nf()\\n\\ndef k():\\n    a=1000\\n    k()\\n\\ndef l():\\n    global = a\\n    a = 1000\\n    pirnt a', u'a=1\\ndef f():\\n    global a\\n    print a\\nf()\\n\\ndef k():\\n    a=1000\\n    k()\\n\\ndef l():\\n    global = a\\n    a = 1000\\n    pirnt a', u'a=1\\ndef f():\\n    global a\\n    print a\\nf()\\n\\ndef k():\\n    a=1000\\n    k()\\n\\ndef l():\\n    global a\\n    a = 1000\\n    pirnt a', u'a=1\\ndef f():\\n    global a\\n    print a\\nf()\\n\\ndef k():\\n    a=1000\\n    k()\\n\\ndef l():\\n    global a\\n    a = 1000\\n    print', u'a=1\\ndef f():\\n    global a\\n    print a\\nf()\\n\\ndef k():\\n    a=1000\\n    k()\\n\\ndef l():\\n    global a\\n    a = 1000\\n    print a', u'a=1\\ndef f():\\n    global a\\n    print a\\nf()\\n\\ndef k():\\n    a=1000\\n    k()\\n\\ndef l():\\n    global a\\n    a = 1000\\n    print a', u'g = 10\\n\\ndef f():\\n    a = g      # r-value\\ub85c \\uc0ac\\uc6a9\\ub418\\ub294 g\\ub294 \\uc804\\uc5ed \\ubcc0\\uc218\\n    g = 20     # l-value\\ub85c \\uc815\\uc758\\ub418\\ub294 g\\ub294 \\uc9c0\\uc5ed \\ubcc0\\uc218', u\"###\\uc911\\uc694###'\\nh=1\\nh=p\", u'print globals()', u'print locals()\\n#\\ub0b4\\uac00 \\uc791\\uc5c5\\ud558\\ub294 \\uacf5\\uac04\\uc740 globals\\uc774\\uba74\\uc11c locals\\uc5d0 \\ud574\\ub2f9'], '_i18': u'print locals()\\n#\\ub0b4\\uac00 \\uc791\\uc5c5\\ud558\\ub294 \\uacf5\\uac04\\uc740 globals\\uc774\\uba74\\uc11c locals\\uc5d0 \\ud574\\ub2f9', '_oh': {}, 'Out': {}}\n"
     ]
    }
   ],
   "source": [
    "print locals()\n",
    "#내가 작업하는 공간은 globals이면서 locals에 해당"
   ]
  },
  {
   "cell_type": "code",
   "execution_count": 1,
   "metadata": {
    "collapsed": false
   },
   "outputs": [
    {
     "name": "stdout",
     "output_type": "stream",
     "text": [
      "['a', '__builtins__', '__file__', '__package__', '__name__', '__doc__']\n"
     ]
    }
   ],
   "source": [
    "import mymath"
   ]
  },
  {
   "cell_type": "markdown",
   "metadata": {},
   "source": [
    "## 시험"
   ]
  },
  {
   "cell_type": "code",
   "execution_count": 3,
   "metadata": {
    "collapsed": false
   },
   "outputs": [
    {
     "name": "stdout",
     "output_type": "stream",
     "text": [
      "함수 내에서 전역 이름: ['_dh', '__', '_i', 'quit', '__builtins__', '_ih', '__builtin__', '__doc__', '__name__', '___', '_', 'a', '_sh', 'b', 'mymath', 'f', '_i3', '_i2', '_i1', '__package__', '_iii', 'exit', 'get_ipython', '_ii', 'In', '_oh', 'Out']\n",
      "\n",
      "함수 내에서 지역 이름: ['localy', 'localx']\n",
      "\n",
      "모듈 수준에서의 전역 이름: ['_dh', '__', '_i', 'quit', '__builtins__', '_ih', '__builtin__', '__doc__', '__name__', '___', '_', 'a', '_sh', 'b', 'mymath', 'f', '_i3', '_i2', '_i1', '__package__', '_iii', 'exit', 'get_ipython', '_ii', 'In', '_oh', 'Out']\n",
      "\n",
      "모듈 수준에서의 지역 이름: ['_dh', '__', '_i', 'quit', '__builtins__', '_ih', '__builtin__', '__doc__', '__name__', '___', '_', 'a', '_sh', 'b', 'mymath', 'f', '_i3', '_i2', '_i1', '__package__', '_iii', 'exit', 'get_ipython', '_ii', 'In', '_oh', 'Out']\n"
     ]
    }
   ],
   "source": [
    "\n",
    "a = 1\n",
    "b = 2\n",
    "\n",
    "def f():\n",
    "    localx = 10\n",
    "    localy = 20\n",
    "    print '함수 내에서 전역 이름:', globals().keys()\n",
    "    print \n",
    "    print '함수 내에서 지역 이름:', locals().keys()\n",
    "    \n",
    "f()\n",
    "print\n",
    "print '모듈 수준에서의 전역 이름:', globals().keys()#함수 내부나 바깥이나 똑같음 \n",
    "print\n",
    "print '모듈 수준에서의 지역 이름:', locals().keys()"
   ]
  },
  {
   "cell_type": "code",
   "execution_count": 2,
   "metadata": {
    "collapsed": false
   },
   "outputs": [
    {
     "name": "stdout",
     "output_type": "stream",
     "text": [
      "['Formatter', 'Template', '_TemplateMetaclass', '__builtins__', '__doc__', '__file__', '__name__', '__package__', '_float', '_idmap', '_idmapL', '_int', '_long', '_multimap', '_re', 'ascii_letters', 'ascii_lowercase', 'ascii_uppercase', 'atof', 'atof_error', 'atoi', 'atoi_error', 'atol', 'atol_error', 'capitalize', 'capwords', 'center', 'count', 'digits', 'expandtabs', 'find', 'hexdigits', 'index', 'index_error', 'join', 'joinfields', 'letters', 'ljust', 'lower', 'lowercase', 'lstrip', 'maketrans', 'octdigits', 'printable', 'punctuation', 'replace', 'rfind', 'rindex', 'rjust', 'rsplit', 'rstrip', 'split', 'splitfields', 'strip', 'swapcase', 'translate', 'upper', 'uppercase', 'whitespace', 'zfill']\n",
      "['ascii_lowercase', 'upper', '_re', 'letters', 'atol_error', 'lstrip', 'uppercase', 'ascii_letters', 'find', 'atof', 'replace', 'capwords', 'index_error', 'expandtabs', 'Template', 'strip', 'ascii_uppercase', 'octdigits', 'index', 'ljust', 'whitespace', '_int', 'rindex', '_float', 'punctuation', '__package__', 'printable', 'splitfields', 'split', 'rstrip', 'translate', '__doc__', '_multimap', 'count', 'joinfields', 'rjust', '__builtins__', '__file__', 'lower', 'swapcase', 'atof_error', 'atoi', 'hexdigits', 'Formatter', 'atol', '__name__', 'rsplit', '_idmapL', 'digits', 'lowercase', 'join', 'center', '_long', 'rfind', 'atoi_error', 'maketrans', 'capitalize', '_TemplateMetaclass', 'zfill', '_idmap']\n"
     ]
    }
   ],
   "source": [
    "import string\n",
    "#dir은 파라미터 안주면 globals랑 똑가틍ㅁ\n",
    "print dir(string)\n",
    "print string.__dict__.keys()#이름과 그 이름에 속한 객체의 표현인 __dict__\n",
    "#위아래결과가 같냐......?"
   ]
  },
  {
   "cell_type": "code",
   "execution_count": 3,
   "metadata": {
    "collapsed": false
   },
   "outputs": [
    {
     "name": "stdout",
     "output_type": "stream",
     "text": [
      "['__builtins__', '__doc__', '__file__', '__name__', '__package__', 'a']\n"
     ]
    }
   ],
   "source": [
    "print dir(mymath)"
   ]
  },
  {
   "cell_type": "code",
   "execution_count": 4,
   "metadata": {
    "collapsed": false,
    "scrolled": true
   },
   "outputs": [
    {
     "name": "stdout",
     "output_type": "stream",
     "text": [
      "{'a': 1, '__builtins__': {'bytearray': <type 'bytearray'>, 'IndexError': <type 'exceptions.IndexError'>, 'all': <built-in function all>, 'help': Type help() for interactive help, or help(object) for help about object., 'vars': <built-in function vars>, 'SyntaxError': <type 'exceptions.SyntaxError'>, '__IPYTHON__active': 'Deprecated, check for __IPYTHON__', 'unicode': <type 'unicode'>, 'UnicodeDecodeError': <type 'exceptions.UnicodeDecodeError'>, 'memoryview': <type 'memoryview'>, 'isinstance': <built-in function isinstance>, 'copyright': Copyright (c) 2001-2014 Python Software Foundation.\n",
      "All Rights Reserved.\n",
      "\n",
      "Copyright (c) 2000 BeOpen.com.\n",
      "All Rights Reserved.\n",
      "\n",
      "Copyright (c) 1995-2001 Corporation for National Research Initiatives.\n",
      "All Rights Reserved.\n",
      "\n",
      "Copyright (c) 1991-1995 Stichting Mathematisch Centrum, Amsterdam.\n",
      "All Rights Reserved., 'NameError': <type 'exceptions.NameError'>, 'BytesWarning': <type 'exceptions.BytesWarning'>, 'dict': <type 'dict'>, 'input': <function <lambda> at 0x0000000003AEAAC8>, 'oct': <built-in function oct>, 'bin': <built-in function bin>, 'SystemExit': <type 'exceptions.SystemExit'>, 'StandardError': <type 'exceptions.StandardError'>, 'format': <built-in function format>, 'repr': <built-in function repr>, 'sorted': <built-in function sorted>, 'False': False, 'RuntimeWarning': <type 'exceptions.RuntimeWarning'>, 'list': <type 'list'>, 'iter': <built-in function iter>, 'reload': <built-in function reload>, 'Warning': <type 'exceptions.Warning'>, '__package__': None, 'round': <built-in function round>, 'dir': <built-in function dir>, 'cmp': <built-in function cmp>, 'set': <type 'set'>, 'bytes': <type 'str'>, 'reduce': <built-in function reduce>, 'intern': <built-in function intern>, 'issubclass': <built-in function issubclass>, 'Ellipsis': Ellipsis, 'EOFError': <type 'exceptions.EOFError'>, 'locals': <built-in function locals>, 'BufferError': <type 'exceptions.BufferError'>, 'slice': <type 'slice'>, 'FloatingPointError': <type 'exceptions.FloatingPointError'>, 'sum': <built-in function sum>, 'getattr': <built-in function getattr>, 'abs': <built-in function abs>, 'print': <built-in function print>, 'True': True, 'FutureWarning': <type 'exceptions.FutureWarning'>, 'ImportWarning': <type 'exceptions.ImportWarning'>, 'None': None, 'hash': <built-in function hash>, 'ReferenceError': <type 'exceptions.ReferenceError'>, 'len': <built-in function len>, 'credits':     Thanks to CWI, CNRI, BeOpen.com, Zope Corporation and a cast of thousands\n",
      "    for supporting Python development.  See www.python.org for more information., 'frozenset': <type 'frozenset'>, '__name__': '__builtin__', 'ord': <built-in function ord>, 'super': <type 'super'>, 'TypeError': <type 'exceptions.TypeError'>, 'license': See http://www.python.org/psf/license/, 'KeyboardInterrupt': <type 'exceptions.KeyboardInterrupt'>, 'UserWarning': <type 'exceptions.UserWarning'>, 'filter': <built-in function filter>, 'range': <built-in function range>, 'staticmethod': <type 'staticmethod'>, 'SystemError': <type 'exceptions.SystemError'>, 'BaseException': <type 'exceptions.BaseException'>, 'pow': <built-in function pow>, 'RuntimeError': <type 'exceptions.RuntimeError'>, 'float': <type 'float'>, 'MemoryError': <type 'exceptions.MemoryError'>, 'StopIteration': <type 'exceptions.StopIteration'>, 'globals': <built-in function globals>, 'divmod': <built-in function divmod>, 'enumerate': <type 'enumerate'>, 'apply': <built-in function apply>, 'LookupError': <type 'exceptions.LookupError'>, 'open': <built-in function open>, 'basestring': <type 'basestring'>, 'UnicodeError': <type 'exceptions.UnicodeError'>, 'zip': <built-in function zip>, 'hex': <built-in function hex>, 'long': <type 'long'>, 'next': <built-in function next>, 'ImportError': <type 'exceptions.ImportError'>, 'chr': <built-in function chr>, 'xrange': <type 'xrange'>, 'type': <type 'type'>, '__doc__': \"Built-in functions, exceptions, and other objects.\\n\\nNoteworthy: None is the `nil' object; Ellipsis represents `...' in slices.\", 'Exception': <type 'exceptions.Exception'>, '__IPYTHON__': True, 'tuple': <type 'tuple'>, 'UnicodeTranslateError': <type 'exceptions.UnicodeTranslateError'>, 'reversed': <type 'reversed'>, 'UnicodeEncodeError': <type 'exceptions.UnicodeEncodeError'>, 'IOError': <type 'exceptions.IOError'>, 'hasattr': <built-in function hasattr>, 'delattr': <built-in function delattr>, 'setattr': <built-in function setattr>, 'raw_input': <bound method IPythonKernel.raw_input of <IPython.kernel.zmq.ipkernel.IPythonKernel object at 0x0000000003897748>>, 'SyntaxWarning': <type 'exceptions.SyntaxWarning'>, 'compile': <built-in function compile>, 'ArithmeticError': <type 'exceptions.ArithmeticError'>, 'str': <type 'str'>, 'property': <type 'property'>, 'dreload': <function reload at 0x0000000003898CF8>, 'GeneratorExit': <type 'exceptions.GeneratorExit'>, 'int': <type 'int'>, '__import__': <built-in function __import__>, 'KeyError': <type 'exceptions.KeyError'>, 'coerce': <built-in function coerce>, 'PendingDeprecationWarning': <type 'exceptions.PendingDeprecationWarning'>, 'file': <type 'file'>, 'EnvironmentError': <type 'exceptions.EnvironmentError'>, 'unichr': <built-in function unichr>, 'id': <built-in function id>, 'OSError': <type 'exceptions.OSError'>, 'DeprecationWarning': <type 'exceptions.DeprecationWarning'>, 'min': <built-in function min>, 'UnicodeWarning': <type 'exceptions.UnicodeWarning'>, 'execfile': <built-in function execfile>, 'any': <built-in function any>, 'complex': <type 'complex'>, 'bool': <type 'bool'>, 'get_ipython': <bound method ZMQInteractiveShell.get_ipython of <IPython.kernel.zmq.zmqshell.ZMQInteractiveShell object at 0x00000000038977F0>>, 'ValueError': <type 'exceptions.ValueError'>, 'NotImplemented': NotImplemented, 'map': <built-in function map>, 'buffer': <type 'buffer'>, 'max': <built-in function max>, 'object': <type 'object'>, 'TabError': <type 'exceptions.TabError'>, 'callable': <built-in function callable>, 'ZeroDivisionError': <type 'exceptions.ZeroDivisionError'>, 'eval': <built-in function eval>, '__debug__': True, 'IndentationError': <type 'exceptions.IndentationError'>, 'AssertionError': <type 'exceptions.AssertionError'>, 'classmethod': <type 'classmethod'>, 'UnboundLocalError': <type 'exceptions.UnboundLocalError'>, 'NotImplementedError': <type 'exceptions.NotImplementedError'>, 'AttributeError': <type 'exceptions.AttributeError'>, 'OverflowError': <type 'exceptions.OverflowError'>, 'WindowsError': <type 'exceptions.WindowsError'>}, '__file__': 'mymath.py', '__package__': None, '__name__': 'mymath', '__doc__': None}\n"
     ]
    }
   ],
   "source": [
    "print mymath.__dict__"
   ]
  },
  {
   "cell_type": "code",
   "execution_count": 7,
   "metadata": {
    "collapsed": false
   },
   "outputs": [
    {
     "name": "stdout",
     "output_type": "stream",
     "text": [
      "['a', '__builtins__', '__file__', '__package__', '__name__', '__doc__']\n",
      "['__builtins__', '__doc__', '__file__', '__name__', '__package__', 'a']\n"
     ]
    }
   ],
   "source": [
    "print mymath.__dict__.keys()\n",
    "print dir(mymath)#수행결과 같음"
   ]
  },
  {
   "cell_type": "code",
   "execution_count": 8,
   "metadata": {
    "collapsed": false
   },
   "outputs": [
    {
     "name": "stdout",
     "output_type": "stream",
     "text": [
      "None\n"
     ]
    }
   ],
   "source": [
    "print mymath.__doc__"
   ]
  },
  {
   "cell_type": "code",
   "execution_count": 1,
   "metadata": {
    "collapsed": false
   },
   "outputs": [
    {
     "name": "stdout",
     "output_type": "stream",
     "text": [
      "1\n",
      "SHINHWA\n",
      "Help on function f in module __main__:\n",
      "\n",
      "f()\n",
      "    SHINHWA\n",
      "\n",
      "['a', '__builtins__', '__file__', '__package__', '__name__', '__doc__']\n",
      "SHINHWA\n"
     ]
    }
   ],
   "source": [
    "def f():\n",
    "    \"SHINHWA\"\n",
    "    a=1\n",
    "    print a\n",
    "f()\n",
    "print f.__doc__ #문서문자를 볼 수 있음\n",
    "\n",
    "help(f)\n",
    "\n",
    "import mymath\n",
    "print mymath.__doc__#모듈의 문서문자열은 들어오자마자 첫번째 줄에 문장 써 넣으면 됨\n",
    "#클래스도 마찬가ㅣ지임!"
   ]
  },
  {
   "cell_type": "code",
   "execution_count": 2,
   "metadata": {
    "collapsed": false
   },
   "outputs": [
    {
     "name": "stdout",
     "output_type": "stream",
     "text": [
      "1\n"
     ]
    }
   ],
   "source": [
    "x = 2\n",
    "def F():\n",
    "    x = 1\n",
    "    def G():\n",
    "        print x\n",
    "    G()\n",
    "\n",
    "F()#이름 공간 안에 이름 공간을 새롭게 만듦.\n",
    "#but 함수 G는 글로벌 영역에서는 호출을 할 수 없음."
   ]
  },
  {
   "cell_type": "code",
   "execution_count": 4,
   "metadata": {
    "collapsed": false
   },
   "outputs": [],
   "source": [
    "import mymath \n",
    "#를 임포트 하는 순가 pyc파일((java의 .class, 바이트 코드) mymath.py는 .java)이 생성됨\n",
    "#java->(컴파일)->A Class\n",
    "#이클립스는 IDE : 통합 개발 환경 \n",
    "#문서편집기를 잘 잡아두어라~~~~~~\n",
    "#ultraedit, acroedit, sublime text 셋 중 하나의 단축키를 외워두기.\n",
    "#dos창에서 javac A.java 같은 식으로 써서 컴파일 할 수 있음\n",
    "#java A 치는 순간 java 가상머신이 윈도우즈 위에 뜨고 그 위에서 클래스가 움직이면서 동작.\n",
    "#어디 운영체제 실행되는지는 알지 못해도 됨......->플랫폼 독립적인 언어 (가상머신을 돌려서......)"
   ]
  },
  {
   "cell_type": "code",
   "execution_count": 8,
   "metadata": {
    "collapsed": false
   },
   "outputs": [],
   "source": [
    "#콘솔에 있는 파일 위치 가가지구 ipython main.py 이런식으로도 실행이 됨.\\\n",
    "#근데 이런식으로 하면 해석하면서실행해서 pyc파일 안만드는데 import할땐 만듦"
   ]
  },
  {
   "cell_type": "code",
   "execution_count": 10,
   "metadata": {
    "collapsed": false
   },
   "outputs": [
    {
     "name": "stdout",
     "output_type": "stream",
     "text": [
      "\n"
     ]
    }
   ],
   "source": [
    "# -*- coding:utf-8 -*-\n",
    "\"\"\"\n",
    "한글 입력이 제대로 되게끔 해줌 os에 한글이 제대로 저장되게 해 주는 역할을 함.\n",
    "\"\"\"\n",
    "print"
   ]
  },
  {
   "cell_type": "markdown",
   "metadata": {},
   "source": [
    "##시험 출력결과"
   ]
  },
  {
   "cell_type": "code",
   "execution_count": 11,
   "metadata": {
    "collapsed": false
   },
   "outputs": [
    {
     "name": "stdout",
     "output_type": "stream",
     "text": [
      "1\n",
      "2\n",
      "2\n"
     ]
    }
   ],
   "source": [
    "class C:            #클래스도 독립적인 이름 공간\n",
    "    a = 2           #클래스 이름 공간 내에 변수 선언\n",
    "    pass            #클래스 정의 완료\n",
    "\n",
    "c = C()             #클래스 인스턴스 객체 생성\n",
    "c.a = 1             #클래스에서 생성된 인스턴스 객체도 별도의 이름 공간\n",
    "#c.a도 l-value, scope는 소문자 c만!!!!!!\n",
    "print c.a\n",
    "print c.__class__.a\n",
    "#클래스도 객체임! 붕어빵 틀하고 붕어빵 둘 다 객체로 생각하고 있음.\n",
    "print C.a"
   ]
  },
  {
   "cell_type": "code",
   "execution_count": 12,
   "metadata": {
    "collapsed": false
   },
   "outputs": [
    {
     "name": "stdout",
     "output_type": "stream",
     "text": [
      "1\n",
      "\n"
     ]
    },
    {
     "ename": "AttributeError",
     "evalue": "'function' object has no attribute 'a'",
     "output_type": "error",
     "traceback": [
      "\u001b[1;31m---------------------------------------------------------------------------\u001b[0m",
      "\u001b[1;31mAttributeError\u001b[0m                            Traceback (most recent call last)",
      "\u001b[1;32m<ipython-input-12-1110995cdbd5>\u001b[0m in \u001b[0;36m<module>\u001b[1;34m()\u001b[0m\n\u001b[0;32m      6\u001b[0m \u001b[1;32mprint\u001b[0m \u001b[0mf\u001b[0m\u001b[1;33m.\u001b[0m\u001b[0mc\u001b[0m\u001b[1;33m\u001b[0m\u001b[0m\n\u001b[0;32m      7\u001b[0m \u001b[1;32mprint\u001b[0m\u001b[1;33m\u001b[0m\u001b[0m\n\u001b[1;32m----> 8\u001b[1;33m \u001b[1;32mprint\u001b[0m \u001b[0mf\u001b[0m\u001b[1;33m.\u001b[0m\u001b[0ma\u001b[0m\u001b[1;33m\u001b[0m\u001b[0m\n\u001b[0m",
      "\u001b[1;31mAttributeError\u001b[0m: 'function' object has no attribute 'a'"
     ]
    }
   ],
   "source": [
    "x = 10    # 현재 모듈 내부에 정의되는 이름\n",
    "def f():\n",
    "    a = 1\n",
    "    b = 2 # 현재 모듈에 정의되는 함수 f 내에 이름 a,b를 정의하고있다. 함수도 독립적인 이름 공간\n",
    "f.c = 1 #l-value로 쓰이면 무조건 새롭게 만듦. 그래서 이게 가능함.\n",
    "print f.c\n",
    "print\n",
    "print f.a\n",
    "#함수안에 있는걸 꺼내보는 것은 허락을 안함. 멤버변수를 함수가 가지는 것은 조금 이상해......"
   ]
  },
  {
   "cell_type": "code",
   "execution_count": 14,
   "metadata": {
    "collapsed": false
   },
   "outputs": [
    {
     "name": "stdout",
     "output_type": "stream",
     "text": [
      "\n"
     ]
    }
   ],
   "source": [
    "#콘솔에서 set 치면 t-value임\n",
    "\"\"\"\n",
    "환경변수 : OS가 지니고 있는 변수\n",
    "\"\"\"\n",
    "print\n",
    "#set windir ->windir이 있나 없나를 알려줌"
   ]
  },
  {
   "cell_type": "code",
   "execution_count": 15,
   "metadata": {
    "collapsed": false
   },
   "outputs": [
    {
     "name": "stdout",
     "output_type": "stream",
     "text": [
      "\n",
      "C:\\Users\\Yujin\\AppData\\Local\\Enthought\\Canopy\\User\\Scripts\\python27.zip\n",
      "C:\\Users\\Yujin\\AppData\\Local\\Enthought\\Canopy\\App\\appdata\\canopy-1.5.5.3123.win-x86_64\\DLLs\n",
      "C:\\Users\\Yujin\\AppData\\Local\\Enthought\\Canopy\\App\\appdata\\canopy-1.5.5.3123.win-x86_64\\lib\n",
      "C:\\Users\\Yujin\\AppData\\Local\\Enthought\\Canopy\\App\\appdata\\canopy-1.5.5.3123.win-x86_64\\lib\\plat-win\n",
      "C:\\Users\\Yujin\\AppData\\Local\\Enthought\\Canopy\\App\\appdata\\canopy-1.5.5.3123.win-x86_64\\lib\\lib-tk\n",
      "C:\\Users\\Yujin\\AppData\\Local\\Enthought\\Canopy\\App\\appdata\\canopy-1.5.5.3123.win-x86_64\n",
      "C:\\Users\\Yujin\\AppData\\Local\\Enthought\\Canopy\\User\n",
      "C:\\Users\\Yujin\\AppData\\Local\\Enthought\\Canopy\\User\\lib\\site-packages\n",
      "C:\\Users\\Yujin\\AppData\\Local\\Enthought\\Canopy\\User\\lib\\site-packages\\win32\n",
      "C:\\Users\\Yujin\\AppData\\Local\\Enthought\\Canopy\\User\\lib\\site-packages\\win32\\lib\n",
      "C:\\Users\\Yujin\\AppData\\Local\\Enthought\\Canopy\\User\\lib\\site-packages\\Pythonwin\n",
      "C:\\Users\\Yujin\\AppData\\Local\\Enthought\\Canopy\\App\\appdata\n",
      "C:\\Users\\Yujin\\AppData\\Local\\Enthought\\Canopy\\App\\appdata\\canopy-1.5.5.3123.win-x86_64\\lib\\site-packages\n",
      "C:\\Users\\Yujin\\AppData\\Local\\Enthought\\Canopy\\App\\appdata\\canopy-1.5.5.3123.win-x86_64\\lib\\site-packages\\win32\n",
      "C:\\Users\\Yujin\\AppData\\Local\\Enthought\\Canopy\\App\\appdata\\canopy-1.5.5.3123.win-x86_64\\lib\\site-packages\\win32\\lib\n",
      "C:\\Users\\Yujin\\AppData\\Local\\Enthought\\Canopy\\App\\appdata\\canopy-1.5.5.3123.win-x86_64\\lib\\site-packages\\Pythonwin\n",
      "C:\\Users\\Yujin\\AppData\\Local\\Enthought\\Canopy\\User\\lib\\site-packages\\IPython\\extensions\n"
     ]
    }
   ],
   "source": [
    "import sys\n",
    "for p in sys.path:\n",
    "    print p"
   ]
  },
  {
   "cell_type": "code",
   "execution_count": 3,
   "metadata": {
    "collapsed": false
   },
   "outputs": [
    {
     "name": "stdout",
     "output_type": "stream",
     "text": [
      "78.5\n",
      "78.5\n",
      "3\n",
      "3.14\n"
     ]
    }
   ],
   "source": [
    "#reload라는 함수를 잘 기억ㅎ래두라ㅏ둬 \n",
    "import mymath\n",
    "print mymath.area(5)\n",
    "from mymath import area\n",
    "print area(5)\n",
    "from mymath import add#공간에 저장되있는 이름을 이 공간으로도 가져온다는 느낌.\n",
    "print add(1,2)\n",
    "from mymath import * #전부다 가져오는 것임.\n",
    "print mypi\n"
   ]
  },
  {
   "cell_type": "code",
   "execution_count": 5,
   "metadata": {
    "collapsed": false
   },
   "outputs": [
    {
     "name": "stdout",
     "output_type": "stream",
     "text": [
      "10000\n",
      "3.14\n"
     ]
    }
   ],
   "source": [
    "mymath= 10000\n",
    "#import mymath\n",
    "import mymath as math1\n",
    "print mymath\n",
    "print math1.mypi"
   ]
  },
  {
   "cell_type": "code",
   "execution_count": 6,
   "metadata": {
    "collapsed": false
   },
   "outputs": [
    {
     "name": "stdout",
     "output_type": "stream",
     "text": [
      "<function upper at 0x000000000263B048>\n",
      "ABC\n"
     ]
    }
   ],
   "source": [
    "from string import replace as substitute, upper as up#as는 alias를 만들기 위한거얌~~~~~~\n",
    "print up\n",
    "print up('abc')"
   ]
  },
  {
   "cell_type": "code",
   "execution_count": 7,
   "metadata": {
    "collapsed": true
   },
   "outputs": [],
   "source": [
    "#import는 맨 위에 와야만 하는 것 아님 그냥 어느 위치에나 사용할 수 있는 것임\\\n",
    "#콘솔에서 실행할때 폴더를 이동해줬어야지 됨 ㅠ.ㅠ.ㅠ.ㅠ.ㅠ.ㅠ"
   ]
  },
  {
   "cell_type": "code",
   "execution_count": 1,
   "metadata": {
    "collapsed": false
   },
   "outputs": [],
   "source": [
    "import mymath #일종의 라이브러리 처럼 사용하는건데 이렇게 출력하게 되면 별로 좋지는 않음\n",
    "#이게 지금\n",
    "\"\"\"\n",
    "if __name__ == \"__main__\":\n",
    "    print add(1,2)\n",
    "    print area(4.0)\n",
    "\"\"\"\n",
    "#이 코드를 넣어준 상태라 출력은 안돼어 있는데 하여간 ......."
   ]
  },
  {
   "cell_type": "code",
   "execution_count": 2,
   "metadata": {
    "collapsed": false
   },
   "outputs": [
    {
     "name": "stdout",
     "output_type": "stream",
     "text": [
      "3.14\n"
     ]
    }
   ],
   "source": [
    "import main"
   ]
  },
  {
   "cell_type": "code",
   "execution_count": 1,
   "metadata": {
    "collapsed": false
   },
   "outputs": [
    {
     "name": "stdout",
     "output_type": "stream",
     "text": [
      "mymath\n"
     ]
    }
   ],
   "source": [
    "import mymath #이게 __name__이 mymath 라고 되어 있어서 그 출력부가 실행이 안되고 끝남."
   ]
  },
  {
   "cell_type": "code",
   "execution_count": null,
   "metadata": {
    "collapsed": true
   },
   "outputs": [],
   "source": []
  }
 ],
 "metadata": {
  "kernelspec": {
   "display_name": "Python 2",
   "language": "python",
   "name": "python2"
  },
  "language_info": {
   "codemirror_mode": {
    "name": "ipython",
    "version": 2
   },
   "file_extension": ".py",
   "mimetype": "text/x-python",
   "name": "python",
   "nbconvert_exporter": "python",
   "pygments_lexer": "ipython2",
   "version": "2.7.9"
  }
 },
 "nbformat": 4,
 "nbformat_minor": 0
}
