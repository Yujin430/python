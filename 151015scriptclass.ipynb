{
 "cells": [
  {
   "cell_type": "code",
   "execution_count": 6,
   "metadata": {
    "collapsed": false
   },
   "outputs": [
    {
     "name": "stdout",
     "output_type": "stream",
     "text": [
      "<type 'int'>\n",
      "<type 'str'>\n",
      "<type 'tuple'>\n",
      "('shinhwa',)\n",
      "<type 'tuple'>\n",
      "('shinhwa is the best idol',)\n"
     ]
    }
   ],
   "source": [
    "a= 1\n",
    "a=(1)#기억하고 있어야 할 상황임\n",
    "print type(a)\n",
    "a= ('aaaa')\n",
    "print type(a)\n",
    "a= ('shinhwa',)\n",
    "print type(a)\n",
    "print a#출력을 할 때도 콤마가 들어가게 됨\n",
    "a= 'shinhwa is the best idol',\n",
    "print type(a)\n",
    "print a\n"
   ]
  },
  {
   "cell_type": "code",
   "execution_count": 17,
   "metadata": {
    "collapsed": false
   },
   "outputs": [
    {
     "name": "stdout",
     "output_type": "stream",
     "text": [
      "foo\n",
      "(6, 18, 'shinhwa')\n",
      "<type 'tuple'>\n",
      "1\n",
      "2\n",
      "6\n"
     ]
    }
   ],
   "source": [
    "#튜플 및 리스트는 어떤 값도 가질 수 있음. 사전의 밸류도...\n",
    "\n",
    "a=['foo','bar',4,5]\n",
    "x,y,z,w = a#리스트의 언패킹(튜플과 같음)\n",
    "print x\n",
    "\n",
    "t=6,18,'shinhwa'\n",
    "\n",
    "print t\n",
    "\n",
    "#튜플은 메소드를 가지지 않는게 아님!!!!!!\n",
    "print type(t)\n",
    "#t.하고 탭 누르면 t.count, t.index가 나옴\n",
    "#리스트의 카운트와 같음\n",
    "y=[1,2,3]\n",
    "#y.하고 탭 누르면 9개 정도의 다양한 메소드가 나옴. 내용을 바꿀 수 있어서 관련 메소드 많음\n",
    "t=('s','h','i','n','h','w','a')\n",
    "print t.count('a')\n",
    "print t.count('h')\n",
    "print t.index('a')"
   ]
  },
  {
   "cell_type": "code",
   "execution_count": 26,
   "metadata": {
    "collapsed": false
   },
   "outputs": [
    {
     "name": "stdout",
     "output_type": "stream",
     "text": [
      "set([1, 2, 3])\n",
      "set([1, 2, 3, 'abc'])\n",
      "set([(1, 2)])\n",
      "True\n",
      "False\n"
     ]
    }
   ],
   "source": [
    "#집합은 set이라는 함수를 이용해서 만들어야 하니까 기본자료형이라고 할 수는 없음\n",
    "#순서 없음, 중복 불가\n",
    "a = set([1,2,3,3])\n",
    "print a#중복이 제거된 채로 출력됨\n",
    "a = set([1,2,3,3,'abc','abc'])\n",
    "print a\n",
    "a=(1,2)\n",
    "b=(1,2)\n",
    "c=set([a,b])#리스트는 못ㄷㄹ어옴..(변경 불가능한거만 가능)\n",
    "print c\n",
    "print a==b #값이 같으니 a,b는 같은데...내용비교!!!!!!\n",
    "print id(a)==id(b) #완전 같은 객체인가. id를 봄\n",
    "#사전에서는 내용비교만 들어감(id는 굳이 따지지 않음)"
   ]
  },
  {
   "cell_type": "code",
   "execution_count": 27,
   "metadata": {
    "collapsed": false
   },
   "outputs": [
    {
     "ename": "TypeError",
     "evalue": "unhashable type: 'dict'",
     "output_type": "error",
     "traceback": [
      "\u001b[1;31m---------------------------------------------------------------------------\u001b[0m",
      "\u001b[1;31mTypeError\u001b[0m                                 Traceback (most recent call last)",
      "\u001b[1;32m<ipython-input-27-51dc98c98468>\u001b[0m in \u001b[0;36m<module>\u001b[1;34m()\u001b[0m\n\u001b[0;32m      2\u001b[0m \u001b[1;31m#원소로는 변경 가능한것을 사용할 수 없음.\u001b[0m\u001b[1;33m\u001b[0m\u001b[1;33m\u001b[0m\u001b[0m\n\u001b[0;32m      3\u001b[0m \u001b[1;31m#사전도 들어갈 수 없음......set의 원소로......\u001b[0m\u001b[1;33m\u001b[0m\u001b[1;33m\u001b[0m\u001b[0m\n\u001b[1;32m----> 4\u001b[1;33m \u001b[0mc\u001b[0m \u001b[1;33m=\u001b[0m \u001b[0mset\u001b[0m\u001b[1;33m(\u001b[0m\u001b[1;33m[\u001b[0m\u001b[1;33m{\u001b[0m\u001b[1;34m'a'\u001b[0m\u001b[1;33m:\u001b[0m\u001b[1;36m1\u001b[0m\u001b[1;33m,\u001b[0m \u001b[1;34m'b'\u001b[0m\u001b[1;33m:\u001b[0m\u001b[1;36m2\u001b[0m\u001b[1;33m,\u001b[0m \u001b[1;34m'c'\u001b[0m\u001b[1;33m:\u001b[0m\u001b[1;36m3\u001b[0m\u001b[1;33m}\u001b[0m\u001b[1;33m]\u001b[0m\u001b[1;33m)\u001b[0m\u001b[1;33m\u001b[0m\u001b[0m\n\u001b[0m\u001b[0;32m      5\u001b[0m \u001b[1;32mprint\u001b[0m \u001b[0mtype\u001b[0m\u001b[1;33m(\u001b[0m\u001b[0mc\u001b[0m\u001b[1;33m)\u001b[0m\u001b[1;33m\u001b[0m\u001b[0m\n\u001b[0;32m      6\u001b[0m \u001b[1;32mprint\u001b[0m \u001b[0mc\u001b[0m\u001b[1;33m\u001b[0m\u001b[0m\n",
      "\u001b[1;31mTypeError\u001b[0m: unhashable type: 'dict'"
     ]
    }
   ],
   "source": [
    "#문자열 리스트 튜플 다 컬렉션 자료형??????\n",
    "#원소로는 변경 가능한것을 사용할 수 없음.\n",
    "#사전도 들어갈 수 없음......set의 원소로......\n",
    "c = set([{'a':1, 'b':2, 'c':3}])\n",
    "print type(c)\n",
    "print c\n",
    "print"
   ]
  },
  {
   "cell_type": "code",
   "execution_count": 28,
   "metadata": {
    "collapsed": false
   },
   "outputs": [
    {
     "name": "stdout",
     "output_type": "stream",
     "text": [
      "<type 'set'>\n",
      "set(['a', 'c', 'b'])\n",
      "\n"
     ]
    }
   ],
   "source": [
    "c = set({'a':1, 'b':2, 'c':3})\n",
    "print type(c)\n",
    "print c\n",
    "print"
   ]
  },
  {
   "cell_type": "markdown",
   "metadata": {},
   "source": [
    "###set연산 표 동일 연산자와 셋연산 무엇이 서로 동일한건지 알아두기"
   ]
  },
  {
   "cell_type": "code",
   "execution_count": 34,
   "metadata": {
    "collapsed": false
   },
   "outputs": [
    {
     "name": "stdout",
     "output_type": "stream",
     "text": [
      "set([1, 2, 3, 4, 5, 6, 7, 8, 9])\n",
      "\n",
      "True True\n",
      "False True\n",
      "52901480 52901480 59629864\n",
      "True False\n"
     ]
    }
   ],
   "source": [
    "A = set([1,2,3,4,5,6,7,8,9])\n",
    "B=A#그냥 B도 똑같이 같은 객체를 가리키게 됨.\n",
    "D = A.copy()#기존 객체와 동일한 내용을 가지고 있는 새로운 객체를 만들어줌\n",
    "print D\n",
    "print\n",
    "\n",
    "print A == D, A==B #자료값 비교\n",
    "print A is D, A is B #객체 동등성 비교 #is가 아이디를 비교하는 것임......\n",
    "print id(A), id(B), id(D)\n",
    "print id(A)==id(B), id(A)==id(D)\n",
    "#시험문에 알맞은 투루 펄스 집어넣기"
   ]
  },
  {
   "cell_type": "code",
   "execution_count": 46,
   "metadata": {
    "collapsed": false
   },
   "outputs": [
    {
     "name": "stdout",
     "output_type": "stream",
     "text": [
      "0 ms\n",
      "1406 ms\n",
      "16 ms\n",
      "636 ms\n"
     ]
    }
   ],
   "source": [
    "#집합을 리스트와 튜플로 만들어줄 수도 있고......\n",
    "#여러 set관련 메소드들을 타이핑 해보기......집합의 메소드들은 성능이 매우 좋음\n",
    "import random\n",
    "import time\n",
    "\n",
    "NUMBER_OF_ELEMENTS = 10000\n",
    "0#컨벤션. 약속. 변수명을 대문자화 시키면 상수 취급이라 생각\n",
    "\n",
    "list1 = list(range(NUMBER_OF_ELEMENTS))\n",
    "list2 = [x for x in range(NUMBER_OF_ELEMENTS)]\n",
    "#print list1, list2\n",
    "random.shuffle(list1)#얘는 값을 바꿔주고 직접 반환하고 그런건 아니다..\n",
    "#print list1\n",
    "\n",
    "s= set(list1)#셔플되어진 채로 들어감 근데 집합이라 위치가 별로 안중요함\n",
    "\n",
    "lst = list(range(NUMBER_OF_ELEMENTS))#리스트를 만드는 방법으로 내장함수 list이용\n",
    "random.shuffle(lst)\n",
    "\n",
    "s = set(lst)\n",
    "\n",
    "# 해당 원소가 집합/리스트에 포함되어 있는지 검사\n",
    "startTime = time.time()#현재시간을 가져옴\n",
    "for i in range(NUMBER_OF_ELEMENTS):\n",
    "    i in s#집합 안에 있는지 없는지 조사\n",
    "endTime = time.time()#끝나는 시간\n",
    "runTime = int((endTime - startTime) * 1000)#초단위 . ms 단위로 나와서 1000을 곱햅줌\n",
    "print runTime, \"ms\"\n",
    "\n",
    "#같은 코드지만 list에 대해 조사가 들어가는 경우\n",
    "startTime = time.time()\n",
    "for i in range(NUMBER_OF_ELEMENTS):\n",
    "    i in lst\n",
    "endTime = time.time()\n",
    "runTime = int((endTime - startTime) * 1000)\n",
    "print runTime, \"ms\"\n",
    "\n",
    "# 해당 원소를 집합/리스트로 부터 제거\n",
    "startTime = time.time()\n",
    "for i in range(NUMBER_OF_ELEMENTS):\n",
    "    s.remove(i)#집합으로부터 제거\n",
    "endTime = time.time()\n",
    "runTime = int((endTime - startTime) * 1000)\n",
    "print runTime, \"ms\"\n",
    "\n",
    "startTime = time.time()\n",
    "for i in range(NUMBER_OF_ELEMENTS):\n",
    "    lst.remove(i)#리스트로부터 제거\n",
    "endTime = time.time()\n",
    "runTime = int((endTime - startTime) * 1000)\n",
    "print runTime, \"ms\"\n",
    "\n",
    "\n",
    "#집합은 관리해아할 인덱스가 없어서 연산이 더 빨리 나오게 되는것이 아닐까.\n",
    "#인덱스가 중요하지 않다면 집합을 쓰는게 낫지"
   ]
  },
  {
   "cell_type": "code",
   "execution_count": null,
   "metadata": {
    "collapsed": true
   },
   "outputs": [],
   "source": []
  }
 ],
 "metadata": {
  "kernelspec": {
   "display_name": "Python 2",
   "language": "python",
   "name": "python2"
  },
  "language_info": {
   "codemirror_mode": {
    "name": "ipython",
    "version": 2
   },
   "file_extension": ".py",
   "mimetype": "text/x-python",
   "name": "python",
   "nbconvert_exporter": "python",
   "pygments_lexer": "ipython2",
   "version": "2.7.9"
  }
 },
 "nbformat": 4,
 "nbformat_minor": 0
}
