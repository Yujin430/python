{
 "cells": [
  {
   "cell_type": "code",
   "execution_count": 1,
   "metadata": {
    "collapsed": false
   },
   "outputs": [
    {
     "name": "stdout",
     "output_type": "stream",
     "text": [
      "10\n",
      "1\n",
      "16\n"
     ]
    },
    {
     "ename": "IndexError",
     "evalue": "20",
     "output_type": "error",
     "traceback": [
      "\u001b[1;31m---------------------------------------------------------------------------\u001b[0m",
      "\u001b[1;31mIndexError\u001b[0m                                Traceback (most recent call last)",
      "\u001b[1;32m<ipython-input-1-87f87f9daa6d>\u001b[0m in \u001b[0;36m<module>\u001b[1;34m()\u001b[0m\n\u001b[0;32m     18\u001b[0m \u001b[1;32mprint\u001b[0m \u001b[0ms1\u001b[0m\u001b[1;33m[\u001b[0m\u001b[1;36m1\u001b[0m\u001b[1;33m]\u001b[0m \u001b[1;31m#s1.__getitem__(1)\u001b[0m\u001b[1;33m\u001b[0m\u001b[0m\n\u001b[0;32m     19\u001b[0m \u001b[1;32mprint\u001b[0m \u001b[0ms1\u001b[0m\u001b[1;33m[\u001b[0m\u001b[1;36m4\u001b[0m\u001b[1;33m]\u001b[0m \u001b[1;31m#1,4,20이 k로 들어감.\u001b[0m\u001b[1;33m\u001b[0m\u001b[0m\n\u001b[1;32m---> 20\u001b[1;33m \u001b[1;32mprint\u001b[0m \u001b[0ms1\u001b[0m\u001b[1;33m[\u001b[0m\u001b[1;36m20\u001b[0m\u001b[1;33m]\u001b[0m\u001b[1;33m\u001b[0m\u001b[0m\n\u001b[0m",
      "\u001b[1;32m<ipython-input-1-87f87f9daa6d>\u001b[0m in \u001b[0;36m__getitem__\u001b[1;34m(self, k)\u001b[0m\n\u001b[0;32m     10\u001b[0m     \u001b[1;32mdef\u001b[0m \u001b[0m__getitem__\u001b[0m\u001b[1;33m(\u001b[0m\u001b[0mself\u001b[0m\u001b[1;33m,\u001b[0m \u001b[0mk\u001b[0m\u001b[1;33m)\u001b[0m\u001b[1;33m:\u001b[0m\u001b[1;33m\u001b[0m\u001b[0m\n\u001b[0;32m     11\u001b[0m         \u001b[1;32mif\u001b[0m \u001b[0mk\u001b[0m \u001b[1;33m<\u001b[0m \u001b[1;36m0\u001b[0m \u001b[1;32mor\u001b[0m \u001b[0mself\u001b[0m\u001b[1;33m.\u001b[0m\u001b[0mend\u001b[0m \u001b[1;33m<=\u001b[0m \u001b[0mk\u001b[0m\u001b[1;33m:\u001b[0m\u001b[1;31m#음수이거나 아니면......\u001b[0m\u001b[1;33m\u001b[0m\u001b[0m\n\u001b[1;32m---> 12\u001b[1;33m             \u001b[1;32mraise\u001b[0m \u001b[0mIndexError\u001b[0m\u001b[1;33m,\u001b[0m \u001b[0mk\u001b[0m\u001b[1;31m#indexError\u001b[0m\u001b[1;33m\u001b[0m\u001b[0m\n\u001b[0m\u001b[0;32m     13\u001b[0m         \u001b[1;32mreturn\u001b[0m \u001b[0mk\u001b[0m \u001b[1;33m*\u001b[0m \u001b[0mk\u001b[0m\u001b[1;31m#값을미리 가지고 있지 않음.\u001b[0m\u001b[1;33m\u001b[0m\u001b[0m\n\u001b[0;32m     14\u001b[0m \u001b[1;33m\u001b[0m\u001b[0m\n",
      "\u001b[1;31mIndexError\u001b[0m: 20"
     ]
    }
   ],
   "source": [
    "# __getItem__(self, key) 매우 중요!!!!!!\n",
    "\n",
    "\n",
    "class Square:\n",
    "    def __init__(self, end):\n",
    "        self.end = end\n",
    "        #앞에건 객체 안에 남아있고 뒤에건 사라지는 end.\n",
    "    def __len__(self):\n",
    "        return self.end\n",
    "    def __getitem__(self, k):\n",
    "        if k < 0 or self.end <= k:#음수이거나 아니면......\n",
    "            raise IndexError, k#indexError\n",
    "        return k * k#값을미리 가지고 있지 않음.\n",
    "    \n",
    "s1 = Square(10)#0~9각각의 제곱값을 내부적으로 가지고 있는 모습으로 \n",
    "#사용하려고 이 클래스를 만듦.\n",
    "print len(s1) # s1.__len__()\n",
    "print s1[1] #s1.__getitem__(1)\n",
    "print s1[4] #1,4,20이 k로 들어감.\n",
    "print s1[20]"
   ]
  },
  {
   "cell_type": "markdown",
   "metadata": {},
   "source": [
    "다음 for 문은 s1에 대해 \\_\\_getitem()\\_\\_ 메소드를 0부터 호출하여 IndexError가 발생하면 루프를 중단한다."
   ]
  },
  {
   "cell_type": "code",
   "execution_count": 2,
   "metadata": {
    "collapsed": false
   },
   "outputs": [
    {
     "name": "stdout",
     "output_type": "stream",
     "text": [
      "0 1 4 9 16 25 36 49 64 81\n"
     ]
    }
   ],
   "source": [
    "for x in s1:\n",
    "    print x,"
   ]
  },
  {
   "cell_type": "markdown",
   "metadata": {},
   "source": [
    "\\_\\_getitem\\_\\_() 메소드가 정의되어 있다면 다른 시퀀스 자료형으로 변환이 가능"
   ]
  },
  {
   "cell_type": "code",
   "execution_count": 3,
   "metadata": {
    "collapsed": false
   },
   "outputs": [
    {
     "name": "stdout",
     "output_type": "stream",
     "text": [
      "[0, 1, 4, 9, 16, 25, 36, 49, 64, 81]\n",
      "(0, 1, 4, 9, 16, 25, 36, 49, 64, 81)\n"
     ]
    }
   ],
   "source": [
    "print list(s1)\n",
    "print tuple(s1)"
   ]
  },
  {
   "cell_type": "code",
   "execution_count": 4,
   "metadata": {
    "collapsed": false
   },
   "outputs": [
    {
     "ename": "TypeError",
     "evalue": "iteration over non-sequence",
     "output_type": "error",
     "traceback": [
      "\u001b[1;31m---------------------------------------------------------------------------\u001b[0m",
      "\u001b[1;31mTypeError\u001b[0m                                 Traceback (most recent call last)",
      "\u001b[1;32m<ipython-input-4-03d6f9c2a06f>\u001b[0m in \u001b[0;36m<module>\u001b[1;34m()\u001b[0m\n\u001b[0;32m      7\u001b[0m \u001b[1;33m\u001b[0m\u001b[0m\n\u001b[0;32m      8\u001b[0m \u001b[0ms1\u001b[0m \u001b[1;33m=\u001b[0m \u001b[0mSquare\u001b[0m\u001b[1;33m(\u001b[0m\u001b[1;36m10\u001b[0m\u001b[1;33m)\u001b[0m\u001b[1;33m\u001b[0m\u001b[0m\n\u001b[1;32m----> 9\u001b[1;33m \u001b[1;32mprint\u001b[0m \u001b[0mlist\u001b[0m\u001b[1;33m(\u001b[0m\u001b[0ms1\u001b[0m\u001b[1;33m)\u001b[0m\u001b[1;33m\u001b[0m\u001b[0m\n\u001b[0m",
      "\u001b[1;31mTypeError\u001b[0m: iteration over non-sequence"
     ]
    }
   ],
   "source": [
    "class Square:\n",
    "    def __init__(self, end):\n",
    "        self.end = end\n",
    "        #앞에건 객체 안에 남아있고 뒤에건 사라지는 end.\n",
    "    def __len__(self):\n",
    "        return self.end\n",
    "    \n",
    "s1 = Square(10)\n",
    "print list(s1)\n",
    "#오류가 자료형이 시퀀스형이 아니라고 나옴. 근데 지금 없애준게 gettitem\n",
    "#시퀸스 형이 되려면 getitem이이썽ㅇ~~~~~~"
   ]
  },
  {
   "cell_type": "code",
   "execution_count": 6,
   "metadata": {
    "collapsed": false
   },
   "outputs": [
    {
     "name": "stdout",
     "output_type": "stream",
     "text": [
      "<__main__.MyDict instance at 0x0000000003A1B508>\n",
      "light\n",
      "darkness\n",
      "2\n"
     ]
    },
    {
     "ename": "AttributeError",
     "evalue": "MyDict instance has no attribute 'keys'",
     "output_type": "error",
     "traceback": [
      "\u001b[1;31m---------------------------------------------------------------------------\u001b[0m",
      "\u001b[1;31mAttributeError\u001b[0m                            Traceback (most recent call last)",
      "\u001b[1;32m<ipython-input-6-53ad306ccece>\u001b[0m in \u001b[0;36m<module>\u001b[1;34m()\u001b[0m\n\u001b[0;32m     27\u001b[0m \u001b[1;33m\u001b[0m\u001b[0m\n\u001b[0;32m     28\u001b[0m \u001b[0mm\u001b[0m \u001b[1;33m=\u001b[0m \u001b[0mMyDict\u001b[0m\u001b[1;33m(\u001b[0m\u001b[1;33m{\u001b[0m\u001b[1;34m'one'\u001b[0m\u001b[1;33m:\u001b[0m\u001b[1;36m1\u001b[0m\u001b[1;33m,\u001b[0m \u001b[1;34m'two'\u001b[0m\u001b[1;33m:\u001b[0m\u001b[1;36m2\u001b[0m\u001b[1;33m,\u001b[0m \u001b[1;34m'three'\u001b[0m\u001b[1;33m:\u001b[0m\u001b[1;36m3\u001b[0m\u001b[1;33m}\u001b[0m\u001b[1;33m)\u001b[0m\u001b[1;33m\u001b[0m\u001b[0m\n\u001b[1;32m---> 29\u001b[1;33m \u001b[1;32mprint\u001b[0m \u001b[0mm\u001b[0m\u001b[1;33m.\u001b[0m\u001b[0mkeys\u001b[0m\u001b[1;33m(\u001b[0m\u001b[1;33m)\u001b[0m\u001b[1;33m\u001b[0m\u001b[0m\n\u001b[0m\u001b[0;32m     30\u001b[0m \u001b[1;32mprint\u001b[0m \u001b[0mm\u001b[0m\u001b[1;33m.\u001b[0m\u001b[0mvalues\u001b[0m\u001b[1;33m(\u001b[0m\u001b[1;33m)\u001b[0m\u001b[1;33m\u001b[0m\u001b[0m\n",
      "\u001b[1;31mAttributeError\u001b[0m: MyDict instance has no attribute 'keys'"
     ]
    }
   ],
   "source": [
    "#되도록이면 getitem으남ㄴㄷ어ㅓㅣㄹ은\n",
    "\n",
    "\n",
    "class MyDict:\n",
    "    def __init__(self, d = None):\n",
    "        if d == None: d = {}#내장자료형 사전을 둘러싸고 있는 객체\n",
    "        self.d = d\n",
    "    def __getitem__(self, k): #key\n",
    "        return self.d[k]\n",
    "    def __setitem__(self, k, v):\n",
    "        self.d[k] = v\n",
    "    def __len__(self):\n",
    "        return len(self.d)\n",
    "    \n",
    "m = MyDict()            #__init__호출\n",
    "m['day'] = 'light'      #__setitem__호출\n",
    "m['night'] = 'darkness' #__setitem__호출 \n",
    "print m\n",
    "print m['day']          #__getitem__호출\n",
    "print m['night']        #__getitem__호출\n",
    "print len(m)            #__len__호출\n",
    "def keys(self):\n",
    "        return self.d.keys()\n",
    "def values(self):\n",
    "    return self.d.values()\n",
    "def items(self):        return self.d.items()\n",
    "    \n",
    "m = MyDict({'one':1, 'two':2, 'three':3})\n",
    "print m.keys()\n",
    "print m.values()"
   ]
  },
  {
   "cell_type": "code",
   "execution_count": 9,
   "metadata": {
    "collapsed": false
   },
   "outputs": [
    {
     "name": "stdout",
     "output_type": "stream",
     "text": [
      "str called\n",
      "<__main__.StringRepr instance at 0x0000000003A1B788>\n",
      "str called\n",
      "<__main__.StringRepr instance at 0x0000000003A1B788>\n"
     ]
    }
   ],
   "source": [
    "class StringRepr:\n",
    "    def __str__(self):\n",
    "        return 'str called'\n",
    "\n",
    "s = StringRepr()\n",
    "print s\n",
    "print repr(s)\n",
    "print str(s)\n",
    "print `s` #repar호출하는 경우~~````?~\n"
   ]
  },
  {
   "cell_type": "code",
   "execution_count": 11,
   "metadata": {
    "collapsed": false
   },
   "outputs": [
    {
     "name": "stdout",
     "output_type": "stream",
     "text": [
      "15\n",
      "21\n",
      "45\n",
      "45\n"
     ]
    }
   ],
   "source": [
    "class Accumulator:\n",
    "    def __init__(self):\n",
    "        self.sum = 0\n",
    "    def __call__(self, *args):\n",
    "        #부를 수 있는 객체를 불러와줌\n",
    "        #객체를 콜러블 하기 \n",
    "        #self.sum += sum(args)\n",
    "        #return self.sum\n",
    "        return sum(args) #이게 훨씬 나은 코드......\n",
    "    \n",
    "acc = Accumulator()\n",
    "print acc(1,2,3,4,5)\n",
    "print acc(6)\n",
    "print acc(7,8,9)\n",
    "print acc.sum\n",
    "#arc는 튜플로 반환."
   ]
  },
  {
   "cell_type": "code",
   "execution_count": 12,
   "metadata": {
    "collapsed": false
   },
   "outputs": [
    {
     "name": "stdout",
     "output_type": "stream",
     "text": [
      "callable\n",
      "not callable\n",
      "\n",
      "True\n",
      "False\n"
     ]
    }
   ],
   "source": [
    "def check(func):#함수로 받으려는 의도 때무네 func\n",
    "    #근데 객체가 들어감ㅎㅎㅎ\n",
    "    if callable(func):\n",
    "        print 'callable'\n",
    "    else:\n",
    "        print 'not callable'\n",
    "\n",
    "class B:\n",
    "    def func(self, v):\n",
    "        return v\n",
    "class A:\n",
    "    def __call__(self, v):\n",
    "        return v\n",
    "    \n",
    "a = A()\n",
    "b = B()\n",
    "check(a)\n",
    "check(b)\n",
    "print\n",
    "print callable(a)#부를 수 있는 함수인가!\n",
    "print callable(b)"
   ]
  },
  {
   "cell_type": "markdown",
   "metadata": {},
   "source": [
    "##21주차 상속과 다형성"
   ]
  },
  {
   "cell_type": "code",
   "execution_count": 18,
   "metadata": {
    "collapsed": false
   },
   "outputs": [
    {
     "ename": "TypeError",
     "evalue": "__init__() takes exactly 5 arguments (2 given)",
     "output_type": "error",
     "traceback": [
      "\u001b[1;31m---------------------------------------------------------------------------\u001b[0m",
      "\u001b[1;31mTypeError\u001b[0m                                 Traceback (most recent call last)",
      "\u001b[1;32m<ipython-input-18-bb8e6b52379c>\u001b[0m in \u001b[0;36m<module>\u001b[1;34m()\u001b[0m\n\u001b[0;32m     18\u001b[0m \u001b[1;31m#e = Employee()#인자 아무것도 안들어가는 생성자가 없음\u001b[0m\u001b[1;33m\u001b[0m\u001b[1;33m\u001b[0m\u001b[0m\n\u001b[0;32m     19\u001b[0m \u001b[0me\u001b[0m \u001b[1;33m=\u001b[0m \u001b[0mEmployee2\u001b[0m\u001b[1;33m(\u001b[0m\u001b[1;34m'yhhan'\u001b[0m\u001b[1;33m)\u001b[0m\u001b[1;33m\u001b[0m\u001b[0m\n\u001b[1;32m---> 20\u001b[1;33m \u001b[0me\u001b[0m \u001b[1;33m=\u001b[0m \u001b[0mEmployee\u001b[0m\u001b[1;33m(\u001b[0m\u001b[1;34m'yhhan'\u001b[0m\u001b[1;33m)\u001b[0m\u001b[1;33m\u001b[0m\u001b[0m\n\u001b[0m",
      "\u001b[1;31mTypeError\u001b[0m: __init__() takes exactly 5 arguments (2 given)"
     ]
    }
   ],
   "source": [
    "class Person:\n",
    "    def __init__(self, name, phone=None):\n",
    "        self.name = name\n",
    "        self.phone = phone\n",
    "    def __str__(self):\n",
    "        return '<Person %s %s>' % (self.name, self.phone)\n",
    "    \n",
    "class Employee(Person):#상속할 부모 클래스를 괄호안에 넣==ㅓ에줌                    \n",
    "        #괄호 안에 쓰여진 클래스는 슈퍼클래스를 의미한다.\n",
    "    def __init__(self, name, phone, position, salary):\n",
    "        #얘도 오버라이드\n",
    "        Person.__init__(self, name, phone)\n",
    "        #클래스이름에게 함수 호출하는 언바운드 메소드!\n",
    "        #Person클래스의 생성자 호출\n",
    "        #이거 안넣어주면 Employee는 포지션하고 샐러리만 갖게 됨.\n",
    "        self.position = position\n",
    "        self.salary = salary\n",
    "class Employee2(Person):\n",
    "    pass\n",
    "#e = Employee()#인자 아무것도 안들어가는 생성자가 없음\n",
    "e = Employee2('yhhan')\n",
    "e = Employee('yhhan')\n",
    "#얘는 인자가 4개 필요함 오버라이드 되어버려서...\n",
    "#이름이 동일한 것에 대해서 오버로딩이 안됨."
   ]
  },
  {
   "cell_type": "code",
   "execution_count": 20,
   "metadata": {
    "collapsed": false
   },
   "outputs": [
    {
     "name": "stdout",
     "output_type": "stream",
     "text": [
      "<Person gslee 5284>\n",
      "<Person kslee 5224>\n"
     ]
    }
   ],
   "source": [
    "class Person:\n",
    "    def __init__(self, name, phone=None):\n",
    "        self.name = name\n",
    "        self.phone = phone\n",
    "    def __str__(self):\n",
    "        return '<Person %s %s>' % (self.name, self.phone)\n",
    "    \n",
    "class Employee(Person):\n",
    "    def __init__(self, name, phone, position, salary):\n",
    "        Person.__init__(self, name, phone)\n",
    "        self.position = position\n",
    "        self.salary = salary\n",
    "        #str이 없으니까 부모거가 찍혀버림..!!!!\n",
    "        \n",
    "p1 = Person('gslee', 5284)\n",
    "m1 = Employee('kslee', 5224, 'President', 500)\n",
    "\n",
    "print p1\n",
    "print m1"
   ]
  },
  {
   "cell_type": "code",
   "execution_count": 21,
   "metadata": {
    "collapsed": false
   },
   "outputs": [
    {
     "name": "stdout",
     "output_type": "stream",
     "text": [
      "<Person gslee 5284>\n",
      "<Employee kslee 5224 President 500>\n"
     ]
    }
   ],
   "source": [
    "class Employee(Person):\n",
    "    def __init__(self, name, phone, position, salary):\n",
    "        Person.__init__(self, name, phone)\n",
    "        self.position = position\n",
    "        self.salary = salary\n",
    "    def __str__(self):#오버라이딩\n",
    "        return '<Employee %s %s %s %s>' %\\\n",
    "    (self.name, self.phone, self.position, self.salary)\n",
    "    \n",
    "p1 = Person('gslee', 5284)\n",
    "m1 = Employee('kslee', 5224, 'President', 500)\n",
    "\n",
    "print p1\n",
    "print m1"
   ]
  },
  {
   "cell_type": "code",
   "execution_count": 22,
   "metadata": {
    "collapsed": true
   },
   "outputs": [],
   "source": [
    "# 파이썬에는 연산자 오버로딩은 있지만 오버로딩은없으"
   ]
  },
  {
   "cell_type": "markdown",
   "metadata": {},
   "source": [
    "###다형성(Polymorphism)"
   ]
  },
  {
   "cell_type": "markdown",
   "metadata": {},
   "source": [
    "- 상속 관계 내의 다른 클래스들의 인스턴스들이 같은 멤버 함수 호출에 대해 각각 다르게 반응하도록 하는 기능\n",
    "\n",
    "  - 연산자 오버로딩도 다형성을 지원하는 중요한 기술\n",
    "    - 예를 들어, a와 b의 객체 형에 따라 a + b의 + 연산자 행동 방식이 변경되는 것\n",
    "- 다형성의 장점\n",
    "\n",
    "  - 적은 코딩으로 다양한 객체들에게 유사한 작업을 수행시킬 수 있음\n",
    "  - 프로그램 작성 코드 량이 줄어든다.\n",
    "  - 코드의 가독성을 높혀준다.\n",
    "- 파이썬에서 다형성의 장점\n",
    "\n",
    "  - 형 선언이 없다는 점에서 파이썬에서는 다형성을 적용하기가 더욱 용이하다.\n",
    "  - 실시간으로 객체의 형이 결정되므로 단 하나의 메소드에 의해 처리될 수 있는 객체의 종류에 제한이 없다.\n",
    "    - 즉, 다른 언어보다 코드의 양이 더욱 줄어든다."
   ]
  },
  {
   "cell_type": "code",
   "execution_count": 26,
   "metadata": {
    "collapsed": false
   },
   "outputs": [
    {
     "name": "stdout",
     "output_type": "stream",
     "text": [
      "멍멍\n",
      "꽥꽥\n",
      "...\n"
     ]
    }
   ],
   "source": [
    "#함수 호출을 당하는 객체들이 다르면 다르게 행동하는 것이 다형성.\n",
    "class Animal:\n",
    "    def cry(self):\n",
    "        print '...'\n",
    "        \n",
    "class Dog(Animal):\n",
    "    def cry(self):\n",
    "        print '멍멍'\n",
    "        \n",
    "class Duck(Animal):\n",
    "    def cry(self):\n",
    "        print '꽥꽥'\n",
    "        \n",
    "class Fish(Animal):\n",
    "    pass\n",
    "\n",
    "#다형성은 주로 for루프 while루프 등에 쓰임\n",
    "for each in (Dog(), Duck(), Fish()):\n",
    "    each.cry()\n",
    "\n",
    "#다형성을 상속과 떨어뜨려놓고도 설명이 가능함. "
   ]
  },
  {
   "cell_type": "code",
   "execution_count": 25,
   "metadata": {
    "collapsed": false
   },
   "outputs": [
    {
     "name": "stdout",
     "output_type": "stream",
     "text": [
      "멍멍\n",
      "꽥꽥\n"
     ]
    },
    {
     "ename": "AttributeError",
     "evalue": "Fish instance has no attribute 'cry'",
     "output_type": "error",
     "traceback": [
      "\u001b[1;31m---------------------------------------------------------------------------\u001b[0m",
      "\u001b[1;31mAttributeError\u001b[0m                            Traceback (most recent call last)",
      "\u001b[1;32m<ipython-input-25-6160df1e549c>\u001b[0m in \u001b[0;36m<module>\u001b[1;34m()\u001b[0m\n\u001b[0;32m     17\u001b[0m \u001b[1;31m#다형성은 주로 for루프 while루프 등에 쓰임\u001b[0m\u001b[1;33m\u001b[0m\u001b[1;33m\u001b[0m\u001b[0m\n\u001b[0;32m     18\u001b[0m \u001b[1;32mfor\u001b[0m \u001b[0meach\u001b[0m \u001b[1;32min\u001b[0m \u001b[1;33m(\u001b[0m\u001b[0mDog\u001b[0m\u001b[1;33m(\u001b[0m\u001b[1;33m)\u001b[0m\u001b[1;33m,\u001b[0m \u001b[0mDuck\u001b[0m\u001b[1;33m(\u001b[0m\u001b[1;33m)\u001b[0m\u001b[1;33m,\u001b[0m \u001b[0mFish\u001b[0m\u001b[1;33m(\u001b[0m\u001b[1;33m)\u001b[0m\u001b[1;33m)\u001b[0m\u001b[1;33m:\u001b[0m\u001b[1;33m\u001b[0m\u001b[0m\n\u001b[1;32m---> 19\u001b[1;33m     \u001b[0meach\u001b[0m\u001b[1;33m.\u001b[0m\u001b[0mcry\u001b[0m\u001b[1;33m(\u001b[0m\u001b[1;33m)\u001b[0m\u001b[1;33m\u001b[0m\u001b[0m\n\u001b[0m\u001b[0;32m     20\u001b[0m \u001b[1;33m\u001b[0m\u001b[0m\n\u001b[0;32m     21\u001b[0m \u001b[1;31m#파이썬은 워낙 동적이다 보니 상속을 받지 않았음에도 불구하고\u001b[0m\u001b[1;33m\u001b[0m\u001b[1;33m\u001b[0m\u001b[0m\n",
      "\u001b[1;31mAttributeError\u001b[0m: Fish instance has no attribute 'cry'"
     ]
    }
   ],
   "source": [
    "#함수 호출을 당하는 객체들이 다르면 다르게 행동하는 것이 다형성.\n",
    "class Animal:\n",
    "    def cry(self):\n",
    "        print '...'\n",
    "        \n",
    "class Dog:\n",
    "    def cry(self):\n",
    "        print '멍멍'\n",
    "        \n",
    "class Duck:\n",
    "    def cry(self):\n",
    "        print '꽥꽥'\n",
    "        \n",
    "class Fish:\n",
    "    pass\n",
    "\n",
    "#다형성은 주로 for루프 while루프 등에 쓰임\n",
    "for each in (Dog(), Duck(), Fish()):\n",
    "    each.cry()\n",
    "\n",
    "#파이썬은 워낙 동적이다 보니 상속을 받지 않았음에도 불구하고 \n",
    "#정상적으로 수행됨."
   ]
  },
  {
   "cell_type": "markdown",
   "metadata": {},
   "source": [
    "###내장 자료형과 클래스의 통일\n",
    "- 내장 자료형(list, dict, tuple, string)을 상속하여 사용자 클래스를 정의하는 것\n",
    "  - 내장 자료형과 사용자 자료형의 차이를 없에고 통일된 관점으로 모든 객체를 다룰 수 있는 방안\n",
    "- 클래스 정의는 새로운 자료형의 정의임"
   ]
  },
  {
   "cell_type": "code",
   "execution_count": 27,
   "metadata": {
    "collapsed": false
   },
   "outputs": [
    {
     "name": "stdout",
     "output_type": "stream",
     "text": [
      "[1, 2, 3, 'spam', 4, 5]\n",
      "\n",
      "[1, 2, 3, 5]\n"
     ]
    }
   ],
   "source": [
    "class MyList(list):#list도 어찌 보면 클래스 이름이라 할 수 있음.\n",
    "    def __sub__(self, other):   # '-' 연산자 중복 함수 정의\n",
    "        for x in other:\n",
    "            if x in self:\n",
    "                self.remove(x)     # 각 항목을 하나씩 삭제한다.\n",
    "        return self\n",
    "\n",
    "L = MyList([1, 2, 3, 'spam', 4, 5])\n",
    "print L\n",
    "print\n",
    "\n",
    "L = L - ['spam', 4]#L-['spam',4] 도 되긴 하는데 그래도 짐처럼 써\n",
    "print L"
   ]
  },
  {
   "cell_type": "code",
   "execution_count": 28,
   "metadata": {
    "collapsed": true
   },
   "outputs": [],
   "source": [
    "class MyList(list):#list도 어찌 보면 클래스 이름이라 할 수 있음.\n",
    "    def __sub__(self, other):   # '-' 연산자 중복 함수 정의\n",
    "        for x in other:\n",
    "            if x in self:\n",
    "                self.remove(x)     # 각 항목을 하나씩 삭제한다.\n",
    "        return self\n",
    "    \n",
    "class MyList():#list도 어찌 보면 클래스 이름이라 할 수 있음.\n",
    "    def __init__(self, x):\n",
    "        self.x= x\n",
    "    def __sub__(self, other):   # '-' 연산자 중복 함수 정의\n",
    "        for x in other:\n",
    "            if x in self.x:\n",
    "                self.x.remove(x)     # 각 항목을 하나씩 삭제한다.\n",
    "        return self\n",
    "    #이렇게 self.x 계속 써주는거 보다는 차릴리 위에처럼 코딩을\n",
    "    #해주는게 훨씬 좋은 방법이다"
   ]
  },
  {
   "cell_type": "code",
   "execution_count": 29,
   "metadata": {
    "collapsed": true
   },
   "outputs": [],
   "source": [
    "cccc = MyList([1,2,3])\n",
    "#이건 self 스스로가 리스트가 아니라 self.x가 리스트가 되는 것임."
   ]
  },
  {
   "cell_type": "code",
   "execution_count": 30,
   "metadata": {
    "collapsed": false
   },
   "outputs": [
    {
     "name": "stdout",
     "output_type": "stream",
     "text": [
      "[4, 5]\n",
      "\n",
      "[1, 2, 3, 4, 5]\n",
      "\n",
      "5\n",
      "4\n",
      "[1, 2, 3]\n"
     ]
    }
   ],
   "source": [
    "class Stack(list):  # 클래스 정의\n",
    "    push = list.append#그냥 append하면 안됨.\n",
    "    #push라는 이름을 만드는데 그게 list.append\n",
    "    \n",
    "s = Stack()         \n",
    "#인스턴스 생성\n",
    "#s도 리스트인데 push라는 이름을 하나 더 가지고 있는 것 뿐임.\n",
    "#push는 append랑 같은 함수를 가리킴.\n",
    "s.push(4)\n",
    "s.push(5)\n",
    "print s\n",
    "print\n",
    "\n",
    "s = Stack([1,2,3])\n",
    "s.push(4)\n",
    "s.push(5)\n",
    "print s\n",
    "print\n",
    "\n",
    "print s.pop()       \n",
    "#슈퍼 클래스인 리스트 클래스의 pop() 메소드 호출\n",
    "print s.pop()\n",
    "print s"
   ]
  },
  {
   "cell_type": "code",
   "execution_count": 31,
   "metadata": {
    "collapsed": false
   },
   "outputs": [
    {
     "name": "stdout",
     "output_type": "stream",
     "text": [
      "[1, 2]\n",
      "1\n",
      "2\n"
     ]
    }
   ],
   "source": [
    "class Queue(list):\n",
    "    enqueue = list.append\n",
    "    def dequeue(self):\n",
    "        return self.pop(0)\n",
    "    \n",
    "q = Queue()\n",
    "q.enqueue(1)      # 데이터 추가\n",
    "q.enqueue(2)\n",
    "print q\n",
    "\n",
    "print q.dequeue() # 데이터 꺼내기\n",
    "print q.dequeue()"
   ]
  },
  {
   "cell_type": "code",
   "execution_count": 32,
   "metadata": {
    "collapsed": false
   },
   "outputs": [
    {
     "name": "stdout",
     "output_type": "stream",
     "text": [
      "['one', 'three', 'two']\n",
      "\n",
      "['three', 'two', 'one']\n"
     ]
    }
   ],
   "source": [
    "class MyDict(dict):\n",
    "    def keys(self):\n",
    "        K = dict.keys(self) \n",
    "        #언바운드 메소드 호출! 만약 K = self.keys() 라고 호출하면 무한 재귀 호출\n",
    "        #의미하는 바가 틀린것은 아님 그러나, 이렇게 코딩할 경우 현재 정의\n",
    "        #하고있는 함수를 호출하게 됨.\n",
    "        K.sort()\n",
    "        return K\n",
    "\n",
    "d = MyDict({'one':1, 'two':2, 'three':3})\n",
    "print d.keys()\n",
    "print\n",
    "\n",
    "d2 = {'one':1, 'two':2, 'three':3}\n",
    "print d2.keys()"
   ]
  },
  {
   "cell_type": "markdown",
   "metadata": {},
   "source": [
    "isinstance(객체, 클래스) : 수퍼클래스도 다 포함되는 것임.  \n",
    "issubclass(객체, 클래스) : 얘도 수퍼클래스도 다 포함인거!!"
   ]
  },
  {
   "cell_type": "code",
   "execution_count": 36,
   "metadata": {
    "collapsed": false
   },
   "outputs": [
    {
     "name": "stdout",
     "output_type": "stream",
     "text": [
      "True\n",
      "True\n",
      "\n",
      "False\n",
      "True\n"
     ]
    }
   ],
   "source": [
    "class Person:\n",
    "    pass\n",
    "\n",
    "class Employee(Person):\n",
    "    pass\n",
    "\n",
    "e=Employee()\n",
    "print isinstance(e,Employee)\n",
    "print isinstance(e,Person)\n",
    "print\n",
    "\n",
    "\n",
    "e=Person()\n",
    "print isinstance(e,Employee)\n",
    "print isinstance(e,Person)"
   ]
  },
  {
   "cell_type": "code",
   "execution_count": 39,
   "metadata": {
    "collapsed": false
   },
   "outputs": [
    {
     "name": "stdout",
     "output_type": "stream",
     "text": [
      "__main__.A => A\n",
      "__main__.B => B\n",
      "__main__.C => B C\n",
      "\n",
      "False\n",
      "True\n"
     ]
    }
   ],
   "source": [
    "class A:\n",
    "    pass\n",
    "\n",
    "class B:\n",
    "    def f(self):\n",
    "        pass\n",
    "    \n",
    "class C(B):\n",
    "    pass\n",
    "\n",
    "def check(obj):#obj라고 써놓기는 했는데 클래스가 들어옴.\n",
    "    print obj, '=>',\n",
    "    if issubclass(obj, A):\n",
    "        print 'A',\n",
    "    if issubclass(obj, B):\n",
    "        print 'B',\n",
    "    if issubclass(obj, C):\n",
    "        print 'C',\n",
    "    print\n",
    "    \n",
    "check(A)\n",
    "check(B)\n",
    "check(C)\n",
    "print#원래 issubclass는 둘 다 클래스가들어오게끔 해주려 했던 거임.\n",
    "print issubclass(B,C)#B가 C의 서브클래스니? NO!\n",
    "print issubclass(C,B)#C가 B의 서브클래스니? YES!\n",
    "\n",
    "b=B()\n",
    "print issubclass(b,C)#에러!!!!!!!\n",
    "#객체가 들어오면 안됨"
   ]
  },
  {
   "cell_type": "code",
   "execution_count": null,
   "metadata": {
    "collapsed": true
   },
   "outputs": [],
   "source": []
  }
 ],
 "metadata": {
  "kernelspec": {
   "display_name": "Python 2",
   "language": "python",
   "name": "python2"
  },
  "language_info": {
   "codemirror_mode": {
    "name": "ipython",
    "version": 2
   },
   "file_extension": ".py",
   "mimetype": "text/x-python",
   "name": "python",
   "nbconvert_exporter": "python",
   "pygments_lexer": "ipython2",
   "version": "2.7.9"
  }
 },
 "nbformat": 4,
 "nbformat_minor": 0
}
