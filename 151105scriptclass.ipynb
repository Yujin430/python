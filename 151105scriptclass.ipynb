{
 "cells": [
  {
   "cell_type": "markdown",
   "metadata": {},
   "source": [
    "Assignment4에 대한 설명!\n",
    "\n",
    "그거 마지막 문제 짱어려운거. . . . .\n",
    "pickle모듈 활용하여 사전객체를 파일로 저장 www.cnn.com.words.frequency는 사전 객체를 그대로 파일에 저장\n",
    "디렉토리에 만들어지는 파일은 총 10개->5개는 에이치티엠엘소스. 5개는 빈도임 words.frequency파일들을 객체로 다시 로드하여 다 통합해서 전체 5개 사이트 통틀어서 가장 많이 출현한 단어를 3개뽑아 제시되야함......\n",
    "기존에 있는 사전객체를 많이 출현한거를 뽑는데 이용하면 안돼고 파일에서 로드해와서 사용해야함......\n",
    "\n",
    "nbviewer를 좀 활용하기!!!!!! 이게 빨라섷ㅎㅎㅎㅎㅎㅎ"
   ]
  },
  {
   "cell_type": "code",
   "execution_count": 1,
   "metadata": {
    "collapsed": false
   },
   "outputs": [
    {
     "name": "stdout",
     "output_type": "stream",
     "text": [
      "200\n"
     ]
    }
   ],
   "source": [
    "def f1(b):#레퍼런스가 콜바이밸류가 되는구나만 생각하면 됨.....\n",
    "    b = 100\n",
    "a = 200\n",
    "f1(a)\n",
    "print a"
   ]
  },
  {
   "cell_type": "code",
   "execution_count": 5,
   "metadata": {
    "collapsed": false
   },
   "outputs": [
    {
     "name": "stdout",
     "output_type": "stream",
     "text": [
      "aaadef\n",
      "def\n"
     ]
    }
   ],
   "source": [
    "def f2(b):\n",
    "    c='aaa'+b#읽기 전용으로 보내줘서 활용하는 방식\n",
    "    return c\n",
    "\n",
    "a = \"def\"\n",
    "f2(a)\n",
    "print f2(a)\n",
    "print a\n",
    "\n",
    "#튜플도 읽기아니면 별 의미 x\n",
    "#but, list나 사전은 의미 있음"
   ]
  },
  {
   "cell_type": "code",
   "execution_count": 6,
   "metadata": {
    "collapsed": true
   },
   "outputs": [],
   "source": [
    "#아무것도 반환되지 않으면 None객체가 반환됨"
   ]
  },
  {
   "cell_type": "code",
   "execution_count": 7,
   "metadata": {
    "collapsed": false
   },
   "outputs": [
    {
     "name": "stdout",
     "output_type": "stream",
     "text": [
      "[6, 5, 7, 5]\n",
      "[6, 5, 7, 5]\n"
     ]
    }
   ],
   "source": [
    "def length_list(l):\n",
    "    res = []\n",
    "    for el in l:\n",
    "        res.append(len(el))\n",
    "    return res\n",
    "\n",
    "l = ['python', 'pyson', 'pythong', 'pydon']\n",
    "print length_list(l)\n",
    "\n",
    "#아래는 리스트 내포를 사용한 것\n",
    "l = ['python', 'pyson', 'pythong', 'pydon']\n",
    "print [len(s) for s in l]"
   ]
  },
  {
   "cell_type": "code",
   "execution_count": 8,
   "metadata": {
    "collapsed": false
   },
   "outputs": [
    {
     "name": "stdout",
     "output_type": "stream",
     "text": [
      "2\n",
      "12\n"
     ]
    }
   ],
   "source": [
    "#함수 선언과 호출을 나눠서 생각하기.\n",
    "def incr(a, step=1):\n",
    "    return a + step\n",
    "\n",
    "b = 1\n",
    "b = incr(b)     #1 증가\n",
    "print b\n",
    "\n",
    "b = incr(b, 10) #10 증가\n",
    "print b"
   ]
  },
  {
   "cell_type": "code",
   "execution_count": 9,
   "metadata": {
    "collapsed": false
   },
   "outputs": [
    {
     "ename": "SyntaxError",
     "evalue": "non-default argument follows default argument (<ipython-input-9-f9af8a313b5d>, line 2)",
     "output_type": "error",
     "traceback": [
      "\u001b[1;36m  File \u001b[1;32m\"<ipython-input-9-f9af8a313b5d>\"\u001b[1;36m, line \u001b[1;32m2\u001b[0m\n\u001b[1;33m    def incr(step=1, a):\u001b[0m\n\u001b[1;31mSyntaxError\u001b[0m\u001b[1;31m:\u001b[0m non-default argument follows default argument\n"
     ]
    }
   ],
   "source": [
    "#함수 정의할때!!!!!!(호출 할때 아님!!!!!!)\n",
    "def incr(step=1, a):\n",
    "    return a + step\n",
    "#변수는 맨 앞에 쓸 수 없엉ㅇ...."
   ]
  },
  {
   "cell_type": "code",
   "execution_count": 10,
   "metadata": {
    "collapsed": false
   },
   "outputs": [
    {
     "name": "stdout",
     "output_type": "stream",
     "text": [
      "height string height string height string \n",
      "200\n"
     ]
    }
   ],
   "source": [
    "#함수 호출할 때의 내용.\n",
    "def area(height, width):\n",
    "    return height * width\n",
    "\n",
    "#순서가 아닌 이름으로 값이 전달\n",
    "a = area(height='height string ', width=3)\n",
    "print a\n",
    "\n",
    "b = area(width=20, height=10)\n",
    "print b"
   ]
  },
  {
   "cell_type": "code",
   "execution_count": 11,
   "metadata": {
    "collapsed": false
   },
   "outputs": [
    {
     "name": "stdout",
     "output_type": "stream",
     "text": [
      "100\n"
     ]
    }
   ],
   "source": [
    "print area(20, width=5)"
   ]
  },
  {
   "cell_type": "code",
   "execution_count": 15,
   "metadata": {
    "collapsed": false
   },
   "outputs": [
    {
     "ename": "SyntaxError",
     "evalue": "non-keyword arg after keyword arg (<ipython-input-15-49c48ef21336>, line 8)",
     "output_type": "error",
     "traceback": [
      "\u001b[1;36m  File \u001b[1;32m\"<ipython-input-15-49c48ef21336>\"\u001b[1;36m, line \u001b[1;32m8\u001b[0m\n\u001b[1;33m    print incr(10, 2, step3=20, 20)#키워드 아그가 step3=sjs\u001b[0m\n\u001b[1;31mSyntaxError\u001b[0m\u001b[1;31m:\u001b[0m non-keyword arg after keyword arg\n"
     ]
    }
   ],
   "source": [
    "def incr(a, step=1, step2=10, step3=100):\n",
    "    return a + step + step2 + step3\n",
    "\n",
    "print incr(10, 2, step2=100)\n",
    "print incr(10, 2)\n",
    "print incr(10, 2, 20)\n",
    "print incr(10, 2, step3=20)\n",
    "print incr(10, 2, step3=20, 20)#키워드 아그가 step3=sjs.\n",
    "#논키워드 에러가 20, 키워드에러가 step3=2---_"
   ]
  },
  {
   "cell_type": "code",
   "execution_count": 16,
   "metadata": {
    "collapsed": false
   },
   "outputs": [
    {
     "name": "stdout",
     "output_type": "stream",
     "text": [
      "1 ()\n",
      "2 (3,)\n",
      "2 (3, 4, 5, 6)\n"
     ]
    }
   ],
   "source": [
    "def varg(a, *arg):\n",
    "    print a, arg\n",
    "\n",
    "varg(1)\n",
    "varg(2,3)\n",
    "varg(2,3,4,5,6)"
   ]
  },
  {
   "cell_type": "code",
   "execution_count": 17,
   "metadata": {
    "collapsed": false
   },
   "outputs": [
    {
     "name": "stdout",
     "output_type": "stream",
     "text": [
      "I've spent 6 days and 5 night to do this\n"
     ]
    }
   ],
   "source": [
    "def printf(format, *args):\n",
    "    print format % args\n",
    "\n",
    "printf(\"I've spent %d days and %d night to do this\", 6, 5)"
   ]
  },
  {
   "cell_type": "code",
   "execution_count": 35,
   "metadata": {
    "collapsed": false
   },
   "outputs": [
    {
     "name": "stdout",
     "output_type": "stream",
     "text": [
      "1 2 3\n"
     ]
    }
   ],
   "source": [
    "def h(a, b, c):\n",
    "    print a,b,c\n",
    "    \n",
    "args = (1, 2, 3)\n",
    "q,w,e=args\n",
    "h(*args)#함수 호출할 때의 상황.\n",
    "#만약 별표가 없으면 에러 "
   ]
  },
  {
   "cell_type": "code",
   "execution_count": 34,
   "metadata": {
    "collapsed": false
   },
   "outputs": [
    {
     "name": "stdout",
     "output_type": "stream",
     "text": [
      "1 1 2\n"
     ]
    }
   ],
   "source": [
    "def h(a, b=1, c=2):\n",
    "    print a,b,c\n",
    "    \n",
    "args = (1, )\n",
    "h(*args)#함수 호출할 때의 상황.\n",
    "#만약 별표가 없으면 에러 "
   ]
  },
  {
   "cell_type": "code",
   "execution_count": 28,
   "metadata": {
    "collapsed": false
   },
   "outputs": [
    {
     "name": "stdout",
     "output_type": "stream",
     "text": [
      "1 2 3\n"
     ]
    }
   ],
   "source": [
    "def k(a,b=1,c=2):\n",
    "    print a,b,c\n",
    "args=[1,2,3]\n",
    "#i,j,k=args\n",
    "k(*args)#이러면 오류 안남\n",
    "i,j,o=args"
   ]
  },
  {
   "cell_type": "code",
   "execution_count": 29,
   "metadata": {
    "collapsed": false
   },
   "outputs": [
    {
     "ename": "TypeError",
     "evalue": "h() got an unexpected keyword argument 'd'",
     "output_type": "error",
     "traceback": [
      "\u001b[1;31m---------------------------------------------------------------------------\u001b[0m",
      "\u001b[1;31mTypeError\u001b[0m                                 Traceback (most recent call last)",
      "\u001b[1;32m<ipython-input-29-47a9e52664e9>\u001b[0m in \u001b[0;36m<module>\u001b[1;34m()\u001b[0m\n\u001b[0;32m      1\u001b[0m \u001b[0mdargs\u001b[0m \u001b[1;33m=\u001b[0m \u001b[1;33m{\u001b[0m\u001b[1;34m'a'\u001b[0m\u001b[1;33m:\u001b[0m\u001b[1;36m1\u001b[0m\u001b[1;33m,\u001b[0m \u001b[1;34m'b'\u001b[0m\u001b[1;33m:\u001b[0m\u001b[1;36m2\u001b[0m\u001b[1;33m,\u001b[0m \u001b[1;34m'd'\u001b[0m\u001b[1;33m:\u001b[0m\u001b[1;36m3\u001b[0m\u001b[1;33m}\u001b[0m\u001b[1;33m\u001b[0m\u001b[0m\n\u001b[1;32m----> 2\u001b[1;33m \u001b[0mh\u001b[0m\u001b[1;33m(\u001b[0m\u001b[1;33m**\u001b[0m\u001b[0mdargs\u001b[0m\u001b[1;33m)\u001b[0m\u001b[1;33m\u001b[0m\u001b[0m\n\u001b[0m",
      "\u001b[1;31mTypeError\u001b[0m: h() got an unexpected keyword argument 'd'"
     ]
    }
   ],
   "source": [
    "dargs = {'a':1, 'b':2, 'd':3}\n",
    "h(**dargs)#위에 h에 d라는 인수가 없어서."
   ]
  },
  {
   "cell_type": "code",
   "execution_count": 27,
   "metadata": {
    "collapsed": false
   },
   "outputs": [
    {
     "name": "stdout",
     "output_type": "stream",
     "text": [
      "1 2 3\n"
     ]
    }
   ],
   "source": [
    "dargs = {'a':1, 'b':2, 'c':3}\n",
    "h(a=1,b=2,c=3)"
   ]
  },
  {
   "cell_type": "markdown",
   "metadata": {},
   "source": [
    "##람다함수 "
   ]
  },
  {
   "cell_type": "code",
   "execution_count": 36,
   "metadata": {
    "collapsed": false
   },
   "outputs": [
    {
     "name": "stdout",
     "output_type": "stream",
     "text": [
      "2\n",
      "3\n"
     ]
    }
   ],
   "source": [
    "#함수 몸체에는 식(expression)만이 올 수 있다.\n",
    "#일회성으로 활용할 함수를 정의할 때 활용\n",
    "f = lambda x: x + 1#많이 활용되는 코드가 아님...걍보여주는거얌\n",
    "print f(1)\n",
    "#변수여러개쓸수있으\n",
    "g = lambda x, y: x + y\n",
    "print g(1, 2)\n",
    "#기본인수도 가질 수 있으~~~~~~\n",
    "#가변인수도 넣을 수 있으~~~~~~"
   ]
  },
  {
   "cell_type": "code",
   "execution_count": 37,
   "metadata": {
    "collapsed": false,
    "scrolled": true
   },
   "outputs": [
    {
     "name": "stdout",
     "output_type": "stream",
     "text": [
      "[60, 44, 30, 18, 8, 0, -6, -10, -12, -12, -10, -6, 0, 8, 18, 30, 44, 60, 78, 98]\n",
      "[-1000, -729, -512, -343, -216, -125, -64, -27, -8, -1, 0, 1, 8, 27, 64, 125, 216, 343, 512, 729]\n"
     ]
    }
   ],
   "source": [
    "def g(func):\n",
    "    return [func(x) for x in range(-10, 10)]\n",
    "\n",
    "#이안에들어가는함수들은다시쓸필요없어서걍이런식으로넣어줌(따로만들지않고)\n",
    "print g(lambda x: x*x + 3*x - 10)\n",
    "print g(lambda x: x*x*x)"
   ]
  },
  {
   "cell_type": "markdown",
   "metadata": {},
   "source": [
    "###과제할때 아래 코드 활용"
   ]
  },
  {
   "cell_type": "code",
   "execution_count": 38,
   "metadata": {
    "collapsed": false
   },
   "outputs": [
    {
     "name": "stdout",
     "output_type": "stream",
     "text": [
      "0. add\n",
      "1. sub\n",
      "2. mul\n",
      "3. div\n",
      "4. quit\n",
      "Select menu:4\n"
     ]
    }
   ],
   "source": [
    "#과제 할때 이거를 활용해야됨\n",
    "\n",
    "# 더하기, 빼기, 곱하기, 나누기에 해당하는 람다 함수 리스트 정의\n",
    "func = [lambda x, y: x + y, lambda x, y: x - y, \\\n",
    "        lambda x, y: x * y, lambda x, y: x / y]\n",
    "#리스트의 각 원소가 함수!!!!!!\n",
    "\n",
    "def menu():\n",
    "    print \"0. add\"\n",
    "    print \"1. sub\"\n",
    "    print \"2. mul\"\n",
    "    print \"3. div\"\n",
    "    print \"4. quit\"\n",
    "    return input('Select menu:')\n",
    "\n",
    "while 1:\n",
    "    sel = menu()                     \n",
    "    if sel < 0 or sel > len(func):   \n",
    "        continue\n",
    "    if sel == len(func):             \n",
    "        break\n",
    "    x = input('First operand:')      \n",
    "    y = input('Second operand:')     \n",
    "    print 'Result =', func[sel](x,y) "
   ]
  },
  {
   "cell_type": "markdown",
   "metadata": {},
   "source": [
    "map, filter, reduce 내장 함수\n",
    "\n",
    "map, reduce는 빅데이터 처리에 많이 쓰이는 함수임"
   ]
  },
  {
   "cell_type": "code",
   "execution_count": 39,
   "metadata": {
    "collapsed": false
   },
   "outputs": [
    {
     "name": "stdout",
     "output_type": "stream",
     "text": [
      "[1, 3, 5]\n",
      "[2, 4, 6]\n"
     ]
    }
   ],
   "source": [
    "print filter(lambda x: x % 2, [1, 2, 3, 4, 5, 6])\n",
    "print filter(lambda x: x % 2 - 1, [1, 2, 3, 4, 5, 6])\n",
    "#filter에서는 참거짓이 나오기는 해야하지만 무조건 \n",
    "#비교연산자를 쓸 필요는 없음.\n",
    "\n",
    "\n",
    "print filter(lambda x: x > 2, [1, 2, 3, 34])\n",
    "print filter(lambda x: x > 2, (1, 2, 3, 34))\n",
    "print filter(lambda x: x < 'a', 'abcABCdefDEF')\n",
    "#문자열도 문자를 담고 있는 컬렉션... 비교는 아스키코드로"
   ]
  },
  {
   "cell_type": "code",
   "execution_count": 41,
   "metadata": {
    "collapsed": false
   },
   "outputs": [
    {
     "name": "stdout",
     "output_type": "stream",
     "text": [
      "15\n",
      "115\n"
     ]
    }
   ],
   "source": [
    "print reduce(lambda x, y :x+y,[1,2,3,4,5])\n",
    "#두번째 인자에 콜렉션의 인자가 하나씩 받아짐\n",
    "#처음 인자에는 컬렉션 타입의 가장 작은거가 들어감 여기선 정수니까 0 들어감\n",
    "#첫 연산의 결과를 다시 x에 넣어주고 y에는 두번째 원소를 넣어줌.\n",
    "\n",
    "\n",
    "print reduce(lambda x, y: x + y, [1, 2, 3, 4, 5], 100)\n",
    "#마지막에 들어가게 되는 100은 x의 초기값으로 사용되게됨"
   ]
  },
  {
   "cell_type": "code",
   "execution_count": 42,
   "metadata": {
    "collapsed": false
   },
   "outputs": [
    {
     "name": "stdout",
     "output_type": "stream",
     "text": [
      "edcba\n"
     ]
    }
   ],
   "source": [
    "print reduce(lambda x, y: y + x, 'abcde')\n",
    "#초기값 공백문자!!!!!!"
   ]
  },
  {
   "cell_type": "markdown",
   "metadata": {},
   "source": [
    "##수업보충자료 얘도셤범위 ㅇ"
   ]
  },
  {
   "cell_type": "code",
   "execution_count": 44,
   "metadata": {
    "collapsed": false
   },
   "outputs": [
    {
     "ename": "SyntaxError",
     "evalue": "non-keyword arg after keyword arg (<ipython-input-44-84575ecdcc9a>, line 15)",
     "output_type": "error",
     "traceback": [
      "\u001b[1;36m  File \u001b[1;32m\"<ipython-input-44-84575ecdcc9a>\"\u001b[1;36m, line \u001b[1;32m15\u001b[0m\n\u001b[1;33m    print f(width=10, height=5, 10, 3)\u001b[0m\n\u001b[1;31mSyntaxError\u001b[0m\u001b[1;31m:\u001b[0m non-keyword arg after keyword arg\n"
     ]
    }
   ],
   "source": [
    "def f(width, height, **kw):\n",
    "    #별표 두개 쓰는거 함수 호출에서만 봤었는데 함수 정의에서도 쓸 수 있다.\n",
    "    #가변인수랑 쪼금 비슷.\n",
    "    #가변인수랑 비슷한데 얘는 사전으로 들어옴\n",
    "    print width, height\n",
    "    print kw#사전으로 출력됨.\n",
    "    value = 0\n",
    "    for key in kw:\n",
    "        value += kw[key]\n",
    "    return value\n",
    "\n",
    "print f(width=10, height=5, depth=10, diamension=3)\n",
    "#depth랑 dimension은 kw에 사전으로 들어감.\n",
    "\n",
    "print f(width=10, height=5, 10, 3)\n",
    "#이거는 에러가 뜸 왜냐면 키워드 인수가 앞에 와서... 함수호출 전부터 에러\n",
    "#올라가서 함수 호출 하기 전부터 에러 뜨는거야!!!!! 일반인수가 뒤에와서\n",
    "\n"
   ]
  },
  {
   "cell_type": "code",
   "execution_count": 45,
   "metadata": {
    "collapsed": false
   },
   "outputs": [
    {
     "ename": "TypeError",
     "evalue": "f() takes exactly 2 arguments (4 given)",
     "output_type": "error",
     "traceback": [
      "\u001b[1;31m---------------------------------------------------------------------------\u001b[0m",
      "\u001b[1;31mTypeError\u001b[0m                                 Traceback (most recent call last)",
      "\u001b[1;32m<ipython-input-45-1ec965ae5a22>\u001b[0m in \u001b[0;36m<module>\u001b[1;34m()\u001b[0m\n\u001b[0;32m     10\u001b[0m     \u001b[1;32mreturn\u001b[0m \u001b[0mvalue\u001b[0m\u001b[1;33m\u001b[0m\u001b[0m\n\u001b[0;32m     11\u001b[0m \u001b[1;33m\u001b[0m\u001b[0m\n\u001b[1;32m---> 12\u001b[1;33m \u001b[1;32mprint\u001b[0m \u001b[0mf\u001b[0m\u001b[1;33m(\u001b[0m\u001b[1;36m10\u001b[0m\u001b[1;33m,\u001b[0m \u001b[1;36m5\u001b[0m\u001b[1;33m,\u001b[0m \u001b[1;36m10\u001b[0m\u001b[1;33m,\u001b[0m \u001b[1;36m3\u001b[0m\u001b[1;33m)\u001b[0m\u001b[1;33m\u001b[0m\u001b[0m\n\u001b[0m",
      "\u001b[1;31mTypeError\u001b[0m: f() takes exactly 2 arguments (4 given)"
     ]
    }
   ],
   "source": [
    "def f(width, height, **kw):\n",
    "    #별표 두개 쓰는거 함수 호출에서만 봤었는데 함수 정의에서도 쓸 수 있다.\n",
    "    #가변인수랑 쪼금 비슷.\n",
    "    #가변인수랑 비슷한데 얘는 사전으로 들어옴\n",
    "    print width, height\n",
    "    print kw#사전으로 출력됨.\n",
    "    value = 0\n",
    "    for key in kw:\n",
    "        value += kw[key]\n",
    "    return value\n",
    "\n",
    "print f(10, 5, 10, 3)\n",
    "#얘는 함수 호출하는 쪽에서는 문제가 없는데, f라는 함수는 2개의 \n",
    "#arguement만 받는데...4개줬다. kw는 기본 인수로 안본다.\n"
   ]
  },
  {
   "cell_type": "code",
   "execution_count": 46,
   "metadata": {
    "collapsed": false
   },
   "outputs": [
    {
     "name": "stdout",
     "output_type": "stream",
     "text": [
      "10 5\n",
      "{'k': 10, 'd': 3}\n",
      "13\n"
     ]
    }
   ],
   "source": [
    "def f(width, height, **kw):\n",
    "    #별표 두개 쓰는거 함수 호출에서만 봤었는데 함수 정의에서도 쓸 수 있다.\n",
    "    #가변인수랑 쪼금 비슷.\n",
    "    #가변인수랑 비슷한데 얘는 사전으로 들어옴\n",
    "    print width, height\n",
    "    print kw#사전으로 출력됨.\n",
    "    value = 0\n",
    "    for key in kw:\n",
    "        value += kw[key]\n",
    "    return value\n",
    "print f(10, 5, k=10, d=3)#얘는 됨"
   ]
  },
  {
   "cell_type": "code",
   "execution_count": 47,
   "metadata": {
    "collapsed": false
   },
   "outputs": [
    {
     "name": "stdout",
     "output_type": "stream",
     "text": [
      "1 2\n",
      "(4, 5)\n",
      "{'c': 6, 'd': 7}\n"
     ]
    }
   ],
   "source": [
    "#함수 선언시 인수 선언 나열 방법\n",
    "#일반인수->키워드인수->가변인수->예상치못하는키워드인수!!!!!!기억해두기!\n",
    "\n",
    "def g(a, b, k = 1, *args, **kw):\n",
    "    print a, b\n",
    "    print args\n",
    "    print kw\n",
    "\n",
    "g(1, 2, 3, 4, 5, c=6, d=7)"
   ]
  },
  {
   "cell_type": "code",
   "execution_count": 48,
   "metadata": {
    "collapsed": false
   },
   "outputs": [
    {
     "name": "stdout",
     "output_type": "stream",
     "text": [
      "1 2 3\n",
      "1 2 3\n",
      "1 2 3\n"
     ]
    }
   ],
   "source": [
    "def h(a, b, c):\n",
    "    print a, b, c\n",
    "    \n",
    "args = (1, 2, 3)\n",
    "h(*args)\n",
    "\n",
    "dargs = {'a':1, 'b':2, 'c':3}\n",
    "h(**dargs)\n",
    "\n",
    "args = (1,2)\n",
    "dargs = {'c':3}\n",
    "h(*args, **dargs)\n",
    "#이건 함수 호출할때의 문법이고 위블럭은 선언이니까 다른문법임 주의\n",
    "#튜플을까서 a,b를 대입해주고 dargs는 까서c에넣어줌 c랑 키값 같아야댐."
   ]
  },
  {
   "cell_type": "code",
   "execution_count": 52,
   "metadata": {
    "collapsed": false
   },
   "outputs": [
    {
     "name": "stdout",
     "output_type": "stream",
     "text": [
      "<type 'function'>\n",
      "1\n"
     ]
    },
    {
     "ename": "TypeError",
     "evalue": "<lambda>() takes no arguments (1 given)",
     "output_type": "error",
     "traceback": [
      "\u001b[1;31m---------------------------------------------------------------------------\u001b[0m",
      "\u001b[1;31mTypeError\u001b[0m                                 Traceback (most recent call last)",
      "\u001b[1;32m<ipython-input-52-0236f8e23ca8>\u001b[0m in \u001b[0;36m<module>\u001b[1;34m()\u001b[0m\n\u001b[0;32m      2\u001b[0m \u001b[1;32mprint\u001b[0m \u001b[0mtype\u001b[0m\u001b[1;33m(\u001b[0m\u001b[0mf\u001b[0m\u001b[1;33m)\u001b[0m\u001b[1;33m\u001b[0m\u001b[0m\n\u001b[0;32m      3\u001b[0m \u001b[1;32mprint\u001b[0m \u001b[0mf\u001b[0m\u001b[1;33m(\u001b[0m\u001b[1;33m)\u001b[0m\u001b[1;33m\u001b[0m\u001b[0m\n\u001b[1;32m----> 4\u001b[1;33m \u001b[1;32mprint\u001b[0m \u001b[0mf\u001b[0m\u001b[1;33m(\u001b[0m\u001b[1;36m3\u001b[0m\u001b[1;33m)\u001b[0m\u001b[1;33m\u001b[0m\u001b[0m\n\u001b[0m",
      "\u001b[1;31mTypeError\u001b[0m: <lambda>() takes no arguments (1 given)"
     ]
    }
   ],
   "source": [
    "f=lambda:1#인자가 없는 람다함수. 바디에는 익스프레션만 올 수 있음\n",
    "print type(f)\n",
    "print f()\n",
    "print f(3)\n",
    "#인자를 안받는 함수인데 인자를 줘서 에러가 나옴."
   ]
  },
  {
   "cell_type": "code",
   "execution_count": 54,
   "metadata": {
    "collapsed": false
   },
   "outputs": [
    {
     "name": "stdout",
     "output_type": "stream",
     "text": [
      "{'a': 5, 'b': 6}\n"
     ]
    }
   ],
   "source": [
    "kwords = lambda x, y=1, *args, **kw: kw\n",
    "print kwords(1, 2, 3, 4, a=5, b=6)\n",
    "#1은 x 2는 y 3,4는 args, 나머지 키워드들은 kw에 들어가게 됨."
   ]
  },
  {
   "cell_type": "code",
   "execution_count": 57,
   "metadata": {
    "collapsed": false
   },
   "outputs": [
    {
     "name": "stdout",
     "output_type": "stream",
     "text": [
      "[60, 44, 30, 18, 8, 0, -6, -10, -12, -12, -10, -6, 0, 8, 18, 30, 44, 60, 78, 98]\n",
      "[-1000, -729, -512, -343, -216, -125, -64, -27, -8, -1, 0, 1, 8, 27, 64, 125, 216, 343, 512, 729]\n",
      "[60, 44, 30, 18, 8, 0, -6, -10, -12, -12, -10, -6, 0, 8, 18, 30, 44, 60, 78, 98]\n",
      "[-1000, -729, -512, -343, -216, -125, -64, -27, -8, -1, 0, 1, 8, 27, 64, 125, 216, 343, 512, 729]\n",
      "[60, 44, 30, 18, 8, 0, -6, -10, -12, -12, -10, -6, 0, 8, 18, 30, 44, 60, 78, 98]\n",
      "[-1000, -729, -512, -343, -216, -125, -64, -27, -8, -1, 0, 1, 8, 27, 64, 125, 216, 343, 512, 729]\n"
     ]
    }
   ],
   "source": [
    "def g(func):\n",
    "    return [func(x) for x in range(-10, 10)]\n",
    "\n",
    "print g(lambda x: x*x + 3*x - 10)\n",
    "print g(lambda x: x*x*x)\n",
    "\n",
    "#더줄이기 (g함수도 만들지 않았음.)\n",
    "print [(lambda x: x*x + 3*x - 10)(x) for x in range(-10, 10)]\n",
    "#여기서 람다함수를 괄호로 안묶어주면 에러는 아니고 출력이 되긴함\n",
    "#근데 람다함수가 들어가버림......\n",
    "#함수 콜, 리스트 내포, 람다함수 이렇게 세가지가 쓰였다고 보면 됨.\n",
    "print [(lambda x: x*x*x)(x) for x in range(-10, 10)]\n",
    "\n",
    "#더더줄이기 얘가 젤 나은 코드!!!!!!\n",
    "print map(lambda x: x*x + 3*x - 10, range(-10, 10))\n",
    "print map(lambda x: x*x*x, range(-10, 10))\n",
    "#얘는 매핑을 시켜준거얌. 첫 인자에 함수 두번째 인자에 컬렉션."
   ]
  },
  {
   "cell_type": "code",
   "execution_count": 58,
   "metadata": {
    "collapsed": false
   },
   "outputs": [
    {
     "name": "stdout",
     "output_type": "stream",
     "text": [
      "[7, 9, 11, 13, 15]\n",
      "[12, 15, 18]\n"
     ]
    }
   ],
   "source": [
    "#map에 컬렉션을 두개 이상 할당할 수 있음.대신 시퀀스 자료형이 n개 면,\n",
    "#function의 인자도 n개 여야 함.\n",
    "Y1 = map(lambda x, y: x + y, [1, 2, 3, 4, 5], [6, 7, 8, 9, 10])\n",
    "Y2 = map(lambda x, y, z: x + y + z, [1, 2, 3], [4, 5, 6], [7, 8, 9])\n",
    "print Y1\n",
    "print Y2\n",
    "#이ㅣ거잘모르겠는뎋"
   ]
  },
  {
   "cell_type": "code",
   "execution_count": 61,
   "metadata": {
    "collapsed": false
   },
   "outputs": [
    {
     "name": "stdout",
     "output_type": "stream",
     "text": [
      "[('a', 1), ('b', 2), ('c', 3), ('d', 4)]\n",
      "[('a', 1), ('b', 2), (None, 3), (None, 4)]\n",
      "[('a', 1), ('b', 2)]\n"
     ]
    }
   ],
   "source": [
    "a = ['a', 'b', 'c', 'd']\n",
    "b = [1, 2, 3, 4]\n",
    "print map(None, a, b)\n",
    "\n",
    "\n",
    "a = ['a', 'b']\n",
    "b = [1, 2, 3, 4]\n",
    "print map(None, a, b)\n",
    "#두시퀀스자료형의 원소의 개수가 다르면 부족한 원소에는 None을 할당\n",
    "#얘랑 비슷한 역할을 하는게 zip함수인데 zip은 부족하면 두개만 딱 나오고 말지\n",
    "a = ['a', 'b']\n",
    "b = [1, 2, 3, 4]\n",
    "print zip(a, b)"
   ]
  },
  {
   "cell_type": "code",
   "execution_count": 63,
   "metadata": {
    "collapsed": false
   },
   "outputs": [
    {
     "name": "stdout",
     "output_type": "stream",
     "text": [
      "['high', 'level', 'built-in', 'function', 10]\n"
     ]
    }
   ],
   "source": [
    "L = ['high', False, 'level', '', 'built-in',\\\n",
    "     '', 'function', 0, 10]\n",
    "L = filter(None, L) #false로 평가될 수 있는건 전부 사라짐.\n",
    "print L"
   ]
  },
  {
   "cell_type": "code",
   "execution_count": null,
   "metadata": {
    "collapsed": true
   },
   "outputs": [],
   "source": []
  }
 ],
 "metadata": {
  "kernelspec": {
   "display_name": "Python 2",
   "language": "python",
   "name": "python2"
  },
  "language_info": {
   "codemirror_mode": {
    "name": "ipython",
    "version": 2
   },
   "file_extension": ".py",
   "mimetype": "text/x-python",
   "name": "python",
   "nbconvert_exporter": "python",
   "pygments_lexer": "ipython2",
   "version": "2.7.9"
  }
 },
 "nbformat": 4,
 "nbformat_minor": 0
}
