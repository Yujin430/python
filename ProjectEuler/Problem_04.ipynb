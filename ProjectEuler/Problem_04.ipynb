{
 "cells": [
  {
   "cell_type": "code",
   "execution_count": 16,
   "metadata": {
    "collapsed": false
   },
   "outputs": [
    {
     "name": "stdout",
     "output_type": "stream",
     "text": [
      "906609\n"
     ]
    }
   ],
   "source": [
    "number=0\n",
    "for i in range(100,1000):\n",
    "    for j in range(100,1000):\n",
    "        temp=i*j\n",
    "        temp=str(temp)\n",
    "        if(len(temp)==5):\n",
    "            if(temp[0]==temp[4] and temp[1]==temp[3]):\n",
    "                temp=int(temp)\n",
    "                if(temp>number):\n",
    "                    number=temp\n",
    "                    \n",
    "        else:\n",
    "            if(temp[0]==temp[5] and temp[1]==temp[4] and temp[2]==temp[3]):\n",
    "                temp=int(temp)\n",
    "                if(temp>number):\n",
    "                    number=temp\n",
    "print number"
   ]
  },
  {
   "cell_type": "code",
   "execution_count": null,
   "metadata": {
    "collapsed": true
   },
   "outputs": [],
   "source": []
  }
 ],
 "metadata": {
  "kernelspec": {
   "display_name": "Python 2",
   "language": "python",
   "name": "python2"
  },
  "language_info": {
   "codemirror_mode": {
    "name": "ipython",
    "version": 2
   },
   "file_extension": ".py",
   "mimetype": "text/x-python",
   "name": "python",
   "nbconvert_exporter": "python",
   "pygments_lexer": "ipython2",
   "version": "2.7.9"
  }
 },
 "nbformat": 4,
 "nbformat_minor": 0
}
