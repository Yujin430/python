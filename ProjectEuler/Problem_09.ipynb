{
 "cells": [
  {
   "cell_type": "code",
   "execution_count": 15,
   "metadata": {
    "collapsed": false
   },
   "outputs": [
    {
     "name": "stdout",
     "output_type": "stream",
     "text": [
      "80778750 200 375 425 31875000\n"
     ]
    }
   ],
   "source": [
    "count = 0\n",
    "for i in range(1,334):\n",
    "    for j in range(i+1,1000):\n",
    "        for k in range(j+1,1000):\n",
    "            count+=1\n",
    "            if(i+j+k==1000):\n",
    "                if(((i*i)+(j*j))==(k*k)):\n",
    "                    print count, i, j, k, (i*j*k)\n",
    "                    break \n",
    "\n",
    "#되기는 하는데 이건 너무 느리다"
   ]
  },
  {
   "cell_type": "code",
   "execution_count": 17,
   "metadata": {
    "collapsed": false
   },
   "outputs": [
    {
     "name": "stdout",
     "output_type": "stream",
     "text": [
      "16166000 200 375 425 31875000\n"
     ]
    }
   ],
   "source": [
    "count = 0\n",
    "for i in range(1,334):\n",
    "    for j in range(i+1,499):\n",
    "        for k in range(j+1,500):\n",
    "            count+=1\n",
    "            if(i+j+k==1000):\n",
    "                if(((i*i)+(j*j))==(k*k)):\n",
    "                    print count, i, j, k, (i*j*k)\n",
    "                    break "
   ]
  },
  {
   "cell_type": "code",
   "execution_count": 21,
   "metadata": {
    "collapsed": false
   },
   "outputs": [
    {
     "name": "stdout",
     "output_type": "stream",
     "text": [
      "3652234 200 375 425 31875000\n"
     ]
    }
   ],
   "source": [
    "count = 0\n",
    "for i in range(334,0,-1):\n",
    "    for j in range(499,i+1,-1):\n",
    "        for k in range(500,j+1,-1):\n",
    "            count+=1\n",
    "            if(i+j+k==1000):\n",
    "                if(((i*i)+(j*j))==(k*k)):\n",
    "                    print count, i, j, k, (i*j*k)\n",
    "                    break "
   ]
  },
  {
   "cell_type": "code",
   "execution_count": 30,
   "metadata": {
    "collapsed": false
   },
   "outputs": [
    {
     "name": "stdout",
     "output_type": "stream",
     "text": [
      "7702 200 375 425 31875000\n",
      "31875000\n"
     ]
    }
   ],
   "source": [
    "def pita(n):\n",
    "    count = 0\n",
    "    for j in range(n/2-1,0,-1):\n",
    "        for k in range(n/2,j+1,-1):#삼각형의 성립조건\n",
    "            count+=1\n",
    "            i=n-j-k\n",
    "            if(i>j):\n",
    "                break\n",
    "            elif(((i*i)+(j*j))==(k*k)):\n",
    "                print count, i, j, k, (i*j*k)\n",
    "                return i*j*k\n",
    "print pita(1000)"
   ]
  },
  {
   "cell_type": "code",
   "execution_count": null,
   "metadata": {
    "collapsed": true
   },
   "outputs": [],
   "source": []
  }
 ],
 "metadata": {
  "kernelspec": {
   "display_name": "Python 2",
   "language": "python",
   "name": "python2"
  },
  "language_info": {
   "codemirror_mode": {
    "name": "ipython",
    "version": 2
   },
   "file_extension": ".py",
   "mimetype": "text/x-python",
   "name": "python",
   "nbconvert_exporter": "python",
   "pygments_lexer": "ipython2",
   "version": "2.7.9"
  }
 },
 "nbformat": 4,
 "nbformat_minor": 0
}
