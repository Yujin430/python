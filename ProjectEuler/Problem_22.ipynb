{
 "cells": [
  {
   "cell_type": "code",
   "execution_count": 26,
   "metadata": {
    "collapsed": false
   },
   "outputs": [
    {
     "name": "stdout",
     "output_type": "stream",
     "text": [
      "871198282\n"
     ]
    }
   ],
   "source": [
    "f=open(\"names.txt\",'r')\n",
    "s=f.read()\n",
    "l=[]\n",
    "s=s.replace(\"\\\"\",\"\")\n",
    "l=s.split(',')\n",
    "l.sort()\n",
    "i=1\n",
    "#ord -> 문자를 아스키 코드로 / chr -> 아스키코드를 문자로\n",
    "score=0\n",
    "for name in l:\n",
    "    sum=0\n",
    "    for j in range(0,len(name)):\n",
    "        sum+=(ord(name[j])-64)#A아스키코드 65->1로 만들면 64빼면 됨\n",
    "    score+=sum*i\n",
    "    i+=1\n",
    "print score\n",
    "f.close()"
   ]
  },
  {
   "cell_type": "code",
   "execution_count": null,
   "metadata": {
    "collapsed": true
   },
   "outputs": [],
   "source": []
  }
 ],
 "metadata": {
  "kernelspec": {
   "display_name": "Python 2",
   "language": "python",
   "name": "python2"
  },
  "language_info": {
   "codemirror_mode": {
    "name": "ipython",
    "version": 2
   },
   "file_extension": ".py",
   "mimetype": "text/x-python",
   "name": "python",
   "nbconvert_exporter": "python",
   "pygments_lexer": "ipython2",
   "version": "2.7.9"
  }
 },
 "nbformat": 4,
 "nbformat_minor": 0
}
