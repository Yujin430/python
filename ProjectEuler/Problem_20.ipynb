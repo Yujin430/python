{
 "cells": [
  {
   "cell_type": "markdown",
   "metadata": {},
   "source": [
    "n! 이라는 표기법은 n × (n − 1) × ... × 3 × 2 × 1을 뜻합니다.\n",
    "\n",
    "예를 들자면 10! = 10 × 9 × ... × 3 × 2 × 1 = 3628800 이 되는데,\n",
    "여기서 10!의 각 자리수를 더해 보면 3 + 6 + 2 + 8 + 8 + 0 + 0 = 27 입니다.\n",
    "\n",
    "100! 의 자리수를 모두 더하면 얼마입니까?"
   ]
  },
  {
   "cell_type": "code",
   "execution_count": 1,
   "metadata": {
    "collapsed": false,
    "scrolled": true
   },
   "outputs": [
    {
     "name": "stdout",
     "output_type": "stream",
     "text": [
      "648\n"
     ]
    }
   ],
   "source": [
    "NUM=100\n",
    "mul=1\n",
    "for i in range(1,NUM+1):\n",
    "    mul*=i\n",
    "mul_str=str(mul)\n",
    "SUM=0\n",
    "for i in mul_str:\n",
    "    temp=int(i)\n",
    "    SUM+=temp\n",
    "print SUM"
   ]
  },
  {
   "cell_type": "code",
   "execution_count": null,
   "metadata": {
    "collapsed": true
   },
   "outputs": [],
   "source": []
  }
 ],
 "metadata": {
  "kernelspec": {
   "display_name": "Python 2",
   "language": "python",
   "name": "python2"
  },
  "language_info": {
   "codemirror_mode": {
    "name": "ipython",
    "version": 2
   },
   "file_extension": ".py",
   "mimetype": "text/x-python",
   "name": "python",
   "nbconvert_exporter": "python",
   "pygments_lexer": "ipython2",
   "version": "2.7.9"
  }
 },
 "nbformat": 4,
 "nbformat_minor": 0
}
