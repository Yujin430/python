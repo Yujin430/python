{
 "cells": [
  {
   "cell_type": "code",
   "execution_count": 1,
   "metadata": {
    "collapsed": false
   },
   "outputs": [
    {
     "name": "stdout",
     "output_type": "stream",
     "text": [
      "232792560\n"
     ]
    }
   ],
   "source": [
    "NUM=20\n",
    "arr=[int]*NUM\n",
    "for i in range(0,NUM):\n",
    "    arr[i]=0\n",
    "for i in range(2,NUM):\n",
    "    temp=i\n",
    "    for j in range (2,i+1):     \n",
    "        count=0\n",
    "        while(temp%j==0):\n",
    "            temp/=j\n",
    "            count+=1\n",
    "            if(arr[j]<count):\n",
    "                arr[j]=count\n",
    "                #print i,j,arr[j],j**arr[j]\n",
    "                \n",
    "mul=1\n",
    "for i in range(2,NUM):\n",
    "    if(arr[i]!=0):\n",
    "        #print i,arr[i]\n",
    "        mul*=i**arr[i]\n",
    "print mul       \n",
    "        "
   ]
  },
  {
   "cell_type": "code",
   "execution_count": null,
   "metadata": {
    "collapsed": true
   },
   "outputs": [],
   "source": []
  }
 ],
 "metadata": {
  "kernelspec": {
   "display_name": "Python 2",
   "language": "python",
   "name": "python2"
  },
  "language_info": {
   "codemirror_mode": {
    "name": "ipython",
    "version": 2
   },
   "file_extension": ".py",
   "mimetype": "text/x-python",
   "name": "python",
   "nbconvert_exporter": "python",
   "pygments_lexer": "ipython2",
   "version": "2.7.9"
  }
 },
 "nbformat": 4,
 "nbformat_minor": 0
}
