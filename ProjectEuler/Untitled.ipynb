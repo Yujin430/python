{
 "cells": [
  {
   "cell_type": "code",
   "execution_count": 1,
   "metadata": {
    "collapsed": false
   },
   "outputs": [
    {
     "name": "stdout",
     "output_type": "stream",
     "text": [
      "SHINHWA\n"
     ]
    }
   ],
   "source": [
    "print \"SHINHWA\""
   ]
  },
  {
   "cell_type": "code",
   "execution_count": 2,
   "metadata": {
    "collapsed": false
   },
   "outputs": [
    {
     "name": "stdout",
     "output_type": "stream",
     "text": [
      "done\n",
      "142913828922\n"
     ]
    }
   ],
   "source": [
    "SIZE = 2000000\n",
    "arr = [int]*SIZE;\n",
    "for i in range (0, SIZE):\n",
    "      arr[i] = 0\n",
    "arr[0] = 1\n",
    "arr[1] = 1\n",
    "\n",
    "for i in range (2, SIZE):\n",
    "    j=2\n",
    "    while i*j<SIZE:\n",
    "        arr[i*j] = 1\n",
    "        j+=1\n",
    "    #for j in range (2, i*j<SIZE):\n",
    "        \n",
    "        \n",
    "sum=0\n",
    "print \"done\"\n",
    "for i in range (2, SIZE):\n",
    "    if (arr[i] == 0):\n",
    "        sum+=i\n",
    "        \n",
    "print sum"
   ]
  },
  {
   "cell_type": "code",
   "execution_count": null,
   "metadata": {
    "collapsed": true
   },
   "outputs": [],
   "source": []
  }
 ],
 "metadata": {
  "kernelspec": {
   "display_name": "Python 2",
   "language": "python",
   "name": "python2"
  },
  "language_info": {
   "codemirror_mode": {
    "name": "ipython",
    "version": 2
   },
   "file_extension": ".py",
   "mimetype": "text/x-python",
   "name": "python",
   "nbconvert_exporter": "python",
   "pygments_lexer": "ipython2",
   "version": "2.7.9"
  }
 },
 "nbformat": 4,
 "nbformat_minor": 0
}
