{
 "cells": [
  {
   "cell_type": "code",
   "execution_count": 3,
   "metadata": {
    "collapsed": false
   },
   "outputs": [
    {
     "name": "stdout",
     "output_type": "stream",
     "text": [
      "4179871\n"
     ]
    }
   ],
   "source": [
    "l=[]\n",
    "s=set()\n",
    "for i in range(3,28123):\n",
    "    temp=set()\n",
    "    test=1L\n",
    "    to=0\n",
    "    for j in range(2,i):\n",
    "        if(i%j==0):\n",
    "            if(to==j):\n",
    "                break\n",
    "            temp.add(j)\n",
    "            temp.add(i/j)\n",
    "            to=j\n",
    "    test+=sum(temp)\n",
    "    if(test>i):\n",
    "        l.append(i)\n",
    "for i in l:\n",
    "    for j in l:\n",
    "        if(i+j>28123):\n",
    "            break\n",
    "        s.add(i+j)\n",
    "sumnum=0L\n",
    "for i in range(28124):\n",
    "    sumnum+=i\n",
    "for i in s:\n",
    "    sumnum-=i\n",
    "print sumnum"
   ]
  },
  {
   "cell_type": "code",
   "execution_count": null,
   "metadata": {
    "collapsed": true
   },
   "outputs": [],
   "source": [
    "#오일러 댓글 꼭 확인하기"
   ]
  },
  {
   "cell_type": "code",
   "execution_count": null,
   "metadata": {
    "collapsed": true
   },
   "outputs": [],
   "source": []
  }
 ],
 "metadata": {
  "kernelspec": {
   "display_name": "Python 2",
   "language": "python",
   "name": "python2"
  },
  "language_info": {
   "codemirror_mode": {
    "name": "ipython",
    "version": 2
   },
   "file_extension": ".py",
   "mimetype": "text/x-python",
   "name": "python",
   "nbconvert_exporter": "python",
   "pygments_lexer": "ipython2",
   "version": "2.7.9"
  }
 },
 "nbformat": 4,
 "nbformat_minor": 0
}
