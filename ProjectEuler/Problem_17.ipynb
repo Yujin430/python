{
 "cells": [
  {
   "cell_type": "markdown",
   "metadata": {},
   "source": [
    "1부터 5까지의 숫자를 영어로 쓰면 one, two, three, four, five 이고,\n",
    "각 단어의 길이를 더하면 3 + 3 + 5 + 4 + 4 = 19 이므로 사용된 글자는 모두 19개입니다.\n",
    "\n",
    "1부터 1,000까지 영어로 썼을 때는 모두 몇 개의 글자를 사용해야 할까요?\n",
    "\n",
    "참고: 빈 칸이나 하이픈('-')은 셈에서 제외하며, 단어 사이의 and 는 셈에 넣습니다.\n",
    "  예를 들어 342를 영어로 쓰면 three hundred and forty-two 가 되어서 23 글자,\n",
    "  115 = one hundred and fifteen 의 경우에는 20 글자가 됩니다."
   ]
  },
  {
   "cell_type": "code",
   "execution_count": 20,
   "metadata": {
    "collapsed": false,
    "scrolled": false
   },
   "outputs": [
    {
     "name": "stdout",
     "output_type": "stream",
     "text": [
      "21124\n"
     ]
    }
   ],
   "source": [
    "#일의자리 수를 처리하는 함수, 백의자리수도 처리 가능\n",
    "def units_digit(n):\n",
    "    if(n==0):\n",
    "        return 0\n",
    "    if(n==1):\n",
    "        return len('one')\n",
    "    elif(n==2):\n",
    "        return len('two')\n",
    "    elif(n==3):\n",
    "        return len('three')\n",
    "    elif(n==4):\n",
    "        return len('four')\n",
    "    elif(n==5):\n",
    "        return len('five')\n",
    "    elif(n==6):\n",
    "        return len('six')\n",
    "    elif(n==7):\n",
    "        return len('seven')\n",
    "    elif(n==8):\n",
    "        return len('eight')\n",
    "    else:\n",
    "        return len('nine')\n",
    "#십의자리 수를 처리하는 함수\n",
    "def tens_digit(n):\n",
    "    if(n==0):\n",
    "        return 0\n",
    "    if(n==2):\n",
    "        return len('twenty')\n",
    "    elif(n==3):\n",
    "        return len('thirty')\n",
    "    elif(n==4):\n",
    "        return len('forty')\n",
    "    elif(n==5):\n",
    "        return len('fifty')\n",
    "    elif(n==6):\n",
    "        return len('sixty')\n",
    "    elif(n==7):\n",
    "        return len('seventy')\n",
    "    elif(n==8):\n",
    "        return len('eighty')\n",
    "    else:\n",
    "        return len('ninety')\n",
    "#10~19를 처리하는 함수\n",
    "def ten_to_nineteen(n):\n",
    "    if(n==0):\n",
    "        return len('ten')\n",
    "    elif(n==1):\n",
    "        return len('eleven')\n",
    "    elif(n==2):\n",
    "        return len('twelve')\n",
    "    elif(n==3):\n",
    "        return len('thirteen')\n",
    "    elif(n==4):\n",
    "        return len('fourteen')\n",
    "    elif(n==5):\n",
    "        return len('fifteen')\n",
    "    elif(n==6):\n",
    "        return len('sixteen')\n",
    "    elif(n==7):\n",
    "        return len('seventeen')\n",
    "    elif(n==8):\n",
    "        return len('eighteen')\n",
    "    else:\n",
    "        return len('nineteen')\n",
    "    \n",
    "NUM=1000\n",
    "length_of_word = 0\n",
    "for i in range(1,NUM+1):\n",
    "    if(len(str(i))==1):#한자리 수\n",
    "        length_of_word+=units_digit(i)#일의 자리 수 처리\n",
    "    elif(len(str(i))==2):#두자리 수\n",
    "        if(int(str(i)[0])==1):#십의자리 수가 1이면,\n",
    "            length_of_word+=ten_to_nineteen(int(str(i)[1]))#10~19까지의 단어 처리\n",
    "        else:#십의자리 수가 1이 아니면,\n",
    "            length_of_word+=tens_digit(int(str(i)[0]))#십의자리 수 처리\n",
    "            length_of_word+=units_digit(int(str(i)[1]))#일의자리 수 처리\n",
    "    elif(len(str(i))==3):#세자리 수\n",
    "        if(int(str(i)[1])==1):#십의자리 수가 1이면\n",
    "            length_of_word+=units_digit(int(str(i)[0]))#백의자리 수 처리\n",
    "            length_of_word+=len('hundred'+'and')#hundred와 and의 길이를 더해줌\n",
    "            length_of_word+=ten_to_nineteen(int(str(i)[2]))#10~19까지의 단어 처리\n",
    "        else:#십의자리 수가 1이 아니면\n",
    "            if(int(str(i)[1])==0 and int(str(i)[2])==0):#십의자리,일의자리가 모두 0일때 \n",
    "                length_of_word+=units_digit(int(str(i)[0]))#백의자리 수 처리\n",
    "                length_of_word+=len('hundred')#hundred의 길이를 더해줌\n",
    "            else:#십의자리나 일의자리중 하나라도 0이 아닐때,\n",
    "                length_of_word+=units_digit(int(str(i)[0]))#백의자리 수 처리\n",
    "                length_of_word+=len('hundred'+'and')#hundred와 and의 길이를 더해줌\n",
    "                length_of_word+=tens_digit(int(str(i)[1]))#십의자리 수 처리\n",
    "                length_of_word+=units_digit(int(str(i)[2]))#일의자리 수 처리\n",
    "    else:#네자리 수(1000)\n",
    "        length_of_word+=len('one'+'thousand')#one과 thousand의 길이를 더해줌\n",
    "        \n",
    "print length_of_word"
   ]
  },
  {
   "cell_type": "code",
   "execution_count": null,
   "metadata": {
    "collapsed": true
   },
   "outputs": [],
   "source": []
  }
 ],
 "metadata": {
  "kernelspec": {
   "display_name": "Python 2",
   "language": "python",
   "name": "python2"
  },
  "language_info": {
   "codemirror_mode": {
    "name": "ipython",
    "version": 2
   },
   "file_extension": ".py",
   "mimetype": "text/x-python",
   "name": "python",
   "nbconvert_exporter": "python",
   "pygments_lexer": "ipython2",
   "version": "2.7.9"
  }
 },
 "nbformat": 4,
 "nbformat_minor": 0
}
