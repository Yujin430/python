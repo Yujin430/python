{
 "cells": [
  {
   "cell_type": "code",
   "execution_count": 1,
   "metadata": {
    "collapsed": false
   },
   "outputs": [
    {
     "ename": "NameError",
     "evalue": "name 'min_tri' is not defined",
     "output_type": "error",
     "traceback": [
      "\u001b[1;31m---------------------------------------------------------------------------\u001b[0m",
      "\u001b[1;31mNameError\u001b[0m                                 Traceback (most recent call last)",
      "\u001b[1;32m<ipython-input-1-6a2c38cda90f>\u001b[0m in \u001b[0;36m<module>\u001b[1;34m()\u001b[0m\n\u001b[0;32m     16\u001b[0m             \u001b[1;32mif\u001b[0m\u001b[1;33m(\u001b[0m\u001b[0mcount\u001b[0m\u001b[1;33m>=\u001b[0m\u001b[0mn\u001b[0m\u001b[1;33m)\u001b[0m\u001b[1;33m:\u001b[0m\u001b[1;33m\u001b[0m\u001b[0m\n\u001b[0;32m     17\u001b[0m                 \u001b[1;32mreturn\u001b[0m \u001b[0mi\u001b[0m\u001b[1;33m\u001b[0m\u001b[0m\n\u001b[1;32m---> 18\u001b[1;33m \u001b[1;32mprint\u001b[0m \u001b[0mmin_tri\u001b[0m\u001b[1;33m(\u001b[0m\u001b[1;36m500\u001b[0m\u001b[1;33m)\u001b[0m\u001b[1;33m\u001b[0m\u001b[0m\n\u001b[0m\u001b[0;32m     19\u001b[0m \u001b[1;31m#여전히 완전 빠른건 아니지만 그래도 500에서 결과가 출력되는게 어디....ㅠㅠ\u001b[0m\u001b[1;33m\u001b[0m\u001b[1;33m\u001b[0m\u001b[0m\n",
      "\u001b[1;31mNameError\u001b[0m: name 'min_tri' is not defined"
     ]
    }
   ],
   "source": [
    "#12\n",
    "import math\n",
    "def freind_num(n):\n",
    "    L= [((k*(k+1))/2) for k in range(n*n)]\n",
    "    for i in L:\n",
    "        count = 0\n",
    "        temp = (int)(math.sqrt(i))\n",
    "        for j in range(temp,0,-1):\n",
    "            if(i%j==0):\n",
    "                if(j<(i/j)):\n",
    "                    count+=2\n",
    "                elif(j==(i/j)):\n",
    "                    count+=1\n",
    "                else:\n",
    "                    break\n",
    "            if(count>=n):\n",
    "                return i\n",
    "print min_tri(500)\n",
    "#여전히 완전 빠른건 아니지만 그래도 500에서 결과가 출력되는게 어디....ㅠㅠ"
   ]
  },
  {
   "cell_type": "code",
   "execution_count": 4,
   "metadata": {
    "collapsed": false
   },
   "outputs": [
    {
     "name": "stdout",
     "output_type": "stream",
     "text": [
      "31626\n"
     ]
    }
   ],
   "source": [
    "import math\n",
    "def Divisor_SUM(MAX):\n",
    "    divisor_sum = []\n",
    "    for i in range(0,MAX+1):\n",
    "        divisor_sum.append(0)\n",
    "    for i in range(2,MAX+1):#만 이하의 수들에 대하여\n",
    "        temp = (int)(math.sqrt(i))\n",
    "        for j in range(temp,0,-1):\n",
    "            if(i%j==0):\n",
    "                if(j<(i/j)):\n",
    "                    divisor_sum[i]+=j\n",
    "                    if(j!=1):\n",
    "                        divisor_sum[i]+=i/j\n",
    "                elif(j==(i/j)):\n",
    "                    divisor_sum[i]+=j\n",
    "                else:\n",
    "                    break\n",
    "    return divisor_sum\n",
    "Max=10000\n",
    "arr = Divisor_SUM(Max)\n",
    "FriendNUM=[]\n",
    "for num in arr:\n",
    "    if(num==1 or num in FriendNUM):\n",
    "        continue\n",
    "    if(num<=10000 and arr[num]<=10000 and arr[arr[num]]==num):\n",
    "        if(arr[num]!=num):\n",
    "            FriendNUM.append(num)\n",
    "            FriendNUM.append(arr[num])\n",
    "#print FriendNUM\n",
    "print sum(FriendNUM)"
   ]
  },
  {
   "cell_type": "code",
   "execution_count": null,
   "metadata": {
    "collapsed": true
   },
   "outputs": [],
   "source": []
  }
 ],
 "metadata": {
  "kernelspec": {
   "display_name": "Python 2",
   "language": "python",
   "name": "python2"
  }
 },
 "nbformat": 4,
 "nbformat_minor": 0
}
