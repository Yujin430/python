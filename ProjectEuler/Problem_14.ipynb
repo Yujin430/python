{
 "cells": [
  {
   "cell_type": "markdown",
   "metadata": {},
   "source": [
    "양의 정수 n에 대하여, 다음과 같은 계산 과정을 반복하기로 합니다.\n",
    "\n",
    "n → n / 2 (n이 짝수일 때)\n",
    "n → 3 n + 1 (n이 홀수일 때)\n",
    "\n",
    "13에 대하여 위의 규칙을 적용해보면 아래처럼 10번의 과정을 통해 1이 됩니다.\n",
    "\n",
    "13 → 40 → 20 → 10 → 5 → 16 → 8 → 4 → 2 → 1\n",
    "아직 증명은 되지 않았지만, 이런 과정을 거치면 어떤 수로 시작해도 마지막에는 1로 끝나리라 생각됩니다. \n",
    "(역주: 이것은 콜라츠 추측 Collatz Conjecture이라고 하며, 이런 수들을 우박수 hailstone sequence라 부르기도 합니다)\n",
    "\n",
    "그러면, 백만(1,000,000) 이하의 수로 시작했을 때 1까지 도달하는데 가장 긴 과정을 거치는 숫자는 얼마입니까?\n",
    "\n",
    "참고: 계산 과정 도중에는 숫자가 백만을 넘어가도 괜찮습니다."
   ]
  },
  {
   "cell_type": "code",
   "execution_count": 2,
   "metadata": {
    "collapsed": false
   },
   "outputs": [
    {
     "name": "stdout",
     "output_type": "stream",
     "text": [
      "837799\n"
     ]
    }
   ],
   "source": [
    "max_count=0\n",
    "max_num=0\n",
    "for i in range(1,1000001):\n",
    "    n=i\n",
    "    count=0\n",
    "    while(n!=1):\n",
    "        if(n%2==0):\n",
    "            n=n/2\n",
    "        else:\n",
    "            n=3*n+1\n",
    "        count+=1\n",
    "    if(count>max_count):\n",
    "        max_count=count\n",
    "        max_num=i\n",
    "print max_num\n",
    "#느리기는 하지만 어쨌든 되기는 함"
   ]
  },
  {
   "cell_type": "code",
   "execution_count": null,
   "metadata": {
    "collapsed": true
   },
   "outputs": [],
   "source": []
  }
 ],
 "metadata": {
  "kernelspec": {
   "display_name": "Python 2",
   "language": "python",
   "name": "python2"
  },
  "language_info": {
   "codemirror_mode": {
    "name": "ipython",
    "version": 2
   },
   "file_extension": ".py",
   "mimetype": "text/x-python",
   "name": "python",
   "nbconvert_exporter": "python",
   "pygments_lexer": "ipython2",
   "version": "2.7.9"
  }
 },
 "nbformat": 4,
 "nbformat_minor": 0
}
