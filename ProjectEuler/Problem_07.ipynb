{
 "cells": [
  {
   "cell_type": "markdown",
   "metadata": {},
   "source": [
    "소수를 크기 순으로 나열하면 2, 3, 5, 7, 11, 13, ... 과 같이 됩니다.\n",
    "\n",
    "이 때 10,001번째의 소수를 구하세요."
   ]
  },
  {
   "cell_type": "code",
   "execution_count": 4,
   "metadata": {
    "collapsed": false
   },
   "outputs": [
    {
     "name": "stdout",
     "output_type": "stream",
     "text": [
      "13\n"
     ]
    }
   ],
   "source": [
    "i=1\n",
    "j=3\n",
    "temp=0\n",
    "primenum=0\n",
    "while(i!=6):\n",
    "    temp=0\n",
    "    for k in range(2,j):\n",
    "        if(j%k==0):\n",
    "            temp+=1\n",
    "            break\n",
    "    if(temp==0):\n",
    "        primenum=j\n",
    "        i+=1\n",
    "    j+=1\n",
    "print primenum\n",
    "\n",
    "#작은수는 되는데 큰수로 가면 에러가 떠버림.."
   ]
  },
  {
   "cell_type": "code",
   "execution_count": 16,
   "metadata": {
    "collapsed": false
   },
   "outputs": [
    {
     "name": "stdout",
     "output_type": "stream",
     "text": [
      "104743\n"
     ]
    }
   ],
   "source": [
    "i=1\n",
    "j=3\n",
    "temp=0\n",
    "primenum=0\n",
    "while(i!=10001):\n",
    "    temp=0\n",
    "    for k in range(2,j):\n",
    "        if(j%k==0):\n",
    "            temp+=1\n",
    "            break\n",
    "    if(temp==0):\n",
    "        primenum=j\n",
    "        i+=1\n",
    "    j+=1\n",
    "print primenum\n",
    "\n",
    "#작은수는 되는데 큰수로 가면 에러가 떠버림..\n",
    "#아니다 오래 걸리기는 해도 되기는 함!!"
   ]
  },
  {
   "cell_type": "code",
   "execution_count": null,
   "metadata": {
    "collapsed": true
   },
   "outputs": [],
   "source": []
  }
 ],
 "metadata": {
  "kernelspec": {
   "display_name": "Python 2",
   "language": "python",
   "name": "python2"
  },
  "language_info": {
   "codemirror_mode": {
    "name": "ipython",
    "version": 2
   },
   "file_extension": ".py",
   "mimetype": "text/x-python",
   "name": "python",
   "nbconvert_exporter": "python",
   "pygments_lexer": "ipython2",
   "version": "2.7.9"
  }
 },
 "nbformat": 4,
 "nbformat_minor": 0
}
