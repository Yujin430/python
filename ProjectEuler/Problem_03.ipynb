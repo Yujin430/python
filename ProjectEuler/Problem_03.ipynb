{
 "cells": [
  {
   "cell_type": "code",
   "execution_count": 25,
   "metadata": {
    "collapsed": false
   },
   "outputs": [],
   "source": [
    "num=13195\n",
    "\"\"\" \n",
    "for i in range(num-1,1,-1):\n",
    "    if(num%i==0):\n",
    "        tmp=0\n",
    "        for j in range(i-1, 2, -1):\n",
    "            if(i%j==0):\n",
    "                tmp=1\n",
    "                break\n",
    "        if(tmp==0):\n",
    "            print i\n",
    "            break\n",
    "\"\"\"\n",
    "\"\"\"\n",
    "i=num-1\n",
    "while (i>1):\n",
    "    tmp=0\n",
    "    if(num%i==0):\n",
    "        j=i-1\n",
    "        while(j>1):\n",
    "            if(i%j==0):\n",
    "                tmp=1\n",
    "                break\n",
    "            j-=1\n",
    "        if(tmp==0):\n",
    "            print i\n",
    "            break\n",
    "    i-=1\n",
    "\"\"\"\"\"\"\n",
    "i=num-1\n",
    "while(i>1):\n",
    "    if(num%i==0):\n",
    "        tmp=0\n",
    "        #i가 소수인지 판단\n",
    "        for j in range(2,i):\n",
    "            if(i%j==0):\n",
    "                tmp=1\n",
    "                break\n",
    "                \n",
    "        if(tmp==0):\n",
    "            print i\n",
    "            break\n",
    "    i=i-1\n",
    "    \"\"\"\n"
   ]
  },
  {
   "cell_type": "code",
   "execution_count": 31,
   "metadata": {
    "collapsed": false
   },
   "outputs": [
    {
     "name": "stdout",
     "output_type": "stream",
     "text": [
      "6857\n"
     ]
    }
   ],
   "source": [
    "num=600851475143\n",
    "\n",
    "i=2\n",
    "temp=num\n",
    "while(i<num):#다 확인하면 너무 오래걸려ㅠㅠㅠ\n",
    "    while(temp%i==0):\n",
    "        temp=temp/i\n",
    "    if(temp==1):\n",
    "        print i\n",
    "        break\n",
    "    i+=1"
   ]
  },
  {
   "cell_type": "code",
   "execution_count": null,
   "metadata": {
    "collapsed": true
   },
   "outputs": [],
   "source": []
  }
 ],
 "metadata": {
  "kernelspec": {
   "display_name": "Python 2",
   "language": "python",
   "name": "python2"
  },
  "language_info": {
   "codemirror_mode": {
    "name": "ipython",
    "version": 2
   },
   "file_extension": ".py",
   "mimetype": "text/x-python",
   "name": "python",
   "nbconvert_exporter": "python",
   "pygments_lexer": "ipython2",
   "version": "2.7.9"
  }
 },
 "nbformat": 4,
 "nbformat_minor": 0
}
