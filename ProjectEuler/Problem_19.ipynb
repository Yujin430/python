{
 "cells": [
  {
   "cell_type": "markdown",
   "metadata": {},
   "source": [
    "다음은 달력에 관한 몇 가지 일반적인 정보입니다 (필요한 경우 좀 더 연구를 해 보셔도 좋습니다).\n",
    "\n",
    "  - 1900년 1월 1일은 월요일이다.\n",
    "  - 4월, 6월, 9월, 11월은 30일까지 있고, 1월, 3월, 5월, 7월, 8월, 10월, 12월은 31일까지 있다.\n",
    "  - 2월은 28일이지만, 윤년에는 29일까지 있다.\n",
    "  - 윤년은 연도를 4로 나누어 떨어지는 해를 말한다. 하지만 400으로 나누어 떨어지지 않는 매 100년째는 윤년이 아니며, 400으로 나누어 떨어지면 윤년이다\n",
    "\n",
    "\n",
    "20세기 (1901년 1월 1일 ~ 2000년 12월 31일) 에서, 매월 1일이 일요일인 경우는 총 몇 번입니까?"
   ]
  },
  {
   "cell_type": "code",
   "execution_count": 18,
   "metadata": {
    "collapsed": false
   },
   "outputs": [
    {
     "name": "stdout",
     "output_type": "stream",
     "text": [
      "171\n"
     ]
    }
   ],
   "source": [
    "#여기에서 1901년 1월 1일 전까지 요일 정하기.\n",
    "IsLeapYear = []\n",
    "for i in range(1901,2001):\n",
    "    if(i%4==0):\n",
    "        if(i%100==0 and i%400!=0):\n",
    "            #윤년 아님\n",
    "            IsLeapYear.append(False)\n",
    "        else:\n",
    "            #윤년\n",
    "            IsLeapYear.append(True)\n",
    "    else:#윤년아님\n",
    "        IsLeapYear.append(False)\n",
    "\n",
    "\n",
    "Date=1\n",
    "Date=(Date+365)%7\n",
    "#print Date #1901년 1월 1일은 화요일\n",
    "\n",
    "Count = 0#1일인 일요일 출현 횟수를 담을 변수 Count\n",
    "def countSUN(year,date,count):#매월 1일에 일요일인 경우를 세어 주는 함수\n",
    "    for i in range(1,13):\n",
    "        if(i==1 or i==3 or i==5 or i==7 or i==8 or i==10 or i==12):\n",
    "            date+=31\n",
    "        elif(i==4 or i==6 or i==9 or i==11):\n",
    "            date+=30\n",
    "        else:\n",
    "            if(year==True):\n",
    "                date+=29\n",
    "            else:\n",
    "                date+=28\n",
    "        if(date%7==0):\n",
    "            count+=1\n",
    "        date%=7\n",
    "    return (date, count)\n",
    "\n",
    "\n",
    "for Year in IsLeapYear:\n",
    "    (Date, Count) = countSUN(Year,Date,Count)\n",
    "print Count"
   ]
  },
  {
   "cell_type": "code",
   "execution_count": null,
   "metadata": {
    "collapsed": true
   },
   "outputs": [],
   "source": []
  }
 ],
 "metadata": {
  "kernelspec": {
   "display_name": "Python 2",
   "language": "python",
   "name": "python2"
  },
  "language_info": {
   "codemirror_mode": {
    "name": "ipython",
    "version": 2
   },
   "file_extension": ".py",
   "mimetype": "text/x-python",
   "name": "python",
   "nbconvert_exporter": "python",
   "pygments_lexer": "ipython2",
   "version": "2.7.9"
  }
 },
 "nbformat": 4,
 "nbformat_minor": 0
}
